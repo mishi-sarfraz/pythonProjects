{
 "cells": [
  {
   "attachments": {},
   "cell_type": "markdown",
   "metadata": {},
   "source": [
    "# Import necessary Libraries and dataset"
   ]
  },
  {
   "cell_type": "code",
   "execution_count": 1,
   "metadata": {},
   "outputs": [],
   "source": [
    "#  read data from excel file\n",
    "import pandas as pd\n",
    "import numpy as np\n",
    "import matplotlib.pyplot as plt\n",
    "import seaborn as sns\n",
    "\n",
    "data= pd.read_excel('J:\\\\SATS\\\\20230126 SATS Sep-Oct data with success-bays-actual_time.xlsx', sheet_name='Sheet3',parse_dates=['Actual_Connection_Time'])"
   ]
  },
  {
   "cell_type": "code",
   "execution_count": 2,
   "metadata": {},
   "outputs": [
    {
     "data": {
      "text/plain": [
       "Index(['ArrivalFlight', 'ORIGIN', 'Arrival_Gate', 'SIBTDateTimeOffset',\n",
       "       'ArrivalFlight & Date', 'ArrFlt_SIBT', 'SIBT', 'Day in Week',\n",
       "       'EIBTDateTimeOffset', 'EIBT', 'AIBTDateTimeOffset', 'AIBT',\n",
       "       'DepartureFlight', 'Dep_Gate', 'DepartureFlight & Date', 'DESTINATION',\n",
       "       'SOBTDateTimeOffset', 'SOBT', 'EOBTDateTimeOffset',\n",
       "       'Flight_Departure_Time', 'EOBT', 'AOBTDateTimeOffset', 'AOBT',\n",
       "       'Actual_Connection_Time', 'ID', 'AdultFirstBookedCount',\n",
       "       'ChildFirstBookedCount', 'InfantFirstBookedCount',\n",
       "       'AdultBusinessBookedCount', 'ChildBusinessBookedCount',\n",
       "       'InfantBusinessBookedCount', 'AdultPremiumBookedCount',\n",
       "       'ChildPremiumBookedCount', 'InfantPremiumBookedCount',\n",
       "       'AdultEconomyBookedCount', 'ChildEconomyBookedCount',\n",
       "       'InfantEconomyBookedCount', 'EOBT2', 'ConnectTime (SOBT-SIBT)',\n",
       "       'ConnectTime (EOBT-EIBT)', 'Duration', 'Protection_Cost',\n",
       "       'AdultFirstAcceptedCount', 'ChildFirstAcceptedCount',\n",
       "       'InfantFirstAcceptedCount', 'AdultBusinessAcceptedCount',\n",
       "       'ChildBusinessAcceptedCount', 'InfantBusinessAcceptedCount',\n",
       "       'AdultPremiumAcceptedCount', 'ChildPremiumAcceptedCount',\n",
       "       'InfantPremiumAcceptedCount', 'AdultEconomyAcceptedCount',\n",
       "       'ChildEconomyAcceptedCount', 'InfantEconomyAcceptedCount',\n",
       "       'Accepted_Total', 'FirstClassBagCount', 'BusinessClassBagCount',\n",
       "       'PremiumClassBagCount', 'EconomyClassBagCount', 'Total_Bag_Count',\n",
       "       'FirstClassBagsWeight', 'BusinessClassBagsWeight',\n",
       "       'PremiumClassBagsWeight', 'SQPassengerCountInfo_ID', 'Missed_AF',\n",
       "       'Missed_CF', 'Missed_IF', 'Missed_AJ', 'Missed_CJ', 'Missed_IJ',\n",
       "       'Missed_APY', 'Missed_CPY', 'Missed_IPY', 'Missed_AY', 'Missed_CY',\n",
       "       'Missed_IY', 'Missed_Total', 'Missed_Y/N', '% Success'],\n",
       "      dtype='object')"
      ]
     },
     "execution_count": 2,
     "metadata": {},
     "output_type": "execute_result"
    }
   ],
   "source": [
    "data.columns"
   ]
  },
  {
   "attachments": {},
   "cell_type": "markdown",
   "metadata": {},
   "source": [
    "# Take necessary columns"
   ]
  },
  {
   "cell_type": "code",
   "execution_count": 4,
   "metadata": {},
   "outputs": [],
   "source": [
    "datatemp=data[['ArrivalFlight','ORIGIN','SIBT','DESTINATION','Arrival_Gate','Dep_Gate','Actual_Connection_Time','% Success']]"
   ]
  },
  {
   "cell_type": "code",
   "execution_count": 6,
   "metadata": {},
   "outputs": [
    {
     "data": {
      "text/html": [
       "<div>\n",
       "<style scoped>\n",
       "    .dataframe tbody tr th:only-of-type {\n",
       "        vertical-align: middle;\n",
       "    }\n",
       "\n",
       "    .dataframe tbody tr th {\n",
       "        vertical-align: top;\n",
       "    }\n",
       "\n",
       "    .dataframe thead th {\n",
       "        text-align: right;\n",
       "    }\n",
       "</style>\n",
       "<table border=\"1\" class=\"dataframe\">\n",
       "  <thead>\n",
       "    <tr style=\"text-align: right;\">\n",
       "      <th></th>\n",
       "      <th>ArrivalFlight</th>\n",
       "      <th>ORIGIN</th>\n",
       "      <th>SIBT</th>\n",
       "      <th>DESTINATION</th>\n",
       "      <th>Arrival_Gate</th>\n",
       "      <th>Dep_Gate</th>\n",
       "      <th>Actual_Connection_Time</th>\n",
       "      <th>% Success</th>\n",
       "    </tr>\n",
       "  </thead>\n",
       "  <tbody>\n",
       "    <tr>\n",
       "      <th>0</th>\n",
       "      <td>SQ208</td>\n",
       "      <td>Melbourne</td>\n",
       "      <td>2022-09-30 16:15:00</td>\n",
       "      <td>London</td>\n",
       "      <td>B2</td>\n",
       "      <td>A2</td>\n",
       "      <td>2023-01-31 00:34:00</td>\n",
       "      <td>1.0</td>\n",
       "    </tr>\n",
       "    <tr>\n",
       "      <th>1</th>\n",
       "      <td>SQ208</td>\n",
       "      <td>Melbourne</td>\n",
       "      <td>2022-09-30 16:15:00</td>\n",
       "      <td>New Dehli</td>\n",
       "      <td>B2</td>\n",
       "      <td>A2</td>\n",
       "      <td>2023-01-31 00:34:00</td>\n",
       "      <td>1.0</td>\n",
       "    </tr>\n",
       "    <tr>\n",
       "      <th>2</th>\n",
       "      <td>SQ208</td>\n",
       "      <td>Melbourne</td>\n",
       "      <td>2022-09-30 16:15:00</td>\n",
       "      <td>Manila</td>\n",
       "      <td>B2</td>\n",
       "      <td>A2</td>\n",
       "      <td>2023-01-31 00:34:00</td>\n",
       "      <td>0.0</td>\n",
       "    </tr>\n",
       "    <tr>\n",
       "      <th>3</th>\n",
       "      <td>SQ208</td>\n",
       "      <td>Melbourne</td>\n",
       "      <td>2022-09-30 16:15:00</td>\n",
       "      <td>Ahmedabad</td>\n",
       "      <td>B2</td>\n",
       "      <td>A2</td>\n",
       "      <td>2023-01-31 00:34:00</td>\n",
       "      <td>1.0</td>\n",
       "    </tr>\n",
       "    <tr>\n",
       "      <th>4</th>\n",
       "      <td>SQ208</td>\n",
       "      <td>Melbourne</td>\n",
       "      <td>2022-09-30 16:15:00</td>\n",
       "      <td>Seoul</td>\n",
       "      <td>B2</td>\n",
       "      <td>A2</td>\n",
       "      <td>2023-01-31 00:34:00</td>\n",
       "      <td>1.0</td>\n",
       "    </tr>\n",
       "  </tbody>\n",
       "</table>\n",
       "</div>"
      ],
      "text/plain": [
       "  ArrivalFlight     ORIGIN                SIBT DESTINATION Arrival_Gate  \\\n",
       "0         SQ208  Melbourne 2022-09-30 16:15:00      London           B2   \n",
       "1         SQ208  Melbourne 2022-09-30 16:15:00   New Dehli           B2   \n",
       "2         SQ208  Melbourne 2022-09-30 16:15:00      Manila           B2   \n",
       "3         SQ208  Melbourne 2022-09-30 16:15:00   Ahmedabad           B2   \n",
       "4         SQ208  Melbourne 2022-09-30 16:15:00       Seoul           B2   \n",
       "\n",
       "  Dep_Gate Actual_Connection_Time  % Success  \n",
       "0       A2    2023-01-31 00:34:00        1.0  \n",
       "1       A2    2023-01-31 00:34:00        1.0  \n",
       "2       A2    2023-01-31 00:34:00        0.0  \n",
       "3       A2    2023-01-31 00:34:00        1.0  \n",
       "4       A2    2023-01-31 00:34:00        1.0  "
      ]
     },
     "execution_count": 6,
     "metadata": {},
     "output_type": "execute_result"
    }
   ],
   "source": [
    "datatemp.head()"
   ]
  },
  {
   "cell_type": "code",
   "execution_count": 7,
   "metadata": {},
   "outputs": [
    {
     "data": {
      "text/plain": [
       "ArrivalFlight                     object\n",
       "ORIGIN                            object\n",
       "SIBT                      datetime64[ns]\n",
       "DESTINATION                       object\n",
       "Arrival_Gate                      object\n",
       "Dep_Gate                          object\n",
       "Actual_Connection_Time    datetime64[ns]\n",
       "% Success                        float64\n",
       "dtype: object"
      ]
     },
     "execution_count": 7,
     "metadata": {},
     "output_type": "execute_result"
    }
   ],
   "source": [
    "#  Take all data where Actual_Connection_Time is greater than 60 minutes\n",
    "datatemp.dtypes"
   ]
  },
  {
   "cell_type": "code",
   "execution_count": 7,
   "metadata": {},
   "outputs": [
    {
     "name": "stderr",
     "output_type": "stream",
     "text": [
      "C:\\Users\\pc\\AppData\\Local\\Temp\\ipykernel_8048\\601241441.py:6: SettingWithCopyWarning: \n",
      "A value is trying to be set on a copy of a slice from a DataFrame.\n",
      "Try using .loc[row_indexer,col_indexer] = value instead\n",
      "\n",
      "See the caveats in the documentation: https://pandas.pydata.org/pandas-docs/stable/user_guide/indexing.html#returning-a-view-versus-a-copy\n",
      "  datatemp['Actual_Connection_Time1']=datatemp['Actual_Connection_Time'].dt.minute*60+datatemp['Actual_Connection_Time'].dt.second\n"
     ]
    }
   ],
   "source": [
    "#  convert Actual_Connection_Time to datetime\n",
    "# datatemp.tail()\n",
    "# take minutes from Actual_Connection_Time\n",
    "# convert actual time to seconds\n",
    "\n",
    "# datatemp['Actual_Connection_Time1']=datatemp['Actual_Connection_Time'].dt.minute*60+datatemp['Actual_Connection_Time'].dt.second\n",
    "\n",
    "\n",
    "# datatemp['Actual_Connection_Time1']=pd.to_datetime(datatemp['Actual_Connection_Time'], format='%Y-%m-%d %H:%M:%S')"
   ]
  },
  {
   "cell_type": "code",
   "execution_count": 8,
   "metadata": {},
   "outputs": [
    {
     "data": {
      "text/plain": [
       "(105700, 8)"
      ]
     },
     "execution_count": 8,
     "metadata": {},
     "output_type": "execute_result"
    }
   ],
   "source": [
    "# check number of rows\n",
    "datatemp.shape"
   ]
  },
  {
   "cell_type": "code",
   "execution_count": null,
   "metadata": {},
   "outputs": [],
   "source": [
    "# flightBay['Same Bay'] = (flightBay['StandPosition'].str[0].isin(['A','B']) & flightBay['StandPosition2'].str[0].isin(['A','B'])) | (flightBay['StandPosition'].str[0].isin(['C','D']) & flightBay['StandPosition2'].str[0].isin(['C','D'])) |(flightBay['StandPosition'].str[0].isin(['E','F']) & flightBay['StandPosition2'].str[0].isin(['E','F']))\n"
   ]
  },
  {
   "cell_type": "code",
   "execution_count": 30,
   "metadata": {},
   "outputs": [],
   "source": [
    "# save data to excel file\n",
    "datatemp.to_excel('J:\\\\SATS\\\\sixtyminutesSAS.xlsx', sheet_name='Sheet1')"
   ]
  },
  {
   "cell_type": "code",
   "execution_count": 9,
   "metadata": {},
   "outputs": [
    {
     "data": {
      "text/html": [
       "<div>\n",
       "<style scoped>\n",
       "    .dataframe tbody tr th:only-of-type {\n",
       "        vertical-align: middle;\n",
       "    }\n",
       "\n",
       "    .dataframe tbody tr th {\n",
       "        vertical-align: top;\n",
       "    }\n",
       "\n",
       "    .dataframe thead th {\n",
       "        text-align: right;\n",
       "    }\n",
       "</style>\n",
       "<table border=\"1\" class=\"dataframe\">\n",
       "  <thead>\n",
       "    <tr style=\"text-align: right;\">\n",
       "      <th></th>\n",
       "      <th></th>\n",
       "      <th></th>\n",
       "      <th></th>\n",
       "      <th>ORIGIN</th>\n",
       "      <th>SIBT</th>\n",
       "      <th>DESTINATION</th>\n",
       "      <th>Actual_Connection_Time</th>\n",
       "    </tr>\n",
       "    <tr>\n",
       "      <th>ArrivalFlight</th>\n",
       "      <th>Arrival_Gate</th>\n",
       "      <th>Dep_Gate</th>\n",
       "      <th>% Success</th>\n",
       "      <th></th>\n",
       "      <th></th>\n",
       "      <th></th>\n",
       "      <th></th>\n",
       "    </tr>\n",
       "  </thead>\n",
       "  <tbody>\n",
       "    <tr>\n",
       "      <th rowspan=\"3\" valign=\"top\">3K202</th>\n",
       "      <th>C16</th>\n",
       "      <th>B5</th>\n",
       "      <th>1.0</th>\n",
       "      <td>1</td>\n",
       "      <td>1</td>\n",
       "      <td>1</td>\n",
       "      <td>1</td>\n",
       "    </tr>\n",
       "    <tr>\n",
       "      <th>C17R</th>\n",
       "      <th>B5</th>\n",
       "      <th>1.0</th>\n",
       "      <td>1</td>\n",
       "      <td>1</td>\n",
       "      <td>1</td>\n",
       "      <td>1</td>\n",
       "    </tr>\n",
       "    <tr>\n",
       "      <th>D42L</th>\n",
       "      <th>B3</th>\n",
       "      <th>1.0</th>\n",
       "      <td>1</td>\n",
       "      <td>1</td>\n",
       "      <td>1</td>\n",
       "      <td>1</td>\n",
       "    </tr>\n",
       "    <tr>\n",
       "      <th>3K204</th>\n",
       "      <th>D40L</th>\n",
       "      <th>A2</th>\n",
       "      <th>0.0</th>\n",
       "      <td>1</td>\n",
       "      <td>1</td>\n",
       "      <td>1</td>\n",
       "      <td>1</td>\n",
       "    </tr>\n",
       "    <tr>\n",
       "      <th>3K206</th>\n",
       "      <th>C11</th>\n",
       "      <th>A13</th>\n",
       "      <th>1.0</th>\n",
       "      <td>1</td>\n",
       "      <td>1</td>\n",
       "      <td>1</td>\n",
       "      <td>1</td>\n",
       "    </tr>\n",
       "    <tr>\n",
       "      <th>...</th>\n",
       "      <th>...</th>\n",
       "      <th>...</th>\n",
       "      <th>...</th>\n",
       "      <td>...</td>\n",
       "      <td>...</td>\n",
       "      <td>...</td>\n",
       "      <td>...</td>\n",
       "    </tr>\n",
       "    <tr>\n",
       "      <th rowspan=\"4\" valign=\"top\">VN661</th>\n",
       "      <th rowspan=\"4\" valign=\"top\">G5</th>\n",
       "      <th>B2</th>\n",
       "      <th>0.0</th>\n",
       "      <td>2</td>\n",
       "      <td>2</td>\n",
       "      <td>2</td>\n",
       "      <td>2</td>\n",
       "    </tr>\n",
       "    <tr>\n",
       "      <th>F40</th>\n",
       "      <th>1.0</th>\n",
       "      <td>1</td>\n",
       "      <td>1</td>\n",
       "      <td>1</td>\n",
       "      <td>1</td>\n",
       "    </tr>\n",
       "    <tr>\n",
       "      <th>F58</th>\n",
       "      <th>1.0</th>\n",
       "      <td>1</td>\n",
       "      <td>1</td>\n",
       "      <td>1</td>\n",
       "      <td>1</td>\n",
       "    </tr>\n",
       "    <tr>\n",
       "      <th>F60</th>\n",
       "      <th>1.0</th>\n",
       "      <td>1</td>\n",
       "      <td>1</td>\n",
       "      <td>1</td>\n",
       "      <td>1</td>\n",
       "    </tr>\n",
       "    <tr>\n",
       "      <th>YP631</th>\n",
       "      <th>B2</th>\n",
       "      <th>C19</th>\n",
       "      <th>0.0</th>\n",
       "      <td>1</td>\n",
       "      <td>1</td>\n",
       "      <td>1</td>\n",
       "      <td>1</td>\n",
       "    </tr>\n",
       "  </tbody>\n",
       "</table>\n",
       "<p>27105 rows × 4 columns</p>\n",
       "</div>"
      ],
      "text/plain": [
       "                                               ORIGIN  SIBT  DESTINATION  \\\n",
       "ArrivalFlight Arrival_Gate Dep_Gate % Success                              \n",
       "3K202         C16          B5       1.0             1     1            1   \n",
       "              C17R         B5       1.0             1     1            1   \n",
       "              D42L         B3       1.0             1     1            1   \n",
       "3K204         D40L         A2       0.0             1     1            1   \n",
       "3K206         C11          A13      1.0             1     1            1   \n",
       "...                                               ...   ...          ...   \n",
       "VN661         G5           B2       0.0             2     2            2   \n",
       "                           F40      1.0             1     1            1   \n",
       "                           F58      1.0             1     1            1   \n",
       "                           F60      1.0             1     1            1   \n",
       "YP631         B2           C19      0.0             1     1            1   \n",
       "\n",
       "                                               Actual_Connection_Time  \n",
       "ArrivalFlight Arrival_Gate Dep_Gate % Success                          \n",
       "3K202         C16          B5       1.0                             1  \n",
       "              C17R         B5       1.0                             1  \n",
       "              D42L         B3       1.0                             1  \n",
       "3K204         D40L         A2       0.0                             1  \n",
       "3K206         C11          A13      1.0                             1  \n",
       "...                                                               ...  \n",
       "VN661         G5           B2       0.0                             2  \n",
       "                           F40      1.0                             1  \n",
       "                           F58      1.0                             1  \n",
       "                           F60      1.0                             1  \n",
       "YP631         B2           C19      0.0                             1  \n",
       "\n",
       "[27105 rows x 4 columns]"
      ]
     },
     "execution_count": 9,
     "metadata": {},
     "output_type": "execute_result"
    }
   ],
   "source": [
    "datatemp.groupby(['ArrivalFlight','Arrival_Gate','Dep_Gate','% Success']).count()"
   ]
  },
  {
   "cell_type": "code",
   "execution_count": 10,
   "metadata": {},
   "outputs": [],
   "source": [
    "#  group by Flight, Arrival_Gate, Dep_Gate, against success% values\n",
    "\n",
    "datatemp2=datatemp.groupby(['ArrivalFlight','Arrival_Gate','Dep_Gate','% Success'])['SIBT'].count()"
   ]
  },
  {
   "cell_type": "code",
   "execution_count": 11,
   "metadata": {},
   "outputs": [
    {
     "data": {
      "text/plain": [
       "ArrivalFlight  Arrival_Gate  Dep_Gate  % Success\n",
       "3K202          C16           B5        1.0          1\n",
       "               C17R          B5        1.0          1\n",
       "               D42L          B3        1.0          1\n",
       "3K204          D40L          A2        0.0          1\n",
       "3K206          C11           A13       1.0          1\n",
       "Name: SIBT, dtype: int64"
      ]
     },
     "execution_count": 11,
     "metadata": {},
     "output_type": "execute_result"
    }
   ],
   "source": [
    "datatemp2.head()"
   ]
  },
  {
   "cell_type": "code",
   "execution_count": 14,
   "metadata": {},
   "outputs": [],
   "source": [
    "datatemp1=datatemp.groupby(['Arrival_Gate','Dep_Gate','% Success']).count()"
   ]
  },
  {
   "cell_type": "code",
   "execution_count": 15,
   "metadata": {},
   "outputs": [
    {
     "data": {
      "text/plain": [
       "ArrivalFlight             124\n",
       "ORIGIN                    124\n",
       "SIBT                      124\n",
       "DESTINATION               124\n",
       "Actual_Connection_Time    124\n",
       "dtype: int64"
      ]
     },
     "execution_count": 15,
     "metadata": {},
     "output_type": "execute_result"
    }
   ],
   "source": [
    "datatemp1.nunique()"
   ]
  },
  {
   "cell_type": "code",
   "execution_count": 41,
   "metadata": {},
   "outputs": [
    {
     "data": {
      "text/plain": [
       "Arrival_Gate  Dep_Gate  % Success\n",
       "305           F42       0.0000        2\n",
       "A1            A12       0.8000        2\n",
       "                        0.9375        2\n",
       "                        1.0000       40\n",
       "              A14       0.0000        1\n",
       "Name: SIBT, dtype: int64"
      ]
     },
     "execution_count": 41,
     "metadata": {},
     "output_type": "execute_result"
    }
   ],
   "source": [
    "datatemp3.head()"
   ]
  },
  {
   "cell_type": "code",
   "execution_count": 16,
   "metadata": {},
   "outputs": [
    {
     "data": {
      "text/plain": [
       "Arrival_Gate  Dep_Gate  % Success\n",
       "301           A1        0.0          1\n",
       "                        1.0          1\n",
       "              A11       0.0          1\n",
       "                        1.0          1\n",
       "              A12       0.0          1\n",
       "                                    ..\n",
       "G5            B4        1.0          1\n",
       "              F40       1.0          1\n",
       "              F58       1.0          1\n",
       "              F60       1.0          1\n",
       "G8            A17       0.0          1\n",
       "Length: 18184, dtype: int64"
      ]
     },
     "execution_count": 16,
     "metadata": {},
     "output_type": "execute_result"
    }
   ],
   "source": [
    "datatemp1.groupby(['Arrival_Gate','Dep_Gate','% Success']).size()"
   ]
  },
  {
   "cell_type": "code",
   "execution_count": 43,
   "metadata": {},
   "outputs": [],
   "source": [
    "# #  save datatemp3 to excel file\n",
    "# datatemp3.to_excel('J:\\\\SATS\\\\sixtyminutesSAS1.xlsx', sheet_name='Sheet2')"
   ]
  },
  {
   "cell_type": "code",
   "execution_count": 39,
   "metadata": {},
   "outputs": [],
   "source": [
    "# #  save datatemp1 to excel file:\n",
    "# datatemp2.to_excel('J:\\\\SATS\\\\sixtyminutesgroupSAS.xlsx', sheet_name='Sheet1')"
   ]
  },
  {
   "attachments": {},
   "cell_type": "markdown",
   "metadata": {},
   "source": [
    "# sort the rows where connection time is less than 60 minutes"
   ]
  },
  {
   "cell_type": "code",
   "execution_count": 17,
   "metadata": {},
   "outputs": [
    {
     "name": "stderr",
     "output_type": "stream",
     "text": [
      "C:\\Users\\pc\\AppData\\Local\\Temp\\ipykernel_532\\3285314572.py:1: SettingWithCopyWarning: \n",
      "A value is trying to be set on a copy of a slice from a DataFrame.\n",
      "Try using .loc[row_indexer,col_indexer] = value instead\n",
      "\n",
      "See the caveats in the documentation: https://pandas.pydata.org/pandas-docs/stable/user_guide/indexing.html#returning-a-view-versus-a-copy\n",
      "  datatemp['Actual_Connection_Time_new']=datatemp['Actual_Connection_Time'].dt.hour*(60*60)+datatemp['Actual_Connection_Time'].dt.minute*60+datatemp['Actual_Connection_Time'].dt.second\n"
     ]
    },
    {
     "data": {
      "text/html": [
       "<div>\n",
       "<style scoped>\n",
       "    .dataframe tbody tr th:only-of-type {\n",
       "        vertical-align: middle;\n",
       "    }\n",
       "\n",
       "    .dataframe tbody tr th {\n",
       "        vertical-align: top;\n",
       "    }\n",
       "\n",
       "    .dataframe thead th {\n",
       "        text-align: right;\n",
       "    }\n",
       "</style>\n",
       "<table border=\"1\" class=\"dataframe\">\n",
       "  <thead>\n",
       "    <tr style=\"text-align: right;\">\n",
       "      <th></th>\n",
       "      <th>ArrivalFlight</th>\n",
       "      <th>ORIGIN</th>\n",
       "      <th>SIBT</th>\n",
       "      <th>DESTINATION</th>\n",
       "      <th>Arrival_Gate</th>\n",
       "      <th>Dep_Gate</th>\n",
       "      <th>Actual_Connection_Time</th>\n",
       "      <th>% Success</th>\n",
       "      <th>Actual_Connection_Time_new</th>\n",
       "    </tr>\n",
       "  </thead>\n",
       "  <tbody>\n",
       "    <tr>\n",
       "      <th>0</th>\n",
       "      <td>SQ208</td>\n",
       "      <td>Melbourne</td>\n",
       "      <td>2022-09-30 16:15:00</td>\n",
       "      <td>London</td>\n",
       "      <td>B2</td>\n",
       "      <td>A2</td>\n",
       "      <td>2023-01-31 00:34:00</td>\n",
       "      <td>1.0</td>\n",
       "      <td>2040</td>\n",
       "    </tr>\n",
       "    <tr>\n",
       "      <th>1</th>\n",
       "      <td>SQ208</td>\n",
       "      <td>Melbourne</td>\n",
       "      <td>2022-09-30 16:15:00</td>\n",
       "      <td>New Dehli</td>\n",
       "      <td>B2</td>\n",
       "      <td>A2</td>\n",
       "      <td>2023-01-31 00:34:00</td>\n",
       "      <td>1.0</td>\n",
       "      <td>2040</td>\n",
       "    </tr>\n",
       "    <tr>\n",
       "      <th>2</th>\n",
       "      <td>SQ208</td>\n",
       "      <td>Melbourne</td>\n",
       "      <td>2022-09-30 16:15:00</td>\n",
       "      <td>Manila</td>\n",
       "      <td>B2</td>\n",
       "      <td>A2</td>\n",
       "      <td>2023-01-31 00:34:00</td>\n",
       "      <td>0.0</td>\n",
       "      <td>2040</td>\n",
       "    </tr>\n",
       "    <tr>\n",
       "      <th>3</th>\n",
       "      <td>SQ208</td>\n",
       "      <td>Melbourne</td>\n",
       "      <td>2022-09-30 16:15:00</td>\n",
       "      <td>Ahmedabad</td>\n",
       "      <td>B2</td>\n",
       "      <td>A2</td>\n",
       "      <td>2023-01-31 00:34:00</td>\n",
       "      <td>1.0</td>\n",
       "      <td>2040</td>\n",
       "    </tr>\n",
       "    <tr>\n",
       "      <th>4</th>\n",
       "      <td>SQ208</td>\n",
       "      <td>Melbourne</td>\n",
       "      <td>2022-09-30 16:15:00</td>\n",
       "      <td>Seoul</td>\n",
       "      <td>B2</td>\n",
       "      <td>A2</td>\n",
       "      <td>2023-01-31 00:34:00</td>\n",
       "      <td>1.0</td>\n",
       "      <td>2040</td>\n",
       "    </tr>\n",
       "  </tbody>\n",
       "</table>\n",
       "</div>"
      ],
      "text/plain": [
       "  ArrivalFlight     ORIGIN                SIBT DESTINATION Arrival_Gate  \\\n",
       "0         SQ208  Melbourne 2022-09-30 16:15:00      London           B2   \n",
       "1         SQ208  Melbourne 2022-09-30 16:15:00   New Dehli           B2   \n",
       "2         SQ208  Melbourne 2022-09-30 16:15:00      Manila           B2   \n",
       "3         SQ208  Melbourne 2022-09-30 16:15:00   Ahmedabad           B2   \n",
       "4         SQ208  Melbourne 2022-09-30 16:15:00       Seoul           B2   \n",
       "\n",
       "  Dep_Gate Actual_Connection_Time  % Success  Actual_Connection_Time_new  \n",
       "0       A2    2023-01-31 00:34:00        1.0                        2040  \n",
       "1       A2    2023-01-31 00:34:00        1.0                        2040  \n",
       "2       A2    2023-01-31 00:34:00        0.0                        2040  \n",
       "3       A2    2023-01-31 00:34:00        1.0                        2040  \n",
       "4       A2    2023-01-31 00:34:00        1.0                        2040  "
      ]
     },
     "execution_count": 17,
     "metadata": {},
     "output_type": "execute_result"
    }
   ],
   "source": [
    "datatemp['Actual_Connection_Time_new']=datatemp['Actual_Connection_Time'].dt.hour*(60*60)+datatemp['Actual_Connection_Time'].dt.minute*60+datatemp['Actual_Connection_Time'].dt.second\n",
    "datatemp.head()"
   ]
  },
  {
   "attachments": {},
   "cell_type": "markdown",
   "metadata": {},
   "source": [
    "datatemp['Actual_Connection_Time_new']=datatemp['Actual_Connection_Time'].dt.hour*(60*60)+datatemp['Actual_Connection_Time'].dt.minute*60+datatemp['AActual_Connection_Time'].dt.second\n",
    "datatemp.head()"
   ]
  },
  {
   "cell_type": "code",
   "execution_count": 18,
   "metadata": {},
   "outputs": [
    {
     "data": {
      "text/plain": [
       "(105700,)"
      ]
     },
     "execution_count": 18,
     "metadata": {},
     "output_type": "execute_result"
    }
   ],
   "source": [
    "datatemp['Actual_Connection_Time_new'].shape"
   ]
  },
  {
   "cell_type": "code",
   "execution_count": 19,
   "metadata": {},
   "outputs": [],
   "source": [
    "# all data where Actual_Connection_Time is greater than 3600 seconds\n",
    "datatemp1=datatemp[datatemp['Actual_Connection_Time_new']<=3600]"
   ]
  },
  {
   "cell_type": "code",
   "execution_count": null,
   "metadata": {},
   "outputs": [],
   "source": []
  },
  {
   "cell_type": "code",
   "execution_count": 20,
   "metadata": {},
   "outputs": [
    {
     "data": {
      "text/plain": [
       "(4343, 9)"
      ]
     },
     "execution_count": 20,
     "metadata": {},
     "output_type": "execute_result"
    }
   ],
   "source": [
    "datatemp1.shape"
   ]
  },
  {
   "cell_type": "code",
   "execution_count": 21,
   "metadata": {},
   "outputs": [],
   "source": [
    "#  all rows where Actual_Connection_Time1 is greater than 60 \n",
    "datatemp1=datatemp[datatemp['Actual_Connection_Time_new']<3600]"
   ]
  },
  {
   "cell_type": "code",
   "execution_count": 22,
   "metadata": {},
   "outputs": [
    {
     "data": {
      "text/plain": [
       "(4103, 9)"
      ]
     },
     "execution_count": 22,
     "metadata": {},
     "output_type": "execute_result"
    }
   ],
   "source": [
    "datatemp1.shape"
   ]
  },
  {
   "cell_type": "code",
   "execution_count": null,
   "metadata": {},
   "outputs": [],
   "source": [
    "# save datatemp1\n",
    "datatemp1.to_excel('J:\\\\SATS\\\\data.xlsx')"
   ]
  },
  {
   "cell_type": "code",
   "execution_count": 23,
   "metadata": {},
   "outputs": [
    {
     "data": {
      "text/html": [
       "<div>\n",
       "<style scoped>\n",
       "    .dataframe tbody tr th:only-of-type {\n",
       "        vertical-align: middle;\n",
       "    }\n",
       "\n",
       "    .dataframe tbody tr th {\n",
       "        vertical-align: top;\n",
       "    }\n",
       "\n",
       "    .dataframe thead th {\n",
       "        text-align: right;\n",
       "    }\n",
       "</style>\n",
       "<table border=\"1\" class=\"dataframe\">\n",
       "  <thead>\n",
       "    <tr style=\"text-align: right;\">\n",
       "      <th></th>\n",
       "      <th>ArrivalFlight</th>\n",
       "      <th>ORIGIN</th>\n",
       "      <th>SIBT</th>\n",
       "      <th>DESTINATION</th>\n",
       "      <th>Arrival_Gate</th>\n",
       "      <th>Dep_Gate</th>\n",
       "      <th>Actual_Connection_Time</th>\n",
       "      <th>% Success</th>\n",
       "      <th>Actual_Connection_Time_new</th>\n",
       "    </tr>\n",
       "  </thead>\n",
       "  <tbody>\n",
       "    <tr>\n",
       "      <th>0</th>\n",
       "      <td>SQ208</td>\n",
       "      <td>Melbourne</td>\n",
       "      <td>2022-09-30 16:15:00</td>\n",
       "      <td>London</td>\n",
       "      <td>B2</td>\n",
       "      <td>A2</td>\n",
       "      <td>2023-01-31 00:34:00</td>\n",
       "      <td>1.0</td>\n",
       "      <td>2040</td>\n",
       "    </tr>\n",
       "    <tr>\n",
       "      <th>1</th>\n",
       "      <td>SQ208</td>\n",
       "      <td>Melbourne</td>\n",
       "      <td>2022-09-30 16:15:00</td>\n",
       "      <td>New Dehli</td>\n",
       "      <td>B2</td>\n",
       "      <td>A2</td>\n",
       "      <td>2023-01-31 00:34:00</td>\n",
       "      <td>1.0</td>\n",
       "      <td>2040</td>\n",
       "    </tr>\n",
       "    <tr>\n",
       "      <th>2</th>\n",
       "      <td>SQ208</td>\n",
       "      <td>Melbourne</td>\n",
       "      <td>2022-09-30 16:15:00</td>\n",
       "      <td>Manila</td>\n",
       "      <td>B2</td>\n",
       "      <td>A2</td>\n",
       "      <td>2023-01-31 00:34:00</td>\n",
       "      <td>0.0</td>\n",
       "      <td>2040</td>\n",
       "    </tr>\n",
       "    <tr>\n",
       "      <th>3</th>\n",
       "      <td>SQ208</td>\n",
       "      <td>Melbourne</td>\n",
       "      <td>2022-09-30 16:15:00</td>\n",
       "      <td>Ahmedabad</td>\n",
       "      <td>B2</td>\n",
       "      <td>A2</td>\n",
       "      <td>2023-01-31 00:34:00</td>\n",
       "      <td>1.0</td>\n",
       "      <td>2040</td>\n",
       "    </tr>\n",
       "    <tr>\n",
       "      <th>4</th>\n",
       "      <td>SQ208</td>\n",
       "      <td>Melbourne</td>\n",
       "      <td>2022-09-30 16:15:00</td>\n",
       "      <td>Seoul</td>\n",
       "      <td>B2</td>\n",
       "      <td>A2</td>\n",
       "      <td>2023-01-31 00:34:00</td>\n",
       "      <td>1.0</td>\n",
       "      <td>2040</td>\n",
       "    </tr>\n",
       "  </tbody>\n",
       "</table>\n",
       "</div>"
      ],
      "text/plain": [
       "  ArrivalFlight     ORIGIN                SIBT DESTINATION Arrival_Gate  \\\n",
       "0         SQ208  Melbourne 2022-09-30 16:15:00      London           B2   \n",
       "1         SQ208  Melbourne 2022-09-30 16:15:00   New Dehli           B2   \n",
       "2         SQ208  Melbourne 2022-09-30 16:15:00      Manila           B2   \n",
       "3         SQ208  Melbourne 2022-09-30 16:15:00   Ahmedabad           B2   \n",
       "4         SQ208  Melbourne 2022-09-30 16:15:00       Seoul           B2   \n",
       "\n",
       "  Dep_Gate Actual_Connection_Time  % Success  Actual_Connection_Time_new  \n",
       "0       A2    2023-01-31 00:34:00        1.0                        2040  \n",
       "1       A2    2023-01-31 00:34:00        1.0                        2040  \n",
       "2       A2    2023-01-31 00:34:00        0.0                        2040  \n",
       "3       A2    2023-01-31 00:34:00        1.0                        2040  \n",
       "4       A2    2023-01-31 00:34:00        1.0                        2040  "
      ]
     },
     "execution_count": 23,
     "metadata": {},
     "output_type": "execute_result"
    }
   ],
   "source": [
    "datatemp1.head()"
   ]
  },
  {
   "cell_type": "code",
   "execution_count": 24,
   "metadata": {},
   "outputs": [
    {
     "data": {
      "text/plain": [
       "ArrivalFlight                         object\n",
       "ORIGIN                                object\n",
       "SIBT                          datetime64[ns]\n",
       "DESTINATION                           object\n",
       "Arrival_Gate                          object\n",
       "Dep_Gate                              object\n",
       "Actual_Connection_Time        datetime64[ns]\n",
       "% Success                            float64\n",
       "Actual_Connection_Time_new             int64\n",
       "dtype: object"
      ]
     },
     "execution_count": 24,
     "metadata": {},
     "output_type": "execute_result"
    }
   ],
   "source": [
    "datatemp1.dtypes"
   ]
  },
  {
   "cell_type": "code",
   "execution_count": 25,
   "metadata": {},
   "outputs": [
    {
     "data": {
      "text/html": [
       "<div>\n",
       "<style scoped>\n",
       "    .dataframe tbody tr th:only-of-type {\n",
       "        vertical-align: middle;\n",
       "    }\n",
       "\n",
       "    .dataframe tbody tr th {\n",
       "        vertical-align: top;\n",
       "    }\n",
       "\n",
       "    .dataframe thead th {\n",
       "        text-align: right;\n",
       "    }\n",
       "</style>\n",
       "<table border=\"1\" class=\"dataframe\">\n",
       "  <thead>\n",
       "    <tr style=\"text-align: right;\">\n",
       "      <th></th>\n",
       "      <th>ArrivalFlight</th>\n",
       "      <th>ORIGIN</th>\n",
       "      <th>SIBT</th>\n",
       "      <th>DESTINATION</th>\n",
       "      <th>Arrival_Gate</th>\n",
       "      <th>Dep_Gate</th>\n",
       "      <th>Actual_Connection_Time</th>\n",
       "      <th>% Success</th>\n",
       "      <th>Actual_Connection_Time_new</th>\n",
       "    </tr>\n",
       "  </thead>\n",
       "  <tbody>\n",
       "    <tr>\n",
       "      <th>0</th>\n",
       "      <td>SQ208</td>\n",
       "      <td>Melbourne</td>\n",
       "      <td>2022-09-30 16:15:00</td>\n",
       "      <td>London</td>\n",
       "      <td>B2</td>\n",
       "      <td>A2</td>\n",
       "      <td>2023-01-31 00:34:00</td>\n",
       "      <td>1.0</td>\n",
       "      <td>2040</td>\n",
       "    </tr>\n",
       "    <tr>\n",
       "      <th>1</th>\n",
       "      <td>SQ208</td>\n",
       "      <td>Melbourne</td>\n",
       "      <td>2022-09-30 16:15:00</td>\n",
       "      <td>New Dehli</td>\n",
       "      <td>B2</td>\n",
       "      <td>A2</td>\n",
       "      <td>2023-01-31 00:34:00</td>\n",
       "      <td>1.0</td>\n",
       "      <td>2040</td>\n",
       "    </tr>\n",
       "    <tr>\n",
       "      <th>2</th>\n",
       "      <td>SQ208</td>\n",
       "      <td>Melbourne</td>\n",
       "      <td>2022-09-30 16:15:00</td>\n",
       "      <td>Manila</td>\n",
       "      <td>B2</td>\n",
       "      <td>A2</td>\n",
       "      <td>2023-01-31 00:34:00</td>\n",
       "      <td>0.0</td>\n",
       "      <td>2040</td>\n",
       "    </tr>\n",
       "    <tr>\n",
       "      <th>3</th>\n",
       "      <td>SQ208</td>\n",
       "      <td>Melbourne</td>\n",
       "      <td>2022-09-30 16:15:00</td>\n",
       "      <td>Ahmedabad</td>\n",
       "      <td>B2</td>\n",
       "      <td>A2</td>\n",
       "      <td>2023-01-31 00:34:00</td>\n",
       "      <td>1.0</td>\n",
       "      <td>2040</td>\n",
       "    </tr>\n",
       "    <tr>\n",
       "      <th>4</th>\n",
       "      <td>SQ208</td>\n",
       "      <td>Melbourne</td>\n",
       "      <td>2022-09-30 16:15:00</td>\n",
       "      <td>Seoul</td>\n",
       "      <td>B2</td>\n",
       "      <td>A2</td>\n",
       "      <td>2023-01-31 00:34:00</td>\n",
       "      <td>1.0</td>\n",
       "      <td>2040</td>\n",
       "    </tr>\n",
       "  </tbody>\n",
       "</table>\n",
       "</div>"
      ],
      "text/plain": [
       "  ArrivalFlight     ORIGIN                SIBT DESTINATION Arrival_Gate  \\\n",
       "0         SQ208  Melbourne 2022-09-30 16:15:00      London           B2   \n",
       "1         SQ208  Melbourne 2022-09-30 16:15:00   New Dehli           B2   \n",
       "2         SQ208  Melbourne 2022-09-30 16:15:00      Manila           B2   \n",
       "3         SQ208  Melbourne 2022-09-30 16:15:00   Ahmedabad           B2   \n",
       "4         SQ208  Melbourne 2022-09-30 16:15:00       Seoul           B2   \n",
       "\n",
       "  Dep_Gate Actual_Connection_Time  % Success  Actual_Connection_Time_new  \n",
       "0       A2    2023-01-31 00:34:00        1.0                        2040  \n",
       "1       A2    2023-01-31 00:34:00        1.0                        2040  \n",
       "2       A2    2023-01-31 00:34:00        0.0                        2040  \n",
       "3       A2    2023-01-31 00:34:00        1.0                        2040  \n",
       "4       A2    2023-01-31 00:34:00        1.0                        2040  "
      ]
     },
     "execution_count": 25,
     "metadata": {},
     "output_type": "execute_result"
    }
   ],
   "source": [
    "datatemp1.head()"
   ]
  },
  {
   "cell_type": "code",
   "execution_count": 75,
   "metadata": {},
   "outputs": [],
   "source": [
    "#  save file to csv\n",
    "datatemp1.to_csv('J:\\\\SATS\\\\sixtyminutesSAS1.csv')\n"
   ]
  },
  {
   "cell_type": "code",
   "execution_count": 26,
   "metadata": {},
   "outputs": [
    {
     "data": {
      "text/html": [
       "<div>\n",
       "<style scoped>\n",
       "    .dataframe tbody tr th:only-of-type {\n",
       "        vertical-align: middle;\n",
       "    }\n",
       "\n",
       "    .dataframe tbody tr th {\n",
       "        vertical-align: top;\n",
       "    }\n",
       "\n",
       "    .dataframe thead th {\n",
       "        text-align: right;\n",
       "    }\n",
       "</style>\n",
       "<table border=\"1\" class=\"dataframe\">\n",
       "  <thead>\n",
       "    <tr style=\"text-align: right;\">\n",
       "      <th></th>\n",
       "      <th>ArrivalFlight</th>\n",
       "      <th>ORIGIN</th>\n",
       "      <th>SIBT</th>\n",
       "      <th>DESTINATION</th>\n",
       "      <th>Arrival_Gate</th>\n",
       "      <th>Dep_Gate</th>\n",
       "      <th>Actual_Connection_Time</th>\n",
       "      <th>% Success</th>\n",
       "      <th>Actual_Connection_Time_new</th>\n",
       "    </tr>\n",
       "  </thead>\n",
       "  <tbody>\n",
       "    <tr>\n",
       "      <th>0</th>\n",
       "      <td>SQ208</td>\n",
       "      <td>Melbourne</td>\n",
       "      <td>2022-09-30 16:15:00</td>\n",
       "      <td>London</td>\n",
       "      <td>B2</td>\n",
       "      <td>A2</td>\n",
       "      <td>2023-01-31 00:34:00</td>\n",
       "      <td>1.0</td>\n",
       "      <td>2040</td>\n",
       "    </tr>\n",
       "    <tr>\n",
       "      <th>1</th>\n",
       "      <td>SQ208</td>\n",
       "      <td>Melbourne</td>\n",
       "      <td>2022-09-30 16:15:00</td>\n",
       "      <td>New Dehli</td>\n",
       "      <td>B2</td>\n",
       "      <td>A2</td>\n",
       "      <td>2023-01-31 00:34:00</td>\n",
       "      <td>1.0</td>\n",
       "      <td>2040</td>\n",
       "    </tr>\n",
       "    <tr>\n",
       "      <th>2</th>\n",
       "      <td>SQ208</td>\n",
       "      <td>Melbourne</td>\n",
       "      <td>2022-09-30 16:15:00</td>\n",
       "      <td>Manila</td>\n",
       "      <td>B2</td>\n",
       "      <td>A2</td>\n",
       "      <td>2023-01-31 00:34:00</td>\n",
       "      <td>0.0</td>\n",
       "      <td>2040</td>\n",
       "    </tr>\n",
       "    <tr>\n",
       "      <th>3</th>\n",
       "      <td>SQ208</td>\n",
       "      <td>Melbourne</td>\n",
       "      <td>2022-09-30 16:15:00</td>\n",
       "      <td>Ahmedabad</td>\n",
       "      <td>B2</td>\n",
       "      <td>A2</td>\n",
       "      <td>2023-01-31 00:34:00</td>\n",
       "      <td>1.0</td>\n",
       "      <td>2040</td>\n",
       "    </tr>\n",
       "    <tr>\n",
       "      <th>4</th>\n",
       "      <td>SQ208</td>\n",
       "      <td>Melbourne</td>\n",
       "      <td>2022-09-30 16:15:00</td>\n",
       "      <td>Seoul</td>\n",
       "      <td>B2</td>\n",
       "      <td>A2</td>\n",
       "      <td>2023-01-31 00:34:00</td>\n",
       "      <td>1.0</td>\n",
       "      <td>2040</td>\n",
       "    </tr>\n",
       "  </tbody>\n",
       "</table>\n",
       "</div>"
      ],
      "text/plain": [
       "  ArrivalFlight     ORIGIN                SIBT DESTINATION Arrival_Gate  \\\n",
       "0         SQ208  Melbourne 2022-09-30 16:15:00      London           B2   \n",
       "1         SQ208  Melbourne 2022-09-30 16:15:00   New Dehli           B2   \n",
       "2         SQ208  Melbourne 2022-09-30 16:15:00      Manila           B2   \n",
       "3         SQ208  Melbourne 2022-09-30 16:15:00   Ahmedabad           B2   \n",
       "4         SQ208  Melbourne 2022-09-30 16:15:00       Seoul           B2   \n",
       "\n",
       "  Dep_Gate Actual_Connection_Time  % Success  Actual_Connection_Time_new  \n",
       "0       A2    2023-01-31 00:34:00        1.0                        2040  \n",
       "1       A2    2023-01-31 00:34:00        1.0                        2040  \n",
       "2       A2    2023-01-31 00:34:00        0.0                        2040  \n",
       "3       A2    2023-01-31 00:34:00        1.0                        2040  \n",
       "4       A2    2023-01-31 00:34:00        1.0                        2040  "
      ]
     },
     "execution_count": 26,
     "metadata": {},
     "output_type": "execute_result"
    }
   ],
   "source": [
    "datatemp1.head()"
   ]
  },
  {
   "cell_type": "code",
   "execution_count": 27,
   "metadata": {},
   "outputs": [],
   "source": [
    "# read csv fie\n",
    "datatemp4=pd.read_csv('J:\\\\SATS\\\\sixtyminutesSAS1.csv')"
   ]
  },
  {
   "cell_type": "code",
   "execution_count": 28,
   "metadata": {},
   "outputs": [
    {
     "data": {
      "text/html": [
       "<div>\n",
       "<style scoped>\n",
       "    .dataframe tbody tr th:only-of-type {\n",
       "        vertical-align: middle;\n",
       "    }\n",
       "\n",
       "    .dataframe tbody tr th {\n",
       "        vertical-align: top;\n",
       "    }\n",
       "\n",
       "    .dataframe thead th {\n",
       "        text-align: right;\n",
       "    }\n",
       "</style>\n",
       "<table border=\"1\" class=\"dataframe\">\n",
       "  <thead>\n",
       "    <tr style=\"text-align: right;\">\n",
       "      <th></th>\n",
       "      <th>Arrival_Gate</th>\n",
       "      <th>Dep_Gate</th>\n",
       "      <th>% Success</th>\n",
       "      <th>SIBT</th>\n",
       "    </tr>\n",
       "  </thead>\n",
       "  <tbody>\n",
       "    <tr>\n",
       "      <th>0</th>\n",
       "      <td>305</td>\n",
       "      <td>F42</td>\n",
       "      <td>0.0000</td>\n",
       "      <td>2</td>\n",
       "    </tr>\n",
       "    <tr>\n",
       "      <th>1</th>\n",
       "      <td>A1</td>\n",
       "      <td>A12</td>\n",
       "      <td>0.8000</td>\n",
       "      <td>2</td>\n",
       "    </tr>\n",
       "    <tr>\n",
       "      <th>2</th>\n",
       "      <td>A1</td>\n",
       "      <td>A12</td>\n",
       "      <td>0.9375</td>\n",
       "      <td>2</td>\n",
       "    </tr>\n",
       "    <tr>\n",
       "      <th>3</th>\n",
       "      <td>A1</td>\n",
       "      <td>A12</td>\n",
       "      <td>1.0000</td>\n",
       "      <td>40</td>\n",
       "    </tr>\n",
       "    <tr>\n",
       "      <th>4</th>\n",
       "      <td>A1</td>\n",
       "      <td>A14</td>\n",
       "      <td>0.0000</td>\n",
       "      <td>1</td>\n",
       "    </tr>\n",
       "  </tbody>\n",
       "</table>\n",
       "</div>"
      ],
      "text/plain": [
       "  Arrival_Gate Dep_Gate  % Success  SIBT\n",
       "0          305      F42     0.0000     2\n",
       "1           A1      A12     0.8000     2\n",
       "2           A1      A12     0.9375     2\n",
       "3           A1      A12     1.0000    40\n",
       "4           A1      A14     0.0000     1"
      ]
     },
     "execution_count": 28,
     "metadata": {},
     "output_type": "execute_result"
    }
   ],
   "source": [
    "datatemp4.head()"
   ]
  },
  {
   "attachments": {},
   "cell_type": "markdown",
   "metadata": {},
   "source": [
    "# Mark all data with same or different Bay"
   ]
  },
  {
   "cell_type": "code",
   "execution_count": 29,
   "metadata": {},
   "outputs": [],
   "source": [
    "datatemp4['Same Bay'] = (datatemp4['Arrival_Gate'].str[0].isin(['A','B']) & datatemp4['Dep_Gate'].str[0].isin(['A','B'])) | (datatemp4['Arrival_Gate'].str[0].isin(['C','D']) & datatemp4['Dep_Gate'].str[0].isin(['C','D'])) |(datatemp4['Arrival_Gate'].str[0].isin(['E','F']) & datatemp4['Dep_Gate'].str[0].isin(['E','F']))"
   ]
  },
  {
   "cell_type": "code",
   "execution_count": 30,
   "metadata": {},
   "outputs": [
    {
     "data": {
      "text/html": [
       "<div>\n",
       "<style scoped>\n",
       "    .dataframe tbody tr th:only-of-type {\n",
       "        vertical-align: middle;\n",
       "    }\n",
       "\n",
       "    .dataframe tbody tr th {\n",
       "        vertical-align: top;\n",
       "    }\n",
       "\n",
       "    .dataframe thead th {\n",
       "        text-align: right;\n",
       "    }\n",
       "</style>\n",
       "<table border=\"1\" class=\"dataframe\">\n",
       "  <thead>\n",
       "    <tr style=\"text-align: right;\">\n",
       "      <th></th>\n",
       "      <th>Arrival_Gate</th>\n",
       "      <th>Dep_Gate</th>\n",
       "      <th>% Success</th>\n",
       "      <th>SIBT</th>\n",
       "      <th>Same Bay</th>\n",
       "    </tr>\n",
       "  </thead>\n",
       "  <tbody>\n",
       "    <tr>\n",
       "      <th>0</th>\n",
       "      <td>305</td>\n",
       "      <td>F42</td>\n",
       "      <td>0.0000</td>\n",
       "      <td>2</td>\n",
       "      <td>False</td>\n",
       "    </tr>\n",
       "    <tr>\n",
       "      <th>1</th>\n",
       "      <td>A1</td>\n",
       "      <td>A12</td>\n",
       "      <td>0.8000</td>\n",
       "      <td>2</td>\n",
       "      <td>True</td>\n",
       "    </tr>\n",
       "    <tr>\n",
       "      <th>2</th>\n",
       "      <td>A1</td>\n",
       "      <td>A12</td>\n",
       "      <td>0.9375</td>\n",
       "      <td>2</td>\n",
       "      <td>True</td>\n",
       "    </tr>\n",
       "    <tr>\n",
       "      <th>3</th>\n",
       "      <td>A1</td>\n",
       "      <td>A12</td>\n",
       "      <td>1.0000</td>\n",
       "      <td>40</td>\n",
       "      <td>True</td>\n",
       "    </tr>\n",
       "    <tr>\n",
       "      <th>4</th>\n",
       "      <td>A1</td>\n",
       "      <td>A14</td>\n",
       "      <td>0.0000</td>\n",
       "      <td>1</td>\n",
       "      <td>True</td>\n",
       "    </tr>\n",
       "  </tbody>\n",
       "</table>\n",
       "</div>"
      ],
      "text/plain": [
       "  Arrival_Gate Dep_Gate  % Success  SIBT  Same Bay\n",
       "0          305      F42     0.0000     2     False\n",
       "1           A1      A12     0.8000     2      True\n",
       "2           A1      A12     0.9375     2      True\n",
       "3           A1      A12     1.0000    40      True\n",
       "4           A1      A14     0.0000     1      True"
      ]
     },
     "execution_count": 30,
     "metadata": {},
     "output_type": "execute_result"
    }
   ],
   "source": [
    "datatemp4.head()"
   ]
  },
  {
   "cell_type": "code",
   "execution_count": 81,
   "metadata": {},
   "outputs": [],
   "source": [
    "#  save file to csv\n",
    "datatemp4.to_csv('J:\\\\SATS\\\\sixtyminutesSASwithBay.csv')"
   ]
  },
  {
   "cell_type": "code",
   "execution_count": null,
   "metadata": {},
   "outputs": [],
   "source": [
    "datatemp4['Multi']=datatemp4['% Success']*datatemp4['SIBT']"
   ]
  },
  {
   "cell_type": "code",
   "execution_count": null,
   "metadata": {},
   "outputs": [],
   "source": [
    "weighted_average = (datatemp4.groupby(['Arrival_Gate','Dep_Gate'])['Multi'].sum() ) / datatemp4.groupby(['Arrival_Gate','Dep_Gate'])['SIBT'].sum()"
   ]
  },
  {
   "cell_type": "code",
   "execution_count": null,
   "metadata": {},
   "outputs": [],
   "source": [
    "# save to csv\n",
    "weighted_average.to_csv('J:\\\\SATS\\\\weighted_average.csv')"
   ]
  },
  {
   "cell_type": "code",
   "execution_count": 102,
   "metadata": {},
   "outputs": [],
   "source": [
    "#  read csv file\n",
    "datatemp4=pd.read_csv('J:\\\\SATS\\\\weighted_average.csv')"
   ]
  },
  {
   "cell_type": "code",
   "execution_count": 103,
   "metadata": {},
   "outputs": [
    {
     "data": {
      "text/html": [
       "<div>\n",
       "<style scoped>\n",
       "    .dataframe tbody tr th:only-of-type {\n",
       "        vertical-align: middle;\n",
       "    }\n",
       "\n",
       "    .dataframe tbody tr th {\n",
       "        vertical-align: top;\n",
       "    }\n",
       "\n",
       "    .dataframe thead th {\n",
       "        text-align: right;\n",
       "    }\n",
       "</style>\n",
       "<table border=\"1\" class=\"dataframe\">\n",
       "  <thead>\n",
       "    <tr style=\"text-align: right;\">\n",
       "      <th></th>\n",
       "      <th>Arrival_Gate</th>\n",
       "      <th>Dep_Gate</th>\n",
       "      <th>0</th>\n",
       "    </tr>\n",
       "  </thead>\n",
       "  <tbody>\n",
       "    <tr>\n",
       "      <th>0</th>\n",
       "      <td>305</td>\n",
       "      <td>F42</td>\n",
       "      <td>0.000000</td>\n",
       "    </tr>\n",
       "    <tr>\n",
       "      <th>1</th>\n",
       "      <td>A1</td>\n",
       "      <td>A12</td>\n",
       "      <td>0.988068</td>\n",
       "    </tr>\n",
       "    <tr>\n",
       "      <th>2</th>\n",
       "      <td>A1</td>\n",
       "      <td>A14</td>\n",
       "      <td>0.829545</td>\n",
       "    </tr>\n",
       "    <tr>\n",
       "      <th>3</th>\n",
       "      <td>A1</td>\n",
       "      <td>A17</td>\n",
       "      <td>1.000000</td>\n",
       "    </tr>\n",
       "    <tr>\n",
       "      <th>4</th>\n",
       "      <td>A1</td>\n",
       "      <td>B1</td>\n",
       "      <td>1.000000</td>\n",
       "    </tr>\n",
       "  </tbody>\n",
       "</table>\n",
       "</div>"
      ],
      "text/plain": [
       "  Arrival_Gate Dep_Gate         0\n",
       "0          305      F42  0.000000\n",
       "1           A1      A12  0.988068\n",
       "2           A1      A14  0.829545\n",
       "3           A1      A17  1.000000\n",
       "4           A1       B1  1.000000"
      ]
     },
     "execution_count": 103,
     "metadata": {},
     "output_type": "execute_result"
    }
   ],
   "source": [
    "datatemp4.head()"
   ]
  },
  {
   "cell_type": "code",
   "execution_count": null,
   "metadata": {},
   "outputs": [],
   "source": [
    "# rename column\n",
    "datatemp4.rename(columns={'0':'Weighted_Average'}, inplace=True)"
   ]
  },
  {
   "cell_type": "code",
   "execution_count": 31,
   "metadata": {},
   "outputs": [],
   "source": [
    "\n",
    "datatemp4['Terminal'] = (datatemp4['Arrival_Gate'].str[0].isin(['A','B']) & datatemp4['Dep_Gate'].str[0].isin(['A','B'])) | (datatemp4['Arrival_Gate'].str[0].isin(['C','D']) & datatemp4['Dep_Gate'].str[0].isin(['C','D'])) |(datatemp4['Arrival_Gate'].str[0].isin(['E','F']) & datatemp4['Dep_Gate'].str[0].isin(['E','F']))"
   ]
  },
  {
   "cell_type": "code",
   "execution_count": 32,
   "metadata": {},
   "outputs": [
    {
     "data": {
      "text/html": [
       "<div>\n",
       "<style scoped>\n",
       "    .dataframe tbody tr th:only-of-type {\n",
       "        vertical-align: middle;\n",
       "    }\n",
       "\n",
       "    .dataframe tbody tr th {\n",
       "        vertical-align: top;\n",
       "    }\n",
       "\n",
       "    .dataframe thead th {\n",
       "        text-align: right;\n",
       "    }\n",
       "</style>\n",
       "<table border=\"1\" class=\"dataframe\">\n",
       "  <thead>\n",
       "    <tr style=\"text-align: right;\">\n",
       "      <th></th>\n",
       "      <th>Arrival_Gate</th>\n",
       "      <th>Dep_Gate</th>\n",
       "      <th>% Success</th>\n",
       "      <th>SIBT</th>\n",
       "      <th>Same Bay</th>\n",
       "      <th>Terminal</th>\n",
       "    </tr>\n",
       "  </thead>\n",
       "  <tbody>\n",
       "    <tr>\n",
       "      <th>0</th>\n",
       "      <td>305</td>\n",
       "      <td>F42</td>\n",
       "      <td>0.0000</td>\n",
       "      <td>2</td>\n",
       "      <td>False</td>\n",
       "      <td>False</td>\n",
       "    </tr>\n",
       "    <tr>\n",
       "      <th>1</th>\n",
       "      <td>A1</td>\n",
       "      <td>A12</td>\n",
       "      <td>0.8000</td>\n",
       "      <td>2</td>\n",
       "      <td>True</td>\n",
       "      <td>True</td>\n",
       "    </tr>\n",
       "    <tr>\n",
       "      <th>2</th>\n",
       "      <td>A1</td>\n",
       "      <td>A12</td>\n",
       "      <td>0.9375</td>\n",
       "      <td>2</td>\n",
       "      <td>True</td>\n",
       "      <td>True</td>\n",
       "    </tr>\n",
       "    <tr>\n",
       "      <th>3</th>\n",
       "      <td>A1</td>\n",
       "      <td>A12</td>\n",
       "      <td>1.0000</td>\n",
       "      <td>40</td>\n",
       "      <td>True</td>\n",
       "      <td>True</td>\n",
       "    </tr>\n",
       "    <tr>\n",
       "      <th>4</th>\n",
       "      <td>A1</td>\n",
       "      <td>A14</td>\n",
       "      <td>0.0000</td>\n",
       "      <td>1</td>\n",
       "      <td>True</td>\n",
       "      <td>True</td>\n",
       "    </tr>\n",
       "  </tbody>\n",
       "</table>\n",
       "</div>"
      ],
      "text/plain": [
       "  Arrival_Gate Dep_Gate  % Success  SIBT  Same Bay  Terminal\n",
       "0          305      F42     0.0000     2     False     False\n",
       "1           A1      A12     0.8000     2      True      True\n",
       "2           A1      A12     0.9375     2      True      True\n",
       "3           A1      A12     1.0000    40      True      True\n",
       "4           A1      A14     0.0000     1      True      True"
      ]
     },
     "execution_count": 32,
     "metadata": {},
     "output_type": "execute_result"
    }
   ],
   "source": [
    "datatemp4.head()"
   ]
  },
  {
   "cell_type": "code",
   "execution_count": 38,
   "metadata": {},
   "outputs": [],
   "source": []
  },
  {
   "cell_type": "code",
   "execution_count": 39,
   "metadata": {},
   "outputs": [],
   "source": []
  },
  {
   "cell_type": "code",
   "execution_count": 52,
   "metadata": {},
   "outputs": [
    {
     "data": {
      "text/plain": [
       "Arrival_Gate  Dep_Gate\n",
       "305           F42         0.000000\n",
       "A1            A12         0.988068\n",
       "              A14         0.829545\n",
       "              A17         1.000000\n",
       "              B1          1.000000\n",
       "dtype: float64"
      ]
     },
     "execution_count": 52,
     "metadata": {},
     "output_type": "execute_result"
    }
   ],
   "source": [
    "weighted_average.head()"
   ]
  },
  {
   "cell_type": "code",
   "execution_count": 106,
   "metadata": {},
   "outputs": [],
   "source": []
  },
  {
   "cell_type": "code",
   "execution_count": null,
   "metadata": {},
   "outputs": [],
   "source": [
    "# save file to csv\n",
    "datatemp4.to_csv('J:\\\\SATS\\\\weighted_averagenew.csv')\n"
   ]
  },
  {
   "cell_type": "code",
   "execution_count": 94,
   "metadata": {},
   "outputs": [],
   "source": [
    "weighted_average = (datatemp5.groupby(['Arrival_Gate','Dep_Gate'])['Multi'].sum() ) / datatemp5.groupby(['Arrival_Gate','Dep_Gate'])['SIBT'].sum()"
   ]
  },
  {
   "cell_type": "code",
   "execution_count": null,
   "metadata": {},
   "outputs": [],
   "source": []
  },
  {
   "cell_type": "code",
   "execution_count": 55,
   "metadata": {},
   "outputs": [
    {
     "data": {
      "text/plain": [
       "Arrival_Gate  Dep_Gate\n",
       "305           F42         0.000000\n",
       "A1            A12         0.988068\n",
       "              A14         0.829545\n",
       "              A17         1.000000\n",
       "              B1          1.000000\n",
       "dtype: float64"
      ]
     },
     "execution_count": 55,
     "metadata": {},
     "output_type": "execute_result"
    }
   ],
   "source": [
    "weighted_average.head()"
   ]
  },
  {
   "cell_type": "code",
   "execution_count": 56,
   "metadata": {},
   "outputs": [
    {
     "ename": "PermissionError",
     "evalue": "[Errno 13] Permission denied: 'J:\\\\SATS\\\\weighted_average.csv'",
     "output_type": "error",
     "traceback": [
      "\u001b[1;31m---------------------------------------------------------------------------\u001b[0m",
      "\u001b[1;31mPermissionError\u001b[0m                           Traceback (most recent call last)",
      "Cell \u001b[1;32mIn [56], line 2\u001b[0m\n\u001b[0;32m      1\u001b[0m \u001b[39m# save file to csv\u001b[39;00m\n\u001b[1;32m----> 2\u001b[0m weighted_average\u001b[39m.\u001b[39mto_csv(\u001b[39m'\u001b[39m\u001b[39mJ:\u001b[39m\u001b[39m\\\\\u001b[39;00m\u001b[39mSATS\u001b[39m\u001b[39m\\\\\u001b[39;00m\u001b[39mweighted_average.csv\u001b[39m\u001b[39m'\u001b[39m)\n",
      "File \u001b[1;32mc:\\Users\\pc\\AppData\\Local\\Programs\\Python\\Python310\\lib\\site-packages\\pandas\\util\\_decorators.py:211\u001b[0m, in \u001b[0;36mdeprecate_kwarg.<locals>._deprecate_kwarg.<locals>.wrapper\u001b[1;34m(*args, **kwargs)\u001b[0m\n\u001b[0;32m    209\u001b[0m     \u001b[39melse\u001b[39;00m:\n\u001b[0;32m    210\u001b[0m         kwargs[new_arg_name] \u001b[39m=\u001b[39m new_arg_value\n\u001b[1;32m--> 211\u001b[0m \u001b[39mreturn\u001b[39;00m func(\u001b[39m*\u001b[39margs, \u001b[39m*\u001b[39m\u001b[39m*\u001b[39mkwargs)\n",
      "File \u001b[1;32mc:\\Users\\pc\\AppData\\Local\\Programs\\Python\\Python310\\lib\\site-packages\\pandas\\core\\generic.py:3721\u001b[0m, in \u001b[0;36mNDFrame.to_csv\u001b[1;34m(self, path_or_buf, sep, na_rep, float_format, columns, header, index, index_label, mode, encoding, compression, quoting, quotechar, lineterminator, chunksize, date_format, doublequote, escapechar, decimal, errors, storage_options)\u001b[0m\n\u001b[0;32m   3710\u001b[0m df \u001b[39m=\u001b[39m \u001b[39mself\u001b[39m \u001b[39mif\u001b[39;00m \u001b[39misinstance\u001b[39m(\u001b[39mself\u001b[39m, ABCDataFrame) \u001b[39melse\u001b[39;00m \u001b[39mself\u001b[39m\u001b[39m.\u001b[39mto_frame()\n\u001b[0;32m   3712\u001b[0m formatter \u001b[39m=\u001b[39m DataFrameFormatter(\n\u001b[0;32m   3713\u001b[0m     frame\u001b[39m=\u001b[39mdf,\n\u001b[0;32m   3714\u001b[0m     header\u001b[39m=\u001b[39mheader,\n\u001b[1;32m   (...)\u001b[0m\n\u001b[0;32m   3718\u001b[0m     decimal\u001b[39m=\u001b[39mdecimal,\n\u001b[0;32m   3719\u001b[0m )\n\u001b[1;32m-> 3721\u001b[0m \u001b[39mreturn\u001b[39;00m DataFrameRenderer(formatter)\u001b[39m.\u001b[39;49mto_csv(\n\u001b[0;32m   3722\u001b[0m     path_or_buf,\n\u001b[0;32m   3723\u001b[0m     lineterminator\u001b[39m=\u001b[39;49mlineterminator,\n\u001b[0;32m   3724\u001b[0m     sep\u001b[39m=\u001b[39;49msep,\n\u001b[0;32m   3725\u001b[0m     encoding\u001b[39m=\u001b[39;49mencoding,\n\u001b[0;32m   3726\u001b[0m     errors\u001b[39m=\u001b[39;49merrors,\n\u001b[0;32m   3727\u001b[0m     compression\u001b[39m=\u001b[39;49mcompression,\n\u001b[0;32m   3728\u001b[0m     quoting\u001b[39m=\u001b[39;49mquoting,\n\u001b[0;32m   3729\u001b[0m     columns\u001b[39m=\u001b[39;49mcolumns,\n\u001b[0;32m   3730\u001b[0m     index_label\u001b[39m=\u001b[39;49mindex_label,\n\u001b[0;32m   3731\u001b[0m     mode\u001b[39m=\u001b[39;49mmode,\n\u001b[0;32m   3732\u001b[0m     chunksize\u001b[39m=\u001b[39;49mchunksize,\n\u001b[0;32m   3733\u001b[0m     quotechar\u001b[39m=\u001b[39;49mquotechar,\n\u001b[0;32m   3734\u001b[0m     date_format\u001b[39m=\u001b[39;49mdate_format,\n\u001b[0;32m   3735\u001b[0m     doublequote\u001b[39m=\u001b[39;49mdoublequote,\n\u001b[0;32m   3736\u001b[0m     escapechar\u001b[39m=\u001b[39;49mescapechar,\n\u001b[0;32m   3737\u001b[0m     storage_options\u001b[39m=\u001b[39;49mstorage_options,\n\u001b[0;32m   3738\u001b[0m )\n",
      "File \u001b[1;32mc:\\Users\\pc\\AppData\\Local\\Programs\\Python\\Python310\\lib\\site-packages\\pandas\\util\\_decorators.py:211\u001b[0m, in \u001b[0;36mdeprecate_kwarg.<locals>._deprecate_kwarg.<locals>.wrapper\u001b[1;34m(*args, **kwargs)\u001b[0m\n\u001b[0;32m    209\u001b[0m     \u001b[39melse\u001b[39;00m:\n\u001b[0;32m    210\u001b[0m         kwargs[new_arg_name] \u001b[39m=\u001b[39m new_arg_value\n\u001b[1;32m--> 211\u001b[0m \u001b[39mreturn\u001b[39;00m func(\u001b[39m*\u001b[39margs, \u001b[39m*\u001b[39m\u001b[39m*\u001b[39mkwargs)\n",
      "File \u001b[1;32mc:\\Users\\pc\\AppData\\Local\\Programs\\Python\\Python310\\lib\\site-packages\\pandas\\io\\formats\\format.py:1189\u001b[0m, in \u001b[0;36mDataFrameRenderer.to_csv\u001b[1;34m(self, path_or_buf, encoding, sep, columns, index_label, mode, compression, quoting, quotechar, lineterminator, chunksize, date_format, doublequote, escapechar, errors, storage_options)\u001b[0m\n\u001b[0;32m   1168\u001b[0m     created_buffer \u001b[39m=\u001b[39m \u001b[39mFalse\u001b[39;00m\n\u001b[0;32m   1170\u001b[0m csv_formatter \u001b[39m=\u001b[39m CSVFormatter(\n\u001b[0;32m   1171\u001b[0m     path_or_buf\u001b[39m=\u001b[39mpath_or_buf,\n\u001b[0;32m   1172\u001b[0m     lineterminator\u001b[39m=\u001b[39mlineterminator,\n\u001b[1;32m   (...)\u001b[0m\n\u001b[0;32m   1187\u001b[0m     formatter\u001b[39m=\u001b[39m\u001b[39mself\u001b[39m\u001b[39m.\u001b[39mfmt,\n\u001b[0;32m   1188\u001b[0m )\n\u001b[1;32m-> 1189\u001b[0m csv_formatter\u001b[39m.\u001b[39;49msave()\n\u001b[0;32m   1191\u001b[0m \u001b[39mif\u001b[39;00m created_buffer:\n\u001b[0;32m   1192\u001b[0m     \u001b[39massert\u001b[39;00m \u001b[39misinstance\u001b[39m(path_or_buf, StringIO)\n",
      "File \u001b[1;32mc:\\Users\\pc\\AppData\\Local\\Programs\\Python\\Python310\\lib\\site-packages\\pandas\\io\\formats\\csvs.py:241\u001b[0m, in \u001b[0;36mCSVFormatter.save\u001b[1;34m(self)\u001b[0m\n\u001b[0;32m    237\u001b[0m \u001b[39m\"\"\"\u001b[39;00m\n\u001b[0;32m    238\u001b[0m \u001b[39mCreate the writer & save.\u001b[39;00m\n\u001b[0;32m    239\u001b[0m \u001b[39m\"\"\"\u001b[39;00m\n\u001b[0;32m    240\u001b[0m \u001b[39m# apply compression and byte/text conversion\u001b[39;00m\n\u001b[1;32m--> 241\u001b[0m \u001b[39mwith\u001b[39;00m get_handle(\n\u001b[0;32m    242\u001b[0m     \u001b[39mself\u001b[39;49m\u001b[39m.\u001b[39;49mfilepath_or_buffer,\n\u001b[0;32m    243\u001b[0m     \u001b[39mself\u001b[39;49m\u001b[39m.\u001b[39;49mmode,\n\u001b[0;32m    244\u001b[0m     encoding\u001b[39m=\u001b[39;49m\u001b[39mself\u001b[39;49m\u001b[39m.\u001b[39;49mencoding,\n\u001b[0;32m    245\u001b[0m     errors\u001b[39m=\u001b[39;49m\u001b[39mself\u001b[39;49m\u001b[39m.\u001b[39;49merrors,\n\u001b[0;32m    246\u001b[0m     compression\u001b[39m=\u001b[39;49m\u001b[39mself\u001b[39;49m\u001b[39m.\u001b[39;49mcompression,\n\u001b[0;32m    247\u001b[0m     storage_options\u001b[39m=\u001b[39;49m\u001b[39mself\u001b[39;49m\u001b[39m.\u001b[39;49mstorage_options,\n\u001b[0;32m    248\u001b[0m ) \u001b[39mas\u001b[39;00m handles:\n\u001b[0;32m    249\u001b[0m \n\u001b[0;32m    250\u001b[0m     \u001b[39m# Note: self.encoding is irrelevant here\u001b[39;00m\n\u001b[0;32m    251\u001b[0m     \u001b[39mself\u001b[39m\u001b[39m.\u001b[39mwriter \u001b[39m=\u001b[39m csvlib\u001b[39m.\u001b[39mwriter(\n\u001b[0;32m    252\u001b[0m         handles\u001b[39m.\u001b[39mhandle,\n\u001b[0;32m    253\u001b[0m         lineterminator\u001b[39m=\u001b[39m\u001b[39mself\u001b[39m\u001b[39m.\u001b[39mlineterminator,\n\u001b[1;32m   (...)\u001b[0m\n\u001b[0;32m    258\u001b[0m         quotechar\u001b[39m=\u001b[39m\u001b[39mself\u001b[39m\u001b[39m.\u001b[39mquotechar,\n\u001b[0;32m    259\u001b[0m     )\n\u001b[0;32m    261\u001b[0m     \u001b[39mself\u001b[39m\u001b[39m.\u001b[39m_save()\n",
      "File \u001b[1;32mc:\\Users\\pc\\AppData\\Local\\Programs\\Python\\Python310\\lib\\site-packages\\pandas\\io\\common.py:857\u001b[0m, in \u001b[0;36mget_handle\u001b[1;34m(path_or_buf, mode, encoding, compression, memory_map, is_text, errors, storage_options)\u001b[0m\n\u001b[0;32m    852\u001b[0m \u001b[39melif\u001b[39;00m \u001b[39misinstance\u001b[39m(handle, \u001b[39mstr\u001b[39m):\n\u001b[0;32m    853\u001b[0m     \u001b[39m# Check whether the filename is to be opened in binary mode.\u001b[39;00m\n\u001b[0;32m    854\u001b[0m     \u001b[39m# Binary mode does not support 'encoding' and 'newline'.\u001b[39;00m\n\u001b[0;32m    855\u001b[0m     \u001b[39mif\u001b[39;00m ioargs\u001b[39m.\u001b[39mencoding \u001b[39mand\u001b[39;00m \u001b[39m\"\u001b[39m\u001b[39mb\u001b[39m\u001b[39m\"\u001b[39m \u001b[39mnot\u001b[39;00m \u001b[39min\u001b[39;00m ioargs\u001b[39m.\u001b[39mmode:\n\u001b[0;32m    856\u001b[0m         \u001b[39m# Encoding\u001b[39;00m\n\u001b[1;32m--> 857\u001b[0m         handle \u001b[39m=\u001b[39m \u001b[39mopen\u001b[39;49m(\n\u001b[0;32m    858\u001b[0m             handle,\n\u001b[0;32m    859\u001b[0m             ioargs\u001b[39m.\u001b[39;49mmode,\n\u001b[0;32m    860\u001b[0m             encoding\u001b[39m=\u001b[39;49mioargs\u001b[39m.\u001b[39;49mencoding,\n\u001b[0;32m    861\u001b[0m             errors\u001b[39m=\u001b[39;49merrors,\n\u001b[0;32m    862\u001b[0m             newline\u001b[39m=\u001b[39;49m\u001b[39m\"\u001b[39;49m\u001b[39m\"\u001b[39;49m,\n\u001b[0;32m    863\u001b[0m         )\n\u001b[0;32m    864\u001b[0m     \u001b[39melse\u001b[39;00m:\n\u001b[0;32m    865\u001b[0m         \u001b[39m# Binary mode\u001b[39;00m\n\u001b[0;32m    866\u001b[0m         handle \u001b[39m=\u001b[39m \u001b[39mopen\u001b[39m(handle, ioargs\u001b[39m.\u001b[39mmode)\n",
      "\u001b[1;31mPermissionError\u001b[0m: [Errno 13] Permission denied: 'J:\\\\SATS\\\\weighted_average.csv'"
     ]
    }
   ],
   "source": [
    "# save file to csv\n",
    "weighted_average.to_csv('J:\\\\SATS\\\\weighted_average.csv')"
   ]
  },
  {
   "cell_type": "code",
   "execution_count": 57,
   "metadata": {},
   "outputs": [],
   "source": [
    "#  read csv file\n",
    "weighted_average=pd.read_csv('J:\\\\SATS\\\\weighted_average.csv')"
   ]
  },
  {
   "cell_type": "code",
   "execution_count": null,
   "metadata": {},
   "outputs": [],
   "source": [
    "# weighted average of success rate and SIBT for Pair:\n",
    "datatemp5.groupby(['Arrival_Gate','Dep_Gate',])['% Success','SIBT']."
   ]
  },
  {
   "cell_type": "code",
   "execution_count": 41,
   "metadata": {},
   "outputs": [],
   "source": [
    "import pandas as pd\n",
    "dataBay= pd.read_csv('J:\\\\SATS\\\\sixtyminutesSASwithBay.csv')"
   ]
  },
  {
   "cell_type": "code",
   "execution_count": 42,
   "metadata": {},
   "outputs": [
    {
     "data": {
      "text/html": [
       "<div>\n",
       "<style scoped>\n",
       "    .dataframe tbody tr th:only-of-type {\n",
       "        vertical-align: middle;\n",
       "    }\n",
       "\n",
       "    .dataframe tbody tr th {\n",
       "        vertical-align: top;\n",
       "    }\n",
       "\n",
       "    .dataframe thead th {\n",
       "        text-align: right;\n",
       "    }\n",
       "</style>\n",
       "<table border=\"1\" class=\"dataframe\">\n",
       "  <thead>\n",
       "    <tr style=\"text-align: right;\">\n",
       "      <th></th>\n",
       "      <th>Unnamed: 0</th>\n",
       "      <th>Arrival_Gate</th>\n",
       "      <th>Dep_Gate</th>\n",
       "      <th>% Success</th>\n",
       "      <th>SIBT</th>\n",
       "      <th>Same Bay</th>\n",
       "      <th>Pair</th>\n",
       "    </tr>\n",
       "  </thead>\n",
       "  <tbody>\n",
       "    <tr>\n",
       "      <th>0</th>\n",
       "      <td>0</td>\n",
       "      <td>305</td>\n",
       "      <td>F42</td>\n",
       "      <td>0.0000</td>\n",
       "      <td>2</td>\n",
       "      <td>False</td>\n",
       "      <td>305-F42</td>\n",
       "    </tr>\n",
       "    <tr>\n",
       "      <th>1</th>\n",
       "      <td>1</td>\n",
       "      <td>A1</td>\n",
       "      <td>A12</td>\n",
       "      <td>0.8000</td>\n",
       "      <td>2</td>\n",
       "      <td>True</td>\n",
       "      <td>A1-A12</td>\n",
       "    </tr>\n",
       "    <tr>\n",
       "      <th>2</th>\n",
       "      <td>2</td>\n",
       "      <td>A1</td>\n",
       "      <td>A12</td>\n",
       "      <td>0.9375</td>\n",
       "      <td>2</td>\n",
       "      <td>True</td>\n",
       "      <td>A1-A12</td>\n",
       "    </tr>\n",
       "    <tr>\n",
       "      <th>3</th>\n",
       "      <td>3</td>\n",
       "      <td>A1</td>\n",
       "      <td>A12</td>\n",
       "      <td>1.0000</td>\n",
       "      <td>40</td>\n",
       "      <td>True</td>\n",
       "      <td>A1-A12</td>\n",
       "    </tr>\n",
       "    <tr>\n",
       "      <th>4</th>\n",
       "      <td>4</td>\n",
       "      <td>A1</td>\n",
       "      <td>A14</td>\n",
       "      <td>0.0000</td>\n",
       "      <td>1</td>\n",
       "      <td>True</td>\n",
       "      <td>A1-A14</td>\n",
       "    </tr>\n",
       "  </tbody>\n",
       "</table>\n",
       "</div>"
      ],
      "text/plain": [
       "   Unnamed: 0 Arrival_Gate Dep_Gate  % Success  SIBT  Same Bay     Pair\n",
       "0           0          305      F42     0.0000     2     False  305-F42\n",
       "1           1           A1      A12     0.8000     2      True   A1-A12\n",
       "2           2           A1      A12     0.9375     2      True   A1-A12\n",
       "3           3           A1      A12     1.0000    40      True   A1-A12\n",
       "4           4           A1      A14     0.0000     1      True   A1-A14"
      ]
     },
     "execution_count": 42,
     "metadata": {},
     "output_type": "execute_result"
    }
   ],
   "source": [
    "dataBay.head()"
   ]
  },
  {
   "cell_type": "code",
   "execution_count": 43,
   "metadata": {},
   "outputs": [],
   "source": [
    "dataCount=dataBay.groupby(['Pair'])['SIBT'].sum()"
   ]
  },
  {
   "cell_type": "code",
   "execution_count": 44,
   "metadata": {},
   "outputs": [
    {
     "data": {
      "text/plain": [
       "Pair\n",
       "305-F42     2\n",
       "A1-A12     44\n",
       "A1-A14     11\n",
       "A1-A17      5\n",
       "A1-B1       5\n",
       "Name: SIBT, dtype: int64"
      ]
     },
     "execution_count": 44,
     "metadata": {},
     "output_type": "execute_result"
    }
   ],
   "source": [
    "dataCount.head()"
   ]
  },
  {
   "cell_type": "code",
   "execution_count": 53,
   "metadata": {},
   "outputs": [],
   "source": [
    "datanew=pd.read_csv('J:\\\\SATS\\\\weighted_averagenew.csv')"
   ]
  },
  {
   "cell_type": "code",
   "execution_count": 54,
   "metadata": {},
   "outputs": [
    {
     "data": {
      "text/html": [
       "<div>\n",
       "<style scoped>\n",
       "    .dataframe tbody tr th:only-of-type {\n",
       "        vertical-align: middle;\n",
       "    }\n",
       "\n",
       "    .dataframe tbody tr th {\n",
       "        vertical-align: top;\n",
       "    }\n",
       "\n",
       "    .dataframe thead th {\n",
       "        text-align: right;\n",
       "    }\n",
       "</style>\n",
       "<table border=\"1\" class=\"dataframe\">\n",
       "  <thead>\n",
       "    <tr style=\"text-align: right;\">\n",
       "      <th></th>\n",
       "      <th>Unnamed: 0</th>\n",
       "      <th>Arrival_Gate</th>\n",
       "      <th>Dep_Gate</th>\n",
       "      <th>Weighted_Average</th>\n",
       "      <th>Terminal</th>\n",
       "      <th>Pair</th>\n",
       "    </tr>\n",
       "  </thead>\n",
       "  <tbody>\n",
       "    <tr>\n",
       "      <th>0</th>\n",
       "      <td>0</td>\n",
       "      <td>305</td>\n",
       "      <td>F42</td>\n",
       "      <td>0.000000</td>\n",
       "      <td>False</td>\n",
       "      <td>305-F42</td>\n",
       "    </tr>\n",
       "    <tr>\n",
       "      <th>1</th>\n",
       "      <td>1</td>\n",
       "      <td>A1</td>\n",
       "      <td>A12</td>\n",
       "      <td>0.988068</td>\n",
       "      <td>True</td>\n",
       "      <td>A1-A12</td>\n",
       "    </tr>\n",
       "    <tr>\n",
       "      <th>2</th>\n",
       "      <td>2</td>\n",
       "      <td>A1</td>\n",
       "      <td>A14</td>\n",
       "      <td>0.829545</td>\n",
       "      <td>True</td>\n",
       "      <td>A1-A14</td>\n",
       "    </tr>\n",
       "    <tr>\n",
       "      <th>3</th>\n",
       "      <td>3</td>\n",
       "      <td>A1</td>\n",
       "      <td>A17</td>\n",
       "      <td>1.000000</td>\n",
       "      <td>True</td>\n",
       "      <td>A1-A17</td>\n",
       "    </tr>\n",
       "    <tr>\n",
       "      <th>4</th>\n",
       "      <td>4</td>\n",
       "      <td>A1</td>\n",
       "      <td>B1</td>\n",
       "      <td>1.000000</td>\n",
       "      <td>True</td>\n",
       "      <td>A1-B1</td>\n",
       "    </tr>\n",
       "  </tbody>\n",
       "</table>\n",
       "</div>"
      ],
      "text/plain": [
       "   Unnamed: 0 Arrival_Gate Dep_Gate  Weighted_Average  Terminal     Pair\n",
       "0           0          305      F42          0.000000     False  305-F42\n",
       "1           1           A1      A12          0.988068      True   A1-A12\n",
       "2           2           A1      A14          0.829545      True   A1-A14\n",
       "3           3           A1      A17          1.000000      True   A1-A17\n",
       "4           4           A1       B1          1.000000      True    A1-B1"
      ]
     },
     "execution_count": 54,
     "metadata": {},
     "output_type": "execute_result"
    }
   ],
   "source": [
    "datanew.head()"
   ]
  },
  {
   "cell_type": "code",
   "execution_count": 47,
   "metadata": {},
   "outputs": [],
   "source": [
    "datanew=datanew.merge(dataCount, on='Pair')"
   ]
  },
  {
   "cell_type": "code",
   "execution_count": 48,
   "metadata": {},
   "outputs": [],
   "source": [
    "# save file to csv\n",
    "datanew.to_csv('J:\\\\SATS\\\\SASweightedAvgFreq.csv')\n"
   ]
  },
  {
   "cell_type": "code",
   "execution_count": 49,
   "metadata": {},
   "outputs": [
    {
     "data": {
      "text/html": [
       "<div>\n",
       "<style scoped>\n",
       "    .dataframe tbody tr th:only-of-type {\n",
       "        vertical-align: middle;\n",
       "    }\n",
       "\n",
       "    .dataframe tbody tr th {\n",
       "        vertical-align: top;\n",
       "    }\n",
       "\n",
       "    .dataframe thead th {\n",
       "        text-align: right;\n",
       "    }\n",
       "</style>\n",
       "<table border=\"1\" class=\"dataframe\">\n",
       "  <thead>\n",
       "    <tr style=\"text-align: right;\">\n",
       "      <th></th>\n",
       "      <th>Unnamed: 0</th>\n",
       "      <th>Arrival_Gate</th>\n",
       "      <th>Dep_Gate</th>\n",
       "      <th>Weighted_Average</th>\n",
       "      <th>Terminal</th>\n",
       "      <th>Pair</th>\n",
       "      <th>SIBT</th>\n",
       "    </tr>\n",
       "  </thead>\n",
       "  <tbody>\n",
       "    <tr>\n",
       "      <th>0</th>\n",
       "      <td>0</td>\n",
       "      <td>305</td>\n",
       "      <td>F42</td>\n",
       "      <td>0.000000</td>\n",
       "      <td>False</td>\n",
       "      <td>305-F42</td>\n",
       "      <td>2</td>\n",
       "    </tr>\n",
       "    <tr>\n",
       "      <th>1</th>\n",
       "      <td>1</td>\n",
       "      <td>A1</td>\n",
       "      <td>A12</td>\n",
       "      <td>0.988068</td>\n",
       "      <td>True</td>\n",
       "      <td>A1-A12</td>\n",
       "      <td>44</td>\n",
       "    </tr>\n",
       "    <tr>\n",
       "      <th>2</th>\n",
       "      <td>2</td>\n",
       "      <td>A1</td>\n",
       "      <td>A14</td>\n",
       "      <td>0.829545</td>\n",
       "      <td>True</td>\n",
       "      <td>A1-A14</td>\n",
       "      <td>11</td>\n",
       "    </tr>\n",
       "    <tr>\n",
       "      <th>3</th>\n",
       "      <td>3</td>\n",
       "      <td>A1</td>\n",
       "      <td>A17</td>\n",
       "      <td>1.000000</td>\n",
       "      <td>True</td>\n",
       "      <td>A1-A17</td>\n",
       "      <td>5</td>\n",
       "    </tr>\n",
       "    <tr>\n",
       "      <th>4</th>\n",
       "      <td>4</td>\n",
       "      <td>A1</td>\n",
       "      <td>B1</td>\n",
       "      <td>1.000000</td>\n",
       "      <td>True</td>\n",
       "      <td>A1-B1</td>\n",
       "      <td>5</td>\n",
       "    </tr>\n",
       "  </tbody>\n",
       "</table>\n",
       "</div>"
      ],
      "text/plain": [
       "   Unnamed: 0 Arrival_Gate Dep_Gate  Weighted_Average  Terminal     Pair  SIBT\n",
       "0           0          305      F42          0.000000     False  305-F42     2\n",
       "1           1           A1      A12          0.988068      True   A1-A12    44\n",
       "2           2           A1      A14          0.829545      True   A1-A14    11\n",
       "3           3           A1      A17          1.000000      True   A1-A17     5\n",
       "4           4           A1       B1          1.000000      True    A1-B1     5"
      ]
     },
     "execution_count": 49,
     "metadata": {},
     "output_type": "execute_result"
    }
   ],
   "source": [
    "datanew.head()"
   ]
  },
  {
   "cell_type": "code",
   "execution_count": null,
   "metadata": {},
   "outputs": [],
   "source": []
  }
 ],
 "metadata": {
  "kernelspec": {
   "display_name": "Python 3",
   "language": "python",
   "name": "python3"
  },
  "language_info": {
   "codemirror_mode": {
    "name": "ipython",
    "version": 3
   },
   "file_extension": ".py",
   "mimetype": "text/x-python",
   "name": "python",
   "nbconvert_exporter": "python",
   "pygments_lexer": "ipython3",
   "version": "3.10.7"
  },
  "orig_nbformat": 4,
  "vscode": {
   "interpreter": {
    "hash": "67e0cbc25fa4f5baaacba1240f401bc655b640f8e15cfc935dfee2e63491bdf4"
   }
  }
 },
 "nbformat": 4,
 "nbformat_minor": 2
}
