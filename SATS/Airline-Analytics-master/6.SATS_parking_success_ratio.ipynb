{
 "cells": [
  {
   "attachments": {},
   "cell_type": "markdown",
   "metadata": {},
   "source": [
    "#### Read file"
   ]
  },
  {
   "cell_type": "code",
   "execution_count": 1,
   "metadata": {},
   "outputs": [
    {
     "name": "stdout",
     "output_type": "stream",
     "text": [
      "<class 'pandas.core.frame.DataFrame'>\n",
      "RangeIndex: 105700 entries, 0 to 105699\n",
      "Data columns (total 79 columns):\n",
      " #   Column                       Non-Null Count   Dtype         \n",
      "---  ------                       --------------   -----         \n",
      " 0   ArrivalFlight                105700 non-null  object        \n",
      " 1   ORIGIN                       105700 non-null  object        \n",
      " 2   Arrival_Gate                 105700 non-null  object        \n",
      " 3   SIBTDateTimeOffset           105700 non-null  object        \n",
      " 4   ArrivalFlight & Date         105700 non-null  object        \n",
      " 5   ArrFlt_SIBT                  105700 non-null  object        \n",
      " 6   SIBT                         105700 non-null  datetime64[ns]\n",
      " 7   Day in Week                  105700 non-null  object        \n",
      " 8   EIBTDateTimeOffset           105700 non-null  object        \n",
      " 9   EIBT                         105700 non-null  datetime64[ns]\n",
      " 10  AIBTDateTimeOffset           105700 non-null  object        \n",
      " 11  AIBT                         105700 non-null  datetime64[ns]\n",
      " 12  DepartureFlight              105700 non-null  object        \n",
      " 13  Dep_Gate                     105700 non-null  object        \n",
      " 14  DepartureFlight & Date       105700 non-null  object        \n",
      " 15  DESTINATION                  105700 non-null  object        \n",
      " 16  SOBTDateTimeOffset           105700 non-null  object        \n",
      " 17  SOBT                         105700 non-null  datetime64[ns]\n",
      " 18  EOBTDateTimeOffset           8049 non-null    object        \n",
      " 19  Flight_Departure_Time        105700 non-null  object        \n",
      " 20  EOBT                         105700 non-null  datetime64[ns]\n",
      " 21  AOBTDateTimeOffset           105700 non-null  object        \n",
      " 22  AOBT                         105700 non-null  datetime64[ns]\n",
      " 23  Actual_Connection_Time       105700 non-null  datetime64[ns]\n",
      " 24  ID                           105700 non-null  object        \n",
      " 25  AdultFirstBookedCount        105700 non-null  int64         \n",
      " 26  ChildFirstBookedCount        105700 non-null  int64         \n",
      " 27  InfantFirstBookedCount       105700 non-null  int64         \n",
      " 28  AdultBusinessBookedCount     105700 non-null  int64         \n",
      " 29  ChildBusinessBookedCount     105700 non-null  int64         \n",
      " 30  InfantBusinessBookedCount    105700 non-null  int64         \n",
      " 31  AdultPremiumBookedCount      105700 non-null  int64         \n",
      " 32  ChildPremiumBookedCount      105700 non-null  int64         \n",
      " 33  InfantPremiumBookedCount     105700 non-null  int64         \n",
      " 34  AdultEconomyBookedCount      105700 non-null  int64         \n",
      " 35  ChildEconomyBookedCount      105700 non-null  int64         \n",
      " 36  InfantEconomyBookedCount     105700 non-null  int64         \n",
      " 37  EOBT2                        8049 non-null    datetime64[ns]\n",
      " 38  ConnectTime (SOBT-SIBT)      105700 non-null  int64         \n",
      " 39  ConnectTime (EOBT-EIBT)      105700 non-null  int64         \n",
      " 40  Duration                     105700 non-null  object        \n",
      " 41  Protection_Cost              105700 non-null  object        \n",
      " 42  AdultFirstAcceptedCount      105700 non-null  int64         \n",
      " 43  ChildFirstAcceptedCount      105700 non-null  int64         \n",
      " 44  InfantFirstAcceptedCount     105700 non-null  int64         \n",
      " 45  AdultBusinessAcceptedCount   105700 non-null  int64         \n",
      " 46  ChildBusinessAcceptedCount   105700 non-null  int64         \n",
      " 47  InfantBusinessAcceptedCount  105700 non-null  int64         \n",
      " 48  AdultPremiumAcceptedCount    105700 non-null  int64         \n",
      " 49  ChildPremiumAcceptedCount    105700 non-null  int64         \n",
      " 50  InfantPremiumAcceptedCount   105700 non-null  int64         \n",
      " 51  AdultEconomyAcceptedCount    105700 non-null  int64         \n",
      " 52  ChildEconomyAcceptedCount    105700 non-null  int64         \n",
      " 53  InfantEconomyAcceptedCount   105700 non-null  int64         \n",
      " 54  Accepted_Total               105700 non-null  int64         \n",
      " 55  FirstClassBagCount           105700 non-null  int64         \n",
      " 56  BusinessClassBagCount        105700 non-null  int64         \n",
      " 57  PremiumClassBagCount         105700 non-null  int64         \n",
      " 58  EconomyClassBagCount         105700 non-null  int64         \n",
      " 59  Total_Bag_Count              105700 non-null  int64         \n",
      " 60  FirstClassBagsWeight         105700 non-null  int64         \n",
      " 61  BusinessClassBagsWeight      105700 non-null  int64         \n",
      " 62  PremiumClassBagsWeight       105700 non-null  int64         \n",
      " 63  SQPassengerCountInfo_ID      48725 non-null   object        \n",
      " 64  Missed_AF                    105700 non-null  int64         \n",
      " 65  Missed_CF                    105700 non-null  int64         \n",
      " 66  Missed_IF                    105700 non-null  int64         \n",
      " 67  Missed_AJ                    105700 non-null  int64         \n",
      " 68  Missed_CJ                    105700 non-null  int64         \n",
      " 69  Missed_IJ                    105700 non-null  int64         \n",
      " 70  Missed_APY                   105700 non-null  int64         \n",
      " 71  Missed_CPY                   105700 non-null  int64         \n",
      " 72  Missed_IPY                   105700 non-null  int64         \n",
      " 73  Missed_AY                    105700 non-null  int64         \n",
      " 74  Missed_CY                    105700 non-null  int64         \n",
      " 75  Missed_IY                    105700 non-null  int64         \n",
      " 76  Missed_Total                 105700 non-null  int64         \n",
      " 77  Missed_Y/N                   105700 non-null  object        \n",
      " 78  % Success                    105700 non-null  float64       \n",
      "dtypes: datetime64[ns](8), float64(1), int64(48), object(22)\n",
      "memory usage: 63.7+ MB\n"
     ]
    }
   ],
   "source": [
    "#  read data from excel file\n",
    "import pandas as pd\n",
    "import numpy as np\n",
    "import matplotlib.pyplot as plt\n",
    "import seaborn as sns\n",
    "\n",
    "data= pd.read_excel('20230126 SATS Sep-Oct data with success-bays-actual_time.xlsx', sheet_name='Sheet3',parse_dates=['Actual_Connection_Time'])\n",
    "data.info()"
   ]
  },
  {
   "cell_type": "code",
   "execution_count": 2,
   "metadata": {},
   "outputs": [
    {
     "data": {
      "text/plain": [
       "ArrivalFlight           0\n",
       "ORIGIN                  0\n",
       "Arrival_Gate            0\n",
       "SIBTDateTimeOffset      0\n",
       "ArrivalFlight & Date    0\n",
       "                       ..\n",
       "Missed_CY               0\n",
       "Missed_IY               0\n",
       "Missed_Total            0\n",
       "Missed_Y/N              0\n",
       "% Success               0\n",
       "Length: 79, dtype: int64"
      ]
     },
     "execution_count": 2,
     "metadata": {},
     "output_type": "execute_result"
    }
   ],
   "source": [
    "# missing value\n",
    "data.isnull().sum()"
   ]
  },
  {
   "cell_type": "code",
   "execution_count": 3,
   "metadata": {},
   "outputs": [
    {
     "data": {
      "text/plain": [
       "Index(['ArrivalFlight', 'ORIGIN', 'Arrival_Gate', 'SIBTDateTimeOffset',\n",
       "       'ArrivalFlight & Date', 'ArrFlt_SIBT', 'SIBT', 'Day in Week',\n",
       "       'EIBTDateTimeOffset', 'EIBT', 'AIBTDateTimeOffset', 'AIBT',\n",
       "       'DepartureFlight', 'Dep_Gate', 'DepartureFlight & Date', 'DESTINATION',\n",
       "       'SOBTDateTimeOffset', 'SOBT', 'EOBTDateTimeOffset',\n",
       "       'Flight_Departure_Time', 'EOBT', 'AOBTDateTimeOffset', 'AOBT',\n",
       "       'Actual_Connection_Time', 'ID', 'AdultFirstBookedCount',\n",
       "       'ChildFirstBookedCount', 'InfantFirstBookedCount',\n",
       "       'AdultBusinessBookedCount', 'ChildBusinessBookedCount',\n",
       "       'InfantBusinessBookedCount', 'AdultPremiumBookedCount',\n",
       "       'ChildPremiumBookedCount', 'InfantPremiumBookedCount',\n",
       "       'AdultEconomyBookedCount', 'ChildEconomyBookedCount',\n",
       "       'InfantEconomyBookedCount', 'EOBT2', 'ConnectTime (SOBT-SIBT)',\n",
       "       'ConnectTime (EOBT-EIBT)', 'Duration', 'Protection_Cost',\n",
       "       'AdultFirstAcceptedCount', 'ChildFirstAcceptedCount',\n",
       "       'InfantFirstAcceptedCount', 'AdultBusinessAcceptedCount',\n",
       "       'ChildBusinessAcceptedCount', 'InfantBusinessAcceptedCount',\n",
       "       'AdultPremiumAcceptedCount', 'ChildPremiumAcceptedCount',\n",
       "       'InfantPremiumAcceptedCount', 'AdultEconomyAcceptedCount',\n",
       "       'ChildEconomyAcceptedCount', 'InfantEconomyAcceptedCount',\n",
       "       'Accepted_Total', 'FirstClassBagCount', 'BusinessClassBagCount',\n",
       "       'PremiumClassBagCount', 'EconomyClassBagCount', 'Total_Bag_Count',\n",
       "       'FirstClassBagsWeight', 'BusinessClassBagsWeight',\n",
       "       'PremiumClassBagsWeight', 'SQPassengerCountInfo_ID', 'Missed_AF',\n",
       "       'Missed_CF', 'Missed_IF', 'Missed_AJ', 'Missed_CJ', 'Missed_IJ',\n",
       "       'Missed_APY', 'Missed_CPY', 'Missed_IPY', 'Missed_AY', 'Missed_CY',\n",
       "       'Missed_IY', 'Missed_Total', 'Missed_Y/N', '% Success'],\n",
       "      dtype='object')"
      ]
     },
     "execution_count": 3,
     "metadata": {},
     "output_type": "execute_result"
    }
   ],
   "source": [
    "data.columns"
   ]
  },
  {
   "attachments": {},
   "cell_type": "markdown",
   "metadata": {},
   "source": [
    "#### Specific Columns"
   ]
  },
  {
   "cell_type": "code",
   "execution_count": 4,
   "metadata": {},
   "outputs": [],
   "source": [
    "# shortlisted columns\n",
    "datatemp=data[['ArrivalFlight','ORIGIN','SIBT','DESTINATION','Arrival_Gate','Dep_Gate','Actual_Connection_Time','% Success']]"
   ]
  },
  {
   "cell_type": "code",
   "execution_count": 5,
   "metadata": {},
   "outputs": [
    {
     "data": {
      "text/html": [
       "<div>\n",
       "<style scoped>\n",
       "    .dataframe tbody tr th:only-of-type {\n",
       "        vertical-align: middle;\n",
       "    }\n",
       "\n",
       "    .dataframe tbody tr th {\n",
       "        vertical-align: top;\n",
       "    }\n",
       "\n",
       "    .dataframe thead th {\n",
       "        text-align: right;\n",
       "    }\n",
       "</style>\n",
       "<table border=\"1\" class=\"dataframe\">\n",
       "  <thead>\n",
       "    <tr style=\"text-align: right;\">\n",
       "      <th></th>\n",
       "      <th>ArrivalFlight</th>\n",
       "      <th>ORIGIN</th>\n",
       "      <th>SIBT</th>\n",
       "      <th>DESTINATION</th>\n",
       "      <th>Arrival_Gate</th>\n",
       "      <th>Dep_Gate</th>\n",
       "      <th>Actual_Connection_Time</th>\n",
       "      <th>% Success</th>\n",
       "    </tr>\n",
       "  </thead>\n",
       "  <tbody>\n",
       "    <tr>\n",
       "      <th>0</th>\n",
       "      <td>SQ208</td>\n",
       "      <td>Melbourne</td>\n",
       "      <td>2022-09-30 16:15:00</td>\n",
       "      <td>London</td>\n",
       "      <td>B2</td>\n",
       "      <td>A2</td>\n",
       "      <td>2023-02-02 00:34:00</td>\n",
       "      <td>1.0</td>\n",
       "    </tr>\n",
       "    <tr>\n",
       "      <th>1</th>\n",
       "      <td>SQ208</td>\n",
       "      <td>Melbourne</td>\n",
       "      <td>2022-09-30 16:15:00</td>\n",
       "      <td>New Dehli</td>\n",
       "      <td>B2</td>\n",
       "      <td>A2</td>\n",
       "      <td>2023-02-02 00:34:00</td>\n",
       "      <td>1.0</td>\n",
       "    </tr>\n",
       "    <tr>\n",
       "      <th>2</th>\n",
       "      <td>SQ208</td>\n",
       "      <td>Melbourne</td>\n",
       "      <td>2022-09-30 16:15:00</td>\n",
       "      <td>Manila</td>\n",
       "      <td>B2</td>\n",
       "      <td>A2</td>\n",
       "      <td>2023-02-02 00:34:00</td>\n",
       "      <td>0.0</td>\n",
       "    </tr>\n",
       "    <tr>\n",
       "      <th>3</th>\n",
       "      <td>SQ208</td>\n",
       "      <td>Melbourne</td>\n",
       "      <td>2022-09-30 16:15:00</td>\n",
       "      <td>Ahmedabad</td>\n",
       "      <td>B2</td>\n",
       "      <td>A2</td>\n",
       "      <td>2023-02-02 00:34:00</td>\n",
       "      <td>1.0</td>\n",
       "    </tr>\n",
       "    <tr>\n",
       "      <th>4</th>\n",
       "      <td>SQ208</td>\n",
       "      <td>Melbourne</td>\n",
       "      <td>2022-09-30 16:15:00</td>\n",
       "      <td>Seoul</td>\n",
       "      <td>B2</td>\n",
       "      <td>A2</td>\n",
       "      <td>2023-02-02 00:34:00</td>\n",
       "      <td>1.0</td>\n",
       "    </tr>\n",
       "  </tbody>\n",
       "</table>\n",
       "</div>"
      ],
      "text/plain": [
       "  ArrivalFlight     ORIGIN                SIBT DESTINATION Arrival_Gate  \\\n",
       "0         SQ208  Melbourne 2022-09-30 16:15:00      London           B2   \n",
       "1         SQ208  Melbourne 2022-09-30 16:15:00   New Dehli           B2   \n",
       "2         SQ208  Melbourne 2022-09-30 16:15:00      Manila           B2   \n",
       "3         SQ208  Melbourne 2022-09-30 16:15:00   Ahmedabad           B2   \n",
       "4         SQ208  Melbourne 2022-09-30 16:15:00       Seoul           B2   \n",
       "\n",
       "  Dep_Gate Actual_Connection_Time  % Success  \n",
       "0       A2    2023-02-02 00:34:00        1.0  \n",
       "1       A2    2023-02-02 00:34:00        1.0  \n",
       "2       A2    2023-02-02 00:34:00        0.0  \n",
       "3       A2    2023-02-02 00:34:00        1.0  \n",
       "4       A2    2023-02-02 00:34:00        1.0  "
      ]
     },
     "execution_count": 5,
     "metadata": {},
     "output_type": "execute_result"
    }
   ],
   "source": [
    "datatemp.head()"
   ]
  },
  {
   "attachments": {},
   "cell_type": "markdown",
   "metadata": {},
   "source": [
    "#### Dtypes and Shape"
   ]
  },
  {
   "cell_type": "code",
   "execution_count": 6,
   "metadata": {},
   "outputs": [
    {
     "data": {
      "text/plain": [
       "ArrivalFlight                     object\n",
       "ORIGIN                            object\n",
       "SIBT                      datetime64[ns]\n",
       "DESTINATION                       object\n",
       "Arrival_Gate                      object\n",
       "Dep_Gate                          object\n",
       "Actual_Connection_Time    datetime64[ns]\n",
       "% Success                        float64\n",
       "dtype: object"
      ]
     },
     "execution_count": 6,
     "metadata": {},
     "output_type": "execute_result"
    }
   ],
   "source": [
    "#  data type\n",
    "datatemp.dtypes"
   ]
  },
  {
   "cell_type": "code",
   "execution_count": 7,
   "metadata": {},
   "outputs": [
    {
     "data": {
      "text/plain": [
       "(105700, 8)"
      ]
     },
     "execution_count": 7,
     "metadata": {},
     "output_type": "execute_result"
    }
   ],
   "source": [
    "# check number of rows\n",
    "datatemp.shape"
   ]
  },
  {
   "attachments": {},
   "cell_type": "markdown",
   "metadata": {},
   "source": [
    "#### HH:MM:SS --> Seconds --> Minutes"
   ]
  },
  {
   "cell_type": "code",
   "execution_count": 8,
   "metadata": {},
   "outputs": [
    {
     "name": "stderr",
     "output_type": "stream",
     "text": [
      "C:\\Users\\cvalley\\AppData\\Local\\Temp\\ipykernel_16836\\2689905527.py:2: SettingWithCopyWarning: \n",
      "A value is trying to be set on a copy of a slice from a DataFrame.\n",
      "Try using .loc[row_indexer,col_indexer] = value instead\n",
      "\n",
      "See the caveats in the documentation: https://pandas.pydata.org/pandas-docs/stable/user_guide/indexing.html#returning-a-view-versus-a-copy\n",
      "  datatemp['Actual_Connection_Time_new']=datatemp['Actual_Connection_Time'].dt.hour*(60*60)+datatemp['Actual_Connection_Time'].dt.minute*60+datatemp['Actual_Connection_Time'].dt.second\n",
      "C:\\Users\\cvalley\\AppData\\Local\\Temp\\ipykernel_16836\\2689905527.py:4: SettingWithCopyWarning: \n",
      "A value is trying to be set on a copy of a slice from a DataFrame.\n",
      "Try using .loc[row_indexer,col_indexer] = value instead\n",
      "\n",
      "See the caveats in the documentation: https://pandas.pydata.org/pandas-docs/stable/user_guide/indexing.html#returning-a-view-versus-a-copy\n",
      "  datatemp['Actual_Connection_Time_new']=datatemp['Actual_Connection_Time_new']/60\n"
     ]
    },
    {
     "name": "stdout",
     "output_type": "stream",
     "text": [
      "<class 'pandas.core.frame.DataFrame'>\n",
      "RangeIndex: 105700 entries, 0 to 105699\n",
      "Data columns (total 9 columns):\n",
      " #   Column                      Non-Null Count   Dtype         \n",
      "---  ------                      --------------   -----         \n",
      " 0   ArrivalFlight               105700 non-null  object        \n",
      " 1   ORIGIN                      105700 non-null  object        \n",
      " 2   SIBT                        105700 non-null  datetime64[ns]\n",
      " 3   DESTINATION                 105700 non-null  object        \n",
      " 4   Arrival_Gate                105700 non-null  object        \n",
      " 5   Dep_Gate                    105700 non-null  object        \n",
      " 6   Actual_Connection_Time      105700 non-null  datetime64[ns]\n",
      " 7   % Success                   105700 non-null  float64       \n",
      " 8   Actual_Connection_Time_new  105700 non-null  float64       \n",
      "dtypes: datetime64[ns](2), float64(2), object(5)\n",
      "memory usage: 7.3+ MB\n"
     ]
    }
   ],
   "source": [
    "# convert Actual Connection Time HH:MM:SS to minutes\n",
    "datatemp['Actual_Connection_Time_new']=datatemp['Actual_Connection_Time'].dt.hour*(60*60)+datatemp['Actual_Connection_Time'].dt.minute*60+datatemp['Actual_Connection_Time'].dt.second\n",
    "# now convert to minutes\n",
    "datatemp['Actual_Connection_Time_new']=datatemp['Actual_Connection_Time_new']/60\n",
    "datatemp.info()"
   ]
  },
  {
   "attachments": {},
   "cell_type": "markdown",
   "metadata": {},
   "source": [
    "#### Count, Time > 60 "
   ]
  },
  {
   "cell_type": "code",
   "execution_count": 9,
   "metadata": {},
   "outputs": [
    {
     "data": {
      "text/plain": [
       "ArrivalFlight                 101357\n",
       "ORIGIN                        101357\n",
       "SIBT                          101357\n",
       "DESTINATION                   101357\n",
       "Arrival_Gate                  101357\n",
       "Dep_Gate                      101357\n",
       "Actual_Connection_Time        101357\n",
       "% Success                     101357\n",
       "Actual_Connection_Time_new    101357\n",
       "dtype: int64"
      ]
     },
     "execution_count": 9,
     "metadata": {},
     "output_type": "execute_result"
    }
   ],
   "source": [
    "# actual connection time greater than 60\n",
    "datatemp[datatemp['Actual_Connection_Time_new']>60].count()"
   ]
  },
  {
   "attachments": {},
   "cell_type": "markdown",
   "metadata": {},
   "source": [
    "#### Time < 60 "
   ]
  },
  {
   "cell_type": "code",
   "execution_count": 10,
   "metadata": {},
   "outputs": [
    {
     "name": "stdout",
     "output_type": "stream",
     "text": [
      "<class 'pandas.core.frame.DataFrame'>\n",
      "Int64Index: 4103 entries, 0 to 105699\n",
      "Data columns (total 9 columns):\n",
      " #   Column                      Non-Null Count  Dtype         \n",
      "---  ------                      --------------  -----         \n",
      " 0   ArrivalFlight               4103 non-null   object        \n",
      " 1   ORIGIN                      4103 non-null   object        \n",
      " 2   SIBT                        4103 non-null   datetime64[ns]\n",
      " 3   DESTINATION                 4103 non-null   object        \n",
      " 4   Arrival_Gate                4103 non-null   object        \n",
      " 5   Dep_Gate                    4103 non-null   object        \n",
      " 6   Actual_Connection_Time      4103 non-null   datetime64[ns]\n",
      " 7   % Success                   4103 non-null   float64       \n",
      " 8   Actual_Connection_Time_new  4103 non-null   float64       \n",
      "dtypes: datetime64[ns](2), float64(2), object(5)\n",
      "memory usage: 320.5+ KB\n"
     ]
    }
   ],
   "source": [
    "# delete records with actual connection time less than 60\n",
    "datatemp=datatemp[datatemp['Actual_Connection_Time_new']<60]\n",
    "datatemp.info()"
   ]
  },
  {
   "cell_type": "code",
   "execution_count": 11,
   "metadata": {},
   "outputs": [
    {
     "data": {
      "text/plain": [
       "(4103, 9)"
      ]
     },
     "execution_count": 11,
     "metadata": {},
     "output_type": "execute_result"
    }
   ],
   "source": [
    "datatemp.shape"
   ]
  },
  {
   "cell_type": "code",
   "execution_count": 12,
   "metadata": {},
   "outputs": [
    {
     "data": {
      "text/html": [
       "<div>\n",
       "<style scoped>\n",
       "    .dataframe tbody tr th:only-of-type {\n",
       "        vertical-align: middle;\n",
       "    }\n",
       "\n",
       "    .dataframe tbody tr th {\n",
       "        vertical-align: top;\n",
       "    }\n",
       "\n",
       "    .dataframe thead th {\n",
       "        text-align: right;\n",
       "    }\n",
       "</style>\n",
       "<table border=\"1\" class=\"dataframe\">\n",
       "  <thead>\n",
       "    <tr style=\"text-align: right;\">\n",
       "      <th></th>\n",
       "      <th>ArrivalFlight</th>\n",
       "      <th>ORIGIN</th>\n",
       "      <th>SIBT</th>\n",
       "      <th>DESTINATION</th>\n",
       "      <th>Arrival_Gate</th>\n",
       "      <th>Dep_Gate</th>\n",
       "      <th>Actual_Connection_Time</th>\n",
       "      <th>% Success</th>\n",
       "      <th>Actual_Connection_Time_new</th>\n",
       "    </tr>\n",
       "  </thead>\n",
       "  <tbody>\n",
       "    <tr>\n",
       "      <th>0</th>\n",
       "      <td>SQ208</td>\n",
       "      <td>Melbourne</td>\n",
       "      <td>2022-09-30 16:15:00</td>\n",
       "      <td>London</td>\n",
       "      <td>B2</td>\n",
       "      <td>A2</td>\n",
       "      <td>2023-02-02 00:34:00</td>\n",
       "      <td>1.0</td>\n",
       "      <td>34.0</td>\n",
       "    </tr>\n",
       "    <tr>\n",
       "      <th>1</th>\n",
       "      <td>SQ208</td>\n",
       "      <td>Melbourne</td>\n",
       "      <td>2022-09-30 16:15:00</td>\n",
       "      <td>New Dehli</td>\n",
       "      <td>B2</td>\n",
       "      <td>A2</td>\n",
       "      <td>2023-02-02 00:34:00</td>\n",
       "      <td>1.0</td>\n",
       "      <td>34.0</td>\n",
       "    </tr>\n",
       "    <tr>\n",
       "      <th>2</th>\n",
       "      <td>SQ208</td>\n",
       "      <td>Melbourne</td>\n",
       "      <td>2022-09-30 16:15:00</td>\n",
       "      <td>Manila</td>\n",
       "      <td>B2</td>\n",
       "      <td>A2</td>\n",
       "      <td>2023-02-02 00:34:00</td>\n",
       "      <td>0.0</td>\n",
       "      <td>34.0</td>\n",
       "    </tr>\n",
       "    <tr>\n",
       "      <th>3</th>\n",
       "      <td>SQ208</td>\n",
       "      <td>Melbourne</td>\n",
       "      <td>2022-09-30 16:15:00</td>\n",
       "      <td>Ahmedabad</td>\n",
       "      <td>B2</td>\n",
       "      <td>A2</td>\n",
       "      <td>2023-02-02 00:34:00</td>\n",
       "      <td>1.0</td>\n",
       "      <td>34.0</td>\n",
       "    </tr>\n",
       "    <tr>\n",
       "      <th>4</th>\n",
       "      <td>SQ208</td>\n",
       "      <td>Melbourne</td>\n",
       "      <td>2022-09-30 16:15:00</td>\n",
       "      <td>Seoul</td>\n",
       "      <td>B2</td>\n",
       "      <td>A2</td>\n",
       "      <td>2023-02-02 00:34:00</td>\n",
       "      <td>1.0</td>\n",
       "      <td>34.0</td>\n",
       "    </tr>\n",
       "  </tbody>\n",
       "</table>\n",
       "</div>"
      ],
      "text/plain": [
       "  ArrivalFlight     ORIGIN                SIBT DESTINATION Arrival_Gate  \\\n",
       "0         SQ208  Melbourne 2022-09-30 16:15:00      London           B2   \n",
       "1         SQ208  Melbourne 2022-09-30 16:15:00   New Dehli           B2   \n",
       "2         SQ208  Melbourne 2022-09-30 16:15:00      Manila           B2   \n",
       "3         SQ208  Melbourne 2022-09-30 16:15:00   Ahmedabad           B2   \n",
       "4         SQ208  Melbourne 2022-09-30 16:15:00       Seoul           B2   \n",
       "\n",
       "  Dep_Gate Actual_Connection_Time  % Success  Actual_Connection_Time_new  \n",
       "0       A2    2023-02-02 00:34:00        1.0                        34.0  \n",
       "1       A2    2023-02-02 00:34:00        1.0                        34.0  \n",
       "2       A2    2023-02-02 00:34:00        0.0                        34.0  \n",
       "3       A2    2023-02-02 00:34:00        1.0                        34.0  \n",
       "4       A2    2023-02-02 00:34:00        1.0                        34.0  "
      ]
     },
     "execution_count": 12,
     "metadata": {},
     "output_type": "execute_result"
    }
   ],
   "source": [
    "datatemp.head()"
   ]
  },
  {
   "attachments": {},
   "cell_type": "markdown",
   "metadata": {},
   "source": [
    "#### Arrival and Departure Unique values"
   ]
  },
  {
   "cell_type": "code",
   "execution_count": 13,
   "metadata": {},
   "outputs": [
    {
     "data": {
      "text/plain": [
       "Arrival_Gate    77\n",
       "Dep_Gate        58\n",
       "dtype: int64"
      ]
     },
     "execution_count": 13,
     "metadata": {},
     "output_type": "execute_result"
    }
   ],
   "source": [
    "# value counts of % success Arrival_Gate and Dep_Gate\n",
    "datatemp[['Arrival_Gate', 'Dep_Gate']].nunique()"
   ]
  },
  {
   "attachments": {},
   "cell_type": "markdown",
   "metadata": {},
   "source": [
    "#### Arrival and Departure groupby Count "
   ]
  },
  {
   "cell_type": "code",
   "execution_count": 14,
   "metadata": {},
   "outputs": [
    {
     "data": {
      "text/html": [
       "<div>\n",
       "<style scoped>\n",
       "    .dataframe tbody tr th:only-of-type {\n",
       "        vertical-align: middle;\n",
       "    }\n",
       "\n",
       "    .dataframe tbody tr th {\n",
       "        vertical-align: top;\n",
       "    }\n",
       "\n",
       "    .dataframe thead th {\n",
       "        text-align: right;\n",
       "    }\n",
       "</style>\n",
       "<table border=\"1\" class=\"dataframe\">\n",
       "  <thead>\n",
       "    <tr style=\"text-align: right;\">\n",
       "      <th></th>\n",
       "      <th></th>\n",
       "      <th>ArrivalFlight</th>\n",
       "      <th>ORIGIN</th>\n",
       "      <th>SIBT</th>\n",
       "      <th>DESTINATION</th>\n",
       "      <th>Actual_Connection_Time</th>\n",
       "      <th>% Success</th>\n",
       "      <th>Actual_Connection_Time_new</th>\n",
       "    </tr>\n",
       "    <tr>\n",
       "      <th>Arrival_Gate</th>\n",
       "      <th>Dep_Gate</th>\n",
       "      <th></th>\n",
       "      <th></th>\n",
       "      <th></th>\n",
       "      <th></th>\n",
       "      <th></th>\n",
       "      <th></th>\n",
       "      <th></th>\n",
       "    </tr>\n",
       "  </thead>\n",
       "  <tbody>\n",
       "    <tr>\n",
       "      <th>305</th>\n",
       "      <th>F42</th>\n",
       "      <td>2</td>\n",
       "      <td>2</td>\n",
       "      <td>2</td>\n",
       "      <td>2</td>\n",
       "      <td>2</td>\n",
       "      <td>2</td>\n",
       "      <td>2</td>\n",
       "    </tr>\n",
       "    <tr>\n",
       "      <th rowspan=\"4\" valign=\"top\">A1</th>\n",
       "      <th>A12</th>\n",
       "      <td>44</td>\n",
       "      <td>44</td>\n",
       "      <td>44</td>\n",
       "      <td>44</td>\n",
       "      <td>44</td>\n",
       "      <td>44</td>\n",
       "      <td>44</td>\n",
       "    </tr>\n",
       "    <tr>\n",
       "      <th>A14</th>\n",
       "      <td>11</td>\n",
       "      <td>11</td>\n",
       "      <td>11</td>\n",
       "      <td>11</td>\n",
       "      <td>11</td>\n",
       "      <td>11</td>\n",
       "      <td>11</td>\n",
       "    </tr>\n",
       "    <tr>\n",
       "      <th>A17</th>\n",
       "      <td>5</td>\n",
       "      <td>5</td>\n",
       "      <td>5</td>\n",
       "      <td>5</td>\n",
       "      <td>5</td>\n",
       "      <td>5</td>\n",
       "      <td>5</td>\n",
       "    </tr>\n",
       "    <tr>\n",
       "      <th>B1</th>\n",
       "      <td>5</td>\n",
       "      <td>5</td>\n",
       "      <td>5</td>\n",
       "      <td>5</td>\n",
       "      <td>5</td>\n",
       "      <td>5</td>\n",
       "      <td>5</td>\n",
       "    </tr>\n",
       "    <tr>\n",
       "      <th>...</th>\n",
       "      <th>...</th>\n",
       "      <td>...</td>\n",
       "      <td>...</td>\n",
       "      <td>...</td>\n",
       "      <td>...</td>\n",
       "      <td>...</td>\n",
       "      <td>...</td>\n",
       "      <td>...</td>\n",
       "    </tr>\n",
       "    <tr>\n",
       "      <th rowspan=\"5\" valign=\"top\">F60</th>\n",
       "      <th>B9</th>\n",
       "      <td>16</td>\n",
       "      <td>16</td>\n",
       "      <td>16</td>\n",
       "      <td>16</td>\n",
       "      <td>16</td>\n",
       "      <td>16</td>\n",
       "      <td>16</td>\n",
       "    </tr>\n",
       "    <tr>\n",
       "      <th>C22</th>\n",
       "      <td>14</td>\n",
       "      <td>14</td>\n",
       "      <td>14</td>\n",
       "      <td>14</td>\n",
       "      <td>14</td>\n",
       "      <td>14</td>\n",
       "      <td>14</td>\n",
       "    </tr>\n",
       "    <tr>\n",
       "      <th>F32</th>\n",
       "      <td>18</td>\n",
       "      <td>18</td>\n",
       "      <td>18</td>\n",
       "      <td>18</td>\n",
       "      <td>18</td>\n",
       "      <td>18</td>\n",
       "      <td>18</td>\n",
       "    </tr>\n",
       "    <tr>\n",
       "      <th>F35</th>\n",
       "      <td>2</td>\n",
       "      <td>2</td>\n",
       "      <td>2</td>\n",
       "      <td>2</td>\n",
       "      <td>2</td>\n",
       "      <td>2</td>\n",
       "      <td>2</td>\n",
       "    </tr>\n",
       "    <tr>\n",
       "      <th>F54</th>\n",
       "      <td>13</td>\n",
       "      <td>13</td>\n",
       "      <td>13</td>\n",
       "      <td>13</td>\n",
       "      <td>13</td>\n",
       "      <td>13</td>\n",
       "      <td>13</td>\n",
       "    </tr>\n",
       "  </tbody>\n",
       "</table>\n",
       "<p>390 rows × 7 columns</p>\n",
       "</div>"
      ],
      "text/plain": [
       "                       ArrivalFlight  ORIGIN  SIBT  DESTINATION  \\\n",
       "Arrival_Gate Dep_Gate                                             \n",
       "305          F42                   2       2     2            2   \n",
       "A1           A12                  44      44    44           44   \n",
       "             A14                  11      11    11           11   \n",
       "             A17                   5       5     5            5   \n",
       "             B1                    5       5     5            5   \n",
       "...                              ...     ...   ...          ...   \n",
       "F60          B9                   16      16    16           16   \n",
       "             C22                  14      14    14           14   \n",
       "             F32                  18      18    18           18   \n",
       "             F35                   2       2     2            2   \n",
       "             F54                  13      13    13           13   \n",
       "\n",
       "                       Actual_Connection_Time  % Success  \\\n",
       "Arrival_Gate Dep_Gate                                      \n",
       "305          F42                            2          2   \n",
       "A1           A12                           44         44   \n",
       "             A14                           11         11   \n",
       "             A17                            5          5   \n",
       "             B1                             5          5   \n",
       "...                                       ...        ...   \n",
       "F60          B9                            16         16   \n",
       "             C22                           14         14   \n",
       "             F32                           18         18   \n",
       "             F35                            2          2   \n",
       "             F54                           13         13   \n",
       "\n",
       "                       Actual_Connection_Time_new  \n",
       "Arrival_Gate Dep_Gate                              \n",
       "305          F42                                2  \n",
       "A1           A12                               44  \n",
       "             A14                               11  \n",
       "             A17                                5  \n",
       "             B1                                 5  \n",
       "...                                           ...  \n",
       "F60          B9                                16  \n",
       "             C22                               14  \n",
       "             F32                               18  \n",
       "             F35                                2  \n",
       "             F54                               13  \n",
       "\n",
       "[390 rows x 7 columns]"
      ]
     },
     "execution_count": 14,
     "metadata": {},
     "output_type": "execute_result"
    }
   ],
   "source": [
    "datatemp.groupby(['Arrival_Gate', 'Dep_Gate']).count()"
   ]
  },
  {
   "attachments": {},
   "cell_type": "markdown",
   "metadata": {},
   "source": [
    "#### Group by on required columns"
   ]
  },
  {
   "cell_type": "code",
   "execution_count": 15,
   "metadata": {},
   "outputs": [
    {
     "data": {
      "text/plain": [
       "Arrival_Gate  Dep_Gate  % Success\n",
       "305           F42       0.000000      2\n",
       "A1            A12       0.800000      2\n",
       "                        0.937500      2\n",
       "                        1.000000     40\n",
       "              A14       0.000000      1\n",
       "                                     ..\n",
       "F60           F35       1.000000      1\n",
       "              F54       0.368421      1\n",
       "                        0.545455      1\n",
       "                        0.750000      1\n",
       "                        1.000000     10\n",
       "Length: 1034, dtype: int64"
      ]
     },
     "execution_count": 15,
     "metadata": {},
     "output_type": "execute_result"
    }
   ],
   "source": [
    "# groupby Actual Connection Time, % Success, Arrival Gate and Departure Gate\n",
    "datatemp.groupby(['Arrival_Gate','Dep_Gate','% Success']).size()"
   ]
  },
  {
   "attachments": {},
   "cell_type": "markdown",
   "metadata": {},
   "source": [
    "#### To CSV"
   ]
  },
  {
   "cell_type": "code",
   "execution_count": 16,
   "metadata": {},
   "outputs": [],
   "source": [
    "# groupby Actual Connection Time, % Success, Arrival Gate and Departure Gate\n",
    "new = datatemp.groupby(['Arrival_Gate','Dep_Gate','% Success']).size()\n",
    "# export to csv\n",
    "new.to_csv('60_MinutesSATS.csv')"
   ]
  },
  {
   "attachments": {},
   "cell_type": "markdown",
   "metadata": {},
   "source": [
    "#### Checking"
   ]
  },
  {
   "cell_type": "code",
   "execution_count": 17,
   "metadata": {},
   "outputs": [
    {
     "data": {
      "text/html": [
       "<div>\n",
       "<style scoped>\n",
       "    .dataframe tbody tr th:only-of-type {\n",
       "        vertical-align: middle;\n",
       "    }\n",
       "\n",
       "    .dataframe tbody tr th {\n",
       "        vertical-align: top;\n",
       "    }\n",
       "\n",
       "    .dataframe thead th {\n",
       "        text-align: right;\n",
       "    }\n",
       "</style>\n",
       "<table border=\"1\" class=\"dataframe\">\n",
       "  <thead>\n",
       "    <tr style=\"text-align: right;\">\n",
       "      <th></th>\n",
       "      <th>ArrivalFlight</th>\n",
       "      <th>ORIGIN</th>\n",
       "      <th>SIBT</th>\n",
       "      <th>DESTINATION</th>\n",
       "      <th>Arrival_Gate</th>\n",
       "      <th>Dep_Gate</th>\n",
       "      <th>Actual_Connection_Time</th>\n",
       "      <th>% Success</th>\n",
       "      <th>Actual_Connection_Time_new</th>\n",
       "    </tr>\n",
       "  </thead>\n",
       "  <tbody>\n",
       "    <tr>\n",
       "      <th>25871</th>\n",
       "      <td>UK115</td>\n",
       "      <td>New Dehli</td>\n",
       "      <td>2022-10-17 00:15:00</td>\n",
       "      <td>Manila</td>\n",
       "      <td>305</td>\n",
       "      <td>F42</td>\n",
       "      <td>2023-02-02 00:57:00</td>\n",
       "      <td>0.0</td>\n",
       "      <td>57.0</td>\n",
       "    </tr>\n",
       "    <tr>\n",
       "      <th>25872</th>\n",
       "      <td>UK115</td>\n",
       "      <td>New Dehli</td>\n",
       "      <td>2022-10-17 00:15:00</td>\n",
       "      <td>Manila</td>\n",
       "      <td>305</td>\n",
       "      <td>F42</td>\n",
       "      <td>2023-02-02 00:57:00</td>\n",
       "      <td>0.0</td>\n",
       "      <td>57.0</td>\n",
       "    </tr>\n",
       "  </tbody>\n",
       "</table>\n",
       "</div>"
      ],
      "text/plain": [
       "      ArrivalFlight     ORIGIN                SIBT DESTINATION Arrival_Gate  \\\n",
       "25871         UK115  New Dehli 2022-10-17 00:15:00      Manila          305   \n",
       "25872         UK115  New Dehli 2022-10-17 00:15:00      Manila          305   \n",
       "\n",
       "      Dep_Gate Actual_Connection_Time  % Success  Actual_Connection_Time_new  \n",
       "25871      F42    2023-02-02 00:57:00        0.0                        57.0  \n",
       "25872      F42    2023-02-02 00:57:00        0.0                        57.0  "
      ]
     },
     "execution_count": 17,
     "metadata": {},
     "output_type": "execute_result"
    }
   ],
   "source": [
    "# arrival gate = 305\n",
    "datatemp[datatemp['Arrival_Gate']==305]"
   ]
  },
  {
   "attachments": {},
   "cell_type": "markdown",
   "metadata": {},
   "source": [
    "#### Groupby count on required columns"
   ]
  },
  {
   "cell_type": "code",
   "execution_count": 18,
   "metadata": {},
   "outputs": [
    {
     "data": {
      "text/plain": [
       "390"
      ]
     },
     "execution_count": 18,
     "metadata": {},
     "output_type": "execute_result"
    }
   ],
   "source": [
    "# arrival gate and departure gate unique combination\n",
    "datatemp.groupby(['Arrival_Gate','Dep_Gate']).size().count()"
   ]
  },
  {
   "attachments": {},
   "cell_type": "markdown",
   "metadata": {},
   "source": [
    "#### Read csv file"
   ]
  },
  {
   "cell_type": "code",
   "execution_count": 78,
   "metadata": {},
   "outputs": [
    {
     "data": {
      "text/html": [
       "<div>\n",
       "<style scoped>\n",
       "    .dataframe tbody tr th:only-of-type {\n",
       "        vertical-align: middle;\n",
       "    }\n",
       "\n",
       "    .dataframe tbody tr th {\n",
       "        vertical-align: top;\n",
       "    }\n",
       "\n",
       "    .dataframe thead th {\n",
       "        text-align: right;\n",
       "    }\n",
       "</style>\n",
       "<table border=\"1\" class=\"dataframe\">\n",
       "  <thead>\n",
       "    <tr style=\"text-align: right;\">\n",
       "      <th></th>\n",
       "      <th>Arrival_Gate</th>\n",
       "      <th>Dep_Gate</th>\n",
       "      <th>% Success</th>\n",
       "      <th>0</th>\n",
       "    </tr>\n",
       "  </thead>\n",
       "  <tbody>\n",
       "    <tr>\n",
       "      <th>0</th>\n",
       "      <td>305</td>\n",
       "      <td>F42</td>\n",
       "      <td>0.0000</td>\n",
       "      <td>2</td>\n",
       "    </tr>\n",
       "    <tr>\n",
       "      <th>1</th>\n",
       "      <td>A1</td>\n",
       "      <td>A12</td>\n",
       "      <td>0.8000</td>\n",
       "      <td>2</td>\n",
       "    </tr>\n",
       "    <tr>\n",
       "      <th>2</th>\n",
       "      <td>A1</td>\n",
       "      <td>A12</td>\n",
       "      <td>0.9375</td>\n",
       "      <td>2</td>\n",
       "    </tr>\n",
       "    <tr>\n",
       "      <th>3</th>\n",
       "      <td>A1</td>\n",
       "      <td>A12</td>\n",
       "      <td>1.0000</td>\n",
       "      <td>40</td>\n",
       "    </tr>\n",
       "    <tr>\n",
       "      <th>4</th>\n",
       "      <td>A1</td>\n",
       "      <td>A14</td>\n",
       "      <td>0.0000</td>\n",
       "      <td>1</td>\n",
       "    </tr>\n",
       "  </tbody>\n",
       "</table>\n",
       "</div>"
      ],
      "text/plain": [
       "  Arrival_Gate Dep_Gate  % Success   0\n",
       "0          305      F42     0.0000   2\n",
       "1           A1      A12     0.8000   2\n",
       "2           A1      A12     0.9375   2\n",
       "3           A1      A12     1.0000  40\n",
       "4           A1      A14     0.0000   1"
      ]
     },
     "execution_count": 78,
     "metadata": {},
     "output_type": "execute_result"
    }
   ],
   "source": [
    "df_60=pd.read_csv('60_MinutesSATS.csv')\n",
    "df_60.head()"
   ]
  },
  {
   "attachments": {},
   "cell_type": "markdown",
   "metadata": {},
   "source": [
    "#### Rename columns"
   ]
  },
  {
   "cell_type": "code",
   "execution_count": 79,
   "metadata": {},
   "outputs": [
    {
     "data": {
      "text/html": [
       "<div>\n",
       "<style scoped>\n",
       "    .dataframe tbody tr th:only-of-type {\n",
       "        vertical-align: middle;\n",
       "    }\n",
       "\n",
       "    .dataframe tbody tr th {\n",
       "        vertical-align: top;\n",
       "    }\n",
       "\n",
       "    .dataframe thead th {\n",
       "        text-align: right;\n",
       "    }\n",
       "</style>\n",
       "<table border=\"1\" class=\"dataframe\">\n",
       "  <thead>\n",
       "    <tr style=\"text-align: right;\">\n",
       "      <th></th>\n",
       "      <th>Arrival_Gate</th>\n",
       "      <th>Dep_Gate</th>\n",
       "      <th>% Success</th>\n",
       "      <th>Frequency</th>\n",
       "    </tr>\n",
       "  </thead>\n",
       "  <tbody>\n",
       "    <tr>\n",
       "      <th>0</th>\n",
       "      <td>305</td>\n",
       "      <td>F42</td>\n",
       "      <td>0.0000</td>\n",
       "      <td>2</td>\n",
       "    </tr>\n",
       "    <tr>\n",
       "      <th>1</th>\n",
       "      <td>A1</td>\n",
       "      <td>A12</td>\n",
       "      <td>0.8000</td>\n",
       "      <td>2</td>\n",
       "    </tr>\n",
       "    <tr>\n",
       "      <th>2</th>\n",
       "      <td>A1</td>\n",
       "      <td>A12</td>\n",
       "      <td>0.9375</td>\n",
       "      <td>2</td>\n",
       "    </tr>\n",
       "    <tr>\n",
       "      <th>3</th>\n",
       "      <td>A1</td>\n",
       "      <td>A12</td>\n",
       "      <td>1.0000</td>\n",
       "      <td>40</td>\n",
       "    </tr>\n",
       "    <tr>\n",
       "      <th>4</th>\n",
       "      <td>A1</td>\n",
       "      <td>A14</td>\n",
       "      <td>0.0000</td>\n",
       "      <td>1</td>\n",
       "    </tr>\n",
       "  </tbody>\n",
       "</table>\n",
       "</div>"
      ],
      "text/plain": [
       "  Arrival_Gate Dep_Gate  % Success  Frequency\n",
       "0          305      F42     0.0000          2\n",
       "1           A1      A12     0.8000          2\n",
       "2           A1      A12     0.9375          2\n",
       "3           A1      A12     1.0000         40\n",
       "4           A1      A14     0.0000          1"
      ]
     },
     "execution_count": 79,
     "metadata": {},
     "output_type": "execute_result"
    }
   ],
   "source": [
    "# rename column 0 to frequency\n",
    "df_60.rename(columns={'0':'Frequency'}, inplace=True)\n",
    "df_60.head() "
   ]
  },
  {
   "attachments": {},
   "cell_type": "markdown",
   "metadata": {},
   "source": [
    "#### Mark all data with same or different Bay"
   ]
  },
  {
   "cell_type": "code",
   "execution_count": 80,
   "metadata": {},
   "outputs": [
    {
     "data": {
      "text/html": [
       "<div>\n",
       "<style scoped>\n",
       "    .dataframe tbody tr th:only-of-type {\n",
       "        vertical-align: middle;\n",
       "    }\n",
       "\n",
       "    .dataframe tbody tr th {\n",
       "        vertical-align: top;\n",
       "    }\n",
       "\n",
       "    .dataframe thead th {\n",
       "        text-align: right;\n",
       "    }\n",
       "</style>\n",
       "<table border=\"1\" class=\"dataframe\">\n",
       "  <thead>\n",
       "    <tr style=\"text-align: right;\">\n",
       "      <th></th>\n",
       "      <th>Arrival_Gate</th>\n",
       "      <th>Dep_Gate</th>\n",
       "      <th>% Success</th>\n",
       "      <th>Frequency</th>\n",
       "      <th>Same Bay</th>\n",
       "    </tr>\n",
       "  </thead>\n",
       "  <tbody>\n",
       "    <tr>\n",
       "      <th>0</th>\n",
       "      <td>305</td>\n",
       "      <td>F42</td>\n",
       "      <td>0.0000</td>\n",
       "      <td>2</td>\n",
       "      <td>False</td>\n",
       "    </tr>\n",
       "    <tr>\n",
       "      <th>1</th>\n",
       "      <td>A1</td>\n",
       "      <td>A12</td>\n",
       "      <td>0.8000</td>\n",
       "      <td>2</td>\n",
       "      <td>True</td>\n",
       "    </tr>\n",
       "    <tr>\n",
       "      <th>2</th>\n",
       "      <td>A1</td>\n",
       "      <td>A12</td>\n",
       "      <td>0.9375</td>\n",
       "      <td>2</td>\n",
       "      <td>True</td>\n",
       "    </tr>\n",
       "    <tr>\n",
       "      <th>3</th>\n",
       "      <td>A1</td>\n",
       "      <td>A12</td>\n",
       "      <td>1.0000</td>\n",
       "      <td>40</td>\n",
       "      <td>True</td>\n",
       "    </tr>\n",
       "    <tr>\n",
       "      <th>4</th>\n",
       "      <td>A1</td>\n",
       "      <td>A14</td>\n",
       "      <td>0.0000</td>\n",
       "      <td>1</td>\n",
       "      <td>True</td>\n",
       "    </tr>\n",
       "  </tbody>\n",
       "</table>\n",
       "</div>"
      ],
      "text/plain": [
       "  Arrival_Gate Dep_Gate  % Success  Frequency  Same Bay\n",
       "0          305      F42     0.0000          2     False\n",
       "1           A1      A12     0.8000          2      True\n",
       "2           A1      A12     0.9375          2      True\n",
       "3           A1      A12     1.0000         40      True\n",
       "4           A1      A14     0.0000          1      True"
      ]
     },
     "execution_count": 80,
     "metadata": {},
     "output_type": "execute_result"
    }
   ],
   "source": [
    "df_60['Same Bay'] = (df_60['Arrival_Gate'].str[0].isin(['A','B']) & df_60['Dep_Gate'].str[0].isin(['A','B'])) | (df_60['Arrival_Gate'].str[0].isin(['C','D']) & df_60['Dep_Gate'].str[0].isin(['C','D'])) |(df_60['Arrival_Gate'].str[0].isin(['E','F']) & df_60['Dep_Gate'].str[0].isin(['E','F']))\n",
    "df_60.head()"
   ]
  },
  {
   "attachments": {},
   "cell_type": "markdown",
   "metadata": {},
   "source": [
    "#### Weighted Average "
   ]
  },
  {
   "cell_type": "code",
   "execution_count": 81,
   "metadata": {},
   "outputs": [
    {
     "data": {
      "text/html": [
       "<div>\n",
       "<style scoped>\n",
       "    .dataframe tbody tr th:only-of-type {\n",
       "        vertical-align: middle;\n",
       "    }\n",
       "\n",
       "    .dataframe tbody tr th {\n",
       "        vertical-align: top;\n",
       "    }\n",
       "\n",
       "    .dataframe thead th {\n",
       "        text-align: right;\n",
       "    }\n",
       "</style>\n",
       "<table border=\"1\" class=\"dataframe\">\n",
       "  <thead>\n",
       "    <tr style=\"text-align: right;\">\n",
       "      <th></th>\n",
       "      <th>Arrival_Gate</th>\n",
       "      <th>Dep_Gate</th>\n",
       "      <th>% Success</th>\n",
       "      <th>Frequency</th>\n",
       "      <th>Same Bay</th>\n",
       "      <th>Arrival_dot_DepGate</th>\n",
       "    </tr>\n",
       "  </thead>\n",
       "  <tbody>\n",
       "    <tr>\n",
       "      <th>0</th>\n",
       "      <td>305</td>\n",
       "      <td>F42</td>\n",
       "      <td>0.0000</td>\n",
       "      <td>2</td>\n",
       "      <td>False</td>\n",
       "      <td>0.000</td>\n",
       "    </tr>\n",
       "    <tr>\n",
       "      <th>1</th>\n",
       "      <td>A1</td>\n",
       "      <td>A12</td>\n",
       "      <td>0.8000</td>\n",
       "      <td>2</td>\n",
       "      <td>True</td>\n",
       "      <td>1.600</td>\n",
       "    </tr>\n",
       "    <tr>\n",
       "      <th>2</th>\n",
       "      <td>A1</td>\n",
       "      <td>A12</td>\n",
       "      <td>0.9375</td>\n",
       "      <td>2</td>\n",
       "      <td>True</td>\n",
       "      <td>1.875</td>\n",
       "    </tr>\n",
       "    <tr>\n",
       "      <th>3</th>\n",
       "      <td>A1</td>\n",
       "      <td>A12</td>\n",
       "      <td>1.0000</td>\n",
       "      <td>40</td>\n",
       "      <td>True</td>\n",
       "      <td>40.000</td>\n",
       "    </tr>\n",
       "    <tr>\n",
       "      <th>4</th>\n",
       "      <td>A1</td>\n",
       "      <td>A14</td>\n",
       "      <td>0.0000</td>\n",
       "      <td>1</td>\n",
       "      <td>True</td>\n",
       "      <td>0.000</td>\n",
       "    </tr>\n",
       "  </tbody>\n",
       "</table>\n",
       "</div>"
      ],
      "text/plain": [
       "  Arrival_Gate Dep_Gate  % Success  Frequency  Same Bay  Arrival_dot_DepGate\n",
       "0          305      F42     0.0000          2     False                0.000\n",
       "1           A1      A12     0.8000          2      True                1.600\n",
       "2           A1      A12     0.9375          2      True                1.875\n",
       "3           A1      A12     1.0000         40      True               40.000\n",
       "4           A1      A14     0.0000          1      True                0.000"
      ]
     },
     "execution_count": 81,
     "metadata": {},
     "output_type": "execute_result"
    }
   ],
   "source": [
    "df_60['Arrival_dot_DepGate']=df_60['% Success']*df_60['Frequency']\n",
    "df_60.head()"
   ]
  },
  {
   "cell_type": "code",
   "execution_count": 90,
   "metadata": {},
   "outputs": [
    {
     "data": {
      "text/html": [
       "<div>\n",
       "<style scoped>\n",
       "    .dataframe tbody tr th:only-of-type {\n",
       "        vertical-align: middle;\n",
       "    }\n",
       "\n",
       "    .dataframe tbody tr th {\n",
       "        vertical-align: top;\n",
       "    }\n",
       "\n",
       "    .dataframe thead th {\n",
       "        text-align: right;\n",
       "    }\n",
       "</style>\n",
       "<table border=\"1\" class=\"dataframe\">\n",
       "  <thead>\n",
       "    <tr style=\"text-align: right;\">\n",
       "      <th></th>\n",
       "      <th>Arrival_Gate</th>\n",
       "      <th>Dep_Gate</th>\n",
       "      <th>% Success</th>\n",
       "      <th>Frequency</th>\n",
       "      <th>Same Bay</th>\n",
       "      <th>Arrival_dot_DepGate</th>\n",
       "    </tr>\n",
       "  </thead>\n",
       "  <tbody>\n",
       "    <tr>\n",
       "      <th>0</th>\n",
       "      <td>305</td>\n",
       "      <td>F42</td>\n",
       "      <td>0.0000</td>\n",
       "      <td>2</td>\n",
       "      <td>False</td>\n",
       "      <td>0.000</td>\n",
       "    </tr>\n",
       "    <tr>\n",
       "      <th>1</th>\n",
       "      <td>A1</td>\n",
       "      <td>A12</td>\n",
       "      <td>0.8000</td>\n",
       "      <td>2</td>\n",
       "      <td>True</td>\n",
       "      <td>1.600</td>\n",
       "    </tr>\n",
       "    <tr>\n",
       "      <th>2</th>\n",
       "      <td>A1</td>\n",
       "      <td>A12</td>\n",
       "      <td>0.9375</td>\n",
       "      <td>2</td>\n",
       "      <td>True</td>\n",
       "      <td>1.875</td>\n",
       "    </tr>\n",
       "    <tr>\n",
       "      <th>3</th>\n",
       "      <td>A1</td>\n",
       "      <td>A12</td>\n",
       "      <td>1.0000</td>\n",
       "      <td>40</td>\n",
       "      <td>True</td>\n",
       "      <td>40.000</td>\n",
       "    </tr>\n",
       "    <tr>\n",
       "      <th>4</th>\n",
       "      <td>A1</td>\n",
       "      <td>A14</td>\n",
       "      <td>0.0000</td>\n",
       "      <td>1</td>\n",
       "      <td>True</td>\n",
       "      <td>0.000</td>\n",
       "    </tr>\n",
       "  </tbody>\n",
       "</table>\n",
       "</div>"
      ],
      "text/plain": [
       "  Arrival_Gate Dep_Gate  % Success  Frequency  Same Bay  Arrival_dot_DepGate\n",
       "0          305      F42     0.0000          2     False                0.000\n",
       "1           A1      A12     0.8000          2      True                1.600\n",
       "2           A1      A12     0.9375          2      True                1.875\n",
       "3           A1      A12     1.0000         40      True               40.000\n",
       "4           A1      A14     0.0000          1      True                0.000"
      ]
     },
     "execution_count": 90,
     "metadata": {},
     "output_type": "execute_result"
    }
   ],
   "source": [
    "# Copy df_60 to df_group\n",
    "df_groupby=df_60.copy()\n",
    "df_groupby.head()"
   ]
  },
  {
   "cell_type": "code",
   "execution_count": 91,
   "metadata": {},
   "outputs": [],
   "source": [
    "# Group by Arrival Gate and Dep Gate\n",
    "# df_groupby['Weighted_Average'] = (df_60.groupby(['Arrival_Gate','Dep_Gate'])['Arrival_dot_DepGate'].sum() ) / df_60.groupby(['Arrival_Gate','Dep_Gate'])['Frequency'].sum()\n",
    "# df_groupby"
   ]
  },
  {
   "cell_type": "code",
   "execution_count": 92,
   "metadata": {},
   "outputs": [
    {
     "data": {
      "text/html": [
       "<div>\n",
       "<style scoped>\n",
       "    .dataframe tbody tr th:only-of-type {\n",
       "        vertical-align: middle;\n",
       "    }\n",
       "\n",
       "    .dataframe tbody tr th {\n",
       "        vertical-align: top;\n",
       "    }\n",
       "\n",
       "    .dataframe thead th {\n",
       "        text-align: right;\n",
       "    }\n",
       "</style>\n",
       "<table border=\"1\" class=\"dataframe\">\n",
       "  <thead>\n",
       "    <tr style=\"text-align: right;\">\n",
       "      <th></th>\n",
       "      <th>Arrival_Gate</th>\n",
       "      <th>Dep_Gate</th>\n",
       "      <th>Frequency</th>\n",
       "      <th>Arrival_dot_DepGate</th>\n",
       "      <th>Weighted_Average</th>\n",
       "    </tr>\n",
       "  </thead>\n",
       "  <tbody>\n",
       "    <tr>\n",
       "      <th>0</th>\n",
       "      <td>305</td>\n",
       "      <td>F42</td>\n",
       "      <td>2</td>\n",
       "      <td>0.000</td>\n",
       "      <td>0.000000</td>\n",
       "    </tr>\n",
       "    <tr>\n",
       "      <th>1</th>\n",
       "      <td>A1</td>\n",
       "      <td>A12</td>\n",
       "      <td>44</td>\n",
       "      <td>43.475</td>\n",
       "      <td>0.988068</td>\n",
       "    </tr>\n",
       "    <tr>\n",
       "      <th>2</th>\n",
       "      <td>A1</td>\n",
       "      <td>A14</td>\n",
       "      <td>11</td>\n",
       "      <td>9.125</td>\n",
       "      <td>0.829545</td>\n",
       "    </tr>\n",
       "    <tr>\n",
       "      <th>3</th>\n",
       "      <td>A1</td>\n",
       "      <td>A17</td>\n",
       "      <td>5</td>\n",
       "      <td>5.000</td>\n",
       "      <td>1.000000</td>\n",
       "    </tr>\n",
       "    <tr>\n",
       "      <th>4</th>\n",
       "      <td>A1</td>\n",
       "      <td>B1</td>\n",
       "      <td>5</td>\n",
       "      <td>5.000</td>\n",
       "      <td>1.000000</td>\n",
       "    </tr>\n",
       "  </tbody>\n",
       "</table>\n",
       "</div>"
      ],
      "text/plain": [
       "  Arrival_Gate Dep_Gate  Frequency  Arrival_dot_DepGate  Weighted_Average\n",
       "0          305      F42          2                0.000          0.000000\n",
       "1           A1      A12         44               43.475          0.988068\n",
       "2           A1      A14         11                9.125          0.829545\n",
       "3           A1      A17          5                5.000          1.000000\n",
       "4           A1       B1          5                5.000          1.000000"
      ]
     },
     "execution_count": 92,
     "metadata": {},
     "output_type": "execute_result"
    }
   ],
   "source": [
    "df_groupby = df_groupby.groupby(['Arrival_Gate','Dep_Gate']).agg({'Frequency':'sum','Arrival_dot_DepGate':'sum'})\n",
    "# divide arrival_dot_depGate by frequency\n",
    "df_groupby['Weighted_Average'] = df_groupby['Arrival_dot_DepGate'] / df_groupby['Frequency']\n",
    "df_groupby.reset_index(inplace=True)\n",
    "df_groupby.head()"
   ]
  },
  {
   "attachments": {},
   "cell_type": "markdown",
   "metadata": {},
   "source": [
    "#### Insertion of Same Bay and Drop Arrival_dot_DepGate"
   ]
  },
  {
   "cell_type": "code",
   "execution_count": 93,
   "metadata": {},
   "outputs": [
    {
     "data": {
      "text/html": [
       "<div>\n",
       "<style scoped>\n",
       "    .dataframe tbody tr th:only-of-type {\n",
       "        vertical-align: middle;\n",
       "    }\n",
       "\n",
       "    .dataframe tbody tr th {\n",
       "        vertical-align: top;\n",
       "    }\n",
       "\n",
       "    .dataframe thead th {\n",
       "        text-align: right;\n",
       "    }\n",
       "</style>\n",
       "<table border=\"1\" class=\"dataframe\">\n",
       "  <thead>\n",
       "    <tr style=\"text-align: right;\">\n",
       "      <th></th>\n",
       "      <th>Arrival_Gate</th>\n",
       "      <th>Dep_Gate</th>\n",
       "      <th>Frequency</th>\n",
       "      <th>Weighted_Average</th>\n",
       "      <th>Same Bay</th>\n",
       "    </tr>\n",
       "  </thead>\n",
       "  <tbody>\n",
       "    <tr>\n",
       "      <th>0</th>\n",
       "      <td>305</td>\n",
       "      <td>F42</td>\n",
       "      <td>2</td>\n",
       "      <td>0.000000</td>\n",
       "      <td>False</td>\n",
       "    </tr>\n",
       "    <tr>\n",
       "      <th>1</th>\n",
       "      <td>A1</td>\n",
       "      <td>A12</td>\n",
       "      <td>44</td>\n",
       "      <td>0.988068</td>\n",
       "      <td>True</td>\n",
       "    </tr>\n",
       "    <tr>\n",
       "      <th>2</th>\n",
       "      <td>A1</td>\n",
       "      <td>A14</td>\n",
       "      <td>11</td>\n",
       "      <td>0.829545</td>\n",
       "      <td>True</td>\n",
       "    </tr>\n",
       "    <tr>\n",
       "      <th>3</th>\n",
       "      <td>A1</td>\n",
       "      <td>A17</td>\n",
       "      <td>5</td>\n",
       "      <td>1.000000</td>\n",
       "      <td>True</td>\n",
       "    </tr>\n",
       "    <tr>\n",
       "      <th>4</th>\n",
       "      <td>A1</td>\n",
       "      <td>B1</td>\n",
       "      <td>5</td>\n",
       "      <td>1.000000</td>\n",
       "      <td>True</td>\n",
       "    </tr>\n",
       "  </tbody>\n",
       "</table>\n",
       "</div>"
      ],
      "text/plain": [
       "  Arrival_Gate Dep_Gate  Frequency  Weighted_Average  Same Bay\n",
       "0          305      F42          2          0.000000     False\n",
       "1           A1      A12         44          0.988068      True\n",
       "2           A1      A14         11          0.829545      True\n",
       "3           A1      A17          5          1.000000      True\n",
       "4           A1       B1          5          1.000000      True"
      ]
     },
     "execution_count": 93,
     "metadata": {},
     "output_type": "execute_result"
    }
   ],
   "source": [
    "df_groupby['Same Bay'] = (df_groupby['Arrival_Gate'].str[0].isin(['A','B']) & df_groupby['Dep_Gate'].str[0].isin(['A','B'])) | (df_groupby['Arrival_Gate'].str[0].isin(['C','D']) & df_groupby['Dep_Gate'].str[0].isin(['C','D'])) |(df_groupby['Arrival_Gate'].str[0].isin(['E','F']) & df_groupby['Dep_Gate'].str[0].isin(['E','F']))\n",
    "# Drop arrival_dot_depGate\n",
    "df_groupby.drop('Arrival_dot_DepGate',axis=1,inplace=True)\n",
    "df_groupby.head()"
   ]
  },
  {
   "cell_type": "code",
   "execution_count": 94,
   "metadata": {},
   "outputs": [
    {
     "data": {
      "text/html": [
       "<div>\n",
       "<style scoped>\n",
       "    .dataframe tbody tr th:only-of-type {\n",
       "        vertical-align: middle;\n",
       "    }\n",
       "\n",
       "    .dataframe tbody tr th {\n",
       "        vertical-align: top;\n",
       "    }\n",
       "\n",
       "    .dataframe thead th {\n",
       "        text-align: right;\n",
       "    }\n",
       "</style>\n",
       "<table border=\"1\" class=\"dataframe\">\n",
       "  <thead>\n",
       "    <tr style=\"text-align: right;\">\n",
       "      <th></th>\n",
       "      <th>Arrival_Gate</th>\n",
       "      <th>Dep_Gate</th>\n",
       "      <th>Frequency</th>\n",
       "      <th>Weighted_Average</th>\n",
       "      <th>Same Bay</th>\n",
       "    </tr>\n",
       "  </thead>\n",
       "  <tbody>\n",
       "    <tr>\n",
       "      <th>0</th>\n",
       "      <td>305</td>\n",
       "      <td>F42</td>\n",
       "      <td>2</td>\n",
       "      <td>0.000000</td>\n",
       "      <td>False</td>\n",
       "    </tr>\n",
       "    <tr>\n",
       "      <th>1</th>\n",
       "      <td>A1</td>\n",
       "      <td>A12</td>\n",
       "      <td>44</td>\n",
       "      <td>0.988068</td>\n",
       "      <td>True</td>\n",
       "    </tr>\n",
       "    <tr>\n",
       "      <th>2</th>\n",
       "      <td>A1</td>\n",
       "      <td>A14</td>\n",
       "      <td>11</td>\n",
       "      <td>0.829545</td>\n",
       "      <td>True</td>\n",
       "    </tr>\n",
       "    <tr>\n",
       "      <th>3</th>\n",
       "      <td>A1</td>\n",
       "      <td>A17</td>\n",
       "      <td>5</td>\n",
       "      <td>1.000000</td>\n",
       "      <td>True</td>\n",
       "    </tr>\n",
       "    <tr>\n",
       "      <th>4</th>\n",
       "      <td>A1</td>\n",
       "      <td>B1</td>\n",
       "      <td>5</td>\n",
       "      <td>1.000000</td>\n",
       "      <td>True</td>\n",
       "    </tr>\n",
       "    <tr>\n",
       "      <th>...</th>\n",
       "      <td>...</td>\n",
       "      <td>...</td>\n",
       "      <td>...</td>\n",
       "      <td>...</td>\n",
       "      <td>...</td>\n",
       "    </tr>\n",
       "    <tr>\n",
       "      <th>385</th>\n",
       "      <td>F60</td>\n",
       "      <td>B9</td>\n",
       "      <td>16</td>\n",
       "      <td>0.827922</td>\n",
       "      <td>False</td>\n",
       "    </tr>\n",
       "    <tr>\n",
       "      <th>386</th>\n",
       "      <td>F60</td>\n",
       "      <td>C22</td>\n",
       "      <td>14</td>\n",
       "      <td>0.942857</td>\n",
       "      <td>False</td>\n",
       "    </tr>\n",
       "    <tr>\n",
       "      <th>387</th>\n",
       "      <td>F60</td>\n",
       "      <td>F32</td>\n",
       "      <td>18</td>\n",
       "      <td>0.998737</td>\n",
       "      <td>True</td>\n",
       "    </tr>\n",
       "    <tr>\n",
       "      <th>388</th>\n",
       "      <td>F60</td>\n",
       "      <td>F35</td>\n",
       "      <td>2</td>\n",
       "      <td>0.500000</td>\n",
       "      <td>True</td>\n",
       "    </tr>\n",
       "    <tr>\n",
       "      <th>389</th>\n",
       "      <td>F60</td>\n",
       "      <td>F54</td>\n",
       "      <td>13</td>\n",
       "      <td>0.897221</td>\n",
       "      <td>True</td>\n",
       "    </tr>\n",
       "  </tbody>\n",
       "</table>\n",
       "<p>390 rows × 5 columns</p>\n",
       "</div>"
      ],
      "text/plain": [
       "    Arrival_Gate Dep_Gate  Frequency  Weighted_Average  Same Bay\n",
       "0            305      F42          2          0.000000     False\n",
       "1             A1      A12         44          0.988068      True\n",
       "2             A1      A14         11          0.829545      True\n",
       "3             A1      A17          5          1.000000      True\n",
       "4             A1       B1          5          1.000000      True\n",
       "..           ...      ...        ...               ...       ...\n",
       "385          F60       B9         16          0.827922     False\n",
       "386          F60      C22         14          0.942857     False\n",
       "387          F60      F32         18          0.998737      True\n",
       "388          F60      F35          2          0.500000      True\n",
       "389          F60      F54         13          0.897221      True\n",
       "\n",
       "[390 rows x 5 columns]"
      ]
     },
     "execution_count": 94,
     "metadata": {},
     "output_type": "execute_result"
    }
   ],
   "source": [
    "df_groupby"
   ]
  },
  {
   "cell_type": "code",
   "execution_count": 95,
   "metadata": {},
   "outputs": [
    {
     "name": "stdout",
     "output_type": "stream",
     "text": [
      "<class 'pandas.core.frame.DataFrame'>\n",
      "RangeIndex: 390 entries, 0 to 389\n",
      "Data columns (total 5 columns):\n",
      " #   Column            Non-Null Count  Dtype  \n",
      "---  ------            --------------  -----  \n",
      " 0   Arrival_Gate      390 non-null    object \n",
      " 1   Dep_Gate          390 non-null    object \n",
      " 2   Frequency         390 non-null    int64  \n",
      " 3   Weighted_Average  390 non-null    float64\n",
      " 4   Same Bay          390 non-null    bool   \n",
      "dtypes: bool(1), float64(1), int64(1), object(2)\n",
      "memory usage: 12.7+ KB\n"
     ]
    }
   ],
   "source": [
    "df_groupby.info()"
   ]
  },
  {
   "attachments": {},
   "cell_type": "markdown",
   "metadata": {},
   "source": [
    "#### Concat Arrival and Departure"
   ]
  },
  {
   "cell_type": "code",
   "execution_count": 96,
   "metadata": {},
   "outputs": [
    {
     "data": {
      "text/html": [
       "<div>\n",
       "<style scoped>\n",
       "    .dataframe tbody tr th:only-of-type {\n",
       "        vertical-align: middle;\n",
       "    }\n",
       "\n",
       "    .dataframe tbody tr th {\n",
       "        vertical-align: top;\n",
       "    }\n",
       "\n",
       "    .dataframe thead th {\n",
       "        text-align: right;\n",
       "    }\n",
       "</style>\n",
       "<table border=\"1\" class=\"dataframe\">\n",
       "  <thead>\n",
       "    <tr style=\"text-align: right;\">\n",
       "      <th></th>\n",
       "      <th>Arrival_Gate</th>\n",
       "      <th>Dep_Gate</th>\n",
       "      <th>Frequency</th>\n",
       "      <th>Weighted_Average</th>\n",
       "      <th>Same Bay</th>\n",
       "      <th>Arrival_Dep_Gate</th>\n",
       "    </tr>\n",
       "  </thead>\n",
       "  <tbody>\n",
       "    <tr>\n",
       "      <th>0</th>\n",
       "      <td>305</td>\n",
       "      <td>F42</td>\n",
       "      <td>2</td>\n",
       "      <td>0.000000</td>\n",
       "      <td>False</td>\n",
       "      <td>305-F42</td>\n",
       "    </tr>\n",
       "    <tr>\n",
       "      <th>1</th>\n",
       "      <td>A1</td>\n",
       "      <td>A12</td>\n",
       "      <td>44</td>\n",
       "      <td>0.988068</td>\n",
       "      <td>True</td>\n",
       "      <td>A1-A12</td>\n",
       "    </tr>\n",
       "    <tr>\n",
       "      <th>2</th>\n",
       "      <td>A1</td>\n",
       "      <td>A14</td>\n",
       "      <td>11</td>\n",
       "      <td>0.829545</td>\n",
       "      <td>True</td>\n",
       "      <td>A1-A14</td>\n",
       "    </tr>\n",
       "    <tr>\n",
       "      <th>3</th>\n",
       "      <td>A1</td>\n",
       "      <td>A17</td>\n",
       "      <td>5</td>\n",
       "      <td>1.000000</td>\n",
       "      <td>True</td>\n",
       "      <td>A1-A17</td>\n",
       "    </tr>\n",
       "    <tr>\n",
       "      <th>4</th>\n",
       "      <td>A1</td>\n",
       "      <td>B1</td>\n",
       "      <td>5</td>\n",
       "      <td>1.000000</td>\n",
       "      <td>True</td>\n",
       "      <td>A1-B1</td>\n",
       "    </tr>\n",
       "  </tbody>\n",
       "</table>\n",
       "</div>"
      ],
      "text/plain": [
       "  Arrival_Gate Dep_Gate  Frequency  Weighted_Average  Same Bay  \\\n",
       "0          305      F42          2          0.000000     False   \n",
       "1           A1      A12         44          0.988068      True   \n",
       "2           A1      A14         11          0.829545      True   \n",
       "3           A1      A17          5          1.000000      True   \n",
       "4           A1       B1          5          1.000000      True   \n",
       "\n",
       "  Arrival_Dep_Gate  \n",
       "0          305-F42  \n",
       "1           A1-A12  \n",
       "2           A1-A14  \n",
       "3           A1-A17  \n",
       "4            A1-B1  "
      ]
     },
     "execution_count": 96,
     "metadata": {},
     "output_type": "execute_result"
    }
   ],
   "source": [
    "# Concat arrival and departure gate with hyphen\n",
    "df_groupby['Arrival_Dep_Gate']=df_groupby['Arrival_Gate'].astype(str) + '-' + df_groupby['Dep_Gate'].astype(str)\n",
    "df_groupby.head()"
   ]
  },
  {
   "attachments": {},
   "cell_type": "markdown",
   "metadata": {},
   "source": [
    "#### Same Terminal"
   ]
  },
  {
   "cell_type": "code",
   "execution_count": 98,
   "metadata": {},
   "outputs": [
    {
     "data": {
      "text/html": [
       "<div>\n",
       "<style scoped>\n",
       "    .dataframe tbody tr th:only-of-type {\n",
       "        vertical-align: middle;\n",
       "    }\n",
       "\n",
       "    .dataframe tbody tr th {\n",
       "        vertical-align: top;\n",
       "    }\n",
       "\n",
       "    .dataframe thead th {\n",
       "        text-align: right;\n",
       "    }\n",
       "</style>\n",
       "<table border=\"1\" class=\"dataframe\">\n",
       "  <thead>\n",
       "    <tr style=\"text-align: right;\">\n",
       "      <th></th>\n",
       "      <th>Arrival_Gate</th>\n",
       "      <th>Dep_Gate</th>\n",
       "      <th>Frequency</th>\n",
       "      <th>Weighted_Average</th>\n",
       "      <th>Same Bay</th>\n",
       "      <th>Arrival_Dep_Gate</th>\n",
       "      <th>Terminal</th>\n",
       "    </tr>\n",
       "  </thead>\n",
       "  <tbody>\n",
       "    <tr>\n",
       "      <th>0</th>\n",
       "      <td>305</td>\n",
       "      <td>F42</td>\n",
       "      <td>2</td>\n",
       "      <td>0.000000</td>\n",
       "      <td>False</td>\n",
       "      <td>305-F42</td>\n",
       "      <td></td>\n",
       "    </tr>\n",
       "    <tr>\n",
       "      <th>1</th>\n",
       "      <td>A1</td>\n",
       "      <td>A12</td>\n",
       "      <td>44</td>\n",
       "      <td>0.988068</td>\n",
       "      <td>True</td>\n",
       "      <td>A1-A12</td>\n",
       "      <td>T3</td>\n",
       "    </tr>\n",
       "    <tr>\n",
       "      <th>2</th>\n",
       "      <td>A1</td>\n",
       "      <td>A14</td>\n",
       "      <td>11</td>\n",
       "      <td>0.829545</td>\n",
       "      <td>True</td>\n",
       "      <td>A1-A14</td>\n",
       "      <td>T3</td>\n",
       "    </tr>\n",
       "    <tr>\n",
       "      <th>3</th>\n",
       "      <td>A1</td>\n",
       "      <td>A17</td>\n",
       "      <td>5</td>\n",
       "      <td>1.000000</td>\n",
       "      <td>True</td>\n",
       "      <td>A1-A17</td>\n",
       "      <td>T3</td>\n",
       "    </tr>\n",
       "    <tr>\n",
       "      <th>4</th>\n",
       "      <td>A1</td>\n",
       "      <td>B1</td>\n",
       "      <td>5</td>\n",
       "      <td>1.000000</td>\n",
       "      <td>True</td>\n",
       "      <td>A1-B1</td>\n",
       "      <td>T3</td>\n",
       "    </tr>\n",
       "  </tbody>\n",
       "</table>\n",
       "</div>"
      ],
      "text/plain": [
       "  Arrival_Gate Dep_Gate  Frequency  Weighted_Average  Same Bay  \\\n",
       "0          305      F42          2          0.000000     False   \n",
       "1           A1      A12         44          0.988068      True   \n",
       "2           A1      A14         11          0.829545      True   \n",
       "3           A1      A17          5          1.000000      True   \n",
       "4           A1       B1          5          1.000000      True   \n",
       "\n",
       "  Arrival_Dep_Gate Terminal  \n",
       "0          305-F42           \n",
       "1           A1-A12       T3  \n",
       "2           A1-A14       T3  \n",
       "3           A1-A17       T3  \n",
       "4            A1-B1       T3  "
      ]
     },
     "execution_count": 98,
     "metadata": {},
     "output_type": "execute_result"
    }
   ],
   "source": [
    "import numpy as np\n",
    "\n",
    "# Create a new column in the DataFrame\n",
    "df_groupby['Terminal'] = np.where((df_groupby['Arrival_Gate'].str[0].isin(['A','B']) & df_groupby['Dep_Gate'].str[0].isin(['A','B'])), 'T3', \n",
    "                           np.where((df_groupby['Arrival_Gate'].str[0].isin(['C','D']) & df_groupby['Dep_Gate'].str[0].isin(['C','D'])), 'T1', \n",
    "                           np.where((df_groupby['Arrival_Gate'].str[0].isin(['E','F']) & df_groupby['Dep_Gate'].str[0].isin(['E','F'])), 'T2', '')))\n",
    "df_groupby.head()"
   ]
  },
  {
   "cell_type": "code",
   "execution_count": 99,
   "metadata": {},
   "outputs": [
    {
     "data": {
      "text/plain": [
       "      202\n",
       "T3    159\n",
       "T2     19\n",
       "T1     10\n",
       "Name: Terminal, dtype: int64"
      ]
     },
     "execution_count": 99,
     "metadata": {},
     "output_type": "execute_result"
    }
   ],
   "source": [
    "df_groupby['Terminal'].value_counts()"
   ]
  },
  {
   "attachments": {},
   "cell_type": "markdown",
   "metadata": {},
   "source": [
    "#### Pearson Correlation"
   ]
  },
  {
   "cell_type": "code",
   "execution_count": 104,
   "metadata": {},
   "outputs": [
    {
     "data": {
      "text/html": [
       "<div>\n",
       "<style scoped>\n",
       "    .dataframe tbody tr th:only-of-type {\n",
       "        vertical-align: middle;\n",
       "    }\n",
       "\n",
       "    .dataframe tbody tr th {\n",
       "        vertical-align: top;\n",
       "    }\n",
       "\n",
       "    .dataframe thead th {\n",
       "        text-align: right;\n",
       "    }\n",
       "</style>\n",
       "<table border=\"1\" class=\"dataframe\">\n",
       "  <thead>\n",
       "    <tr style=\"text-align: right;\">\n",
       "      <th></th>\n",
       "      <th>Frequency</th>\n",
       "      <th>Weighted_Average</th>\n",
       "      <th>Same Bay</th>\n",
       "    </tr>\n",
       "  </thead>\n",
       "  <tbody>\n",
       "    <tr>\n",
       "      <th>Frequency</th>\n",
       "      <td>1.000000</td>\n",
       "      <td>0.133285</td>\n",
       "      <td>0.177077</td>\n",
       "    </tr>\n",
       "    <tr>\n",
       "      <th>Weighted_Average</th>\n",
       "      <td>0.133285</td>\n",
       "      <td>1.000000</td>\n",
       "      <td>0.097292</td>\n",
       "    </tr>\n",
       "    <tr>\n",
       "      <th>Same Bay</th>\n",
       "      <td>0.177077</td>\n",
       "      <td>0.097292</td>\n",
       "      <td>1.000000</td>\n",
       "    </tr>\n",
       "  </tbody>\n",
       "</table>\n",
       "</div>"
      ],
      "text/plain": [
       "                  Frequency  Weighted_Average  Same Bay\n",
       "Frequency          1.000000          0.133285  0.177077\n",
       "Weighted_Average   0.133285          1.000000  0.097292\n",
       "Same Bay           0.177077          0.097292  1.000000"
      ]
     },
     "execution_count": 104,
     "metadata": {},
     "output_type": "execute_result"
    }
   ],
   "source": [
    "# correlation \n",
    "df_groupby.corr()"
   ]
  },
  {
   "cell_type": "code",
   "execution_count": 62,
   "metadata": {},
   "outputs": [],
   "source": [
    "# Weighted average and same bay = True correlation"
   ]
  },
  {
   "attachments": {},
   "cell_type": "markdown",
   "metadata": {},
   "source": [
    "#### Pandas profiling"
   ]
  },
  {
   "cell_type": "code",
   "execution_count": 63,
   "metadata": {},
   "outputs": [
    {
     "data": {
      "application/vnd.jupyter.widget-view+json": {
       "model_id": "0bc6fa94383f4a5a9ddcfa195b693b6c",
       "version_major": 2,
       "version_minor": 0
      },
      "text/plain": [
       "Summarize dataset:   0%|          | 0/5 [00:00<?, ?it/s]"
      ]
     },
     "metadata": {},
     "output_type": "display_data"
    },
    {
     "data": {
      "application/vnd.jupyter.widget-view+json": {
       "model_id": "26929776808346f2aa58f2921a546041",
       "version_major": 2,
       "version_minor": 0
      },
      "text/plain": [
       "Generate report structure:   0%|          | 0/1 [00:00<?, ?it/s]"
      ]
     },
     "metadata": {},
     "output_type": "display_data"
    },
    {
     "data": {
      "application/vnd.jupyter.widget-view+json": {
       "model_id": "befd34644ab740209c0c2d906640621d",
       "version_major": 2,
       "version_minor": 0
      },
      "text/plain": [
       "Render HTML:   0%|          | 0/1 [00:00<?, ?it/s]"
      ]
     },
     "metadata": {},
     "output_type": "display_data"
    },
    {
     "data": {
      "application/vnd.jupyter.widget-view+json": {
       "model_id": "a5a3f0bcd4b243a98028b6f54221c645",
       "version_major": 2,
       "version_minor": 0
      },
      "text/plain": [
       "Export report to file:   0%|          | 0/1 [00:00<?, ?it/s]"
      ]
     },
     "metadata": {},
     "output_type": "display_data"
    }
   ],
   "source": [
    "# pandas profiling\n",
    "import pandas_profiling\n",
    "# export to html\n",
    "profile = pandas_profiling.ProfileReport(df_groupby,title='SATS_Weighted_Average_and_Frequency')\n",
    "# save pandas profiling report\n",
    "profile.to_file('Processed_data/SATS_Weighted_Average_and_Frequency_Profiling.html')"
   ]
  },
  {
   "cell_type": "code",
   "execution_count": 105,
   "metadata": {},
   "outputs": [
    {
     "data": {
      "text/plain": [
       "Index(['Arrival_Gate', 'Dep_Gate', 'Frequency', 'Weighted_Average', 'Same Bay',\n",
       "       'Arrival_Dep_Gate', 'Terminal'],\n",
       "      dtype='object')"
      ]
     },
     "execution_count": 105,
     "metadata": {},
     "output_type": "execute_result"
    }
   ],
   "source": [
    "df_groupby.columns"
   ]
  },
  {
   "attachments": {},
   "cell_type": "markdown",
   "metadata": {},
   "source": [
    "#### Cramer's Correlation"
   ]
  },
  {
   "cell_type": "code",
   "execution_count": 106,
   "metadata": {},
   "outputs": [
    {
     "data": {
      "text/plain": [
       "77"
      ]
     },
     "execution_count": 106,
     "metadata": {},
     "output_type": "execute_result"
    }
   ],
   "source": [
    "df_groupby['Arrival_Gate'].nunique()"
   ]
  },
  {
   "cell_type": "code",
   "execution_count": 111,
   "metadata": {},
   "outputs": [
    {
     "name": "stdout",
     "output_type": "stream",
     "text": [
      "Cramer's V: 0.7736542723469364\n"
     ]
    }
   ],
   "source": [
    "import pandas as pd\n",
    "from scipy.stats import chi2_contingency\n",
    "\n",
    "# example data\n",
    "# create the contingency table\n",
    "ctab = pd.crosstab(df_groupby['Weighted_Average'], df_groupby['Same Bay'])\n",
    "\n",
    "# calculate chi-squared statistic and degrees of freedom\n",
    "chi2, p, dof, expected = chi2_contingency(ctab)\n",
    "\n",
    "# calculate Cramer's V\n",
    "n = len(df_groupby)\n",
    "r, c = ctab.shape\n",
    "v = pow(chi2 / (n * min(r - 1, c - 1)), 0.5)\n",
    "\n",
    "print(\"Cramer's V:\", v)\n"
   ]
  },
  {
   "cell_type": "code",
   "execution_count": 110,
   "metadata": {},
   "outputs": [
    {
     "data": {
      "image/png": "[encoded data removed]",
      "text/plain": [
       "<Figure size 432x288 with 2 Axes>"
      ]
     },
     "metadata": {
      "needs_background": "light"
     },
     "output_type": "display_data"
    }
   ],
   "source": [
    "# plot the heatmap\n",
    "sns.heatmap(ctab,cmap=\"YlGnBu\") # annot=True, fmt=\"d\"\n",
    "\n",
    "# add labels\n",
    "plt.xlabel(\"Same bay\")\n",
    "plt.ylabel(\"Weighted Average\")\n",
    "\n",
    "# show plot\n",
    "plt.show()"
   ]
  },
  {
   "cell_type": "code",
   "execution_count": 49,
   "metadata": {},
   "outputs": [
    {
     "data": {
      "image/png": "[encoded data removed]",
      "text/plain": [
       "<Figure size 432x288 with 1 Axes>"
      ]
     },
     "metadata": {
      "needs_background": "light"
     },
     "output_type": "display_data"
    }
   ],
   "source": [
    "# plot the bar plot\n",
    "ctab.plot(kind='bar', stacked=True)\n",
    "\n",
    "# add labels\n",
    "plt.xlabel(\"Arrival gate\")\n",
    "plt.ylabel(\"Count\")\n",
    "\n",
    "# show plot\n",
    "plt.show()"
   ]
  },
  {
   "cell_type": "code",
   "execution_count": 69,
   "metadata": {},
   "outputs": [],
   "source": [
    "# to csv\n",
    "df_groupby.to_csv('Processed_data/SATS_Weighted_Average_and_Frequency.csv')"
   ]
  },
  {
   "cell_type": "code",
   "execution_count": 55,
   "metadata": {},
   "outputs": [],
   "source": [
    "# pip install mosaicplot"
   ]
  },
  {
   "cell_type": "code",
   "execution_count": 56,
   "metadata": {},
   "outputs": [],
   "source": [
    "# import mosaic\n",
    "# # plot the mosaic plot\n",
    "# mosaic.mosaic(df, ['Arrival gate', 'Same bay'])\n",
    "\n",
    "# # show plot\n",
    "# plt.show()\n",
    "# # add labels\n",
    "# plt.xlabel(\"Same bay\")\n",
    "# plt.ylabel(\"Arrival gate\")"
   ]
  },
  {
   "attachments": {},
   "cell_type": "markdown",
   "metadata": {},
   "source": [
    "#### Mark same and different bay with 'True and False'"
   ]
  },
  {
   "cell_type": "code",
   "execution_count": null,
   "metadata": {},
   "outputs": [
    {
     "data": {
      "text/html": [
       "<div>\n",
       "<style scoped>\n",
       "    .dataframe tbody tr th:only-of-type {\n",
       "        vertical-align: middle;\n",
       "    }\n",
       "\n",
       "    .dataframe tbody tr th {\n",
       "        vertical-align: top;\n",
       "    }\n",
       "\n",
       "    .dataframe thead th {\n",
       "        text-align: right;\n",
       "    }\n",
       "</style>\n",
       "<table border=\"1\" class=\"dataframe\">\n",
       "  <thead>\n",
       "    <tr style=\"text-align: right;\">\n",
       "      <th></th>\n",
       "      <th>Arrival_Gate</th>\n",
       "      <th>Dep_Gate</th>\n",
       "      <th>Weighted_Average</th>\n",
       "      <th>Same_Bay</th>\n",
       "    </tr>\n",
       "  </thead>\n",
       "  <tbody>\n",
       "    <tr>\n",
       "      <th>0</th>\n",
       "      <td>305</td>\n",
       "      <td>F42</td>\n",
       "      <td>0.000000</td>\n",
       "      <td>False</td>\n",
       "    </tr>\n",
       "    <tr>\n",
       "      <th>1</th>\n",
       "      <td>A1</td>\n",
       "      <td>A12</td>\n",
       "      <td>0.988068</td>\n",
       "      <td>True</td>\n",
       "    </tr>\n",
       "    <tr>\n",
       "      <th>2</th>\n",
       "      <td>A1</td>\n",
       "      <td>A14</td>\n",
       "      <td>0.829545</td>\n",
       "      <td>True</td>\n",
       "    </tr>\n",
       "    <tr>\n",
       "      <th>3</th>\n",
       "      <td>A1</td>\n",
       "      <td>A17</td>\n",
       "      <td>1.000000</td>\n",
       "      <td>True</td>\n",
       "    </tr>\n",
       "    <tr>\n",
       "      <th>4</th>\n",
       "      <td>A1</td>\n",
       "      <td>B1</td>\n",
       "      <td>1.000000</td>\n",
       "      <td>True</td>\n",
       "    </tr>\n",
       "  </tbody>\n",
       "</table>\n",
       "</div>"
      ],
      "text/plain": [
       "  Arrival_Gate Dep_Gate  Weighted_Average  Same_Bay\n",
       "0          305      F42          0.000000     False\n",
       "1           A1      A12          0.988068      True\n",
       "2           A1      A14          0.829545      True\n",
       "3           A1      A17          1.000000      True\n",
       "4           A1       B1          1.000000      True"
      ]
     },
     "execution_count": 38,
     "metadata": {},
     "output_type": "execute_result"
    }
   ],
   "source": [
    "# df_weighted_average['Same_Bay'] = (df_60['Arrival_Gate'].str[0].isin(['A','B']) & df_60['Dep_Gate'].str[0].isin(['A','B'])) | (df_60['Arrival_Gate'].str[0].isin(['C','D']) & df_60['Dep_Gate'].str[0].isin(['C','D'])) |(df_60['Arrival_Gate'].str[0].isin(['E','F']) & df_60['Dep_Gate'].str[0].isin(['E','F']))\n",
    "# df_weighted_average.head()"
   ]
  },
  {
   "cell_type": "code",
   "execution_count": null,
   "metadata": {},
   "outputs": [],
   "source": []
  }
 ],
 "metadata": {
  "kernelspec": {
   "display_name": "Python 3",
   "language": "python",
   "name": "python3"
  },
  "language_info": {
   "codemirror_mode": {
    "name": "ipython",
    "version": 3
   },
   "file_extension": ".py",
   "mimetype": "text/x-python",
   "name": "python",
   "nbconvert_exporter": "python",
   "pygments_lexer": "ipython3",
   "version": "3.8.6"
  },
  "orig_nbformat": 4,
  "vscode": {
   "interpreter": {
    "hash": "92adc0dc7608e96a50ce5fb9acbd8bea0a01f16a513a55f8bb8294402fce5e61"
   }
  }
 },
 "nbformat": 4,
 "nbformat_minor": 2
}
