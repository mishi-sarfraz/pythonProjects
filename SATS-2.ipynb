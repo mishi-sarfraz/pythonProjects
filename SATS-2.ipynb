{
 "cells": [
  {
   "cell_type": "code",
   "execution_count": 173,
   "metadata": {},
   "outputs": [],
   "source": [
    "#  READ THE FILE\n",
    "import pandas as pd\n",
    "import numpy as np\n",
    "import matplotlib.pyplot as plt\n",
    "import seaborn as sns\n",
    "%matplotlib inline\n",
    "dfluggage = pd.read_excel(r'E:/Neural Lab/SATS/Flight_Baggage_Ulddetails_Jan2023.xlsx',parse_dates=['flightNumber','Pick_up_Time'])"
   ]
  },
  {
   "cell_type": "code",
   "execution_count": 174,
   "metadata": {},
   "outputs": [
    {
     "data": {
      "text/html": [
       "<div>\n",
       "<style scoped>\n",
       "    .dataframe tbody tr th:only-of-type {\n",
       "        vertical-align: middle;\n",
       "    }\n",
       "\n",
       "    .dataframe tbody tr th {\n",
       "        vertical-align: top;\n",
       "    }\n",
       "\n",
       "    .dataframe thead th {\n",
       "        text-align: right;\n",
       "    }\n",
       "</style>\n",
       "<table border=\"1\" class=\"dataframe\">\n",
       "  <thead>\n",
       "    <tr style=\"text-align: right;\">\n",
       "      <th></th>\n",
       "      <th>flightNumber</th>\n",
       "      <th>Flight_date</th>\n",
       "      <th>trip_number</th>\n",
       "      <th>container_no</th>\n",
       "      <th>Pick_up_Time</th>\n",
       "      <th>drop_off_Time</th>\n",
       "    </tr>\n",
       "  </thead>\n",
       "  <tbody>\n",
       "    <tr>\n",
       "      <th>0</th>\n",
       "      <td>SQ105</td>\n",
       "      <td>2023-01-01</td>\n",
       "      <td>3.0</td>\n",
       "      <td>BT790</td>\n",
       "      <td>2023-01-01 11:38:13.140</td>\n",
       "      <td>NaT</td>\n",
       "    </tr>\n",
       "    <tr>\n",
       "      <th>1</th>\n",
       "      <td>SQ105</td>\n",
       "      <td>2023-01-01</td>\n",
       "      <td>2.0</td>\n",
       "      <td>BT055</td>\n",
       "      <td>2023-01-01 11:30:56.450</td>\n",
       "      <td>NaT</td>\n",
       "    </tr>\n",
       "    <tr>\n",
       "      <th>2</th>\n",
       "      <td>SQ105</td>\n",
       "      <td>2023-01-01</td>\n",
       "      <td>4.0</td>\n",
       "      <td>BT1208</td>\n",
       "      <td>2023-01-01 11:38:38.437</td>\n",
       "      <td>NaT</td>\n",
       "    </tr>\n",
       "    <tr>\n",
       "      <th>3</th>\n",
       "      <td>SQ105</td>\n",
       "      <td>2023-01-01</td>\n",
       "      <td>1.0</td>\n",
       "      <td>BT838</td>\n",
       "      <td>2023-01-01 11:27:04.183</td>\n",
       "      <td>NaT</td>\n",
       "    </tr>\n",
       "    <tr>\n",
       "      <th>4</th>\n",
       "      <td>SQ105</td>\n",
       "      <td>2023-01-01</td>\n",
       "      <td>3.0</td>\n",
       "      <td>BT991</td>\n",
       "      <td>2023-01-01 11:38:13.140</td>\n",
       "      <td>NaT</td>\n",
       "    </tr>\n",
       "  </tbody>\n",
       "</table>\n",
       "</div>"
      ],
      "text/plain": [
       "  flightNumber Flight_date  trip_number container_no            Pick_up_Time  \\\n",
       "0        SQ105  2023-01-01          3.0        BT790 2023-01-01 11:38:13.140   \n",
       "1        SQ105  2023-01-01          2.0        BT055 2023-01-01 11:30:56.450   \n",
       "2        SQ105  2023-01-01          4.0       BT1208 2023-01-01 11:38:38.437   \n",
       "3        SQ105  2023-01-01          1.0        BT838 2023-01-01 11:27:04.183   \n",
       "4        SQ105  2023-01-01          3.0        BT991 2023-01-01 11:38:13.140   \n",
       "\n",
       "  drop_off_Time  \n",
       "0           NaT  \n",
       "1           NaT  \n",
       "2           NaT  \n",
       "3           NaT  \n",
       "4           NaT  "
      ]
     },
     "execution_count": 174,
     "metadata": {},
     "output_type": "execute_result"
    }
   ],
   "source": [
    "dfluggage.head()"
   ]
  },
  {
   "cell_type": "code",
   "execution_count": 175,
   "metadata": {},
   "outputs": [
    {
     "name": "stdout",
     "output_type": "stream",
     "text": [
      "<class 'pandas.core.frame.DataFrame'>\n",
      "RangeIndex: 43415 entries, 0 to 43414\n",
      "Data columns (total 6 columns):\n",
      " #   Column         Non-Null Count  Dtype         \n",
      "---  ------         --------------  -----         \n",
      " 0   flightNumber   43415 non-null  object        \n",
      " 1   Flight_date    43415 non-null  datetime64[ns]\n",
      " 2   trip_number    29849 non-null  float64       \n",
      " 3   container_no   43415 non-null  object        \n",
      " 4   Pick_up_Time   23987 non-null  datetime64[ns]\n",
      " 5   drop_off_Time  13064 non-null  datetime64[ns]\n",
      "dtypes: datetime64[ns](3), float64(1), object(2)\n",
      "memory usage: 2.0+ MB\n"
     ]
    }
   ],
   "source": [
    "dfluggage.info()"
   ]
  },
  {
   "cell_type": "code",
   "execution_count": 192,
   "metadata": {},
   "outputs": [],
   "source": [
    "# DATA CLEANING\n",
    "# take the date part from Pick_up_Date:\n",
    "\n",
    "#  type of the columns\n",
    "# df.dtypes\n",
    "# convert Pick_up_Date to datetime\n",
    "dfluggage['Pick_up_Time_New'] = dfluggage['Pick_up_Time'].dt.strftime('%H:%M')\n",
    "# df['Pick_up_Date'] = df['Pick_up_Date'].dt.date\n",
    "#  pd.to_datetime(df2postemp['EIBTDateTimeOffset']).dt.strftime('%Y-%m-%d %H:%M:%S')\n"
   ]
  },
  {
   "cell_type": "code",
   "execution_count": 193,
   "metadata": {},
   "outputs": [
    {
     "data": {
      "text/html": [
       "<div>\n",
       "<style scoped>\n",
       "    .dataframe tbody tr th:only-of-type {\n",
       "        vertical-align: middle;\n",
       "    }\n",
       "\n",
       "    .dataframe tbody tr th {\n",
       "        vertical-align: top;\n",
       "    }\n",
       "\n",
       "    .dataframe thead th {\n",
       "        text-align: right;\n",
       "    }\n",
       "</style>\n",
       "<table border=\"1\" class=\"dataframe\">\n",
       "  <thead>\n",
       "    <tr style=\"text-align: right;\">\n",
       "      <th></th>\n",
       "      <th>flightNumber</th>\n",
       "      <th>Flight_date</th>\n",
       "      <th>trip_number</th>\n",
       "      <th>container_no</th>\n",
       "      <th>Pick_up_Time</th>\n",
       "      <th>drop_off_Time</th>\n",
       "      <th>Pick_up_Time_New</th>\n",
       "    </tr>\n",
       "  </thead>\n",
       "  <tbody>\n",
       "    <tr>\n",
       "      <th>0</th>\n",
       "      <td>SQ105</td>\n",
       "      <td>2023-01-01</td>\n",
       "      <td>3.0</td>\n",
       "      <td>BT790</td>\n",
       "      <td>2023-01-01 11:38:13.140</td>\n",
       "      <td>NaT</td>\n",
       "      <td>11:38</td>\n",
       "    </tr>\n",
       "    <tr>\n",
       "      <th>1</th>\n",
       "      <td>SQ105</td>\n",
       "      <td>2023-01-01</td>\n",
       "      <td>2.0</td>\n",
       "      <td>BT055</td>\n",
       "      <td>2023-01-01 11:30:56.450</td>\n",
       "      <td>NaT</td>\n",
       "      <td>11:30</td>\n",
       "    </tr>\n",
       "    <tr>\n",
       "      <th>2</th>\n",
       "      <td>SQ105</td>\n",
       "      <td>2023-01-01</td>\n",
       "      <td>4.0</td>\n",
       "      <td>BT1208</td>\n",
       "      <td>2023-01-01 11:38:38.437</td>\n",
       "      <td>NaT</td>\n",
       "      <td>11:38</td>\n",
       "    </tr>\n",
       "    <tr>\n",
       "      <th>3</th>\n",
       "      <td>SQ105</td>\n",
       "      <td>2023-01-01</td>\n",
       "      <td>1.0</td>\n",
       "      <td>BT838</td>\n",
       "      <td>2023-01-01 11:27:04.183</td>\n",
       "      <td>NaT</td>\n",
       "      <td>11:27</td>\n",
       "    </tr>\n",
       "    <tr>\n",
       "      <th>4</th>\n",
       "      <td>SQ105</td>\n",
       "      <td>2023-01-01</td>\n",
       "      <td>3.0</td>\n",
       "      <td>BT991</td>\n",
       "      <td>2023-01-01 11:38:13.140</td>\n",
       "      <td>NaT</td>\n",
       "      <td>11:38</td>\n",
       "    </tr>\n",
       "  </tbody>\n",
       "</table>\n",
       "</div>"
      ],
      "text/plain": [
       "  flightNumber Flight_date  trip_number container_no            Pick_up_Time  \\\n",
       "0        SQ105  2023-01-01          3.0        BT790 2023-01-01 11:38:13.140   \n",
       "1        SQ105  2023-01-01          2.0        BT055 2023-01-01 11:30:56.450   \n",
       "2        SQ105  2023-01-01          4.0       BT1208 2023-01-01 11:38:38.437   \n",
       "3        SQ105  2023-01-01          1.0        BT838 2023-01-01 11:27:04.183   \n",
       "4        SQ105  2023-01-01          3.0        BT991 2023-01-01 11:38:13.140   \n",
       "\n",
       "  drop_off_Time Pick_up_Time_New  \n",
       "0           NaT            11:38  \n",
       "1           NaT            11:30  \n",
       "2           NaT            11:38  \n",
       "3           NaT            11:27  \n",
       "4           NaT            11:38  "
      ]
     },
     "execution_count": 193,
     "metadata": {},
     "output_type": "execute_result"
    }
   ],
   "source": [
    "dfluggage.head()"
   ]
  },
  {
   "cell_type": "code",
   "execution_count": 171,
   "metadata": {},
   "outputs": [],
   "source": [
    "# dfluggage['drop_off_Time_New'] = pd.to_datetime(dfluggage['drop_off_Time']).dt.strftime('%H:%M')"
   ]
  },
  {
   "cell_type": "code",
   "execution_count": 194,
   "metadata": {},
   "outputs": [
    {
     "data": {
      "text/html": [
       "<div>\n",
       "<style scoped>\n",
       "    .dataframe tbody tr th:only-of-type {\n",
       "        vertical-align: middle;\n",
       "    }\n",
       "\n",
       "    .dataframe tbody tr th {\n",
       "        vertical-align: top;\n",
       "    }\n",
       "\n",
       "    .dataframe thead th {\n",
       "        text-align: right;\n",
       "    }\n",
       "</style>\n",
       "<table border=\"1\" class=\"dataframe\">\n",
       "  <thead>\n",
       "    <tr style=\"text-align: right;\">\n",
       "      <th></th>\n",
       "      <th>flightNumber</th>\n",
       "      <th>Flight_date</th>\n",
       "      <th>trip_number</th>\n",
       "      <th>container_no</th>\n",
       "      <th>Pick_up_Time</th>\n",
       "      <th>drop_off_Time</th>\n",
       "      <th>Pick_up_Time_New</th>\n",
       "    </tr>\n",
       "  </thead>\n",
       "  <tbody>\n",
       "    <tr>\n",
       "      <th>0</th>\n",
       "      <td>SQ105</td>\n",
       "      <td>2023-01-01</td>\n",
       "      <td>3.0</td>\n",
       "      <td>BT790</td>\n",
       "      <td>2023-01-01 11:38:13.140</td>\n",
       "      <td>NaT</td>\n",
       "      <td>11:38</td>\n",
       "    </tr>\n",
       "    <tr>\n",
       "      <th>1</th>\n",
       "      <td>SQ105</td>\n",
       "      <td>2023-01-01</td>\n",
       "      <td>2.0</td>\n",
       "      <td>BT055</td>\n",
       "      <td>2023-01-01 11:30:56.450</td>\n",
       "      <td>NaT</td>\n",
       "      <td>11:30</td>\n",
       "    </tr>\n",
       "    <tr>\n",
       "      <th>2</th>\n",
       "      <td>SQ105</td>\n",
       "      <td>2023-01-01</td>\n",
       "      <td>4.0</td>\n",
       "      <td>BT1208</td>\n",
       "      <td>2023-01-01 11:38:38.437</td>\n",
       "      <td>NaT</td>\n",
       "      <td>11:38</td>\n",
       "    </tr>\n",
       "    <tr>\n",
       "      <th>3</th>\n",
       "      <td>SQ105</td>\n",
       "      <td>2023-01-01</td>\n",
       "      <td>1.0</td>\n",
       "      <td>BT838</td>\n",
       "      <td>2023-01-01 11:27:04.183</td>\n",
       "      <td>NaT</td>\n",
       "      <td>11:27</td>\n",
       "    </tr>\n",
       "    <tr>\n",
       "      <th>4</th>\n",
       "      <td>SQ105</td>\n",
       "      <td>2023-01-01</td>\n",
       "      <td>3.0</td>\n",
       "      <td>BT991</td>\n",
       "      <td>2023-01-01 11:38:13.140</td>\n",
       "      <td>NaT</td>\n",
       "      <td>11:38</td>\n",
       "    </tr>\n",
       "  </tbody>\n",
       "</table>\n",
       "</div>"
      ],
      "text/plain": [
       "  flightNumber Flight_date  trip_number container_no            Pick_up_Time  \\\n",
       "0        SQ105  2023-01-01          3.0        BT790 2023-01-01 11:38:13.140   \n",
       "1        SQ105  2023-01-01          2.0        BT055 2023-01-01 11:30:56.450   \n",
       "2        SQ105  2023-01-01          4.0       BT1208 2023-01-01 11:38:38.437   \n",
       "3        SQ105  2023-01-01          1.0        BT838 2023-01-01 11:27:04.183   \n",
       "4        SQ105  2023-01-01          3.0        BT991 2023-01-01 11:38:13.140   \n",
       "\n",
       "  drop_off_Time Pick_up_Time_New  \n",
       "0           NaT            11:38  \n",
       "1           NaT            11:30  \n",
       "2           NaT            11:38  \n",
       "3           NaT            11:27  \n",
       "4           NaT            11:38  "
      ]
     },
     "execution_count": 194,
     "metadata": {},
     "output_type": "execute_result"
    }
   ],
   "source": [
    "dfluggage.head()\n"
   ]
  },
  {
   "cell_type": "code",
   "execution_count": 195,
   "metadata": {},
   "outputs": [
    {
     "data": {
      "text/plain": [
       "flightNumber            0\n",
       "Flight_date             0\n",
       "trip_number             0\n",
       "container_no            0\n",
       "Pick_up_Time            0\n",
       "drop_off_Time       13167\n",
       "Pick_up_Time_New        0\n",
       "dtype: int64"
      ]
     },
     "execution_count": 195,
     "metadata": {},
     "output_type": "execute_result"
    }
   ],
   "source": [
    "# count rows with missing values:\n",
    "dfluggage.isnull().sum()"
   ]
  },
  {
   "cell_type": "code",
   "execution_count": 196,
   "metadata": {},
   "outputs": [
    {
     "data": {
      "text/plain": [
       "(23987, 7)"
      ]
     },
     "execution_count": 196,
     "metadata": {},
     "output_type": "execute_result"
    }
   ],
   "source": [
    "#  TOTAL ROWS:\n",
    "dfluggage.shape"
   ]
  },
  {
   "cell_type": "code",
   "execution_count": 197,
   "metadata": {},
   "outputs": [],
   "source": [
    "#  REMOVE ALL ROWS WITH MISSING VALUES IN Pick_up_Time:\n",
    "dfluggage.dropna(subset=['Pick_up_Time'], inplace=True)"
   ]
  },
  {
   "cell_type": "code",
   "execution_count": 203,
   "metadata": {},
   "outputs": [
    {
     "data": {
      "text/html": [
       "<div>\n",
       "<style scoped>\n",
       "    .dataframe tbody tr th:only-of-type {\n",
       "        vertical-align: middle;\n",
       "    }\n",
       "\n",
       "    .dataframe tbody tr th {\n",
       "        vertical-align: top;\n",
       "    }\n",
       "\n",
       "    .dataframe thead th {\n",
       "        text-align: right;\n",
       "    }\n",
       "</style>\n",
       "<table border=\"1\" class=\"dataframe\">\n",
       "  <thead>\n",
       "    <tr style=\"text-align: right;\">\n",
       "      <th></th>\n",
       "      <th>flightNumber</th>\n",
       "      <th>Flight_date</th>\n",
       "      <th>trip_number</th>\n",
       "      <th>container_no</th>\n",
       "      <th>Pick_up_Time</th>\n",
       "      <th>drop_off_Time</th>\n",
       "      <th>Pick_up_Time_New</th>\n",
       "    </tr>\n",
       "  </thead>\n",
       "  <tbody>\n",
       "    <tr>\n",
       "      <th>0</th>\n",
       "      <td>SQ105</td>\n",
       "      <td>2023-01-01</td>\n",
       "      <td>3.0</td>\n",
       "      <td>BT790</td>\n",
       "      <td>2023-01-01 11:38:13.140</td>\n",
       "      <td>NaT</td>\n",
       "      <td>11:38:00</td>\n",
       "    </tr>\n",
       "    <tr>\n",
       "      <th>1</th>\n",
       "      <td>SQ105</td>\n",
       "      <td>2023-01-01</td>\n",
       "      <td>2.0</td>\n",
       "      <td>BT055</td>\n",
       "      <td>2023-01-01 11:30:56.450</td>\n",
       "      <td>NaT</td>\n",
       "      <td>11:30:00</td>\n",
       "    </tr>\n",
       "    <tr>\n",
       "      <th>2</th>\n",
       "      <td>SQ105</td>\n",
       "      <td>2023-01-01</td>\n",
       "      <td>4.0</td>\n",
       "      <td>BT1208</td>\n",
       "      <td>2023-01-01 11:38:38.437</td>\n",
       "      <td>NaT</td>\n",
       "      <td>11:38:00</td>\n",
       "    </tr>\n",
       "    <tr>\n",
       "      <th>3</th>\n",
       "      <td>SQ105</td>\n",
       "      <td>2023-01-01</td>\n",
       "      <td>1.0</td>\n",
       "      <td>BT838</td>\n",
       "      <td>2023-01-01 11:27:04.183</td>\n",
       "      <td>NaT</td>\n",
       "      <td>11:27:00</td>\n",
       "    </tr>\n",
       "    <tr>\n",
       "      <th>4</th>\n",
       "      <td>SQ105</td>\n",
       "      <td>2023-01-01</td>\n",
       "      <td>3.0</td>\n",
       "      <td>BT991</td>\n",
       "      <td>2023-01-01 11:38:13.140</td>\n",
       "      <td>NaT</td>\n",
       "      <td>11:38:00</td>\n",
       "    </tr>\n",
       "  </tbody>\n",
       "</table>\n",
       "</div>"
      ],
      "text/plain": [
       "  flightNumber Flight_date  trip_number container_no            Pick_up_Time  \\\n",
       "0        SQ105  2023-01-01          3.0        BT790 2023-01-01 11:38:13.140   \n",
       "1        SQ105  2023-01-01          2.0        BT055 2023-01-01 11:30:56.450   \n",
       "2        SQ105  2023-01-01          4.0       BT1208 2023-01-01 11:38:38.437   \n",
       "3        SQ105  2023-01-01          1.0        BT838 2023-01-01 11:27:04.183   \n",
       "4        SQ105  2023-01-01          3.0        BT991 2023-01-01 11:38:13.140   \n",
       "\n",
       "  drop_off_Time Pick_up_Time_New  \n",
       "0           NaT         11:38:00  \n",
       "1           NaT         11:30:00  \n",
       "2           NaT         11:38:00  \n",
       "3           NaT         11:27:00  \n",
       "4           NaT         11:38:00  "
      ]
     },
     "execution_count": 203,
     "metadata": {},
     "output_type": "execute_result"
    }
   ],
   "source": [
    "dfluggage.head()"
   ]
  },
  {
   "cell_type": "code",
   "execution_count": 204,
   "metadata": {},
   "outputs": [],
   "source": [
    "# convert Pick_up_Time to datetime\n",
    "dfluggage['Pick_up_Time_New'] = pd.to_datetime(dfluggage['Pick_up_Time']).dt.strftime('%H:%M:%S')"
   ]
  },
  {
   "cell_type": "code",
   "execution_count": 210,
   "metadata": {},
   "outputs": [],
   "source": [
    "dfluggage['Pick_up_Time_New'] = pd.to_datetime(dfluggage['Pick_up_Time_New'], format='%H:%M:%S').dt.time"
   ]
  },
  {
   "cell_type": "code",
   "execution_count": 211,
   "metadata": {},
   "outputs": [
    {
     "ename": "TypeError",
     "evalue": "<class 'datetime.time'> is not convertible to datetime",
     "output_type": "error",
     "traceback": [
      "\u001b[1;31m---------------------------------------------------------------------------\u001b[0m",
      "\u001b[1;31mTypeError\u001b[0m                                 Traceback (most recent call last)",
      "\u001b[1;32me:\\pythonProjects\\SATS-2.ipynb Cell 14\u001b[0m in \u001b[0;36m<cell line: 2>\u001b[1;34m()\u001b[0m\n\u001b[0;32m      <a href='vscode-notebook-cell:/e%3A/pythonProjects/SATS-2.ipynb#Y202sZmlsZQ%3D%3D?line=0'>1</a>\u001b[0m \u001b[39m# convert pick_up_Time to datetime64[ns] type:\u001b[39;00m\n\u001b[1;32m----> <a href='vscode-notebook-cell:/e%3A/pythonProjects/SATS-2.ipynb#Y202sZmlsZQ%3D%3D?line=1'>2</a>\u001b[0m dfluggage[\u001b[39m'\u001b[39m\u001b[39mPick_up_Time_New\u001b[39m\u001b[39m'\u001b[39m] \u001b[39m=\u001b[39m pd\u001b[39m.\u001b[39;49mto_datetime(dfluggage[\u001b[39m'\u001b[39;49m\u001b[39mPick_up_Time_New\u001b[39;49m\u001b[39m'\u001b[39;49m])\n",
      "File \u001b[1;32mc:\\Users\\user\\AppData\\Local\\Programs\\Python\\Python310\\lib\\site-packages\\pandas\\core\\tools\\datetimes.py:1047\u001b[0m, in \u001b[0;36mto_datetime\u001b[1;34m(arg, errors, dayfirst, yearfirst, utc, format, exact, unit, infer_datetime_format, origin, cache)\u001b[0m\n\u001b[0;32m   1045\u001b[0m             result \u001b[39m=\u001b[39m arg\u001b[39m.\u001b[39mtz_localize(tz)\n\u001b[0;32m   1046\u001b[0m \u001b[39melif\u001b[39;00m \u001b[39misinstance\u001b[39m(arg, ABCSeries):\n\u001b[1;32m-> 1047\u001b[0m     cache_array \u001b[39m=\u001b[39m _maybe_cache(arg, \u001b[39mformat\u001b[39;49m, cache, convert_listlike)\n\u001b[0;32m   1048\u001b[0m     \u001b[39mif\u001b[39;00m \u001b[39mnot\u001b[39;00m cache_array\u001b[39m.\u001b[39mempty:\n\u001b[0;32m   1049\u001b[0m         result \u001b[39m=\u001b[39m arg\u001b[39m.\u001b[39mmap(cache_array)\n",
      "File \u001b[1;32mc:\\Users\\user\\AppData\\Local\\Programs\\Python\\Python310\\lib\\site-packages\\pandas\\core\\tools\\datetimes.py:197\u001b[0m, in \u001b[0;36m_maybe_cache\u001b[1;34m(arg, format, cache, convert_listlike)\u001b[0m\n\u001b[0;32m    195\u001b[0m unique_dates \u001b[39m=\u001b[39m unique(arg)\n\u001b[0;32m    196\u001b[0m \u001b[39mif\u001b[39;00m \u001b[39mlen\u001b[39m(unique_dates) \u001b[39m<\u001b[39m \u001b[39mlen\u001b[39m(arg):\n\u001b[1;32m--> 197\u001b[0m     cache_dates \u001b[39m=\u001b[39m convert_listlike(unique_dates, \u001b[39mformat\u001b[39;49m)\n\u001b[0;32m    198\u001b[0m     cache_array \u001b[39m=\u001b[39m Series(cache_dates, index\u001b[39m=\u001b[39munique_dates)\n\u001b[0;32m    199\u001b[0m     \u001b[39m# GH#39882 and GH#35888 in case of None and NaT we get duplicates\u001b[39;00m\n",
      "File \u001b[1;32mc:\\Users\\user\\AppData\\Local\\Programs\\Python\\Python310\\lib\\site-packages\\pandas\\core\\tools\\datetimes.py:402\u001b[0m, in \u001b[0;36m_convert_listlike_datetimes\u001b[1;34m(arg, format, name, tz, unit, errors, infer_datetime_format, dayfirst, yearfirst, exact)\u001b[0m\n\u001b[0;32m    400\u001b[0m \u001b[39massert\u001b[39;00m \u001b[39mformat\u001b[39m \u001b[39mis\u001b[39;00m \u001b[39mNone\u001b[39;00m \u001b[39mor\u001b[39;00m infer_datetime_format\n\u001b[0;32m    401\u001b[0m utc \u001b[39m=\u001b[39m tz \u001b[39m==\u001b[39m \u001b[39m\"\u001b[39m\u001b[39mutc\u001b[39m\u001b[39m\"\u001b[39m\n\u001b[1;32m--> 402\u001b[0m result, tz_parsed \u001b[39m=\u001b[39m objects_to_datetime64ns(\n\u001b[0;32m    403\u001b[0m     arg,\n\u001b[0;32m    404\u001b[0m     dayfirst\u001b[39m=\u001b[39;49mdayfirst,\n\u001b[0;32m    405\u001b[0m     yearfirst\u001b[39m=\u001b[39;49myearfirst,\n\u001b[0;32m    406\u001b[0m     utc\u001b[39m=\u001b[39;49mutc,\n\u001b[0;32m    407\u001b[0m     errors\u001b[39m=\u001b[39;49merrors,\n\u001b[0;32m    408\u001b[0m     require_iso8601\u001b[39m=\u001b[39;49mrequire_iso8601,\n\u001b[0;32m    409\u001b[0m     allow_object\u001b[39m=\u001b[39;49m\u001b[39mTrue\u001b[39;49;00m,\n\u001b[0;32m    410\u001b[0m )\n\u001b[0;32m    412\u001b[0m \u001b[39mif\u001b[39;00m tz_parsed \u001b[39mis\u001b[39;00m \u001b[39mnot\u001b[39;00m \u001b[39mNone\u001b[39;00m:\n\u001b[0;32m    413\u001b[0m     \u001b[39m# We can take a shortcut since the datetime64 numpy array\u001b[39;00m\n\u001b[0;32m    414\u001b[0m     \u001b[39m# is in UTC\u001b[39;00m\n\u001b[0;32m    415\u001b[0m     dta \u001b[39m=\u001b[39m DatetimeArray(result, dtype\u001b[39m=\u001b[39mtz_to_dtype(tz_parsed))\n",
      "File \u001b[1;32mc:\\Users\\user\\AppData\\Local\\Programs\\Python\\Python310\\lib\\site-packages\\pandas\\core\\arrays\\datetimes.py:2224\u001b[0m, in \u001b[0;36mobjects_to_datetime64ns\u001b[1;34m(data, dayfirst, yearfirst, utc, errors, require_iso8601, allow_object, allow_mixed)\u001b[0m\n\u001b[0;32m   2222\u001b[0m order: Literal[\u001b[39m\"\u001b[39m\u001b[39mF\u001b[39m\u001b[39m\"\u001b[39m, \u001b[39m\"\u001b[39m\u001b[39mC\u001b[39m\u001b[39m\"\u001b[39m] \u001b[39m=\u001b[39m \u001b[39m\"\u001b[39m\u001b[39mF\u001b[39m\u001b[39m\"\u001b[39m \u001b[39mif\u001b[39;00m flags\u001b[39m.\u001b[39mf_contiguous \u001b[39melse\u001b[39;00m \u001b[39m\"\u001b[39m\u001b[39mC\u001b[39m\u001b[39m\"\u001b[39m\n\u001b[0;32m   2223\u001b[0m \u001b[39mtry\u001b[39;00m:\n\u001b[1;32m-> 2224\u001b[0m     result, tz_parsed \u001b[39m=\u001b[39m tslib\u001b[39m.\u001b[39;49marray_to_datetime(\n\u001b[0;32m   2225\u001b[0m         data\u001b[39m.\u001b[39;49mravel(\u001b[39m\"\u001b[39;49m\u001b[39mK\u001b[39;49m\u001b[39m\"\u001b[39;49m),\n\u001b[0;32m   2226\u001b[0m         errors\u001b[39m=\u001b[39;49merrors,\n\u001b[0;32m   2227\u001b[0m         utc\u001b[39m=\u001b[39;49mutc,\n\u001b[0;32m   2228\u001b[0m         dayfirst\u001b[39m=\u001b[39;49mdayfirst,\n\u001b[0;32m   2229\u001b[0m         yearfirst\u001b[39m=\u001b[39;49myearfirst,\n\u001b[0;32m   2230\u001b[0m         require_iso8601\u001b[39m=\u001b[39;49mrequire_iso8601,\n\u001b[0;32m   2231\u001b[0m         allow_mixed\u001b[39m=\u001b[39;49mallow_mixed,\n\u001b[0;32m   2232\u001b[0m     )\n\u001b[0;32m   2233\u001b[0m     result \u001b[39m=\u001b[39m result\u001b[39m.\u001b[39mreshape(data\u001b[39m.\u001b[39mshape, order\u001b[39m=\u001b[39morder)\n\u001b[0;32m   2234\u001b[0m \u001b[39mexcept\u001b[39;00m \u001b[39mValueError\u001b[39;00m \u001b[39mas\u001b[39;00m err:\n",
      "File \u001b[1;32mc:\\Users\\user\\AppData\\Local\\Programs\\Python\\Python310\\lib\\site-packages\\pandas\\_libs\\tslib.pyx:381\u001b[0m, in \u001b[0;36mpandas._libs.tslib.array_to_datetime\u001b[1;34m()\u001b[0m\n",
      "File \u001b[1;32mc:\\Users\\user\\AppData\\Local\\Programs\\Python\\Python310\\lib\\site-packages\\pandas\\_libs\\tslib.pyx:613\u001b[0m, in \u001b[0;36mpandas._libs.tslib.array_to_datetime\u001b[1;34m()\u001b[0m\n",
      "File \u001b[1;32mc:\\Users\\user\\AppData\\Local\\Programs\\Python\\Python310\\lib\\site-packages\\pandas\\_libs\\tslib.pyx:755\u001b[0m, in \u001b[0;36mpandas._libs.tslib._array_to_datetime_object\u001b[1;34m()\u001b[0m\n",
      "File \u001b[1;32mc:\\Users\\user\\AppData\\Local\\Programs\\Python\\Python310\\lib\\site-packages\\pandas\\_libs\\tslib.pyx:586\u001b[0m, in \u001b[0;36mpandas._libs.tslib.array_to_datetime\u001b[1;34m()\u001b[0m\n",
      "\u001b[1;31mTypeError\u001b[0m: <class 'datetime.time'> is not convertible to datetime"
     ]
    }
   ],
   "source": [
    "# convert pick_up_Time to datetime64[ns] type:\n",
    "dfluggage['Pick_up_Time_New'] = pd.to_datetime(dfluggage['Pick_up_Time_New'])\n"
   ]
  },
  {
   "cell_type": "code",
   "execution_count": 212,
   "metadata": {},
   "outputs": [
    {
     "data": {
      "text/plain": [
       "flightNumber                object\n",
       "Flight_date         datetime64[ns]\n",
       "trip_number                float64\n",
       "container_no                object\n",
       "Pick_up_Time        datetime64[ns]\n",
       "drop_off_Time       datetime64[ns]\n",
       "Pick_up_Time_New            object\n",
       "dtype: object"
      ]
     },
     "execution_count": 212,
     "metadata": {},
     "output_type": "execute_result"
    }
   ],
   "source": [
    "dfluggage.dtypes"
   ]
  },
  {
   "attachments": {},
   "cell_type": "markdown",
   "metadata": {},
   "source": [
    "# Read file:\n"
   ]
  },
  {
   "cell_type": "code",
   "execution_count": null,
   "metadata": {},
   "outputs": [],
   "source": []
  },
  {
   "cell_type": "code",
   "execution_count": 213,
   "metadata": {},
   "outputs": [],
   "source": [
    "import pandas as pd\n",
    "import numpy as np\n",
    "import matplotlib.pyplot as plt\n",
    "import seaborn as sns\n",
    "%matplotlib inline\n",
    "dfPerson = pd.read_excel(r'E:/Neural Lab/SATS/Jan23_SATS_Ramp_StaffToFlightHeadCount.xlsx',parse_dates=['Flight Date','ET_NEW'])"
   ]
  },
  {
   "cell_type": "code",
   "execution_count": 214,
   "metadata": {},
   "outputs": [
    {
     "data": {
      "text/html": [
       "<div>\n",
       "<style scoped>\n",
       "    .dataframe tbody tr th:only-of-type {\n",
       "        vertical-align: middle;\n",
       "    }\n",
       "\n",
       "    .dataframe tbody tr th {\n",
       "        vertical-align: top;\n",
       "    }\n",
       "\n",
       "    .dataframe thead th {\n",
       "        text-align: right;\n",
       "    }\n",
       "</style>\n",
       "<table border=\"1\" class=\"dataframe\">\n",
       "  <thead>\n",
       "    <tr style=\"text-align: right;\">\n",
       "      <th></th>\n",
       "      <th>Flight Date</th>\n",
       "      <th>Orientation</th>\n",
       "      <th>Flight</th>\n",
       "      <th>ST</th>\n",
       "      <th>ET</th>\n",
       "      <th>RLO (Ramp Loading Officer)</th>\n",
       "      <th>RSM (Ramp Servicemen)</th>\n",
       "      <th>EO (Equipment Officer)</th>\n",
       "      <th>AA (Apron Assistant)</th>\n",
       "      <th>Total Staff</th>\n",
       "      <th>ET_NEW</th>\n",
       "    </tr>\n",
       "  </thead>\n",
       "  <tbody>\n",
       "    <tr>\n",
       "      <th>0</th>\n",
       "      <td>2023-01-01</td>\n",
       "      <td>Departure</td>\n",
       "      <td>SQ608</td>\n",
       "      <td>10.0</td>\n",
       "      <td>NaN</td>\n",
       "      <td>1.0</td>\n",
       "      <td>3.0</td>\n",
       "      <td>1.0</td>\n",
       "      <td>2.0</td>\n",
       "      <td>7.0</td>\n",
       "      <td>00:00:00</td>\n",
       "    </tr>\n",
       "    <tr>\n",
       "      <th>1</th>\n",
       "      <td>2023-01-01</td>\n",
       "      <td>Arrival</td>\n",
       "      <td>SQ208</td>\n",
       "      <td>15.0</td>\n",
       "      <td>3.0</td>\n",
       "      <td>0.0</td>\n",
       "      <td>0.0</td>\n",
       "      <td>0.0</td>\n",
       "      <td>0.0</td>\n",
       "      <td>0.0</td>\n",
       "      <td>00:03</td>\n",
       "    </tr>\n",
       "    <tr>\n",
       "      <th>2</th>\n",
       "      <td>2023-01-01</td>\n",
       "      <td>Departure</td>\n",
       "      <td>SQ336</td>\n",
       "      <td>15.0</td>\n",
       "      <td>NaN</td>\n",
       "      <td>1.0</td>\n",
       "      <td>3.0</td>\n",
       "      <td>1.0</td>\n",
       "      <td>2.0</td>\n",
       "      <td>7.0</td>\n",
       "      <td>:</td>\n",
       "    </tr>\n",
       "    <tr>\n",
       "      <th>3</th>\n",
       "      <td>2023-01-01</td>\n",
       "      <td>Arrival</td>\n",
       "      <td>SQ242</td>\n",
       "      <td>20.0</td>\n",
       "      <td>10.0</td>\n",
       "      <td>1.0</td>\n",
       "      <td>1.0</td>\n",
       "      <td>0.0</td>\n",
       "      <td>0.0</td>\n",
       "      <td>2.0</td>\n",
       "      <td>00:10</td>\n",
       "    </tr>\n",
       "    <tr>\n",
       "      <th>4</th>\n",
       "      <td>2023-01-01</td>\n",
       "      <td>Arrival</td>\n",
       "      <td>SQ947</td>\n",
       "      <td>20.0</td>\n",
       "      <td>8.0</td>\n",
       "      <td>0.0</td>\n",
       "      <td>0.0</td>\n",
       "      <td>0.0</td>\n",
       "      <td>1.0</td>\n",
       "      <td>1.0</td>\n",
       "      <td>00:08</td>\n",
       "    </tr>\n",
       "  </tbody>\n",
       "</table>\n",
       "</div>"
      ],
      "text/plain": [
       "  Flight Date Orientation Flight    ST    ET  RLO (Ramp Loading Officer)  \\\n",
       "0  2023-01-01   Departure  SQ608  10.0   NaN                         1.0   \n",
       "1  2023-01-01     Arrival  SQ208  15.0   3.0                         0.0   \n",
       "2  2023-01-01   Departure  SQ336  15.0   NaN                         1.0   \n",
       "3  2023-01-01     Arrival  SQ242  20.0  10.0                         1.0   \n",
       "4  2023-01-01     Arrival  SQ947  20.0   8.0                         0.0   \n",
       "\n",
       "   RSM (Ramp Servicemen)  EO (Equipment Officer)  AA (Apron Assistant)  \\\n",
       "0                    3.0                     1.0                   2.0   \n",
       "1                    0.0                     0.0                   0.0   \n",
       "2                    3.0                     1.0                   2.0   \n",
       "3                    1.0                     0.0                   0.0   \n",
       "4                    0.0                     0.0                   1.0   \n",
       "\n",
       "   Total Staff    ET_NEW  \n",
       "0          7.0  00:00:00  \n",
       "1          0.0     00:03  \n",
       "2          7.0         :  \n",
       "3          2.0     00:10  \n",
       "4          1.0     00:08  "
      ]
     },
     "execution_count": 214,
     "metadata": {},
     "output_type": "execute_result"
    }
   ],
   "source": [
    "dfPerson.head()"
   ]
  },
  {
   "cell_type": "code",
   "execution_count": 215,
   "metadata": {},
   "outputs": [],
   "source": [
    "#  take the Total Staff column and add it to dfluggage where the date and Flight match:\n",
    "# dfmerge=pd.merge(dfluggage,dfPerson,on=['ArrivalFlight','EIBT','DepartureFlight'],how='inner')\n",
    "# remove the columns that are not needed:\n",
    "# take only the 0,1,2,and last columns:\n",
    "\n",
    "dfPerson=dfPerson.iloc[:,[0,1,2,-2,-1]]"
   ]
  },
  {
   "cell_type": "code",
   "execution_count": 216,
   "metadata": {},
   "outputs": [
    {
     "data": {
      "text/html": [
       "<div>\n",
       "<style scoped>\n",
       "    .dataframe tbody tr th:only-of-type {\n",
       "        vertical-align: middle;\n",
       "    }\n",
       "\n",
       "    .dataframe tbody tr th {\n",
       "        vertical-align: top;\n",
       "    }\n",
       "\n",
       "    .dataframe thead th {\n",
       "        text-align: right;\n",
       "    }\n",
       "</style>\n",
       "<table border=\"1\" class=\"dataframe\">\n",
       "  <thead>\n",
       "    <tr style=\"text-align: right;\">\n",
       "      <th></th>\n",
       "      <th>Flight Date</th>\n",
       "      <th>Orientation</th>\n",
       "      <th>Flight</th>\n",
       "      <th>Total Staff</th>\n",
       "      <th>ET_NEW</th>\n",
       "    </tr>\n",
       "  </thead>\n",
       "  <tbody>\n",
       "    <tr>\n",
       "      <th>0</th>\n",
       "      <td>2023-01-01</td>\n",
       "      <td>Departure</td>\n",
       "      <td>SQ608</td>\n",
       "      <td>7.0</td>\n",
       "      <td>00:00:00</td>\n",
       "    </tr>\n",
       "    <tr>\n",
       "      <th>1</th>\n",
       "      <td>2023-01-01</td>\n",
       "      <td>Arrival</td>\n",
       "      <td>SQ208</td>\n",
       "      <td>0.0</td>\n",
       "      <td>00:03</td>\n",
       "    </tr>\n",
       "    <tr>\n",
       "      <th>2</th>\n",
       "      <td>2023-01-01</td>\n",
       "      <td>Departure</td>\n",
       "      <td>SQ336</td>\n",
       "      <td>7.0</td>\n",
       "      <td>:</td>\n",
       "    </tr>\n",
       "    <tr>\n",
       "      <th>3</th>\n",
       "      <td>2023-01-01</td>\n",
       "      <td>Arrival</td>\n",
       "      <td>SQ242</td>\n",
       "      <td>2.0</td>\n",
       "      <td>00:10</td>\n",
       "    </tr>\n",
       "    <tr>\n",
       "      <th>4</th>\n",
       "      <td>2023-01-01</td>\n",
       "      <td>Arrival</td>\n",
       "      <td>SQ947</td>\n",
       "      <td>1.0</td>\n",
       "      <td>00:08</td>\n",
       "    </tr>\n",
       "  </tbody>\n",
       "</table>\n",
       "</div>"
      ],
      "text/plain": [
       "  Flight Date Orientation Flight  Total Staff    ET_NEW\n",
       "0  2023-01-01   Departure  SQ608          7.0  00:00:00\n",
       "1  2023-01-01     Arrival  SQ208          0.0     00:03\n",
       "2  2023-01-01   Departure  SQ336          7.0         :\n",
       "3  2023-01-01     Arrival  SQ242          2.0     00:10\n",
       "4  2023-01-01     Arrival  SQ947          1.0     00:08"
      ]
     },
     "execution_count": 216,
     "metadata": {},
     "output_type": "execute_result"
    }
   ],
   "source": [
    "dfPerson.head()"
   ]
  },
  {
   "cell_type": "code",
   "execution_count": 217,
   "metadata": {},
   "outputs": [],
   "source": [
    "# Take the data for arrival flights only:\n",
    "dfPerson=dfPerson[dfPerson['Orientation']=='Arrival']"
   ]
  },
  {
   "cell_type": "code",
   "execution_count": 218,
   "metadata": {},
   "outputs": [
    {
     "data": {
      "text/html": [
       "<div>\n",
       "<style scoped>\n",
       "    .dataframe tbody tr th:only-of-type {\n",
       "        vertical-align: middle;\n",
       "    }\n",
       "\n",
       "    .dataframe tbody tr th {\n",
       "        vertical-align: top;\n",
       "    }\n",
       "\n",
       "    .dataframe thead th {\n",
       "        text-align: right;\n",
       "    }\n",
       "</style>\n",
       "<table border=\"1\" class=\"dataframe\">\n",
       "  <thead>\n",
       "    <tr style=\"text-align: right;\">\n",
       "      <th></th>\n",
       "      <th>Flight Date</th>\n",
       "      <th>Orientation</th>\n",
       "      <th>Flight</th>\n",
       "      <th>Total Staff</th>\n",
       "      <th>ET_NEW</th>\n",
       "    </tr>\n",
       "  </thead>\n",
       "  <tbody>\n",
       "    <tr>\n",
       "      <th>1</th>\n",
       "      <td>2023-01-01</td>\n",
       "      <td>Arrival</td>\n",
       "      <td>SQ208</td>\n",
       "      <td>0.0</td>\n",
       "      <td>00:03</td>\n",
       "    </tr>\n",
       "    <tr>\n",
       "      <th>3</th>\n",
       "      <td>2023-01-01</td>\n",
       "      <td>Arrival</td>\n",
       "      <td>SQ242</td>\n",
       "      <td>2.0</td>\n",
       "      <td>00:10</td>\n",
       "    </tr>\n",
       "    <tr>\n",
       "      <th>4</th>\n",
       "      <td>2023-01-01</td>\n",
       "      <td>Arrival</td>\n",
       "      <td>SQ947</td>\n",
       "      <td>1.0</td>\n",
       "      <td>00:08</td>\n",
       "    </tr>\n",
       "    <tr>\n",
       "      <th>9</th>\n",
       "      <td>2023-01-01</td>\n",
       "      <td>Arrival</td>\n",
       "      <td>TR819</td>\n",
       "      <td>5.0</td>\n",
       "      <td>00:07</td>\n",
       "    </tr>\n",
       "    <tr>\n",
       "      <th>18</th>\n",
       "      <td>2023-01-01</td>\n",
       "      <td>Arrival</td>\n",
       "      <td>SQ11</td>\n",
       "      <td>2.0</td>\n",
       "      <td>01:05</td>\n",
       "    </tr>\n",
       "  </tbody>\n",
       "</table>\n",
       "</div>"
      ],
      "text/plain": [
       "   Flight Date Orientation Flight  Total Staff ET_NEW\n",
       "1   2023-01-01     Arrival  SQ208          0.0  00:03\n",
       "3   2023-01-01     Arrival  SQ242          2.0  00:10\n",
       "4   2023-01-01     Arrival  SQ947          1.0  00:08\n",
       "9   2023-01-01     Arrival  TR819          5.0  00:07\n",
       "18  2023-01-01     Arrival   SQ11          2.0  01:05"
      ]
     },
     "execution_count": 218,
     "metadata": {},
     "output_type": "execute_result"
    }
   ],
   "source": [
    "dfPerson.head()"
   ]
  },
  {
   "cell_type": "code",
   "execution_count": 219,
   "metadata": {},
   "outputs": [
    {
     "data": {
      "text/plain": [
       "Flight Date    datetime64[ns]\n",
       "Orientation            object\n",
       "Flight                 object\n",
       "Total Staff           float64\n",
       "ET_NEW                 object\n",
       "dtype: object"
      ]
     },
     "execution_count": 219,
     "metadata": {},
     "output_type": "execute_result"
    }
   ],
   "source": [
    "# dfPerson columns types:\n",
    "dfPerson.dtypes"
   ]
  },
  {
   "cell_type": "code",
   "execution_count": 220,
   "metadata": {},
   "outputs": [],
   "source": [
    "# FIND ALL VALUES WHERE ET_new HAS 1 LENGTH:\n",
    "# dfPerson[dfPerson['ET_NEW'].str.len() == 1]\n",
    "# delete the rows where ET_new has 1 length:\n",
    "dfPerson = dfPerson[dfPerson['ET_NEW'].str.len() != 1]\n",
    "\n"
   ]
  },
  {
   "cell_type": "code",
   "execution_count": 221,
   "metadata": {},
   "outputs": [
    {
     "data": {
      "text/html": [
       "<div>\n",
       "<style scoped>\n",
       "    .dataframe tbody tr th:only-of-type {\n",
       "        vertical-align: middle;\n",
       "    }\n",
       "\n",
       "    .dataframe tbody tr th {\n",
       "        vertical-align: top;\n",
       "    }\n",
       "\n",
       "    .dataframe thead th {\n",
       "        text-align: right;\n",
       "    }\n",
       "</style>\n",
       "<table border=\"1\" class=\"dataframe\">\n",
       "  <thead>\n",
       "    <tr style=\"text-align: right;\">\n",
       "      <th></th>\n",
       "      <th>Flight Date</th>\n",
       "      <th>Orientation</th>\n",
       "      <th>Flight</th>\n",
       "      <th>Total Staff</th>\n",
       "      <th>ET_NEW</th>\n",
       "    </tr>\n",
       "  </thead>\n",
       "  <tbody>\n",
       "    <tr>\n",
       "      <th>1</th>\n",
       "      <td>2023-01-01</td>\n",
       "      <td>Arrival</td>\n",
       "      <td>SQ208</td>\n",
       "      <td>0.0</td>\n",
       "      <td>00:03</td>\n",
       "    </tr>\n",
       "    <tr>\n",
       "      <th>3</th>\n",
       "      <td>2023-01-01</td>\n",
       "      <td>Arrival</td>\n",
       "      <td>SQ242</td>\n",
       "      <td>2.0</td>\n",
       "      <td>00:10</td>\n",
       "    </tr>\n",
       "    <tr>\n",
       "      <th>4</th>\n",
       "      <td>2023-01-01</td>\n",
       "      <td>Arrival</td>\n",
       "      <td>SQ947</td>\n",
       "      <td>1.0</td>\n",
       "      <td>00:08</td>\n",
       "    </tr>\n",
       "    <tr>\n",
       "      <th>9</th>\n",
       "      <td>2023-01-01</td>\n",
       "      <td>Arrival</td>\n",
       "      <td>TR819</td>\n",
       "      <td>5.0</td>\n",
       "      <td>00:07</td>\n",
       "    </tr>\n",
       "    <tr>\n",
       "      <th>18</th>\n",
       "      <td>2023-01-01</td>\n",
       "      <td>Arrival</td>\n",
       "      <td>SQ11</td>\n",
       "      <td>2.0</td>\n",
       "      <td>01:05</td>\n",
       "    </tr>\n",
       "  </tbody>\n",
       "</table>\n",
       "</div>"
      ],
      "text/plain": [
       "   Flight Date Orientation Flight  Total Staff ET_NEW\n",
       "1   2023-01-01     Arrival  SQ208          0.0  00:03\n",
       "3   2023-01-01     Arrival  SQ242          2.0  00:10\n",
       "4   2023-01-01     Arrival  SQ947          1.0  00:08\n",
       "9   2023-01-01     Arrival  TR819          5.0  00:07\n",
       "18  2023-01-01     Arrival   SQ11          2.0  01:05"
      ]
     },
     "execution_count": 221,
     "metadata": {},
     "output_type": "execute_result"
    }
   ],
   "source": [
    "dfPerson.head()"
   ]
  },
  {
   "cell_type": "code",
   "execution_count": 222,
   "metadata": {},
   "outputs": [],
   "source": [
    "# convert ET to datetime:\n",
    "dfPerson['ET'] = pd.to_datetime(dfPerson['ET_NEW']).dt.strftime('%H:%M')"
   ]
  },
  {
   "cell_type": "code",
   "execution_count": 223,
   "metadata": {},
   "outputs": [],
   "source": [
    "# dfluggage['Pick_up_Time_New'] = pd.to_datetime(dfluggage['Pick_up_Time']).dt.strftime('%H:%M')"
   ]
  },
  {
   "cell_type": "code",
   "execution_count": 224,
   "metadata": {},
   "outputs": [
    {
     "data": {
      "text/plain": [
       "Flight Date    datetime64[ns]\n",
       "Orientation            object\n",
       "Flight                 object\n",
       "Total Staff           float64\n",
       "ET_NEW                 object\n",
       "ET                     object\n",
       "dtype: object"
      ]
     },
     "execution_count": 224,
     "metadata": {},
     "output_type": "execute_result"
    }
   ],
   "source": [
    "dfPerson.dtypes"
   ]
  },
  {
   "cell_type": "code",
   "execution_count": 225,
   "metadata": {},
   "outputs": [],
   "source": [
    "dfPerson['ET'] = pd.to_datetime(dfPerson['ET']).dt.strftime('%H:%M:%S')"
   ]
  },
  {
   "cell_type": "code",
   "execution_count": 226,
   "metadata": {},
   "outputs": [
    {
     "data": {
      "text/html": [
       "<div>\n",
       "<style scoped>\n",
       "    .dataframe tbody tr th:only-of-type {\n",
       "        vertical-align: middle;\n",
       "    }\n",
       "\n",
       "    .dataframe tbody tr th {\n",
       "        vertical-align: top;\n",
       "    }\n",
       "\n",
       "    .dataframe thead th {\n",
       "        text-align: right;\n",
       "    }\n",
       "</style>\n",
       "<table border=\"1\" class=\"dataframe\">\n",
       "  <thead>\n",
       "    <tr style=\"text-align: right;\">\n",
       "      <th></th>\n",
       "      <th>Flight Date</th>\n",
       "      <th>Orientation</th>\n",
       "      <th>Flight</th>\n",
       "      <th>Total Staff</th>\n",
       "      <th>ET_NEW</th>\n",
       "      <th>ET</th>\n",
       "    </tr>\n",
       "  </thead>\n",
       "  <tbody>\n",
       "    <tr>\n",
       "      <th>1</th>\n",
       "      <td>2023-01-01</td>\n",
       "      <td>Arrival</td>\n",
       "      <td>SQ208</td>\n",
       "      <td>0.0</td>\n",
       "      <td>00:03</td>\n",
       "      <td>00:03:00</td>\n",
       "    </tr>\n",
       "    <tr>\n",
       "      <th>3</th>\n",
       "      <td>2023-01-01</td>\n",
       "      <td>Arrival</td>\n",
       "      <td>SQ242</td>\n",
       "      <td>2.0</td>\n",
       "      <td>00:10</td>\n",
       "      <td>00:10:00</td>\n",
       "    </tr>\n",
       "    <tr>\n",
       "      <th>4</th>\n",
       "      <td>2023-01-01</td>\n",
       "      <td>Arrival</td>\n",
       "      <td>SQ947</td>\n",
       "      <td>1.0</td>\n",
       "      <td>00:08</td>\n",
       "      <td>00:08:00</td>\n",
       "    </tr>\n",
       "    <tr>\n",
       "      <th>9</th>\n",
       "      <td>2023-01-01</td>\n",
       "      <td>Arrival</td>\n",
       "      <td>TR819</td>\n",
       "      <td>5.0</td>\n",
       "      <td>00:07</td>\n",
       "      <td>00:07:00</td>\n",
       "    </tr>\n",
       "    <tr>\n",
       "      <th>18</th>\n",
       "      <td>2023-01-01</td>\n",
       "      <td>Arrival</td>\n",
       "      <td>SQ11</td>\n",
       "      <td>2.0</td>\n",
       "      <td>01:05</td>\n",
       "      <td>01:05:00</td>\n",
       "    </tr>\n",
       "  </tbody>\n",
       "</table>\n",
       "</div>"
      ],
      "text/plain": [
       "   Flight Date Orientation Flight  Total Staff ET_NEW        ET\n",
       "1   2023-01-01     Arrival  SQ208          0.0  00:03  00:03:00\n",
       "3   2023-01-01     Arrival  SQ242          2.0  00:10  00:10:00\n",
       "4   2023-01-01     Arrival  SQ947          1.0  00:08  00:08:00\n",
       "9   2023-01-01     Arrival  TR819          5.0  00:07  00:07:00\n",
       "18  2023-01-01     Arrival   SQ11          2.0  01:05  01:05:00"
      ]
     },
     "execution_count": 226,
     "metadata": {},
     "output_type": "execute_result"
    }
   ],
   "source": [
    "dfPerson.head()"
   ]
  },
  {
   "cell_type": "code",
   "execution_count": 227,
   "metadata": {},
   "outputs": [
    {
     "data": {
      "text/plain": [
       "Flight Date    datetime64[ns]\n",
       "Orientation            object\n",
       "Flight                 object\n",
       "Total Staff           float64\n",
       "ET_NEW                 object\n",
       "ET                     object\n",
       "dtype: object"
      ]
     },
     "execution_count": 227,
     "metadata": {},
     "output_type": "execute_result"
    }
   ],
   "source": [
    "dfPerson.dtypes"
   ]
  },
  {
   "cell_type": "code",
   "execution_count": 228,
   "metadata": {},
   "outputs": [],
   "source": [
    "#  convert Flight Date to datetime:\n",
    "dfPerson['Flight_date'] = pd.to_datetime(dfPerson['Flight Date']).dt.strftime('%Y-%m-%d')"
   ]
  },
  {
   "cell_type": "code",
   "execution_count": 229,
   "metadata": {},
   "outputs": [
    {
     "data": {
      "text/html": [
       "<div>\n",
       "<style scoped>\n",
       "    .dataframe tbody tr th:only-of-type {\n",
       "        vertical-align: middle;\n",
       "    }\n",
       "\n",
       "    .dataframe tbody tr th {\n",
       "        vertical-align: top;\n",
       "    }\n",
       "\n",
       "    .dataframe thead th {\n",
       "        text-align: right;\n",
       "    }\n",
       "</style>\n",
       "<table border=\"1\" class=\"dataframe\">\n",
       "  <thead>\n",
       "    <tr style=\"text-align: right;\">\n",
       "      <th></th>\n",
       "      <th>Flight Date</th>\n",
       "      <th>Orientation</th>\n",
       "      <th>Flight</th>\n",
       "      <th>Total Staff</th>\n",
       "      <th>ET_NEW</th>\n",
       "      <th>ET</th>\n",
       "      <th>Flight_date</th>\n",
       "    </tr>\n",
       "  </thead>\n",
       "  <tbody>\n",
       "    <tr>\n",
       "      <th>1</th>\n",
       "      <td>2023-01-01</td>\n",
       "      <td>Arrival</td>\n",
       "      <td>SQ208</td>\n",
       "      <td>0.0</td>\n",
       "      <td>00:03</td>\n",
       "      <td>00:03:00</td>\n",
       "      <td>2023-01-01</td>\n",
       "    </tr>\n",
       "    <tr>\n",
       "      <th>3</th>\n",
       "      <td>2023-01-01</td>\n",
       "      <td>Arrival</td>\n",
       "      <td>SQ242</td>\n",
       "      <td>2.0</td>\n",
       "      <td>00:10</td>\n",
       "      <td>00:10:00</td>\n",
       "      <td>2023-01-01</td>\n",
       "    </tr>\n",
       "    <tr>\n",
       "      <th>4</th>\n",
       "      <td>2023-01-01</td>\n",
       "      <td>Arrival</td>\n",
       "      <td>SQ947</td>\n",
       "      <td>1.0</td>\n",
       "      <td>00:08</td>\n",
       "      <td>00:08:00</td>\n",
       "      <td>2023-01-01</td>\n",
       "    </tr>\n",
       "    <tr>\n",
       "      <th>9</th>\n",
       "      <td>2023-01-01</td>\n",
       "      <td>Arrival</td>\n",
       "      <td>TR819</td>\n",
       "      <td>5.0</td>\n",
       "      <td>00:07</td>\n",
       "      <td>00:07:00</td>\n",
       "      <td>2023-01-01</td>\n",
       "    </tr>\n",
       "    <tr>\n",
       "      <th>18</th>\n",
       "      <td>2023-01-01</td>\n",
       "      <td>Arrival</td>\n",
       "      <td>SQ11</td>\n",
       "      <td>2.0</td>\n",
       "      <td>01:05</td>\n",
       "      <td>01:05:00</td>\n",
       "      <td>2023-01-01</td>\n",
       "    </tr>\n",
       "  </tbody>\n",
       "</table>\n",
       "</div>"
      ],
      "text/plain": [
       "   Flight Date Orientation Flight  Total Staff ET_NEW        ET Flight_date\n",
       "1   2023-01-01     Arrival  SQ208          0.0  00:03  00:03:00  2023-01-01\n",
       "3   2023-01-01     Arrival  SQ242          2.0  00:10  00:10:00  2023-01-01\n",
       "4   2023-01-01     Arrival  SQ947          1.0  00:08  00:08:00  2023-01-01\n",
       "9   2023-01-01     Arrival  TR819          5.0  00:07  00:07:00  2023-01-01\n",
       "18  2023-01-01     Arrival   SQ11          2.0  01:05  01:05:00  2023-01-01"
      ]
     },
     "execution_count": 229,
     "metadata": {},
     "output_type": "execute_result"
    }
   ],
   "source": [
    "dfPerson.head()"
   ]
  },
  {
   "cell_type": "code",
   "execution_count": 230,
   "metadata": {},
   "outputs": [],
   "source": [
    "#  rename Flight to flightNumber:\n",
    "dfPerson.rename(columns={'Flight':'flightNumber'}, inplace=True)"
   ]
  },
  {
   "cell_type": "code",
   "execution_count": 231,
   "metadata": {},
   "outputs": [
    {
     "data": {
      "text/html": [
       "<div>\n",
       "<style scoped>\n",
       "    .dataframe tbody tr th:only-of-type {\n",
       "        vertical-align: middle;\n",
       "    }\n",
       "\n",
       "    .dataframe tbody tr th {\n",
       "        vertical-align: top;\n",
       "    }\n",
       "\n",
       "    .dataframe thead th {\n",
       "        text-align: right;\n",
       "    }\n",
       "</style>\n",
       "<table border=\"1\" class=\"dataframe\">\n",
       "  <thead>\n",
       "    <tr style=\"text-align: right;\">\n",
       "      <th></th>\n",
       "      <th>Flight Date</th>\n",
       "      <th>Orientation</th>\n",
       "      <th>flightNumber</th>\n",
       "      <th>Total Staff</th>\n",
       "      <th>ET_NEW</th>\n",
       "      <th>ET</th>\n",
       "      <th>Flight_date</th>\n",
       "    </tr>\n",
       "  </thead>\n",
       "  <tbody>\n",
       "    <tr>\n",
       "      <th>1</th>\n",
       "      <td>2023-01-01</td>\n",
       "      <td>Arrival</td>\n",
       "      <td>SQ208</td>\n",
       "      <td>0.0</td>\n",
       "      <td>00:03</td>\n",
       "      <td>00:03:00</td>\n",
       "      <td>2023-01-01</td>\n",
       "    </tr>\n",
       "    <tr>\n",
       "      <th>3</th>\n",
       "      <td>2023-01-01</td>\n",
       "      <td>Arrival</td>\n",
       "      <td>SQ242</td>\n",
       "      <td>2.0</td>\n",
       "      <td>00:10</td>\n",
       "      <td>00:10:00</td>\n",
       "      <td>2023-01-01</td>\n",
       "    </tr>\n",
       "    <tr>\n",
       "      <th>4</th>\n",
       "      <td>2023-01-01</td>\n",
       "      <td>Arrival</td>\n",
       "      <td>SQ947</td>\n",
       "      <td>1.0</td>\n",
       "      <td>00:08</td>\n",
       "      <td>00:08:00</td>\n",
       "      <td>2023-01-01</td>\n",
       "    </tr>\n",
       "    <tr>\n",
       "      <th>9</th>\n",
       "      <td>2023-01-01</td>\n",
       "      <td>Arrival</td>\n",
       "      <td>TR819</td>\n",
       "      <td>5.0</td>\n",
       "      <td>00:07</td>\n",
       "      <td>00:07:00</td>\n",
       "      <td>2023-01-01</td>\n",
       "    </tr>\n",
       "    <tr>\n",
       "      <th>18</th>\n",
       "      <td>2023-01-01</td>\n",
       "      <td>Arrival</td>\n",
       "      <td>SQ11</td>\n",
       "      <td>2.0</td>\n",
       "      <td>01:05</td>\n",
       "      <td>01:05:00</td>\n",
       "      <td>2023-01-01</td>\n",
       "    </tr>\n",
       "  </tbody>\n",
       "</table>\n",
       "</div>"
      ],
      "text/plain": [
       "   Flight Date Orientation flightNumber  Total Staff ET_NEW        ET  \\\n",
       "1   2023-01-01     Arrival        SQ208          0.0  00:03  00:03:00   \n",
       "3   2023-01-01     Arrival        SQ242          2.0  00:10  00:10:00   \n",
       "4   2023-01-01     Arrival        SQ947          1.0  00:08  00:08:00   \n",
       "9   2023-01-01     Arrival        TR819          5.0  00:07  00:07:00   \n",
       "18  2023-01-01     Arrival         SQ11          2.0  01:05  01:05:00   \n",
       "\n",
       "   Flight_date  \n",
       "1   2023-01-01  \n",
       "3   2023-01-01  \n",
       "4   2023-01-01  \n",
       "9   2023-01-01  \n",
       "18  2023-01-01  "
      ]
     },
     "execution_count": 231,
     "metadata": {},
     "output_type": "execute_result"
    }
   ],
   "source": [
    "dfPerson.head()"
   ]
  },
  {
   "cell_type": "code",
   "execution_count": 232,
   "metadata": {},
   "outputs": [],
   "source": [
    "dfPerson=dfPerson.iloc[:,[2,3,5,6]]"
   ]
  },
  {
   "cell_type": "code",
   "execution_count": 233,
   "metadata": {},
   "outputs": [
    {
     "data": {
      "text/html": [
       "<div>\n",
       "<style scoped>\n",
       "    .dataframe tbody tr th:only-of-type {\n",
       "        vertical-align: middle;\n",
       "    }\n",
       "\n",
       "    .dataframe tbody tr th {\n",
       "        vertical-align: top;\n",
       "    }\n",
       "\n",
       "    .dataframe thead th {\n",
       "        text-align: right;\n",
       "    }\n",
       "</style>\n",
       "<table border=\"1\" class=\"dataframe\">\n",
       "  <thead>\n",
       "    <tr style=\"text-align: right;\">\n",
       "      <th></th>\n",
       "      <th>flightNumber</th>\n",
       "      <th>Total Staff</th>\n",
       "      <th>ET</th>\n",
       "      <th>Flight_date</th>\n",
       "    </tr>\n",
       "  </thead>\n",
       "  <tbody>\n",
       "    <tr>\n",
       "      <th>1</th>\n",
       "      <td>SQ208</td>\n",
       "      <td>0.0</td>\n",
       "      <td>00:03:00</td>\n",
       "      <td>2023-01-01</td>\n",
       "    </tr>\n",
       "    <tr>\n",
       "      <th>3</th>\n",
       "      <td>SQ242</td>\n",
       "      <td>2.0</td>\n",
       "      <td>00:10:00</td>\n",
       "      <td>2023-01-01</td>\n",
       "    </tr>\n",
       "    <tr>\n",
       "      <th>4</th>\n",
       "      <td>SQ947</td>\n",
       "      <td>1.0</td>\n",
       "      <td>00:08:00</td>\n",
       "      <td>2023-01-01</td>\n",
       "    </tr>\n",
       "    <tr>\n",
       "      <th>9</th>\n",
       "      <td>TR819</td>\n",
       "      <td>5.0</td>\n",
       "      <td>00:07:00</td>\n",
       "      <td>2023-01-01</td>\n",
       "    </tr>\n",
       "    <tr>\n",
       "      <th>18</th>\n",
       "      <td>SQ11</td>\n",
       "      <td>2.0</td>\n",
       "      <td>01:05:00</td>\n",
       "      <td>2023-01-01</td>\n",
       "    </tr>\n",
       "  </tbody>\n",
       "</table>\n",
       "</div>"
      ],
      "text/plain": [
       "   flightNumber  Total Staff        ET Flight_date\n",
       "1         SQ208          0.0  00:03:00  2023-01-01\n",
       "3         SQ242          2.0  00:10:00  2023-01-01\n",
       "4         SQ947          1.0  00:08:00  2023-01-01\n",
       "9         TR819          5.0  00:07:00  2023-01-01\n",
       "18         SQ11          2.0  01:05:00  2023-01-01"
      ]
     },
     "execution_count": 233,
     "metadata": {},
     "output_type": "execute_result"
    }
   ],
   "source": [
    "dfPerson.head()"
   ]
  },
  {
   "cell_type": "code",
   "execution_count": 234,
   "metadata": {},
   "outputs": [
    {
     "data": {
      "text/plain": [
       "flightNumber     object\n",
       "Total Staff     float64\n",
       "ET               object\n",
       "Flight_date      object\n",
       "dtype: object"
      ]
     },
     "execution_count": 234,
     "metadata": {},
     "output_type": "execute_result"
    }
   ],
   "source": [
    "dfPerson.dtypes"
   ]
  },
  {
   "cell_type": "code",
   "execution_count": 235,
   "metadata": {},
   "outputs": [],
   "source": [
    "#  convert Flight_date to datetime:\n",
    "dfPerson['Flight_date'] = pd.to_datetime(dfPerson['Flight_date'])"
   ]
  },
  {
   "cell_type": "code",
   "execution_count": 236,
   "metadata": {},
   "outputs": [],
   "source": [
    "#  convert Flight_date to datetime:\n",
    "dfPerson['ET'] = pd.to_datetime(dfPerson['ET'])\n"
   ]
  },
  {
   "cell_type": "code",
   "execution_count": 237,
   "metadata": {},
   "outputs": [
    {
     "data": {
      "text/plain": [
       "flightNumber            object\n",
       "Total Staff            float64\n",
       "ET              datetime64[ns]\n",
       "Flight_date     datetime64[ns]\n",
       "dtype: object"
      ]
     },
     "execution_count": 237,
     "metadata": {},
     "output_type": "execute_result"
    }
   ],
   "source": [
    "dfPerson.dtypes"
   ]
  },
  {
   "cell_type": "code",
   "execution_count": 238,
   "metadata": {},
   "outputs": [
    {
     "data": {
      "text/html": [
       "<div>\n",
       "<style scoped>\n",
       "    .dataframe tbody tr th:only-of-type {\n",
       "        vertical-align: middle;\n",
       "    }\n",
       "\n",
       "    .dataframe tbody tr th {\n",
       "        vertical-align: top;\n",
       "    }\n",
       "\n",
       "    .dataframe thead th {\n",
       "        text-align: right;\n",
       "    }\n",
       "</style>\n",
       "<table border=\"1\" class=\"dataframe\">\n",
       "  <thead>\n",
       "    <tr style=\"text-align: right;\">\n",
       "      <th></th>\n",
       "      <th>flightNumber</th>\n",
       "      <th>Total Staff</th>\n",
       "      <th>ET</th>\n",
       "      <th>Flight_date</th>\n",
       "    </tr>\n",
       "  </thead>\n",
       "  <tbody>\n",
       "    <tr>\n",
       "      <th>1</th>\n",
       "      <td>SQ208</td>\n",
       "      <td>0.0</td>\n",
       "      <td>2023-03-24 00:03:00</td>\n",
       "      <td>2023-01-01</td>\n",
       "    </tr>\n",
       "    <tr>\n",
       "      <th>3</th>\n",
       "      <td>SQ242</td>\n",
       "      <td>2.0</td>\n",
       "      <td>2023-03-24 00:10:00</td>\n",
       "      <td>2023-01-01</td>\n",
       "    </tr>\n",
       "    <tr>\n",
       "      <th>4</th>\n",
       "      <td>SQ947</td>\n",
       "      <td>1.0</td>\n",
       "      <td>2023-03-24 00:08:00</td>\n",
       "      <td>2023-01-01</td>\n",
       "    </tr>\n",
       "    <tr>\n",
       "      <th>9</th>\n",
       "      <td>TR819</td>\n",
       "      <td>5.0</td>\n",
       "      <td>2023-03-24 00:07:00</td>\n",
       "      <td>2023-01-01</td>\n",
       "    </tr>\n",
       "    <tr>\n",
       "      <th>18</th>\n",
       "      <td>SQ11</td>\n",
       "      <td>2.0</td>\n",
       "      <td>2023-03-24 01:05:00</td>\n",
       "      <td>2023-01-01</td>\n",
       "    </tr>\n",
       "  </tbody>\n",
       "</table>\n",
       "</div>"
      ],
      "text/plain": [
       "   flightNumber  Total Staff                  ET Flight_date\n",
       "1         SQ208          0.0 2023-03-24 00:03:00  2023-01-01\n",
       "3         SQ242          2.0 2023-03-24 00:10:00  2023-01-01\n",
       "4         SQ947          1.0 2023-03-24 00:08:00  2023-01-01\n",
       "9         TR819          5.0 2023-03-24 00:07:00  2023-01-01\n",
       "18         SQ11          2.0 2023-03-24 01:05:00  2023-01-01"
      ]
     },
     "execution_count": 238,
     "metadata": {},
     "output_type": "execute_result"
    }
   ],
   "source": [
    "dfPerson.head()\n",
    "# convert ET to time:\n",
    "# dfPerson['ET'] = pd.to_datetime(dfPerson['ET']).dt.strftime('%H:%M:%S')"
   ]
  },
  {
   "cell_type": "code",
   "execution_count": 160,
   "metadata": {},
   "outputs": [
    {
     "data": {
      "text/plain": [
       "flightNumber            object\n",
       "Total Staff            float64\n",
       "ET                      object\n",
       "Flight_date     datetime64[ns]\n",
       "dtype: object"
      ]
     },
     "execution_count": 160,
     "metadata": {},
     "output_type": "execute_result"
    }
   ],
   "source": [
    "dfPerson.dtypes"
   ]
  },
  {
   "cell_type": "code",
   "execution_count": 161,
   "metadata": {},
   "outputs": [
    {
     "data": {
      "text/html": [
       "<div>\n",
       "<style scoped>\n",
       "    .dataframe tbody tr th:only-of-type {\n",
       "        vertical-align: middle;\n",
       "    }\n",
       "\n",
       "    .dataframe tbody tr th {\n",
       "        vertical-align: top;\n",
       "    }\n",
       "\n",
       "    .dataframe thead th {\n",
       "        text-align: right;\n",
       "    }\n",
       "</style>\n",
       "<table border=\"1\" class=\"dataframe\">\n",
       "  <thead>\n",
       "    <tr style=\"text-align: right;\">\n",
       "      <th></th>\n",
       "      <th>flightNumber</th>\n",
       "      <th>Total Staff</th>\n",
       "      <th>ET</th>\n",
       "      <th>Flight_date</th>\n",
       "    </tr>\n",
       "  </thead>\n",
       "  <tbody>\n",
       "    <tr>\n",
       "      <th>1</th>\n",
       "      <td>SQ208</td>\n",
       "      <td>0.0</td>\n",
       "      <td>00:03:00</td>\n",
       "      <td>2023-01-01</td>\n",
       "    </tr>\n",
       "    <tr>\n",
       "      <th>3</th>\n",
       "      <td>SQ242</td>\n",
       "      <td>2.0</td>\n",
       "      <td>00:10:00</td>\n",
       "      <td>2023-01-01</td>\n",
       "    </tr>\n",
       "    <tr>\n",
       "      <th>4</th>\n",
       "      <td>SQ947</td>\n",
       "      <td>1.0</td>\n",
       "      <td>00:08:00</td>\n",
       "      <td>2023-01-01</td>\n",
       "    </tr>\n",
       "    <tr>\n",
       "      <th>9</th>\n",
       "      <td>TR819</td>\n",
       "      <td>5.0</td>\n",
       "      <td>00:07:00</td>\n",
       "      <td>2023-01-01</td>\n",
       "    </tr>\n",
       "    <tr>\n",
       "      <th>18</th>\n",
       "      <td>SQ11</td>\n",
       "      <td>2.0</td>\n",
       "      <td>01:05:00</td>\n",
       "      <td>2023-01-01</td>\n",
       "    </tr>\n",
       "  </tbody>\n",
       "</table>\n",
       "</div>"
      ],
      "text/plain": [
       "   flightNumber  Total Staff        ET Flight_date\n",
       "1         SQ208          0.0  00:03:00  2023-01-01\n",
       "3         SQ242          2.0  00:10:00  2023-01-01\n",
       "4         SQ947          1.0  00:08:00  2023-01-01\n",
       "9         TR819          5.0  00:07:00  2023-01-01\n",
       "18         SQ11          2.0  01:05:00  2023-01-01"
      ]
     },
     "execution_count": 161,
     "metadata": {},
     "output_type": "execute_result"
    }
   ],
   "source": [
    "dfPerson.head()"
   ]
  },
  {
   "cell_type": "code",
   "execution_count": 239,
   "metadata": {},
   "outputs": [],
   "source": [
    "dfmerge=pd.merge(dfluggage,dfPerson,on=['flightNumber','Flight_date'],how='inner')"
   ]
  },
  {
   "cell_type": "code",
   "execution_count": 240,
   "metadata": {},
   "outputs": [
    {
     "data": {
      "text/html": [
       "<div>\n",
       "<style scoped>\n",
       "    .dataframe tbody tr th:only-of-type {\n",
       "        vertical-align: middle;\n",
       "    }\n",
       "\n",
       "    .dataframe tbody tr th {\n",
       "        vertical-align: top;\n",
       "    }\n",
       "\n",
       "    .dataframe thead th {\n",
       "        text-align: right;\n",
       "    }\n",
       "</style>\n",
       "<table border=\"1\" class=\"dataframe\">\n",
       "  <thead>\n",
       "    <tr style=\"text-align: right;\">\n",
       "      <th></th>\n",
       "      <th>flightNumber</th>\n",
       "      <th>Flight_date</th>\n",
       "      <th>trip_number</th>\n",
       "      <th>container_no</th>\n",
       "      <th>Pick_up_Time</th>\n",
       "      <th>drop_off_Time</th>\n",
       "      <th>Pick_up_Time_New</th>\n",
       "      <th>Total Staff</th>\n",
       "      <th>ET</th>\n",
       "    </tr>\n",
       "  </thead>\n",
       "  <tbody>\n",
       "    <tr>\n",
       "      <th>0</th>\n",
       "      <td>SQ125</td>\n",
       "      <td>2023-01-01</td>\n",
       "      <td>4.0</td>\n",
       "      <td>AKE81973SQ</td>\n",
       "      <td>2023-01-01 22:10:14.753</td>\n",
       "      <td>NaT</td>\n",
       "      <td>22:10:14</td>\n",
       "      <td>5.0</td>\n",
       "      <td>2023-03-24 21:44:00</td>\n",
       "    </tr>\n",
       "    <tr>\n",
       "      <th>1</th>\n",
       "      <td>SQ125</td>\n",
       "      <td>2023-01-01</td>\n",
       "      <td>4.0</td>\n",
       "      <td>AKE84372SQ</td>\n",
       "      <td>2023-01-01 22:10:14.753</td>\n",
       "      <td>NaT</td>\n",
       "      <td>22:10:14</td>\n",
       "      <td>5.0</td>\n",
       "      <td>2023-03-24 21:44:00</td>\n",
       "    </tr>\n",
       "    <tr>\n",
       "      <th>2</th>\n",
       "      <td>SQ125</td>\n",
       "      <td>2023-01-01</td>\n",
       "      <td>3.0</td>\n",
       "      <td>AKE86025SQ</td>\n",
       "      <td>2023-01-01 22:09:59.067</td>\n",
       "      <td>NaT</td>\n",
       "      <td>22:09:59</td>\n",
       "      <td>5.0</td>\n",
       "      <td>2023-03-24 21:44:00</td>\n",
       "    </tr>\n",
       "    <tr>\n",
       "      <th>3</th>\n",
       "      <td>SQ125</td>\n",
       "      <td>2023-01-01</td>\n",
       "      <td>2.0</td>\n",
       "      <td>AKE11725SQ</td>\n",
       "      <td>2023-01-01 22:03:23.360</td>\n",
       "      <td>2023-01-01 22:07:44.313</td>\n",
       "      <td>22:03:23</td>\n",
       "      <td>5.0</td>\n",
       "      <td>2023-03-24 21:44:00</td>\n",
       "    </tr>\n",
       "    <tr>\n",
       "      <th>4</th>\n",
       "      <td>SQ125</td>\n",
       "      <td>2023-01-01</td>\n",
       "      <td>2.0</td>\n",
       "      <td>AKE84343SQ</td>\n",
       "      <td>2023-01-01 22:03:23.360</td>\n",
       "      <td>2023-01-01 22:07:44.330</td>\n",
       "      <td>22:03:23</td>\n",
       "      <td>5.0</td>\n",
       "      <td>2023-03-24 21:44:00</td>\n",
       "    </tr>\n",
       "  </tbody>\n",
       "</table>\n",
       "</div>"
      ],
      "text/plain": [
       "  flightNumber Flight_date  trip_number container_no            Pick_up_Time  \\\n",
       "0        SQ125  2023-01-01          4.0   AKE81973SQ 2023-01-01 22:10:14.753   \n",
       "1        SQ125  2023-01-01          4.0   AKE84372SQ 2023-01-01 22:10:14.753   \n",
       "2        SQ125  2023-01-01          3.0   AKE86025SQ 2023-01-01 22:09:59.067   \n",
       "3        SQ125  2023-01-01          2.0   AKE11725SQ 2023-01-01 22:03:23.360   \n",
       "4        SQ125  2023-01-01          2.0   AKE84343SQ 2023-01-01 22:03:23.360   \n",
       "\n",
       "            drop_off_Time Pick_up_Time_New  Total Staff                  ET  \n",
       "0                     NaT         22:10:14          5.0 2023-03-24 21:44:00  \n",
       "1                     NaT         22:10:14          5.0 2023-03-24 21:44:00  \n",
       "2                     NaT         22:09:59          5.0 2023-03-24 21:44:00  \n",
       "3 2023-01-01 22:07:44.313         22:03:23          5.0 2023-03-24 21:44:00  \n",
       "4 2023-01-01 22:07:44.330         22:03:23          5.0 2023-03-24 21:44:00  "
      ]
     },
     "execution_count": 240,
     "metadata": {},
     "output_type": "execute_result"
    }
   ],
   "source": [
    "dfmerge.head()"
   ]
  },
  {
   "cell_type": "code",
   "execution_count": 241,
   "metadata": {},
   "outputs": [
    {
     "data": {
      "text/plain": [
       "flightNumber                object\n",
       "Flight_date         datetime64[ns]\n",
       "trip_number                float64\n",
       "container_no                object\n",
       "Pick_up_Time        datetime64[ns]\n",
       "drop_off_Time       datetime64[ns]\n",
       "Pick_up_Time_New            object\n",
       "Total Staff                float64\n",
       "ET                  datetime64[ns]\n",
       "dtype: object"
      ]
     },
     "execution_count": 241,
     "metadata": {},
     "output_type": "execute_result"
    }
   ],
   "source": [
    "dfmerge.dtypes"
   ]
  },
  {
   "cell_type": "code",
   "execution_count": null,
   "metadata": {},
   "outputs": [],
   "source": [
    "#  convert Pick_up_Time_New to "
   ]
  },
  {
   "cell_type": "code",
   "execution_count": 102,
   "metadata": {},
   "outputs": [
    {
     "data": {
      "text/plain": [
       "(3604, 4)"
      ]
     },
     "execution_count": 102,
     "metadata": {},
     "output_type": "execute_result"
    }
   ],
   "source": [
    "dfPerson.shape"
   ]
  },
  {
   "cell_type": "code",
   "execution_count": 103,
   "metadata": {},
   "outputs": [
    {
     "data": {
      "text/plain": [
       "(23987, 8)"
      ]
     },
     "execution_count": 103,
     "metadata": {},
     "output_type": "execute_result"
    }
   ],
   "source": [
    "dfluggage.shape"
   ]
  },
  {
   "cell_type": "code",
   "execution_count": 104,
   "metadata": {},
   "outputs": [
    {
     "data": {
      "text/plain": [
       "flightNumber                 object\n",
       "Flight_date          datetime64[ns]\n",
       "trip_number                 float64\n",
       "container_no                 object\n",
       "Pick_up_Time         datetime64[ns]\n",
       "drop_off_Time        datetime64[ns]\n",
       "Pick_up_Time_New             object\n",
       "drop_off_Time_New            object\n",
       "Total Staff                 float64\n",
       "ET                           object\n",
       "dtype: object"
      ]
     },
     "execution_count": 104,
     "metadata": {},
     "output_type": "execute_result"
    }
   ],
   "source": [
    "dfmerge.dtypes"
   ]
  },
  {
   "cell_type": "code",
   "execution_count": 105,
   "metadata": {},
   "outputs": [],
   "source": [
    "# "
   ]
  },
  {
   "cell_type": "code",
   "execution_count": 165,
   "metadata": {},
   "outputs": [
    {
     "ename": "TypeError",
     "evalue": "<class 'datetime.time'> is not convertible to datetime",
     "output_type": "error",
     "traceback": [
      "\u001b[1;31m---------------------------------------------------------------------------\u001b[0m",
      "\u001b[1;31mTypeError\u001b[0m                                 Traceback (most recent call last)",
      "\u001b[1;32me:\\pythonProjects\\SATS-2.ipynb Cell 49\u001b[0m in \u001b[0;36m<cell line: 3>\u001b[1;34m()\u001b[0m\n\u001b[0;32m      <a href='vscode-notebook-cell:/e%3A/pythonProjects/SATS-2.ipynb#X61sZmlsZQ%3D%3D?line=0'>1</a>\u001b[0m \u001b[39m# convert ET to time:\u001b[39;00m\n\u001b[1;32m----> <a href='vscode-notebook-cell:/e%3A/pythonProjects/SATS-2.ipynb#X61sZmlsZQ%3D%3D?line=2'>3</a>\u001b[0m dfPerson[\u001b[39m'\u001b[39m\u001b[39mET\u001b[39m\u001b[39m'\u001b[39m] \u001b[39m=\u001b[39m pd\u001b[39m.\u001b[39;49mto_datetime(dfPerson[\u001b[39m'\u001b[39;49m\u001b[39mET\u001b[39;49m\u001b[39m'\u001b[39;49m])\n\u001b[0;32m      <a href='vscode-notebook-cell:/e%3A/pythonProjects/SATS-2.ipynb#X61sZmlsZQ%3D%3D?line=3'>4</a>\u001b[0m dfmerge[\u001b[39m'\u001b[39m\u001b[39mET\u001b[39m\u001b[39m'\u001b[39m] \u001b[39m=\u001b[39m pd\u001b[39m.\u001b[39mto_datetime(dfmerge[\u001b[39m'\u001b[39m\u001b[39mET\u001b[39m\u001b[39m'\u001b[39m])\n",
      "File \u001b[1;32mc:\\Users\\user\\AppData\\Local\\Programs\\Python\\Python310\\lib\\site-packages\\pandas\\core\\tools\\datetimes.py:1051\u001b[0m, in \u001b[0;36mto_datetime\u001b[1;34m(arg, errors, dayfirst, yearfirst, utc, format, exact, unit, infer_datetime_format, origin, cache)\u001b[0m\n\u001b[0;32m   1049\u001b[0m         result \u001b[39m=\u001b[39m arg\u001b[39m.\u001b[39mmap(cache_array)\n\u001b[0;32m   1050\u001b[0m     \u001b[39melse\u001b[39;00m:\n\u001b[1;32m-> 1051\u001b[0m         values \u001b[39m=\u001b[39m convert_listlike(arg\u001b[39m.\u001b[39;49m_values, \u001b[39mformat\u001b[39;49m)\n\u001b[0;32m   1052\u001b[0m         result \u001b[39m=\u001b[39m arg\u001b[39m.\u001b[39m_constructor(values, index\u001b[39m=\u001b[39marg\u001b[39m.\u001b[39mindex, name\u001b[39m=\u001b[39marg\u001b[39m.\u001b[39mname)\n\u001b[0;32m   1053\u001b[0m \u001b[39melif\u001b[39;00m \u001b[39misinstance\u001b[39m(arg, (ABCDataFrame, abc\u001b[39m.\u001b[39mMutableMapping)):\n",
      "File \u001b[1;32mc:\\Users\\user\\AppData\\Local\\Programs\\Python\\Python310\\lib\\site-packages\\pandas\\core\\tools\\datetimes.py:402\u001b[0m, in \u001b[0;36m_convert_listlike_datetimes\u001b[1;34m(arg, format, name, tz, unit, errors, infer_datetime_format, dayfirst, yearfirst, exact)\u001b[0m\n\u001b[0;32m    400\u001b[0m \u001b[39massert\u001b[39;00m \u001b[39mformat\u001b[39m \u001b[39mis\u001b[39;00m \u001b[39mNone\u001b[39;00m \u001b[39mor\u001b[39;00m infer_datetime_format\n\u001b[0;32m    401\u001b[0m utc \u001b[39m=\u001b[39m tz \u001b[39m==\u001b[39m \u001b[39m\"\u001b[39m\u001b[39mutc\u001b[39m\u001b[39m\"\u001b[39m\n\u001b[1;32m--> 402\u001b[0m result, tz_parsed \u001b[39m=\u001b[39m objects_to_datetime64ns(\n\u001b[0;32m    403\u001b[0m     arg,\n\u001b[0;32m    404\u001b[0m     dayfirst\u001b[39m=\u001b[39;49mdayfirst,\n\u001b[0;32m    405\u001b[0m     yearfirst\u001b[39m=\u001b[39;49myearfirst,\n\u001b[0;32m    406\u001b[0m     utc\u001b[39m=\u001b[39;49mutc,\n\u001b[0;32m    407\u001b[0m     errors\u001b[39m=\u001b[39;49merrors,\n\u001b[0;32m    408\u001b[0m     require_iso8601\u001b[39m=\u001b[39;49mrequire_iso8601,\n\u001b[0;32m    409\u001b[0m     allow_object\u001b[39m=\u001b[39;49m\u001b[39mTrue\u001b[39;49;00m,\n\u001b[0;32m    410\u001b[0m )\n\u001b[0;32m    412\u001b[0m \u001b[39mif\u001b[39;00m tz_parsed \u001b[39mis\u001b[39;00m \u001b[39mnot\u001b[39;00m \u001b[39mNone\u001b[39;00m:\n\u001b[0;32m    413\u001b[0m     \u001b[39m# We can take a shortcut since the datetime64 numpy array\u001b[39;00m\n\u001b[0;32m    414\u001b[0m     \u001b[39m# is in UTC\u001b[39;00m\n\u001b[0;32m    415\u001b[0m     dta \u001b[39m=\u001b[39m DatetimeArray(result, dtype\u001b[39m=\u001b[39mtz_to_dtype(tz_parsed))\n",
      "File \u001b[1;32mc:\\Users\\user\\AppData\\Local\\Programs\\Python\\Python310\\lib\\site-packages\\pandas\\core\\arrays\\datetimes.py:2224\u001b[0m, in \u001b[0;36mobjects_to_datetime64ns\u001b[1;34m(data, dayfirst, yearfirst, utc, errors, require_iso8601, allow_object, allow_mixed)\u001b[0m\n\u001b[0;32m   2222\u001b[0m order: Literal[\u001b[39m\"\u001b[39m\u001b[39mF\u001b[39m\u001b[39m\"\u001b[39m, \u001b[39m\"\u001b[39m\u001b[39mC\u001b[39m\u001b[39m\"\u001b[39m] \u001b[39m=\u001b[39m \u001b[39m\"\u001b[39m\u001b[39mF\u001b[39m\u001b[39m\"\u001b[39m \u001b[39mif\u001b[39;00m flags\u001b[39m.\u001b[39mf_contiguous \u001b[39melse\u001b[39;00m \u001b[39m\"\u001b[39m\u001b[39mC\u001b[39m\u001b[39m\"\u001b[39m\n\u001b[0;32m   2223\u001b[0m \u001b[39mtry\u001b[39;00m:\n\u001b[1;32m-> 2224\u001b[0m     result, tz_parsed \u001b[39m=\u001b[39m tslib\u001b[39m.\u001b[39;49marray_to_datetime(\n\u001b[0;32m   2225\u001b[0m         data\u001b[39m.\u001b[39;49mravel(\u001b[39m\"\u001b[39;49m\u001b[39mK\u001b[39;49m\u001b[39m\"\u001b[39;49m),\n\u001b[0;32m   2226\u001b[0m         errors\u001b[39m=\u001b[39;49merrors,\n\u001b[0;32m   2227\u001b[0m         utc\u001b[39m=\u001b[39;49mutc,\n\u001b[0;32m   2228\u001b[0m         dayfirst\u001b[39m=\u001b[39;49mdayfirst,\n\u001b[0;32m   2229\u001b[0m         yearfirst\u001b[39m=\u001b[39;49myearfirst,\n\u001b[0;32m   2230\u001b[0m         require_iso8601\u001b[39m=\u001b[39;49mrequire_iso8601,\n\u001b[0;32m   2231\u001b[0m         allow_mixed\u001b[39m=\u001b[39;49mallow_mixed,\n\u001b[0;32m   2232\u001b[0m     )\n\u001b[0;32m   2233\u001b[0m     result \u001b[39m=\u001b[39m result\u001b[39m.\u001b[39mreshape(data\u001b[39m.\u001b[39mshape, order\u001b[39m=\u001b[39morder)\n\u001b[0;32m   2234\u001b[0m \u001b[39mexcept\u001b[39;00m \u001b[39mValueError\u001b[39;00m \u001b[39mas\u001b[39;00m err:\n",
      "File \u001b[1;32mc:\\Users\\user\\AppData\\Local\\Programs\\Python\\Python310\\lib\\site-packages\\pandas\\_libs\\tslib.pyx:381\u001b[0m, in \u001b[0;36mpandas._libs.tslib.array_to_datetime\u001b[1;34m()\u001b[0m\n",
      "File \u001b[1;32mc:\\Users\\user\\AppData\\Local\\Programs\\Python\\Python310\\lib\\site-packages\\pandas\\_libs\\tslib.pyx:613\u001b[0m, in \u001b[0;36mpandas._libs.tslib.array_to_datetime\u001b[1;34m()\u001b[0m\n",
      "File \u001b[1;32mc:\\Users\\user\\AppData\\Local\\Programs\\Python\\Python310\\lib\\site-packages\\pandas\\_libs\\tslib.pyx:755\u001b[0m, in \u001b[0;36mpandas._libs.tslib._array_to_datetime_object\u001b[1;34m()\u001b[0m\n",
      "File \u001b[1;32mc:\\Users\\user\\AppData\\Local\\Programs\\Python\\Python310\\lib\\site-packages\\pandas\\_libs\\tslib.pyx:586\u001b[0m, in \u001b[0;36mpandas._libs.tslib.array_to_datetime\u001b[1;34m()\u001b[0m\n",
      "\u001b[1;31mTypeError\u001b[0m: <class 'datetime.time'> is not convertible to datetime"
     ]
    }
   ],
   "source": [
    "# convert ET to time:\n",
    "\n",
    "dfPerson['ET'] = pd.to_datetime(dfPerson['ET'])\n",
    "dfmerge['ET'] = pd.to_datetime(dfmerge['ET'])"
   ]
  },
  {
   "cell_type": "code",
   "execution_count": 107,
   "metadata": {},
   "outputs": [
    {
     "ename": "TypeError",
     "evalue": "<class 'datetime.time'> is not convertible to datetime",
     "output_type": "error",
     "traceback": [
      "\u001b[1;31m---------------------------------------------------------------------------\u001b[0m",
      "\u001b[1;31mTypeError\u001b[0m                                 Traceback (most recent call last)",
      "\u001b[1;32me:\\pythonProjects\\SATS-2.ipynb Cell 48\u001b[0m in \u001b[0;36m<cell line: 1>\u001b[1;34m()\u001b[0m\n\u001b[1;32m----> <a href='vscode-notebook-cell:/e%3A/pythonProjects/SATS-2.ipynb#X62sZmlsZQ%3D%3D?line=0'>1</a>\u001b[0m dfmerge[\u001b[39m'\u001b[39m\u001b[39mET\u001b[39m\u001b[39m'\u001b[39m] \u001b[39m=\u001b[39m pd\u001b[39m.\u001b[39;49mto_datetime(dfmerge[\u001b[39m'\u001b[39;49m\u001b[39mET\u001b[39;49m\u001b[39m'\u001b[39;49m])\n",
      "File \u001b[1;32mc:\\Users\\user\\AppData\\Local\\Programs\\Python\\Python310\\lib\\site-packages\\pandas\\core\\tools\\datetimes.py:1047\u001b[0m, in \u001b[0;36mto_datetime\u001b[1;34m(arg, errors, dayfirst, yearfirst, utc, format, exact, unit, infer_datetime_format, origin, cache)\u001b[0m\n\u001b[0;32m   1045\u001b[0m             result \u001b[39m=\u001b[39m arg\u001b[39m.\u001b[39mtz_localize(tz)\n\u001b[0;32m   1046\u001b[0m \u001b[39melif\u001b[39;00m \u001b[39misinstance\u001b[39m(arg, ABCSeries):\n\u001b[1;32m-> 1047\u001b[0m     cache_array \u001b[39m=\u001b[39m _maybe_cache(arg, \u001b[39mformat\u001b[39;49m, cache, convert_listlike)\n\u001b[0;32m   1048\u001b[0m     \u001b[39mif\u001b[39;00m \u001b[39mnot\u001b[39;00m cache_array\u001b[39m.\u001b[39mempty:\n\u001b[0;32m   1049\u001b[0m         result \u001b[39m=\u001b[39m arg\u001b[39m.\u001b[39mmap(cache_array)\n",
      "File \u001b[1;32mc:\\Users\\user\\AppData\\Local\\Programs\\Python\\Python310\\lib\\site-packages\\pandas\\core\\tools\\datetimes.py:197\u001b[0m, in \u001b[0;36m_maybe_cache\u001b[1;34m(arg, format, cache, convert_listlike)\u001b[0m\n\u001b[0;32m    195\u001b[0m unique_dates \u001b[39m=\u001b[39m unique(arg)\n\u001b[0;32m    196\u001b[0m \u001b[39mif\u001b[39;00m \u001b[39mlen\u001b[39m(unique_dates) \u001b[39m<\u001b[39m \u001b[39mlen\u001b[39m(arg):\n\u001b[1;32m--> 197\u001b[0m     cache_dates \u001b[39m=\u001b[39m convert_listlike(unique_dates, \u001b[39mformat\u001b[39;49m)\n\u001b[0;32m    198\u001b[0m     cache_array \u001b[39m=\u001b[39m Series(cache_dates, index\u001b[39m=\u001b[39munique_dates)\n\u001b[0;32m    199\u001b[0m     \u001b[39m# GH#39882 and GH#35888 in case of None and NaT we get duplicates\u001b[39;00m\n",
      "File \u001b[1;32mc:\\Users\\user\\AppData\\Local\\Programs\\Python\\Python310\\lib\\site-packages\\pandas\\core\\tools\\datetimes.py:402\u001b[0m, in \u001b[0;36m_convert_listlike_datetimes\u001b[1;34m(arg, format, name, tz, unit, errors, infer_datetime_format, dayfirst, yearfirst, exact)\u001b[0m\n\u001b[0;32m    400\u001b[0m \u001b[39massert\u001b[39;00m \u001b[39mformat\u001b[39m \u001b[39mis\u001b[39;00m \u001b[39mNone\u001b[39;00m \u001b[39mor\u001b[39;00m infer_datetime_format\n\u001b[0;32m    401\u001b[0m utc \u001b[39m=\u001b[39m tz \u001b[39m==\u001b[39m \u001b[39m\"\u001b[39m\u001b[39mutc\u001b[39m\u001b[39m\"\u001b[39m\n\u001b[1;32m--> 402\u001b[0m result, tz_parsed \u001b[39m=\u001b[39m objects_to_datetime64ns(\n\u001b[0;32m    403\u001b[0m     arg,\n\u001b[0;32m    404\u001b[0m     dayfirst\u001b[39m=\u001b[39;49mdayfirst,\n\u001b[0;32m    405\u001b[0m     yearfirst\u001b[39m=\u001b[39;49myearfirst,\n\u001b[0;32m    406\u001b[0m     utc\u001b[39m=\u001b[39;49mutc,\n\u001b[0;32m    407\u001b[0m     errors\u001b[39m=\u001b[39;49merrors,\n\u001b[0;32m    408\u001b[0m     require_iso8601\u001b[39m=\u001b[39;49mrequire_iso8601,\n\u001b[0;32m    409\u001b[0m     allow_object\u001b[39m=\u001b[39;49m\u001b[39mTrue\u001b[39;49;00m,\n\u001b[0;32m    410\u001b[0m )\n\u001b[0;32m    412\u001b[0m \u001b[39mif\u001b[39;00m tz_parsed \u001b[39mis\u001b[39;00m \u001b[39mnot\u001b[39;00m \u001b[39mNone\u001b[39;00m:\n\u001b[0;32m    413\u001b[0m     \u001b[39m# We can take a shortcut since the datetime64 numpy array\u001b[39;00m\n\u001b[0;32m    414\u001b[0m     \u001b[39m# is in UTC\u001b[39;00m\n\u001b[0;32m    415\u001b[0m     dta \u001b[39m=\u001b[39m DatetimeArray(result, dtype\u001b[39m=\u001b[39mtz_to_dtype(tz_parsed))\n",
      "File \u001b[1;32mc:\\Users\\user\\AppData\\Local\\Programs\\Python\\Python310\\lib\\site-packages\\pandas\\core\\arrays\\datetimes.py:2224\u001b[0m, in \u001b[0;36mobjects_to_datetime64ns\u001b[1;34m(data, dayfirst, yearfirst, utc, errors, require_iso8601, allow_object, allow_mixed)\u001b[0m\n\u001b[0;32m   2222\u001b[0m order: Literal[\u001b[39m\"\u001b[39m\u001b[39mF\u001b[39m\u001b[39m\"\u001b[39m, \u001b[39m\"\u001b[39m\u001b[39mC\u001b[39m\u001b[39m\"\u001b[39m] \u001b[39m=\u001b[39m \u001b[39m\"\u001b[39m\u001b[39mF\u001b[39m\u001b[39m\"\u001b[39m \u001b[39mif\u001b[39;00m flags\u001b[39m.\u001b[39mf_contiguous \u001b[39melse\u001b[39;00m \u001b[39m\"\u001b[39m\u001b[39mC\u001b[39m\u001b[39m\"\u001b[39m\n\u001b[0;32m   2223\u001b[0m \u001b[39mtry\u001b[39;00m:\n\u001b[1;32m-> 2224\u001b[0m     result, tz_parsed \u001b[39m=\u001b[39m tslib\u001b[39m.\u001b[39;49marray_to_datetime(\n\u001b[0;32m   2225\u001b[0m         data\u001b[39m.\u001b[39;49mravel(\u001b[39m\"\u001b[39;49m\u001b[39mK\u001b[39;49m\u001b[39m\"\u001b[39;49m),\n\u001b[0;32m   2226\u001b[0m         errors\u001b[39m=\u001b[39;49merrors,\n\u001b[0;32m   2227\u001b[0m         utc\u001b[39m=\u001b[39;49mutc,\n\u001b[0;32m   2228\u001b[0m         dayfirst\u001b[39m=\u001b[39;49mdayfirst,\n\u001b[0;32m   2229\u001b[0m         yearfirst\u001b[39m=\u001b[39;49myearfirst,\n\u001b[0;32m   2230\u001b[0m         require_iso8601\u001b[39m=\u001b[39;49mrequire_iso8601,\n\u001b[0;32m   2231\u001b[0m         allow_mixed\u001b[39m=\u001b[39;49mallow_mixed,\n\u001b[0;32m   2232\u001b[0m     )\n\u001b[0;32m   2233\u001b[0m     result \u001b[39m=\u001b[39m result\u001b[39m.\u001b[39mreshape(data\u001b[39m.\u001b[39mshape, order\u001b[39m=\u001b[39morder)\n\u001b[0;32m   2234\u001b[0m \u001b[39mexcept\u001b[39;00m \u001b[39mValueError\u001b[39;00m \u001b[39mas\u001b[39;00m err:\n",
      "File \u001b[1;32mc:\\Users\\user\\AppData\\Local\\Programs\\Python\\Python310\\lib\\site-packages\\pandas\\_libs\\tslib.pyx:381\u001b[0m, in \u001b[0;36mpandas._libs.tslib.array_to_datetime\u001b[1;34m()\u001b[0m\n",
      "File \u001b[1;32mc:\\Users\\user\\AppData\\Local\\Programs\\Python\\Python310\\lib\\site-packages\\pandas\\_libs\\tslib.pyx:613\u001b[0m, in \u001b[0;36mpandas._libs.tslib.array_to_datetime\u001b[1;34m()\u001b[0m\n",
      "File \u001b[1;32mc:\\Users\\user\\AppData\\Local\\Programs\\Python\\Python310\\lib\\site-packages\\pandas\\_libs\\tslib.pyx:755\u001b[0m, in \u001b[0;36mpandas._libs.tslib._array_to_datetime_object\u001b[1;34m()\u001b[0m\n",
      "File \u001b[1;32mc:\\Users\\user\\AppData\\Local\\Programs\\Python\\Python310\\lib\\site-packages\\pandas\\_libs\\tslib.pyx:586\u001b[0m, in \u001b[0;36mpandas._libs.tslib.array_to_datetime\u001b[1;34m()\u001b[0m\n",
      "\u001b[1;31mTypeError\u001b[0m: <class 'datetime.time'> is not convertible to datetime"
     ]
    }
   ],
   "source": [
    "dfmerge['ET'] = pd.to_datetime(dfmerge['ET'])\n"
   ]
  },
  {
   "cell_type": "code",
   "execution_count": 108,
   "metadata": {},
   "outputs": [
    {
     "data": {
      "text/plain": [
       "flightNumber                 object\n",
       "Flight_date          datetime64[ns]\n",
       "trip_number                 float64\n",
       "container_no                 object\n",
       "Pick_up_Time         datetime64[ns]\n",
       "drop_off_Time        datetime64[ns]\n",
       "Pick_up_Time_New             object\n",
       "drop_off_Time_New            object\n",
       "Total Staff                 float64\n",
       "ET                           object\n",
       "dtype: object"
      ]
     },
     "execution_count": 108,
     "metadata": {},
     "output_type": "execute_result"
    }
   ],
   "source": [
    "dfmerge.dtypes"
   ]
  },
  {
   "cell_type": "code",
   "execution_count": 109,
   "metadata": {},
   "outputs": [],
   "source": [
    "#  for every flight on each date pick least value of Pick_up_Time_New:\n",
    "dfmerge=dfmerge.groupby(['flightNumber','Flight_date','Total Staff','ET']).agg({'Pick_up_Time_New': 'min'}).reset_index()"
   ]
  },
  {
   "cell_type": "code",
   "execution_count": 110,
   "metadata": {},
   "outputs": [
    {
     "data": {
      "text/plain": [
       "(1472, 5)"
      ]
     },
     "execution_count": 110,
     "metadata": {},
     "output_type": "execute_result"
    }
   ],
   "source": [
    "dfmerge.shape"
   ]
  },
  {
   "cell_type": "code",
   "execution_count": 246,
   "metadata": {},
   "outputs": [
    {
     "data": {
      "text/html": [
       "<div>\n",
       "<style scoped>\n",
       "    .dataframe tbody tr th:only-of-type {\n",
       "        vertical-align: middle;\n",
       "    }\n",
       "\n",
       "    .dataframe tbody tr th {\n",
       "        vertical-align: top;\n",
       "    }\n",
       "\n",
       "    .dataframe thead th {\n",
       "        text-align: right;\n",
       "    }\n",
       "</style>\n",
       "<table border=\"1\" class=\"dataframe\">\n",
       "  <thead>\n",
       "    <tr style=\"text-align: right;\">\n",
       "      <th></th>\n",
       "      <th>flightNumber</th>\n",
       "      <th>Flight_date</th>\n",
       "      <th>trip_number</th>\n",
       "      <th>container_no</th>\n",
       "      <th>Pick_up_Time</th>\n",
       "      <th>drop_off_Time</th>\n",
       "      <th>Pick_up_Time_New</th>\n",
       "      <th>Total Staff</th>\n",
       "      <th>ET</th>\n",
       "    </tr>\n",
       "  </thead>\n",
       "  <tbody>\n",
       "    <tr>\n",
       "      <th>0</th>\n",
       "      <td>SQ125</td>\n",
       "      <td>2023-01-01</td>\n",
       "      <td>4.0</td>\n",
       "      <td>AKE81973SQ</td>\n",
       "      <td>22:10</td>\n",
       "      <td>NaT</td>\n",
       "      <td>22:10:14</td>\n",
       "      <td>5.0</td>\n",
       "      <td>2023-03-24 21:44:00</td>\n",
       "    </tr>\n",
       "    <tr>\n",
       "      <th>1</th>\n",
       "      <td>SQ125</td>\n",
       "      <td>2023-01-01</td>\n",
       "      <td>4.0</td>\n",
       "      <td>AKE84372SQ</td>\n",
       "      <td>22:10</td>\n",
       "      <td>NaT</td>\n",
       "      <td>22:10:14</td>\n",
       "      <td>5.0</td>\n",
       "      <td>2023-03-24 21:44:00</td>\n",
       "    </tr>\n",
       "    <tr>\n",
       "      <th>2</th>\n",
       "      <td>SQ125</td>\n",
       "      <td>2023-01-01</td>\n",
       "      <td>3.0</td>\n",
       "      <td>AKE86025SQ</td>\n",
       "      <td>22:09</td>\n",
       "      <td>NaT</td>\n",
       "      <td>22:09:59</td>\n",
       "      <td>5.0</td>\n",
       "      <td>2023-03-24 21:44:00</td>\n",
       "    </tr>\n",
       "    <tr>\n",
       "      <th>3</th>\n",
       "      <td>SQ125</td>\n",
       "      <td>2023-01-01</td>\n",
       "      <td>2.0</td>\n",
       "      <td>AKE11725SQ</td>\n",
       "      <td>22:03</td>\n",
       "      <td>2023-01-01 22:07:44.313</td>\n",
       "      <td>22:03:23</td>\n",
       "      <td>5.0</td>\n",
       "      <td>2023-03-24 21:44:00</td>\n",
       "    </tr>\n",
       "    <tr>\n",
       "      <th>4</th>\n",
       "      <td>SQ125</td>\n",
       "      <td>2023-01-01</td>\n",
       "      <td>2.0</td>\n",
       "      <td>AKE84343SQ</td>\n",
       "      <td>22:03</td>\n",
       "      <td>2023-01-01 22:07:44.330</td>\n",
       "      <td>22:03:23</td>\n",
       "      <td>5.0</td>\n",
       "      <td>2023-03-24 21:44:00</td>\n",
       "    </tr>\n",
       "  </tbody>\n",
       "</table>\n",
       "</div>"
      ],
      "text/plain": [
       "  flightNumber Flight_date  trip_number container_no Pick_up_Time  \\\n",
       "0        SQ125  2023-01-01          4.0   AKE81973SQ        22:10   \n",
       "1        SQ125  2023-01-01          4.0   AKE84372SQ        22:10   \n",
       "2        SQ125  2023-01-01          3.0   AKE86025SQ        22:09   \n",
       "3        SQ125  2023-01-01          2.0   AKE11725SQ        22:03   \n",
       "4        SQ125  2023-01-01          2.0   AKE84343SQ        22:03   \n",
       "\n",
       "            drop_off_Time Pick_up_Time_New  Total Staff                  ET  \n",
       "0                     NaT         22:10:14          5.0 2023-03-24 21:44:00  \n",
       "1                     NaT         22:10:14          5.0 2023-03-24 21:44:00  \n",
       "2                     NaT         22:09:59          5.0 2023-03-24 21:44:00  \n",
       "3 2023-01-01 22:07:44.313         22:03:23          5.0 2023-03-24 21:44:00  \n",
       "4 2023-01-01 22:07:44.330         22:03:23          5.0 2023-03-24 21:44:00  "
      ]
     },
     "execution_count": 246,
     "metadata": {},
     "output_type": "execute_result"
    }
   ],
   "source": [
    "dfmerge.head()"
   ]
  },
  {
   "cell_type": "code",
   "execution_count": 247,
   "metadata": {},
   "outputs": [],
   "source": [
    "dfmerge['Pick_up_Time'] = pd.to_datetime(dfmerge['Pick_up_Time']).dt.strftime('%H:%M:%S')"
   ]
  },
  {
   "cell_type": "code",
   "execution_count": 249,
   "metadata": {},
   "outputs": [
    {
     "data": {
      "text/html": [
       "<div>\n",
       "<style scoped>\n",
       "    .dataframe tbody tr th:only-of-type {\n",
       "        vertical-align: middle;\n",
       "    }\n",
       "\n",
       "    .dataframe tbody tr th {\n",
       "        vertical-align: top;\n",
       "    }\n",
       "\n",
       "    .dataframe thead th {\n",
       "        text-align: right;\n",
       "    }\n",
       "</style>\n",
       "<table border=\"1\" class=\"dataframe\">\n",
       "  <thead>\n",
       "    <tr style=\"text-align: right;\">\n",
       "      <th></th>\n",
       "      <th>flightNumber</th>\n",
       "      <th>Flight_date</th>\n",
       "      <th>trip_number</th>\n",
       "      <th>container_no</th>\n",
       "      <th>Pick_up_Time</th>\n",
       "      <th>drop_off_Time</th>\n",
       "      <th>Pick_up_Time_New</th>\n",
       "      <th>Total Staff</th>\n",
       "      <th>ET</th>\n",
       "    </tr>\n",
       "  </thead>\n",
       "  <tbody>\n",
       "    <tr>\n",
       "      <th>0</th>\n",
       "      <td>SQ125</td>\n",
       "      <td>2023-01-01</td>\n",
       "      <td>4.0</td>\n",
       "      <td>AKE81973SQ</td>\n",
       "      <td>22:10:00</td>\n",
       "      <td>NaT</td>\n",
       "      <td>22:10:14</td>\n",
       "      <td>5.0</td>\n",
       "      <td>2023-03-24 21:44:00</td>\n",
       "    </tr>\n",
       "    <tr>\n",
       "      <th>1</th>\n",
       "      <td>SQ125</td>\n",
       "      <td>2023-01-01</td>\n",
       "      <td>4.0</td>\n",
       "      <td>AKE84372SQ</td>\n",
       "      <td>22:10:00</td>\n",
       "      <td>NaT</td>\n",
       "      <td>22:10:14</td>\n",
       "      <td>5.0</td>\n",
       "      <td>2023-03-24 21:44:00</td>\n",
       "    </tr>\n",
       "    <tr>\n",
       "      <th>2</th>\n",
       "      <td>SQ125</td>\n",
       "      <td>2023-01-01</td>\n",
       "      <td>3.0</td>\n",
       "      <td>AKE86025SQ</td>\n",
       "      <td>22:09:00</td>\n",
       "      <td>NaT</td>\n",
       "      <td>22:09:59</td>\n",
       "      <td>5.0</td>\n",
       "      <td>2023-03-24 21:44:00</td>\n",
       "    </tr>\n",
       "    <tr>\n",
       "      <th>3</th>\n",
       "      <td>SQ125</td>\n",
       "      <td>2023-01-01</td>\n",
       "      <td>2.0</td>\n",
       "      <td>AKE11725SQ</td>\n",
       "      <td>22:03:00</td>\n",
       "      <td>2023-01-01 22:07:44.313</td>\n",
       "      <td>22:03:23</td>\n",
       "      <td>5.0</td>\n",
       "      <td>2023-03-24 21:44:00</td>\n",
       "    </tr>\n",
       "    <tr>\n",
       "      <th>4</th>\n",
       "      <td>SQ125</td>\n",
       "      <td>2023-01-01</td>\n",
       "      <td>2.0</td>\n",
       "      <td>AKE84343SQ</td>\n",
       "      <td>22:03:00</td>\n",
       "      <td>2023-01-01 22:07:44.330</td>\n",
       "      <td>22:03:23</td>\n",
       "      <td>5.0</td>\n",
       "      <td>2023-03-24 21:44:00</td>\n",
       "    </tr>\n",
       "  </tbody>\n",
       "</table>\n",
       "</div>"
      ],
      "text/plain": [
       "  flightNumber Flight_date  trip_number container_no Pick_up_Time  \\\n",
       "0        SQ125  2023-01-01          4.0   AKE81973SQ     22:10:00   \n",
       "1        SQ125  2023-01-01          4.0   AKE84372SQ     22:10:00   \n",
       "2        SQ125  2023-01-01          3.0   AKE86025SQ     22:09:00   \n",
       "3        SQ125  2023-01-01          2.0   AKE11725SQ     22:03:00   \n",
       "4        SQ125  2023-01-01          2.0   AKE84343SQ     22:03:00   \n",
       "\n",
       "            drop_off_Time Pick_up_Time_New  Total Staff                  ET  \n",
       "0                     NaT         22:10:14          5.0 2023-03-24 21:44:00  \n",
       "1                     NaT         22:10:14          5.0 2023-03-24 21:44:00  \n",
       "2                     NaT         22:09:59          5.0 2023-03-24 21:44:00  \n",
       "3 2023-01-01 22:07:44.313         22:03:23          5.0 2023-03-24 21:44:00  \n",
       "4 2023-01-01 22:07:44.330         22:03:23          5.0 2023-03-24 21:44:00  "
      ]
     },
     "execution_count": 249,
     "metadata": {},
     "output_type": "execute_result"
    }
   ],
   "source": [
    "dfmerge.head()"
   ]
  },
  {
   "cell_type": "code",
   "execution_count": 250,
   "metadata": {},
   "outputs": [],
   "source": [
    "dfmerge['Pick_up_Time']=pd.to_datetime(dfmerge['Pick_up_Time'])"
   ]
  },
  {
   "cell_type": "code",
   "execution_count": 251,
   "metadata": {},
   "outputs": [
    {
     "data": {
      "text/html": [
       "<div>\n",
       "<style scoped>\n",
       "    .dataframe tbody tr th:only-of-type {\n",
       "        vertical-align: middle;\n",
       "    }\n",
       "\n",
       "    .dataframe tbody tr th {\n",
       "        vertical-align: top;\n",
       "    }\n",
       "\n",
       "    .dataframe thead th {\n",
       "        text-align: right;\n",
       "    }\n",
       "</style>\n",
       "<table border=\"1\" class=\"dataframe\">\n",
       "  <thead>\n",
       "    <tr style=\"text-align: right;\">\n",
       "      <th></th>\n",
       "      <th>flightNumber</th>\n",
       "      <th>Flight_date</th>\n",
       "      <th>trip_number</th>\n",
       "      <th>container_no</th>\n",
       "      <th>Pick_up_Time</th>\n",
       "      <th>drop_off_Time</th>\n",
       "      <th>Pick_up_Time_New</th>\n",
       "      <th>Total Staff</th>\n",
       "      <th>ET</th>\n",
       "    </tr>\n",
       "  </thead>\n",
       "  <tbody>\n",
       "    <tr>\n",
       "      <th>0</th>\n",
       "      <td>SQ125</td>\n",
       "      <td>2023-01-01</td>\n",
       "      <td>4.0</td>\n",
       "      <td>AKE81973SQ</td>\n",
       "      <td>2023-03-24 22:10:00</td>\n",
       "      <td>NaT</td>\n",
       "      <td>22:10:14</td>\n",
       "      <td>5.0</td>\n",
       "      <td>2023-03-24 21:44:00</td>\n",
       "    </tr>\n",
       "    <tr>\n",
       "      <th>1</th>\n",
       "      <td>SQ125</td>\n",
       "      <td>2023-01-01</td>\n",
       "      <td>4.0</td>\n",
       "      <td>AKE84372SQ</td>\n",
       "      <td>2023-03-24 22:10:00</td>\n",
       "      <td>NaT</td>\n",
       "      <td>22:10:14</td>\n",
       "      <td>5.0</td>\n",
       "      <td>2023-03-24 21:44:00</td>\n",
       "    </tr>\n",
       "    <tr>\n",
       "      <th>2</th>\n",
       "      <td>SQ125</td>\n",
       "      <td>2023-01-01</td>\n",
       "      <td>3.0</td>\n",
       "      <td>AKE86025SQ</td>\n",
       "      <td>2023-03-24 22:09:00</td>\n",
       "      <td>NaT</td>\n",
       "      <td>22:09:59</td>\n",
       "      <td>5.0</td>\n",
       "      <td>2023-03-24 21:44:00</td>\n",
       "    </tr>\n",
       "    <tr>\n",
       "      <th>3</th>\n",
       "      <td>SQ125</td>\n",
       "      <td>2023-01-01</td>\n",
       "      <td>2.0</td>\n",
       "      <td>AKE11725SQ</td>\n",
       "      <td>2023-03-24 22:03:00</td>\n",
       "      <td>2023-01-01 22:07:44.313</td>\n",
       "      <td>22:03:23</td>\n",
       "      <td>5.0</td>\n",
       "      <td>2023-03-24 21:44:00</td>\n",
       "    </tr>\n",
       "    <tr>\n",
       "      <th>4</th>\n",
       "      <td>SQ125</td>\n",
       "      <td>2023-01-01</td>\n",
       "      <td>2.0</td>\n",
       "      <td>AKE84343SQ</td>\n",
       "      <td>2023-03-24 22:03:00</td>\n",
       "      <td>2023-01-01 22:07:44.330</td>\n",
       "      <td>22:03:23</td>\n",
       "      <td>5.0</td>\n",
       "      <td>2023-03-24 21:44:00</td>\n",
       "    </tr>\n",
       "  </tbody>\n",
       "</table>\n",
       "</div>"
      ],
      "text/plain": [
       "  flightNumber Flight_date  trip_number container_no        Pick_up_Time  \\\n",
       "0        SQ125  2023-01-01          4.0   AKE81973SQ 2023-03-24 22:10:00   \n",
       "1        SQ125  2023-01-01          4.0   AKE84372SQ 2023-03-24 22:10:00   \n",
       "2        SQ125  2023-01-01          3.0   AKE86025SQ 2023-03-24 22:09:00   \n",
       "3        SQ125  2023-01-01          2.0   AKE11725SQ 2023-03-24 22:03:00   \n",
       "4        SQ125  2023-01-01          2.0   AKE84343SQ 2023-03-24 22:03:00   \n",
       "\n",
       "            drop_off_Time Pick_up_Time_New  Total Staff                  ET  \n",
       "0                     NaT         22:10:14          5.0 2023-03-24 21:44:00  \n",
       "1                     NaT         22:10:14          5.0 2023-03-24 21:44:00  \n",
       "2                     NaT         22:09:59          5.0 2023-03-24 21:44:00  \n",
       "3 2023-01-01 22:07:44.313         22:03:23          5.0 2023-03-24 21:44:00  \n",
       "4 2023-01-01 22:07:44.330         22:03:23          5.0 2023-03-24 21:44:00  "
      ]
     },
     "execution_count": 251,
     "metadata": {},
     "output_type": "execute_result"
    }
   ],
   "source": [
    "dfmerge.head()"
   ]
  },
  {
   "cell_type": "code",
   "execution_count": 113,
   "metadata": {},
   "outputs": [],
   "source": [
    "dfmerge['Pick_up_Time_New'] = pd.to_datetime(dfmerge['Pick_up_Time_New'])"
   ]
  },
  {
   "cell_type": "code",
   "execution_count": 114,
   "metadata": {},
   "outputs": [
    {
     "ename": "TypeError",
     "evalue": "<class 'datetime.time'> is not convertible to datetime",
     "output_type": "error",
     "traceback": [
      "\u001b[1;31m---------------------------------------------------------------------------\u001b[0m",
      "\u001b[1;31mTypeError\u001b[0m                                 Traceback (most recent call last)",
      "\u001b[1;32me:\\pythonProjects\\SATS-2.ipynb Cell 55\u001b[0m in \u001b[0;36m<cell line: 1>\u001b[1;34m()\u001b[0m\n\u001b[1;32m----> <a href='vscode-notebook-cell:/e%3A/pythonProjects/SATS-2.ipynb#Y100sZmlsZQ%3D%3D?line=0'>1</a>\u001b[0m dfmerge[\u001b[39m'\u001b[39m\u001b[39mET\u001b[39m\u001b[39m'\u001b[39m] \u001b[39m=\u001b[39m pd\u001b[39m.\u001b[39;49mto_datetime(dfmerge[\u001b[39m'\u001b[39;49m\u001b[39mET\u001b[39;49m\u001b[39m'\u001b[39;49m])\n",
      "File \u001b[1;32mc:\\Users\\user\\AppData\\Local\\Programs\\Python\\Python310\\lib\\site-packages\\pandas\\core\\tools\\datetimes.py:1051\u001b[0m, in \u001b[0;36mto_datetime\u001b[1;34m(arg, errors, dayfirst, yearfirst, utc, format, exact, unit, infer_datetime_format, origin, cache)\u001b[0m\n\u001b[0;32m   1049\u001b[0m         result \u001b[39m=\u001b[39m arg\u001b[39m.\u001b[39mmap(cache_array)\n\u001b[0;32m   1050\u001b[0m     \u001b[39melse\u001b[39;00m:\n\u001b[1;32m-> 1051\u001b[0m         values \u001b[39m=\u001b[39m convert_listlike(arg\u001b[39m.\u001b[39;49m_values, \u001b[39mformat\u001b[39;49m)\n\u001b[0;32m   1052\u001b[0m         result \u001b[39m=\u001b[39m arg\u001b[39m.\u001b[39m_constructor(values, index\u001b[39m=\u001b[39marg\u001b[39m.\u001b[39mindex, name\u001b[39m=\u001b[39marg\u001b[39m.\u001b[39mname)\n\u001b[0;32m   1053\u001b[0m \u001b[39melif\u001b[39;00m \u001b[39misinstance\u001b[39m(arg, (ABCDataFrame, abc\u001b[39m.\u001b[39mMutableMapping)):\n",
      "File \u001b[1;32mc:\\Users\\user\\AppData\\Local\\Programs\\Python\\Python310\\lib\\site-packages\\pandas\\core\\tools\\datetimes.py:402\u001b[0m, in \u001b[0;36m_convert_listlike_datetimes\u001b[1;34m(arg, format, name, tz, unit, errors, infer_datetime_format, dayfirst, yearfirst, exact)\u001b[0m\n\u001b[0;32m    400\u001b[0m \u001b[39massert\u001b[39;00m \u001b[39mformat\u001b[39m \u001b[39mis\u001b[39;00m \u001b[39mNone\u001b[39;00m \u001b[39mor\u001b[39;00m infer_datetime_format\n\u001b[0;32m    401\u001b[0m utc \u001b[39m=\u001b[39m tz \u001b[39m==\u001b[39m \u001b[39m\"\u001b[39m\u001b[39mutc\u001b[39m\u001b[39m\"\u001b[39m\n\u001b[1;32m--> 402\u001b[0m result, tz_parsed \u001b[39m=\u001b[39m objects_to_datetime64ns(\n\u001b[0;32m    403\u001b[0m     arg,\n\u001b[0;32m    404\u001b[0m     dayfirst\u001b[39m=\u001b[39;49mdayfirst,\n\u001b[0;32m    405\u001b[0m     yearfirst\u001b[39m=\u001b[39;49myearfirst,\n\u001b[0;32m    406\u001b[0m     utc\u001b[39m=\u001b[39;49mutc,\n\u001b[0;32m    407\u001b[0m     errors\u001b[39m=\u001b[39;49merrors,\n\u001b[0;32m    408\u001b[0m     require_iso8601\u001b[39m=\u001b[39;49mrequire_iso8601,\n\u001b[0;32m    409\u001b[0m     allow_object\u001b[39m=\u001b[39;49m\u001b[39mTrue\u001b[39;49;00m,\n\u001b[0;32m    410\u001b[0m )\n\u001b[0;32m    412\u001b[0m \u001b[39mif\u001b[39;00m tz_parsed \u001b[39mis\u001b[39;00m \u001b[39mnot\u001b[39;00m \u001b[39mNone\u001b[39;00m:\n\u001b[0;32m    413\u001b[0m     \u001b[39m# We can take a shortcut since the datetime64 numpy array\u001b[39;00m\n\u001b[0;32m    414\u001b[0m     \u001b[39m# is in UTC\u001b[39;00m\n\u001b[0;32m    415\u001b[0m     dta \u001b[39m=\u001b[39m DatetimeArray(result, dtype\u001b[39m=\u001b[39mtz_to_dtype(tz_parsed))\n",
      "File \u001b[1;32mc:\\Users\\user\\AppData\\Local\\Programs\\Python\\Python310\\lib\\site-packages\\pandas\\core\\arrays\\datetimes.py:2224\u001b[0m, in \u001b[0;36mobjects_to_datetime64ns\u001b[1;34m(data, dayfirst, yearfirst, utc, errors, require_iso8601, allow_object, allow_mixed)\u001b[0m\n\u001b[0;32m   2222\u001b[0m order: Literal[\u001b[39m\"\u001b[39m\u001b[39mF\u001b[39m\u001b[39m\"\u001b[39m, \u001b[39m\"\u001b[39m\u001b[39mC\u001b[39m\u001b[39m\"\u001b[39m] \u001b[39m=\u001b[39m \u001b[39m\"\u001b[39m\u001b[39mF\u001b[39m\u001b[39m\"\u001b[39m \u001b[39mif\u001b[39;00m flags\u001b[39m.\u001b[39mf_contiguous \u001b[39melse\u001b[39;00m \u001b[39m\"\u001b[39m\u001b[39mC\u001b[39m\u001b[39m\"\u001b[39m\n\u001b[0;32m   2223\u001b[0m \u001b[39mtry\u001b[39;00m:\n\u001b[1;32m-> 2224\u001b[0m     result, tz_parsed \u001b[39m=\u001b[39m tslib\u001b[39m.\u001b[39;49marray_to_datetime(\n\u001b[0;32m   2225\u001b[0m         data\u001b[39m.\u001b[39;49mravel(\u001b[39m\"\u001b[39;49m\u001b[39mK\u001b[39;49m\u001b[39m\"\u001b[39;49m),\n\u001b[0;32m   2226\u001b[0m         errors\u001b[39m=\u001b[39;49merrors,\n\u001b[0;32m   2227\u001b[0m         utc\u001b[39m=\u001b[39;49mutc,\n\u001b[0;32m   2228\u001b[0m         dayfirst\u001b[39m=\u001b[39;49mdayfirst,\n\u001b[0;32m   2229\u001b[0m         yearfirst\u001b[39m=\u001b[39;49myearfirst,\n\u001b[0;32m   2230\u001b[0m         require_iso8601\u001b[39m=\u001b[39;49mrequire_iso8601,\n\u001b[0;32m   2231\u001b[0m         allow_mixed\u001b[39m=\u001b[39;49mallow_mixed,\n\u001b[0;32m   2232\u001b[0m     )\n\u001b[0;32m   2233\u001b[0m     result \u001b[39m=\u001b[39m result\u001b[39m.\u001b[39mreshape(data\u001b[39m.\u001b[39mshape, order\u001b[39m=\u001b[39morder)\n\u001b[0;32m   2234\u001b[0m \u001b[39mexcept\u001b[39;00m \u001b[39mValueError\u001b[39;00m \u001b[39mas\u001b[39;00m err:\n",
      "File \u001b[1;32mc:\\Users\\user\\AppData\\Local\\Programs\\Python\\Python310\\lib\\site-packages\\pandas\\_libs\\tslib.pyx:381\u001b[0m, in \u001b[0;36mpandas._libs.tslib.array_to_datetime\u001b[1;34m()\u001b[0m\n",
      "File \u001b[1;32mc:\\Users\\user\\AppData\\Local\\Programs\\Python\\Python310\\lib\\site-packages\\pandas\\_libs\\tslib.pyx:613\u001b[0m, in \u001b[0;36mpandas._libs.tslib.array_to_datetime\u001b[1;34m()\u001b[0m\n",
      "File \u001b[1;32mc:\\Users\\user\\AppData\\Local\\Programs\\Python\\Python310\\lib\\site-packages\\pandas\\_libs\\tslib.pyx:755\u001b[0m, in \u001b[0;36mpandas._libs.tslib._array_to_datetime_object\u001b[1;34m()\u001b[0m\n",
      "File \u001b[1;32mc:\\Users\\user\\AppData\\Local\\Programs\\Python\\Python310\\lib\\site-packages\\pandas\\_libs\\tslib.pyx:586\u001b[0m, in \u001b[0;36mpandas._libs.tslib.array_to_datetime\u001b[1;34m()\u001b[0m\n",
      "\u001b[1;31mTypeError\u001b[0m: <class 'datetime.time'> is not convertible to datetime"
     ]
    }
   ],
   "source": [
    "dfmerge['ET'] = pd.to_datetime(dfmerge['ET'])"
   ]
  },
  {
   "cell_type": "code",
   "execution_count": 48,
   "metadata": {},
   "outputs": [
    {
     "data": {
      "text/plain": [
       "flightNumber                object\n",
       "Flight_date         datetime64[ns]\n",
       "Total Staff                float64\n",
       "ET                          object\n",
       "Pick_up_Time_New    datetime64[ns]\n",
       "dtype: object"
      ]
     },
     "execution_count": 48,
     "metadata": {},
     "output_type": "execute_result"
    }
   ],
   "source": [
    "dfmerge.dtypes"
   ]
  },
  {
   "cell_type": "code",
   "execution_count": 115,
   "metadata": {},
   "outputs": [],
   "source": [
    "dfmerge['Pick_up_Time_New'] = dfmerge['Pick_up_Time_New'].dt.time"
   ]
  },
  {
   "cell_type": "code",
   "execution_count": 117,
   "metadata": {},
   "outputs": [
    {
     "ename": "TypeError",
     "evalue": "<class 'datetime.time'> is not convertible to datetime",
     "output_type": "error",
     "traceback": [
      "\u001b[1;31m---------------------------------------------------------------------------\u001b[0m",
      "\u001b[1;31mTypeError\u001b[0m                                 Traceback (most recent call last)",
      "\u001b[1;32me:\\pythonProjects\\SATS-2.ipynb Cell 58\u001b[0m in \u001b[0;36m<cell line: 1>\u001b[1;34m()\u001b[0m\n\u001b[1;32m----> <a href='vscode-notebook-cell:/e%3A/pythonProjects/SATS-2.ipynb#Y102sZmlsZQ%3D%3D?line=0'>1</a>\u001b[0m dfmerge[\u001b[39m'\u001b[39m\u001b[39mET\u001b[39m\u001b[39m'\u001b[39m]\u001b[39m=\u001b[39mpd\u001b[39m.\u001b[39;49mto_datetime(dfmerge[\u001b[39m'\u001b[39;49m\u001b[39mET\u001b[39;49m\u001b[39m'\u001b[39;49m])\u001b[39m.\u001b[39mdt\u001b[39m.\u001b[39mstrftime(\u001b[39m'\u001b[39m\u001b[39m%\u001b[39m\u001b[39mH:\u001b[39m\u001b[39m%\u001b[39m\u001b[39mM\u001b[39m\u001b[39m'\u001b[39m)\n",
      "File \u001b[1;32mc:\\Users\\user\\AppData\\Local\\Programs\\Python\\Python310\\lib\\site-packages\\pandas\\core\\tools\\datetimes.py:1051\u001b[0m, in \u001b[0;36mto_datetime\u001b[1;34m(arg, errors, dayfirst, yearfirst, utc, format, exact, unit, infer_datetime_format, origin, cache)\u001b[0m\n\u001b[0;32m   1049\u001b[0m         result \u001b[39m=\u001b[39m arg\u001b[39m.\u001b[39mmap(cache_array)\n\u001b[0;32m   1050\u001b[0m     \u001b[39melse\u001b[39;00m:\n\u001b[1;32m-> 1051\u001b[0m         values \u001b[39m=\u001b[39m convert_listlike(arg\u001b[39m.\u001b[39;49m_values, \u001b[39mformat\u001b[39;49m)\n\u001b[0;32m   1052\u001b[0m         result \u001b[39m=\u001b[39m arg\u001b[39m.\u001b[39m_constructor(values, index\u001b[39m=\u001b[39marg\u001b[39m.\u001b[39mindex, name\u001b[39m=\u001b[39marg\u001b[39m.\u001b[39mname)\n\u001b[0;32m   1053\u001b[0m \u001b[39melif\u001b[39;00m \u001b[39misinstance\u001b[39m(arg, (ABCDataFrame, abc\u001b[39m.\u001b[39mMutableMapping)):\n",
      "File \u001b[1;32mc:\\Users\\user\\AppData\\Local\\Programs\\Python\\Python310\\lib\\site-packages\\pandas\\core\\tools\\datetimes.py:402\u001b[0m, in \u001b[0;36m_convert_listlike_datetimes\u001b[1;34m(arg, format, name, tz, unit, errors, infer_datetime_format, dayfirst, yearfirst, exact)\u001b[0m\n\u001b[0;32m    400\u001b[0m \u001b[39massert\u001b[39;00m \u001b[39mformat\u001b[39m \u001b[39mis\u001b[39;00m \u001b[39mNone\u001b[39;00m \u001b[39mor\u001b[39;00m infer_datetime_format\n\u001b[0;32m    401\u001b[0m utc \u001b[39m=\u001b[39m tz \u001b[39m==\u001b[39m \u001b[39m\"\u001b[39m\u001b[39mutc\u001b[39m\u001b[39m\"\u001b[39m\n\u001b[1;32m--> 402\u001b[0m result, tz_parsed \u001b[39m=\u001b[39m objects_to_datetime64ns(\n\u001b[0;32m    403\u001b[0m     arg,\n\u001b[0;32m    404\u001b[0m     dayfirst\u001b[39m=\u001b[39;49mdayfirst,\n\u001b[0;32m    405\u001b[0m     yearfirst\u001b[39m=\u001b[39;49myearfirst,\n\u001b[0;32m    406\u001b[0m     utc\u001b[39m=\u001b[39;49mutc,\n\u001b[0;32m    407\u001b[0m     errors\u001b[39m=\u001b[39;49merrors,\n\u001b[0;32m    408\u001b[0m     require_iso8601\u001b[39m=\u001b[39;49mrequire_iso8601,\n\u001b[0;32m    409\u001b[0m     allow_object\u001b[39m=\u001b[39;49m\u001b[39mTrue\u001b[39;49;00m,\n\u001b[0;32m    410\u001b[0m )\n\u001b[0;32m    412\u001b[0m \u001b[39mif\u001b[39;00m tz_parsed \u001b[39mis\u001b[39;00m \u001b[39mnot\u001b[39;00m \u001b[39mNone\u001b[39;00m:\n\u001b[0;32m    413\u001b[0m     \u001b[39m# We can take a shortcut since the datetime64 numpy array\u001b[39;00m\n\u001b[0;32m    414\u001b[0m     \u001b[39m# is in UTC\u001b[39;00m\n\u001b[0;32m    415\u001b[0m     dta \u001b[39m=\u001b[39m DatetimeArray(result, dtype\u001b[39m=\u001b[39mtz_to_dtype(tz_parsed))\n",
      "File \u001b[1;32mc:\\Users\\user\\AppData\\Local\\Programs\\Python\\Python310\\lib\\site-packages\\pandas\\core\\arrays\\datetimes.py:2224\u001b[0m, in \u001b[0;36mobjects_to_datetime64ns\u001b[1;34m(data, dayfirst, yearfirst, utc, errors, require_iso8601, allow_object, allow_mixed)\u001b[0m\n\u001b[0;32m   2222\u001b[0m order: Literal[\u001b[39m\"\u001b[39m\u001b[39mF\u001b[39m\u001b[39m\"\u001b[39m, \u001b[39m\"\u001b[39m\u001b[39mC\u001b[39m\u001b[39m\"\u001b[39m] \u001b[39m=\u001b[39m \u001b[39m\"\u001b[39m\u001b[39mF\u001b[39m\u001b[39m\"\u001b[39m \u001b[39mif\u001b[39;00m flags\u001b[39m.\u001b[39mf_contiguous \u001b[39melse\u001b[39;00m \u001b[39m\"\u001b[39m\u001b[39mC\u001b[39m\u001b[39m\"\u001b[39m\n\u001b[0;32m   2223\u001b[0m \u001b[39mtry\u001b[39;00m:\n\u001b[1;32m-> 2224\u001b[0m     result, tz_parsed \u001b[39m=\u001b[39m tslib\u001b[39m.\u001b[39;49marray_to_datetime(\n\u001b[0;32m   2225\u001b[0m         data\u001b[39m.\u001b[39;49mravel(\u001b[39m\"\u001b[39;49m\u001b[39mK\u001b[39;49m\u001b[39m\"\u001b[39;49m),\n\u001b[0;32m   2226\u001b[0m         errors\u001b[39m=\u001b[39;49merrors,\n\u001b[0;32m   2227\u001b[0m         utc\u001b[39m=\u001b[39;49mutc,\n\u001b[0;32m   2228\u001b[0m         dayfirst\u001b[39m=\u001b[39;49mdayfirst,\n\u001b[0;32m   2229\u001b[0m         yearfirst\u001b[39m=\u001b[39;49myearfirst,\n\u001b[0;32m   2230\u001b[0m         require_iso8601\u001b[39m=\u001b[39;49mrequire_iso8601,\n\u001b[0;32m   2231\u001b[0m         allow_mixed\u001b[39m=\u001b[39;49mallow_mixed,\n\u001b[0;32m   2232\u001b[0m     )\n\u001b[0;32m   2233\u001b[0m     result \u001b[39m=\u001b[39m result\u001b[39m.\u001b[39mreshape(data\u001b[39m.\u001b[39mshape, order\u001b[39m=\u001b[39morder)\n\u001b[0;32m   2234\u001b[0m \u001b[39mexcept\u001b[39;00m \u001b[39mValueError\u001b[39;00m \u001b[39mas\u001b[39;00m err:\n",
      "File \u001b[1;32mc:\\Users\\user\\AppData\\Local\\Programs\\Python\\Python310\\lib\\site-packages\\pandas\\_libs\\tslib.pyx:381\u001b[0m, in \u001b[0;36mpandas._libs.tslib.array_to_datetime\u001b[1;34m()\u001b[0m\n",
      "File \u001b[1;32mc:\\Users\\user\\AppData\\Local\\Programs\\Python\\Python310\\lib\\site-packages\\pandas\\_libs\\tslib.pyx:613\u001b[0m, in \u001b[0;36mpandas._libs.tslib.array_to_datetime\u001b[1;34m()\u001b[0m\n",
      "File \u001b[1;32mc:\\Users\\user\\AppData\\Local\\Programs\\Python\\Python310\\lib\\site-packages\\pandas\\_libs\\tslib.pyx:755\u001b[0m, in \u001b[0;36mpandas._libs.tslib._array_to_datetime_object\u001b[1;34m()\u001b[0m\n",
      "File \u001b[1;32mc:\\Users\\user\\AppData\\Local\\Programs\\Python\\Python310\\lib\\site-packages\\pandas\\_libs\\tslib.pyx:586\u001b[0m, in \u001b[0;36mpandas._libs.tslib.array_to_datetime\u001b[1;34m()\u001b[0m\n",
      "\u001b[1;31mTypeError\u001b[0m: <class 'datetime.time'> is not convertible to datetime"
     ]
    }
   ],
   "source": [
    "dfmerge['ET']=pd.to_datetime(dfmerge['ET']).dt.strftime('%H:%M')"
   ]
  },
  {
   "cell_type": "code",
   "execution_count": null,
   "metadata": {},
   "outputs": [],
   "source": [
    "# convert Pick_up_Time_New to"
   ]
  },
  {
   "cell_type": "code",
   "execution_count": 242,
   "metadata": {},
   "outputs": [
    {
     "data": {
      "text/html": [
       "<div>\n",
       "<style scoped>\n",
       "    .dataframe tbody tr th:only-of-type {\n",
       "        vertical-align: middle;\n",
       "    }\n",
       "\n",
       "    .dataframe tbody tr th {\n",
       "        vertical-align: top;\n",
       "    }\n",
       "\n",
       "    .dataframe thead th {\n",
       "        text-align: right;\n",
       "    }\n",
       "</style>\n",
       "<table border=\"1\" class=\"dataframe\">\n",
       "  <thead>\n",
       "    <tr style=\"text-align: right;\">\n",
       "      <th></th>\n",
       "      <th>flightNumber</th>\n",
       "      <th>Flight_date</th>\n",
       "      <th>trip_number</th>\n",
       "      <th>container_no</th>\n",
       "      <th>Pick_up_Time</th>\n",
       "      <th>drop_off_Time</th>\n",
       "      <th>Pick_up_Time_New</th>\n",
       "      <th>Total Staff</th>\n",
       "      <th>ET</th>\n",
       "    </tr>\n",
       "  </thead>\n",
       "  <tbody>\n",
       "    <tr>\n",
       "      <th>0</th>\n",
       "      <td>SQ125</td>\n",
       "      <td>2023-01-01</td>\n",
       "      <td>4.0</td>\n",
       "      <td>AKE81973SQ</td>\n",
       "      <td>2023-01-01 22:10:14.753</td>\n",
       "      <td>NaT</td>\n",
       "      <td>22:10:14</td>\n",
       "      <td>5.0</td>\n",
       "      <td>2023-03-24 21:44:00</td>\n",
       "    </tr>\n",
       "    <tr>\n",
       "      <th>1</th>\n",
       "      <td>SQ125</td>\n",
       "      <td>2023-01-01</td>\n",
       "      <td>4.0</td>\n",
       "      <td>AKE84372SQ</td>\n",
       "      <td>2023-01-01 22:10:14.753</td>\n",
       "      <td>NaT</td>\n",
       "      <td>22:10:14</td>\n",
       "      <td>5.0</td>\n",
       "      <td>2023-03-24 21:44:00</td>\n",
       "    </tr>\n",
       "    <tr>\n",
       "      <th>2</th>\n",
       "      <td>SQ125</td>\n",
       "      <td>2023-01-01</td>\n",
       "      <td>3.0</td>\n",
       "      <td>AKE86025SQ</td>\n",
       "      <td>2023-01-01 22:09:59.067</td>\n",
       "      <td>NaT</td>\n",
       "      <td>22:09:59</td>\n",
       "      <td>5.0</td>\n",
       "      <td>2023-03-24 21:44:00</td>\n",
       "    </tr>\n",
       "    <tr>\n",
       "      <th>3</th>\n",
       "      <td>SQ125</td>\n",
       "      <td>2023-01-01</td>\n",
       "      <td>2.0</td>\n",
       "      <td>AKE11725SQ</td>\n",
       "      <td>2023-01-01 22:03:23.360</td>\n",
       "      <td>2023-01-01 22:07:44.313</td>\n",
       "      <td>22:03:23</td>\n",
       "      <td>5.0</td>\n",
       "      <td>2023-03-24 21:44:00</td>\n",
       "    </tr>\n",
       "    <tr>\n",
       "      <th>4</th>\n",
       "      <td>SQ125</td>\n",
       "      <td>2023-01-01</td>\n",
       "      <td>2.0</td>\n",
       "      <td>AKE84343SQ</td>\n",
       "      <td>2023-01-01 22:03:23.360</td>\n",
       "      <td>2023-01-01 22:07:44.330</td>\n",
       "      <td>22:03:23</td>\n",
       "      <td>5.0</td>\n",
       "      <td>2023-03-24 21:44:00</td>\n",
       "    </tr>\n",
       "  </tbody>\n",
       "</table>\n",
       "</div>"
      ],
      "text/plain": [
       "  flightNumber Flight_date  trip_number container_no            Pick_up_Time  \\\n",
       "0        SQ125  2023-01-01          4.0   AKE81973SQ 2023-01-01 22:10:14.753   \n",
       "1        SQ125  2023-01-01          4.0   AKE84372SQ 2023-01-01 22:10:14.753   \n",
       "2        SQ125  2023-01-01          3.0   AKE86025SQ 2023-01-01 22:09:59.067   \n",
       "3        SQ125  2023-01-01          2.0   AKE11725SQ 2023-01-01 22:03:23.360   \n",
       "4        SQ125  2023-01-01          2.0   AKE84343SQ 2023-01-01 22:03:23.360   \n",
       "\n",
       "            drop_off_Time Pick_up_Time_New  Total Staff                  ET  \n",
       "0                     NaT         22:10:14          5.0 2023-03-24 21:44:00  \n",
       "1                     NaT         22:10:14          5.0 2023-03-24 21:44:00  \n",
       "2                     NaT         22:09:59          5.0 2023-03-24 21:44:00  \n",
       "3 2023-01-01 22:07:44.313         22:03:23          5.0 2023-03-24 21:44:00  \n",
       "4 2023-01-01 22:07:44.330         22:03:23          5.0 2023-03-24 21:44:00  "
      ]
     },
     "execution_count": 242,
     "metadata": {},
     "output_type": "execute_result"
    }
   ],
   "source": [
    "dfmerge.head()"
   ]
  },
  {
   "cell_type": "code",
   "execution_count": 252,
   "metadata": {},
   "outputs": [
    {
     "data": {
      "text/plain": [
       "flightNumber                object\n",
       "Flight_date         datetime64[ns]\n",
       "trip_number                float64\n",
       "container_no                object\n",
       "Pick_up_Time        datetime64[ns]\n",
       "drop_off_Time       datetime64[ns]\n",
       "Pick_up_Time_New            object\n",
       "Total Staff                float64\n",
       "ET                  datetime64[ns]\n",
       "dtype: object"
      ]
     },
     "execution_count": 252,
     "metadata": {},
     "output_type": "execute_result"
    }
   ],
   "source": [
    "dfmerge.dtypes"
   ]
  },
  {
   "cell_type": "code",
   "execution_count": 244,
   "metadata": {},
   "outputs": [],
   "source": [
    "# convert ET to datetime:\n",
    "dfmerge['Pick_up_Time'] = pd.to_datetime(dfmerge['Pick_up_Time']).dt.strftime('%H:%M')"
   ]
  },
  {
   "cell_type": "code",
   "execution_count": 245,
   "metadata": {},
   "outputs": [
    {
     "data": {
      "text/html": [
       "<div>\n",
       "<style scoped>\n",
       "    .dataframe tbody tr th:only-of-type {\n",
       "        vertical-align: middle;\n",
       "    }\n",
       "\n",
       "    .dataframe tbody tr th {\n",
       "        vertical-align: top;\n",
       "    }\n",
       "\n",
       "    .dataframe thead th {\n",
       "        text-align: right;\n",
       "    }\n",
       "</style>\n",
       "<table border=\"1\" class=\"dataframe\">\n",
       "  <thead>\n",
       "    <tr style=\"text-align: right;\">\n",
       "      <th></th>\n",
       "      <th>flightNumber</th>\n",
       "      <th>Flight_date</th>\n",
       "      <th>trip_number</th>\n",
       "      <th>container_no</th>\n",
       "      <th>Pick_up_Time</th>\n",
       "      <th>drop_off_Time</th>\n",
       "      <th>Pick_up_Time_New</th>\n",
       "      <th>Total Staff</th>\n",
       "      <th>ET</th>\n",
       "    </tr>\n",
       "  </thead>\n",
       "  <tbody>\n",
       "    <tr>\n",
       "      <th>0</th>\n",
       "      <td>SQ125</td>\n",
       "      <td>2023-01-01</td>\n",
       "      <td>4.0</td>\n",
       "      <td>AKE81973SQ</td>\n",
       "      <td>22:10</td>\n",
       "      <td>NaT</td>\n",
       "      <td>22:10:14</td>\n",
       "      <td>5.0</td>\n",
       "      <td>2023-03-24 21:44:00</td>\n",
       "    </tr>\n",
       "    <tr>\n",
       "      <th>1</th>\n",
       "      <td>SQ125</td>\n",
       "      <td>2023-01-01</td>\n",
       "      <td>4.0</td>\n",
       "      <td>AKE84372SQ</td>\n",
       "      <td>22:10</td>\n",
       "      <td>NaT</td>\n",
       "      <td>22:10:14</td>\n",
       "      <td>5.0</td>\n",
       "      <td>2023-03-24 21:44:00</td>\n",
       "    </tr>\n",
       "    <tr>\n",
       "      <th>2</th>\n",
       "      <td>SQ125</td>\n",
       "      <td>2023-01-01</td>\n",
       "      <td>3.0</td>\n",
       "      <td>AKE86025SQ</td>\n",
       "      <td>22:09</td>\n",
       "      <td>NaT</td>\n",
       "      <td>22:09:59</td>\n",
       "      <td>5.0</td>\n",
       "      <td>2023-03-24 21:44:00</td>\n",
       "    </tr>\n",
       "    <tr>\n",
       "      <th>3</th>\n",
       "      <td>SQ125</td>\n",
       "      <td>2023-01-01</td>\n",
       "      <td>2.0</td>\n",
       "      <td>AKE11725SQ</td>\n",
       "      <td>22:03</td>\n",
       "      <td>2023-01-01 22:07:44.313</td>\n",
       "      <td>22:03:23</td>\n",
       "      <td>5.0</td>\n",
       "      <td>2023-03-24 21:44:00</td>\n",
       "    </tr>\n",
       "    <tr>\n",
       "      <th>4</th>\n",
       "      <td>SQ125</td>\n",
       "      <td>2023-01-01</td>\n",
       "      <td>2.0</td>\n",
       "      <td>AKE84343SQ</td>\n",
       "      <td>22:03</td>\n",
       "      <td>2023-01-01 22:07:44.330</td>\n",
       "      <td>22:03:23</td>\n",
       "      <td>5.0</td>\n",
       "      <td>2023-03-24 21:44:00</td>\n",
       "    </tr>\n",
       "  </tbody>\n",
       "</table>\n",
       "</div>"
      ],
      "text/plain": [
       "  flightNumber Flight_date  trip_number container_no Pick_up_Time  \\\n",
       "0        SQ125  2023-01-01          4.0   AKE81973SQ        22:10   \n",
       "1        SQ125  2023-01-01          4.0   AKE84372SQ        22:10   \n",
       "2        SQ125  2023-01-01          3.0   AKE86025SQ        22:09   \n",
       "3        SQ125  2023-01-01          2.0   AKE11725SQ        22:03   \n",
       "4        SQ125  2023-01-01          2.0   AKE84343SQ        22:03   \n",
       "\n",
       "            drop_off_Time Pick_up_Time_New  Total Staff                  ET  \n",
       "0                     NaT         22:10:14          5.0 2023-03-24 21:44:00  \n",
       "1                     NaT         22:10:14          5.0 2023-03-24 21:44:00  \n",
       "2                     NaT         22:09:59          5.0 2023-03-24 21:44:00  \n",
       "3 2023-01-01 22:07:44.313         22:03:23          5.0 2023-03-24 21:44:00  \n",
       "4 2023-01-01 22:07:44.330         22:03:23          5.0 2023-03-24 21:44:00  "
      ]
     },
     "execution_count": 245,
     "metadata": {},
     "output_type": "execute_result"
    }
   ],
   "source": [
    "dfmerge.head()"
   ]
  },
  {
   "cell_type": "code",
   "execution_count": 57,
   "metadata": {},
   "outputs": [
    {
     "ename": "TypeError",
     "evalue": "<class 'datetime.time'> is not convertible to datetime",
     "output_type": "error",
     "traceback": [
      "\u001b[1;31m---------------------------------------------------------------------------\u001b[0m",
      "\u001b[1;31mTypeError\u001b[0m                                 Traceback (most recent call last)",
      "\u001b[1;32me:\\pythonProjects\\SATS-2.ipynb Cell 63\u001b[0m in \u001b[0;36m<cell line: 1>\u001b[1;34m()\u001b[0m\n\u001b[1;32m----> <a href='vscode-notebook-cell:/e%3A/pythonProjects/SATS-2.ipynb#Y162sZmlsZQ%3D%3D?line=0'>1</a>\u001b[0m dfmerge[\u001b[39m'\u001b[39m\u001b[39mPick_up_Time_New\u001b[39m\u001b[39m'\u001b[39m] \u001b[39m=\u001b[39m pd\u001b[39m.\u001b[39;49mto_datetime(dfmerge[\u001b[39m'\u001b[39;49m\u001b[39mPick_up_Time_New\u001b[39;49m\u001b[39m'\u001b[39;49m])\n",
      "File \u001b[1;32mc:\\Users\\user\\AppData\\Local\\Programs\\Python\\Python310\\lib\\site-packages\\pandas\\core\\tools\\datetimes.py:1051\u001b[0m, in \u001b[0;36mto_datetime\u001b[1;34m(arg, errors, dayfirst, yearfirst, utc, format, exact, unit, infer_datetime_format, origin, cache)\u001b[0m\n\u001b[0;32m   1049\u001b[0m         result \u001b[39m=\u001b[39m arg\u001b[39m.\u001b[39mmap(cache_array)\n\u001b[0;32m   1050\u001b[0m     \u001b[39melse\u001b[39;00m:\n\u001b[1;32m-> 1051\u001b[0m         values \u001b[39m=\u001b[39m convert_listlike(arg\u001b[39m.\u001b[39;49m_values, \u001b[39mformat\u001b[39;49m)\n\u001b[0;32m   1052\u001b[0m         result \u001b[39m=\u001b[39m arg\u001b[39m.\u001b[39m_constructor(values, index\u001b[39m=\u001b[39marg\u001b[39m.\u001b[39mindex, name\u001b[39m=\u001b[39marg\u001b[39m.\u001b[39mname)\n\u001b[0;32m   1053\u001b[0m \u001b[39melif\u001b[39;00m \u001b[39misinstance\u001b[39m(arg, (ABCDataFrame, abc\u001b[39m.\u001b[39mMutableMapping)):\n",
      "File \u001b[1;32mc:\\Users\\user\\AppData\\Local\\Programs\\Python\\Python310\\lib\\site-packages\\pandas\\core\\tools\\datetimes.py:402\u001b[0m, in \u001b[0;36m_convert_listlike_datetimes\u001b[1;34m(arg, format, name, tz, unit, errors, infer_datetime_format, dayfirst, yearfirst, exact)\u001b[0m\n\u001b[0;32m    400\u001b[0m \u001b[39massert\u001b[39;00m \u001b[39mformat\u001b[39m \u001b[39mis\u001b[39;00m \u001b[39mNone\u001b[39;00m \u001b[39mor\u001b[39;00m infer_datetime_format\n\u001b[0;32m    401\u001b[0m utc \u001b[39m=\u001b[39m tz \u001b[39m==\u001b[39m \u001b[39m\"\u001b[39m\u001b[39mutc\u001b[39m\u001b[39m\"\u001b[39m\n\u001b[1;32m--> 402\u001b[0m result, tz_parsed \u001b[39m=\u001b[39m objects_to_datetime64ns(\n\u001b[0;32m    403\u001b[0m     arg,\n\u001b[0;32m    404\u001b[0m     dayfirst\u001b[39m=\u001b[39;49mdayfirst,\n\u001b[0;32m    405\u001b[0m     yearfirst\u001b[39m=\u001b[39;49myearfirst,\n\u001b[0;32m    406\u001b[0m     utc\u001b[39m=\u001b[39;49mutc,\n\u001b[0;32m    407\u001b[0m     errors\u001b[39m=\u001b[39;49merrors,\n\u001b[0;32m    408\u001b[0m     require_iso8601\u001b[39m=\u001b[39;49mrequire_iso8601,\n\u001b[0;32m    409\u001b[0m     allow_object\u001b[39m=\u001b[39;49m\u001b[39mTrue\u001b[39;49;00m,\n\u001b[0;32m    410\u001b[0m )\n\u001b[0;32m    412\u001b[0m \u001b[39mif\u001b[39;00m tz_parsed \u001b[39mis\u001b[39;00m \u001b[39mnot\u001b[39;00m \u001b[39mNone\u001b[39;00m:\n\u001b[0;32m    413\u001b[0m     \u001b[39m# We can take a shortcut since the datetime64 numpy array\u001b[39;00m\n\u001b[0;32m    414\u001b[0m     \u001b[39m# is in UTC\u001b[39;00m\n\u001b[0;32m    415\u001b[0m     dta \u001b[39m=\u001b[39m DatetimeArray(result, dtype\u001b[39m=\u001b[39mtz_to_dtype(tz_parsed))\n",
      "File \u001b[1;32mc:\\Users\\user\\AppData\\Local\\Programs\\Python\\Python310\\lib\\site-packages\\pandas\\core\\arrays\\datetimes.py:2224\u001b[0m, in \u001b[0;36mobjects_to_datetime64ns\u001b[1;34m(data, dayfirst, yearfirst, utc, errors, require_iso8601, allow_object, allow_mixed)\u001b[0m\n\u001b[0;32m   2222\u001b[0m order: Literal[\u001b[39m\"\u001b[39m\u001b[39mF\u001b[39m\u001b[39m\"\u001b[39m, \u001b[39m\"\u001b[39m\u001b[39mC\u001b[39m\u001b[39m\"\u001b[39m] \u001b[39m=\u001b[39m \u001b[39m\"\u001b[39m\u001b[39mF\u001b[39m\u001b[39m\"\u001b[39m \u001b[39mif\u001b[39;00m flags\u001b[39m.\u001b[39mf_contiguous \u001b[39melse\u001b[39;00m \u001b[39m\"\u001b[39m\u001b[39mC\u001b[39m\u001b[39m\"\u001b[39m\n\u001b[0;32m   2223\u001b[0m \u001b[39mtry\u001b[39;00m:\n\u001b[1;32m-> 2224\u001b[0m     result, tz_parsed \u001b[39m=\u001b[39m tslib\u001b[39m.\u001b[39;49marray_to_datetime(\n\u001b[0;32m   2225\u001b[0m         data\u001b[39m.\u001b[39;49mravel(\u001b[39m\"\u001b[39;49m\u001b[39mK\u001b[39;49m\u001b[39m\"\u001b[39;49m),\n\u001b[0;32m   2226\u001b[0m         errors\u001b[39m=\u001b[39;49merrors,\n\u001b[0;32m   2227\u001b[0m         utc\u001b[39m=\u001b[39;49mutc,\n\u001b[0;32m   2228\u001b[0m         dayfirst\u001b[39m=\u001b[39;49mdayfirst,\n\u001b[0;32m   2229\u001b[0m         yearfirst\u001b[39m=\u001b[39;49myearfirst,\n\u001b[0;32m   2230\u001b[0m         require_iso8601\u001b[39m=\u001b[39;49mrequire_iso8601,\n\u001b[0;32m   2231\u001b[0m         allow_mixed\u001b[39m=\u001b[39;49mallow_mixed,\n\u001b[0;32m   2232\u001b[0m     )\n\u001b[0;32m   2233\u001b[0m     result \u001b[39m=\u001b[39m result\u001b[39m.\u001b[39mreshape(data\u001b[39m.\u001b[39mshape, order\u001b[39m=\u001b[39morder)\n\u001b[0;32m   2234\u001b[0m \u001b[39mexcept\u001b[39;00m \u001b[39mValueError\u001b[39;00m \u001b[39mas\u001b[39;00m err:\n",
      "File \u001b[1;32mc:\\Users\\user\\AppData\\Local\\Programs\\Python\\Python310\\lib\\site-packages\\pandas\\_libs\\tslib.pyx:381\u001b[0m, in \u001b[0;36mpandas._libs.tslib.array_to_datetime\u001b[1;34m()\u001b[0m\n",
      "File \u001b[1;32mc:\\Users\\user\\AppData\\Local\\Programs\\Python\\Python310\\lib\\site-packages\\pandas\\_libs\\tslib.pyx:613\u001b[0m, in \u001b[0;36mpandas._libs.tslib.array_to_datetime\u001b[1;34m()\u001b[0m\n",
      "File \u001b[1;32mc:\\Users\\user\\AppData\\Local\\Programs\\Python\\Python310\\lib\\site-packages\\pandas\\_libs\\tslib.pyx:755\u001b[0m, in \u001b[0;36mpandas._libs.tslib._array_to_datetime_object\u001b[1;34m()\u001b[0m\n",
      "File \u001b[1;32mc:\\Users\\user\\AppData\\Local\\Programs\\Python\\Python310\\lib\\site-packages\\pandas\\_libs\\tslib.pyx:586\u001b[0m, in \u001b[0;36mpandas._libs.tslib.array_to_datetime\u001b[1;34m()\u001b[0m\n",
      "\u001b[1;31mTypeError\u001b[0m: <class 'datetime.time'> is not convertible to datetime"
     ]
    }
   ],
   "source": [
    "dfmerge['Pick_up_Time_New'] = pd.to_datetime(dfmerge['Pick_up_Time_New'])"
   ]
  },
  {
   "cell_type": "code",
   "execution_count": 253,
   "metadata": {},
   "outputs": [],
   "source": [
    "dfmerge['ttime']=dfmerge['Pick_up_Time']-dfmerge['ET']"
   ]
  },
  {
   "cell_type": "code",
   "execution_count": 254,
   "metadata": {},
   "outputs": [
    {
     "data": {
      "text/html": [
       "<div>\n",
       "<style scoped>\n",
       "    .dataframe tbody tr th:only-of-type {\n",
       "        vertical-align: middle;\n",
       "    }\n",
       "\n",
       "    .dataframe tbody tr th {\n",
       "        vertical-align: top;\n",
       "    }\n",
       "\n",
       "    .dataframe thead th {\n",
       "        text-align: right;\n",
       "    }\n",
       "</style>\n",
       "<table border=\"1\" class=\"dataframe\">\n",
       "  <thead>\n",
       "    <tr style=\"text-align: right;\">\n",
       "      <th></th>\n",
       "      <th>flightNumber</th>\n",
       "      <th>Flight_date</th>\n",
       "      <th>trip_number</th>\n",
       "      <th>container_no</th>\n",
       "      <th>Pick_up_Time</th>\n",
       "      <th>drop_off_Time</th>\n",
       "      <th>Pick_up_Time_New</th>\n",
       "      <th>Total Staff</th>\n",
       "      <th>ET</th>\n",
       "      <th>ttime</th>\n",
       "    </tr>\n",
       "  </thead>\n",
       "  <tbody>\n",
       "    <tr>\n",
       "      <th>0</th>\n",
       "      <td>SQ125</td>\n",
       "      <td>2023-01-01</td>\n",
       "      <td>4.0</td>\n",
       "      <td>AKE81973SQ</td>\n",
       "      <td>2023-03-24 22:10:00</td>\n",
       "      <td>NaT</td>\n",
       "      <td>22:10:14</td>\n",
       "      <td>5.0</td>\n",
       "      <td>2023-03-24 21:44:00</td>\n",
       "      <td>0 days 00:26:00</td>\n",
       "    </tr>\n",
       "    <tr>\n",
       "      <th>1</th>\n",
       "      <td>SQ125</td>\n",
       "      <td>2023-01-01</td>\n",
       "      <td>4.0</td>\n",
       "      <td>AKE84372SQ</td>\n",
       "      <td>2023-03-24 22:10:00</td>\n",
       "      <td>NaT</td>\n",
       "      <td>22:10:14</td>\n",
       "      <td>5.0</td>\n",
       "      <td>2023-03-24 21:44:00</td>\n",
       "      <td>0 days 00:26:00</td>\n",
       "    </tr>\n",
       "    <tr>\n",
       "      <th>2</th>\n",
       "      <td>SQ125</td>\n",
       "      <td>2023-01-01</td>\n",
       "      <td>3.0</td>\n",
       "      <td>AKE86025SQ</td>\n",
       "      <td>2023-03-24 22:09:00</td>\n",
       "      <td>NaT</td>\n",
       "      <td>22:09:59</td>\n",
       "      <td>5.0</td>\n",
       "      <td>2023-03-24 21:44:00</td>\n",
       "      <td>0 days 00:25:00</td>\n",
       "    </tr>\n",
       "    <tr>\n",
       "      <th>3</th>\n",
       "      <td>SQ125</td>\n",
       "      <td>2023-01-01</td>\n",
       "      <td>2.0</td>\n",
       "      <td>AKE11725SQ</td>\n",
       "      <td>2023-03-24 22:03:00</td>\n",
       "      <td>2023-01-01 22:07:44.313</td>\n",
       "      <td>22:03:23</td>\n",
       "      <td>5.0</td>\n",
       "      <td>2023-03-24 21:44:00</td>\n",
       "      <td>0 days 00:19:00</td>\n",
       "    </tr>\n",
       "    <tr>\n",
       "      <th>4</th>\n",
       "      <td>SQ125</td>\n",
       "      <td>2023-01-01</td>\n",
       "      <td>2.0</td>\n",
       "      <td>AKE84343SQ</td>\n",
       "      <td>2023-03-24 22:03:00</td>\n",
       "      <td>2023-01-01 22:07:44.330</td>\n",
       "      <td>22:03:23</td>\n",
       "      <td>5.0</td>\n",
       "      <td>2023-03-24 21:44:00</td>\n",
       "      <td>0 days 00:19:00</td>\n",
       "    </tr>\n",
       "  </tbody>\n",
       "</table>\n",
       "</div>"
      ],
      "text/plain": [
       "  flightNumber Flight_date  trip_number container_no        Pick_up_Time  \\\n",
       "0        SQ125  2023-01-01          4.0   AKE81973SQ 2023-03-24 22:10:00   \n",
       "1        SQ125  2023-01-01          4.0   AKE84372SQ 2023-03-24 22:10:00   \n",
       "2        SQ125  2023-01-01          3.0   AKE86025SQ 2023-03-24 22:09:00   \n",
       "3        SQ125  2023-01-01          2.0   AKE11725SQ 2023-03-24 22:03:00   \n",
       "4        SQ125  2023-01-01          2.0   AKE84343SQ 2023-03-24 22:03:00   \n",
       "\n",
       "            drop_off_Time Pick_up_Time_New  Total Staff                  ET  \\\n",
       "0                     NaT         22:10:14          5.0 2023-03-24 21:44:00   \n",
       "1                     NaT         22:10:14          5.0 2023-03-24 21:44:00   \n",
       "2                     NaT         22:09:59          5.0 2023-03-24 21:44:00   \n",
       "3 2023-01-01 22:07:44.313         22:03:23          5.0 2023-03-24 21:44:00   \n",
       "4 2023-01-01 22:07:44.330         22:03:23          5.0 2023-03-24 21:44:00   \n",
       "\n",
       "            ttime  \n",
       "0 0 days 00:26:00  \n",
       "1 0 days 00:26:00  \n",
       "2 0 days 00:25:00  \n",
       "3 0 days 00:19:00  \n",
       "4 0 days 00:19:00  "
      ]
     },
     "execution_count": 254,
     "metadata": {},
     "output_type": "execute_result"
    }
   ],
   "source": [
    "dfmerge.head()\n"
   ]
  },
  {
   "cell_type": "code",
   "execution_count": 255,
   "metadata": {},
   "outputs": [],
   "source": [
    "# convert ttime to minutes:\n",
    "dfmerge['ntime']=dfmerge['ttime']/np.timedelta64(1,'m')"
   ]
  },
  {
   "cell_type": "code",
   "execution_count": 256,
   "metadata": {},
   "outputs": [
    {
     "data": {
      "text/html": [
       "<div>\n",
       "<style scoped>\n",
       "    .dataframe tbody tr th:only-of-type {\n",
       "        vertical-align: middle;\n",
       "    }\n",
       "\n",
       "    .dataframe tbody tr th {\n",
       "        vertical-align: top;\n",
       "    }\n",
       "\n",
       "    .dataframe thead th {\n",
       "        text-align: right;\n",
       "    }\n",
       "</style>\n",
       "<table border=\"1\" class=\"dataframe\">\n",
       "  <thead>\n",
       "    <tr style=\"text-align: right;\">\n",
       "      <th></th>\n",
       "      <th>flightNumber</th>\n",
       "      <th>Flight_date</th>\n",
       "      <th>trip_number</th>\n",
       "      <th>container_no</th>\n",
       "      <th>Pick_up_Time</th>\n",
       "      <th>drop_off_Time</th>\n",
       "      <th>Pick_up_Time_New</th>\n",
       "      <th>Total Staff</th>\n",
       "      <th>ET</th>\n",
       "      <th>ttime</th>\n",
       "      <th>ntime</th>\n",
       "    </tr>\n",
       "  </thead>\n",
       "  <tbody>\n",
       "    <tr>\n",
       "      <th>0</th>\n",
       "      <td>SQ125</td>\n",
       "      <td>2023-01-01</td>\n",
       "      <td>4.0</td>\n",
       "      <td>AKE81973SQ</td>\n",
       "      <td>2023-03-24 22:10:00</td>\n",
       "      <td>NaT</td>\n",
       "      <td>22:10:14</td>\n",
       "      <td>5.0</td>\n",
       "      <td>2023-03-24 21:44:00</td>\n",
       "      <td>0 days 00:26:00</td>\n",
       "      <td>26.0</td>\n",
       "    </tr>\n",
       "    <tr>\n",
       "      <th>1</th>\n",
       "      <td>SQ125</td>\n",
       "      <td>2023-01-01</td>\n",
       "      <td>4.0</td>\n",
       "      <td>AKE84372SQ</td>\n",
       "      <td>2023-03-24 22:10:00</td>\n",
       "      <td>NaT</td>\n",
       "      <td>22:10:14</td>\n",
       "      <td>5.0</td>\n",
       "      <td>2023-03-24 21:44:00</td>\n",
       "      <td>0 days 00:26:00</td>\n",
       "      <td>26.0</td>\n",
       "    </tr>\n",
       "    <tr>\n",
       "      <th>2</th>\n",
       "      <td>SQ125</td>\n",
       "      <td>2023-01-01</td>\n",
       "      <td>3.0</td>\n",
       "      <td>AKE86025SQ</td>\n",
       "      <td>2023-03-24 22:09:00</td>\n",
       "      <td>NaT</td>\n",
       "      <td>22:09:59</td>\n",
       "      <td>5.0</td>\n",
       "      <td>2023-03-24 21:44:00</td>\n",
       "      <td>0 days 00:25:00</td>\n",
       "      <td>25.0</td>\n",
       "    </tr>\n",
       "    <tr>\n",
       "      <th>3</th>\n",
       "      <td>SQ125</td>\n",
       "      <td>2023-01-01</td>\n",
       "      <td>2.0</td>\n",
       "      <td>AKE11725SQ</td>\n",
       "      <td>2023-03-24 22:03:00</td>\n",
       "      <td>2023-01-01 22:07:44.313</td>\n",
       "      <td>22:03:23</td>\n",
       "      <td>5.0</td>\n",
       "      <td>2023-03-24 21:44:00</td>\n",
       "      <td>0 days 00:19:00</td>\n",
       "      <td>19.0</td>\n",
       "    </tr>\n",
       "    <tr>\n",
       "      <th>4</th>\n",
       "      <td>SQ125</td>\n",
       "      <td>2023-01-01</td>\n",
       "      <td>2.0</td>\n",
       "      <td>AKE84343SQ</td>\n",
       "      <td>2023-03-24 22:03:00</td>\n",
       "      <td>2023-01-01 22:07:44.330</td>\n",
       "      <td>22:03:23</td>\n",
       "      <td>5.0</td>\n",
       "      <td>2023-03-24 21:44:00</td>\n",
       "      <td>0 days 00:19:00</td>\n",
       "      <td>19.0</td>\n",
       "    </tr>\n",
       "  </tbody>\n",
       "</table>\n",
       "</div>"
      ],
      "text/plain": [
       "  flightNumber Flight_date  trip_number container_no        Pick_up_Time  \\\n",
       "0        SQ125  2023-01-01          4.0   AKE81973SQ 2023-03-24 22:10:00   \n",
       "1        SQ125  2023-01-01          4.0   AKE84372SQ 2023-03-24 22:10:00   \n",
       "2        SQ125  2023-01-01          3.0   AKE86025SQ 2023-03-24 22:09:00   \n",
       "3        SQ125  2023-01-01          2.0   AKE11725SQ 2023-03-24 22:03:00   \n",
       "4        SQ125  2023-01-01          2.0   AKE84343SQ 2023-03-24 22:03:00   \n",
       "\n",
       "            drop_off_Time Pick_up_Time_New  Total Staff                  ET  \\\n",
       "0                     NaT         22:10:14          5.0 2023-03-24 21:44:00   \n",
       "1                     NaT         22:10:14          5.0 2023-03-24 21:44:00   \n",
       "2                     NaT         22:09:59          5.0 2023-03-24 21:44:00   \n",
       "3 2023-01-01 22:07:44.313         22:03:23          5.0 2023-03-24 21:44:00   \n",
       "4 2023-01-01 22:07:44.330         22:03:23          5.0 2023-03-24 21:44:00   \n",
       "\n",
       "            ttime  ntime  \n",
       "0 0 days 00:26:00   26.0  \n",
       "1 0 days 00:26:00   26.0  \n",
       "2 0 days 00:25:00   25.0  \n",
       "3 0 days 00:19:00   19.0  \n",
       "4 0 days 00:19:00   19.0  "
      ]
     },
     "execution_count": 256,
     "metadata": {},
     "output_type": "execute_result"
    }
   ],
   "source": [
    "dfmerge.head()"
   ]
  },
  {
   "cell_type": "code",
   "execution_count": 257,
   "metadata": {},
   "outputs": [],
   "source": [
    "# convert ntime to int:\n",
    "dfmerge['ntime']=dfmerge['ntime'].astype(int)"
   ]
  },
  {
   "cell_type": "code",
   "execution_count": 258,
   "metadata": {},
   "outputs": [
    {
     "data": {
      "text/plain": [
       "(11073, 11)"
      ]
     },
     "execution_count": 258,
     "metadata": {},
     "output_type": "execute_result"
    }
   ],
   "source": [
    "dfmerge.shape"
   ]
  },
  {
   "cell_type": "code",
   "execution_count": 259,
   "metadata": {},
   "outputs": [],
   "source": [
    "# remove the rows where ntime is negative:\n",
    "dfmerge=dfmerge[dfmerge['ntime']>=0]"
   ]
  },
  {
   "cell_type": "code",
   "execution_count": 260,
   "metadata": {},
   "outputs": [
    {
     "data": {
      "text/plain": [
       "(10911, 11)"
      ]
     },
     "execution_count": 260,
     "metadata": {},
     "output_type": "execute_result"
    }
   ],
   "source": [
    "dfmerge.shape"
   ]
  },
  {
   "cell_type": "code",
   "execution_count": 261,
   "metadata": {},
   "outputs": [],
   "source": [
    "# save the data to a excel file:\n",
    "dfmerge.to_excel(r'E:/Neural Lab/SATS/final.xlsx',index=False)"
   ]
  },
  {
   "cell_type": "code",
   "execution_count": 262,
   "metadata": {},
   "outputs": [],
   "source": [
    "#  draw a violin plot for the number of staff [5,6,7,8]vs the time of the first bag pick up:\n",
    "dfmerge1=dfmerge[dfmerge['Total Staff'].isin([5,6,7,8])]\n",
    "\n"
   ]
  },
  {
   "cell_type": "code",
   "execution_count": 67,
   "metadata": {},
   "outputs": [
    {
     "data": {
      "text/plain": [
       "(10612, 12)"
      ]
     },
     "execution_count": 67,
     "metadata": {},
     "output_type": "execute_result"
    }
   ],
   "source": [
    "dfmerge1.shape"
   ]
  },
  {
   "cell_type": "code",
   "execution_count": 68,
   "metadata": {},
   "outputs": [
    {
     "data": {
      "text/plain": [
       "<AxesSubplot:xlabel='Total Staff', ylabel='ntime'>"
      ]
     },
     "execution_count": 68,
     "metadata": {},
     "output_type": "execute_result"
    },
    {
     "data": {
      "image/png": "[encoded data removed]",
      "text/plain": [
       "<Figure size 432x288 with 1 Axes>"
      ]
     },
     "metadata": {
      "needs_background": "light"
     },
     "output_type": "display_data"
    }
   ],
   "source": [
    "sns.violinplot(x='Total Staff',y='ntime',data=dfmerge1)"
   ]
  },
  {
   "cell_type": "code",
   "execution_count": 69,
   "metadata": {},
   "outputs": [
    {
     "data": {
      "text/plain": [
       "Text(0, 0.5, 'ntime')"
      ]
     },
     "execution_count": 69,
     "metadata": {},
     "output_type": "execute_result"
    },
    {
     "data": {
      "image/png": "[encoded data removed]",
      "text/plain": [
       "<Figure size 432x288 with 1 Axes>"
      ]
     },
     "metadata": {
      "needs_background": "light"
     },
     "output_type": "display_data"
    }
   ],
   "source": [
    "sns.violinplot(x='Total Staff', y='ntime', data=dfmerge1)\n",
    "plt.title('Distribution of ntime by Total Staff')\n",
    "plt.xlabel('Total Staff')\n",
    "plt.ylabel('ntime')\n"
   ]
  },
  {
   "cell_type": "code",
   "execution_count": 70,
   "metadata": {},
   "outputs": [
    {
     "data": {
      "text/plain": [
       "Text(0.9, 29.239257444402565, 'Mean = 28.74')"
      ]
     },
     "execution_count": 70,
     "metadata": {},
     "output_type": "execute_result"
    },
    {
     "data": {
      "image/png": "[encoded data removed]",
      "text/plain": [
       "<Figure size 432x288 with 1 Axes>"
      ]
     },
     "metadata": {
      "needs_background": "light"
     },
     "output_type": "display_data"
    }
   ],
   "source": [
    "sns.violinplot(x='Total Staff', y='ntime', data=dfmerge1)\n",
    "\n",
    "# Add a vertical line at the mean of the ntime variable\n",
    "mean = dfmerge1['ntime'].mean()\n",
    "plt.axhline(mean, color='red', linestyle='--')\n",
    "\n",
    "# Annotate the plot with the mean value\n",
    "plt.annotate(f'Mean = {mean:.2f}', xy=(0.9, mean), xytext=(0.9, mean + 0.5),\n",
    "            arrowprops=dict(facecolor='red', shrink=0.05)) \n"
   ]
  },
  {
   "cell_type": "code",
   "execution_count": 71,
   "metadata": {},
   "outputs": [
    {
     "data": {
      "text/plain": [
       "<AxesSubplot:xlabel='Total Staff', ylabel='ntime'>"
      ]
     },
     "execution_count": 71,
     "metadata": {},
     "output_type": "execute_result"
    },
    {
     "data": {
      "image/png": "[encoded data removed]",
      "text/plain": [
       "<Figure size 432x288 with 1 Axes>"
      ]
     },
     "metadata": {
      "needs_background": "light"
     },
     "output_type": "display_data"
    }
   ],
   "source": [
    "sns.violinplot(x='Total Staff', y='ntime', data=dfmerge1, jitter=True)"
   ]
  },
  {
   "cell_type": "code",
   "execution_count": 72,
   "metadata": {},
   "outputs": [
    {
     "data": {
      "text/plain": [
       "<AxesSubplot:xlabel='Total Staff', ylabel='ntime'>"
      ]
     },
     "execution_count": 72,
     "metadata": {},
     "output_type": "execute_result"
    },
    {
     "data": {
      "image/png": "[encoded data removed]",
      "text/plain": [
       "<Figure size 432x288 with 1 Axes>"
      ]
     },
     "metadata": {
      "needs_background": "light"
     },
     "output_type": "display_data"
    }
   ],
   "source": [
    "sns.violinplot(x='Total Staff', y='ntime', data=dfmerge1, bw=0.2)\n",
    "\n",
    "\n",
    "\n"
   ]
  },
  {
   "cell_type": "code",
   "execution_count": 73,
   "metadata": {},
   "outputs": [
    {
     "data": {
      "text/plain": [
       "<AxesSubplot:xlabel='Total Staff', ylabel='ntime'>"
      ]
     },
     "execution_count": 73,
     "metadata": {},
     "output_type": "execute_result"
    },
    {
     "data": {
      "image/png": "[encoded data removed]",
      "text/plain": [
       "<Figure size 432x288 with 1 Axes>"
      ]
     },
     "metadata": {
      "needs_background": "light"
     },
     "output_type": "display_data"
    }
   ],
   "source": [
    "sns.violinplot(x='Total Staff', y='ntime', data=dfmerge1, \n",
    "               showmeans=True, showmedians=True, showextrema=True, quantiles=[0.25, 0.75])\n"
   ]
  },
  {
   "cell_type": "code",
   "execution_count": 74,
   "metadata": {},
   "outputs": [
    {
     "data": {
      "text/plain": [
       "<AxesSubplot:xlabel='Total Staff', ylabel='ntime'>"
      ]
     },
     "execution_count": 74,
     "metadata": {},
     "output_type": "execute_result"
    },
    {
     "data": {
      "image/png": "[encoded data removed]",
      "text/plain": [
       "<Figure size 432x288 with 1 Axes>"
      ]
     },
     "metadata": {
      "needs_background": "light"
     },
     "output_type": "display_data"
    }
   ],
   "source": [
    "sns.violinplot(x='Total Staff', y='ntime', data=dfmerge1, \n",
    "               showmeans=True, showmedians=True, showextrema=True, \n",
    "               quantiles=[0.25, 0.5, 0.75])\n"
   ]
  },
  {
   "cell_type": "code",
   "execution_count": 76,
   "metadata": {},
   "outputs": [
    {
     "data": {
      "text/plain": [
       "'0.12.2'"
      ]
     },
     "execution_count": 76,
     "metadata": {},
     "output_type": "execute_result"
    }
   ],
   "source": [
    "#  version of seaborn that is installed:\n",
    "sns.__version__"
   ]
  },
  {
   "cell_type": "code",
   "execution_count": 77,
   "metadata": {},
   "outputs": [
    {
     "ename": "AttributeError",
     "evalue": "'Series' object has no attribute 'columns'",
     "output_type": "error",
     "traceback": [
      "\u001b[1;31m---------------------------------------------------------------------------\u001b[0m",
      "\u001b[1;31mAttributeError\u001b[0m                            Traceback (most recent call last)",
      "\u001b[1;32me:\\pythonProjects\\SATS-2.ipynb Cell 75\u001b[0m in \u001b[0;36m<cell line: 18>\u001b[1;34m()\u001b[0m\n\u001b[0;32m     <a href='vscode-notebook-cell:/e%3A/pythonProjects/SATS-2.ipynb#Y136sZmlsZQ%3D%3D?line=13'>14</a>\u001b[0m ax \u001b[39m=\u001b[39m sns\u001b[39m.\u001b[39mviolinplot(x\u001b[39m=\u001b[39m\u001b[39m'\u001b[39m\u001b[39mTotal Staff\u001b[39m\u001b[39m'\u001b[39m, y\u001b[39m=\u001b[39m\u001b[39m'\u001b[39m\u001b[39mntime\u001b[39m\u001b[39m'\u001b[39m, data\u001b[39m=\u001b[39mdfmerge1, \n\u001b[0;32m     <a href='vscode-notebook-cell:/e%3A/pythonProjects/SATS-2.ipynb#Y136sZmlsZQ%3D%3D?line=14'>15</a>\u001b[0m                     showmeans\u001b[39m=\u001b[39m\u001b[39mTrue\u001b[39;00m, showmedians\u001b[39m=\u001b[39m\u001b[39mTrue\u001b[39;00m, showextrema\u001b[39m=\u001b[39m\u001b[39mTrue\u001b[39;00m)\n\u001b[0;32m     <a href='vscode-notebook-cell:/e%3A/pythonProjects/SATS-2.ipynb#Y136sZmlsZQ%3D%3D?line=16'>17</a>\u001b[0m \u001b[39m# Add labels to the plot\u001b[39;00m\n\u001b[1;32m---> <a href='vscode-notebook-cell:/e%3A/pythonProjects/SATS-2.ipynb#Y136sZmlsZQ%3D%3D?line=17'>18</a>\u001b[0m add_labels(ax, dfmerge1\u001b[39m.\u001b[39;49mgroupby(\u001b[39m'\u001b[39;49m\u001b[39mTotal Staff\u001b[39;49m\u001b[39m'\u001b[39;49m)[\u001b[39m'\u001b[39;49m\u001b[39mntime\u001b[39;49m\u001b[39m'\u001b[39;49m]\u001b[39m.\u001b[39;49mapply(\u001b[39mlist\u001b[39;49m)\u001b[39m.\u001b[39;49mapply(np\u001b[39m.\u001b[39;49marray))\n\u001b[0;32m     <a href='vscode-notebook-cell:/e%3A/pythonProjects/SATS-2.ipynb#Y136sZmlsZQ%3D%3D?line=19'>20</a>\u001b[0m \u001b[39m# Show the plot\u001b[39;00m\n\u001b[0;32m     <a href='vscode-notebook-cell:/e%3A/pythonProjects/SATS-2.ipynb#Y136sZmlsZQ%3D%3D?line=20'>21</a>\u001b[0m plt\u001b[39m.\u001b[39mshow()\n",
      "\u001b[1;32me:\\pythonProjects\\SATS-2.ipynb Cell 75\u001b[0m in \u001b[0;36madd_labels\u001b[1;34m(ax, data)\u001b[0m\n\u001b[0;32m      <a href='vscode-notebook-cell:/e%3A/pythonProjects/SATS-2.ipynb#Y136sZmlsZQ%3D%3D?line=4'>5</a>\u001b[0m \u001b[39mdef\u001b[39;00m \u001b[39madd_labels\u001b[39m(ax, data):\n\u001b[1;32m----> <a href='vscode-notebook-cell:/e%3A/pythonProjects/SATS-2.ipynb#Y136sZmlsZQ%3D%3D?line=5'>6</a>\u001b[0m     positions \u001b[39m=\u001b[39m np\u001b[39m.\u001b[39marange(\u001b[39mlen\u001b[39m(data\u001b[39m.\u001b[39;49mcolumns))\n\u001b[0;32m      <a href='vscode-notebook-cell:/e%3A/pythonProjects/SATS-2.ipynb#Y136sZmlsZQ%3D%3D?line=6'>7</a>\u001b[0m     \u001b[39mfor\u001b[39;00m i, col \u001b[39min\u001b[39;00m \u001b[39menumerate\u001b[39m(data\u001b[39m.\u001b[39mcolumns):\n\u001b[0;32m      <a href='vscode-notebook-cell:/e%3A/pythonProjects/SATS-2.ipynb#Y136sZmlsZQ%3D%3D?line=7'>8</a>\u001b[0m         vals \u001b[39m=\u001b[39m data[col]\n",
      "File \u001b[1;32mc:\\Users\\user\\AppData\\Local\\Programs\\Python\\Python310\\lib\\site-packages\\pandas\\core\\generic.py:5575\u001b[0m, in \u001b[0;36mNDFrame.__getattr__\u001b[1;34m(self, name)\u001b[0m\n\u001b[0;32m   5568\u001b[0m \u001b[39mif\u001b[39;00m (\n\u001b[0;32m   5569\u001b[0m     name \u001b[39mnot\u001b[39;00m \u001b[39min\u001b[39;00m \u001b[39mself\u001b[39m\u001b[39m.\u001b[39m_internal_names_set\n\u001b[0;32m   5570\u001b[0m     \u001b[39mand\u001b[39;00m name \u001b[39mnot\u001b[39;00m \u001b[39min\u001b[39;00m \u001b[39mself\u001b[39m\u001b[39m.\u001b[39m_metadata\n\u001b[0;32m   5571\u001b[0m     \u001b[39mand\u001b[39;00m name \u001b[39mnot\u001b[39;00m \u001b[39min\u001b[39;00m \u001b[39mself\u001b[39m\u001b[39m.\u001b[39m_accessors\n\u001b[0;32m   5572\u001b[0m     \u001b[39mand\u001b[39;00m \u001b[39mself\u001b[39m\u001b[39m.\u001b[39m_info_axis\u001b[39m.\u001b[39m_can_hold_identifiers_and_holds_name(name)\n\u001b[0;32m   5573\u001b[0m ):\n\u001b[0;32m   5574\u001b[0m     \u001b[39mreturn\u001b[39;00m \u001b[39mself\u001b[39m[name]\n\u001b[1;32m-> 5575\u001b[0m \u001b[39mreturn\u001b[39;00m \u001b[39mobject\u001b[39;49m\u001b[39m.\u001b[39;49m\u001b[39m__getattribute__\u001b[39;49m(\u001b[39mself\u001b[39;49m, name)\n",
      "\u001b[1;31mAttributeError\u001b[0m: 'Series' object has no attribute 'columns'"
     ]
    },
    {
     "data": {
      "image/png": "[encoded data removed]",
      "text/plain": [
       "<Figure size 432x288 with 1 Axes>"
      ]
     },
     "metadata": {
      "needs_background": "light"
     },
     "output_type": "display_data"
    }
   ],
   "source": [
    "import numpy as np\n",
    "import matplotlib.pyplot as plt\n",
    "\n",
    "# Define a function to add labels to each violin plot\n",
    "def add_labels(ax, data):\n",
    "    positions = np.arange(len(data.columns))\n",
    "    for i, col in enumerate(data.columns):\n",
    "        vals = data[col]\n",
    "        ax.text(positions[i], np.min(vals), f'Min = {np.min(vals):.2f}', ha='center', fontsize=8)\n",
    "        ax.text(positions[i], np.median(vals), f'Median = {np.median(vals):.2f}', ha='center', fontsize=8)\n",
    "        ax.text(positions[i], np.max(vals), f'Max = {np.max(vals):.2f}', ha='center', fontsize=8)\n",
    "\n",
    "# Create the violin plot\n",
    "ax = sns.violinplot(x='Total Staff', y='ntime', data=dfmerge1, \n",
    "                    showmeans=True, showmedians=True, showextrema=True)\n",
    "\n",
    "# Add labels to the plot\n",
    "add_labels(ax, dfmerge1.groupby('Total Staff')['ntime'].apply(list).apply(np.array))\n",
    "\n",
    "# Show the plot\n",
    "plt.show()\n"
   ]
  },
  {
   "cell_type": "code",
   "execution_count": 78,
   "metadata": {},
   "outputs": [
    {
     "ename": "ValueError",
     "evalue": "operands could not be broadcast together with shapes (4533,) (4092,) ",
     "output_type": "error",
     "traceback": [
      "\u001b[1;31m---------------------------------------------------------------------------\u001b[0m",
      "\u001b[1;31mValueError\u001b[0m                                Traceback (most recent call last)",
      "\u001b[1;32me:\\pythonProjects\\SATS-2.ipynb Cell 76\u001b[0m in \u001b[0;36m<cell line: 20>\u001b[1;34m()\u001b[0m\n\u001b[0;32m     <a href='vscode-notebook-cell:/e%3A/pythonProjects/SATS-2.ipynb#Y140sZmlsZQ%3D%3D?line=17'>18</a>\u001b[0m \u001b[39m# Add labels to the plot\u001b[39;00m\n\u001b[0;32m     <a href='vscode-notebook-cell:/e%3A/pythonProjects/SATS-2.ipynb#Y140sZmlsZQ%3D%3D?line=18'>19</a>\u001b[0m df_grouped \u001b[39m=\u001b[39m dfmerge1\u001b[39m.\u001b[39mgroupby(\u001b[39m'\u001b[39m\u001b[39mTotal Staff\u001b[39m\u001b[39m'\u001b[39m)[\u001b[39m'\u001b[39m\u001b[39mntime\u001b[39m\u001b[39m'\u001b[39m]\u001b[39m.\u001b[39mapply(\u001b[39mlist\u001b[39m)\u001b[39m.\u001b[39mapply(np\u001b[39m.\u001b[39marray)\n\u001b[1;32m---> <a href='vscode-notebook-cell:/e%3A/pythonProjects/SATS-2.ipynb#Y140sZmlsZQ%3D%3D?line=19'>20</a>\u001b[0m add_labels(ax, df_grouped)\n\u001b[0;32m     <a href='vscode-notebook-cell:/e%3A/pythonProjects/SATS-2.ipynb#Y140sZmlsZQ%3D%3D?line=21'>22</a>\u001b[0m \u001b[39m# Show the plot\u001b[39;00m\n\u001b[0;32m     <a href='vscode-notebook-cell:/e%3A/pythonProjects/SATS-2.ipynb#Y140sZmlsZQ%3D%3D?line=22'>23</a>\u001b[0m plt\u001b[39m.\u001b[39mshow()\n",
      "\u001b[1;32me:\\pythonProjects\\SATS-2.ipynb Cell 76\u001b[0m in \u001b[0;36madd_labels\u001b[1;34m(ax, data)\u001b[0m\n\u001b[0;32m      <a href='vscode-notebook-cell:/e%3A/pythonProjects/SATS-2.ipynb#Y140sZmlsZQ%3D%3D?line=7'>8</a>\u001b[0m     data \u001b[39m=\u001b[39m [data]\n\u001b[0;32m      <a href='vscode-notebook-cell:/e%3A/pythonProjects/SATS-2.ipynb#Y140sZmlsZQ%3D%3D?line=8'>9</a>\u001b[0m \u001b[39mfor\u001b[39;00m i, vals \u001b[39min\u001b[39;00m \u001b[39menumerate\u001b[39m(data):\n\u001b[1;32m---> <a href='vscode-notebook-cell:/e%3A/pythonProjects/SATS-2.ipynb#Y140sZmlsZQ%3D%3D?line=9'>10</a>\u001b[0m     ax\u001b[39m.\u001b[39mtext(positions[i], np\u001b[39m.\u001b[39;49mmin(vals), \u001b[39mf\u001b[39m\u001b[39m'\u001b[39m\u001b[39mMin = \u001b[39m\u001b[39m{\u001b[39;00mnp\u001b[39m.\u001b[39mmin(vals)\u001b[39m:\u001b[39;00m\u001b[39m.2f\u001b[39m\u001b[39m}\u001b[39;00m\u001b[39m'\u001b[39m, ha\u001b[39m=\u001b[39m\u001b[39m'\u001b[39m\u001b[39mcenter\u001b[39m\u001b[39m'\u001b[39m, fontsize\u001b[39m=\u001b[39m\u001b[39m8\u001b[39m)\n\u001b[0;32m     <a href='vscode-notebook-cell:/e%3A/pythonProjects/SATS-2.ipynb#Y140sZmlsZQ%3D%3D?line=10'>11</a>\u001b[0m     ax\u001b[39m.\u001b[39mtext(positions[i], np\u001b[39m.\u001b[39mmedian(vals), \u001b[39mf\u001b[39m\u001b[39m'\u001b[39m\u001b[39mMedian = \u001b[39m\u001b[39m{\u001b[39;00mnp\u001b[39m.\u001b[39mmedian(vals)\u001b[39m:\u001b[39;00m\u001b[39m.2f\u001b[39m\u001b[39m}\u001b[39;00m\u001b[39m'\u001b[39m, ha\u001b[39m=\u001b[39m\u001b[39m'\u001b[39m\u001b[39mcenter\u001b[39m\u001b[39m'\u001b[39m, fontsize\u001b[39m=\u001b[39m\u001b[39m8\u001b[39m)\n\u001b[0;32m     <a href='vscode-notebook-cell:/e%3A/pythonProjects/SATS-2.ipynb#Y140sZmlsZQ%3D%3D?line=11'>12</a>\u001b[0m     ax\u001b[39m.\u001b[39mtext(positions[i], np\u001b[39m.\u001b[39mmax(vals), \u001b[39mf\u001b[39m\u001b[39m'\u001b[39m\u001b[39mMax = \u001b[39m\u001b[39m{\u001b[39;00mnp\u001b[39m.\u001b[39mmax(vals)\u001b[39m:\u001b[39;00m\u001b[39m.2f\u001b[39m\u001b[39m}\u001b[39;00m\u001b[39m'\u001b[39m, ha\u001b[39m=\u001b[39m\u001b[39m'\u001b[39m\u001b[39mcenter\u001b[39m\u001b[39m'\u001b[39m, fontsize\u001b[39m=\u001b[39m\u001b[39m8\u001b[39m)\n",
      "File \u001b[1;32m<__array_function__ internals>:180\u001b[0m, in \u001b[0;36mamin\u001b[1;34m(*args, **kwargs)\u001b[0m\n",
      "File \u001b[1;32mc:\\Users\\user\\AppData\\Local\\Programs\\Python\\Python310\\lib\\site-packages\\numpy\\core\\fromnumeric.py:2918\u001b[0m, in \u001b[0;36mamin\u001b[1;34m(a, axis, out, keepdims, initial, where)\u001b[0m\n\u001b[0;32m   2802\u001b[0m \u001b[39m@array_function_dispatch\u001b[39m(_amin_dispatcher)\n\u001b[0;32m   2803\u001b[0m \u001b[39mdef\u001b[39;00m \u001b[39mamin\u001b[39m(a, axis\u001b[39m=\u001b[39m\u001b[39mNone\u001b[39;00m, out\u001b[39m=\u001b[39m\u001b[39mNone\u001b[39;00m, keepdims\u001b[39m=\u001b[39mnp\u001b[39m.\u001b[39m_NoValue, initial\u001b[39m=\u001b[39mnp\u001b[39m.\u001b[39m_NoValue,\n\u001b[0;32m   2804\u001b[0m          where\u001b[39m=\u001b[39mnp\u001b[39m.\u001b[39m_NoValue):\n\u001b[0;32m   2805\u001b[0m     \u001b[39m\"\"\"\u001b[39;00m\n\u001b[0;32m   2806\u001b[0m \u001b[39m    Return the minimum of an array or minimum along an axis.\u001b[39;00m\n\u001b[0;32m   2807\u001b[0m \n\u001b[1;32m   (...)\u001b[0m\n\u001b[0;32m   2916\u001b[0m \u001b[39m    6\u001b[39;00m\n\u001b[0;32m   2917\u001b[0m \u001b[39m    \"\"\"\u001b[39;00m\n\u001b[1;32m-> 2918\u001b[0m     \u001b[39mreturn\u001b[39;00m _wrapreduction(a, np\u001b[39m.\u001b[39;49mminimum, \u001b[39m'\u001b[39;49m\u001b[39mmin\u001b[39;49m\u001b[39m'\u001b[39;49m, axis, \u001b[39mNone\u001b[39;49;00m, out,\n\u001b[0;32m   2919\u001b[0m                           keepdims\u001b[39m=\u001b[39;49mkeepdims, initial\u001b[39m=\u001b[39;49minitial, where\u001b[39m=\u001b[39;49mwhere)\n",
      "File \u001b[1;32mc:\\Users\\user\\AppData\\Local\\Programs\\Python\\Python310\\lib\\site-packages\\numpy\\core\\fromnumeric.py:84\u001b[0m, in \u001b[0;36m_wrapreduction\u001b[1;34m(obj, ufunc, method, axis, dtype, out, **kwargs)\u001b[0m\n\u001b[0;32m     82\u001b[0m             \u001b[39mreturn\u001b[39;00m reduction(axis\u001b[39m=\u001b[39maxis, dtype\u001b[39m=\u001b[39mdtype, out\u001b[39m=\u001b[39mout, \u001b[39m*\u001b[39m\u001b[39m*\u001b[39mpasskwargs)\n\u001b[0;32m     83\u001b[0m         \u001b[39melse\u001b[39;00m:\n\u001b[1;32m---> 84\u001b[0m             \u001b[39mreturn\u001b[39;00m reduction(axis\u001b[39m=\u001b[39maxis, out\u001b[39m=\u001b[39mout, \u001b[39m*\u001b[39m\u001b[39m*\u001b[39mpasskwargs)\n\u001b[0;32m     86\u001b[0m \u001b[39mreturn\u001b[39;00m ufunc\u001b[39m.\u001b[39mreduce(obj, axis, dtype, out, \u001b[39m*\u001b[39m\u001b[39m*\u001b[39mpasskwargs)\n",
      "File \u001b[1;32mc:\\Users\\user\\AppData\\Local\\Programs\\Python\\Python310\\lib\\site-packages\\pandas\\core\\generic.py:11239\u001b[0m, in \u001b[0;36mNDFrame._add_numeric_operations.<locals>.min\u001b[1;34m(self, axis, skipna, level, numeric_only, **kwargs)\u001b[0m\n\u001b[0;32m  11219\u001b[0m \u001b[39m@doc\u001b[39m(  \u001b[39m# type: ignore[misc]\u001b[39;00m\n\u001b[0;32m  11220\u001b[0m     _num_doc,\n\u001b[0;32m  11221\u001b[0m     desc\u001b[39m=\u001b[39m\u001b[39m\"\u001b[39m\u001b[39mReturn the minimum of the values over the requested axis.\u001b[39m\u001b[39m\\n\u001b[39;00m\u001b[39m\\n\u001b[39;00m\u001b[39m\"\u001b[39m\n\u001b[1;32m   (...)\u001b[0m\n\u001b[0;32m  11237\u001b[0m     \u001b[39m*\u001b[39m\u001b[39m*\u001b[39mkwargs,\n\u001b[0;32m  11238\u001b[0m ):\n\u001b[1;32m> 11239\u001b[0m     \u001b[39mreturn\u001b[39;00m NDFrame\u001b[39m.\u001b[39mmin(\u001b[39mself\u001b[39m, axis, skipna, level, numeric_only, \u001b[39m*\u001b[39m\u001b[39m*\u001b[39mkwargs)\n",
      "File \u001b[1;32mc:\\Users\\user\\AppData\\Local\\Programs\\Python\\Python310\\lib\\site-packages\\pandas\\core\\generic.py:10653\u001b[0m, in \u001b[0;36mNDFrame.min\u001b[1;34m(self, axis, skipna, level, numeric_only, **kwargs)\u001b[0m\n\u001b[0;32m  10645\u001b[0m \u001b[39mdef\u001b[39;00m \u001b[39mmin\u001b[39m(\n\u001b[0;32m  10646\u001b[0m     \u001b[39mself\u001b[39m,\n\u001b[0;32m  10647\u001b[0m     axis: Axis \u001b[39m|\u001b[39m \u001b[39mNone\u001b[39;00m \u001b[39m|\u001b[39m lib\u001b[39m.\u001b[39mNoDefault \u001b[39m=\u001b[39m lib\u001b[39m.\u001b[39mno_default,\n\u001b[1;32m   (...)\u001b[0m\n\u001b[0;32m  10651\u001b[0m     \u001b[39m*\u001b[39m\u001b[39m*\u001b[39mkwargs,\n\u001b[0;32m  10652\u001b[0m ):\n\u001b[1;32m> 10653\u001b[0m     \u001b[39mreturn\u001b[39;00m \u001b[39mself\u001b[39m\u001b[39m.\u001b[39m_stat_function(\n\u001b[0;32m  10654\u001b[0m         \u001b[39m\"\u001b[39m\u001b[39mmin\u001b[39m\u001b[39m\"\u001b[39m,\n\u001b[0;32m  10655\u001b[0m         nanops\u001b[39m.\u001b[39mnanmin,\n\u001b[0;32m  10656\u001b[0m         axis,\n\u001b[0;32m  10657\u001b[0m         skipna,\n\u001b[0;32m  10658\u001b[0m         level,\n\u001b[0;32m  10659\u001b[0m         numeric_only,\n\u001b[0;32m  10660\u001b[0m         \u001b[39m*\u001b[39m\u001b[39m*\u001b[39mkwargs,\n\u001b[0;32m  10661\u001b[0m     )\n",
      "File \u001b[1;32mc:\\Users\\user\\AppData\\Local\\Programs\\Python\\Python310\\lib\\site-packages\\pandas\\core\\generic.py:10641\u001b[0m, in \u001b[0;36mNDFrame._stat_function\u001b[1;34m(self, name, func, axis, skipna, level, numeric_only, **kwargs)\u001b[0m\n\u001b[0;32m  10631\u001b[0m     warnings\u001b[39m.\u001b[39mwarn(\n\u001b[0;32m  10632\u001b[0m         \u001b[39m\"\u001b[39m\u001b[39mUsing the level keyword in DataFrame and Series aggregations is \u001b[39m\u001b[39m\"\u001b[39m\n\u001b[0;32m  10633\u001b[0m         \u001b[39m\"\u001b[39m\u001b[39mdeprecated and will be removed in a future version. Use groupby \u001b[39m\u001b[39m\"\u001b[39m\n\u001b[1;32m   (...)\u001b[0m\n\u001b[0;32m  10636\u001b[0m         stacklevel\u001b[39m=\u001b[39mfind_stack_level(),\n\u001b[0;32m  10637\u001b[0m     )\n\u001b[0;32m  10638\u001b[0m     \u001b[39mreturn\u001b[39;00m \u001b[39mself\u001b[39m\u001b[39m.\u001b[39m_agg_by_level(\n\u001b[0;32m  10639\u001b[0m         name, axis\u001b[39m=\u001b[39maxis, level\u001b[39m=\u001b[39mlevel, skipna\u001b[39m=\u001b[39mskipna, numeric_only\u001b[39m=\u001b[39mnumeric_only\n\u001b[0;32m  10640\u001b[0m     )\n\u001b[1;32m> 10641\u001b[0m \u001b[39mreturn\u001b[39;00m \u001b[39mself\u001b[39;49m\u001b[39m.\u001b[39;49m_reduce(\n\u001b[0;32m  10642\u001b[0m     func, name\u001b[39m=\u001b[39;49mname, axis\u001b[39m=\u001b[39;49maxis, skipna\u001b[39m=\u001b[39;49mskipna, numeric_only\u001b[39m=\u001b[39;49mnumeric_only\n\u001b[0;32m  10643\u001b[0m )\n",
      "File \u001b[1;32mc:\\Users\\user\\AppData\\Local\\Programs\\Python\\Python310\\lib\\site-packages\\pandas\\core\\series.py:4471\u001b[0m, in \u001b[0;36mSeries._reduce\u001b[1;34m(self, op, name, axis, skipna, numeric_only, filter_type, **kwds)\u001b[0m\n\u001b[0;32m   4467\u001b[0m     \u001b[39mraise\u001b[39;00m \u001b[39mNotImplementedError\u001b[39;00m(\n\u001b[0;32m   4468\u001b[0m         \u001b[39mf\u001b[39m\u001b[39m\"\u001b[39m\u001b[39mSeries.\u001b[39m\u001b[39m{\u001b[39;00mname\u001b[39m}\u001b[39;00m\u001b[39m does not implement \u001b[39m\u001b[39m{\u001b[39;00mkwd_name\u001b[39m}\u001b[39;00m\u001b[39m.\u001b[39m\u001b[39m\"\u001b[39m\n\u001b[0;32m   4469\u001b[0m     )\n\u001b[0;32m   4470\u001b[0m \u001b[39mwith\u001b[39;00m np\u001b[39m.\u001b[39merrstate(\u001b[39mall\u001b[39m\u001b[39m=\u001b[39m\u001b[39m\"\u001b[39m\u001b[39mignore\u001b[39m\u001b[39m\"\u001b[39m):\n\u001b[1;32m-> 4471\u001b[0m     \u001b[39mreturn\u001b[39;00m op(delegate, skipna\u001b[39m=\u001b[39mskipna, \u001b[39m*\u001b[39m\u001b[39m*\u001b[39mkwds)\n",
      "File \u001b[1;32mc:\\Users\\user\\AppData\\Local\\Programs\\Python\\Python310\\lib\\site-packages\\pandas\\core\\nanops.py:155\u001b[0m, in \u001b[0;36mbottleneck_switch.__call__.<locals>.f\u001b[1;34m(values, axis, skipna, **kwds)\u001b[0m\n\u001b[0;32m    153\u001b[0m         result \u001b[39m=\u001b[39m alt(values, axis\u001b[39m=\u001b[39maxis, skipna\u001b[39m=\u001b[39mskipna, \u001b[39m*\u001b[39m\u001b[39m*\u001b[39mkwds)\n\u001b[0;32m    154\u001b[0m \u001b[39melse\u001b[39;00m:\n\u001b[1;32m--> 155\u001b[0m     result \u001b[39m=\u001b[39m alt(values, axis\u001b[39m=\u001b[39maxis, skipna\u001b[39m=\u001b[39mskipna, \u001b[39m*\u001b[39m\u001b[39m*\u001b[39mkwds)\n\u001b[0;32m    157\u001b[0m \u001b[39mreturn\u001b[39;00m result\n",
      "File \u001b[1;32mc:\\Users\\user\\AppData\\Local\\Programs\\Python\\Python310\\lib\\site-packages\\pandas\\core\\nanops.py:410\u001b[0m, in \u001b[0;36m_datetimelike_compat.<locals>.new_func\u001b[1;34m(values, axis, skipna, mask, **kwargs)\u001b[0m\n\u001b[0;32m    407\u001b[0m \u001b[39mif\u001b[39;00m datetimelike \u001b[39mand\u001b[39;00m mask \u001b[39mis\u001b[39;00m \u001b[39mNone\u001b[39;00m:\n\u001b[0;32m    408\u001b[0m     mask \u001b[39m=\u001b[39m isna(values)\n\u001b[1;32m--> 410\u001b[0m result \u001b[39m=\u001b[39m func(values, axis\u001b[39m=\u001b[39maxis, skipna\u001b[39m=\u001b[39mskipna, mask\u001b[39m=\u001b[39mmask, \u001b[39m*\u001b[39m\u001b[39m*\u001b[39mkwargs)\n\u001b[0;32m    412\u001b[0m \u001b[39mif\u001b[39;00m datetimelike:\n\u001b[0;32m    413\u001b[0m     result \u001b[39m=\u001b[39m _wrap_results(result, orig_values\u001b[39m.\u001b[39mdtype, fill_value\u001b[39m=\u001b[39miNaT)\n",
      "File \u001b[1;32mc:\\Users\\user\\AppData\\Local\\Programs\\Python\\Python310\\lib\\site-packages\\pandas\\core\\nanops.py:1043\u001b[0m, in \u001b[0;36m_nanminmax.<locals>.reduction\u001b[1;34m(values, axis, skipna, mask)\u001b[0m\n\u001b[0;32m   1041\u001b[0m         result \u001b[39m=\u001b[39m np\u001b[39m.\u001b[39mnan\n\u001b[0;32m   1042\u001b[0m \u001b[39melse\u001b[39;00m:\n\u001b[1;32m-> 1043\u001b[0m     result \u001b[39m=\u001b[39m \u001b[39mgetattr\u001b[39;49m(values, meth)(axis)\n\u001b[0;32m   1045\u001b[0m result \u001b[39m=\u001b[39m _maybe_null_out(result, axis, mask, values\u001b[39m.\u001b[39mshape)\n\u001b[0;32m   1046\u001b[0m \u001b[39mreturn\u001b[39;00m result\n",
      "File \u001b[1;32mc:\\Users\\user\\AppData\\Local\\Programs\\Python\\Python310\\lib\\site-packages\\numpy\\core\\_methods.py:44\u001b[0m, in \u001b[0;36m_amin\u001b[1;34m(a, axis, out, keepdims, initial, where)\u001b[0m\n\u001b[0;32m     42\u001b[0m \u001b[39mdef\u001b[39;00m \u001b[39m_amin\u001b[39m(a, axis\u001b[39m=\u001b[39m\u001b[39mNone\u001b[39;00m, out\u001b[39m=\u001b[39m\u001b[39mNone\u001b[39;00m, keepdims\u001b[39m=\u001b[39m\u001b[39mFalse\u001b[39;00m,\n\u001b[0;32m     43\u001b[0m           initial\u001b[39m=\u001b[39m_NoValue, where\u001b[39m=\u001b[39m\u001b[39mTrue\u001b[39;00m):\n\u001b[1;32m---> 44\u001b[0m     \u001b[39mreturn\u001b[39;00m umr_minimum(a, axis, \u001b[39mNone\u001b[39;49;00m, out, keepdims, initial, where)\n",
      "\u001b[1;31mValueError\u001b[0m: operands could not be broadcast together with shapes (4533,) (4092,) "
     ]
    },
    {
     "data": {
      "image/png": "[encoded data removed]",
      "text/plain": [
       "<Figure size 432x288 with 1 Axes>"
      ]
     },
     "metadata": {
      "needs_background": "light"
     },
     "output_type": "display_data"
    }
   ],
   "source": [
    "import numpy as np\n",
    "import matplotlib.pyplot as plt\n",
    "\n",
    "# Define a function to add labels to each violin plot\n",
    "def add_labels(ax, data):\n",
    "    positions = np.arange(len(data))\n",
    "    if isinstance(data, pd.Series):\n",
    "        data = [data]\n",
    "    for i, vals in enumerate(data):\n",
    "        ax.text(positions[i], np.min(vals), f'Min = {np.min(vals):.2f}', ha='center', fontsize=8)\n",
    "        ax.text(positions[i], np.median(vals), f'Median = {np.median(vals):.2f}', ha='center', fontsize=8)\n",
    "        ax.text(positions[i], np.max(vals), f'Max = {np.max(vals):.2f}', ha='center', fontsize=8)\n",
    "\n",
    "# Create the violin plot\n",
    "ax = sns.violinplot(x='Total Staff', y='ntime', data=dfmerge1, \n",
    "                    showmeans=True, showmedians=True, showextrema=True)\n",
    "\n",
    "# Add labels to the plot\n",
    "df_grouped = dfmerge1.groupby('Total Staff')['ntime'].apply(list).apply(np.array)\n",
    "add_labels(ax, df_grouped)\n",
    "\n",
    "# Show the plot\n",
    "plt.show()\n"
   ]
  },
  {
   "cell_type": "code",
   "execution_count": 80,
   "metadata": {},
   "outputs": [
    {
     "data": {
      "text/plain": [
       "flightNumber            0\n",
       "Flight_date             0\n",
       "trip_number             0\n",
       "container_no            0\n",
       "Pick_up_Time            0\n",
       "drop_off_Time        2974\n",
       "Pick_up_Time_New        0\n",
       "drop_off_Time_New    2974\n",
       "Total Staff             0\n",
       "ET                      0\n",
       "ttime                   0\n",
       "ntime                   0\n",
       "dtype: int64"
      ]
     },
     "execution_count": 80,
     "metadata": {},
     "output_type": "execute_result"
    }
   ],
   "source": [
    "#  every column in data frame with null values:\n",
    "dfmerge1.isnull().sum()"
   ]
  },
  {
   "cell_type": "code",
   "execution_count": 81,
   "metadata": {},
   "outputs": [
    {
     "ename": "FileNotFoundError",
     "evalue": "[Errno 2] No such file or directory: 'data.csv'",
     "output_type": "error",
     "traceback": [
      "\u001b[1;31m---------------------------------------------------------------------------\u001b[0m",
      "\u001b[1;31mFileNotFoundError\u001b[0m                         Traceback (most recent call last)",
      "\u001b[1;32me:\\pythonProjects\\SATS-2.ipynb Cell 78\u001b[0m in \u001b[0;36m<cell line: 7>\u001b[1;34m()\u001b[0m\n\u001b[0;32m      <a href='vscode-notebook-cell:/e%3A/pythonProjects/SATS-2.ipynb#Y142sZmlsZQ%3D%3D?line=3'>4</a>\u001b[0m \u001b[39mimport\u001b[39;00m \u001b[39mmatplotlib\u001b[39;00m\u001b[39m.\u001b[39;00m\u001b[39mpyplot\u001b[39;00m \u001b[39mas\u001b[39;00m \u001b[39mplt\u001b[39;00m\n\u001b[0;32m      <a href='vscode-notebook-cell:/e%3A/pythonProjects/SATS-2.ipynb#Y142sZmlsZQ%3D%3D?line=5'>6</a>\u001b[0m \u001b[39m# Load data into a pandas DataFrame\u001b[39;00m\n\u001b[1;32m----> <a href='vscode-notebook-cell:/e%3A/pythonProjects/SATS-2.ipynb#Y142sZmlsZQ%3D%3D?line=6'>7</a>\u001b[0m df \u001b[39m=\u001b[39m pd\u001b[39m.\u001b[39;49mread_csv(\u001b[39m'\u001b[39;49m\u001b[39mdata.csv\u001b[39;49m\u001b[39m'\u001b[39;49m)\n\u001b[0;32m      <a href='vscode-notebook-cell:/e%3A/pythonProjects/SATS-2.ipynb#Y142sZmlsZQ%3D%3D?line=8'>9</a>\u001b[0m \u001b[39m# Group data by 'Total Staff' column\u001b[39;00m\n\u001b[0;32m     <a href='vscode-notebook-cell:/e%3A/pythonProjects/SATS-2.ipynb#Y142sZmlsZQ%3D%3D?line=9'>10</a>\u001b[0m df_grouped \u001b[39m=\u001b[39m df\u001b[39m.\u001b[39mgroupby(\u001b[39m'\u001b[39m\u001b[39mTotal Staff\u001b[39m\u001b[39m'\u001b[39m)[\u001b[39m'\u001b[39m\u001b[39mntime\u001b[39m\u001b[39m'\u001b[39m]\u001b[39m.\u001b[39mapply(\u001b[39mlist\u001b[39m)\n",
      "File \u001b[1;32mc:\\Users\\user\\AppData\\Local\\Programs\\Python\\Python310\\lib\\site-packages\\pandas\\util\\_decorators.py:311\u001b[0m, in \u001b[0;36mdeprecate_nonkeyword_arguments.<locals>.decorate.<locals>.wrapper\u001b[1;34m(*args, **kwargs)\u001b[0m\n\u001b[0;32m    305\u001b[0m \u001b[39mif\u001b[39;00m \u001b[39mlen\u001b[39m(args) \u001b[39m>\u001b[39m num_allow_args:\n\u001b[0;32m    306\u001b[0m     warnings\u001b[39m.\u001b[39mwarn(\n\u001b[0;32m    307\u001b[0m         msg\u001b[39m.\u001b[39mformat(arguments\u001b[39m=\u001b[39marguments),\n\u001b[0;32m    308\u001b[0m         \u001b[39mFutureWarning\u001b[39;00m,\n\u001b[0;32m    309\u001b[0m         stacklevel\u001b[39m=\u001b[39mstacklevel,\n\u001b[0;32m    310\u001b[0m     )\n\u001b[1;32m--> 311\u001b[0m \u001b[39mreturn\u001b[39;00m func(\u001b[39m*\u001b[39margs, \u001b[39m*\u001b[39m\u001b[39m*\u001b[39mkwargs)\n",
      "File \u001b[1;32mc:\\Users\\user\\AppData\\Local\\Programs\\Python\\Python310\\lib\\site-packages\\pandas\\io\\parsers\\readers.py:680\u001b[0m, in \u001b[0;36mread_csv\u001b[1;34m(filepath_or_buffer, sep, delimiter, header, names, index_col, usecols, squeeze, prefix, mangle_dupe_cols, dtype, engine, converters, true_values, false_values, skipinitialspace, skiprows, skipfooter, nrows, na_values, keep_default_na, na_filter, verbose, skip_blank_lines, parse_dates, infer_datetime_format, keep_date_col, date_parser, dayfirst, cache_dates, iterator, chunksize, compression, thousands, decimal, lineterminator, quotechar, quoting, doublequote, escapechar, comment, encoding, encoding_errors, dialect, error_bad_lines, warn_bad_lines, on_bad_lines, delim_whitespace, low_memory, memory_map, float_precision, storage_options)\u001b[0m\n\u001b[0;32m    665\u001b[0m kwds_defaults \u001b[39m=\u001b[39m _refine_defaults_read(\n\u001b[0;32m    666\u001b[0m     dialect,\n\u001b[0;32m    667\u001b[0m     delimiter,\n\u001b[1;32m   (...)\u001b[0m\n\u001b[0;32m    676\u001b[0m     defaults\u001b[39m=\u001b[39m{\u001b[39m\"\u001b[39m\u001b[39mdelimiter\u001b[39m\u001b[39m\"\u001b[39m: \u001b[39m\"\u001b[39m\u001b[39m,\u001b[39m\u001b[39m\"\u001b[39m},\n\u001b[0;32m    677\u001b[0m )\n\u001b[0;32m    678\u001b[0m kwds\u001b[39m.\u001b[39mupdate(kwds_defaults)\n\u001b[1;32m--> 680\u001b[0m \u001b[39mreturn\u001b[39;00m _read(filepath_or_buffer, kwds)\n",
      "File \u001b[1;32mc:\\Users\\user\\AppData\\Local\\Programs\\Python\\Python310\\lib\\site-packages\\pandas\\io\\parsers\\readers.py:575\u001b[0m, in \u001b[0;36m_read\u001b[1;34m(filepath_or_buffer, kwds)\u001b[0m\n\u001b[0;32m    572\u001b[0m _validate_names(kwds\u001b[39m.\u001b[39mget(\u001b[39m\"\u001b[39m\u001b[39mnames\u001b[39m\u001b[39m\"\u001b[39m, \u001b[39mNone\u001b[39;00m))\n\u001b[0;32m    574\u001b[0m \u001b[39m# Create the parser.\u001b[39;00m\n\u001b[1;32m--> 575\u001b[0m parser \u001b[39m=\u001b[39m TextFileReader(filepath_or_buffer, \u001b[39m*\u001b[39m\u001b[39m*\u001b[39mkwds)\n\u001b[0;32m    577\u001b[0m \u001b[39mif\u001b[39;00m chunksize \u001b[39mor\u001b[39;00m iterator:\n\u001b[0;32m    578\u001b[0m     \u001b[39mreturn\u001b[39;00m parser\n",
      "File \u001b[1;32mc:\\Users\\user\\AppData\\Local\\Programs\\Python\\Python310\\lib\\site-packages\\pandas\\io\\parsers\\readers.py:934\u001b[0m, in \u001b[0;36mTextFileReader.__init__\u001b[1;34m(self, f, engine, **kwds)\u001b[0m\n\u001b[0;32m    931\u001b[0m     \u001b[39mself\u001b[39m\u001b[39m.\u001b[39moptions[\u001b[39m\"\u001b[39m\u001b[39mhas_index_names\u001b[39m\u001b[39m\"\u001b[39m] \u001b[39m=\u001b[39m kwds[\u001b[39m\"\u001b[39m\u001b[39mhas_index_names\u001b[39m\u001b[39m\"\u001b[39m]\n\u001b[0;32m    933\u001b[0m \u001b[39mself\u001b[39m\u001b[39m.\u001b[39mhandles: IOHandles \u001b[39m|\u001b[39m \u001b[39mNone\u001b[39;00m \u001b[39m=\u001b[39m \u001b[39mNone\u001b[39;00m\n\u001b[1;32m--> 934\u001b[0m \u001b[39mself\u001b[39m\u001b[39m.\u001b[39m_engine \u001b[39m=\u001b[39m \u001b[39mself\u001b[39;49m\u001b[39m.\u001b[39;49m_make_engine(f, \u001b[39mself\u001b[39;49m\u001b[39m.\u001b[39;49mengine)\n",
      "File \u001b[1;32mc:\\Users\\user\\AppData\\Local\\Programs\\Python\\Python310\\lib\\site-packages\\pandas\\io\\parsers\\readers.py:1218\u001b[0m, in \u001b[0;36mTextFileReader._make_engine\u001b[1;34m(self, f, engine)\u001b[0m\n\u001b[0;32m   1214\u001b[0m     mode \u001b[39m=\u001b[39m \u001b[39m\"\u001b[39m\u001b[39mrb\u001b[39m\u001b[39m\"\u001b[39m\n\u001b[0;32m   1215\u001b[0m \u001b[39m# error: No overload variant of \"get_handle\" matches argument types\u001b[39;00m\n\u001b[0;32m   1216\u001b[0m \u001b[39m# \"Union[str, PathLike[str], ReadCsvBuffer[bytes], ReadCsvBuffer[str]]\"\u001b[39;00m\n\u001b[0;32m   1217\u001b[0m \u001b[39m# , \"str\", \"bool\", \"Any\", \"Any\", \"Any\", \"Any\", \"Any\"\u001b[39;00m\n\u001b[1;32m-> 1218\u001b[0m \u001b[39mself\u001b[39m\u001b[39m.\u001b[39mhandles \u001b[39m=\u001b[39m get_handle(  \u001b[39m# type: ignore[call-overload]\u001b[39;49;00m\n\u001b[0;32m   1219\u001b[0m     f,\n\u001b[0;32m   1220\u001b[0m     mode,\n\u001b[0;32m   1221\u001b[0m     encoding\u001b[39m=\u001b[39;49m\u001b[39mself\u001b[39;49m\u001b[39m.\u001b[39;49moptions\u001b[39m.\u001b[39;49mget(\u001b[39m\"\u001b[39;49m\u001b[39mencoding\u001b[39;49m\u001b[39m\"\u001b[39;49m, \u001b[39mNone\u001b[39;49;00m),\n\u001b[0;32m   1222\u001b[0m     compression\u001b[39m=\u001b[39;49m\u001b[39mself\u001b[39;49m\u001b[39m.\u001b[39;49moptions\u001b[39m.\u001b[39;49mget(\u001b[39m\"\u001b[39;49m\u001b[39mcompression\u001b[39;49m\u001b[39m\"\u001b[39;49m, \u001b[39mNone\u001b[39;49;00m),\n\u001b[0;32m   1223\u001b[0m     memory_map\u001b[39m=\u001b[39;49m\u001b[39mself\u001b[39;49m\u001b[39m.\u001b[39;49moptions\u001b[39m.\u001b[39;49mget(\u001b[39m\"\u001b[39;49m\u001b[39mmemory_map\u001b[39;49m\u001b[39m\"\u001b[39;49m, \u001b[39mFalse\u001b[39;49;00m),\n\u001b[0;32m   1224\u001b[0m     is_text\u001b[39m=\u001b[39;49mis_text,\n\u001b[0;32m   1225\u001b[0m     errors\u001b[39m=\u001b[39;49m\u001b[39mself\u001b[39;49m\u001b[39m.\u001b[39;49moptions\u001b[39m.\u001b[39;49mget(\u001b[39m\"\u001b[39;49m\u001b[39mencoding_errors\u001b[39;49m\u001b[39m\"\u001b[39;49m, \u001b[39m\"\u001b[39;49m\u001b[39mstrict\u001b[39;49m\u001b[39m\"\u001b[39;49m),\n\u001b[0;32m   1226\u001b[0m     storage_options\u001b[39m=\u001b[39;49m\u001b[39mself\u001b[39;49m\u001b[39m.\u001b[39;49moptions\u001b[39m.\u001b[39;49mget(\u001b[39m\"\u001b[39;49m\u001b[39mstorage_options\u001b[39;49m\u001b[39m\"\u001b[39;49m, \u001b[39mNone\u001b[39;49;00m),\n\u001b[0;32m   1227\u001b[0m )\n\u001b[0;32m   1228\u001b[0m \u001b[39massert\u001b[39;00m \u001b[39mself\u001b[39m\u001b[39m.\u001b[39mhandles \u001b[39mis\u001b[39;00m \u001b[39mnot\u001b[39;00m \u001b[39mNone\u001b[39;00m\n\u001b[0;32m   1229\u001b[0m f \u001b[39m=\u001b[39m \u001b[39mself\u001b[39m\u001b[39m.\u001b[39mhandles\u001b[39m.\u001b[39mhandle\n",
      "File \u001b[1;32mc:\\Users\\user\\AppData\\Local\\Programs\\Python\\Python310\\lib\\site-packages\\pandas\\io\\common.py:786\u001b[0m, in \u001b[0;36mget_handle\u001b[1;34m(path_or_buf, mode, encoding, compression, memory_map, is_text, errors, storage_options)\u001b[0m\n\u001b[0;32m    781\u001b[0m \u001b[39melif\u001b[39;00m \u001b[39misinstance\u001b[39m(handle, \u001b[39mstr\u001b[39m):\n\u001b[0;32m    782\u001b[0m     \u001b[39m# Check whether the filename is to be opened in binary mode.\u001b[39;00m\n\u001b[0;32m    783\u001b[0m     \u001b[39m# Binary mode does not support 'encoding' and 'newline'.\u001b[39;00m\n\u001b[0;32m    784\u001b[0m     \u001b[39mif\u001b[39;00m ioargs\u001b[39m.\u001b[39mencoding \u001b[39mand\u001b[39;00m \u001b[39m\"\u001b[39m\u001b[39mb\u001b[39m\u001b[39m\"\u001b[39m \u001b[39mnot\u001b[39;00m \u001b[39min\u001b[39;00m ioargs\u001b[39m.\u001b[39mmode:\n\u001b[0;32m    785\u001b[0m         \u001b[39m# Encoding\u001b[39;00m\n\u001b[1;32m--> 786\u001b[0m         handle \u001b[39m=\u001b[39m \u001b[39mopen\u001b[39;49m(\n\u001b[0;32m    787\u001b[0m             handle,\n\u001b[0;32m    788\u001b[0m             ioargs\u001b[39m.\u001b[39;49mmode,\n\u001b[0;32m    789\u001b[0m             encoding\u001b[39m=\u001b[39;49mioargs\u001b[39m.\u001b[39;49mencoding,\n\u001b[0;32m    790\u001b[0m             errors\u001b[39m=\u001b[39;49merrors,\n\u001b[0;32m    791\u001b[0m             newline\u001b[39m=\u001b[39;49m\u001b[39m\"\u001b[39;49m\u001b[39m\"\u001b[39;49m,\n\u001b[0;32m    792\u001b[0m         )\n\u001b[0;32m    793\u001b[0m     \u001b[39melse\u001b[39;00m:\n\u001b[0;32m    794\u001b[0m         \u001b[39m# Binary mode\u001b[39;00m\n\u001b[0;32m    795\u001b[0m         handle \u001b[39m=\u001b[39m \u001b[39mopen\u001b[39m(handle, ioargs\u001b[39m.\u001b[39mmode)\n",
      "\u001b[1;31mFileNotFoundError\u001b[0m: [Errno 2] No such file or directory: 'data.csv'"
     ]
    }
   ],
   "source": [
    "import seaborn as sns\n",
    "import pandas as pd\n",
    "import numpy as np\n",
    "import matplotlib.pyplot as plt\n",
    "\n",
    "# Load data into a pandas DataFrame\n",
    "df = pd.read_csv('data.csv')\n",
    "\n",
    "# Group data by 'Total Staff' column\n",
    "df_grouped = df.groupby('Total Staff')['ntime'].apply(list)\n",
    "\n",
    "# Create the violin plot\n",
    "ax = sns.violinplot(x=df['Total Staff'], y=df['ntime'], \n",
    "                    order=df_grouped.index, \n",
    "                    showmeans=True, showmedians=True, showextrema=True)\n",
    "\n",
    "# Add text labels for minimum, median, and maximum values\n",
    "for i, col in enumerate(df_grouped.index):\n",
    "    vals = df_grouped.loc[col]\n",
    "    ax.text(i, np.min(vals), f'Min = {np.min(vals):.2f}', ha='center', fontsize=8)\n",
    "    ax.text(i, np.median(vals), f'Median = {np.median(vals):.2f}', ha='center', fontsize=8)\n",
    "    ax.text(i, np.max(vals), f'Max = {np.max(vals):.2f}', ha='center', fontsize=8)\n",
    "\n",
    "# Show the plot\n",
    "plt.show()\n"
   ]
  },
  {
   "cell_type": "code",
   "execution_count": 84,
   "metadata": {},
   "outputs": [],
   "source": [
    "import numpy as np\n",
    "import matplotlib.pyplot as plt\n",
    "\n",
    "# Define a function to add labels to each violin plot\n",
    "# Define a function to add labels to each violin plot\n",
    "def add_labels(ax, data):\n",
    "    data = data.to_frame()\n",
    "    positions = np.arange(len(data.columns))\n",
    "    for i, col in enumerate(data.columns):\n",
    "        vals = data[col]\n",
    "        ax.text(positions[i], np.min(vals), f'Min = {np.min(vals):.2f}', ha='center', fontsize=8)\n",
    "        ax.text(positions[i], np.median(vals), f'Median = {np.median(vals):.2f}', ha='center', fontsize=8)\n",
    "        ax.text(positions[i], np.max(vals), f'Max = {np.max(vals):.2f}', ha='center', fontsize=8)\n",
    "\n",
    "\n"
   ]
  },
  {
   "cell_type": "code",
   "execution_count": 86,
   "metadata": {},
   "outputs": [
    {
     "ename": "ValueError",
     "evalue": "operands could not be broadcast together with shapes (4533,) (4092,) ",
     "output_type": "error",
     "traceback": [
      "\u001b[1;31m---------------------------------------------------------------------------\u001b[0m",
      "\u001b[1;31mValueError\u001b[0m                                Traceback (most recent call last)",
      "\u001b[1;32me:\\pythonProjects\\SATS-2.ipynb Cell 80\u001b[0m in \u001b[0;36m<cell line: 9>\u001b[1;34m()\u001b[0m\n\u001b[0;32m      <a href='vscode-notebook-cell:/e%3A/pythonProjects/SATS-2.ipynb#Y144sZmlsZQ%3D%3D?line=5'>6</a>\u001b[0m ax\u001b[39m.\u001b[39mset_xticklabels(data\u001b[39m.\u001b[39mindex)\n\u001b[0;32m      <a href='vscode-notebook-cell:/e%3A/pythonProjects/SATS-2.ipynb#Y144sZmlsZQ%3D%3D?line=7'>8</a>\u001b[0m \u001b[39m# Add labels to the plot\u001b[39;00m\n\u001b[1;32m----> <a href='vscode-notebook-cell:/e%3A/pythonProjects/SATS-2.ipynb#Y144sZmlsZQ%3D%3D?line=8'>9</a>\u001b[0m add_labels(ax, data)\n\u001b[0;32m     <a href='vscode-notebook-cell:/e%3A/pythonProjects/SATS-2.ipynb#Y144sZmlsZQ%3D%3D?line=10'>11</a>\u001b[0m \u001b[39m# Show the plot\u001b[39;00m\n\u001b[0;32m     <a href='vscode-notebook-cell:/e%3A/pythonProjects/SATS-2.ipynb#Y144sZmlsZQ%3D%3D?line=11'>12</a>\u001b[0m plt\u001b[39m.\u001b[39mshow()\n",
      "\u001b[1;32me:\\pythonProjects\\SATS-2.ipynb Cell 80\u001b[0m in \u001b[0;36madd_labels\u001b[1;34m(ax, data)\u001b[0m\n\u001b[0;32m      <a href='vscode-notebook-cell:/e%3A/pythonProjects/SATS-2.ipynb#Y144sZmlsZQ%3D%3D?line=8'>9</a>\u001b[0m \u001b[39mfor\u001b[39;00m i, col \u001b[39min\u001b[39;00m \u001b[39menumerate\u001b[39m(data\u001b[39m.\u001b[39mcolumns):\n\u001b[0;32m     <a href='vscode-notebook-cell:/e%3A/pythonProjects/SATS-2.ipynb#Y144sZmlsZQ%3D%3D?line=9'>10</a>\u001b[0m     vals \u001b[39m=\u001b[39m data[col]\n\u001b[1;32m---> <a href='vscode-notebook-cell:/e%3A/pythonProjects/SATS-2.ipynb#Y144sZmlsZQ%3D%3D?line=10'>11</a>\u001b[0m     ax\u001b[39m.\u001b[39mtext(positions[i], np\u001b[39m.\u001b[39;49mmin(vals), \u001b[39mf\u001b[39m\u001b[39m'\u001b[39m\u001b[39mMin = \u001b[39m\u001b[39m{\u001b[39;00mnp\u001b[39m.\u001b[39mmin(vals)\u001b[39m:\u001b[39;00m\u001b[39m.2f\u001b[39m\u001b[39m}\u001b[39;00m\u001b[39m'\u001b[39m, ha\u001b[39m=\u001b[39m\u001b[39m'\u001b[39m\u001b[39mcenter\u001b[39m\u001b[39m'\u001b[39m, fontsize\u001b[39m=\u001b[39m\u001b[39m8\u001b[39m)\n\u001b[0;32m     <a href='vscode-notebook-cell:/e%3A/pythonProjects/SATS-2.ipynb#Y144sZmlsZQ%3D%3D?line=11'>12</a>\u001b[0m     ax\u001b[39m.\u001b[39mtext(positions[i], np\u001b[39m.\u001b[39mmedian(vals), \u001b[39mf\u001b[39m\u001b[39m'\u001b[39m\u001b[39mMedian = \u001b[39m\u001b[39m{\u001b[39;00mnp\u001b[39m.\u001b[39mmedian(vals)\u001b[39m:\u001b[39;00m\u001b[39m.2f\u001b[39m\u001b[39m}\u001b[39;00m\u001b[39m'\u001b[39m, ha\u001b[39m=\u001b[39m\u001b[39m'\u001b[39m\u001b[39mcenter\u001b[39m\u001b[39m'\u001b[39m, fontsize\u001b[39m=\u001b[39m\u001b[39m8\u001b[39m)\n\u001b[0;32m     <a href='vscode-notebook-cell:/e%3A/pythonProjects/SATS-2.ipynb#Y144sZmlsZQ%3D%3D?line=12'>13</a>\u001b[0m     ax\u001b[39m.\u001b[39mtext(positions[i], np\u001b[39m.\u001b[39mmax(vals), \u001b[39mf\u001b[39m\u001b[39m'\u001b[39m\u001b[39mMax = \u001b[39m\u001b[39m{\u001b[39;00mnp\u001b[39m.\u001b[39mmax(vals)\u001b[39m:\u001b[39;00m\u001b[39m.2f\u001b[39m\u001b[39m}\u001b[39;00m\u001b[39m'\u001b[39m, ha\u001b[39m=\u001b[39m\u001b[39m'\u001b[39m\u001b[39mcenter\u001b[39m\u001b[39m'\u001b[39m, fontsize\u001b[39m=\u001b[39m\u001b[39m8\u001b[39m)\n",
      "File \u001b[1;32m<__array_function__ internals>:180\u001b[0m, in \u001b[0;36mamin\u001b[1;34m(*args, **kwargs)\u001b[0m\n",
      "File \u001b[1;32mc:\\Users\\user\\AppData\\Local\\Programs\\Python\\Python310\\lib\\site-packages\\numpy\\core\\fromnumeric.py:2918\u001b[0m, in \u001b[0;36mamin\u001b[1;34m(a, axis, out, keepdims, initial, where)\u001b[0m\n\u001b[0;32m   2802\u001b[0m \u001b[39m@array_function_dispatch\u001b[39m(_amin_dispatcher)\n\u001b[0;32m   2803\u001b[0m \u001b[39mdef\u001b[39;00m \u001b[39mamin\u001b[39m(a, axis\u001b[39m=\u001b[39m\u001b[39mNone\u001b[39;00m, out\u001b[39m=\u001b[39m\u001b[39mNone\u001b[39;00m, keepdims\u001b[39m=\u001b[39mnp\u001b[39m.\u001b[39m_NoValue, initial\u001b[39m=\u001b[39mnp\u001b[39m.\u001b[39m_NoValue,\n\u001b[0;32m   2804\u001b[0m          where\u001b[39m=\u001b[39mnp\u001b[39m.\u001b[39m_NoValue):\n\u001b[0;32m   2805\u001b[0m     \u001b[39m\"\"\"\u001b[39;00m\n\u001b[0;32m   2806\u001b[0m \u001b[39m    Return the minimum of an array or minimum along an axis.\u001b[39;00m\n\u001b[0;32m   2807\u001b[0m \n\u001b[1;32m   (...)\u001b[0m\n\u001b[0;32m   2916\u001b[0m \u001b[39m    6\u001b[39;00m\n\u001b[0;32m   2917\u001b[0m \u001b[39m    \"\"\"\u001b[39;00m\n\u001b[1;32m-> 2918\u001b[0m     \u001b[39mreturn\u001b[39;00m _wrapreduction(a, np\u001b[39m.\u001b[39;49mminimum, \u001b[39m'\u001b[39;49m\u001b[39mmin\u001b[39;49m\u001b[39m'\u001b[39;49m, axis, \u001b[39mNone\u001b[39;49;00m, out,\n\u001b[0;32m   2919\u001b[0m                           keepdims\u001b[39m=\u001b[39;49mkeepdims, initial\u001b[39m=\u001b[39;49minitial, where\u001b[39m=\u001b[39;49mwhere)\n",
      "File \u001b[1;32mc:\\Users\\user\\AppData\\Local\\Programs\\Python\\Python310\\lib\\site-packages\\numpy\\core\\fromnumeric.py:84\u001b[0m, in \u001b[0;36m_wrapreduction\u001b[1;34m(obj, ufunc, method, axis, dtype, out, **kwargs)\u001b[0m\n\u001b[0;32m     82\u001b[0m             \u001b[39mreturn\u001b[39;00m reduction(axis\u001b[39m=\u001b[39maxis, dtype\u001b[39m=\u001b[39mdtype, out\u001b[39m=\u001b[39mout, \u001b[39m*\u001b[39m\u001b[39m*\u001b[39mpasskwargs)\n\u001b[0;32m     83\u001b[0m         \u001b[39melse\u001b[39;00m:\n\u001b[1;32m---> 84\u001b[0m             \u001b[39mreturn\u001b[39;00m reduction(axis\u001b[39m=\u001b[39maxis, out\u001b[39m=\u001b[39mout, \u001b[39m*\u001b[39m\u001b[39m*\u001b[39mpasskwargs)\n\u001b[0;32m     86\u001b[0m \u001b[39mreturn\u001b[39;00m ufunc\u001b[39m.\u001b[39mreduce(obj, axis, dtype, out, \u001b[39m*\u001b[39m\u001b[39m*\u001b[39mpasskwargs)\n",
      "File \u001b[1;32mc:\\Users\\user\\AppData\\Local\\Programs\\Python\\Python310\\lib\\site-packages\\pandas\\core\\generic.py:11239\u001b[0m, in \u001b[0;36mNDFrame._add_numeric_operations.<locals>.min\u001b[1;34m(self, axis, skipna, level, numeric_only, **kwargs)\u001b[0m\n\u001b[0;32m  11219\u001b[0m \u001b[39m@doc\u001b[39m(  \u001b[39m# type: ignore[misc]\u001b[39;00m\n\u001b[0;32m  11220\u001b[0m     _num_doc,\n\u001b[0;32m  11221\u001b[0m     desc\u001b[39m=\u001b[39m\u001b[39m\"\u001b[39m\u001b[39mReturn the minimum of the values over the requested axis.\u001b[39m\u001b[39m\\n\u001b[39;00m\u001b[39m\\n\u001b[39;00m\u001b[39m\"\u001b[39m\n\u001b[1;32m   (...)\u001b[0m\n\u001b[0;32m  11237\u001b[0m     \u001b[39m*\u001b[39m\u001b[39m*\u001b[39mkwargs,\n\u001b[0;32m  11238\u001b[0m ):\n\u001b[1;32m> 11239\u001b[0m     \u001b[39mreturn\u001b[39;00m NDFrame\u001b[39m.\u001b[39mmin(\u001b[39mself\u001b[39m, axis, skipna, level, numeric_only, \u001b[39m*\u001b[39m\u001b[39m*\u001b[39mkwargs)\n",
      "File \u001b[1;32mc:\\Users\\user\\AppData\\Local\\Programs\\Python\\Python310\\lib\\site-packages\\pandas\\core\\generic.py:10653\u001b[0m, in \u001b[0;36mNDFrame.min\u001b[1;34m(self, axis, skipna, level, numeric_only, **kwargs)\u001b[0m\n\u001b[0;32m  10645\u001b[0m \u001b[39mdef\u001b[39;00m \u001b[39mmin\u001b[39m(\n\u001b[0;32m  10646\u001b[0m     \u001b[39mself\u001b[39m,\n\u001b[0;32m  10647\u001b[0m     axis: Axis \u001b[39m|\u001b[39m \u001b[39mNone\u001b[39;00m \u001b[39m|\u001b[39m lib\u001b[39m.\u001b[39mNoDefault \u001b[39m=\u001b[39m lib\u001b[39m.\u001b[39mno_default,\n\u001b[1;32m   (...)\u001b[0m\n\u001b[0;32m  10651\u001b[0m     \u001b[39m*\u001b[39m\u001b[39m*\u001b[39mkwargs,\n\u001b[0;32m  10652\u001b[0m ):\n\u001b[1;32m> 10653\u001b[0m     \u001b[39mreturn\u001b[39;00m \u001b[39mself\u001b[39m\u001b[39m.\u001b[39m_stat_function(\n\u001b[0;32m  10654\u001b[0m         \u001b[39m\"\u001b[39m\u001b[39mmin\u001b[39m\u001b[39m\"\u001b[39m,\n\u001b[0;32m  10655\u001b[0m         nanops\u001b[39m.\u001b[39mnanmin,\n\u001b[0;32m  10656\u001b[0m         axis,\n\u001b[0;32m  10657\u001b[0m         skipna,\n\u001b[0;32m  10658\u001b[0m         level,\n\u001b[0;32m  10659\u001b[0m         numeric_only,\n\u001b[0;32m  10660\u001b[0m         \u001b[39m*\u001b[39m\u001b[39m*\u001b[39mkwargs,\n\u001b[0;32m  10661\u001b[0m     )\n",
      "File \u001b[1;32mc:\\Users\\user\\AppData\\Local\\Programs\\Python\\Python310\\lib\\site-packages\\pandas\\core\\generic.py:10641\u001b[0m, in \u001b[0;36mNDFrame._stat_function\u001b[1;34m(self, name, func, axis, skipna, level, numeric_only, **kwargs)\u001b[0m\n\u001b[0;32m  10631\u001b[0m     warnings\u001b[39m.\u001b[39mwarn(\n\u001b[0;32m  10632\u001b[0m         \u001b[39m\"\u001b[39m\u001b[39mUsing the level keyword in DataFrame and Series aggregations is \u001b[39m\u001b[39m\"\u001b[39m\n\u001b[0;32m  10633\u001b[0m         \u001b[39m\"\u001b[39m\u001b[39mdeprecated and will be removed in a future version. Use groupby \u001b[39m\u001b[39m\"\u001b[39m\n\u001b[1;32m   (...)\u001b[0m\n\u001b[0;32m  10636\u001b[0m         stacklevel\u001b[39m=\u001b[39mfind_stack_level(),\n\u001b[0;32m  10637\u001b[0m     )\n\u001b[0;32m  10638\u001b[0m     \u001b[39mreturn\u001b[39;00m \u001b[39mself\u001b[39m\u001b[39m.\u001b[39m_agg_by_level(\n\u001b[0;32m  10639\u001b[0m         name, axis\u001b[39m=\u001b[39maxis, level\u001b[39m=\u001b[39mlevel, skipna\u001b[39m=\u001b[39mskipna, numeric_only\u001b[39m=\u001b[39mnumeric_only\n\u001b[0;32m  10640\u001b[0m     )\n\u001b[1;32m> 10641\u001b[0m \u001b[39mreturn\u001b[39;00m \u001b[39mself\u001b[39;49m\u001b[39m.\u001b[39;49m_reduce(\n\u001b[0;32m  10642\u001b[0m     func, name\u001b[39m=\u001b[39;49mname, axis\u001b[39m=\u001b[39;49maxis, skipna\u001b[39m=\u001b[39;49mskipna, numeric_only\u001b[39m=\u001b[39;49mnumeric_only\n\u001b[0;32m  10643\u001b[0m )\n",
      "File \u001b[1;32mc:\\Users\\user\\AppData\\Local\\Programs\\Python\\Python310\\lib\\site-packages\\pandas\\core\\series.py:4471\u001b[0m, in \u001b[0;36mSeries._reduce\u001b[1;34m(self, op, name, axis, skipna, numeric_only, filter_type, **kwds)\u001b[0m\n\u001b[0;32m   4467\u001b[0m     \u001b[39mraise\u001b[39;00m \u001b[39mNotImplementedError\u001b[39;00m(\n\u001b[0;32m   4468\u001b[0m         \u001b[39mf\u001b[39m\u001b[39m\"\u001b[39m\u001b[39mSeries.\u001b[39m\u001b[39m{\u001b[39;00mname\u001b[39m}\u001b[39;00m\u001b[39m does not implement \u001b[39m\u001b[39m{\u001b[39;00mkwd_name\u001b[39m}\u001b[39;00m\u001b[39m.\u001b[39m\u001b[39m\"\u001b[39m\n\u001b[0;32m   4469\u001b[0m     )\n\u001b[0;32m   4470\u001b[0m \u001b[39mwith\u001b[39;00m np\u001b[39m.\u001b[39merrstate(\u001b[39mall\u001b[39m\u001b[39m=\u001b[39m\u001b[39m\"\u001b[39m\u001b[39mignore\u001b[39m\u001b[39m\"\u001b[39m):\n\u001b[1;32m-> 4471\u001b[0m     \u001b[39mreturn\u001b[39;00m op(delegate, skipna\u001b[39m=\u001b[39mskipna, \u001b[39m*\u001b[39m\u001b[39m*\u001b[39mkwds)\n",
      "File \u001b[1;32mc:\\Users\\user\\AppData\\Local\\Programs\\Python\\Python310\\lib\\site-packages\\pandas\\core\\nanops.py:155\u001b[0m, in \u001b[0;36mbottleneck_switch.__call__.<locals>.f\u001b[1;34m(values, axis, skipna, **kwds)\u001b[0m\n\u001b[0;32m    153\u001b[0m         result \u001b[39m=\u001b[39m alt(values, axis\u001b[39m=\u001b[39maxis, skipna\u001b[39m=\u001b[39mskipna, \u001b[39m*\u001b[39m\u001b[39m*\u001b[39mkwds)\n\u001b[0;32m    154\u001b[0m \u001b[39melse\u001b[39;00m:\n\u001b[1;32m--> 155\u001b[0m     result \u001b[39m=\u001b[39m alt(values, axis\u001b[39m=\u001b[39maxis, skipna\u001b[39m=\u001b[39mskipna, \u001b[39m*\u001b[39m\u001b[39m*\u001b[39mkwds)\n\u001b[0;32m    157\u001b[0m \u001b[39mreturn\u001b[39;00m result\n",
      "File \u001b[1;32mc:\\Users\\user\\AppData\\Local\\Programs\\Python\\Python310\\lib\\site-packages\\pandas\\core\\nanops.py:410\u001b[0m, in \u001b[0;36m_datetimelike_compat.<locals>.new_func\u001b[1;34m(values, axis, skipna, mask, **kwargs)\u001b[0m\n\u001b[0;32m    407\u001b[0m \u001b[39mif\u001b[39;00m datetimelike \u001b[39mand\u001b[39;00m mask \u001b[39mis\u001b[39;00m \u001b[39mNone\u001b[39;00m:\n\u001b[0;32m    408\u001b[0m     mask \u001b[39m=\u001b[39m isna(values)\n\u001b[1;32m--> 410\u001b[0m result \u001b[39m=\u001b[39m func(values, axis\u001b[39m=\u001b[39maxis, skipna\u001b[39m=\u001b[39mskipna, mask\u001b[39m=\u001b[39mmask, \u001b[39m*\u001b[39m\u001b[39m*\u001b[39mkwargs)\n\u001b[0;32m    412\u001b[0m \u001b[39mif\u001b[39;00m datetimelike:\n\u001b[0;32m    413\u001b[0m     result \u001b[39m=\u001b[39m _wrap_results(result, orig_values\u001b[39m.\u001b[39mdtype, fill_value\u001b[39m=\u001b[39miNaT)\n",
      "File \u001b[1;32mc:\\Users\\user\\AppData\\Local\\Programs\\Python\\Python310\\lib\\site-packages\\pandas\\core\\nanops.py:1043\u001b[0m, in \u001b[0;36m_nanminmax.<locals>.reduction\u001b[1;34m(values, axis, skipna, mask)\u001b[0m\n\u001b[0;32m   1041\u001b[0m         result \u001b[39m=\u001b[39m np\u001b[39m.\u001b[39mnan\n\u001b[0;32m   1042\u001b[0m \u001b[39melse\u001b[39;00m:\n\u001b[1;32m-> 1043\u001b[0m     result \u001b[39m=\u001b[39m \u001b[39mgetattr\u001b[39;49m(values, meth)(axis)\n\u001b[0;32m   1045\u001b[0m result \u001b[39m=\u001b[39m _maybe_null_out(result, axis, mask, values\u001b[39m.\u001b[39mshape)\n\u001b[0;32m   1046\u001b[0m \u001b[39mreturn\u001b[39;00m result\n",
      "File \u001b[1;32mc:\\Users\\user\\AppData\\Local\\Programs\\Python\\Python310\\lib\\site-packages\\numpy\\core\\_methods.py:44\u001b[0m, in \u001b[0;36m_amin\u001b[1;34m(a, axis, out, keepdims, initial, where)\u001b[0m\n\u001b[0;32m     42\u001b[0m \u001b[39mdef\u001b[39;00m \u001b[39m_amin\u001b[39m(a, axis\u001b[39m=\u001b[39m\u001b[39mNone\u001b[39;00m, out\u001b[39m=\u001b[39m\u001b[39mNone\u001b[39;00m, keepdims\u001b[39m=\u001b[39m\u001b[39mFalse\u001b[39;00m,\n\u001b[0;32m     43\u001b[0m           initial\u001b[39m=\u001b[39m_NoValue, where\u001b[39m=\u001b[39m\u001b[39mTrue\u001b[39;00m):\n\u001b[1;32m---> 44\u001b[0m     \u001b[39mreturn\u001b[39;00m umr_minimum(a, axis, \u001b[39mNone\u001b[39;49;00m, out, keepdims, initial, where)\n",
      "\u001b[1;31mValueError\u001b[0m: operands could not be broadcast together with shapes (4533,) (4092,) "
     ]
    },
    {
     "data": {
      "image/png": "[encoded data removed]",
      "text/plain": [
       "<Figure size 432x288 with 1 Axes>"
      ]
     },
     "metadata": {
      "needs_background": "light"
     },
     "output_type": "display_data"
    }
   ],
   "source": [
    "# Create the violin plot\n",
    "fig, ax = plt.subplots()\n",
    "data = dfmerge1.groupby('Total Staff')['ntime'].apply(list).apply(np.array)\n",
    "parts = ax.violinplot(data, showmeans=True, showmedians=True, showextrema=True)\n",
    "ax.set_xticks(np.arange(len(data))+1)\n",
    "ax.set_xticklabels(data.index)\n",
    "\n",
    "# Add labels to the plot\n",
    "add_labels(ax, data)\n",
    "\n",
    "# Show the plot\n",
    "plt.show()\n"
   ]
  },
  {
   "cell_type": "code",
   "execution_count": 87,
   "metadata": {},
   "outputs": [
    {
     "data": {
      "text/plain": [
       "(10612,)"
      ]
     },
     "execution_count": 87,
     "metadata": {},
     "output_type": "execute_result"
    }
   ],
   "source": [
    "dfmerge1['Total Staff'].shape"
   ]
  },
  {
   "cell_type": "code",
   "execution_count": 88,
   "metadata": {},
   "outputs": [
    {
     "data": {
      "text/plain": [
       "(10612,)"
      ]
     },
     "execution_count": 88,
     "metadata": {},
     "output_type": "execute_result"
    }
   ],
   "source": [
    "dfmerge1['ntime'].shape"
   ]
  },
  {
   "cell_type": "code",
   "execution_count": 93,
   "metadata": {},
   "outputs": [],
   "source": [
    "def add_labels(ax, data):\n",
    "    positions = np.arange(len(data))\n",
    "    ax.set_xticks(positions)\n",
    "    ax.set_xticklabels(data.index)\n",
    "    for i, val in enumerate(data):\n",
    "        ax.text(positions[i], np.min(val), f'Min = {np.min(val):.2f}', ha='center', fontsize=8)\n",
    "        ax.text(positions[i], np.median(val), f'Median = {np.median(val):.2f}', ha='center', fontsize=8)\n",
    "        ax.text(positions[i], np.max(val), f'Max = {np.max(val):.2f}', ha='center', fontsize=8)\n"
   ]
  },
  {
   "cell_type": "code",
   "execution_count": 95,
   "metadata": {},
   "outputs": [
    {
     "data": {
      "image/png": "[encoded data removed]",
      "text/plain": [
       "<Figure size 720x432 with 1 Axes>"
      ]
     },
     "metadata": {
      "needs_background": "light"
     },
     "output_type": "display_data"
    }
   ],
   "source": [
    "plt.figure(figsize=(10, 6))\n",
    "# Create the violin plot\n",
    "ax = sns.violinplot(x='Total Staff', y='ntime', data=dfmerge1, \n",
    "                    showmeans=True, showmedians=True, showextrema=True)\n",
    "\n",
    "# Add labels to the plot\n",
    "add_labels(ax, dfmerge1.groupby('Total Staff')['ntime'].apply(list).apply(np.array))\n",
    "ax.set_xlabel('Total Staff')\n",
    "ax.set_ylabel('Time (seconds)')\n",
    "\n",
    "# Set the title of the plot\n",
    "plt.title('Distribution of Time Taken by Total Staff')\n",
    "\n",
    "# Show the plot\n",
    "plt.show()\n",
    "# Show the plot\n",
    "plt.show()\n"
   ]
  },
  {
   "cell_type": "code",
   "execution_count": 91,
   "metadata": {},
   "outputs": [
    {
     "ename": "AttributeError",
     "evalue": "'Series' object has no attribute 'columns'",
     "output_type": "error",
     "traceback": [
      "\u001b[1;31m---------------------------------------------------------------------------\u001b[0m",
      "\u001b[1;31mAttributeError\u001b[0m                            Traceback (most recent call last)",
      "\u001b[1;32me:\\pythonProjects\\SATS-2.ipynb Cell 85\u001b[0m in \u001b[0;36m<cell line: 21>\u001b[1;34m()\u001b[0m\n\u001b[0;32m     <a href='vscode-notebook-cell:/e%3A/pythonProjects/SATS-2.ipynb#Y152sZmlsZQ%3D%3D?line=16'>17</a>\u001b[0m ax \u001b[39m=\u001b[39m sns\u001b[39m.\u001b[39mviolinplot(x\u001b[39m=\u001b[39m\u001b[39m'\u001b[39m\u001b[39mTotal Staff\u001b[39m\u001b[39m'\u001b[39m, y\u001b[39m=\u001b[39m\u001b[39m'\u001b[39m\u001b[39mntime\u001b[39m\u001b[39m'\u001b[39m, data\u001b[39m=\u001b[39mdfmerge1, \n\u001b[0;32m     <a href='vscode-notebook-cell:/e%3A/pythonProjects/SATS-2.ipynb#Y152sZmlsZQ%3D%3D?line=17'>18</a>\u001b[0m                     showmeans\u001b[39m=\u001b[39m\u001b[39mTrue\u001b[39;00m, showmedians\u001b[39m=\u001b[39m\u001b[39mTrue\u001b[39;00m, showextrema\u001b[39m=\u001b[39m\u001b[39mTrue\u001b[39;00m)\n\u001b[0;32m     <a href='vscode-notebook-cell:/e%3A/pythonProjects/SATS-2.ipynb#Y152sZmlsZQ%3D%3D?line=19'>20</a>\u001b[0m \u001b[39m# Add labels to the plot\u001b[39;00m\n\u001b[1;32m---> <a href='vscode-notebook-cell:/e%3A/pythonProjects/SATS-2.ipynb#Y152sZmlsZQ%3D%3D?line=20'>21</a>\u001b[0m add_labels(ax, dfmerge1\u001b[39m.\u001b[39;49mgroupby(\u001b[39m'\u001b[39;49m\u001b[39mTotal Staff\u001b[39;49m\u001b[39m'\u001b[39;49m)[\u001b[39m'\u001b[39;49m\u001b[39mntime\u001b[39;49m\u001b[39m'\u001b[39;49m]\u001b[39m.\u001b[39;49mapply(\u001b[39mlist\u001b[39;49m)\u001b[39m.\u001b[39;49mapply(np\u001b[39m.\u001b[39;49marray))\n\u001b[0;32m     <a href='vscode-notebook-cell:/e%3A/pythonProjects/SATS-2.ipynb#Y152sZmlsZQ%3D%3D?line=22'>23</a>\u001b[0m \u001b[39m# Set the x-axis and y-axis labels\u001b[39;00m\n\u001b[0;32m     <a href='vscode-notebook-cell:/e%3A/pythonProjects/SATS-2.ipynb#Y152sZmlsZQ%3D%3D?line=23'>24</a>\u001b[0m ax\u001b[39m.\u001b[39mset_xlabel(\u001b[39m'\u001b[39m\u001b[39mTotal Staff\u001b[39m\u001b[39m'\u001b[39m)\n",
      "\u001b[1;32me:\\pythonProjects\\SATS-2.ipynb Cell 85\u001b[0m in \u001b[0;36madd_labels\u001b[1;34m(ax, data)\u001b[0m\n\u001b[0;32m      <a href='vscode-notebook-cell:/e%3A/pythonProjects/SATS-2.ipynb#Y152sZmlsZQ%3D%3D?line=7'>8</a>\u001b[0m \u001b[39mdef\u001b[39;00m \u001b[39madd_labels\u001b[39m(ax, data):\n\u001b[1;32m----> <a href='vscode-notebook-cell:/e%3A/pythonProjects/SATS-2.ipynb#Y152sZmlsZQ%3D%3D?line=8'>9</a>\u001b[0m     positions \u001b[39m=\u001b[39m np\u001b[39m.\u001b[39marange(\u001b[39mlen\u001b[39m(data\u001b[39m.\u001b[39;49mcolumns))\n\u001b[0;32m     <a href='vscode-notebook-cell:/e%3A/pythonProjects/SATS-2.ipynb#Y152sZmlsZQ%3D%3D?line=9'>10</a>\u001b[0m     \u001b[39mfor\u001b[39;00m i, col \u001b[39min\u001b[39;00m \u001b[39menumerate\u001b[39m(data\u001b[39m.\u001b[39mcolumns):\n\u001b[0;32m     <a href='vscode-notebook-cell:/e%3A/pythonProjects/SATS-2.ipynb#Y152sZmlsZQ%3D%3D?line=10'>11</a>\u001b[0m         vals \u001b[39m=\u001b[39m data[col]\n",
      "File \u001b[1;32mc:\\Users\\user\\AppData\\Local\\Programs\\Python\\Python310\\lib\\site-packages\\pandas\\core\\generic.py:5575\u001b[0m, in \u001b[0;36mNDFrame.__getattr__\u001b[1;34m(self, name)\u001b[0m\n\u001b[0;32m   5568\u001b[0m \u001b[39mif\u001b[39;00m (\n\u001b[0;32m   5569\u001b[0m     name \u001b[39mnot\u001b[39;00m \u001b[39min\u001b[39;00m \u001b[39mself\u001b[39m\u001b[39m.\u001b[39m_internal_names_set\n\u001b[0;32m   5570\u001b[0m     \u001b[39mand\u001b[39;00m name \u001b[39mnot\u001b[39;00m \u001b[39min\u001b[39;00m \u001b[39mself\u001b[39m\u001b[39m.\u001b[39m_metadata\n\u001b[0;32m   5571\u001b[0m     \u001b[39mand\u001b[39;00m name \u001b[39mnot\u001b[39;00m \u001b[39min\u001b[39;00m \u001b[39mself\u001b[39m\u001b[39m.\u001b[39m_accessors\n\u001b[0;32m   5572\u001b[0m     \u001b[39mand\u001b[39;00m \u001b[39mself\u001b[39m\u001b[39m.\u001b[39m_info_axis\u001b[39m.\u001b[39m_can_hold_identifiers_and_holds_name(name)\n\u001b[0;32m   5573\u001b[0m ):\n\u001b[0;32m   5574\u001b[0m     \u001b[39mreturn\u001b[39;00m \u001b[39mself\u001b[39m[name]\n\u001b[1;32m-> 5575\u001b[0m \u001b[39mreturn\u001b[39;00m \u001b[39mobject\u001b[39;49m\u001b[39m.\u001b[39;49m\u001b[39m__getattribute__\u001b[39;49m(\u001b[39mself\u001b[39;49m, name)\n",
      "\u001b[1;31mAttributeError\u001b[0m: 'Series' object has no attribute 'columns'"
     ]
    },
    {
     "data": {
      "image/png": "[encoded data removed]",
      "text/plain": [
       "<Figure size 720x432 with 1 Axes>"
      ]
     },
     "metadata": {
      "needs_background": "light"
     },
     "output_type": "display_data"
    }
   ],
   "source": [
    "import numpy as np\n",
    "import matplotlib.pyplot as plt\n",
    "\n",
    "# Set the figure size\n",
    "plt.figure(figsize=(10, 6))\n",
    "\n",
    "# Define a function to add labels to each violin plot\n",
    "def add_labels(ax, data):\n",
    "    positions = np.arange(len(data))\n",
    "    for i, col in enumerate(data.columns):\n",
    "        vals = data[col]\n",
    "        ax.text(positions[i], np.min(vals), f'Min = {np.min(vals):.2f}', ha='center', fontsize=8)\n",
    "        ax.text(positions[i], np.median(vals), f'Median = {np.median(vals):.2f}', ha='center', fontsize=8)\n",
    "        ax.text(positions[i], np.max(vals), f'Max = {np.max(vals):.2f}', ha='center', fontsize=8)\n",
    "\n",
    "# Create the violin plot\n",
    "ax = sns.violinplot(x='Total Staff', y='ntime', data=dfmerge1, \n",
    "                    showmeans=True, showmedians=True, showextrema=True)\n",
    "\n",
    "# Add labels to the plot\n",
    "add_labels(ax, dfmerge1.groupby('Total Staff')['ntime'].apply(list).apply(np.array))\n",
    "\n",
    "# Set the x-axis and y-axis labels\n",
    "ax.set_xlabel('Total Staff')\n",
    "ax.set_ylabel('Time (seconds)')\n",
    "\n",
    "# Set the title of the plot\n",
    "plt.title('Distribution of Time Taken by Total Staff')\n",
    "\n",
    "# Show the plot\n",
    "plt.show()\n",
    "#  positions = np.arange(len(data))\n",
    "    # ax.set_xticks(positions)\n",
    "    # ax.set_xticklabels(data.index)\n",
    "    # for i, val in enumerate(data):\n"
   ]
  },
  {
   "cell_type": "code",
   "execution_count": 263,
   "metadata": {},
   "outputs": [
    {
     "data": {
      "image/png": "[encoded data removed]",
      "text/plain": [
       "<Figure size 432x288 with 1 Axes>"
      ]
     },
     "metadata": {
      "needs_background": "light"
     },
     "output_type": "display_data"
    }
   ],
   "source": [
    "#  drwaw an underfitting graph with training accuracy and validation accuracy:\n",
    "import numpy as np\n",
    "import matplotlib.pyplot as plt\n",
    "\n",
    "# Generate some random data\n",
    "x = np.linspace(0, 5, 50)\n",
    "y = np.sin(x) + np.random.normal(scale=0.2, size=50)\n",
    "\n",
    "# Define a simple linear model with only one feature\n",
    "def linear_model(x, w0, w1):\n",
    "    return w0 + w1 * x\n",
    "\n",
    "# Fit the model to the data (underfitting)\n",
    "w0, w1 = 0, 0\n",
    "y_pred = linear_model(x, w0, w1)\n",
    "\n",
    "# Plot the data and the model\n",
    "plt.scatter(x, y, label='Data')\n",
    "plt.plot(x, y_pred, label='Underfitting Model', color='red')\n",
    "plt.legend()\n",
    "plt.show()\n",
    "\n"
   ]
  },
  {
   "cell_type": "code",
   "execution_count": 299,
   "metadata": {},
   "outputs": [
    {
     "data": {
      "image/png": "[encoded data removed]",
      "text/plain": [
       "<Figure size 432x288 with 1 Axes>"
      ]
     },
     "metadata": {
      "needs_background": "light"
     },
     "output_type": "display_data"
    }
   ],
   "source": [
    "import matplotlib.pyplot as plt\n",
    "\n",
    "# example training and validation loss data\n",
    "# train_loss = [80, 80, 60, 50, 20, 21, 30, 25, 20, 15, 10, 5, 0]\n",
    "train_loss=[10,15,35,65,85,86,87,88,89,90,91,92,100]\n",
    "val_loss = [0, 10, 32, 61,66, 75,74, 85, 85, 88, 92, 93, 95]\n",
    "# reverse the lists to plot the loss values in the correct order:\n",
    "# train_loss.reverse()\n",
    "# val_loss.reverse()\n",
    "\n",
    "# create x-axis values for the plot (epochs)\n",
    "# epochs = [i for i in range(20, len(train_loss) + 40)]\n",
    "epochs= [0,  35,  70, 105, 140, 175, 210, 245, 280, 315, 350, 385, 420]\n",
    "       \n",
    "\n",
    "# plot the training and validation loss\n",
    "plt.plot(epochs, train_loss, label='Training Accuracy')\n",
    "plt.plot(epochs, val_loss, label='Validation Accuracy')\n",
    "\n",
    "# add labels and legend to the plot\n",
    "plt.xlabel('Epochs')\n",
    "plt.ylabel('Accuracy')\n",
    "plt.ylim([0, 100])  # set y-axis limits to 0-1.0\n",
    "plt.title('Training and Validation Loss')\n",
    "plt.legend()\n",
    "\n",
    "# display the plot\n",
    "plt.show()\n"
   ]
  },
  {
   "cell_type": "code",
   "execution_count": 285,
   "metadata": {},
   "outputs": [
    {
     "data": {
      "text/plain": [
       "array([  0.,  35.,  70., 105., 140., 175., 210., 245., 280., 315., 350.,\n",
       "       385., 420.])"
      ]
     },
     "execution_count": 285,
     "metadata": {},
     "output_type": "execute_result"
    }
   ],
   "source": [
    "# 15 equal parts of 450:\n",
    "np.linspace(0, 420, 13)\n"
   ]
  },
  {
   "cell_type": "code",
   "execution_count": 282,
   "metadata": {},
   "outputs": [
    {
     "data": {
      "text/plain": [
       "30.76923076923077"
      ]
     },
     "execution_count": 282,
     "metadata": {},
     "output_type": "execute_result"
    }
   ],
   "source": [
    "400/13\n"
   ]
  },
  {
   "cell_type": "code",
   "execution_count": 281,
   "metadata": {},
   "outputs": [
    {
     "data": {
      "text/plain": [
       "[10,\n",
       " 11,\n",
       " 12,\n",
       " 13,\n",
       " 14,\n",
       " 15,\n",
       " 16,\n",
       " 17,\n",
       " 18,\n",
       " 19,\n",
       " 20,\n",
       " 21,\n",
       " 22,\n",
       " 23,\n",
       " 24,\n",
       " 25,\n",
       " 26,\n",
       " 27,\n",
       " 28,\n",
       " 29,\n",
       " 30,\n",
       " 31,\n",
       " 32,\n",
       " 33,\n",
       " 34,\n",
       " 35,\n",
       " 36,\n",
       " 37,\n",
       " 38,\n",
       " 39,\n",
       " 40,\n",
       " 41,\n",
       " 42,\n",
       " 43,\n",
       " 44,\n",
       " 45,\n",
       " 46,\n",
       " 47,\n",
       " 48,\n",
       " 49,\n",
       " 50,\n",
       " 51,\n",
       " 52,\n",
       " 53,\n",
       " 54,\n",
       " 55,\n",
       " 56,\n",
       " 57,\n",
       " 58,\n",
       " 59,\n",
       " 60,\n",
       " 61,\n",
       " 62,\n",
       " 63,\n",
       " 64,\n",
       " 65,\n",
       " 66,\n",
       " 67]"
      ]
     },
     "execution_count": 281,
     "metadata": {},
     "output_type": "execute_result"
    }
   ],
   "source": [
    "epochs"
   ]
  },
  {
   "cell_type": "code",
   "execution_count": 269,
   "metadata": {},
   "outputs": [
    {
     "ename": "ValueError",
     "evalue": "x and y must have same first dimension, but have shapes (59,) and (10,)",
     "output_type": "error",
     "traceback": [
      "\u001b[1;31m---------------------------------------------------------------------------\u001b[0m",
      "\u001b[1;31mValueError\u001b[0m                                Traceback (most recent call last)",
      "\u001b[1;32me:\\pythonProjects\\SATS-2.ipynb Cell 107\u001b[0m in \u001b[0;36m<cell line: 11>\u001b[1;34m()\u001b[0m\n\u001b[0;32m      <a href='vscode-notebook-cell:/e%3A/pythonProjects/SATS-2.ipynb#Y213sZmlsZQ%3D%3D?line=7'>8</a>\u001b[0m epochs \u001b[39m=\u001b[39m \u001b[39mlist\u001b[39m(\u001b[39mrange\u001b[39m(\u001b[39m1\u001b[39m, \u001b[39mlen\u001b[39m(train_loss) \u001b[39m+\u001b[39m \u001b[39m50\u001b[39m))\n\u001b[0;32m     <a href='vscode-notebook-cell:/e%3A/pythonProjects/SATS-2.ipynb#Y213sZmlsZQ%3D%3D?line=9'>10</a>\u001b[0m \u001b[39m# plot the training and validation loss\u001b[39;00m\n\u001b[1;32m---> <a href='vscode-notebook-cell:/e%3A/pythonProjects/SATS-2.ipynb#Y213sZmlsZQ%3D%3D?line=10'>11</a>\u001b[0m plt\u001b[39m.\u001b[39;49mplot(epochs, train_loss, label\u001b[39m=\u001b[39;49m\u001b[39m'\u001b[39;49m\u001b[39mTraining loss\u001b[39;49m\u001b[39m'\u001b[39;49m)\n\u001b[0;32m     <a href='vscode-notebook-cell:/e%3A/pythonProjects/SATS-2.ipynb#Y213sZmlsZQ%3D%3D?line=11'>12</a>\u001b[0m plt\u001b[39m.\u001b[39mplot(epochs, val_loss, label\u001b[39m=\u001b[39m\u001b[39m'\u001b[39m\u001b[39mValidation loss\u001b[39m\u001b[39m'\u001b[39m)\n\u001b[0;32m     <a href='vscode-notebook-cell:/e%3A/pythonProjects/SATS-2.ipynb#Y213sZmlsZQ%3D%3D?line=13'>14</a>\u001b[0m \u001b[39m# add labels and legend to the plot\u001b[39;00m\n",
      "File \u001b[1;32mc:\\Users\\user\\AppData\\Local\\Programs\\Python\\Python310\\lib\\site-packages\\matplotlib\\pyplot.py:2767\u001b[0m, in \u001b[0;36mplot\u001b[1;34m(scalex, scaley, data, *args, **kwargs)\u001b[0m\n\u001b[0;32m   2765\u001b[0m \u001b[39m@_copy_docstring_and_deprecators\u001b[39m(Axes\u001b[39m.\u001b[39mplot)\n\u001b[0;32m   2766\u001b[0m \u001b[39mdef\u001b[39;00m \u001b[39mplot\u001b[39m(\u001b[39m*\u001b[39margs, scalex\u001b[39m=\u001b[39m\u001b[39mTrue\u001b[39;00m, scaley\u001b[39m=\u001b[39m\u001b[39mTrue\u001b[39;00m, data\u001b[39m=\u001b[39m\u001b[39mNone\u001b[39;00m, \u001b[39m*\u001b[39m\u001b[39m*\u001b[39mkwargs):\n\u001b[1;32m-> 2767\u001b[0m     \u001b[39mreturn\u001b[39;00m gca()\u001b[39m.\u001b[39mplot(\n\u001b[0;32m   2768\u001b[0m         \u001b[39m*\u001b[39margs, scalex\u001b[39m=\u001b[39mscalex, scaley\u001b[39m=\u001b[39mscaley,\n\u001b[0;32m   2769\u001b[0m         \u001b[39m*\u001b[39m\u001b[39m*\u001b[39m({\u001b[39m\"\u001b[39m\u001b[39mdata\u001b[39m\u001b[39m\"\u001b[39m: data} \u001b[39mif\u001b[39;00m data \u001b[39mis\u001b[39;00m \u001b[39mnot\u001b[39;00m \u001b[39mNone\u001b[39;00m \u001b[39melse\u001b[39;00m {}), \u001b[39m*\u001b[39m\u001b[39m*\u001b[39mkwargs)\n",
      "File \u001b[1;32mc:\\Users\\user\\AppData\\Local\\Programs\\Python\\Python310\\lib\\site-packages\\matplotlib\\axes\\_axes.py:1635\u001b[0m, in \u001b[0;36mAxes.plot\u001b[1;34m(self, scalex, scaley, data, *args, **kwargs)\u001b[0m\n\u001b[0;32m   1393\u001b[0m \u001b[39m\"\"\"\u001b[39;00m\n\u001b[0;32m   1394\u001b[0m \u001b[39mPlot y versus x as lines and/or markers.\u001b[39;00m\n\u001b[0;32m   1395\u001b[0m \n\u001b[1;32m   (...)\u001b[0m\n\u001b[0;32m   1632\u001b[0m \u001b[39m(``'green'``) or hex strings (``'#008000'``).\u001b[39;00m\n\u001b[0;32m   1633\u001b[0m \u001b[39m\"\"\"\u001b[39;00m\n\u001b[0;32m   1634\u001b[0m kwargs \u001b[39m=\u001b[39m cbook\u001b[39m.\u001b[39mnormalize_kwargs(kwargs, mlines\u001b[39m.\u001b[39mLine2D)\n\u001b[1;32m-> 1635\u001b[0m lines \u001b[39m=\u001b[39m [\u001b[39m*\u001b[39m\u001b[39mself\u001b[39m\u001b[39m.\u001b[39m_get_lines(\u001b[39m*\u001b[39margs, data\u001b[39m=\u001b[39mdata, \u001b[39m*\u001b[39m\u001b[39m*\u001b[39mkwargs)]\n\u001b[0;32m   1636\u001b[0m \u001b[39mfor\u001b[39;00m line \u001b[39min\u001b[39;00m lines:\n\u001b[0;32m   1637\u001b[0m     \u001b[39mself\u001b[39m\u001b[39m.\u001b[39madd_line(line)\n",
      "File \u001b[1;32mc:\\Users\\user\\AppData\\Local\\Programs\\Python\\Python310\\lib\\site-packages\\matplotlib\\axes\\_base.py:312\u001b[0m, in \u001b[0;36m_process_plot_var_args.__call__\u001b[1;34m(self, data, *args, **kwargs)\u001b[0m\n\u001b[0;32m    310\u001b[0m     this \u001b[39m+\u001b[39m\u001b[39m=\u001b[39m args[\u001b[39m0\u001b[39m],\n\u001b[0;32m    311\u001b[0m     args \u001b[39m=\u001b[39m args[\u001b[39m1\u001b[39m:]\n\u001b[1;32m--> 312\u001b[0m \u001b[39myield from\u001b[39;00m \u001b[39mself\u001b[39;49m\u001b[39m.\u001b[39;49m_plot_args(this, kwargs)\n",
      "File \u001b[1;32mc:\\Users\\user\\AppData\\Local\\Programs\\Python\\Python310\\lib\\site-packages\\matplotlib\\axes\\_base.py:498\u001b[0m, in \u001b[0;36m_process_plot_var_args._plot_args\u001b[1;34m(self, tup, kwargs, return_kwargs)\u001b[0m\n\u001b[0;32m    495\u001b[0m     \u001b[39mself\u001b[39m\u001b[39m.\u001b[39maxes\u001b[39m.\u001b[39myaxis\u001b[39m.\u001b[39mupdate_units(y)\n\u001b[0;32m    497\u001b[0m \u001b[39mif\u001b[39;00m x\u001b[39m.\u001b[39mshape[\u001b[39m0\u001b[39m] \u001b[39m!=\u001b[39m y\u001b[39m.\u001b[39mshape[\u001b[39m0\u001b[39m]:\n\u001b[1;32m--> 498\u001b[0m     \u001b[39mraise\u001b[39;00m \u001b[39mValueError\u001b[39;00m(\u001b[39mf\u001b[39m\u001b[39m\"\u001b[39m\u001b[39mx and y must have same first dimension, but \u001b[39m\u001b[39m\"\u001b[39m\n\u001b[0;32m    499\u001b[0m                      \u001b[39mf\u001b[39m\u001b[39m\"\u001b[39m\u001b[39mhave shapes \u001b[39m\u001b[39m{\u001b[39;00mx\u001b[39m.\u001b[39mshape\u001b[39m}\u001b[39;00m\u001b[39m and \u001b[39m\u001b[39m{\u001b[39;00my\u001b[39m.\u001b[39mshape\u001b[39m}\u001b[39;00m\u001b[39m\"\u001b[39m)\n\u001b[0;32m    500\u001b[0m \u001b[39mif\u001b[39;00m x\u001b[39m.\u001b[39mndim \u001b[39m>\u001b[39m \u001b[39m2\u001b[39m \u001b[39mor\u001b[39;00m y\u001b[39m.\u001b[39mndim \u001b[39m>\u001b[39m \u001b[39m2\u001b[39m:\n\u001b[0;32m    501\u001b[0m     \u001b[39mraise\u001b[39;00m \u001b[39mValueError\u001b[39;00m(\u001b[39mf\u001b[39m\u001b[39m\"\u001b[39m\u001b[39mx and y can be no greater than 2D, but have \u001b[39m\u001b[39m\"\u001b[39m\n\u001b[0;32m    502\u001b[0m                      \u001b[39mf\u001b[39m\u001b[39m\"\u001b[39m\u001b[39mshapes \u001b[39m\u001b[39m{\u001b[39;00mx\u001b[39m.\u001b[39mshape\u001b[39m}\u001b[39;00m\u001b[39m and \u001b[39m\u001b[39m{\u001b[39;00my\u001b[39m.\u001b[39mshape\u001b[39m}\u001b[39;00m\u001b[39m\"\u001b[39m)\n",
      "\u001b[1;31mValueError\u001b[0m: x and y must have same first dimension, but have shapes (59,) and (10,)"
     ]
    },
    {
     "data": {
      "image/png": "[encoded data removed]",
      "text/plain": [
       "<Figure size 432x288 with 1 Axes>"
      ]
     },
     "metadata": {
      "needs_background": "light"
     },
     "output_type": "display_data"
    }
   ],
   "source": [
    "import matplotlib.pyplot as plt\n",
    "\n",
    "# example data for training and validation loss\n",
    "train_loss = [1.0, 0.9, 0.8, 0.7, 0.6, 0.5, 0.4, 0.3, 0.2, 0.1]\n",
    "val_loss = [ 1.0, 0.9, 0.8, 0.7, 0.6, 0.5]\n",
    "\n",
    "# create x-axis values for the plot (epochs)\n",
    "epochs = list(range(1, len(train_loss) + 50))\n",
    "\n",
    "# plot the training and validation loss\n",
    "plt.plot(epochs, train_loss, label='Training loss')\n",
    "plt.plot(epochs, val_loss, label='Validation loss')\n",
    "\n",
    "# add labels and legend to the plot\n",
    "plt.xlabel('Epochs')\n",
    "plt.ylabel('Loss')\n",
    "plt.ylim([0, 4.5])  # adjust y-axis limits to fit the data\n",
    "plt.title('Training and Validation Loss')\n",
    "plt.legend()\n",
    "\n",
    "# display the plot\n",
    "plt.show()"
   ]
  },
  {
   "cell_type": "code",
   "execution_count": null,
   "metadata": {},
   "outputs": [],
   "source": []
  }
 ],
 "metadata": {
  "kernelspec": {
   "display_name": "Python 3",
   "language": "python",
   "name": "python3"
  },
  "language_info": {
   "codemirror_mode": {
    "name": "ipython",
    "version": 3
   },
   "file_extension": ".py",
   "mimetype": "text/x-python",
   "name": "python",
   "nbconvert_exporter": "python",
   "pygments_lexer": "ipython3",
   "version": "3.10.6"
  },
  "orig_nbformat": 4
 },
 "nbformat": 4,
 "nbformat_minor": 2
}
