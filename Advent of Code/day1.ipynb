{
 "cells": [
  {
   "cell_type": "markdown",
   "metadata": {},
   "source": [
    "# Day 1"
   ]
  },
  {
   "cell_type": "code",
   "execution_count": 9,
   "metadata": {},
   "outputs": [
    {
     "name": "stdout",
     "output_type": "stream",
     "text": [
      "69310\n"
     ]
    }
   ],
   "source": [
    "data=[]\n",
    "sum=0\n",
    "file=open(\"input.txt\",\"r\")\n",
    "for line in file:\n",
    "    # if empty line\n",
    "    if line == '\\n':\n",
    "        data.append(sum)\n",
    "        sum=0\n",
    "    else:\n",
    "        sum=sum+int(line)\n",
    "data.sort(reverse=True)\n",
    "print(data[0])\n"
   ]
  },
  {
   "cell_type": "code",
   "execution_count": 11,
   "metadata": {},
   "outputs": [
    {
     "name": "stdout",
     "output_type": "stream",
     "text": [
      "206104\n"
     ]
    }
   ],
   "source": [
    "\n",
    "print(data[0]+data[1]+data[2]) "
   ]
  },
  {
   "cell_type": "markdown",
   "metadata": {},
   "source": [
    "# Day 2\n",
    "* part-1"
   ]
  },
  {
   "cell_type": "code",
   "execution_count": 33,
   "metadata": {},
   "outputs": [
    {
     "name": "stdout",
     "output_type": "stream",
     "text": [
      "15691\n"
     ]
    }
   ],
   "source": [
    "'''TODO: Unable to do it through dictionary approach, have to look into that\n",
    "'''\n",
    "file = open('input2.txt','r')\n",
    "sum=0\n",
    "win=0\n",
    "for line in file:\n",
    "    # split the line on basis of tab\n",
    "    value=line.split(' ')\n",
    "    # remove the \\n from the last element\n",
    "    value[-1]=value[-1].strip()\n",
    "    # print(value[1])\n",
    "    # print(value[0],value[1])\n",
    "    # if value[1] == 'B':\n",
    "    #     print('X')\n",
    "    # print(ascii(value[1]))\n",
    "    if value[0]=='A' and value[1]=='X':\n",
    "        win=4\n",
    "    if value[0]=='A' and value[1]=='Y':\n",
    "        win=8\n",
    "    if value[0]=='A' and value[1]=='Z':\n",
    "        win=3\n",
    "    if value[0]=='B' and value[1]=='X':\n",
    "        win=1\n",
    "        # print('me here')\n",
    "    if value[0]=='B' and value[1]=='Y':\n",
    "        win=5\n",
    "    if value[0]=='B' and value[1]=='Z':\n",
    "        win=9\n",
    "    if value[0]=='C' and value[1]=='X':\n",
    "        win=7\n",
    "    if value[0]=='C' and value[1]=='Y':\n",
    "        win=2\n",
    "    if value[0]=='C' and value[1]=='Z':\n",
    "        win=6\n",
    "    sum=sum+win\n",
    "    # print(sum)\n",
    "\n",
    "    # sum=sum+win\n",
    "print(sum)\n",
    "        \n",
    "    # if value[1] in fP:\n",
    "    #     print(fP[value[0]])\n",
    "    #     # if value[1] in sP:\n",
    "        #     print('its value at position 1',fP[value[1]])\n",
    "        #     print(fP[value[0]]+fP[value[1]])\n",
    "        #     # print(int(fP[value[0]])-int(fP[value[1]]))\n",
    "        \n",
    "    \n",
    "    # if key in fp matches value 0\n",
    "#     if value[0] in fP:\n",
    "# # take the value of key in fP and subtract it from value 1\n",
    "\n",
    "#         secondNumber=fP[value[1]]\n",
    "#         print(secondNumber)\n",
    "#     #     value=int(value[1])-fP[value[0]]\n",
    "#     # # if value[0] == 'A':\n",
    "        \n",
    "    # if value[0] == 'B':\n",
    "\n",
    "    # if value[0] == 'C':"
   ]
  },
  {
   "cell_type": "markdown",
   "metadata": {},
   "source": [
    "* Day 2"
   ]
  },
  {
   "cell_type": "code",
   "execution_count": 34,
   "metadata": {},
   "outputs": [
    {
     "name": "stdout",
     "output_type": "stream",
     "text": [
      "12989\n"
     ]
    }
   ],
   "source": [
    "file = open('input2.txt','r')\n",
    "sum=0\n",
    "win=0\n",
    "for line in file:\n",
    "        value=line.split(' ')\n",
    "    # remove the \\n from the last element\n",
    "        value[-1]=value[-1].strip()\n",
    "    # print(value[1])\n",
    "\n",
    "        if value[0]=='A' and value[1]=='X':\n",
    "                win=3\n",
    "        if value[0]=='A' and value[1]=='Y':\n",
    "                win=4\n",
    "        if value[0]=='A' and value[1]=='Z':\n",
    "                win=8\n",
    "        if value[0]=='B' and value[1]=='X':\n",
    "                win=1\n",
    "                # print('me here')\n",
    "        if value[0]=='B' and value[1]=='Y':\n",
    "                win=5\n",
    "        if value[0]=='B' and value[1]=='Z':\n",
    "                win=9\n",
    "        \n",
    "        if value[0]=='C' and value[1]=='X':\n",
    "                win=2\n",
    "        if value[0]=='C' and value[1]=='Y':\n",
    "                win=6\n",
    "        if value[0]=='C' and value[1]=='Z':\n",
    "                win=7\n",
    "        sum=sum+win\n",
    "        # print(sum)\n",
    "        \n",
    "print(sum)\n",
    "    # sum=sum+win\n",
    "    # print(sum)"
   ]
  },
  {
   "cell_type": "code",
   "execution_count": null,
   "metadata": {},
   "outputs": [],
   "source": []
  }
 ],
 "metadata": {
  "kernelspec": {
   "display_name": "Python 3.10.7 64-bit",
   "language": "python",
   "name": "python3"
  },
  "language_info": {
   "codemirror_mode": {
    "name": "ipython",
    "version": 3
   },
   "file_extension": ".py",
   "mimetype": "text/x-python",
   "name": "python",
   "nbconvert_exporter": "python",
   "pygments_lexer": "ipython3",
   "version": "3.10.7"
  },
  "orig_nbformat": 4,
  "vscode": {
   "interpreter": {
    "hash": "67e0cbc25fa4f5baaacba1240f401bc655b640f8e15cfc935dfee2e63491bdf4"
   }
  }
 },
 "nbformat": 4,
 "nbformat_minor": 2
}
