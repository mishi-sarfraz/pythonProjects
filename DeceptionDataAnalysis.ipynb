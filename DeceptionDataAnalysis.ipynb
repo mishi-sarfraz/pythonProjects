{
 "cells": [
  {
   "attachments": {},
   "cell_type": "markdown",
   "metadata": {},
   "source": [
    "#### Import packages and read all Json Files"
   ]
  },
  {
   "cell_type": "code",
   "execution_count": 1,
   "metadata": {},
   "outputs": [
    {
     "name": "stdout",
     "output_type": "stream",
     "text": [
      "(0, 0)\n",
      "(4746, 2)\n",
      "(9894, 2)\n",
      "(13445, 2)\n",
      "(17607, 2)\n",
      "(22280, 2)\n",
      "(27985, 2)\n",
      "(0, 0)\n",
      "(1421, 2)\n",
      "(2954, 2)\n",
      "(4918, 2)\n",
      "(6364, 2)\n",
      "(7905, 2)\n",
      "(9729, 2)\n",
      "(0, 0)\n",
      "(5453, 2)\n",
      "(13938, 2)\n",
      "(19208, 2)\n",
      "(23974, 2)\n",
      "(30286, 2)\n",
      "(38067, 2)\n"
     ]
    }
   ],
   "source": [
    "import os\n",
    "import json\n",
    "import pandas as pd\n",
    "mergedRobbery=pd.DataFrame()\n",
    "mergedDeception=pd.DataFrame()\n",
    "mergedBurglary=pd.DataFrame()\n",
    "directory = \"E:/drive-download\"\n",
    "all_data = {}\n",
    "\n",
    "for filename in os.listdir(directory):\n",
    "    if filename.endswith(\".xlsx\"):\n",
    "        file_path = os.path.join(directory, filename)\n",
    "             \n",
    "        if filename.startswith(\"robbery\"):\n",
    "            # print('````````````````````````````````````````````````````')\n",
    "            # print(file_path)\n",
    "            rdf = pd.read_excel(file_path,header=None)\n",
    "            print(mergedRobbery.shape)\n",
    "            mergedRobbery=pd.concat([rdf,mergedRobbery],axis=0)\n",
    "        if filename.startswith(\"burglary\"):\n",
    "            # print('````````````````````````````````````````````````````')\n",
    "            # print(file_path)\n",
    "            rdf = pd.read_excel(file_path,header=None)\n",
    "            print(mergedBurglary.shape)\n",
    "            mergedBurglary=pd.concat([rdf,mergedBurglary],axis=0)\n",
    "        if filename.startswith(\"deception\"):\n",
    "            # print('````````````````````````````````````````````````````')\n",
    "            # print(file_path)\n",
    "            rdf = pd.read_excel(file_path,header=None)\n",
    "            print(mergedDeception.shape)\n",
    "            mergedDeception=pd.concat([rdf,mergedDeception],axis=0)\n",
    "\n",
    "        # with open(file_path, \"r\", encoding=\"utf-8\") as f:\n",
    "        #     data = json.load(f)\n",
    "        #     all_data[filename] = data"
   ]
  },
  {
   "attachments": {},
   "cell_type": "markdown",
   "metadata": {},
   "source": [
    "# Deception"
   ]
  },
  {
   "cell_type": "code",
   "execution_count": 2,
   "metadata": {},
   "outputs": [
    {
     "data": {
      "text/html": [
       "<div>\n",
       "<style scoped>\n",
       "    .dataframe tbody tr th:only-of-type {\n",
       "        vertical-align: middle;\n",
       "    }\n",
       "\n",
       "    .dataframe tbody tr th {\n",
       "        vertical-align: top;\n",
       "    }\n",
       "\n",
       "    .dataframe thead th {\n",
       "        text-align: right;\n",
       "    }\n",
       "</style>\n",
       "<table border=\"1\" class=\"dataframe\">\n",
       "  <thead>\n",
       "    <tr style=\"text-align: right;\">\n",
       "      <th></th>\n",
       "      <th>0</th>\n",
       "      <th>1</th>\n",
       "    </tr>\n",
       "  </thead>\n",
       "  <tbody>\n",
       "    <tr>\n",
       "      <th>0</th>\n",
       "      <td>-DOCSTART- -X- O O</td>\n",
       "      <td>NaN</td>\n",
       "    </tr>\n",
       "    <tr>\n",
       "      <th>1</th>\n",
       "      <td>VTM</td>\n",
       "      <td>O</td>\n",
       "    </tr>\n",
       "    <tr>\n",
       "      <th>2</th>\n",
       "      <td>owned</td>\n",
       "      <td>O</td>\n",
       "    </tr>\n",
       "    <tr>\n",
       "      <th>3</th>\n",
       "      <td>one</td>\n",
       "      <td>O</td>\n",
       "    </tr>\n",
       "    <tr>\n",
       "      <th>4</th>\n",
       "      <td>BOC</td>\n",
       "      <td>B-RELATED_BANK</td>\n",
       "    </tr>\n",
       "  </tbody>\n",
       "</table>\n",
       "</div>"
      ],
      "text/plain": [
       "                    0               1\n",
       "0  -DOCSTART- -X- O O             NaN\n",
       "1                 VTM               O\n",
       "2               owned               O\n",
       "3                 one               O\n",
       "4                 BOC  B-RELATED_BANK"
      ]
     },
     "execution_count": 2,
     "metadata": {},
     "output_type": "execute_result"
    }
   ],
   "source": [
    "mergedDeception.head()"
   ]
  },
  {
   "cell_type": "code",
   "execution_count": 3,
   "metadata": {},
   "outputs": [
    {
     "data": {
      "text/plain": [
       "O                               9591\n",
       "I-METHOD                         285\n",
       "B-AMOUNT                         177\n",
       "B-MEANS                          126\n",
       "B-METHOD                         117\n",
       "I-TRANSACTION_MEANS              115\n",
       "B-CHANNEL                         94\n",
       "I-BEHAVIOUR                       82\n",
       "I-HOW_PROPERTY_IS_TAKEN_AWAY      78\n",
       "B-TRANSACTION_MEANS               78\n",
       "B-HOW_PROPERTY_IS_TAKEN_AWAY      63\n",
       "B-BEHAVIOUR                       54\n",
       "I-AMOUNT                          51\n",
       "I-MEANS                           50\n",
       "B-RELATED_BANK                    46\n",
       "B-GENDER                          45\n",
       "I-LOC                             43\n",
       "B-FREQUENCY                       35\n",
       "I-CHANNEL                         30\n",
       "B-TYPES                           18\n",
       "I-TYPES                           16\n",
       "B-LOC                             15\n",
       "I-FREQUENCY                       13\n",
       "B-LOG_TYPE                        13\n",
       "B-BEHAVIOUR-                       9\n",
       "B-NUMBER_OF_OCCURRENCE             9\n",
       "I-BEHAVIOUR-                       9\n",
       "I-RELATED_BANK                     6\n",
       "I-TYPE_OF_VTM                      4\n",
       "I-NUMBER_OF_OCCURRENCE             4\n",
       "B-NATIVE                           4\n",
       "I-LOG_TYPE                         3\n",
       "B-OFFENCE                          2\n",
       "I-None                             2\n",
       "I-OFFENCE                          2\n",
       "I-METHOS                           2\n",
       "B-TYPE_OF_VTM                      2\n",
       "BHOW_PROPERTY_IS_TAKEN_AWAY        1\n",
       "IHOW_PROPERTY_IS_TAKEN_AWAY        1\n",
       "I-MEANS-METHOD                     1\n",
       "B-BEHAVIOR                         1\n",
       "B-MEANS-MEANS                      1\n",
       "I-TITLE                            1\n",
       "I-NATIVE                           1\n",
       "Name: label, dtype: int64"
      ]
     },
     "execution_count": 3,
     "metadata": {},
     "output_type": "execute_result"
    }
   ],
   "source": [
    "#  set column names\n",
    "mergedDeception.columns = ['text', 'label']\n",
    "mergedDeception.label.value_counts()"
   ]
  },
  {
   "cell_type": "code",
   "execution_count": 4,
   "metadata": {},
   "outputs": [
    {
     "data": {
      "text/plain": [
       "1053    Alipay\n",
       "Name: text, dtype: object"
      ]
     },
     "execution_count": 4,
     "metadata": {},
     "output_type": "execute_result"
    }
   ],
   "source": [
    "# BHOW_PROPERTY_IS_TAKEN_AWAY\n",
    "mergedDeception.loc[mergedDeception.label == 'BHOW_PROPERTY_IS_TAKEN_AWAY', 'text']"
   ]
  },
  {
   "cell_type": "code",
   "execution_count": 5,
   "metadata": {},
   "outputs": [],
   "source": [
    "# change BHOW_PROPERTY_IS_TAKEN_AWAY to B-HOW_PROPERTY_IS_TAKEN_AWAY\n",
    "mergedDeception.loc[mergedDeception.label == 'BHOW_PROPERTY_IS_TAKEN_AWAY', 'label'] = 'B-HOW_PROPERTY_IS_TAKEN_AWAY'"
   ]
  },
  {
   "cell_type": "code",
   "execution_count": 6,
   "metadata": {},
   "outputs": [],
   "source": [
    "# change IHOW_PROPERTY_IS_TAKEN_AWAY to B-HOW_PROPERTY_IS_TAKEN_AWAY\n",
    "mergedDeception.loc[mergedDeception.label == 'IHOW_PROPERTY_IS_TAKEN_AWAY', 'label'] = 'I-HOW_PROPERTY_IS_TAKEN_AWAY'"
   ]
  },
  {
   "cell_type": "code",
   "execution_count": 7,
   "metadata": {},
   "outputs": [],
   "source": [
    "mergedDeception.loc[mergedDeception.label == 'I-METHOS', 'label'] = 'I-METHOD'"
   ]
  },
  {
   "cell_type": "code",
   "execution_count": 8,
   "metadata": {},
   "outputs": [],
   "source": [
    "mergedDeception.loc[mergedDeception.label == 'B-BEHAVIOR', 'label'] = 'B-BEHAVIOUR'"
   ]
  },
  {
   "cell_type": "code",
   "execution_count": 9,
   "metadata": {},
   "outputs": [],
   "source": [
    "mergedDeception.loc[mergedDeception.label == 'B-MEANS-MEANS', 'label'] = 'B-MEANS'"
   ]
  },
  {
   "cell_type": "code",
   "execution_count": 10,
   "metadata": {},
   "outputs": [
    {
     "data": {
      "text/plain": [
       "281    Scam)\n",
       "Name: text, dtype: object"
      ]
     },
     "execution_count": 10,
     "metadata": {},
     "output_type": "execute_result"
    }
   ],
   "source": [
    "mergedDeception.loc[mergedDeception.label == 'I-TITLE', 'text']"
   ]
  },
  {
   "cell_type": "code",
   "execution_count": 11,
   "metadata": {},
   "outputs": [
    {
     "data": {
      "text/plain": [
       "953    Kong.\n",
       "Name: text, dtype: object"
      ]
     },
     "execution_count": 11,
     "metadata": {},
     "output_type": "execute_result"
    }
   ],
   "source": [
    "mergedDeception.loc[mergedDeception.label == 'I-NATIVE', 'text']"
   ]
  },
  {
   "cell_type": "code",
   "execution_count": 12,
   "metadata": {},
   "outputs": [],
   "source": [
    "#  fill with NA ALL NULLS\n",
    "mergedDeception.fillna('NA', inplace=True)\n"
   ]
  },
  {
   "cell_type": "code",
   "execution_count": 13,
   "metadata": {},
   "outputs": [],
   "source": [
    "#  TAKE ALL ROWS WHICH START WITH B-:\n",
    "mergedDeceptionminidataFrame=mergedDeception[mergedDeception['label'].str.startswith('B-')]"
   ]
  },
  {
   "cell_type": "code",
   "execution_count": 14,
   "metadata": {},
   "outputs": [
    {
     "data": {
      "text/plain": [
       "B-AMOUNT                        177\n",
       "B-MEANS                         127\n",
       "B-METHOD                        117\n",
       "B-CHANNEL                        94\n",
       "B-TRANSACTION_MEANS              78\n",
       "B-HOW_PROPERTY_IS_TAKEN_AWAY     64\n",
       "B-BEHAVIOUR                      55\n",
       "B-RELATED_BANK                   46\n",
       "B-GENDER                         45\n",
       "B-FREQUENCY                      35\n",
       "B-TYPES                          18\n",
       "B-LOC                            15\n",
       "B-LOG_TYPE                       13\n",
       "B-BEHAVIOUR-                      9\n",
       "B-NUMBER_OF_OCCURRENCE            9\n",
       "B-NATIVE                          4\n",
       "B-TYPE_OF_VTM                     2\n",
       "B-OFFENCE                         2\n",
       "Name: label, dtype: int64"
      ]
     },
     "execution_count": 14,
     "metadata": {},
     "output_type": "execute_result"
    }
   ],
   "source": [
    "mergedDeceptionminidataFrame.label.value_counts()"
   ]
  },
  {
   "cell_type": "code",
   "execution_count": 15,
   "metadata": {},
   "outputs": [
    {
     "name": "stderr",
     "output_type": "stream",
     "text": [
      "C:\\Users\\user\\AppData\\Local\\Temp\\ipykernel_15844\\730887885.py:2: SettingWithCopyWarning: \n",
      "A value is trying to be set on a copy of a slice from a DataFrame.\n",
      "Try using .loc[row_indexer,col_indexer] = value instead\n",
      "\n",
      "See the caveats in the documentation: https://pandas.pydata.org/pandas-docs/stable/user_guide/indexing.html#returning-a-view-versus-a-copy\n",
      "  mergedDeceptionminidataFrame['label'] = mergedDeceptionminidataFrame['label'].str.replace('B-','')\n"
     ]
    }
   ],
   "source": [
    "# change B- to empty string:\n",
    "mergedDeceptionminidataFrame['label'] = mergedDeceptionminidataFrame['label'].str.replace('B-','')"
   ]
  },
  {
   "cell_type": "code",
   "execution_count": 16,
   "metadata": {},
   "outputs": [
    {
     "name": "stdout",
     "output_type": "stream",
     "text": [
      "AxesSubplot(0.125,0.125;0.775x0.755)\n"
     ]
    },
    {
     "data": {
      "text/plain": [
       "<Figure size 1440x720 with 0 Axes>"
      ]
     },
     "metadata": {},
     "output_type": "display_data"
    },
    {
     "data": {
      "image/png": "[encoded data removed]",
      "text/plain": [
       "<Figure size 1440x720 with 1 Axes>"
      ]
     },
     "metadata": {
      "needs_background": "light"
     },
     "output_type": "display_data"
    }
   ],
   "source": [
    "import matplotlib.pyplot as plt\n",
    "import seaborn as sns\n",
    "\n",
    "plt.figure(figsize=(20,10))\n",
    "fig, ax1 = plt.subplots(figsize=(20,10))\n",
    "print(ax1)\n",
    "graph = sns.countplot(ax=ax1,x='label', data=mergedDeceptionminidataFrame)\n",
    "graph.set_xticklabels(graph.get_xticklabels(),rotation=90)\n",
    "i=0\n",
    "for p in graph.patches:\n",
    "    height = p.get_height()\n",
    "    graph.text(p.get_x()+p.get_width()/2., height + 2,\n",
    "        int(height),ha=\"center\",fontweight='bold')\n",
    "    i += 1\n",
    "i=0\n",
    "\n",
    "ax = sns.countplot(x=mergedDeceptionminidataFrame['label'], data=mergedDeceptionminidataFrame)\n",
    "# for p in ax.patches:\n",
    "#     ax.annotate(f'\\n{p.get_height()}', (p.get_x()+0.4, int(p.get_height())), ha='center', va='top', color='black', size=12)\n",
    "plt.xticks(rotation=90)\n",
    "\n",
    "plt.title('Deceptionn Tag Frequencies', color='blue', fontsize=20, fontweight='bold', fontstyle='italic')\n",
    "plt.xlabel('Labels', color='blue', fontsize=15, fontstyle='italic')\n",
    "plt.ylabel('Frequency', color='blue', fontsize=15, fontstyle='italic')\n",
    "plt.show()\n"
   ]
  }
 ],
 "metadata": {
  "kernelspec": {
   "display_name": "Python 3",
   "language": "python",
   "name": "python3"
  },
  "language_info": {
   "codemirror_mode": {
    "name": "ipython",
    "version": 3
   },
   "file_extension": ".py",
   "mimetype": "text/x-python",
   "name": "python",
   "nbconvert_exporter": "python",
   "pygments_lexer": "ipython3",
   "version": "3.10.6"
  },
  "orig_nbformat": 4,
  "vscode": {
   "interpreter": {
    "hash": "92adc0dc7608e96a50ce5fb9acbd8bea0a01f16a513a55f8bb8294402fce5e61"
   }
  }
 },
 "nbformat": 4,
 "nbformat_minor": 2
}
