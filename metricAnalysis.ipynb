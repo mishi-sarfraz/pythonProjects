{
 "cells": [
  {
   "attachments": {},
   "cell_type": "markdown",
   "metadata": {},
   "source": [
    "#### Import packages and read all Json Files"
   ]
  },
  {
   "cell_type": "code",
   "execution_count": 1,
   "metadata": {},
   "outputs": [
    {
     "name": "stdout",
     "output_type": "stream",
     "text": [
      "(0, 0)\n",
      "(4746, 2)\n",
      "(9894, 2)\n",
      "(13445, 2)\n",
      "(17607, 2)\n",
      "(22280, 2)\n",
      "(27985, 2)\n",
      "(0, 0)\n",
      "(1421, 2)\n",
      "(2954, 2)\n",
      "(4918, 2)\n",
      "(6364, 2)\n",
      "(7905, 2)\n",
      "(9729, 2)\n",
      "(0, 0)\n",
      "(5453, 2)\n",
      "(13938, 2)\n",
      "(19208, 2)\n",
      "(23974, 2)\n",
      "(30286, 2)\n",
      "(38067, 2)\n"
     ]
    }
   ],
   "source": [
    "import os\n",
    "import json\n",
    "import pandas as pd\n",
    "mergedRobbery=pd.DataFrame()\n",
    "mergedDeception=pd.DataFrame()\n",
    "mergedBurglary=pd.DataFrame()\n",
    "directory = \"E:/drive-download\"\n",
    "all_data = {}\n",
    "\n",
    "for filename in os.listdir(directory):\n",
    "    if filename.endswith(\".xlsx\"):\n",
    "        file_path = os.path.join(directory, filename)\n",
    "             \n",
    "        if filename.startswith(\"robbery\"):\n",
    "            # print('````````````````````````````````````````````````````')\n",
    "            # print(file_path)\n",
    "            rdf = pd.read_excel(file_path,header=None)\n",
    "            print(mergedRobbery.shape)\n",
    "            mergedRobbery=pd.concat([rdf,mergedRobbery],axis=0)\n",
    "        if filename.startswith(\"burglary\"):\n",
    "            # print('````````````````````````````````````````````````````')\n",
    "            # print(file_path)\n",
    "            rdf = pd.read_excel(file_path,header=None)\n",
    "            print(mergedBurglary.shape)\n",
    "            mergedBurglary=pd.concat([rdf,mergedBurglary],axis=0)\n",
    "        if filename.startswith(\"deception\"):\n",
    "            # print('````````````````````````````````````````````````````')\n",
    "            # print(file_path)\n",
    "            rdf = pd.read_excel(file_path,header=None)\n",
    "            print(mergedDeception.shape)\n",
    "            mergedDeception=pd.concat([rdf,mergedDeception],axis=0)\n",
    "\n",
    "        # with open(file_path, \"r\", encoding=\"utf-8\") as f:\n",
    "        #     data = json.load(f)\n",
    "        #     all_data[filename] = data"
   ]
  },
  {
   "cell_type": "code",
   "execution_count": 2,
   "metadata": {},
   "outputs": [],
   "source": [
    "mergedBurglary.head()\n",
    "#  set the column names\n",
    "mergedBurglary.columns=['text','label']"
   ]
  },
  {
   "cell_type": "code",
   "execution_count": 3,
   "metadata": {},
   "outputs": [],
   "source": [
    "mergedRobbery.columns=['text','label']"
   ]
  },
  {
   "cell_type": "code",
   "execution_count": 4,
   "metadata": {},
   "outputs": [
    {
     "data": {
      "text/html": [
       "<div>\n",
       "<style scoped>\n",
       "    .dataframe tbody tr th:only-of-type {\n",
       "        vertical-align: middle;\n",
       "    }\n",
       "\n",
       "    .dataframe tbody tr th {\n",
       "        vertical-align: top;\n",
       "    }\n",
       "\n",
       "    .dataframe thead th {\n",
       "        text-align: right;\n",
       "    }\n",
       "</style>\n",
       "<table border=\"1\" class=\"dataframe\">\n",
       "  <thead>\n",
       "    <tr style=\"text-align: right;\">\n",
       "      <th></th>\n",
       "      <th>text</th>\n",
       "      <th>label</th>\n",
       "    </tr>\n",
       "  </thead>\n",
       "  <tbody>\n",
       "    <tr>\n",
       "      <th>0</th>\n",
       "      <td>-DOCSTART- -X- O O</td>\n",
       "      <td>NaN</td>\n",
       "    </tr>\n",
       "    <tr>\n",
       "      <th>1</th>\n",
       "      <td>A/L/1</td>\n",
       "      <td>O</td>\n",
       "    </tr>\n",
       "    <tr>\n",
       "      <th>2</th>\n",
       "      <td>is</td>\n",
       "      <td>O</td>\n",
       "    </tr>\n",
       "    <tr>\n",
       "      <th>3</th>\n",
       "      <td>a</td>\n",
       "      <td>O</td>\n",
       "    </tr>\n",
       "    <tr>\n",
       "      <th>4</th>\n",
       "      <td>duplex</td>\n",
       "      <td>B-LOCATION_TYPE</td>\n",
       "    </tr>\n",
       "  </tbody>\n",
       "</table>\n",
       "</div>"
      ],
      "text/plain": [
       "                 text            label\n",
       "0  -DOCSTART- -X- O O              NaN\n",
       "1               A/L/1                O\n",
       "2                  is                O\n",
       "3                   a                O\n",
       "4              duplex  B-LOCATION_TYPE"
      ]
     },
     "execution_count": 4,
     "metadata": {},
     "output_type": "execute_result"
    }
   ],
   "source": [
    "mergedBurglary.head()"
   ]
  },
  {
   "cell_type": "code",
   "execution_count": 5,
   "metadata": {},
   "outputs": [
    {
     "data": {
      "text/plain": [
       "O                       28863\n",
       "I-ENTRY                   680\n",
       "B-LOST_ITEM_TYPE          428\n",
       "I-LOST_ITEM_TYPE          255\n",
       "B-LOCATION_TYPE           156\n",
       "I-LOCATION_TYPE           153\n",
       "B-ENTRY                   144\n",
       "I-VTM_LEFT_HOME_TIME      141\n",
       "B-RANSACKING              125\n",
       "B-CCTV_LOCATION           124\n",
       "I-VTM_RETURN_TIME         120\n",
       "I-CCTV_LOCATION           119\n",
       "B-VTM_LEFT_HOME_TIME       84\n",
       "I-RANSACKING               76\n",
       "B-LOST_AMOUNT              74\n",
       "B-VTM_RETURN_TIME          66\n",
       "B-TOOLS                    54\n",
       "I-FOOTFINGER_PRINT         36\n",
       "I-TOOLS                    35\n",
       "B-FOOTFINGER_PRINT         26\n",
       "I-APPERANCE                16\n",
       "B-CCTV_NUMBER_NER          14\n",
       "I-CCTV_NUMBER_NER          11\n",
       "B-APPERANCE                 9\n",
       "I-LOST_AMOUNT               6\n",
       "B-GENDER                    5\n",
       "B-NATIVE                    5\n",
       "B-WEAPON                    3\n",
       "I_ENTRY                     1\n",
       "I-VTM_LEFT_HOME_TIM         1\n",
       "LOST_ITEM_TYPE              1\n",
       "I-WEAPON                    1\n",
       "Name: label, dtype: int64"
      ]
     },
     "execution_count": 5,
     "metadata": {},
     "output_type": "execute_result"
    }
   ],
   "source": [
    "mergedBurglary.label.value_counts()"
   ]
  },
  {
   "cell_type": "code",
   "execution_count": 6,
   "metadata": {},
   "outputs": [
    {
     "data": {
      "text/plain": [
       "1875    pipe\n",
       "Name: text, dtype: object"
      ]
     },
     "execution_count": 6,
     "metadata": {},
     "output_type": "execute_result"
    }
   ],
   "source": [
    "#  READ TEXT WHHERE LABEL IS I_ENTRY:\n",
    "mergedBurglary[mergedBurglary.label=='I_ENTRY'].text\n",
    "# mergedBurglary[mergedBurglary.label=='I_ENTRY'].index\n"
   ]
  },
  {
   "cell_type": "code",
   "execution_count": 7,
   "metadata": {},
   "outputs": [],
   "source": [
    "#  REPLACE LABEL I_ENTRY WITH I-ENTRY:\n",
    "mergedBurglary.loc[mergedBurglary.label=='I_ENTRY','label']='I-ENTRY'"
   ]
  },
  {
   "cell_type": "code",
   "execution_count": 8,
   "metadata": {},
   "outputs": [
    {
     "data": {
      "text/plain": [
       "4332    same\n",
       "Name: text, dtype: object"
      ]
     },
     "execution_count": 8,
     "metadata": {},
     "output_type": "execute_result"
    }
   ],
   "source": [
    "mergedBurglary[mergedBurglary.label=='I-VTM_LEFT_HOME_TIM'].text\n",
    "# mergedBurglary[mergedBurglary.label=='I_ENTRY'].index\n"
   ]
  },
  {
   "cell_type": "code",
   "execution_count": 9,
   "metadata": {},
   "outputs": [
    {
     "data": {
      "text/plain": [
       "O                       28863\n",
       "I-ENTRY                   681\n",
       "B-LOST_ITEM_TYPE          428\n",
       "I-LOST_ITEM_TYPE          255\n",
       "B-LOCATION_TYPE           156\n",
       "I-LOCATION_TYPE           153\n",
       "B-ENTRY                   144\n",
       "I-VTM_LEFT_HOME_TIME      141\n",
       "B-RANSACKING              125\n",
       "B-CCTV_LOCATION           124\n",
       "I-VTM_RETURN_TIME         120\n",
       "I-CCTV_LOCATION           119\n",
       "B-VTM_LEFT_HOME_TIME       84\n",
       "I-RANSACKING               76\n",
       "B-LOST_AMOUNT              74\n",
       "B-VTM_RETURN_TIME          66\n",
       "B-TOOLS                    54\n",
       "I-FOOTFINGER_PRINT         36\n",
       "I-TOOLS                    35\n",
       "B-FOOTFINGER_PRINT         26\n",
       "I-APPERANCE                16\n",
       "B-CCTV_NUMBER_NER          14\n",
       "I-CCTV_NUMBER_NER          11\n",
       "B-APPERANCE                 9\n",
       "I-LOST_AMOUNT               6\n",
       "B-GENDER                    5\n",
       "B-NATIVE                    5\n",
       "B-WEAPON                    3\n",
       "I-VTM_LEFT_HOME_TIM         1\n",
       "LOST_ITEM_TYPE              1\n",
       "I-WEAPON                    1\n",
       "Name: label, dtype: int64"
      ]
     },
     "execution_count": 9,
     "metadata": {},
     "output_type": "execute_result"
    }
   ],
   "source": [
    "mergedBurglary.label.value_counts()"
   ]
  },
  {
   "cell_type": "code",
   "execution_count": 10,
   "metadata": {},
   "outputs": [
    {
     "data": {
      "text/html": [
       "<div>\n",
       "<style scoped>\n",
       "    .dataframe tbody tr th:only-of-type {\n",
       "        vertical-align: middle;\n",
       "    }\n",
       "\n",
       "    .dataframe tbody tr th {\n",
       "        vertical-align: top;\n",
       "    }\n",
       "\n",
       "    .dataframe thead th {\n",
       "        text-align: right;\n",
       "    }\n",
       "</style>\n",
       "<table border=\"1\" class=\"dataframe\">\n",
       "  <thead>\n",
       "    <tr style=\"text-align: right;\">\n",
       "      <th></th>\n",
       "      <th>text</th>\n",
       "      <th>label</th>\n",
       "    </tr>\n",
       "  </thead>\n",
       "  <tbody>\n",
       "    <tr>\n",
       "      <th>0</th>\n",
       "      <td>-DOCSTART- -X- O O</td>\n",
       "      <td>NaN</td>\n",
       "    </tr>\n",
       "    <tr>\n",
       "      <th>1</th>\n",
       "      <td>A/L/1</td>\n",
       "      <td>O</td>\n",
       "    </tr>\n",
       "    <tr>\n",
       "      <th>2</th>\n",
       "      <td>is</td>\n",
       "      <td>O</td>\n",
       "    </tr>\n",
       "    <tr>\n",
       "      <th>3</th>\n",
       "      <td>a</td>\n",
       "      <td>O</td>\n",
       "    </tr>\n",
       "    <tr>\n",
       "      <th>4</th>\n",
       "      <td>duplex</td>\n",
       "      <td>B-LOCATION_TYPE</td>\n",
       "    </tr>\n",
       "  </tbody>\n",
       "</table>\n",
       "</div>"
      ],
      "text/plain": [
       "                 text            label\n",
       "0  -DOCSTART- -X- O O              NaN\n",
       "1               A/L/1                O\n",
       "2                  is                O\n",
       "3                   a                O\n",
       "4              duplex  B-LOCATION_TYPE"
      ]
     },
     "execution_count": 10,
     "metadata": {},
     "output_type": "execute_result"
    }
   ],
   "source": [
    "mergedBurglary.head()"
   ]
  },
  {
   "cell_type": "code",
   "execution_count": null,
   "metadata": {},
   "outputs": [],
   "source": []
  },
  {
   "cell_type": "code",
   "execution_count": 11,
   "metadata": {},
   "outputs": [
    {
     "data": {
      "text/plain": [
       "text       0\n",
       "label    173\n",
       "dtype: int64"
      ]
     },
     "execution_count": 11,
     "metadata": {},
     "output_type": "execute_result"
    }
   ],
   "source": [
    "#  NAN VALUES:\n",
    "mergedBurglary.isnull().sum()"
   ]
  },
  {
   "cell_type": "code",
   "execution_count": 12,
   "metadata": {},
   "outputs": [],
   "source": [
    "#  CONVERT NAN TO 'NA':\n",
    "mergedBurglary.fillna('NA',inplace=True)"
   ]
  },
  {
   "cell_type": "code",
   "execution_count": 13,
   "metadata": {},
   "outputs": [],
   "source": [
    "mergedBurglary.loc[mergedBurglary.label=='I-VTM_LEFT_HOME_TIM','label']='I-VTM_LEFT_HOME_TIME'"
   ]
  },
  {
   "cell_type": "code",
   "execution_count": 14,
   "metadata": {},
   "outputs": [
    {
     "data": {
      "text/plain": [
       "2185    S/ppty4\n",
       "Name: text, dtype: object"
      ]
     },
     "execution_count": 14,
     "metadata": {},
     "output_type": "execute_result"
    }
   ],
   "source": [
    "mergedBurglary[mergedBurglary.label=='LOST_ITEM_TYPE'].text"
   ]
  },
  {
   "cell_type": "code",
   "execution_count": 15,
   "metadata": {},
   "outputs": [],
   "source": [
    "#  COUNT ALL LABELS where label is "
   ]
  },
  {
   "cell_type": "code",
   "execution_count": 16,
   "metadata": {},
   "outputs": [],
   "source": [
    "mergedBurglary.loc[mergedBurglary.label=='LOST_ITEM_TYPE','label']='B-LOST_ITEM_TYPE'"
   ]
  },
  {
   "cell_type": "code",
   "execution_count": 17,
   "metadata": {},
   "outputs": [
    {
     "data": {
      "text/plain": [
       "O                       28863\n",
       "I-ENTRY                   681\n",
       "B-LOST_ITEM_TYPE          429\n",
       "I-LOST_ITEM_TYPE          255\n",
       "NA                        173\n",
       "B-LOCATION_TYPE           156\n",
       "I-LOCATION_TYPE           153\n",
       "B-ENTRY                   144\n",
       "I-VTM_LEFT_HOME_TIME      142\n",
       "B-RANSACKING              125\n",
       "B-CCTV_LOCATION           124\n",
       "I-VTM_RETURN_TIME         120\n",
       "I-CCTV_LOCATION           119\n",
       "B-VTM_LEFT_HOME_TIME       84\n",
       "I-RANSACKING               76\n",
       "B-LOST_AMOUNT              74\n",
       "B-VTM_RETURN_TIME          66\n",
       "B-TOOLS                    54\n",
       "I-FOOTFINGER_PRINT         36\n",
       "I-TOOLS                    35\n",
       "B-FOOTFINGER_PRINT         26\n",
       "I-APPERANCE                16\n",
       "B-CCTV_NUMBER_NER          14\n",
       "I-CCTV_NUMBER_NER          11\n",
       "B-APPERANCE                 9\n",
       "I-LOST_AMOUNT               6\n",
       "B-GENDER                    5\n",
       "B-NATIVE                    5\n",
       "B-WEAPON                    3\n",
       "I-WEAPON                    1\n",
       "Name: label, dtype: int64"
      ]
     },
     "execution_count": 17,
     "metadata": {},
     "output_type": "execute_result"
    }
   ],
   "source": [
    "mergedBurglary.label.value_counts()"
   ]
  },
  {
   "cell_type": "code",
   "execution_count": 18,
   "metadata": {},
   "outputs": [
    {
     "data": {
      "text/plain": [
       "935    knife\n",
       "Name: text, dtype: object"
      ]
     },
     "execution_count": 18,
     "metadata": {},
     "output_type": "execute_result"
    }
   ],
   "source": [
    "# text where label is I-WEAPON:\n",
    "mergedBurglary[mergedBurglary.label=='I-WEAPON'].text"
   ]
  },
  {
   "cell_type": "code",
   "execution_count": 19,
   "metadata": {},
   "outputs": [
    {
     "data": {
      "text/html": [
       "<div>\n",
       "<style scoped>\n",
       "    .dataframe tbody tr th:only-of-type {\n",
       "        vertical-align: middle;\n",
       "    }\n",
       "\n",
       "    .dataframe tbody tr th {\n",
       "        vertical-align: top;\n",
       "    }\n",
       "\n",
       "    .dataframe thead th {\n",
       "        text-align: right;\n",
       "    }\n",
       "</style>\n",
       "<table border=\"1\" class=\"dataframe\">\n",
       "  <thead>\n",
       "    <tr style=\"text-align: right;\">\n",
       "      <th></th>\n",
       "      <th>text</th>\n",
       "      <th>label</th>\n",
       "    </tr>\n",
       "  </thead>\n",
       "  <tbody>\n",
       "    <tr>\n",
       "      <th>0</th>\n",
       "      <td>-DOCSTART- -X- O O</td>\n",
       "      <td>NA</td>\n",
       "    </tr>\n",
       "    <tr>\n",
       "      <th>1</th>\n",
       "      <td>A/L/1</td>\n",
       "      <td>O</td>\n",
       "    </tr>\n",
       "    <tr>\n",
       "      <th>2</th>\n",
       "      <td>is</td>\n",
       "      <td>O</td>\n",
       "    </tr>\n",
       "    <tr>\n",
       "      <th>3</th>\n",
       "      <td>a</td>\n",
       "      <td>O</td>\n",
       "    </tr>\n",
       "    <tr>\n",
       "      <th>4</th>\n",
       "      <td>duplex</td>\n",
       "      <td>B-LOCATION_TYPE</td>\n",
       "    </tr>\n",
       "  </tbody>\n",
       "</table>\n",
       "</div>"
      ],
      "text/plain": [
       "                 text            label\n",
       "0  -DOCSTART- -X- O O               NA\n",
       "1               A/L/1                O\n",
       "2                  is                O\n",
       "3                   a                O\n",
       "4              duplex  B-LOCATION_TYPE"
      ]
     },
     "execution_count": 19,
     "metadata": {},
     "output_type": "execute_result"
    }
   ],
   "source": [
    "mergedBurglary.head()"
   ]
  },
  {
   "cell_type": "code",
   "execution_count": 20,
   "metadata": {},
   "outputs": [],
   "source": [
    "#  convert all NAs to 'NA':\n",
    "mergedBurglary.fillna('NA',inplace=True)"
   ]
  },
  {
   "cell_type": "code",
   "execution_count": 21,
   "metadata": {},
   "outputs": [
    {
     "data": {
      "text/plain": [
       "text     0\n",
       "label    0\n",
       "dtype: int64"
      ]
     },
     "execution_count": 21,
     "metadata": {},
     "output_type": "execute_result"
    }
   ],
   "source": [
    "#  count all nas\n",
    "mergedBurglary.isnull().sum()"
   ]
  },
  {
   "cell_type": "code",
   "execution_count": 22,
   "metadata": {},
   "outputs": [],
   "source": [
    "# mergedBurglarydataFrame=mergedBurglary.label.value_counts().to_frame().reset_index()"
   ]
  },
  {
   "cell_type": "code",
   "execution_count": 23,
   "metadata": {},
   "outputs": [],
   "source": [
    "#  save only those values which starts with B- :\n",
    "mergedBurglaryminidataFrame=mergedBurglary[mergedBurglary['label'].str.startswith('B-')]"
   ]
  },
  {
   "cell_type": "code",
   "execution_count": 24,
   "metadata": {},
   "outputs": [
    {
     "data": {
      "text/html": [
       "<div>\n",
       "<style scoped>\n",
       "    .dataframe tbody tr th:only-of-type {\n",
       "        vertical-align: middle;\n",
       "    }\n",
       "\n",
       "    .dataframe tbody tr th {\n",
       "        vertical-align: top;\n",
       "    }\n",
       "\n",
       "    .dataframe thead th {\n",
       "        text-align: right;\n",
       "    }\n",
       "</style>\n",
       "<table border=\"1\" class=\"dataframe\">\n",
       "  <thead>\n",
       "    <tr style=\"text-align: right;\">\n",
       "      <th></th>\n",
       "      <th>text</th>\n",
       "      <th>label</th>\n",
       "    </tr>\n",
       "  </thead>\n",
       "  <tbody>\n",
       "    <tr>\n",
       "      <th>4</th>\n",
       "      <td>duplex</td>\n",
       "      <td>B-LOCATION_TYPE</td>\n",
       "    </tr>\n",
       "    <tr>\n",
       "      <th>45</th>\n",
       "      <td>0300hrs</td>\n",
       "      <td>B-VTM_LEFT_HOME_TIME</td>\n",
       "    </tr>\n",
       "    <tr>\n",
       "      <th>66</th>\n",
       "      <td>At</td>\n",
       "      <td>B-VTM_LEFT_HOME_TIME</td>\n",
       "    </tr>\n",
       "    <tr>\n",
       "      <th>76</th>\n",
       "      <td>ransacking.</td>\n",
       "      <td>B-RANSACKING</td>\n",
       "    </tr>\n",
       "    <tr>\n",
       "      <th>96</th>\n",
       "      <td>ransacking</td>\n",
       "      <td>B-RANSACKING</td>\n",
       "    </tr>\n",
       "  </tbody>\n",
       "</table>\n",
       "</div>"
      ],
      "text/plain": [
       "           text                 label\n",
       "4        duplex       B-LOCATION_TYPE\n",
       "45      0300hrs  B-VTM_LEFT_HOME_TIME\n",
       "66           At  B-VTM_LEFT_HOME_TIME\n",
       "76  ransacking.          B-RANSACKING\n",
       "96   ransacking          B-RANSACKING"
      ]
     },
     "execution_count": 24,
     "metadata": {},
     "output_type": "execute_result"
    }
   ],
   "source": [
    "mergedBurglaryminidataFrame.head()"
   ]
  },
  {
   "cell_type": "code",
   "execution_count": 25,
   "metadata": {},
   "outputs": [],
   "source": [
    "# mergedBurglarydataFrame.head()"
   ]
  },
  {
   "cell_type": "code",
   "execution_count": 26,
   "metadata": {},
   "outputs": [],
   "source": [
    "# keep all records in mergedBurglarydataFrame where label starts with B-:\n",
    "# mergedBurglarydataFrame=mergedBurglarydataFrame[mergedBurglarydataFrame['index'].str.startswith('B-')]\n"
   ]
  },
  {
   "cell_type": "code",
   "execution_count": 27,
   "metadata": {},
   "outputs": [],
   "source": [
    "#  remove B- from label:\n",
    "# mergedBurglarydataFrame['index']=mergedBurglarydataFrame['index'].str.replace('B-','')"
   ]
  },
  {
   "cell_type": "code",
   "execution_count": 28,
   "metadata": {},
   "outputs": [],
   "source": [
    "# mergedBurglarydataFrame.head()"
   ]
  },
  {
   "cell_type": "code",
   "execution_count": 29,
   "metadata": {},
   "outputs": [
    {
     "ename": "NameError",
     "evalue": "name 'mergedBurglarydataFrame' is not defined",
     "output_type": "error",
     "traceback": [
      "\u001b[1;31m---------------------------------------------------------------------------\u001b[0m",
      "\u001b[1;31mNameError\u001b[0m                                 Traceback (most recent call last)",
      "\u001b[1;32me:\\pythonProjects\\metricAnalysis.ipynb Cell 31\u001b[0m in \u001b[0;36m<cell line: 13>\u001b[1;34m()\u001b[0m\n\u001b[0;32m      <a href='vscode-notebook-cell:/e%3A/pythonProjects/metricAnalysis.ipynb#X42sZmlsZQ%3D%3D?line=3'>4</a>\u001b[0m plt\u001b[39m.\u001b[39mfigure(figsize\u001b[39m=\u001b[39m(\u001b[39m20\u001b[39m,\u001b[39m10\u001b[39m))\n\u001b[0;32m      <a href='vscode-notebook-cell:/e%3A/pythonProjects/metricAnalysis.ipynb#X42sZmlsZQ%3D%3D?line=4'>5</a>\u001b[0m \u001b[39m#  print frequency on mid of each bar:\u001b[39;00m\n\u001b[0;32m      <a href='vscode-notebook-cell:/e%3A/pythonProjects/metricAnalysis.ipynb#X42sZmlsZQ%3D%3D?line=5'>6</a>\u001b[0m \u001b[39m# for index, row in mergedBurglarydataFrame.iterrows():\u001b[39;00m\n\u001b[0;32m      <a href='vscode-notebook-cell:/e%3A/pythonProjects/metricAnalysis.ipynb#X42sZmlsZQ%3D%3D?line=6'>7</a>\u001b[0m \u001b[39m#     plt.text(row.name,row.label, round(row.label,2), color='black', ha=\"center\")\u001b[39;00m\n\u001b[0;32m      <a href='vscode-notebook-cell:/e%3A/pythonProjects/metricAnalysis.ipynb#X42sZmlsZQ%3D%3D?line=7'>8</a>\u001b[0m \u001b[39m# using seaborn barplot to print frequency on top of each bar:\u001b[39;00m\n\u001b[0;32m      <a href='vscode-notebook-cell:/e%3A/pythonProjects/metricAnalysis.ipynb#X42sZmlsZQ%3D%3D?line=8'>9</a>\u001b[0m \u001b[39m#  write frequency on top of each bar:  \u001b[39;00m\n\u001b[1;32m---> <a href='vscode-notebook-cell:/e%3A/pythonProjects/metricAnalysis.ipynb#X42sZmlsZQ%3D%3D?line=12'>13</a>\u001b[0m sns\u001b[39m.\u001b[39mbarplot(x\u001b[39m=\u001b[39m\u001b[39m'\u001b[39m\u001b[39mindex\u001b[39m\u001b[39m'\u001b[39m,y\u001b[39m=\u001b[39m\u001b[39m'\u001b[39m\u001b[39mlabel\u001b[39m\u001b[39m'\u001b[39m,data\u001b[39m=\u001b[39mmergedBurglarydataFrame)\n\u001b[0;32m     <a href='vscode-notebook-cell:/e%3A/pythonProjects/metricAnalysis.ipynb#X42sZmlsZQ%3D%3D?line=13'>14</a>\u001b[0m \u001b[39mfor\u001b[39;00m index, row \u001b[39min\u001b[39;00m mergedBurglarydataFrame\u001b[39m.\u001b[39miterrows():\n\u001b[0;32m     <a href='vscode-notebook-cell:/e%3A/pythonProjects/metricAnalysis.ipynb#X42sZmlsZQ%3D%3D?line=14'>15</a>\u001b[0m     plt\u001b[39m.\u001b[39mtext(row\u001b[39m.\u001b[39mname, row\u001b[39m.\u001b[39mlabel\u001b[39m-\u001b[39m\u001b[39m1.5\u001b[39m, \u001b[39mround\u001b[39m(row\u001b[39m.\u001b[39mlabel, \u001b[39m2\u001b[39m), color\u001b[39m=\u001b[39m\u001b[39m'\u001b[39m\u001b[39mblack\u001b[39m\u001b[39m'\u001b[39m, ha\u001b[39m=\u001b[39m\u001b[39m\"\u001b[39m\u001b[39mcenter\u001b[39m\u001b[39m\"\u001b[39m)\n",
      "\u001b[1;31mNameError\u001b[0m: name 'mergedBurglarydataFrame' is not defined"
     ]
    },
    {
     "data": {
      "text/plain": [
       "<Figure size 1440x720 with 0 Axes>"
      ]
     },
     "metadata": {},
     "output_type": "display_data"
    }
   ],
   "source": [
    "#  draw a bar plot:\n",
    "import matplotlib.pyplot as plt\n",
    "import seaborn as sns\n",
    "plt.figure(figsize=(20,10))\n",
    "#  print frequency on mid of each bar:\n",
    "# for index, row in mergedBurglarydataFrame.iterrows():\n",
    "#     plt.text(row.name,row.label, round(row.label,2), color='black', ha=\"center\")\n",
    "# using seaborn barplot to print frequency on top of each bar:\n",
    "#  write frequency on top of each bar:  \n",
    "\n",
    "\n",
    "\n",
    "sns.barplot(x='index',y='label',data=mergedBurglarydataFrame)\n",
    "for index, row in mergedBurglarydataFrame.iterrows():\n",
    "    plt.text(row.name, row.label-1.5, round(row.label, 2), color='black', ha=\"center\")\n",
    "#  print frequency on top of each bar:\n",
    "# for index, row in mergedBurglarydataFrame.iterrows():\n",
    "#     plt.text(row.name,row.label, round(row.label,2), color='black', ha=\"center\")\n",
    "plt.xticks(rotation=45)\n",
    "#  add title and axis names in blue color and bold font and italic style: \n",
    "\n",
    "\n",
    "plt.title('Burglary Data',color='blue',fontsize=20,fontweight='bold',fontstyle='italic')   \n",
    "\n",
    "plt.xlabel('Labels',color='blue',fontsize=15,fontstyle='italic')\n",
    "plt.ylabel('Frequency',color='blue',fontsize=15,fontstyle='italic')\n",
    "plt.show()\n"
   ]
  },
  {
   "cell_type": "code",
   "execution_count": 62,
   "metadata": {},
   "outputs": [
    {
     "ename": "NameError",
     "evalue": "name 'mergedBurglarydataFrame' is not defined",
     "output_type": "error",
     "traceback": [
      "\u001b[1;31m---------------------------------------------------------------------------\u001b[0m",
      "\u001b[1;31mNameError\u001b[0m                                 Traceback (most recent call last)",
      "\u001b[1;32me:\\pythonProjects\\metricAnalysis.ipynb Cell 34\u001b[0m in \u001b[0;36m<cell line: 6>\u001b[1;34m()\u001b[0m\n\u001b[0;32m      <a href='vscode-notebook-cell:/e%3A/pythonProjects/metricAnalysis.ipynb#X45sZmlsZQ%3D%3D?line=1'>2</a>\u001b[0m \u001b[39mimport\u001b[39;00m \u001b[39mseaborn\u001b[39;00m \u001b[39mas\u001b[39;00m \u001b[39msns\u001b[39;00m\n\u001b[0;32m      <a href='vscode-notebook-cell:/e%3A/pythonProjects/metricAnalysis.ipynb#X45sZmlsZQ%3D%3D?line=3'>4</a>\u001b[0m plt\u001b[39m.\u001b[39mfigure(figsize\u001b[39m=\u001b[39m(\u001b[39m20\u001b[39m,\u001b[39m10\u001b[39m))\n\u001b[1;32m----> <a href='vscode-notebook-cell:/e%3A/pythonProjects/metricAnalysis.ipynb#X45sZmlsZQ%3D%3D?line=5'>6</a>\u001b[0m sns\u001b[39m.\u001b[39mbarplot(x\u001b[39m=\u001b[39m\u001b[39m'\u001b[39m\u001b[39mindex\u001b[39m\u001b[39m'\u001b[39m, y\u001b[39m=\u001b[39m\u001b[39m'\u001b[39m\u001b[39mlabel\u001b[39m\u001b[39m'\u001b[39m, data\u001b[39m=\u001b[39mmergedBurglarydataFrame)\n\u001b[0;32m      <a href='vscode-notebook-cell:/e%3A/pythonProjects/metricAnalysis.ipynb#X45sZmlsZQ%3D%3D?line=7'>8</a>\u001b[0m \u001b[39mfor\u001b[39;00m index, row \u001b[39min\u001b[39;00m mergedBurglarydataFrame\u001b[39m.\u001b[39miterrows():\n\u001b[0;32m      <a href='vscode-notebook-cell:/e%3A/pythonProjects/metricAnalysis.ipynb#X45sZmlsZQ%3D%3D?line=8'>9</a>\u001b[0m     \u001b[39m# plt.text(row.name, row.label+0.05, round(row.label, 2), color='black', ha=\"center\", fontsize=12)\u001b[39;00m\n\u001b[0;32m     <a href='vscode-notebook-cell:/e%3A/pythonProjects/metricAnalysis.ipynb#X45sZmlsZQ%3D%3D?line=9'>10</a>\u001b[0m     plt\u001b[39m.\u001b[39mtext(row\u001b[39m.\u001b[39mname \u001b[39m-\u001b[39m \u001b[39m1.9\u001b[39m, row\u001b[39m.\u001b[39mlabel\u001b[39m+\u001b[39m\u001b[39m10\u001b[39m, \u001b[39mround\u001b[39m(row\u001b[39m.\u001b[39mlabel, \u001b[39m2\u001b[39m), color\u001b[39m=\u001b[39m\u001b[39m'\u001b[39m\u001b[39mblack\u001b[39m\u001b[39m'\u001b[39m, ha\u001b[39m=\u001b[39m\u001b[39m\"\u001b[39m\u001b[39mcenter\u001b[39m\u001b[39m\"\u001b[39m, fontsize\u001b[39m=\u001b[39m\u001b[39m12\u001b[39m)\n",
      "\u001b[1;31mNameError\u001b[0m: name 'mergedBurglarydataFrame' is not defined"
     ]
    },
    {
     "data": {
      "text/plain": [
       "<Figure size 1440x720 with 0 Axes>"
      ]
     },
     "metadata": {},
     "output_type": "display_data"
    }
   ],
   "source": [
    "import matplotlib.pyplot as plt\n",
    "import seaborn as sns\n",
    "\n",
    "plt.figure(figsize=(20,10))\n",
    "\n",
    "sns.barplot(x='index', y='label', data=mergedBurglarydataFrame)\n",
    "\n",
    "for index, row in mergedBurglarydataFrame.iterrows():\n",
    "    # plt.text(row.name, row.label+0.05, round(row.label, 2), color='black', ha=\"center\", fontsize=12)\n",
    "    plt.text(row.name - 1.9, row.label+10, round(row.label, 2), color='black', ha=\"center\", fontsize=12)\n",
    "\n",
    "plt.xticks(rotation=45)\n",
    "\n",
    "plt.title('Burglary Data', color='blue', fontsize=20, fontweight='bold', fontstyle='italic')\n",
    "plt.xlabel('Labels', color='blue', fontsize=15, fontstyle='italic')\n",
    "plt.ylabel('Frequency', color='blue', fontsize=15, fontstyle='italic')\n",
    "\n",
    "plt.show()"
   ]
  },
  {
   "cell_type": "code",
   "execution_count": 63,
   "metadata": {},
   "outputs": [
    {
     "ename": "NameError",
     "evalue": "name 'mergedBurglarydataFrame' is not defined",
     "output_type": "error",
     "traceback": [
      "\u001b[1;31m---------------------------------------------------------------------------\u001b[0m",
      "\u001b[1;31mNameError\u001b[0m                                 Traceback (most recent call last)",
      "\u001b[1;32me:\\pythonProjects\\metricAnalysis.ipynb Cell 35\u001b[0m in \u001b[0;36m<cell line: 13>\u001b[1;34m()\u001b[0m\n\u001b[0;32m      <a href='vscode-notebook-cell:/e%3A/pythonProjects/metricAnalysis.ipynb#X46sZmlsZQ%3D%3D?line=6'>7</a>\u001b[0m plt\u001b[39m.\u001b[39mfigure(figsize\u001b[39m=\u001b[39m(\u001b[39m20\u001b[39m,\u001b[39m10\u001b[39m))\n\u001b[0;32m      <a href='vscode-notebook-cell:/e%3A/pythonProjects/metricAnalysis.ipynb#X46sZmlsZQ%3D%3D?line=7'>8</a>\u001b[0m \u001b[39m# ax = sns.barplot(x=labels, y=values)\u001b[39;00m\n\u001b[0;32m      <a href='vscode-notebook-cell:/e%3A/pythonProjects/metricAnalysis.ipynb#X46sZmlsZQ%3D%3D?line=8'>9</a>\u001b[0m \u001b[39m# for i, p in enumerate(ax.patches):\u001b[39;00m\n\u001b[0;32m     <a href='vscode-notebook-cell:/e%3A/pythonProjects/metricAnalysis.ipynb#X46sZmlsZQ%3D%3D?line=9'>10</a>\u001b[0m \u001b[39m#     height = p.get_height()\u001b[39;00m\n\u001b[0;32m     <a href='vscode-notebook-cell:/e%3A/pythonProjects/metricAnalysis.ipynb#X46sZmlsZQ%3D%3D?line=10'>11</a>\u001b[0m \u001b[39m#     ax.text(p.get_x()+p.get_width()/2., height + 0.1, values[i],ha=\"center\")\u001b[39;00m\n\u001b[1;32m---> <a href='vscode-notebook-cell:/e%3A/pythonProjects/metricAnalysis.ipynb#X46sZmlsZQ%3D%3D?line=12'>13</a>\u001b[0m ax\u001b[39m=\u001b[39msns\u001b[39m.\u001b[39mbarplot(x\u001b[39m=\u001b[39m\u001b[39m'\u001b[39m\u001b[39mindex\u001b[39m\u001b[39m'\u001b[39m, y\u001b[39m=\u001b[39m\u001b[39m'\u001b[39m\u001b[39mlabel\u001b[39m\u001b[39m'\u001b[39m, data\u001b[39m=\u001b[39mmergedBurglarydataFrame)\n\u001b[0;32m     <a href='vscode-notebook-cell:/e%3A/pythonProjects/metricAnalysis.ipynb#X46sZmlsZQ%3D%3D?line=13'>14</a>\u001b[0m \u001b[39mfor\u001b[39;00m i, p \u001b[39min\u001b[39;00m \u001b[39menumerate\u001b[39m(ax\u001b[39m.\u001b[39mpatches):\n\u001b[0;32m     <a href='vscode-notebook-cell:/e%3A/pythonProjects/metricAnalysis.ipynb#X46sZmlsZQ%3D%3D?line=14'>15</a>\u001b[0m     height \u001b[39m=\u001b[39m p\u001b[39m.\u001b[39mget_height()\n",
      "\u001b[1;31mNameError\u001b[0m: name 'mergedBurglarydataFrame' is not defined"
     ]
    },
    {
     "data": {
      "text/plain": [
       "<Figure size 1440x720 with 0 Axes>"
      ]
     },
     "metadata": {},
     "output_type": "display_data"
    }
   ],
   "source": [
    "import matplotlib.pyplot as plt\n",
    "import seaborn as sns\n",
    "\n",
    "# set font size\n",
    "sns.set(font_scale=1.5)\n",
    "\n",
    "plt.figure(figsize=(20,10))\n",
    "# ax = sns.barplot(x=labels, y=values)\n",
    "# for i, p in enumerate(ax.patches):\n",
    "#     height = p.get_height()\n",
    "#     ax.text(p.get_x()+p.get_width()/2., height + 0.1, values[i],ha=\"center\")\n",
    "\n",
    "ax=sns.barplot(x='index', y='label', data=mergedBurglarydataFrame)\n",
    "for i, p in enumerate(ax.patches):\n",
    "    height = p.get_height()\n",
    "    ax.text(p.get_x()+p.get_width()/2., height + 0.1, data[i],ha=\"center\")\n",
    "\n",
    "# for index, row in mergedBurglarydataFrame.iterrows():\n",
    "#     plt.text(row.name - 2.0, row.label+10, round(row.label, 2), color='black', ha=\"center\", fontsize=12)\n",
    "\n",
    "plt.xticks(rotation=45)\n",
    "\n",
    "plt.title('Burglary Data', color='blue', fontsize=20, fontweight='bold', fontstyle='italic')\n",
    "plt.xlabel('Labels', color='blue', fontsize=15, fontstyle='italic')\n",
    "plt.ylabel('Frequency', color='blue', fontsize=15, fontstyle='italic')\n",
    "\n",
    "plt.show()"
   ]
  },
  {
   "cell_type": "code",
   "execution_count": 64,
   "metadata": {},
   "outputs": [
    {
     "ename": "NameError",
     "evalue": "name 'mergedBurglarydataFrame' is not defined",
     "output_type": "error",
     "traceback": [
      "\u001b[1;31m---------------------------------------------------------------------------\u001b[0m",
      "\u001b[1;31mNameError\u001b[0m                                 Traceback (most recent call last)",
      "\u001b[1;32me:\\pythonProjects\\metricAnalysis.ipynb Cell 36\u001b[0m in \u001b[0;36m<cell line: 2>\u001b[1;34m()\u001b[0m\n\u001b[0;32m      <a href='vscode-notebook-cell:/e%3A/pythonProjects/metricAnalysis.ipynb#X50sZmlsZQ%3D%3D?line=0'>1</a>\u001b[0m fig, ax1 \u001b[39m=\u001b[39m plt\u001b[39m.\u001b[39msubplots(figsize\u001b[39m=\u001b[39m(\u001b[39m20\u001b[39m,\u001b[39m10\u001b[39m))\n\u001b[1;32m----> <a href='vscode-notebook-cell:/e%3A/pythonProjects/metricAnalysis.ipynb#X50sZmlsZQ%3D%3D?line=1'>2</a>\u001b[0m graph \u001b[39m=\u001b[39m sns\u001b[39m.\u001b[39mcountplot(ax\u001b[39m=\u001b[39m\u001b[39m'\u001b[39m\u001b[39mindex\u001b[39m\u001b[39m'\u001b[39m,y\u001b[39m=\u001b[39m\u001b[39m'\u001b[39m\u001b[39mlabel\u001b[39m\u001b[39m'\u001b[39m, data\u001b[39m=\u001b[39mmergedBurglarydataFrame)\n\u001b[0;32m      <a href='vscode-notebook-cell:/e%3A/pythonProjects/metricAnalysis.ipynb#X50sZmlsZQ%3D%3D?line=2'>3</a>\u001b[0m graph\u001b[39m.\u001b[39mset_xticklabels(graph\u001b[39m.\u001b[39mget_xticklabels(),rotation\u001b[39m=\u001b[39m\u001b[39m90\u001b[39m)\n\u001b[0;32m      <a href='vscode-notebook-cell:/e%3A/pythonProjects/metricAnalysis.ipynb#X50sZmlsZQ%3D%3D?line=3'>4</a>\u001b[0m \u001b[39mfor\u001b[39;00m p \u001b[39min\u001b[39;00m graph\u001b[39m.\u001b[39mpatches:\n",
      "\u001b[1;31mNameError\u001b[0m: name 'mergedBurglarydataFrame' is not defined"
     ]
    },
    {
     "data": {
      "image/png": "[encoded data removed]",
      "text/plain": [
       "<Figure size 1440x720 with 1 Axes>"
      ]
     },
     "metadata": {},
     "output_type": "display_data"
    }
   ],
   "source": [
    "fig, ax1 = plt.subplots(figsize=(20,10))\n",
    "graph = sns.countplot(ax='index',y='label', data=mergedBurglarydataFrame)\n",
    "graph.set_xticklabels(graph.get_xticklabels(),rotation=90)\n",
    "for p in graph.patches:\n",
    "    height = p.get_height()\n",
    "    graph.text(p.get_x()+p.get_width()/2., height + 0.1,height ,ha=\"center\")"
   ]
  },
  {
   "cell_type": "code",
   "execution_count": 65,
   "metadata": {},
   "outputs": [],
   "source": [
    "#  count all labels where label ends with -ENTRY:\n",
    "ENTRY=mergedBurglary[mergedBurglary.label.str.endswith('B-ENTRY')].label.count()\n",
    "#  COUNT all labels where label ends with B-VTM_LEFT_HOME_TIME:\n",
    "VTM_LEFT_HOME_TIME=mergedBurglary[mergedBurglary.label.str.endswith('B-VTM_LEFT_HOME_TIME')].label.count()\n",
    "#  COUNT all labels where label ends with B-NATIVE:\n",
    "NATIVE=mergedBurglary[mergedBurglary.label.str.endswith('B-NATIVE')].label.count()\n",
    "#  COUNT all labels where label ends with B-APPEARANCE:\n",
    "APPEARANCE=mergedBurglary[mergedBurglary.label.str.endswith('B-APPEARANCE')].label.count()\n",
    "#  COUNT all labels where label ends with B-GENDER:\n",
    "GENDER=mergedBurglary[mergedBurglary.label.str.endswith('B-GENDER')].label.count()\n",
    "#  COUNT all labels where label ends with B-LOCATION"
   ]
  },
  {
   "cell_type": "code",
   "execution_count": 66,
   "metadata": {},
   "outputs": [
    {
     "ename": "NameError",
     "evalue": "name 'LOST_ITEM_TYPE' is not defined",
     "output_type": "error",
     "traceback": [
      "\u001b[1;31m---------------------------------------------------------------------------\u001b[0m",
      "\u001b[1;31mNameError\u001b[0m                                 Traceback (most recent call last)",
      "\u001b[1;32me:\\pythonProjects\\metricAnalysis.ipynb Cell 38\u001b[0m in \u001b[0;36m<cell line: 1>\u001b[1;34m()\u001b[0m\n\u001b[1;32m----> <a href='vscode-notebook-cell:/e%3A/pythonProjects/metricAnalysis.ipynb#X52sZmlsZQ%3D%3D?line=0'>1</a>\u001b[0m LOST_ITEM_TYPE\n",
      "\u001b[1;31mNameError\u001b[0m: name 'LOST_ITEM_TYPE' is not defined"
     ]
    }
   ],
   "source": [
    "LOST_ITEM_TYPE"
   ]
  },
  {
   "attachments": {},
   "cell_type": "markdown",
   "metadata": {},
   "source": [
    "#### All keys"
   ]
  },
  {
   "cell_type": "code",
   "execution_count": null,
   "metadata": {},
   "outputs": [],
   "source": []
  },
  {
   "cell_type": "code",
   "execution_count": 67,
   "metadata": {},
   "outputs": [
    {
     "data": {
      "text/plain": [
       "dict_keys([])"
      ]
     },
     "execution_count": 67,
     "metadata": {},
     "output_type": "execute_result"
    }
   ],
   "source": [
    "all_data.keys()"
   ]
  },
  {
   "attachments": {},
   "cell_type": "markdown",
   "metadata": {},
   "source": [
    "#### Extract information from the required key and make a dataframe"
   ]
  },
  {
   "cell_type": "code",
   "execution_count": 30,
   "metadata": {},
   "outputs": [],
   "source": [
    "entities = []\n",
    "for key, value in all_data.items():\n",
    "    for annotation in value[\"annotations\"]:\n",
    "        # add file name to each annotation\n",
    "        id = key.split(\".\")[0]\n",
    "        # add text to each annotation\n",
    "        text = annotation[0]\n",
    "        # add entities\n",
    "        entities_dict = annotation[1][\"entities\"]\n",
    "        for entity in entities_dict:\n",
    "            start = entity[0]\n",
    "            end = entity[1]\n",
    "            type = entity[2]\n",
    "            entities.append([id,text, start, end, type])\n",
    "\n",
    "df = pd.DataFrame(entities, columns=[\"Id\",\"Text\", \"Start\", \"End\", \"Type\"])"
   ]
  },
  {
   "cell_type": "code",
   "execution_count": 31,
   "metadata": {},
   "outputs": [
    {
     "data": {
      "text/html": [
       "<div>\n",
       "<style scoped>\n",
       "    .dataframe tbody tr th:only-of-type {\n",
       "        vertical-align: middle;\n",
       "    }\n",
       "\n",
       "    .dataframe tbody tr th {\n",
       "        vertical-align: top;\n",
       "    }\n",
       "\n",
       "    .dataframe thead th {\n",
       "        text-align: right;\n",
       "    }\n",
       "</style>\n",
       "<table border=\"1\" class=\"dataframe\">\n",
       "  <thead>\n",
       "    <tr style=\"text-align: right;\">\n",
       "      <th></th>\n",
       "      <th>text</th>\n",
       "      <th>label</th>\n",
       "    </tr>\n",
       "  </thead>\n",
       "  <tbody>\n",
       "    <tr>\n",
       "      <th>4</th>\n",
       "      <td>duplex</td>\n",
       "      <td>B-LOCATION_TYPE</td>\n",
       "    </tr>\n",
       "    <tr>\n",
       "      <th>45</th>\n",
       "      <td>0300hrs</td>\n",
       "      <td>B-VTM_LEFT_HOME_TIME</td>\n",
       "    </tr>\n",
       "    <tr>\n",
       "      <th>66</th>\n",
       "      <td>At</td>\n",
       "      <td>B-VTM_LEFT_HOME_TIME</td>\n",
       "    </tr>\n",
       "    <tr>\n",
       "      <th>76</th>\n",
       "      <td>ransacking.</td>\n",
       "      <td>B-RANSACKING</td>\n",
       "    </tr>\n",
       "    <tr>\n",
       "      <th>96</th>\n",
       "      <td>ransacking</td>\n",
       "      <td>B-RANSACKING</td>\n",
       "    </tr>\n",
       "  </tbody>\n",
       "</table>\n",
       "</div>"
      ],
      "text/plain": [
       "           text                 label\n",
       "4        duplex       B-LOCATION_TYPE\n",
       "45      0300hrs  B-VTM_LEFT_HOME_TIME\n",
       "66           At  B-VTM_LEFT_HOME_TIME\n",
       "76  ransacking.          B-RANSACKING\n",
       "96   ransacking          B-RANSACKING"
      ]
     },
     "execution_count": 31,
     "metadata": {},
     "output_type": "execute_result"
    }
   ],
   "source": [
    "mergedBurglaryminidataFrame.head()"
   ]
  },
  {
   "cell_type": "code",
   "execution_count": 32,
   "metadata": {},
   "outputs": [
    {
     "name": "stderr",
     "output_type": "stream",
     "text": [
      "C:\\Users\\user\\AppData\\Local\\Temp\\ipykernel_8592\\2501099416.py:2: SettingWithCopyWarning: \n",
      "A value is trying to be set on a copy of a slice from a DataFrame.\n",
      "Try using .loc[row_indexer,col_indexer] = value instead\n",
      "\n",
      "See the caveats in the documentation: https://pandas.pydata.org/pandas-docs/stable/user_guide/indexing.html#returning-a-view-versus-a-copy\n",
      "  mergedBurglaryminidataFrame['label'] = mergedBurglaryminidataFrame['label'].str.replace('B-','')\n"
     ]
    }
   ],
   "source": [
    "#  replace all B- with empty string:\n",
    "mergedBurglaryminidataFrame['label'] = mergedBurglaryminidataFrame['label'].str.replace('B-','')"
   ]
  },
  {
   "cell_type": "code",
   "execution_count": 33,
   "metadata": {},
   "outputs": [
    {
     "name": "stdout",
     "output_type": "stream",
     "text": [
      "AxesSubplot(0.125,0.125;0.775x0.755)\n"
     ]
    },
    {
     "data": {
      "image/png": "[encoded data removed]",
      "text/plain": [
       "<Figure size 1440x720 with 1 Axes>"
      ]
     },
     "metadata": {
      "needs_background": "light"
     },
     "output_type": "display_data"
    }
   ],
   "source": [
    "fig, ax1 = plt.subplots(figsize=(20,10))\n",
    "print(ax1)\n",
    "graph = sns.countplot(ax=ax1,x='label', data=mergedBurglaryminidataFrame)\n",
    "graph.set_xticklabels(graph.get_xticklabels(),rotation=90)\n",
    "i=0\n",
    "for p in graph.patches:\n",
    "    height = p.get_height()\n",
    "    graph.text(p.get_x()+p.get_width()/2., height + 2,\n",
    "        int(height),ha=\"center\",fontweight='bold')\n",
    "    i += 1\n",
    "i=0\n",
    "ax = sns.countplot(x=mergedBurglaryminidataFrame['label'], data=mergedBurglaryminidataFrame)\n",
    "# for p in ax.patches:\n",
    "#     ax.annotate(f'\\n{p.get_height()}', (p.get_x()+0.4, int(p.get_height())), ha='center', va='top', color='black', size=12)\n",
    "plt.xticks(rotation=45)\n",
    "\n",
    "plt.title('Burglary Tag Frequencies', color='blue', fontsize=20, fontweight='bold', fontstyle='italic')\n",
    "plt.xlabel('Labels', color='blue', fontsize=15, fontstyle='italic')\n",
    "plt.ylabel('Frequency', color='blue', fontsize=15, fontstyle='italic')\n",
    "\n",
    "plt.show()\n",
    "# save the figure correctly without any cuttings:\n",
    "\n",
    "fig.savefig('BurglaryData.png')\n"
   ]
  },
  {
   "cell_type": "code",
   "execution_count": 34,
   "metadata": {},
   "outputs": [
    {
     "name": "stdout",
     "output_type": "stream",
     "text": [
      "AxesSubplot(0.125,0.125;0.775x0.755)\n",
      "156.0\n",
      "84.0\n",
      "125.0\n",
      "429.0\n",
      "124.0\n",
      "144.0\n",
      "54.0\n",
      "9.0\n",
      "74.0\n",
      "26.0\n",
      "66.0\n",
      "5.0\n",
      "14.0\n",
      "3.0\n",
      "5.0\n"
     ]
    },
    {
     "data": {
      "image/png": "[encoded data removed]",
      "text/plain": [
       "<Figure size 1440x720 with 1 Axes>"
      ]
     },
     "metadata": {
      "needs_background": "light"
     },
     "output_type": "display_data"
    }
   ],
   "source": [
    "fig, ax1 = plt.subplots(figsize=(20,10))\n",
    "print(ax1)\n",
    "#  convert ax1 to list\n",
    "bx1 = mergedBurglaryminidataFrame['label'].value_counts().tolist()\n",
    "graph = sns.countplot(ax=ax1,x='label', data=mergedBurglaryminidataFrame)\n",
    "graph.set_xticklabels(graph.get_xticklabels(),rotation=90)\n",
    "i=0\n",
    "for p in graph.patches:\n",
    "    height = p.get_height()\n",
    "    print(height)\n",
    "    graph.text(p.get_x()+0.3, p.get_height() + 0.4,height,ha=\"center\",va='top', color='black', size=10)\n",
    "    i += 1\n",
    "# i=0\n",
    "# ax = sns.countplot(x=mergedBurglaryminidataFrame['label'], data=mergedBurglaryminidataFrame)\n",
    "# for p in ax.patches:\n",
    "#     ax.annotate(f'\\n{p.get_height()}', (p.get_x()+0.4, int(p.get_height())), ha='center', va='top', color='black', size=12)\n",
    "# plt.xticks(rotation=90)\n",
    "\n",
    "# plt.title('Burglary Data', color='blue', fontsize=20, fontweight='bold', fontstyle='italic')\n",
    "# plt.xlabel('Labels', color='blue', fontsize=15, fontstyle='italic')\n",
    "# plt.ylabel('Frequency', color='blue', fontsize=15, fontstyle='italic')\n",
    "\n",
    "# plt.show()"
   ]
  },
  {
   "cell_type": "code",
   "execution_count": 35,
   "metadata": {},
   "outputs": [
    {
     "data": {
      "image/png": "[encoded data removed]",
      "text/plain": [
       "<Figure size 1440x720 with 1 Axes>"
      ]
     },
     "metadata": {
      "needs_background": "light"
     },
     "output_type": "display_data"
    }
   ],
   "source": [
    "import matplotlib.pyplot as plt\n",
    "import seaborn as sns\n",
    "\n",
    "plt.figure(figsize=(20,10)) # adjust the width and height values as needed\n",
    "ax = sns.countplot(x=mergedBurglaryminidataFrame['label'], data=mergedBurglaryminidataFrame)\n",
    "for p in ax.patches:\n",
    "    ax.annotate(f'\\n{p.get_height()}', (p.get_x()+0.4, int(p.get_height())), ha='center', va='top', color='black', size=12)\n",
    "plt.xticks(rotation=90)\n",
    "\n",
    "plt.title('Burglary Data', color='blue', fontsize=20, fontweight='bold', fontstyle='italic')\n",
    "plt.xlabel('Labels', color='blue', fontsize=15, fontstyle='italic')\n",
    "plt.ylabel('Frequency', color='blue', fontsize=15, fontstyle='italic')\n",
    "\n",
    "plt.show()\n"
   ]
  },
  {
   "cell_type": "code",
   "execution_count": 41,
   "metadata": {},
   "outputs": [
    {
     "data": {
      "text/plain": [
       "residential    34\n",
       "village        11\n",
       "restaurant      8\n",
       "industrial      8\n",
       "public          8\n",
       "               ..\n",
       "3-storey        1\n",
       "platform        1\n",
       "former          1\n",
       "building.       1\n",
       "warehouse       1\n",
       "Name: text, Length: 70, dtype: int64"
      ]
     },
     "execution_count": 41,
     "metadata": {},
     "output_type": "execute_result"
    }
   ],
   "source": [
    "# mergedBurglaryminidataFrame.label.LOCATION_TYPE.value_counts()\n",
    "# PRINT all values in TEXT column where label is LOCATION_TYPE:\n",
    "mergedBurglaryminidataFrame[mergedBurglaryminidataFrame.label == 'LOCATION_TYPE'].text.value_counts()\n",
    "#  \n"
   ]
  },
  {
   "cell_type": "code",
   "execution_count": 43,
   "metadata": {},
   "outputs": [
    {
     "name": "stdout",
     "output_type": "stream",
     "text": [
      "AxesSubplot(0.125,0.125;0.775x0.755)\n",
      "156.0\n",
      "84.0\n",
      "125.0\n",
      "429.0\n",
      "124.0\n",
      "144.0\n",
      "54.0\n",
      "9.0\n",
      "74.0\n",
      "26.0\n",
      "66.0\n",
      "5.0\n",
      "14.0\n",
      "3.0\n",
      "5.0\n"
     ]
    },
    {
     "data": {
      "image/png": "[encoded data removed]",
      "text/plain": [
       "<Figure size 1440x720 with 1 Axes>"
      ]
     },
     "metadata": {
      "needs_background": "light"
     },
     "output_type": "display_data"
    }
   ],
   "source": [
    "fig, ax1 = plt.subplots(figsize=(20,10))\n",
    "print(ax1)\n",
    "#  convert ax1 to list\n",
    "# bx1 = mergedBurglaryminidataFrame['label'].value_counts().tolist()\n",
    "bx1=mergedBurglaryminidataFrame[mergedBurglaryminidataFrame.label == 'LOCATION_TYPE'].text.value_counts()\n",
    "graph = sns.countplot(ax=ax1,x='label', data=mergedBurglaryminidataFrame)\n",
    "graph.set_xticklabels(graph.get_xticklabels(),rotation=90)\n",
    "i=0\n",
    "for p in graph.patches:\n",
    "    height = p.get_height()\n",
    "    print(height)\n",
    "    graph.text(p.get_x()+0.3, p.get_height() + 0.4,height,ha=\"center\",va='top', color='black', size=10)\n",
    "    i += 1"
   ]
  },
  {
   "cell_type": "code",
   "execution_count": 76,
   "metadata": {},
   "outputs": [
    {
     "ename": "ValueError",
     "evalue": "Could not interpret input 'label'",
     "output_type": "error",
     "traceback": [
      "\u001b[1;31m---------------------------------------------------------------------------\u001b[0m",
      "\u001b[1;31mValueError\u001b[0m                                Traceback (most recent call last)",
      "\u001b[1;32me:\\pythonProjects\\metricAnalysis.ipynb Cell 49\u001b[0m in \u001b[0;36m<cell line: 3>\u001b[1;34m()\u001b[0m\n\u001b[0;32m      <a href='vscode-notebook-cell:/e%3A/pythonProjects/metricAnalysis.ipynb#X66sZmlsZQ%3D%3D?line=0'>1</a>\u001b[0m counts \u001b[39m=\u001b[39m mergedBurglaryminidataFrame[\u001b[39m'\u001b[39m\u001b[39mlabel\u001b[39m\u001b[39m'\u001b[39m]\u001b[39m.\u001b[39mvalue_counts()\u001b[39m.\u001b[39mrename_axis(\u001b[39m'\u001b[39m\u001b[39muser\u001b[39m\u001b[39m'\u001b[39m)\u001b[39m.\u001b[39mreset_index(name\u001b[39m=\u001b[39m\u001b[39m'\u001b[39m\u001b[39mcount\u001b[39m\u001b[39m'\u001b[39m)\n\u001b[1;32m----> <a href='vscode-notebook-cell:/e%3A/pythonProjects/metricAnalysis.ipynb#X66sZmlsZQ%3D%3D?line=2'>3</a>\u001b[0m ax \u001b[39m=\u001b[39m sns\u001b[39m.\u001b[39;49mbarplot(x\u001b[39m=\u001b[39;49m\u001b[39m'\u001b[39;49m\u001b[39mlabel\u001b[39;49m\u001b[39m'\u001b[39;49m, y\u001b[39m=\u001b[39;49m\u001b[39m'\u001b[39;49m\u001b[39mcount\u001b[39;49m\u001b[39m'\u001b[39;49m, data\u001b[39m=\u001b[39;49mcounts)\n\u001b[0;32m      <a href='vscode-notebook-cell:/e%3A/pythonProjects/metricAnalysis.ipynb#X66sZmlsZQ%3D%3D?line=3'>4</a>\u001b[0m ax\u001b[39m.\u001b[39mbar_label(ax\u001b[39m.\u001b[39mcontainers[\u001b[39m0\u001b[39m])\n",
      "File \u001b[1;32mc:\\Users\\user\\AppData\\Local\\Programs\\Python\\Python310\\lib\\site-packages\\seaborn\\categorical.py:2755\u001b[0m, in \u001b[0;36mbarplot\u001b[1;34m(data, x, y, hue, order, hue_order, estimator, errorbar, n_boot, units, seed, orient, color, palette, saturation, width, errcolor, errwidth, capsize, dodge, ci, ax, **kwargs)\u001b[0m\n\u001b[0;32m   2752\u001b[0m \u001b[39mif\u001b[39;00m estimator \u001b[39mis\u001b[39;00m \u001b[39mlen\u001b[39m:\n\u001b[0;32m   2753\u001b[0m     estimator \u001b[39m=\u001b[39m \u001b[39m\"\u001b[39m\u001b[39msize\u001b[39m\u001b[39m\"\u001b[39m\n\u001b[1;32m-> 2755\u001b[0m plotter \u001b[39m=\u001b[39m _BarPlotter(x, y, hue, data, order, hue_order,\n\u001b[0;32m   2756\u001b[0m                       estimator, errorbar, n_boot, units, seed,\n\u001b[0;32m   2757\u001b[0m                       orient, color, palette, saturation,\n\u001b[0;32m   2758\u001b[0m                       width, errcolor, errwidth, capsize, dodge)\n\u001b[0;32m   2760\u001b[0m \u001b[39mif\u001b[39;00m ax \u001b[39mis\u001b[39;00m \u001b[39mNone\u001b[39;00m:\n\u001b[0;32m   2761\u001b[0m     ax \u001b[39m=\u001b[39m plt\u001b[39m.\u001b[39mgca()\n",
      "File \u001b[1;32mc:\\Users\\user\\AppData\\Local\\Programs\\Python\\Python310\\lib\\site-packages\\seaborn\\categorical.py:1530\u001b[0m, in \u001b[0;36m_BarPlotter.__init__\u001b[1;34m(self, x, y, hue, data, order, hue_order, estimator, errorbar, n_boot, units, seed, orient, color, palette, saturation, width, errcolor, errwidth, capsize, dodge)\u001b[0m\n\u001b[0;32m   1525\u001b[0m \u001b[39mdef\u001b[39;00m \u001b[39m__init__\u001b[39m(\u001b[39mself\u001b[39m, x, y, hue, data, order, hue_order,\n\u001b[0;32m   1526\u001b[0m              estimator, errorbar, n_boot, units, seed,\n\u001b[0;32m   1527\u001b[0m              orient, color, palette, saturation, width,\n\u001b[0;32m   1528\u001b[0m              errcolor, errwidth, capsize, dodge):\n\u001b[0;32m   1529\u001b[0m     \u001b[39m\"\"\"Initialize the plotter.\"\"\"\u001b[39;00m\n\u001b[1;32m-> 1530\u001b[0m     \u001b[39mself\u001b[39;49m\u001b[39m.\u001b[39;49mestablish_variables(x, y, hue, data, orient,\n\u001b[0;32m   1531\u001b[0m                              order, hue_order, units)\n\u001b[0;32m   1532\u001b[0m     \u001b[39mself\u001b[39m\u001b[39m.\u001b[39mestablish_colors(color, palette, saturation)\n\u001b[0;32m   1533\u001b[0m     \u001b[39mself\u001b[39m\u001b[39m.\u001b[39mestimate_statistic(estimator, errorbar, n_boot, seed)\n",
      "File \u001b[1;32mc:\\Users\\user\\AppData\\Local\\Programs\\Python\\Python310\\lib\\site-packages\\seaborn\\categorical.py:541\u001b[0m, in \u001b[0;36m_CategoricalPlotter.establish_variables\u001b[1;34m(self, x, y, hue, data, orient, order, hue_order, units)\u001b[0m\n\u001b[0;32m    539\u001b[0m     \u001b[39mif\u001b[39;00m \u001b[39misinstance\u001b[39m(var, \u001b[39mstr\u001b[39m):\n\u001b[0;32m    540\u001b[0m         err \u001b[39m=\u001b[39m \u001b[39mf\u001b[39m\u001b[39m\"\u001b[39m\u001b[39mCould not interpret input \u001b[39m\u001b[39m'\u001b[39m\u001b[39m{\u001b[39;00mvar\u001b[39m}\u001b[39;00m\u001b[39m'\u001b[39m\u001b[39m\"\u001b[39m\n\u001b[1;32m--> 541\u001b[0m         \u001b[39mraise\u001b[39;00m \u001b[39mValueError\u001b[39;00m(err)\n\u001b[0;32m    543\u001b[0m \u001b[39m# Figure out the plotting orientation\u001b[39;00m\n\u001b[0;32m    544\u001b[0m orient \u001b[39m=\u001b[39m infer_orient(\n\u001b[0;32m    545\u001b[0m     x, y, orient, require_numeric\u001b[39m=\u001b[39m\u001b[39mself\u001b[39m\u001b[39m.\u001b[39mrequire_numeric\n\u001b[0;32m    546\u001b[0m )\n",
      "\u001b[1;31mValueError\u001b[0m: Could not interpret input 'label'"
     ]
    }
   ],
   "source": [
    "counts = mergedBurglaryminidataFrame['label'].value_counts().rename_axis('user').reset_index(name='count')\n",
    "\n",
    "ax = sns.barplot(x='label', y='count', data=counts)\n",
    "ax.bar_label(ax.containers[0])"
   ]
  },
  {
   "attachments": {},
   "cell_type": "markdown",
   "metadata": {},
   "source": [
    "# Robbery"
   ]
  },
  {
   "cell_type": "code",
   "execution_count": 77,
   "metadata": {},
   "outputs": [
    {
     "data": {
      "text/plain": [
       "O                        40661\n",
       "I-ESCAPE_PATH              519\n",
       "I-HOW_TO_APPROACH_VTM      444\n",
       "B-LOST_ITEM_TYPES          256\n",
       "I-FORCE                    226\n",
       "B-GENDER_OF_THE_AP         209\n",
       "B-HOW_TO_APPROACH_VTM      182\n",
       "I-LOST_ITEM_TYPES          160\n",
       "B-ESCAPE_PATH              150\n",
       "B-WEAPON                   145\n",
       "B-LOCATION_TYPE            135\n",
       "I-LOCATION_TYPE            105\n",
       "B-TOTAL_LOST_AMOUNT        101\n",
       "B-GENDER                   100\n",
       "I-WEAPON                    91\n",
       "I-VTM_JOB                   84\n",
       "B-VTM_JOB                   69\n",
       "B-FORCE                     63\n",
       "B-ACQUAINTED                58\n",
       "B-GENDER_OF_THE_VTM         56\n",
       "B-CCTV_LOCATION             46\n",
       "I-CCTV_LOCATION             44\n",
       "B-APPERANCE                 42\n",
       "B-REG_NO                    34\n",
       "I-ACQUAINTED                22\n",
       "B-TOOLS                     19\n",
       "I-APPERANCE                 17\n",
       "I-REG_NO                    16\n",
       "B-LOST_ITEM_TYPE            13\n",
       "I-LOST_ITEM_TYPE            10\n",
       "I-TOOLS                      9\n",
       "B-GENDER_OF_THE VTM          8\n",
       "B-NATIVE                     5\n",
       "I-TOTAL_LOST_AMOUNT          5\n",
       "I-ID_DOC                     4\n",
       "B-CCTV_NUMBER_NER            3\n",
       "B-ID_DOC                     2\n",
       "I-CCTV_NUMBER_NER            1\n",
       "B-REG-NO                     1\n",
       "I-GENDER                     1\n",
       "I-GENDER_OF_THE_AP           1\n",
       "Name: label, dtype: int64"
      ]
     },
     "execution_count": 77,
     "metadata": {},
     "output_type": "execute_result"
    }
   ],
   "source": [
    "mergedRobbery.label.value_counts()"
   ]
  },
  {
   "cell_type": "code",
   "execution_count": 78,
   "metadata": {},
   "outputs": [],
   "source": [
    "#  CHANGE b-REG-NO to B-REG-NO\n",
    "mergedRobbery.loc[mergedRobbery.label == 'B-REG-NO', 'label'] = 'B-REG_NO'\n"
   ]
  },
  {
   "cell_type": "code",
   "execution_count": 79,
   "metadata": {},
   "outputs": [
    {
     "data": {
      "text/plain": [
       "6018    he\n",
       "Name: text, dtype: object"
      ]
     },
     "execution_count": 79,
     "metadata": {},
     "output_type": "execute_result"
    }
   ],
   "source": [
    "mergedRobbery.loc[mergedRobbery.label == 'I-GENDER', 'text']"
   ]
  },
  {
   "cell_type": "code",
   "execution_count": 80,
   "metadata": {},
   "outputs": [],
   "source": [
    "# change I-GENDER to B-GENDER:\n",
    "\n",
    "mergedRobbery.loc[mergedRobbery.label == 'I-GENDER', 'label']='B-GENDER'"
   ]
  },
  {
   "cell_type": "code",
   "execution_count": 81,
   "metadata": {},
   "outputs": [
    {
     "data": {
      "text/plain": [
       "4600    males\n",
       "Name: text, dtype: object"
      ]
     },
     "execution_count": 81,
     "metadata": {},
     "output_type": "execute_result"
    }
   ],
   "source": [
    "mergedRobbery.loc[mergedRobbery.label == 'I-GENDER_OF_THE_AP', 'text']"
   ]
  },
  {
   "cell_type": "code",
   "execution_count": 82,
   "metadata": {},
   "outputs": [],
   "source": [
    "#  change I-GENDER_OF_THE_AP to B-GENDER_OF_THE_AP:\n",
    "mergedRobbery.loc[mergedRobbery.label=='I-GENDER_OF_THE_AP']='B-GENDER_OF_THE_AP'"
   ]
  },
  {
   "cell_type": "code",
   "execution_count": 83,
   "metadata": {},
   "outputs": [
    {
     "data": {
      "text/plain": [
       "O                        40661\n",
       "I-ESCAPE_PATH              519\n",
       "I-HOW_TO_APPROACH_VTM      444\n",
       "B-LOST_ITEM_TYPES          256\n",
       "I-FORCE                    226\n",
       "B-GENDER_OF_THE_AP         210\n",
       "B-HOW_TO_APPROACH_VTM      182\n",
       "I-LOST_ITEM_TYPES          160\n",
       "B-ESCAPE_PATH              150\n",
       "B-WEAPON                   145\n",
       "B-LOCATION_TYPE            135\n",
       "I-LOCATION_TYPE            105\n",
       "B-TOTAL_LOST_AMOUNT        101\n",
       "B-GENDER                   101\n",
       "I-WEAPON                    91\n",
       "I-VTM_JOB                   84\n",
       "B-VTM_JOB                   69\n",
       "B-FORCE                     63\n",
       "B-ACQUAINTED                58\n",
       "B-GENDER_OF_THE_VTM         56\n",
       "B-CCTV_LOCATION             46\n",
       "I-CCTV_LOCATION             44\n",
       "B-APPERANCE                 42\n",
       "B-REG_NO                    35\n",
       "I-ACQUAINTED                22\n",
       "B-TOOLS                     19\n",
       "I-APPERANCE                 17\n",
       "I-REG_NO                    16\n",
       "B-LOST_ITEM_TYPE            13\n",
       "I-LOST_ITEM_TYPE            10\n",
       "I-TOOLS                      9\n",
       "B-GENDER_OF_THE VTM          8\n",
       "B-NATIVE                     5\n",
       "I-TOTAL_LOST_AMOUNT          5\n",
       "I-ID_DOC                     4\n",
       "B-CCTV_NUMBER_NER            3\n",
       "B-ID_DOC                     2\n",
       "I-CCTV_NUMBER_NER            1\n",
       "Name: label, dtype: int64"
      ]
     },
     "execution_count": 83,
     "metadata": {},
     "output_type": "execute_result"
    }
   ],
   "source": [
    "mergedRobbery.label.value_counts()"
   ]
  },
  {
   "cell_type": "code",
   "execution_count": 84,
   "metadata": {},
   "outputs": [
    {
     "data": {
      "text/plain": [
       "1395      No\n",
       "2777     one\n",
       "2780    four\n",
       "Name: text, dtype: object"
      ]
     },
     "execution_count": 84,
     "metadata": {},
     "output_type": "execute_result"
    }
   ],
   "source": [
    "#  I-CCTV-NUMBER_NER\n",
    "mergedRobbery.loc[mergedRobbery.label == 'B-CCTV_NUMBER_NER', 'text']"
   ]
  },
  {
   "cell_type": "code",
   "execution_count": 85,
   "metadata": {},
   "outputs": [],
   "source": [
    "#  fill with NA ALL NULLS\n",
    "mergedRobbery.fillna('NA', inplace=True)"
   ]
  },
  {
   "cell_type": "code",
   "execution_count": 86,
   "metadata": {},
   "outputs": [],
   "source": [
    "#  GET ALL LABELS WHICH START WITH B-:\n",
    "# mergedRoberryminidataFrame=mergedRobbery.loc[mergedRobbery.label.str.startswith('B-')]\n",
    "#  save only those values which starts with B- :\n",
    "mergedRoberryminidataFrame=mergedRobbery[mergedRobbery['label'].str.startswith('B-')]"
   ]
  },
  {
   "cell_type": "code",
   "execution_count": 87,
   "metadata": {},
   "outputs": [
    {
     "name": "stderr",
     "output_type": "stream",
     "text": [
      "C:\\Users\\user\\AppData\\Local\\Temp\\ipykernel_14528\\3710840756.py:2: SettingWithCopyWarning: \n",
      "A value is trying to be set on a copy of a slice from a DataFrame.\n",
      "Try using .loc[row_indexer,col_indexer] = value instead\n",
      "\n",
      "See the caveats in the documentation: https://pandas.pydata.org/pandas-docs/stable/user_guide/indexing.html#returning-a-view-versus-a-copy\n",
      "  mergedRoberryminidataFrame['label'] = mergedRoberryminidataFrame['label'].str.replace('B-','')\n"
     ]
    }
   ],
   "source": [
    "#  remove all B- from the labels:\n",
    "mergedRoberryminidataFrame['label'] = mergedRoberryminidataFrame['label'].str.replace('B-','')"
   ]
  },
  {
   "cell_type": "code",
   "execution_count": 88,
   "metadata": {},
   "outputs": [
    {
     "name": "stdout",
     "output_type": "stream",
     "text": [
      "AxesSubplot(0.125,0.125;0.775x0.755)\n"
     ]
    },
    {
     "data": {
      "image/png": "[encoded data removed]",
      "text/plain": [
       "<Figure size 1440x720 with 1 Axes>"
      ]
     },
     "metadata": {},
     "output_type": "display_data"
    }
   ],
   "source": [
    "fig, ax1 = plt.subplots(figsize=(20,10))\n",
    "print(ax1)\n",
    "graph = sns.countplot(ax=ax1,x='label', data=mergedRoberryminidataFrame)\n",
    "graph.set_xticklabels(graph.get_xticklabels(),rotation=90)\n",
    "i=0\n",
    "for p in graph.patches:\n",
    "    height = p.get_height()\n",
    "    graph.text(p.get_x()+p.get_width()/2., height + 2,\n",
    "        int(height),ha=\"center\",fontweight='bold')\n",
    "    i += 1\n",
    "i=0\n",
    "ax = sns.countplot(x=mergedRoberryminidataFrame['label'], data=mergedRoberryminidataFrame)\n",
    "# for p in ax.patches:\n",
    "#     ax.annotate(f'\\n{p.get_height()}', (p.get_x()+0.4, int(p.get_height())), ha='center', va='top', color='black', size=12)\n",
    "plt.xticks(rotation=90)\n",
    "\n",
    "plt.title('Robbery Tag Frequencies', color='blue', fontsize=20, fontweight='bold', fontstyle='italic')\n",
    "plt.xlabel('Labels', color='blue', fontsize=15, fontstyle='italic')\n",
    "plt.ylabel('Frequency', color='blue', fontsize=15, fontstyle='italic')\n",
    "\n",
    "plt.show()\n",
    "# save the figure correctly without any cuttings:\n",
    "\n"
   ]
  },
  {
   "attachments": {},
   "cell_type": "markdown",
   "metadata": {},
   "source": [
    "## Further analysis lost item types"
   ]
  },
  {
   "cell_type": "code",
   "execution_count": 103,
   "metadata": {},
   "outputs": [],
   "source": [
    "imergedRobberydataFrame=mergedRoberryminidataFrame.loc[mergedRoberryminidataFrame.label == 'LOST_ITEM_TYPES'].value_counts().to_frame().reset_index()\n",
    "# save value_counts to a dataframe:\n",
    "# robberyLostItemTypes = mergedRoberryminidataFrame.loc[mergedRoberryminidataFrame.label == 'LOST_ITEM_TYPES'].value_counts()\n",
    "# imergedRobberydataFrame=mergedRoberryminidataFrame.label.value_counts().to_frame().reset_index()\n"
   ]
  },
  {
   "cell_type": "code",
   "execution_count": 104,
   "metadata": {},
   "outputs": [
    {
     "data": {
      "text/html": [
       "<div>\n",
       "<style scoped>\n",
       "    .dataframe tbody tr th:only-of-type {\n",
       "        vertical-align: middle;\n",
       "    }\n",
       "\n",
       "    .dataframe tbody tr th {\n",
       "        vertical-align: top;\n",
       "    }\n",
       "\n",
       "    .dataframe thead th {\n",
       "        text-align: right;\n",
       "    }\n",
       "</style>\n",
       "<table border=\"1\" class=\"dataframe\">\n",
       "  <thead>\n",
       "    <tr style=\"text-align: right;\">\n",
       "      <th></th>\n",
       "      <th>text</th>\n",
       "      <th>label</th>\n",
       "      <th>0</th>\n",
       "    </tr>\n",
       "  </thead>\n",
       "  <tbody>\n",
       "    <tr>\n",
       "      <th>0</th>\n",
       "      <td>cash</td>\n",
       "      <td>LOST_ITEM_TYPES</td>\n",
       "      <td>52</td>\n",
       "    </tr>\n",
       "    <tr>\n",
       "      <th>1</th>\n",
       "      <td>mobile</td>\n",
       "      <td>LOST_ITEM_TYPES</td>\n",
       "      <td>19</td>\n",
       "    </tr>\n",
       "    <tr>\n",
       "      <th>2</th>\n",
       "      <td>gold</td>\n",
       "      <td>LOST_ITEM_TYPES</td>\n",
       "      <td>11</td>\n",
       "    </tr>\n",
       "    <tr>\n",
       "      <th>3</th>\n",
       "      <td>bank</td>\n",
       "      <td>LOST_ITEM_TYPES</td>\n",
       "      <td>11</td>\n",
       "    </tr>\n",
       "    <tr>\n",
       "      <th>4</th>\n",
       "      <td>handbag</td>\n",
       "      <td>LOST_ITEM_TYPES</td>\n",
       "      <td>9</td>\n",
       "    </tr>\n",
       "    <tr>\n",
       "      <th>...</th>\n",
       "      <td>...</td>\n",
       "      <td>...</td>\n",
       "      <td>...</td>\n",
       "    </tr>\n",
       "    <tr>\n",
       "      <th>92</th>\n",
       "      <td>VTM's</td>\n",
       "      <td>LOST_ITEM_TYPES</td>\n",
       "      <td>1</td>\n",
       "    </tr>\n",
       "    <tr>\n",
       "      <th>93</th>\n",
       "      <td>S/ppty8-9.</td>\n",
       "      <td>LOST_ITEM_TYPES</td>\n",
       "      <td>1</td>\n",
       "    </tr>\n",
       "    <tr>\n",
       "      <th>94</th>\n",
       "      <td>S/ppty2.</td>\n",
       "      <td>LOST_ITEM_TYPES</td>\n",
       "      <td>1</td>\n",
       "    </tr>\n",
       "    <tr>\n",
       "      <th>95</th>\n",
       "      <td>S/ppty2-7),</td>\n",
       "      <td>LOST_ITEM_TYPES</td>\n",
       "      <td>1</td>\n",
       "    </tr>\n",
       "    <tr>\n",
       "      <th>96</th>\n",
       "      <td>‘Alphard’</td>\n",
       "      <td>LOST_ITEM_TYPES</td>\n",
       "      <td>1</td>\n",
       "    </tr>\n",
       "  </tbody>\n",
       "</table>\n",
       "<p>97 rows × 3 columns</p>\n",
       "</div>"
      ],
      "text/plain": [
       "           text            label   0\n",
       "0          cash  LOST_ITEM_TYPES  52\n",
       "1        mobile  LOST_ITEM_TYPES  19\n",
       "2          gold  LOST_ITEM_TYPES  11\n",
       "3          bank  LOST_ITEM_TYPES  11\n",
       "4       handbag  LOST_ITEM_TYPES   9\n",
       "..          ...              ...  ..\n",
       "92        VTM's  LOST_ITEM_TYPES   1\n",
       "93   S/ppty8-9.  LOST_ITEM_TYPES   1\n",
       "94     S/ppty2.  LOST_ITEM_TYPES   1\n",
       "95  S/ppty2-7),  LOST_ITEM_TYPES   1\n",
       "96    ‘Alphard’  LOST_ITEM_TYPES   1\n",
       "\n",
       "[97 rows x 3 columns]"
      ]
     },
     "execution_count": 104,
     "metadata": {},
     "output_type": "execute_result"
    }
   ],
   "source": [
    "imergedRobberydataFrame"
   ]
  },
  {
   "cell_type": "code",
   "execution_count": 97,
   "metadata": {},
   "outputs": [
    {
     "data": {
      "text/plain": [
       "['label', 'text', 'count']"
      ]
     },
     "execution_count": 97,
     "metadata": {},
     "output_type": "execute_result"
    }
   ],
   "source": [
    "#  draw a pie chart for text:\n",
    "fig, ax1 = plt.subplots(figsize=(20,10))\n",
    "\n",
    "\n",
    "\n",
    "robberyLostItemTypes.columns"
   ]
  },
  {
   "cell_type": "code",
   "execution_count": 100,
   "metadata": {},
   "outputs": [
    {
     "ename": "KeyError",
     "evalue": "'label'",
     "output_type": "error",
     "traceback": [
      "\u001b[1;31m---------------------------------------------------------------------------\u001b[0m",
      "\u001b[1;31mKeyError\u001b[0m                                  Traceback (most recent call last)",
      "File \u001b[1;32mc:\\Users\\user\\AppData\\Local\\Programs\\Python\\Python310\\lib\\site-packages\\pandas\\core\\indexes\\base.py:3621\u001b[0m, in \u001b[0;36mIndex.get_loc\u001b[1;34m(self, key, method, tolerance)\u001b[0m\n\u001b[0;32m   3620\u001b[0m \u001b[39mtry\u001b[39;00m:\n\u001b[1;32m-> 3621\u001b[0m     \u001b[39mreturn\u001b[39;00m \u001b[39mself\u001b[39;49m\u001b[39m.\u001b[39;49m_engine\u001b[39m.\u001b[39;49mget_loc(casted_key)\n\u001b[0;32m   3622\u001b[0m \u001b[39mexcept\u001b[39;00m \u001b[39mKeyError\u001b[39;00m \u001b[39mas\u001b[39;00m err:\n",
      "File \u001b[1;32mc:\\Users\\user\\AppData\\Local\\Programs\\Python\\Python310\\lib\\site-packages\\pandas\\_libs\\index.pyx:136\u001b[0m, in \u001b[0;36mpandas._libs.index.IndexEngine.get_loc\u001b[1;34m()\u001b[0m\n",
      "File \u001b[1;32mc:\\Users\\user\\AppData\\Local\\Programs\\Python\\Python310\\lib\\site-packages\\pandas\\_libs\\index.pyx:163\u001b[0m, in \u001b[0;36mpandas._libs.index.IndexEngine.get_loc\u001b[1;34m()\u001b[0m\n",
      "File \u001b[1;32mpandas\\_libs\\hashtable_class_helper.pxi:5198\u001b[0m, in \u001b[0;36mpandas._libs.hashtable.PyObjectHashTable.get_item\u001b[1;34m()\u001b[0m\n",
      "File \u001b[1;32mpandas\\_libs\\hashtable_class_helper.pxi:5206\u001b[0m, in \u001b[0;36mpandas._libs.hashtable.PyObjectHashTable.get_item\u001b[1;34m()\u001b[0m\n",
      "\u001b[1;31mKeyError\u001b[0m: 'label'",
      "\nThe above exception was the direct cause of the following exception:\n",
      "\u001b[1;31mKeyError\u001b[0m                                  Traceback (most recent call last)",
      "\u001b[1;32me:\\pythonProjects\\metricAnalysis.ipynb Cell 67\u001b[0m in \u001b[0;36m<cell line: 2>\u001b[1;34m()\u001b[0m\n\u001b[0;32m      <a href='vscode-notebook-cell:/e%3A/pythonProjects/metricAnalysis.ipynb#Y161sZmlsZQ%3D%3D?line=0'>1</a>\u001b[0m \u001b[39m# show the count column only:\u001b[39;00m\n\u001b[1;32m----> <a href='vscode-notebook-cell:/e%3A/pythonProjects/metricAnalysis.ipynb#Y161sZmlsZQ%3D%3D?line=1'>2</a>\u001b[0m robberyLostItemTypes[\u001b[39m'\u001b[39;49m\u001b[39mlabel\u001b[39;49m\u001b[39m'\u001b[39;49m]\n",
      "File \u001b[1;32mc:\\Users\\user\\AppData\\Local\\Programs\\Python\\Python310\\lib\\site-packages\\pandas\\core\\series.py:958\u001b[0m, in \u001b[0;36mSeries.__getitem__\u001b[1;34m(self, key)\u001b[0m\n\u001b[0;32m    955\u001b[0m     \u001b[39mreturn\u001b[39;00m \u001b[39mself\u001b[39m\u001b[39m.\u001b[39m_values[key]\n\u001b[0;32m    957\u001b[0m \u001b[39melif\u001b[39;00m key_is_scalar:\n\u001b[1;32m--> 958\u001b[0m     \u001b[39mreturn\u001b[39;00m \u001b[39mself\u001b[39;49m\u001b[39m.\u001b[39;49m_get_value(key)\n\u001b[0;32m    960\u001b[0m \u001b[39mif\u001b[39;00m is_hashable(key):\n\u001b[0;32m    961\u001b[0m     \u001b[39m# Otherwise index.get_value will raise InvalidIndexError\u001b[39;00m\n\u001b[0;32m    962\u001b[0m     \u001b[39mtry\u001b[39;00m:\n\u001b[0;32m    963\u001b[0m         \u001b[39m# For labels that don't resolve as scalars like tuples and frozensets\u001b[39;00m\n",
      "File \u001b[1;32mc:\\Users\\user\\AppData\\Local\\Programs\\Python\\Python310\\lib\\site-packages\\pandas\\core\\series.py:1069\u001b[0m, in \u001b[0;36mSeries._get_value\u001b[1;34m(self, label, takeable)\u001b[0m\n\u001b[0;32m   1066\u001b[0m     \u001b[39mreturn\u001b[39;00m \u001b[39mself\u001b[39m\u001b[39m.\u001b[39m_values[label]\n\u001b[0;32m   1068\u001b[0m \u001b[39m# Similar to Index.get_value, but we do not fall back to positional\u001b[39;00m\n\u001b[1;32m-> 1069\u001b[0m loc \u001b[39m=\u001b[39m \u001b[39mself\u001b[39;49m\u001b[39m.\u001b[39;49mindex\u001b[39m.\u001b[39;49mget_loc(label)\n\u001b[0;32m   1070\u001b[0m \u001b[39mreturn\u001b[39;00m \u001b[39mself\u001b[39m\u001b[39m.\u001b[39mindex\u001b[39m.\u001b[39m_get_values_for_loc(\u001b[39mself\u001b[39m, loc, label)\n",
      "File \u001b[1;32mc:\\Users\\user\\AppData\\Local\\Programs\\Python\\Python310\\lib\\site-packages\\pandas\\core\\indexes\\multi.py:2869\u001b[0m, in \u001b[0;36mMultiIndex.get_loc\u001b[1;34m(self, key, method)\u001b[0m\n\u001b[0;32m   2866\u001b[0m     \u001b[39mreturn\u001b[39;00m mask\n\u001b[0;32m   2868\u001b[0m \u001b[39mif\u001b[39;00m \u001b[39mnot\u001b[39;00m \u001b[39misinstance\u001b[39m(key, \u001b[39mtuple\u001b[39m):\n\u001b[1;32m-> 2869\u001b[0m     loc \u001b[39m=\u001b[39m \u001b[39mself\u001b[39;49m\u001b[39m.\u001b[39;49m_get_level_indexer(key, level\u001b[39m=\u001b[39;49m\u001b[39m0\u001b[39;49m)\n\u001b[0;32m   2870\u001b[0m     \u001b[39mreturn\u001b[39;00m _maybe_to_slice(loc)\n\u001b[0;32m   2872\u001b[0m keylen \u001b[39m=\u001b[39m \u001b[39mlen\u001b[39m(key)\n",
      "File \u001b[1;32mc:\\Users\\user\\AppData\\Local\\Programs\\Python\\Python310\\lib\\site-packages\\pandas\\core\\indexes\\multi.py:3222\u001b[0m, in \u001b[0;36mMultiIndex._get_level_indexer\u001b[1;34m(self, key, level, indexer)\u001b[0m\n\u001b[0;32m   3218\u001b[0m         \u001b[39mreturn\u001b[39;00m \u001b[39mslice\u001b[39m(i, j, step)\n\u001b[0;32m   3220\u001b[0m \u001b[39melse\u001b[39;00m:\n\u001b[1;32m-> 3222\u001b[0m     idx \u001b[39m=\u001b[39m \u001b[39mself\u001b[39;49m\u001b[39m.\u001b[39;49m_get_loc_single_level_index(level_index, key)\n\u001b[0;32m   3224\u001b[0m     \u001b[39mif\u001b[39;00m level \u001b[39m>\u001b[39m \u001b[39m0\u001b[39m \u001b[39mor\u001b[39;00m \u001b[39mself\u001b[39m\u001b[39m.\u001b[39m_lexsort_depth \u001b[39m==\u001b[39m \u001b[39m0\u001b[39m:\n\u001b[0;32m   3225\u001b[0m         \u001b[39m# Desired level is not sorted\u001b[39;00m\n\u001b[0;32m   3226\u001b[0m         \u001b[39mif\u001b[39;00m \u001b[39misinstance\u001b[39m(idx, \u001b[39mslice\u001b[39m):\n\u001b[0;32m   3227\u001b[0m             \u001b[39m# test_get_loc_partial_timestamp_multiindex\u001b[39;00m\n",
      "File \u001b[1;32mc:\\Users\\user\\AppData\\Local\\Programs\\Python\\Python310\\lib\\site-packages\\pandas\\core\\indexes\\multi.py:2802\u001b[0m, in \u001b[0;36mMultiIndex._get_loc_single_level_index\u001b[1;34m(self, level_index, key)\u001b[0m\n\u001b[0;32m   2800\u001b[0m     \u001b[39mreturn\u001b[39;00m \u001b[39m-\u001b[39m\u001b[39m1\u001b[39m\n\u001b[0;32m   2801\u001b[0m \u001b[39melse\u001b[39;00m:\n\u001b[1;32m-> 2802\u001b[0m     \u001b[39mreturn\u001b[39;00m level_index\u001b[39m.\u001b[39;49mget_loc(key)\n",
      "File \u001b[1;32mc:\\Users\\user\\AppData\\Local\\Programs\\Python\\Python310\\lib\\site-packages\\pandas\\core\\indexes\\base.py:3623\u001b[0m, in \u001b[0;36mIndex.get_loc\u001b[1;34m(self, key, method, tolerance)\u001b[0m\n\u001b[0;32m   3621\u001b[0m     \u001b[39mreturn\u001b[39;00m \u001b[39mself\u001b[39m\u001b[39m.\u001b[39m_engine\u001b[39m.\u001b[39mget_loc(casted_key)\n\u001b[0;32m   3622\u001b[0m \u001b[39mexcept\u001b[39;00m \u001b[39mKeyError\u001b[39;00m \u001b[39mas\u001b[39;00m err:\n\u001b[1;32m-> 3623\u001b[0m     \u001b[39mraise\u001b[39;00m \u001b[39mKeyError\u001b[39;00m(key) \u001b[39mfrom\u001b[39;00m \u001b[39merr\u001b[39;00m\n\u001b[0;32m   3624\u001b[0m \u001b[39mexcept\u001b[39;00m \u001b[39mTypeError\u001b[39;00m:\n\u001b[0;32m   3625\u001b[0m     \u001b[39m# If we have a listlike key, _check_indexing_error will raise\u001b[39;00m\n\u001b[0;32m   3626\u001b[0m     \u001b[39m#  InvalidIndexError. Otherwise we fall through and re-raise\u001b[39;00m\n\u001b[0;32m   3627\u001b[0m     \u001b[39m#  the TypeError.\u001b[39;00m\n\u001b[0;32m   3628\u001b[0m     \u001b[39mself\u001b[39m\u001b[39m.\u001b[39m_check_indexing_error(key)\n",
      "\u001b[1;31mKeyError\u001b[0m: 'label'"
     ]
    }
   ],
   "source": [
    "# show the count column only:\n",
    "robberyLostItemTypes['label']"
   ]
  },
  {
   "attachments": {},
   "cell_type": "markdown",
   "metadata": {},
   "source": [
    "# Deception"
   ]
  },
  {
   "cell_type": "code",
   "execution_count": 30,
   "metadata": {},
   "outputs": [
    {
     "data": {
      "text/html": [
       "<div>\n",
       "<style scoped>\n",
       "    .dataframe tbody tr th:only-of-type {\n",
       "        vertical-align: middle;\n",
       "    }\n",
       "\n",
       "    .dataframe tbody tr th {\n",
       "        vertical-align: top;\n",
       "    }\n",
       "\n",
       "    .dataframe thead th {\n",
       "        text-align: right;\n",
       "    }\n",
       "</style>\n",
       "<table border=\"1\" class=\"dataframe\">\n",
       "  <thead>\n",
       "    <tr style=\"text-align: right;\">\n",
       "      <th></th>\n",
       "      <th>0</th>\n",
       "      <th>1</th>\n",
       "    </tr>\n",
       "  </thead>\n",
       "  <tbody>\n",
       "    <tr>\n",
       "      <th>0</th>\n",
       "      <td>-DOCSTART- -X- O O</td>\n",
       "      <td>NaN</td>\n",
       "    </tr>\n",
       "    <tr>\n",
       "      <th>1</th>\n",
       "      <td>VTM</td>\n",
       "      <td>O</td>\n",
       "    </tr>\n",
       "    <tr>\n",
       "      <th>2</th>\n",
       "      <td>owned</td>\n",
       "      <td>O</td>\n",
       "    </tr>\n",
       "    <tr>\n",
       "      <th>3</th>\n",
       "      <td>one</td>\n",
       "      <td>O</td>\n",
       "    </tr>\n",
       "    <tr>\n",
       "      <th>4</th>\n",
       "      <td>BOC</td>\n",
       "      <td>B-RELATED_BANK</td>\n",
       "    </tr>\n",
       "  </tbody>\n",
       "</table>\n",
       "</div>"
      ],
      "text/plain": [
       "                    0               1\n",
       "0  -DOCSTART- -X- O O             NaN\n",
       "1                 VTM               O\n",
       "2               owned               O\n",
       "3                 one               O\n",
       "4                 BOC  B-RELATED_BANK"
      ]
     },
     "execution_count": 30,
     "metadata": {},
     "output_type": "execute_result"
    }
   ],
   "source": [
    "mergedDeception.head()"
   ]
  },
  {
   "cell_type": "code",
   "execution_count": 31,
   "metadata": {},
   "outputs": [
    {
     "data": {
      "text/plain": [
       "O                               9591\n",
       "I-METHOD                         285\n",
       "B-AMOUNT                         177\n",
       "B-MEANS                          126\n",
       "B-METHOD                         117\n",
       "I-TRANSACTION_MEANS              115\n",
       "B-CHANNEL                         94\n",
       "I-BEHAVIOUR                       82\n",
       "I-HOW_PROPERTY_IS_TAKEN_AWAY      78\n",
       "B-TRANSACTION_MEANS               78\n",
       "B-HOW_PROPERTY_IS_TAKEN_AWAY      63\n",
       "B-BEHAVIOUR                       54\n",
       "I-AMOUNT                          51\n",
       "I-MEANS                           50\n",
       "B-RELATED_BANK                    46\n",
       "B-GENDER                          45\n",
       "I-LOC                             43\n",
       "B-FREQUENCY                       35\n",
       "I-CHANNEL                         30\n",
       "B-TYPES                           18\n",
       "I-TYPES                           16\n",
       "B-LOC                             15\n",
       "I-FREQUENCY                       13\n",
       "B-LOG_TYPE                        13\n",
       "B-BEHAVIOUR-                       9\n",
       "B-NUMBER_OF_OCCURRENCE             9\n",
       "I-BEHAVIOUR-                       9\n",
       "I-RELATED_BANK                     6\n",
       "I-TYPE_OF_VTM                      4\n",
       "I-NUMBER_OF_OCCURRENCE             4\n",
       "B-NATIVE                           4\n",
       "I-LOG_TYPE                         3\n",
       "B-OFFENCE                          2\n",
       "I-None                             2\n",
       "I-OFFENCE                          2\n",
       "I-METHOS                           2\n",
       "B-TYPE_OF_VTM                      2\n",
       "BHOW_PROPERTY_IS_TAKEN_AWAY        1\n",
       "IHOW_PROPERTY_IS_TAKEN_AWAY        1\n",
       "I-MEANS-METHOD                     1\n",
       "B-BEHAVIOR                         1\n",
       "B-MEANS-MEANS                      1\n",
       "I-TITLE                            1\n",
       "I-NATIVE                           1\n",
       "Name: label, dtype: int64"
      ]
     },
     "execution_count": 31,
     "metadata": {},
     "output_type": "execute_result"
    }
   ],
   "source": [
    "#  set column names\n",
    "mergedDeception.columns = ['text', 'label']\n",
    "mergedDeception.label.value_counts()"
   ]
  },
  {
   "cell_type": "code",
   "execution_count": 32,
   "metadata": {},
   "outputs": [
    {
     "data": {
      "text/plain": [
       "1053    Alipay\n",
       "Name: text, dtype: object"
      ]
     },
     "execution_count": 32,
     "metadata": {},
     "output_type": "execute_result"
    }
   ],
   "source": [
    "# BHOW_PROPERTY_IS_TAKEN_AWAY\n",
    "mergedDeception.loc[mergedDeception.label == 'BHOW_PROPERTY_IS_TAKEN_AWAY', 'text']"
   ]
  },
  {
   "cell_type": "code",
   "execution_count": 33,
   "metadata": {},
   "outputs": [],
   "source": [
    "# change BHOW_PROPERTY_IS_TAKEN_AWAY to B-HOW_PROPERTY_IS_TAKEN_AWAY\n",
    "mergedDeception.loc[mergedDeception.label == 'BHOW_PROPERTY_IS_TAKEN_AWAY', 'label'] = 'B-HOW_PROPERTY_IS_TAKEN_AWAY'"
   ]
  },
  {
   "cell_type": "code",
   "execution_count": 34,
   "metadata": {},
   "outputs": [],
   "source": [
    "# change IHOW_PROPERTY_IS_TAKEN_AWAY to B-HOW_PROPERTY_IS_TAKEN_AWAY\n",
    "mergedDeception.loc[mergedDeception.label == 'IHOW_PROPERTY_IS_TAKEN_AWAY', 'label'] = 'I-HOW_PROPERTY_IS_TAKEN_AWAY'"
   ]
  },
  {
   "cell_type": "code",
   "execution_count": 35,
   "metadata": {},
   "outputs": [],
   "source": [
    "mergedDeception.loc[mergedDeception.label == 'I-METHOS', 'label'] = 'I-METHOD'"
   ]
  },
  {
   "cell_type": "code",
   "execution_count": 36,
   "metadata": {},
   "outputs": [],
   "source": [
    "mergedDeception.loc[mergedDeception.label == 'B-BEHAVIOR', 'label'] = 'B-BEHAVIOUR'"
   ]
  },
  {
   "cell_type": "code",
   "execution_count": 37,
   "metadata": {},
   "outputs": [],
   "source": [
    "mergedDeception.loc[mergedDeception.label == 'B-MEANS-MEANS', 'label'] = 'B-MEANS'"
   ]
  },
  {
   "cell_type": "code",
   "execution_count": 38,
   "metadata": {},
   "outputs": [
    {
     "data": {
      "text/plain": [
       "281    Scam)\n",
       "Name: text, dtype: object"
      ]
     },
     "execution_count": 38,
     "metadata": {},
     "output_type": "execute_result"
    }
   ],
   "source": [
    "mergedDeception.loc[mergedDeception.label == 'I-TITLE', 'text']"
   ]
  },
  {
   "cell_type": "code",
   "execution_count": 39,
   "metadata": {},
   "outputs": [
    {
     "data": {
      "text/plain": [
       "953    Kong.\n",
       "Name: text, dtype: object"
      ]
     },
     "execution_count": 39,
     "metadata": {},
     "output_type": "execute_result"
    }
   ],
   "source": [
    "mergedDeception.loc[mergedDeception.label == 'I-NATIVE', 'text']"
   ]
  },
  {
   "cell_type": "code",
   "execution_count": 40,
   "metadata": {},
   "outputs": [],
   "source": [
    "#  fill with NA ALL NULLS\n",
    "mergedDeception.fillna('NA', inplace=True)\n"
   ]
  },
  {
   "cell_type": "code",
   "execution_count": 41,
   "metadata": {},
   "outputs": [],
   "source": [
    "#  TAKE ALL ROWS WHICH START WITH B-:\n",
    "mergedDeceptionminidataFrame=mergedDeception[mergedDeception['label'].str.startswith('B-')]"
   ]
  },
  {
   "cell_type": "code",
   "execution_count": 42,
   "metadata": {},
   "outputs": [
    {
     "data": {
      "text/plain": [
       "B-AMOUNT                        177\n",
       "B-MEANS                         127\n",
       "B-METHOD                        117\n",
       "B-CHANNEL                        94\n",
       "B-TRANSACTION_MEANS              78\n",
       "B-HOW_PROPERTY_IS_TAKEN_AWAY     64\n",
       "B-BEHAVIOUR                      55\n",
       "B-RELATED_BANK                   46\n",
       "B-GENDER                         45\n",
       "B-FREQUENCY                      35\n",
       "B-TYPES                          18\n",
       "B-LOC                            15\n",
       "B-LOG_TYPE                       13\n",
       "B-BEHAVIOUR-                      9\n",
       "B-NUMBER_OF_OCCURRENCE            9\n",
       "B-NATIVE                          4\n",
       "B-TYPE_OF_VTM                     2\n",
       "B-OFFENCE                         2\n",
       "Name: label, dtype: int64"
      ]
     },
     "execution_count": 42,
     "metadata": {},
     "output_type": "execute_result"
    }
   ],
   "source": [
    "mergedDeceptionminidataFrame.label.value_counts()"
   ]
  },
  {
   "cell_type": "code",
   "execution_count": 43,
   "metadata": {},
   "outputs": [
    {
     "name": "stderr",
     "output_type": "stream",
     "text": [
      "C:\\Users\\user\\AppData\\Local\\Temp\\ipykernel_9000\\730887885.py:2: SettingWithCopyWarning: \n",
      "A value is trying to be set on a copy of a slice from a DataFrame.\n",
      "Try using .loc[row_indexer,col_indexer] = value instead\n",
      "\n",
      "See the caveats in the documentation: https://pandas.pydata.org/pandas-docs/stable/user_guide/indexing.html#returning-a-view-versus-a-copy\n",
      "  mergedDeceptionminidataFrame['label'] = mergedDeceptionminidataFrame['label'].str.replace('B-','')\n"
     ]
    }
   ],
   "source": [
    "# change B- to empty string:\n",
    "mergedDeceptionminidataFrame['label'] = mergedDeceptionminidataFrame['label'].str.replace('B-','')"
   ]
  },
  {
   "cell_type": "code",
   "execution_count": 45,
   "metadata": {},
   "outputs": [
    {
     "name": "stdout",
     "output_type": "stream",
     "text": [
      "AxesSubplot(0.125,0.125;0.775x0.755)\n"
     ]
    },
    {
     "data": {
      "text/plain": [
       "<Figure size 1440x720 with 0 Axes>"
      ]
     },
     "metadata": {},
     "output_type": "display_data"
    },
    {
     "data": {
      "image/png": "[encoded data removed]",
      "text/plain": [
       "<Figure size 1440x720 with 1 Axes>"
      ]
     },
     "metadata": {
      "needs_background": "light"
     },
     "output_type": "display_data"
    }
   ],
   "source": [
    "import matplotlib.pyplot as plt\n",
    "import seaborn as sns\n",
    "\n",
    "plt.figure(figsize=(20,10))\n",
    "fig, ax1 = plt.subplots(figsize=(20,10))\n",
    "print(ax1)\n",
    "graph = sns.countplot(ax=ax1,x='label', data=mergedDeceptionminidataFrame)\n",
    "graph.set_xticklabels(graph.get_xticklabels(),rotation=90)\n",
    "i=0\n",
    "for p in graph.patches:\n",
    "    height = p.get_height()\n",
    "    graph.text(p.get_x()+p.get_width()/2., height + 2,\n",
    "        int(height),ha=\"center\",fontweight='bold')\n",
    "    i += 1\n",
    "i=0\n",
    "ax = sns.countplot(x=mergedDeceptionminidataFrame['label'], data=mergedDeceptionminidataFrame)\n",
    "# for p in ax.patches:\n",
    "#     ax.annotate(f'\\n{p.get_height()}', (p.get_x()+0.4, int(p.get_height())), ha='center', va='top', color='black', size=12)\n",
    "plt.xticks(rotation=90)\n",
    "\n",
    "plt.title('Deceptionn Tag Frequencies', color='blue', fontsize=20, fontweight='bold', fontstyle='italic')\n",
    "plt.xlabel('Labels', color='blue', fontsize=15, fontstyle='italic')\n",
    "plt.ylabel('Frequency', color='blue', fontsize=15, fontstyle='italic')\n",
    "\n",
    "plt.show()"
   ]
  },
  {
   "cell_type": "code",
   "execution_count": 47,
   "metadata": {},
   "outputs": [
    {
     "name": "stdout",
     "output_type": "stream",
     "text": [
      "AxesSubplot(0.125,0.125;0.775x0.755)\n"
     ]
    },
    {
     "data": {
      "image/png": "[encoded data removed]",
      "text/plain": [
       "<Figure size 1440x720 with 1 Axes>"
      ]
     },
     "metadata": {
      "needs_background": "light"
     },
     "output_type": "display_data"
    }
   ],
   "source": [
    "fig, ax1 = plt.subplots(figsize=(20,10))\n",
    "print(ax1)\n",
    "graph = sns.countplot(ax=ax1,x='label', data=mergedDeceptionminidataFrame)\n",
    "graph.set_xticklabels(graph.get_xticklabels(),rotation=90)\n",
    "i=0\n",
    "for p in graph.patches:\n",
    "    height = p.get_height()\n",
    "    graph.text(p.get_x()+p.get_width()/2., height + 2,\n",
    "        int(height),ha=\"center\",fontweight='bold')\n",
    "    i += 1\n",
    "i=0\n",
    "ax = sns.countplot(x=mergedDeceptionminidataFrame['label'], data=mergedDeceptionminidataFrame)\n",
    "# for p in ax.patches:\n",
    "#     ax.annotate(f'\\n{p.get_height()}', (p.get_x()+0.4, int(p.get_height())), ha='center', va='top', color='black', size=12)\n",
    "plt.xticks(rotation=90)\n",
    "\n",
    "plt.title('Deception Tag Frequencies', color='blue', fontsize=20, fontweight='bold', fontstyle='italic')\n",
    "plt.xlabel('Labels', color='blue', fontsize=15, fontstyle='italic')\n",
    "plt.ylabel('Frequency', color='blue', fontsize=15, fontstyle='italic')\n",
    "\n",
    "plt.show()\n",
    "# save the figure correctly without any cuttings:\n"
   ]
  },
  {
   "cell_type": "code",
   "execution_count": 30,
   "metadata": {},
   "outputs": [
    {
     "data": {
      "text/plain": [
       "text         label              \n",
       "FPS          B-TRANSACTION_MEANS    17\n",
       "bank         B-TRANSACTION_MEANS    16\n",
       "online       B-TRANSACTION_MEANS     3\n",
       "credit       B-TRANSACTION_MEANS     3\n",
       "handed       B-TRANSACTION_MEANS     3\n",
       "AliPay       B-TRANSACTION_MEANS     2\n",
       "residence    B-TRANSACTION_MEANS     2\n",
       "became       B-TRANSACTION_MEANS     2\n",
       "did          B-TRANSACTION_MEANS     2\n",
       "fraudulent   B-TRANSACTION_MEANS     1\n",
       "buying       B-TRANSACTION_MEANS     1\n",
       "four         B-TRANSACTION_MEANS     1\n",
       "$4,500-HKD   B-TRANSACTION_MEANS     1\n",
       "iTune        B-TRANSACTION_MEANS     1\n",
       "activation   B-TRANSACTION_MEANS     1\n",
       "loan         B-TRANSACTION_MEANS     1\n",
       "money        B-TRANSACTION_MEANS     1\n",
       "piano.       B-TRANSACTION_MEANS     1\n",
       "immediately  B-TRANSACTION_MEANS     1\n",
       "WP1          B-TRANSACTION_MEANS     1\n",
       "ZA           B-TRANSACTION_MEANS     1\n",
       "Hong         B-TRANSACTION_MEANS     1\n",
       "Alipay       B-TRANSACTION_MEANS     1\n",
       "Amazon       B-TRANSACTION_MEANS     1\n",
       "Chong        B-TRANSACTION_MEANS     1\n",
       "Citibank     B-TRANSACTION_MEANS     1\n",
       "HSB          B-TRANSACTION_MEANS     1\n",
       "HSBC         B-TRANSACTION_MEANS     1\n",
       "Mainland     B-TRANSACTION_MEANS     1\n",
       "(S/ppty)     B-TRANSACTION_MEANS     1\n",
       "Payme        B-TRANSACTION_MEANS     1\n",
       "PrimeCredit  B-TRANSACTION_MEANS     1\n",
       "S/ppty1      B-TRANSACTION_MEANS     1\n",
       "VTM          B-TRANSACTION_MEANS     1\n",
       "Visa         B-TRANSACTION_MEANS     1\n",
       "WP           B-TRANSACTION_MEANS     1\n",
       "trading      B-TRANSACTION_MEANS     1\n",
       "dtype: int64"
      ]
     },
     "execution_count": 30,
     "metadata": {},
     "output_type": "execute_result"
    }
   ],
   "source": [
    "#  CHANNEL value counts:\n",
    "mergedDeception.loc[mergedDeception.label == 'B-TRANSACTION_MEANS'].value_counts()\n"
   ]
  },
  {
   "cell_type": "code",
   "execution_count": 11,
   "metadata": {},
   "outputs": [
    {
     "name": "stdout",
     "output_type": "stream",
     "text": [
      "[20, 13, 20, 3, 15, 20]\n"
     ]
    },
    {
     "data": {
      "text/plain": [
       "[13, 3, 15]"
      ]
     },
     "execution_count": 11,
     "metadata": {},
     "output_type": "execute_result"
    }
   ],
   "source": [
    "list1=[20,13,20,3,15,20]\n",
    "print(list1)\n",
    "list2=[]\n",
    "i=0\n",
    "for i in range(len(list1)-1):\n",
    "  list1[i]\n",
    "  if list1[i] != 20:\n",
    "    \n",
    "    list2.append(list1[i])\n",
    "list2"
   ]
  },
  {
   "cell_type": "code",
   "execution_count": 19,
   "metadata": {},
   "outputs": [
    {
     "name": "stdout",
     "output_type": "stream",
     "text": [
      "[20, 13, 210, 3, 15, 340]\n",
      "<class 'int'>\n",
      "[13, 210, 3, 15, 340]\n"
     ]
    }
   ],
   "source": [
    "list1=[20,13,210,3,15,340]\n",
    "print(list1)\n",
    "print(type(list1[0]))\n",
    "# list2=[]\n",
    "i=0\n",
    "for i in range(len(list1)-1):\n",
    "\n",
    "  if list1[i] == 20:\n",
    "    del list1[i]\n",
    "    # list2.append(list1[i])\n",
    "print(list1)"
   ]
  },
  {
   "cell_type": "code",
   "execution_count": 56,
   "metadata": {},
   "outputs": [],
   "source": [
    "m=mergedBurglaryminidataFrame[mergedBurglaryminidataFrame.label == 'LOCATION_TYPE']\n"
   ]
  },
  {
   "cell_type": "code",
   "execution_count": 57,
   "metadata": {},
   "outputs": [],
   "source": [
    "m.head()\n",
    "#  set column names:\n",
    "m.columns = ['text', 'label']"
   ]
  },
  {
   "cell_type": "code",
   "execution_count": 58,
   "metadata": {},
   "outputs": [
    {
     "data": {
      "text/html": [
       "<div>\n",
       "<style scoped>\n",
       "    .dataframe tbody tr th:only-of-type {\n",
       "        vertical-align: middle;\n",
       "    }\n",
       "\n",
       "    .dataframe tbody tr th {\n",
       "        vertical-align: top;\n",
       "    }\n",
       "\n",
       "    .dataframe thead th {\n",
       "        text-align: right;\n",
       "    }\n",
       "</style>\n",
       "<table border=\"1\" class=\"dataframe\">\n",
       "  <thead>\n",
       "    <tr style=\"text-align: right;\">\n",
       "      <th></th>\n",
       "      <th>text</th>\n",
       "      <th>label</th>\n",
       "    </tr>\n",
       "  </thead>\n",
       "  <tbody>\n",
       "    <tr>\n",
       "      <th>4</th>\n",
       "      <td>duplex</td>\n",
       "      <td>LOCATION_TYPE</td>\n",
       "    </tr>\n",
       "    <tr>\n",
       "      <th>219</th>\n",
       "      <td>residential</td>\n",
       "      <td>LOCATION_TYPE</td>\n",
       "    </tr>\n",
       "    <tr>\n",
       "      <th>402</th>\n",
       "      <td>restaurant</td>\n",
       "      <td>LOCATION_TYPE</td>\n",
       "    </tr>\n",
       "    <tr>\n",
       "      <th>585</th>\n",
       "      <td>residential</td>\n",
       "      <td>LOCATION_TYPE</td>\n",
       "    </tr>\n",
       "    <tr>\n",
       "      <th>591</th>\n",
       "      <td>residential</td>\n",
       "      <td>LOCATION_TYPE</td>\n",
       "    </tr>\n",
       "  </tbody>\n",
       "</table>\n",
       "</div>"
      ],
      "text/plain": [
       "            text          label\n",
       "4         duplex  LOCATION_TYPE\n",
       "219  residential  LOCATION_TYPE\n",
       "402   restaurant  LOCATION_TYPE\n",
       "585  residential  LOCATION_TYPE\n",
       "591  residential  LOCATION_TYPE"
      ]
     },
     "execution_count": 58,
     "metadata": {},
     "output_type": "execute_result"
    }
   ],
   "source": [
    "m.head()"
   ]
  },
  {
   "cell_type": "code",
   "execution_count": 52,
   "metadata": {},
   "outputs": [
    {
     "data": {
      "text/html": [
       "<div>\n",
       "<style scoped>\n",
       "    .dataframe tbody tr th:only-of-type {\n",
       "        vertical-align: middle;\n",
       "    }\n",
       "\n",
       "    .dataframe tbody tr th {\n",
       "        vertical-align: top;\n",
       "    }\n",
       "\n",
       "    .dataframe thead th {\n",
       "        text-align: right;\n",
       "    }\n",
       "</style>\n",
       "<table border=\"1\" class=\"dataframe\">\n",
       "  <thead>\n",
       "    <tr style=\"text-align: right;\">\n",
       "      <th></th>\n",
       "      <th>text</th>\n",
       "      <th>label</th>\n",
       "    </tr>\n",
       "  </thead>\n",
       "  <tbody>\n",
       "    <tr>\n",
       "      <th>4</th>\n",
       "      <td>duplex</td>\n",
       "      <td>LOCATION_TYPE</td>\n",
       "    </tr>\n",
       "    <tr>\n",
       "      <th>45</th>\n",
       "      <td>0300hrs</td>\n",
       "      <td>VTM_LEFT_HOME_TIME</td>\n",
       "    </tr>\n",
       "    <tr>\n",
       "      <th>66</th>\n",
       "      <td>At</td>\n",
       "      <td>VTM_LEFT_HOME_TIME</td>\n",
       "    </tr>\n",
       "    <tr>\n",
       "      <th>76</th>\n",
       "      <td>ransacking.</td>\n",
       "      <td>RANSACKING</td>\n",
       "    </tr>\n",
       "    <tr>\n",
       "      <th>96</th>\n",
       "      <td>ransacking</td>\n",
       "      <td>RANSACKING</td>\n",
       "    </tr>\n",
       "  </tbody>\n",
       "</table>\n",
       "</div>"
      ],
      "text/plain": [
       "           text               label\n",
       "4        duplex       LOCATION_TYPE\n",
       "45      0300hrs  VTM_LEFT_HOME_TIME\n",
       "66           At  VTM_LEFT_HOME_TIME\n",
       "76  ransacking.          RANSACKING\n",
       "96   ransacking          RANSACKING"
      ]
     },
     "execution_count": 52,
     "metadata": {},
     "output_type": "execute_result"
    }
   ],
   "source": [
    "mergedBurglaryminidataFrame.head()"
   ]
  },
  {
   "cell_type": "code",
   "execution_count": 62,
   "metadata": {},
   "outputs": [
    {
     "name": "stdout",
     "output_type": "stream",
     "text": [
      "AxesSubplot(0.125,0.125;0.775x0.755)\n"
     ]
    },
    {
     "ename": "ValueError",
     "evalue": "Image size of 77624x684 pixels is too large. It must be less than 2^16 in each direction.",
     "output_type": "error",
     "traceback": [
      "\u001b[1;31m---------------------------------------------------------------------------\u001b[0m",
      "\u001b[1;31mValueError\u001b[0m                                Traceback (most recent call last)",
      "File \u001b[1;32mc:\\Users\\user\\AppData\\Local\\Programs\\Python\\Python310\\lib\\site-packages\\IPython\\core\\formatters.py:339\u001b[0m, in \u001b[0;36mBaseFormatter.__call__\u001b[1;34m(self, obj)\u001b[0m\n\u001b[0;32m    337\u001b[0m     \u001b[39mpass\u001b[39;00m\n\u001b[0;32m    338\u001b[0m \u001b[39melse\u001b[39;00m:\n\u001b[1;32m--> 339\u001b[0m     \u001b[39mreturn\u001b[39;00m printer(obj)\n\u001b[0;32m    340\u001b[0m \u001b[39m# Finally look for special method names\u001b[39;00m\n\u001b[0;32m    341\u001b[0m method \u001b[39m=\u001b[39m get_real_method(obj, \u001b[39mself\u001b[39m\u001b[39m.\u001b[39mprint_method)\n",
      "File \u001b[1;32mc:\\Users\\user\\AppData\\Local\\Programs\\Python\\Python310\\lib\\site-packages\\IPython\\core\\pylabtools.py:151\u001b[0m, in \u001b[0;36mprint_figure\u001b[1;34m(fig, fmt, bbox_inches, base64, **kwargs)\u001b[0m\n\u001b[0;32m    148\u001b[0m     \u001b[39mfrom\u001b[39;00m \u001b[39mmatplotlib\u001b[39;00m\u001b[39m.\u001b[39;00m\u001b[39mbackend_bases\u001b[39;00m \u001b[39mimport\u001b[39;00m FigureCanvasBase\n\u001b[0;32m    149\u001b[0m     FigureCanvasBase(fig)\n\u001b[1;32m--> 151\u001b[0m fig\u001b[39m.\u001b[39mcanvas\u001b[39m.\u001b[39mprint_figure(bytes_io, \u001b[39m*\u001b[39m\u001b[39m*\u001b[39mkw)\n\u001b[0;32m    152\u001b[0m data \u001b[39m=\u001b[39m bytes_io\u001b[39m.\u001b[39mgetvalue()\n\u001b[0;32m    153\u001b[0m \u001b[39mif\u001b[39;00m fmt \u001b[39m==\u001b[39m \u001b[39m'\u001b[39m\u001b[39msvg\u001b[39m\u001b[39m'\u001b[39m:\n",
      "File \u001b[1;32mc:\\Users\\user\\AppData\\Local\\Programs\\Python\\Python310\\lib\\site-packages\\matplotlib\\backend_bases.py:2319\u001b[0m, in \u001b[0;36mFigureCanvasBase.print_figure\u001b[1;34m(self, filename, dpi, facecolor, edgecolor, orientation, format, bbox_inches, pad_inches, bbox_extra_artists, backend, **kwargs)\u001b[0m\n\u001b[0;32m   2315\u001b[0m \u001b[39mtry\u001b[39;00m:\n\u001b[0;32m   2316\u001b[0m     \u001b[39m# _get_renderer may change the figure dpi (as vector formats\u001b[39;00m\n\u001b[0;32m   2317\u001b[0m     \u001b[39m# force the figure dpi to 72), so we need to set it again here.\u001b[39;00m\n\u001b[0;32m   2318\u001b[0m     \u001b[39mwith\u001b[39;00m cbook\u001b[39m.\u001b[39m_setattr_cm(\u001b[39mself\u001b[39m\u001b[39m.\u001b[39mfigure, dpi\u001b[39m=\u001b[39mdpi):\n\u001b[1;32m-> 2319\u001b[0m         result \u001b[39m=\u001b[39m print_method(\n\u001b[0;32m   2320\u001b[0m             filename,\n\u001b[0;32m   2321\u001b[0m             facecolor\u001b[39m=\u001b[39mfacecolor,\n\u001b[0;32m   2322\u001b[0m             edgecolor\u001b[39m=\u001b[39medgecolor,\n\u001b[0;32m   2323\u001b[0m             orientation\u001b[39m=\u001b[39morientation,\n\u001b[0;32m   2324\u001b[0m             bbox_inches_restore\u001b[39m=\u001b[39m_bbox_inches_restore,\n\u001b[0;32m   2325\u001b[0m             \u001b[39m*\u001b[39m\u001b[39m*\u001b[39mkwargs)\n\u001b[0;32m   2326\u001b[0m \u001b[39mfinally\u001b[39;00m:\n\u001b[0;32m   2327\u001b[0m     \u001b[39mif\u001b[39;00m bbox_inches \u001b[39mand\u001b[39;00m restore_bbox:\n",
      "File \u001b[1;32mc:\\Users\\user\\AppData\\Local\\Programs\\Python\\Python310\\lib\\site-packages\\matplotlib\\backend_bases.py:1648\u001b[0m, in \u001b[0;36m_check_savefig_extra_args.<locals>.wrapper\u001b[1;34m(*args, **kwargs)\u001b[0m\n\u001b[0;32m   1640\u001b[0m     _api\u001b[39m.\u001b[39mwarn_deprecated(\n\u001b[0;32m   1641\u001b[0m         \u001b[39m'\u001b[39m\u001b[39m3.3\u001b[39m\u001b[39m'\u001b[39m, name\u001b[39m=\u001b[39mname, removal\u001b[39m=\u001b[39m\u001b[39m'\u001b[39m\u001b[39m3.6\u001b[39m\u001b[39m'\u001b[39m,\n\u001b[0;32m   1642\u001b[0m         message\u001b[39m=\u001b[39m\u001b[39m'\u001b[39m\u001b[39m%(name)s\u001b[39;00m\u001b[39m() got unexpected keyword argument \u001b[39m\u001b[39m\"\u001b[39m\u001b[39m'\u001b[39m\n\u001b[0;32m   1643\u001b[0m                 \u001b[39m+\u001b[39m arg \u001b[39m+\u001b[39m \u001b[39m'\u001b[39m\u001b[39m\"\u001b[39m\u001b[39m which is no longer supported as of \u001b[39m\u001b[39m'\u001b[39m\n\u001b[0;32m   1644\u001b[0m                 \u001b[39m'\u001b[39m\u001b[39m%(since)s\u001b[39;00m\u001b[39m and will become an error \u001b[39m\u001b[39m'\u001b[39m\n\u001b[0;32m   1645\u001b[0m                 \u001b[39m'\u001b[39m\u001b[39m%(removal)s\u001b[39;00m\u001b[39m'\u001b[39m)\n\u001b[0;32m   1646\u001b[0m     kwargs\u001b[39m.\u001b[39mpop(arg)\n\u001b[1;32m-> 1648\u001b[0m \u001b[39mreturn\u001b[39;00m func(\u001b[39m*\u001b[39margs, \u001b[39m*\u001b[39m\u001b[39m*\u001b[39mkwargs)\n",
      "File \u001b[1;32mc:\\Users\\user\\AppData\\Local\\Programs\\Python\\Python310\\lib\\site-packages\\matplotlib\\_api\\deprecation.py:415\u001b[0m, in \u001b[0;36mdelete_parameter.<locals>.wrapper\u001b[1;34m(*inner_args, **inner_kwargs)\u001b[0m\n\u001b[0;32m    405\u001b[0m     deprecation_addendum \u001b[39m=\u001b[39m (\n\u001b[0;32m    406\u001b[0m         \u001b[39mf\u001b[39m\u001b[39m\"\u001b[39m\u001b[39mIf any parameter follows \u001b[39m\u001b[39m{\u001b[39;00mname\u001b[39m!r}\u001b[39;00m\u001b[39m, they should be passed as \u001b[39m\u001b[39m\"\u001b[39m\n\u001b[0;32m    407\u001b[0m         \u001b[39mf\u001b[39m\u001b[39m\"\u001b[39m\u001b[39mkeyword, not positionally.\u001b[39m\u001b[39m\"\u001b[39m)\n\u001b[0;32m    408\u001b[0m     warn_deprecated(\n\u001b[0;32m    409\u001b[0m         since,\n\u001b[0;32m    410\u001b[0m         name\u001b[39m=\u001b[39m\u001b[39mrepr\u001b[39m(name),\n\u001b[1;32m   (...)\u001b[0m\n\u001b[0;32m    413\u001b[0m                  \u001b[39melse\u001b[39;00m deprecation_addendum,\n\u001b[0;32m    414\u001b[0m         \u001b[39m*\u001b[39m\u001b[39m*\u001b[39mkwargs)\n\u001b[1;32m--> 415\u001b[0m \u001b[39mreturn\u001b[39;00m func(\u001b[39m*\u001b[39minner_args, \u001b[39m*\u001b[39m\u001b[39m*\u001b[39minner_kwargs)\n",
      "File \u001b[1;32mc:\\Users\\user\\AppData\\Local\\Programs\\Python\\Python310\\lib\\site-packages\\matplotlib\\backends\\backend_agg.py:540\u001b[0m, in \u001b[0;36mFigureCanvasAgg.print_png\u001b[1;34m(self, filename_or_obj, metadata, pil_kwargs, *args)\u001b[0m\n\u001b[0;32m    490\u001b[0m \u001b[39m@_check_savefig_extra_args\u001b[39m\n\u001b[0;32m    491\u001b[0m \u001b[39m@_api\u001b[39m\u001b[39m.\u001b[39mdelete_parameter(\u001b[39m\"\u001b[39m\u001b[39m3.5\u001b[39m\u001b[39m\"\u001b[39m, \u001b[39m\"\u001b[39m\u001b[39margs\u001b[39m\u001b[39m\"\u001b[39m)\n\u001b[0;32m    492\u001b[0m \u001b[39mdef\u001b[39;00m \u001b[39mprint_png\u001b[39m(\u001b[39mself\u001b[39m, filename_or_obj, \u001b[39m*\u001b[39margs,\n\u001b[0;32m    493\u001b[0m               metadata\u001b[39m=\u001b[39m\u001b[39mNone\u001b[39;00m, pil_kwargs\u001b[39m=\u001b[39m\u001b[39mNone\u001b[39;00m):\n\u001b[0;32m    494\u001b[0m     \u001b[39m\"\"\"\u001b[39;00m\n\u001b[0;32m    495\u001b[0m \u001b[39m    Write the figure to a PNG file.\u001b[39;00m\n\u001b[0;32m    496\u001b[0m \n\u001b[1;32m   (...)\u001b[0m\n\u001b[0;32m    538\u001b[0m \u001b[39m        *metadata*, including the default 'Software' key.\u001b[39;00m\n\u001b[0;32m    539\u001b[0m \u001b[39m    \"\"\"\u001b[39;00m\n\u001b[1;32m--> 540\u001b[0m     FigureCanvasAgg\u001b[39m.\u001b[39;49mdraw(\u001b[39mself\u001b[39;49m)\n\u001b[0;32m    541\u001b[0m     mpl\u001b[39m.\u001b[39mimage\u001b[39m.\u001b[39mimsave(\n\u001b[0;32m    542\u001b[0m         filename_or_obj, \u001b[39mself\u001b[39m\u001b[39m.\u001b[39mbuffer_rgba(), \u001b[39mformat\u001b[39m\u001b[39m=\u001b[39m\u001b[39m\"\u001b[39m\u001b[39mpng\u001b[39m\u001b[39m\"\u001b[39m, origin\u001b[39m=\u001b[39m\u001b[39m\"\u001b[39m\u001b[39mupper\u001b[39m\u001b[39m\"\u001b[39m,\n\u001b[0;32m    543\u001b[0m         dpi\u001b[39m=\u001b[39m\u001b[39mself\u001b[39m\u001b[39m.\u001b[39mfigure\u001b[39m.\u001b[39mdpi, metadata\u001b[39m=\u001b[39mmetadata, pil_kwargs\u001b[39m=\u001b[39mpil_kwargs)\n",
      "File \u001b[1;32mc:\\Users\\user\\AppData\\Local\\Programs\\Python\\Python310\\lib\\site-packages\\matplotlib\\backends\\backend_agg.py:431\u001b[0m, in \u001b[0;36mFigureCanvasAgg.draw\u001b[1;34m(self)\u001b[0m\n\u001b[0;32m    429\u001b[0m \u001b[39mdef\u001b[39;00m \u001b[39mdraw\u001b[39m(\u001b[39mself\u001b[39m):\n\u001b[0;32m    430\u001b[0m     \u001b[39m# docstring inherited\u001b[39;00m\n\u001b[1;32m--> 431\u001b[0m     \u001b[39mself\u001b[39m\u001b[39m.\u001b[39mrenderer \u001b[39m=\u001b[39m \u001b[39mself\u001b[39;49m\u001b[39m.\u001b[39;49mget_renderer(cleared\u001b[39m=\u001b[39;49m\u001b[39mTrue\u001b[39;49;00m)\n\u001b[0;32m    432\u001b[0m     \u001b[39m# Acquire a lock on the shared font cache.\u001b[39;00m\n\u001b[0;32m    433\u001b[0m     \u001b[39mwith\u001b[39;00m RendererAgg\u001b[39m.\u001b[39mlock, \\\n\u001b[0;32m    434\u001b[0m          (\u001b[39mself\u001b[39m\u001b[39m.\u001b[39mtoolbar\u001b[39m.\u001b[39m_wait_cursor_for_draw_cm() \u001b[39mif\u001b[39;00m \u001b[39mself\u001b[39m\u001b[39m.\u001b[39mtoolbar\n\u001b[0;32m    435\u001b[0m           \u001b[39melse\u001b[39;00m nullcontext()):\n",
      "File \u001b[1;32mc:\\Users\\user\\AppData\\Local\\Programs\\Python\\Python310\\lib\\site-packages\\matplotlib\\backends\\backend_agg.py:447\u001b[0m, in \u001b[0;36mFigureCanvasAgg.get_renderer\u001b[1;34m(self, cleared)\u001b[0m\n\u001b[0;32m    444\u001b[0m reuse_renderer \u001b[39m=\u001b[39m (\u001b[39mhasattr\u001b[39m(\u001b[39mself\u001b[39m, \u001b[39m\"\u001b[39m\u001b[39mrenderer\u001b[39m\u001b[39m\"\u001b[39m)\n\u001b[0;32m    445\u001b[0m                   \u001b[39mand\u001b[39;00m \u001b[39mgetattr\u001b[39m(\u001b[39mself\u001b[39m, \u001b[39m\"\u001b[39m\u001b[39m_lastKey\u001b[39m\u001b[39m\"\u001b[39m, \u001b[39mNone\u001b[39;00m) \u001b[39m==\u001b[39m key)\n\u001b[0;32m    446\u001b[0m \u001b[39mif\u001b[39;00m \u001b[39mnot\u001b[39;00m reuse_renderer:\n\u001b[1;32m--> 447\u001b[0m     \u001b[39mself\u001b[39m\u001b[39m.\u001b[39mrenderer \u001b[39m=\u001b[39m RendererAgg(w, h, \u001b[39mself\u001b[39;49m\u001b[39m.\u001b[39;49mfigure\u001b[39m.\u001b[39;49mdpi)\n\u001b[0;32m    448\u001b[0m     \u001b[39mself\u001b[39m\u001b[39m.\u001b[39m_lastKey \u001b[39m=\u001b[39m key\n\u001b[0;32m    449\u001b[0m \u001b[39melif\u001b[39;00m cleared:\n",
      "File \u001b[1;32mc:\\Users\\user\\AppData\\Local\\Programs\\Python\\Python310\\lib\\site-packages\\matplotlib\\backends\\backend_agg.py:93\u001b[0m, in \u001b[0;36mRendererAgg.__init__\u001b[1;34m(self, width, height, dpi)\u001b[0m\n\u001b[0;32m     91\u001b[0m \u001b[39mself\u001b[39m\u001b[39m.\u001b[39mwidth \u001b[39m=\u001b[39m width\n\u001b[0;32m     92\u001b[0m \u001b[39mself\u001b[39m\u001b[39m.\u001b[39mheight \u001b[39m=\u001b[39m height\n\u001b[1;32m---> 93\u001b[0m \u001b[39mself\u001b[39m\u001b[39m.\u001b[39m_renderer \u001b[39m=\u001b[39m _RendererAgg(\u001b[39mint\u001b[39;49m(width), \u001b[39mint\u001b[39;49m(height), dpi)\n\u001b[0;32m     94\u001b[0m \u001b[39mself\u001b[39m\u001b[39m.\u001b[39m_filter_renderers \u001b[39m=\u001b[39m []\n\u001b[0;32m     96\u001b[0m \u001b[39mself\u001b[39m\u001b[39m.\u001b[39m_update_methods()\n",
      "\u001b[1;31mValueError\u001b[0m: Image size of 77624x684 pixels is too large. It must be less than 2^16 in each direction."
     ]
    },
    {
     "data": {
      "text/plain": [
       "<Figure size 1440x720 with 1 Axes>"
      ]
     },
     "metadata": {
      "needs_background": "light"
     },
     "output_type": "display_data"
    }
   ],
   "source": [
    "fig, ax1 = plt.subplots(figsize=(20,10))\n",
    "print(ax1)\n",
    "graph = sns.countplot(ax=ax1,x='text', data=m)\n",
    "graph.set_xticklabels(graph.get_xticklabels(),rotation=90)\n",
    "i=0\n",
    "for p in graph.patches:\n",
    "    height = p.get_height()\n",
    "    graph.text(p.get_x()+p.get_width()/2., height + 2,\n",
    "        int(height),ha=\"center\",fontweight='bold')\n",
    "    i += 1\n",
    "# i=0\n",
    "# ax = sns.countplot(x=m['label'], data=m)\n",
    "# # for p in ax.patches:\n",
    "# #     ax.annotate(f'\\n{p.get_height()}', (p.get_x()+0.4, int(p.get_height())), ha='center', va='top', color='black', size=12)\n",
    "# plt.xticks(rotation=90)\n",
    "\n",
    "# plt.title('Deception Tag Frequencies', color='blue', fontsize=20, fontweight='bold', fontstyle='italic')\n",
    "# plt.xlabel('Labels', color='blue', fontsize=15, fontstyle='italic')\n",
    "# plt.ylabel('Frequency', color='blue', fontsize=15, fontstyle='italic')\n",
    "\n",
    "# plt.show()"
   ]
  },
  {
   "cell_type": "code",
   "execution_count": null,
   "metadata": {},
   "outputs": [],
   "source": []
  }
 ],
 "metadata": {
  "kernelspec": {
   "display_name": "Python 3",
   "language": "python",
   "name": "python3"
  },
  "language_info": {
   "codemirror_mode": {
    "name": "ipython",
    "version": 3
   },
   "file_extension": ".py",
   "mimetype": "text/x-python",
   "name": "python",
   "nbconvert_exporter": "python",
   "pygments_lexer": "ipython3",
   "version": "3.10.6"
  },
  "orig_nbformat": 4,
  "vscode": {
   "interpreter": {
    "hash": "92adc0dc7608e96a50ce5fb9acbd8bea0a01f16a513a55f8bb8294402fce5e61"
   }
  }
 },
 "nbformat": 4,
 "nbformat_minor": 2
}
