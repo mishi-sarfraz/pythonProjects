{
 "cells": [
  {
   "attachments": {},
   "cell_type": "markdown",
   "metadata": {},
   "source": [
    "#### Import packages and read all Json Files"
   ]
  },
  {
   "cell_type": "code",
   "execution_count": 1,
   "metadata": {},
   "outputs": [],
   "source": [
    "import os\n",
    "import json\n",
    "import pandas as pd\n",
    "\n",
    "directory = \"Deception_tagged_json\"\n",
    "all_data = {}\n",
    "\n",
    "for filename in os.listdir(directory):\n",
    "    if filename.endswith(\".json\"):\n",
    "        file_path = os.path.join(directory, filename)\n",
    "        with open(file_path, \"r\", encoding=\"utf-8\") as f:\n",
    "            data = json.load(f)\n",
    "            all_data[filename] = data"
   ]
  },
  {
   "attachments": {},
   "cell_type": "markdown",
   "metadata": {},
   "source": [
    "#### All keys"
   ]
  },
  {
   "cell_type": "code",
   "execution_count": 2,
   "metadata": {},
   "outputs": [
    {
     "data": {
      "text/plain": [
       "dict_keys(['deception_row_10.json', 'deception_row_100.json', 'deception_row_101.json', 'deception_row_102.json', 'deception_row_103.json', 'deception_row_104.json', 'deception_row_105.json', 'deception_row_106.json', 'deception_row_107.json', 'deception_row_108.json', 'deception_row_109.json', 'deception_row_11.json', 'deception_row_110.json', 'deception_row_111.json', 'deception_row_112.json', 'deception_row_113.json', 'deception_row_114.json', 'deception_row_115.json', 'deception_row_116.json', 'deception_row_117.json', 'deception_row_118.json', 'deception_row_119.json', 'deception_row_12.json', 'deception_row_120.json', 'deception_row_121.json', 'deception_row_122.json', 'deception_row_123.json', 'deception_row_124.json', 'deception_row_125.json', 'deception_row_126.json', 'deception_row_127.json', 'deception_row_128.json', 'deception_row_129.json', 'deception_row_13.json', 'deception_row_130.json', 'deception_row_132.json', 'deception_row_133.json', 'deception_row_134.json', 'deception_row_135.json', 'deception_row_136.json', 'deception_row_137.json', 'deception_row_138.json', 'deception_row_139.json', 'deception_row_14.json', 'deception_row_140.json', 'deception_row_141.json', 'deception_row_15.json', 'deception_row_16.json', 'deception_row_17.json', 'deception_row_18.json', 'deception_row_19.json', 'deception_row_20.json', 'deception_row_21.json', 'deception_row_22.json', 'deception_row_23.json', 'deception_row_24.json', 'deception_row_25.json', 'deception_row_26.json', 'deception_row_27.json', 'deception_row_28.json', 'deception_row_29.json', 'deception_row_3.json', 'deception_row_30.json', 'deception_row_31.json', 'deception_row_32.json', 'deception_row_33.json', 'deception_row_34.json', 'deception_row_35.json', 'deception_row_36.json', 'deception_row_37.json', 'deception_row_38.json', 'deception_row_39.json', 'deception_row_4.json', 'deception_row_40.json', 'deception_row_41.json', 'deception_row_42.json', 'deception_row_43.json', 'deception_row_44.json', 'deception_row_45.json', 'deception_row_46.json', 'deception_row_47.json', 'deception_row_48.json', 'deception_row_49.json', 'deception_row_5.json', 'deception_row_50.json', 'deception_row_51.json', 'deception_row_52.json', 'deception_row_53.json', 'deception_row_54.json', 'deception_row_55.json', 'deception_row_56.json', 'deception_row_57.json', 'deception_row_58.json', 'deception_row_59.json', 'deception_row_6.json', 'deception_row_60.json', 'deception_row_61.json', 'deception_row_62.json', 'deception_row_63.json', 'deception_row_64.json', 'deception_row_65.json', 'deception_row_66.json', 'deception_row_67.json', 'deception_row_68.json', 'deception_row_69.json', 'deception_row_7.json', 'deception_row_70.json', 'deception_row_71.json', 'deception_row_72.json', 'deception_row_73.json', 'deception_row_74.json', 'deception_row_75.json', 'deception_row_76.json', 'deception_row_77.json', 'deception_row_78.json', 'deception_row_79.json', 'deception_row_8.json', 'deception_row_80.json', 'deception_row_81.json', 'deception_row_82.json', 'deception_row_83.json', 'deception_row_84.json', 'deception_row_85.json', 'deception_row_86.json', 'deception_row_87.json', 'deception_row_88.json', 'deception_row_89.json', 'deception_row_9.json', 'deception_row_90.json', 'deception_row_91.json', 'deception_row_92.json', 'deception_row_93.json', 'deception_row_94.json', 'deception_row_95.json', 'deception_row_96.json', 'deception_row_97.json', 'deception_row_98.json', 'deception_row_99.json'])"
      ]
     },
     "execution_count": 2,
     "metadata": {},
     "output_type": "execute_result"
    }
   ],
   "source": [
    "all_data.keys()"
   ]
  },
  {
   "attachments": {},
   "cell_type": "markdown",
   "metadata": {},
   "source": [
    "#### Extract information from the required key and make a dataframe"
   ]
  },
  {
   "cell_type": "code",
   "execution_count": 3,
   "metadata": {},
   "outputs": [],
   "source": [
    "entities = []\n",
    "for key, value in all_data.items():\n",
    "    for annotation in value[\"annotations\"]:\n",
    "        # add file name to each annotation\n",
    "        id = key.split(\".\")[0]\n",
    "        # add text to each annotation\n",
    "        text = annotation[0]\n",
    "        # add entities\n",
    "        entities_dict = annotation[1][\"entities\"]\n",
    "        for entity in entities_dict:\n",
    "            start = entity[0]\n",
    "            end = entity[1]\n",
    "            type = entity[2]\n",
    "            entities.append([id,text, start, end, type])\n",
    "\n",
    "df = pd.DataFrame(entities, columns=[\"Id\",\"Text\", \"Start\", \"End\", \"Type\"])"
   ]
  },
  {
   "cell_type": "code",
   "execution_count": 4,
   "metadata": {},
   "outputs": [
    {
     "data": {
      "text/html": [
       "<div>\n",
       "<style scoped>\n",
       "    .dataframe tbody tr th:only-of-type {\n",
       "        vertical-align: middle;\n",
       "    }\n",
       "\n",
       "    .dataframe tbody tr th {\n",
       "        vertical-align: top;\n",
       "    }\n",
       "\n",
       "    .dataframe thead th {\n",
       "        text-align: right;\n",
       "    }\n",
       "</style>\n",
       "<table border=\"1\" class=\"dataframe\">\n",
       "  <thead>\n",
       "    <tr style=\"text-align: right;\">\n",
       "      <th></th>\n",
       "      <th>Id</th>\n",
       "      <th>Text</th>\n",
       "      <th>Start</th>\n",
       "      <th>End</th>\n",
       "      <th>Type</th>\n",
       "    </tr>\n",
       "  </thead>\n",
       "  <tbody>\n",
       "    <tr>\n",
       "      <th>0</th>\n",
       "      <td>deception_row_10</td>\n",
       "      <td>VTM1-2 are friends and they acquainted with WP...</td>\n",
       "      <td>11</td>\n",
       "      <td>18</td>\n",
       "      <td>METHOD</td>\n",
       "    </tr>\n",
       "    <tr>\n",
       "      <th>1</th>\n",
       "      <td>deception_row_10</td>\n",
       "      <td>VTM1-2 are friends and they acquainted with WP...</td>\n",
       "      <td>56</td>\n",
       "      <td>72</td>\n",
       "      <td>CHANNEL</td>\n",
       "    </tr>\n",
       "    <tr>\n",
       "      <th>2</th>\n",
       "      <td>deception_row_10</td>\n",
       "      <td>VTM1-2 are friends and they acquainted with WP...</td>\n",
       "      <td>138</td>\n",
       "      <td>256</td>\n",
       "      <td>METHOD</td>\n",
       "    </tr>\n",
       "    <tr>\n",
       "      <th>3</th>\n",
       "      <td>deception_row_10</td>\n",
       "      <td>VTM1-2 are friends and they acquainted with WP...</td>\n",
       "      <td>325</td>\n",
       "      <td>342</td>\n",
       "      <td>HOW_PROPERTY_IS_TAKEN_AWAY</td>\n",
       "    </tr>\n",
       "    <tr>\n",
       "      <th>4</th>\n",
       "      <td>deception_row_100</td>\n",
       "      <td>\"4.    E-Shopping (C2C) Fraud\\n      Social Me...</td>\n",
       "      <td>141</td>\n",
       "      <td>152</td>\n",
       "      <td>CHANNEL</td>\n",
       "    </tr>\n",
       "    <tr>\n",
       "      <th>...</th>\n",
       "      <td>...</td>\n",
       "      <td>...</td>\n",
       "      <td>...</td>\n",
       "      <td>...</td>\n",
       "      <td>...</td>\n",
       "    </tr>\n",
       "    <tr>\n",
       "      <th>878</th>\n",
       "      <td>deception_row_99</td>\n",
       "      <td>\"4.    E-Shopping (C2C) Fraud\\n      Social Me...</td>\n",
       "      <td>245</td>\n",
       "      <td>255</td>\n",
       "      <td>AMOUNT</td>\n",
       "    </tr>\n",
       "    <tr>\n",
       "      <th>879</th>\n",
       "      <td>deception_row_99</td>\n",
       "      <td>\"4.    E-Shopping (C2C) Fraud\\n      Social Me...</td>\n",
       "      <td>285</td>\n",
       "      <td>288</td>\n",
       "      <td>HOW_PROPERTY_IS_TAKEN_AWAY</td>\n",
       "    </tr>\n",
       "    <tr>\n",
       "      <th>880</th>\n",
       "      <td>deception_row_99</td>\n",
       "      <td>\"4.    E-Shopping (C2C) Fraud\\n      Social Me...</td>\n",
       "      <td>358</td>\n",
       "      <td>361</td>\n",
       "      <td>GENDER</td>\n",
       "    </tr>\n",
       "    <tr>\n",
       "      <th>881</th>\n",
       "      <td>deception_row_99</td>\n",
       "      <td>\"4.    E-Shopping (C2C) Fraud\\n      Social Me...</td>\n",
       "      <td>365</td>\n",
       "      <td>375</td>\n",
       "      <td>CHANNEL</td>\n",
       "    </tr>\n",
       "    <tr>\n",
       "      <th>882</th>\n",
       "      <td>deception_row_99</td>\n",
       "      <td>\"4.    E-Shopping (C2C) Fraud\\n      Social Me...</td>\n",
       "      <td>384</td>\n",
       "      <td>398</td>\n",
       "      <td>METHOD</td>\n",
       "    </tr>\n",
       "  </tbody>\n",
       "</table>\n",
       "<p>883 rows × 5 columns</p>\n",
       "</div>"
      ],
      "text/plain": [
       "                    Id                                               Text  \\\n",
       "0     deception_row_10  VTM1-2 are friends and they acquainted with WP...   \n",
       "1     deception_row_10  VTM1-2 are friends and they acquainted with WP...   \n",
       "2     deception_row_10  VTM1-2 are friends and they acquainted with WP...   \n",
       "3     deception_row_10  VTM1-2 are friends and they acquainted with WP...   \n",
       "4    deception_row_100  \"4.    E-Shopping (C2C) Fraud\\n      Social Me...   \n",
       "..                 ...                                                ...   \n",
       "878   deception_row_99  \"4.    E-Shopping (C2C) Fraud\\n      Social Me...   \n",
       "879   deception_row_99  \"4.    E-Shopping (C2C) Fraud\\n      Social Me...   \n",
       "880   deception_row_99  \"4.    E-Shopping (C2C) Fraud\\n      Social Me...   \n",
       "881   deception_row_99  \"4.    E-Shopping (C2C) Fraud\\n      Social Me...   \n",
       "882   deception_row_99  \"4.    E-Shopping (C2C) Fraud\\n      Social Me...   \n",
       "\n",
       "     Start  End                        Type  \n",
       "0       11   18                      METHOD  \n",
       "1       56   72                     CHANNEL  \n",
       "2      138  256                      METHOD  \n",
       "3      325  342  HOW_PROPERTY_IS_TAKEN_AWAY  \n",
       "4      141  152                     CHANNEL  \n",
       "..     ...  ...                         ...  \n",
       "878    245  255                      AMOUNT  \n",
       "879    285  288  HOW_PROPERTY_IS_TAKEN_AWAY  \n",
       "880    358  361                      GENDER  \n",
       "881    365  375                     CHANNEL  \n",
       "882    384  398                      METHOD  \n",
       "\n",
       "[883 rows x 5 columns]"
      ]
     },
     "execution_count": 4,
     "metadata": {},
     "output_type": "execute_result"
    }
   ],
   "source": [
    "df"
   ]
  },
  {
   "attachments": {},
   "cell_type": "markdown",
   "metadata": {},
   "source": [
    "#### Value counts of the Type column"
   ]
  },
  {
   "cell_type": "code",
   "execution_count": 5,
   "metadata": {},
   "outputs": [
    {
     "data": {
      "text/plain": [
       "METHOD                        243\n",
       "CHANNEL                       202\n",
       "HOW_PROPERTY_IS_TAKEN_AWAY    178\n",
       "AMOUNT                        123\n",
       "GENDER                         61\n",
       "NUMBER_OF_OCCURRENCE           24\n",
       "LOG_TYPE                       16\n",
       "LOC                            16\n",
       "LOCATION                        8\n",
       "NATIVE                          6\n",
       "VICTIM_CAREER                   4\n",
       "OFFENCE                         2\n",
       "Name: Type, dtype: int64"
      ]
     },
     "execution_count": 5,
     "metadata": {},
     "output_type": "execute_result"
    }
   ],
   "source": [
    "df['Type'].value_counts()"
   ]
  },
  {
   "attachments": {},
   "cell_type": "markdown",
   "metadata": {},
   "source": [
    "#### Trim start and end from the text"
   ]
  },
  {
   "cell_type": "code",
   "execution_count": 6,
   "metadata": {},
   "outputs": [
    {
     "data": {
      "text/html": [
       "<div>\n",
       "<style scoped>\n",
       "    .dataframe tbody tr th:only-of-type {\n",
       "        vertical-align: middle;\n",
       "    }\n",
       "\n",
       "    .dataframe tbody tr th {\n",
       "        vertical-align: top;\n",
       "    }\n",
       "\n",
       "    .dataframe thead th {\n",
       "        text-align: right;\n",
       "    }\n",
       "</style>\n",
       "<table border=\"1\" class=\"dataframe\">\n",
       "  <thead>\n",
       "    <tr style=\"text-align: right;\">\n",
       "      <th></th>\n",
       "      <th>Id</th>\n",
       "      <th>Text</th>\n",
       "      <th>Start</th>\n",
       "      <th>End</th>\n",
       "      <th>Type</th>\n",
       "      <th>Annotated_text</th>\n",
       "    </tr>\n",
       "  </thead>\n",
       "  <tbody>\n",
       "    <tr>\n",
       "      <th>0</th>\n",
       "      <td>deception_row_10</td>\n",
       "      <td>VTM1-2 are friends and they acquainted with WP...</td>\n",
       "      <td>11</td>\n",
       "      <td>18</td>\n",
       "      <td>METHOD</td>\n",
       "      <td>friends</td>\n",
       "    </tr>\n",
       "    <tr>\n",
       "      <th>1</th>\n",
       "      <td>deception_row_10</td>\n",
       "      <td>VTM1-2 are friends and they acquainted with WP...</td>\n",
       "      <td>56</td>\n",
       "      <td>72</td>\n",
       "      <td>CHANNEL</td>\n",
       "      <td>social gathering</td>\n",
       "    </tr>\n",
       "    <tr>\n",
       "      <th>2</th>\n",
       "      <td>deception_row_10</td>\n",
       "      <td>VTM1-2 are friends and they acquainted with WP...</td>\n",
       "      <td>138</td>\n",
       "      <td>256</td>\n",
       "      <td>METHOD</td>\n",
       "      <td>WP claimed to have connection with travel agen...</td>\n",
       "    </tr>\n",
       "    <tr>\n",
       "      <th>3</th>\n",
       "      <td>deception_row_10</td>\n",
       "      <td>VTM1-2 are friends and they acquainted with WP...</td>\n",
       "      <td>325</td>\n",
       "      <td>342</td>\n",
       "      <td>HOW_PROPERTY_IS_TAKEN_AWAY</td>\n",
       "      <td>WP’s FPS account.</td>\n",
       "    </tr>\n",
       "    <tr>\n",
       "      <th>4</th>\n",
       "      <td>deception_row_100</td>\n",
       "      <td>\"4.    E-Shopping (C2C) Fraud\\n      Social Me...</td>\n",
       "      <td>141</td>\n",
       "      <td>152</td>\n",
       "      <td>CHANNEL</td>\n",
       "      <td>‘Carousell’</td>\n",
       "    </tr>\n",
       "  </tbody>\n",
       "</table>\n",
       "</div>"
      ],
      "text/plain": [
       "                  Id                                               Text  \\\n",
       "0   deception_row_10  VTM1-2 are friends and they acquainted with WP...   \n",
       "1   deception_row_10  VTM1-2 are friends and they acquainted with WP...   \n",
       "2   deception_row_10  VTM1-2 are friends and they acquainted with WP...   \n",
       "3   deception_row_10  VTM1-2 are friends and they acquainted with WP...   \n",
       "4  deception_row_100  \"4.    E-Shopping (C2C) Fraud\\n      Social Me...   \n",
       "\n",
       "   Start  End                        Type  \\\n",
       "0     11   18                      METHOD   \n",
       "1     56   72                     CHANNEL   \n",
       "2    138  256                      METHOD   \n",
       "3    325  342  HOW_PROPERTY_IS_TAKEN_AWAY   \n",
       "4    141  152                     CHANNEL   \n",
       "\n",
       "                                      Annotated_text  \n",
       "0                                            friends  \n",
       "1                                   social gathering  \n",
       "2  WP claimed to have connection with travel agen...  \n",
       "3                                  WP’s FPS account.  \n",
       "4                                        ‘Carousell’  "
      ]
     },
     "execution_count": 6,
     "metadata": {},
     "output_type": "execute_result"
    }
   ],
   "source": [
    "# trim start and end of text based on start and end of entity\n",
    "df['Annotated_text'] = df.apply(lambda x: x['Text'][x['Start']:x['End']], axis=1)\n",
    "df.head()"
   ]
  },
  {
   "attachments": {},
   "cell_type": "markdown",
   "metadata": {},
   "source": [
    "#### Exampe from Each Type "
   ]
  },
  {
   "cell_type": "code",
   "execution_count": null,
   "metadata": {},
   "outputs": [],
   "source": [
    "# show example from each type and exclude Text column\n",
    "df.groupby('Type').first().drop(columns=['Text'])"
   ]
  },
  {
   "attachments": {},
   "cell_type": "markdown",
   "metadata": {},
   "source": [
    "#### To Excel"
   ]
  },
  {
   "cell_type": "code",
   "execution_count": 9,
   "metadata": {},
   "outputs": [],
   "source": [
    "# To excel \n",
    "df.to_excel(\"Deception_tagged.xlsx\", index=False)"
   ]
  },
  {
   "cell_type": "code",
   "execution_count": null,
   "metadata": {},
   "outputs": [],
   "source": []
  }
 ],
 "metadata": {
  "kernelspec": {
   "display_name": "Python 3",
   "language": "python",
   "name": "python3"
  },
  "language_info": {
   "codemirror_mode": {
    "name": "ipython",
    "version": 3
   },
   "file_extension": ".py",
   "mimetype": "text/x-python",
   "name": "python",
   "nbconvert_exporter": "python",
   "pygments_lexer": "ipython3",
   "version": "3.10.6"
  },
  "orig_nbformat": 4,
  "vscode": {
   "interpreter": {
    "hash": "92adc0dc7608e96a50ce5fb9acbd8bea0a01f16a513a55f8bb8294402fce5e61"
   }
  }
 },
 "nbformat": 4,
 "nbformat_minor": 2
}
