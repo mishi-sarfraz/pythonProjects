{
 "cells": [
  {
   "attachments": {},
   "cell_type": "markdown",
   "metadata": {},
   "source": [
    "Main purpose of this file is to create a regex which on the basis of some text could extract that text contains single or multiple victims"
   ]
  },
  {
   "cell_type": "code",
   "execution_count": 34,
   "metadata": {},
   "outputs": [],
   "source": [
    "import pandas as pd\n",
    "df=pd.read_excel(r'E:\\Neural Lab\\HKPF\\Burglary_sumit to vender_1 round.xlsx')"
   ]
  },
  {
   "cell_type": "code",
   "execution_count": 35,
   "metadata": {},
   "outputs": [
    {
     "data": {
      "text/plain": [
       "Index(['SN', 'DISTRICT', 'FORMATION', 'RN', 'RN_OWNER', 'TEAM',\n",
       "       'CASE_RELATED_TYPE', 'INCIDENT_HEADING', 'REPORT_CREATION_DATETIME',\n",
       "       'INCIDENT_START_DATETIME', 'CASE_STATUS', 'REPORTING_METHOD',\n",
       "       'P4_CRIME_MESSAGE', 'submit to vendor', 'done?', 'breaking in?', 'cctv',\n",
       "       'how many of cctv', 'Gang or Solo', 'Cases Nature'],\n",
       "      dtype='object')"
      ]
     },
     "execution_count": 35,
     "metadata": {},
     "output_type": "execute_result"
    }
   ],
   "source": [
    "df.columns"
   ]
  },
  {
   "cell_type": "code",
   "execution_count": 36,
   "metadata": {},
   "outputs": [],
   "source": [
    "tempdf=df[['P4_CRIME_MESSAGE']]"
   ]
  },
  {
   "cell_type": "code",
   "execution_count": 37,
   "metadata": {},
   "outputs": [
    {
     "data": {
      "text/html": [
       "<div>\n",
       "<style scoped>\n",
       "    .dataframe tbody tr th:only-of-type {\n",
       "        vertical-align: middle;\n",
       "    }\n",
       "\n",
       "    .dataframe tbody tr th {\n",
       "        vertical-align: top;\n",
       "    }\n",
       "\n",
       "    .dataframe thead th {\n",
       "        text-align: right;\n",
       "    }\n",
       "</style>\n",
       "<table border=\"1\" class=\"dataframe\">\n",
       "  <thead>\n",
       "    <tr style=\"text-align: right;\">\n",
       "      <th></th>\n",
       "      <th>P4_CRIME_MESSAGE</th>\n",
       "    </tr>\n",
       "  </thead>\n",
       "  <tbody>\n",
       "    <tr>\n",
       "      <th>0</th>\n",
       "      <td>4.    AP4 (previously WP2) is an active burgla...</td>\n",
       "    </tr>\n",
       "    <tr>\n",
       "      <th>1</th>\n",
       "      <td>4.    A/L is a 200 sq ft. fast food kiosk whic...</td>\n",
       "    </tr>\n",
       "    <tr>\n",
       "      <th>2</th>\n",
       "      <td>4.    A/L situated in a 19-storey public estat...</td>\n",
       "    </tr>\n",
       "    <tr>\n",
       "      <th>3</th>\n",
       "      <td>4.    The subject hillside-facing estate consi...</td>\n",
       "    </tr>\n",
       "    <tr>\n",
       "      <th>4</th>\n",
       "      <td>4.    Residential Structure\\n      ===========...</td>\n",
       "    </tr>\n",
       "  </tbody>\n",
       "</table>\n",
       "</div>"
      ],
      "text/plain": [
       "                                    P4_CRIME_MESSAGE\n",
       "0  4.    AP4 (previously WP2) is an active burgla...\n",
       "1  4.    A/L is a 200 sq ft. fast food kiosk whic...\n",
       "2  4.    A/L situated in a 19-storey public estat...\n",
       "3  4.    The subject hillside-facing estate consi...\n",
       "4  4.    Residential Structure\\n      ===========..."
      ]
     },
     "execution_count": 37,
     "metadata": {},
     "output_type": "execute_result"
    }
   ],
   "source": [
    "tempdf.head()"
   ]
  },
  {
   "cell_type": "code",
   "execution_count": 38,
   "metadata": {},
   "outputs": [],
   "source": [
    "# Create a regular expression that matches any of the desired substrings\n",
    "# regex = r'VTM-1|Incident 1|'\n",
    "regex = r'Incident 1|VTM-1|VTM1|OFFENCE1|Offence 1|Offence1|Offence-1|Chain Burglary'\n",
    "\n",
    "# Create a boolean mask indicating the locations of matching values in col0\n",
    "match_mask = tempdf['P4_CRIME_MESSAGE'].str.contains(regex, na=False)\n"
   ]
  },
  {
   "cell_type": "code",
   "execution_count": 39,
   "metadata": {},
   "outputs": [
    {
     "data": {
      "text/plain": [
       "0     True\n",
       "1    False\n",
       "2    False\n",
       "3    False\n",
       "4     True\n",
       "Name: P4_CRIME_MESSAGE, dtype: bool"
      ]
     },
     "execution_count": 39,
     "metadata": {},
     "output_type": "execute_result"
    }
   ],
   "source": [
    "match_mask.head()"
   ]
  },
  {
   "cell_type": "code",
   "execution_count": 40,
   "metadata": {},
   "outputs": [],
   "source": [
    "#  return  t"
   ]
  },
  {
   "cell_type": "code",
   "execution_count": 41,
   "metadata": {},
   "outputs": [
    {
     "data": {
      "text/html": [
       "<div>\n",
       "<style scoped>\n",
       "    .dataframe tbody tr th:only-of-type {\n",
       "        vertical-align: middle;\n",
       "    }\n",
       "\n",
       "    .dataframe tbody tr th {\n",
       "        vertical-align: top;\n",
       "    }\n",
       "\n",
       "    .dataframe thead th {\n",
       "        text-align: right;\n",
       "    }\n",
       "</style>\n",
       "<table border=\"1\" class=\"dataframe\">\n",
       "  <thead>\n",
       "    <tr style=\"text-align: right;\">\n",
       "      <th></th>\n",
       "      <th>P4_CRIME_MESSAGE</th>\n",
       "    </tr>\n",
       "  </thead>\n",
       "  <tbody>\n",
       "    <tr>\n",
       "      <th>0</th>\n",
       "      <td>4.    AP4 (previously WP2) is an active burgla...</td>\n",
       "    </tr>\n",
       "    <tr>\n",
       "      <th>4</th>\n",
       "      <td>4.    Residential Structure\\n      ===========...</td>\n",
       "    </tr>\n",
       "    <tr>\n",
       "      <th>6</th>\n",
       "      <td>4.    Structure of Building\\n      ===========...</td>\n",
       "    </tr>\n",
       "    <tr>\n",
       "      <th>7</th>\n",
       "      <td>4.    Structure of the Building\\n      =======...</td>\n",
       "    </tr>\n",
       "    <tr>\n",
       "      <th>8</th>\n",
       "      <td>4.    Structure of Building\\n      ===========...</td>\n",
       "    </tr>\n",
       "    <tr>\n",
       "      <th>11</th>\n",
       "      <td>4.    Building Structure\\n      ==============...</td>\n",
       "    </tr>\n",
       "    <tr>\n",
       "      <th>13</th>\n",
       "      <td>4.    Structure of Building\\n      ===========...</td>\n",
       "    </tr>\n",
       "    <tr>\n",
       "      <th>16</th>\n",
       "      <td>4.    Structure of Building\\n      ===========...</td>\n",
       "    </tr>\n",
       "    <tr>\n",
       "      <th>17</th>\n",
       "      <td>4.    Structure of Buildings\\n      ==========...</td>\n",
       "    </tr>\n",
       "    <tr>\n",
       "      <th>27</th>\n",
       "      <td>4.    Chain Burglary (Offences 1-2)\\n      ===...</td>\n",
       "    </tr>\n",
       "    <tr>\n",
       "      <th>30</th>\n",
       "      <td>4.    This is a consolidated case including se...</td>\n",
       "    </tr>\n",
       "    <tr>\n",
       "      <th>31</th>\n",
       "      <td>4.    Manor Centre is residential estate consi...</td>\n",
       "    </tr>\n",
       "    <tr>\n",
       "      <th>33</th>\n",
       "      <td>4.    Chain Burglary (Offences 1-3)\\n      ===...</td>\n",
       "    </tr>\n",
       "    <tr>\n",
       "      <th>37</th>\n",
       "      <td>4.    A/L1-2 are situated in a 11 storey resid...</td>\n",
       "    </tr>\n",
       "    <tr>\n",
       "      <th>41</th>\n",
       "      <td>4.    Offence-1\\n      =======================...</td>\n",
       "    </tr>\n",
       "    <tr>\n",
       "      <th>42</th>\n",
       "      <td>4.    Lei Cheng Uk Estate, Lai Kok Estate and ...</td>\n",
       "    </tr>\n",
       "    <tr>\n",
       "      <th>45</th>\n",
       "      <td>4.    VTM1 was the owner of A/L1 who resided a...</td>\n",
       "    </tr>\n",
       "    <tr>\n",
       "      <th>46</th>\n",
       "      <td>4.    VTM1 has lived at A/L for more than 19 y...</td>\n",
       "    </tr>\n",
       "    <tr>\n",
       "      <th>51</th>\n",
       "      <td>4.    VTM1’s father is a fung shui practitione...</td>\n",
       "    </tr>\n",
       "    <tr>\n",
       "      <th>63</th>\n",
       "      <td>4.    A/L-1 is an accounting firm located at 2...</td>\n",
       "    </tr>\n",
       "    <tr>\n",
       "      <th>64</th>\n",
       "      <td>4.    NEC Related\\n      ===========\\n      A/...</td>\n",
       "    </tr>\n",
       "    <tr>\n",
       "      <th>68</th>\n",
       "      <td>4.    Offence 1\\n      =========\\n      A/L/1 ...</td>\n",
       "    </tr>\n",
       "    <tr>\n",
       "      <th>69</th>\n",
       "      <td>4.    NEC Related – AP\\n      ================...</td>\n",
       "    </tr>\n",
       "    <tr>\n",
       "      <th>76</th>\n",
       "      <td>4.    NEC - AP\\n      Previous Crime Message o...</td>\n",
       "    </tr>\n",
       "    <tr>\n",
       "      <th>82</th>\n",
       "      <td>4.    Previous Crime Message on 2022-04-26\\n  ...</td>\n",
       "    </tr>\n",
       "    <tr>\n",
       "      <th>84</th>\n",
       "      <td>4.    Operation THUNDERBOLT 22\\n      ========...</td>\n",
       "    </tr>\n",
       "    <tr>\n",
       "      <th>88</th>\n",
       "      <td>4.    Previous message on 2022-03-25\\n      ==...</td>\n",
       "    </tr>\n",
       "    <tr>\n",
       "      <th>89</th>\n",
       "      <td>4.    The above building is a 14-storey indust...</td>\n",
       "    </tr>\n",
       "    <tr>\n",
       "      <th>97</th>\n",
       "      <td>4.    Ping Chun House is a 38-storey residenti...</td>\n",
       "    </tr>\n",
       "    <tr>\n",
       "      <th>102</th>\n",
       "      <td>4.    A/L is a 100 fts storeroom at a 3-storey...</td>\n",
       "    </tr>\n",
       "    <tr>\n",
       "      <th>105</th>\n",
       "      <td>4.    Previous crime message on 2021-12-15 &amp; 2...</td>\n",
       "    </tr>\n",
       "    <tr>\n",
       "      <th>106</th>\n",
       "      <td>4.    Previous Crime Message on 2022-02-06\\n  ...</td>\n",
       "    </tr>\n",
       "    <tr>\n",
       "      <th>111</th>\n",
       "      <td>4.    Previous Crime Message dated 2022-09-15\\...</td>\n",
       "    </tr>\n",
       "    <tr>\n",
       "      <th>112</th>\n",
       "      <td>4.    Previous crime message dated 2022-10-12 ...</td>\n",
       "    </tr>\n",
       "    <tr>\n",
       "      <th>115</th>\n",
       "      <td>4.    A/L situates in a 25-storey public housi...</td>\n",
       "    </tr>\n",
       "    <tr>\n",
       "      <th>125</th>\n",
       "      <td>4.    A/L is a 1,400 sq. ft. single-storey zin...</td>\n",
       "    </tr>\n",
       "    <tr>\n",
       "      <th>126</th>\n",
       "      <td>4.    A/L is the 1/F (around 500 sq. ft.) of a...</td>\n",
       "    </tr>\n",
       "    <tr>\n",
       "      <th>132</th>\n",
       "      <td>4.    (Offence 1, single floor house, 400 sq. ...</td>\n",
       "    </tr>\n",
       "    <tr>\n",
       "      <th>133</th>\n",
       "      <td>4.    Offence 1\\n      =========\\n      (G/F u...</td>\n",
       "    </tr>\n",
       "    <tr>\n",
       "      <th>134</th>\n",
       "      <td>4.    79-81 Ki Lung Street is a 3-nil Tong Lau...</td>\n",
       "    </tr>\n",
       "  </tbody>\n",
       "</table>\n",
       "</div>"
      ],
      "text/plain": [
       "                                      P4_CRIME_MESSAGE\n",
       "0    4.    AP4 (previously WP2) is an active burgla...\n",
       "4    4.    Residential Structure\\n      ===========...\n",
       "6    4.    Structure of Building\\n      ===========...\n",
       "7    4.    Structure of the Building\\n      =======...\n",
       "8    4.    Structure of Building\\n      ===========...\n",
       "11   4.    Building Structure\\n      ==============...\n",
       "13   4.    Structure of Building\\n      ===========...\n",
       "16   4.    Structure of Building\\n      ===========...\n",
       "17   4.    Structure of Buildings\\n      ==========...\n",
       "27   4.    Chain Burglary (Offences 1-2)\\n      ===...\n",
       "30   4.    This is a consolidated case including se...\n",
       "31   4.    Manor Centre is residential estate consi...\n",
       "33   4.    Chain Burglary (Offences 1-3)\\n      ===...\n",
       "37   4.    A/L1-2 are situated in a 11 storey resid...\n",
       "41   4.    Offence-1\\n      =======================...\n",
       "42   4.    Lei Cheng Uk Estate, Lai Kok Estate and ...\n",
       "45   4.    VTM1 was the owner of A/L1 who resided a...\n",
       "46   4.    VTM1 has lived at A/L for more than 19 y...\n",
       "51   4.    VTM1’s father is a fung shui practitione...\n",
       "63   4.    A/L-1 is an accounting firm located at 2...\n",
       "64   4.    NEC Related\\n      ===========\\n      A/...\n",
       "68   4.    Offence 1\\n      =========\\n      A/L/1 ...\n",
       "69   4.    NEC Related – AP\\n      ================...\n",
       "76   4.    NEC - AP\\n      Previous Crime Message o...\n",
       "82   4.    Previous Crime Message on 2022-04-26\\n  ...\n",
       "84   4.    Operation THUNDERBOLT 22\\n      ========...\n",
       "88   4.    Previous message on 2022-03-25\\n      ==...\n",
       "89   4.    The above building is a 14-storey indust...\n",
       "97   4.    Ping Chun House is a 38-storey residenti...\n",
       "102  4.    A/L is a 100 fts storeroom at a 3-storey...\n",
       "105  4.    Previous crime message on 2021-12-15 & 2...\n",
       "106  4.    Previous Crime Message on 2022-02-06\\n  ...\n",
       "111  4.    Previous Crime Message dated 2022-09-15\\...\n",
       "112  4.    Previous crime message dated 2022-10-12 ...\n",
       "115  4.    A/L situates in a 25-storey public housi...\n",
       "125  4.    A/L is a 1,400 sq. ft. single-storey zin...\n",
       "126  4.    A/L is the 1/F (around 500 sq. ft.) of a...\n",
       "132  4.    (Offence 1, single floor house, 400 sq. ...\n",
       "133  4.    Offence 1\\n      =========\\n      (G/F u...\n",
       "134  4.    79-81 Ki Lung Street is a 3-nil Tong Lau..."
      ]
     },
     "execution_count": 41,
     "metadata": {},
     "output_type": "execute_result"
    }
   ],
   "source": [
    "#  all the rows where the boolean mask is True:\n",
    "tempdf[match_mask]"
   ]
  },
  {
   "cell_type": "code",
   "execution_count": 46,
   "metadata": {},
   "outputs": [
    {
     "data": {
      "text/plain": [
       "40"
      ]
     },
     "execution_count": 46,
     "metadata": {},
     "output_type": "execute_result"
    }
   ],
   "source": [
    "#  find indexes of all the rows where the boolean mask is True:\n",
    "tempdf[match_mask].index\n",
    "len(tempdf[match_mask].index)"
   ]
  },
  {
   "cell_type": "code",
   "execution_count": 43,
   "metadata": {},
   "outputs": [
    {
     "name": "stderr",
     "output_type": "stream",
     "text": [
      "C:\\Users\\user\\AppData\\Local\\Temp\\ipykernel_9976\\471992534.py:3: SettingWithCopyWarning: \n",
      "A value is trying to be set on a copy of a slice from a DataFrame.\n",
      "Try using .loc[row_indexer,col_indexer] = value instead\n",
      "\n",
      "See the caveats in the documentation: https://pandas.pydata.org/pandas-docs/stable/user_guide/indexing.html#returning-a-view-versus-a-copy\n",
      "  tempdf['VictomNumber'] = [1 if i in tempdf[match_mask].index else 0 for i in tempdf.index]\n"
     ]
    }
   ],
   "source": [
    "#  PRINT TEXT OF INDEX 11:\n",
    "# tempdf.loc[11]\n",
    "tempdf['VictomNumber'] = [1 if i in tempdf[match_mask].index else 0 for i in tempdf.index]\n"
   ]
  },
  {
   "cell_type": "code",
   "execution_count": 44,
   "metadata": {},
   "outputs": [
    {
     "data": {
      "text/html": [
       "<div>\n",
       "<style scoped>\n",
       "    .dataframe tbody tr th:only-of-type {\n",
       "        vertical-align: middle;\n",
       "    }\n",
       "\n",
       "    .dataframe tbody tr th {\n",
       "        vertical-align: top;\n",
       "    }\n",
       "\n",
       "    .dataframe thead th {\n",
       "        text-align: right;\n",
       "    }\n",
       "</style>\n",
       "<table border=\"1\" class=\"dataframe\">\n",
       "  <thead>\n",
       "    <tr style=\"text-align: right;\">\n",
       "      <th></th>\n",
       "      <th>P4_CRIME_MESSAGE</th>\n",
       "      <th>VictomNumber</th>\n",
       "    </tr>\n",
       "  </thead>\n",
       "  <tbody>\n",
       "    <tr>\n",
       "      <th>0</th>\n",
       "      <td>4.    AP4 (previously WP2) is an active burgla...</td>\n",
       "      <td>1</td>\n",
       "    </tr>\n",
       "    <tr>\n",
       "      <th>1</th>\n",
       "      <td>4.    A/L is a 200 sq ft. fast food kiosk whic...</td>\n",
       "      <td>0</td>\n",
       "    </tr>\n",
       "    <tr>\n",
       "      <th>2</th>\n",
       "      <td>4.    A/L situated in a 19-storey public estat...</td>\n",
       "      <td>0</td>\n",
       "    </tr>\n",
       "    <tr>\n",
       "      <th>3</th>\n",
       "      <td>4.    The subject hillside-facing estate consi...</td>\n",
       "      <td>0</td>\n",
       "    </tr>\n",
       "    <tr>\n",
       "      <th>4</th>\n",
       "      <td>4.    Residential Structure\\n      ===========...</td>\n",
       "      <td>1</td>\n",
       "    </tr>\n",
       "  </tbody>\n",
       "</table>\n",
       "</div>"
      ],
      "text/plain": [
       "                                    P4_CRIME_MESSAGE  VictomNumber\n",
       "0  4.    AP4 (previously WP2) is an active burgla...             1\n",
       "1  4.    A/L is a 200 sq ft. fast food kiosk whic...             0\n",
       "2  4.    A/L situated in a 19-storey public estat...             0\n",
       "3  4.    The subject hillside-facing estate consi...             0\n",
       "4  4.    Residential Structure\\n      ===========...             1"
      ]
     },
     "execution_count": 44,
     "metadata": {},
     "output_type": "execute_result"
    }
   ],
   "source": [
    "tempdf.head()"
   ]
  },
  {
   "cell_type": "code",
   "execution_count": 45,
   "metadata": {},
   "outputs": [
    {
     "data": {
      "text/html": [
       "<div>\n",
       "<style scoped>\n",
       "    .dataframe tbody tr th:only-of-type {\n",
       "        vertical-align: middle;\n",
       "    }\n",
       "\n",
       "    .dataframe tbody tr th {\n",
       "        vertical-align: top;\n",
       "    }\n",
       "\n",
       "    .dataframe thead th {\n",
       "        text-align: right;\n",
       "    }\n",
       "</style>\n",
       "<table border=\"1\" class=\"dataframe\">\n",
       "  <thead>\n",
       "    <tr style=\"text-align: right;\">\n",
       "      <th></th>\n",
       "      <th>P4_CRIME_MESSAGE</th>\n",
       "      <th>VictomNumber</th>\n",
       "    </tr>\n",
       "  </thead>\n",
       "  <tbody>\n",
       "    <tr>\n",
       "      <th>135</th>\n",
       "      <td>4.    The material unit was divided into 21 ro...</td>\n",
       "      <td>0</td>\n",
       "    </tr>\n",
       "    <tr>\n",
       "      <th>136</th>\n",
       "      <td>4.    A/L is a 1,800 sq ft hair salon, with a ...</td>\n",
       "      <td>0</td>\n",
       "    </tr>\n",
       "    <tr>\n",
       "      <th>137</th>\n",
       "      <td>4.    NEC related - AP1-2 and WP\\n      ======...</td>\n",
       "      <td>0</td>\n",
       "    </tr>\n",
       "    <tr>\n",
       "      <th>138</th>\n",
       "      <td>4.    VTM rented A/L since Jan 2022 and lives ...</td>\n",
       "      <td>0</td>\n",
       "    </tr>\n",
       "    <tr>\n",
       "      <th>139</th>\n",
       "      <td>4.    A/L is a ground floor grocery store.  At...</td>\n",
       "      <td>0</td>\n",
       "    </tr>\n",
       "  </tbody>\n",
       "</table>\n",
       "</div>"
      ],
      "text/plain": [
       "                                      P4_CRIME_MESSAGE  VictomNumber\n",
       "135  4.    The material unit was divided into 21 ro...             0\n",
       "136  4.    A/L is a 1,800 sq ft hair salon, with a ...             0\n",
       "137  4.    NEC related - AP1-2 and WP\\n      ======...             0\n",
       "138  4.    VTM rented A/L since Jan 2022 and lives ...             0\n",
       "139  4.    A/L is a ground floor grocery store.  At...             0"
      ]
     },
     "execution_count": 45,
     "metadata": {},
     "output_type": "execute_result"
    }
   ],
   "source": [
    "tempdf.tail()"
   ]
  },
  {
   "cell_type": "code",
   "execution_count": 25,
   "metadata": {},
   "outputs": [],
   "source": [
    "#  save tempdf to excel:\n",
    "tempdf.to_excel(r'E:\\Neural Lab\\HKPF\\Burglary_sumit_to_vender_1_round_with_victomFrequency.xlsx', index=False)"
   ]
  },
  {
   "cell_type": "code",
   "execution_count": 26,
   "metadata": {},
   "outputs": [
    {
     "data": {
      "text/plain": [
       "Int64Index([  2,   6,   8,   9,  10,  13,  15,  18,  19,  29,  32,  33,  35,\n",
       "             39,  43,  44,  47,  48,  53,  65,  66,  70,  71,  78,  84,  86,\n",
       "             90,  91,  99, 104, 107, 108, 113, 114, 117, 127, 128, 134, 135,\n",
       "            136],\n",
       "           dtype='int64')"
      ]
     },
     "execution_count": 26,
     "metadata": {},
     "output_type": "execute_result"
    }
   ],
   "source": [
    "# ADD 2 IN THE INDEXES OF ALL THE ROWS WHERE THE BOOLEAN MASK IS TRUE to matcg th enumber with the original excel:\n",
    "tempdf[match_mask].index+2"
   ]
  },
  {
   "cell_type": "code",
   "execution_count": 30,
   "metadata": {},
   "outputs": [],
   "source": [
    "regex1= r'VTM'\n",
    "\n",
    "match_mask1 = tempdf['P4_CRIME_MESSAGE'].str.contains(regex1, na=False)\n"
   ]
  },
  {
   "cell_type": "code",
   "execution_count": 31,
   "metadata": {},
   "outputs": [
    {
     "data": {
      "text/plain": [
       "0    False\n",
       "1     True\n",
       "2     True\n",
       "3     True\n",
       "4     True\n",
       "Name: P4_CRIME_MESSAGE, dtype: bool"
      ]
     },
     "execution_count": 31,
     "metadata": {},
     "output_type": "execute_result"
    }
   ],
   "source": [
    "match_mask1.head()"
   ]
  },
  {
   "cell_type": "code",
   "execution_count": 32,
   "metadata": {},
   "outputs": [
    {
     "data": {
      "text/plain": [
       "Int64Index([  1,   2,   3,   4,   5,   6,   7,   8,  10,  11,\n",
       "            ...\n",
       "            126, 127, 128, 130, 131, 132, 133, 136, 138, 139],\n",
       "           dtype='int64', length=103)"
      ]
     },
     "execution_count": 32,
     "metadata": {},
     "output_type": "execute_result"
    }
   ],
   "source": [
    "tempdf[match_mask1].index"
   ]
  },
  {
   "cell_type": "code",
   "execution_count": 33,
   "metadata": {},
   "outputs": [
    {
     "data": {
      "text/plain": [
       "103"
      ]
     },
     "execution_count": 33,
     "metadata": {},
     "output_type": "execute_result"
    }
   ],
   "source": [
    "len(tempdf[match_mask1].index)"
   ]
  },
  {
   "cell_type": "code",
   "execution_count": null,
   "metadata": {},
   "outputs": [],
   "source": []
  }
 ],
 "metadata": {
  "kernelspec": {
   "display_name": "Python 3",
   "language": "python",
   "name": "python3"
  },
  "language_info": {
   "codemirror_mode": {
    "name": "ipython",
    "version": 3
   },
   "file_extension": ".py",
   "mimetype": "text/x-python",
   "name": "python",
   "nbconvert_exporter": "python",
   "pygments_lexer": "ipython3",
   "version": "3.10.6"
  },
  "orig_nbformat": 4
 },
 "nbformat": 4,
 "nbformat_minor": 2
}
