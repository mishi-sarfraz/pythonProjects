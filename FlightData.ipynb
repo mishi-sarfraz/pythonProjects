{
 "cells": [
  {
   "cell_type": "code",
   "execution_count": 297,
   "metadata": {},
   "outputs": [],
   "source": [
    "#  access the data \n",
    "import pandas as pd\n",
    "dataStaff=pd.read_csv('J:\\\\SATS\\\\SATS_RAM.csv')\n"
   ]
  },
  {
   "cell_type": "code",
   "execution_count": 163,
   "metadata": {},
   "outputs": [],
   "source": [
    "dataStaff=dataStaff[dataStaff['Orientation']=='Arrival']"
   ]
  },
  {
   "cell_type": "code",
   "execution_count": 164,
   "metadata": {},
   "outputs": [],
   "source": [
    "# remove .0 from ET column\n",
    "dataStaff['ET']=dataStaff['ET'].astype(str).str[:-2]"
   ]
  },
  {
   "cell_type": "code",
   "execution_count": 165,
   "metadata": {},
   "outputs": [
    {
     "data": {
      "text/html": [
       "<div>\n",
       "<style scoped>\n",
       "    .dataframe tbody tr th:only-of-type {\n",
       "        vertical-align: middle;\n",
       "    }\n",
       "\n",
       "    .dataframe tbody tr th {\n",
       "        vertical-align: top;\n",
       "    }\n",
       "\n",
       "    .dataframe thead th {\n",
       "        text-align: right;\n",
       "    }\n",
       "</style>\n",
       "<table border=\"1\" class=\"dataframe\">\n",
       "  <thead>\n",
       "    <tr style=\"text-align: right;\">\n",
       "      <th></th>\n",
       "      <th>Flight Date</th>\n",
       "      <th>Orientation</th>\n",
       "      <th>Flight</th>\n",
       "      <th>ST</th>\n",
       "      <th>ET</th>\n",
       "      <th>RLO</th>\n",
       "      <th>RSM</th>\n",
       "      <th>EO</th>\n",
       "      <th>AA</th>\n",
       "    </tr>\n",
       "  </thead>\n",
       "  <tbody>\n",
       "    <tr>\n",
       "      <th>20208</th>\n",
       "      <td>30-11-2022</td>\n",
       "      <td>Arrival</td>\n",
       "      <td>SQ 193</td>\n",
       "      <td>2315</td>\n",
       "      <td>2304</td>\n",
       "      <td>1.0</td>\n",
       "      <td>2</td>\n",
       "      <td>1</td>\n",
       "      <td>1.0</td>\n",
       "    </tr>\n",
       "    <tr>\n",
       "      <th>20209</th>\n",
       "      <td>30-11-2022</td>\n",
       "      <td>Arrival</td>\n",
       "      <td>TR 653</td>\n",
       "      <td>2315</td>\n",
       "      <td>2353</td>\n",
       "      <td>1.0</td>\n",
       "      <td>2</td>\n",
       "      <td>1</td>\n",
       "      <td>1.0</td>\n",
       "    </tr>\n",
       "    <tr>\n",
       "      <th>20210</th>\n",
       "      <td>30-11-2022</td>\n",
       "      <td>Arrival</td>\n",
       "      <td>SQ 713</td>\n",
       "      <td>2330</td>\n",
       "      <td>105</td>\n",
       "      <td>1.0</td>\n",
       "      <td>2</td>\n",
       "      <td>1</td>\n",
       "      <td>1.0</td>\n",
       "    </tr>\n",
       "    <tr>\n",
       "      <th>20212</th>\n",
       "      <td>30-11-2022</td>\n",
       "      <td>Arrival</td>\n",
       "      <td>TR 617</td>\n",
       "      <td>2340</td>\n",
       "      <td>2353</td>\n",
       "      <td>1.0</td>\n",
       "      <td>3</td>\n",
       "      <td>1</td>\n",
       "      <td>1.0</td>\n",
       "    </tr>\n",
       "    <tr>\n",
       "      <th>20218</th>\n",
       "      <td>30-11-2022</td>\n",
       "      <td>Arrival</td>\n",
       "      <td>SQ 897</td>\n",
       "      <td>2355</td>\n",
       "      <td>2338</td>\n",
       "      <td>1.0</td>\n",
       "      <td>1</td>\n",
       "      <td>1</td>\n",
       "      <td>1.0</td>\n",
       "    </tr>\n",
       "  </tbody>\n",
       "</table>\n",
       "</div>"
      ],
      "text/plain": [
       "      Flight Date Orientation  Flight    ST    ET  RLO   RSM  EO   AA\n",
       "20208  30-11-2022     Arrival  SQ 193  2315  2304   1.0    2   1  1.0\n",
       "20209  30-11-2022     Arrival  TR 653  2315  2353   1.0    2   1  1.0\n",
       "20210  30-11-2022     Arrival  SQ 713  2330   105   1.0    2   1  1.0\n",
       "20212  30-11-2022     Arrival  TR 617  2340  2353   1.0    3   1  1.0\n",
       "20218  30-11-2022     Arrival  SQ 897  2355  2338   1.0    1   1  1.0"
      ]
     },
     "execution_count": 165,
     "metadata": {},
     "output_type": "execute_result"
    }
   ],
   "source": [
    "dataStaff.tail()"
   ]
  },
  {
   "cell_type": "code",
   "execution_count": 166,
   "metadata": {},
   "outputs": [
    {
     "data": {
      "text/html": [
       "<div>\n",
       "<style scoped>\n",
       "    .dataframe tbody tr th:only-of-type {\n",
       "        vertical-align: middle;\n",
       "    }\n",
       "\n",
       "    .dataframe tbody tr th {\n",
       "        vertical-align: top;\n",
       "    }\n",
       "\n",
       "    .dataframe thead th {\n",
       "        text-align: right;\n",
       "    }\n",
       "</style>\n",
       "<table border=\"1\" class=\"dataframe\">\n",
       "  <thead>\n",
       "    <tr style=\"text-align: right;\">\n",
       "      <th></th>\n",
       "      <th>Flight Date</th>\n",
       "      <th>Orientation</th>\n",
       "      <th>Flight</th>\n",
       "      <th>ST</th>\n",
       "      <th>ET</th>\n",
       "      <th>RLO</th>\n",
       "      <th>RSM</th>\n",
       "      <th>EO</th>\n",
       "      <th>AA</th>\n",
       "    </tr>\n",
       "  </thead>\n",
       "  <tbody>\n",
       "    <tr>\n",
       "      <th>20208</th>\n",
       "      <td>30-11-2022</td>\n",
       "      <td>Arrival</td>\n",
       "      <td>SQ 193</td>\n",
       "      <td>2315</td>\n",
       "      <td>2304</td>\n",
       "      <td>1.0</td>\n",
       "      <td>2</td>\n",
       "      <td>1</td>\n",
       "      <td>1.0</td>\n",
       "    </tr>\n",
       "    <tr>\n",
       "      <th>20209</th>\n",
       "      <td>30-11-2022</td>\n",
       "      <td>Arrival</td>\n",
       "      <td>TR 653</td>\n",
       "      <td>2315</td>\n",
       "      <td>2353</td>\n",
       "      <td>1.0</td>\n",
       "      <td>2</td>\n",
       "      <td>1</td>\n",
       "      <td>1.0</td>\n",
       "    </tr>\n",
       "    <tr>\n",
       "      <th>20210</th>\n",
       "      <td>30-11-2022</td>\n",
       "      <td>Arrival</td>\n",
       "      <td>SQ 713</td>\n",
       "      <td>2330</td>\n",
       "      <td>0105</td>\n",
       "      <td>1.0</td>\n",
       "      <td>2</td>\n",
       "      <td>1</td>\n",
       "      <td>1.0</td>\n",
       "    </tr>\n",
       "    <tr>\n",
       "      <th>20212</th>\n",
       "      <td>30-11-2022</td>\n",
       "      <td>Arrival</td>\n",
       "      <td>TR 617</td>\n",
       "      <td>2340</td>\n",
       "      <td>2353</td>\n",
       "      <td>1.0</td>\n",
       "      <td>3</td>\n",
       "      <td>1</td>\n",
       "      <td>1.0</td>\n",
       "    </tr>\n",
       "    <tr>\n",
       "      <th>20218</th>\n",
       "      <td>30-11-2022</td>\n",
       "      <td>Arrival</td>\n",
       "      <td>SQ 897</td>\n",
       "      <td>2355</td>\n",
       "      <td>2338</td>\n",
       "      <td>1.0</td>\n",
       "      <td>1</td>\n",
       "      <td>1</td>\n",
       "      <td>1.0</td>\n",
       "    </tr>\n",
       "  </tbody>\n",
       "</table>\n",
       "</div>"
      ],
      "text/plain": [
       "      Flight Date Orientation  Flight    ST    ET  RLO   RSM  EO   AA\n",
       "20208  30-11-2022     Arrival  SQ 193  2315  2304   1.0    2   1  1.0\n",
       "20209  30-11-2022     Arrival  TR 653  2315  2353   1.0    2   1  1.0\n",
       "20210  30-11-2022     Arrival  SQ 713  2330  0105   1.0    2   1  1.0\n",
       "20212  30-11-2022     Arrival  TR 617  2340  2353   1.0    3   1  1.0\n",
       "20218  30-11-2022     Arrival  SQ 897  2355  2338   1.0    1   1  1.0"
      ]
     },
     "execution_count": 166,
     "metadata": {},
     "output_type": "execute_result"
    }
   ],
   "source": [
    "# dataStaff['ET'] = '{:0>4}'.format(dataStaff['ET'])\n",
    "# set ET to string\n",
    "dataStaff['ET']=dataStaff['ET'].astype(str)\n",
    "dataStaff['ET'] = dataStaff['ET'].apply(lambda x: '{:0>4}'.format(x))\n",
    "dataStaff.tail()"
   ]
  },
  {
   "cell_type": "code",
   "execution_count": 159,
   "metadata": {},
   "outputs": [
    {
     "data": {
      "text/html": [
       "<div>\n",
       "<style scoped>\n",
       "    .dataframe tbody tr th:only-of-type {\n",
       "        vertical-align: middle;\n",
       "    }\n",
       "\n",
       "    .dataframe tbody tr th {\n",
       "        vertical-align: top;\n",
       "    }\n",
       "\n",
       "    .dataframe thead th {\n",
       "        text-align: right;\n",
       "    }\n",
       "</style>\n",
       "<table border=\"1\" class=\"dataframe\">\n",
       "  <thead>\n",
       "    <tr style=\"text-align: right;\">\n",
       "      <th></th>\n",
       "      <th>Flight Date</th>\n",
       "      <th>Orientation</th>\n",
       "      <th>Flight</th>\n",
       "      <th>ST</th>\n",
       "      <th>ET</th>\n",
       "      <th>RLO</th>\n",
       "      <th>RSM</th>\n",
       "      <th>EO</th>\n",
       "      <th>AA</th>\n",
       "    </tr>\n",
       "  </thead>\n",
       "  <tbody>\n",
       "    <tr>\n",
       "      <th>20208</th>\n",
       "      <td>30-11-2022</td>\n",
       "      <td>Arrival</td>\n",
       "      <td>SQ 193</td>\n",
       "      <td>2315</td>\n",
       "      <td>2304</td>\n",
       "      <td>1.0</td>\n",
       "      <td>2</td>\n",
       "      <td>1</td>\n",
       "      <td>1.0</td>\n",
       "    </tr>\n",
       "    <tr>\n",
       "      <th>20209</th>\n",
       "      <td>30-11-2022</td>\n",
       "      <td>Arrival</td>\n",
       "      <td>TR 653</td>\n",
       "      <td>2315</td>\n",
       "      <td>2353</td>\n",
       "      <td>1.0</td>\n",
       "      <td>2</td>\n",
       "      <td>1</td>\n",
       "      <td>1.0</td>\n",
       "    </tr>\n",
       "    <tr>\n",
       "      <th>20210</th>\n",
       "      <td>30-11-2022</td>\n",
       "      <td>Arrival</td>\n",
       "      <td>SQ 713</td>\n",
       "      <td>2330</td>\n",
       "      <td>0105</td>\n",
       "      <td>1.0</td>\n",
       "      <td>2</td>\n",
       "      <td>1</td>\n",
       "      <td>1.0</td>\n",
       "    </tr>\n",
       "    <tr>\n",
       "      <th>20212</th>\n",
       "      <td>30-11-2022</td>\n",
       "      <td>Arrival</td>\n",
       "      <td>TR 617</td>\n",
       "      <td>2340</td>\n",
       "      <td>2353</td>\n",
       "      <td>1.0</td>\n",
       "      <td>3</td>\n",
       "      <td>1</td>\n",
       "      <td>1.0</td>\n",
       "    </tr>\n",
       "    <tr>\n",
       "      <th>20218</th>\n",
       "      <td>30-11-2022</td>\n",
       "      <td>Arrival</td>\n",
       "      <td>SQ 897</td>\n",
       "      <td>2355</td>\n",
       "      <td>2338</td>\n",
       "      <td>1.0</td>\n",
       "      <td>1</td>\n",
       "      <td>1</td>\n",
       "      <td>1.0</td>\n",
       "    </tr>\n",
       "  </tbody>\n",
       "</table>\n",
       "</div>"
      ],
      "text/plain": [
       "      Flight Date Orientation  Flight    ST    ET  RLO   RSM  EO   AA\n",
       "20208  30-11-2022     Arrival  SQ 193  2315  2304   1.0    2   1  1.0\n",
       "20209  30-11-2022     Arrival  TR 653  2315  2353   1.0    2   1  1.0\n",
       "20210  30-11-2022     Arrival  SQ 713  2330  0105   1.0    2   1  1.0\n",
       "20212  30-11-2022     Arrival  TR 617  2340  2353   1.0    3   1  1.0\n",
       "20218  30-11-2022     Arrival  SQ 897  2355  2338   1.0    1   1  1.0"
      ]
     },
     "execution_count": 159,
     "metadata": {},
     "output_type": "execute_result"
    }
   ],
   "source": [
    "dataStaff.tail()"
   ]
  },
  {
   "cell_type": "code",
   "execution_count": 151,
   "metadata": {},
   "outputs": [
    {
     "data": {
      "text/plain": [
       "0"
      ]
     },
     "execution_count": 151,
     "metadata": {},
     "output_type": "execute_result"
    }
   ],
   "source": [
    "# any null values?\n",
    "dataStaff['ET'].isnull().sum()"
   ]
  },
  {
   "cell_type": "code",
   "execution_count": 167,
   "metadata": {},
   "outputs": [],
   "source": [
    "# insert : into ET\n",
    "dataStaff['ET'] = dataStaff['ET'].str[:2] + ':' + dataStaff['ET'].str[2:]"
   ]
  },
  {
   "cell_type": "code",
   "execution_count": 169,
   "metadata": {},
   "outputs": [
    {
     "data": {
      "text/html": [
       "<div>\n",
       "<style scoped>\n",
       "    .dataframe tbody tr th:only-of-type {\n",
       "        vertical-align: middle;\n",
       "    }\n",
       "\n",
       "    .dataframe tbody tr th {\n",
       "        vertical-align: top;\n",
       "    }\n",
       "\n",
       "    .dataframe thead th {\n",
       "        text-align: right;\n",
       "    }\n",
       "</style>\n",
       "<table border=\"1\" class=\"dataframe\">\n",
       "  <thead>\n",
       "    <tr style=\"text-align: right;\">\n",
       "      <th></th>\n",
       "      <th>Flight Date</th>\n",
       "      <th>Orientation</th>\n",
       "      <th>Flight</th>\n",
       "      <th>ST</th>\n",
       "      <th>ET</th>\n",
       "      <th>RLO</th>\n",
       "      <th>RSM</th>\n",
       "      <th>EO</th>\n",
       "      <th>AA</th>\n",
       "    </tr>\n",
       "  </thead>\n",
       "  <tbody>\n",
       "    <tr>\n",
       "      <th>20208</th>\n",
       "      <td>30-11-2022</td>\n",
       "      <td>Arrival</td>\n",
       "      <td>SQ 193</td>\n",
       "      <td>2315</td>\n",
       "      <td>23:04</td>\n",
       "      <td>1.0</td>\n",
       "      <td>2</td>\n",
       "      <td>1</td>\n",
       "      <td>1.0</td>\n",
       "    </tr>\n",
       "    <tr>\n",
       "      <th>20209</th>\n",
       "      <td>30-11-2022</td>\n",
       "      <td>Arrival</td>\n",
       "      <td>TR 653</td>\n",
       "      <td>2315</td>\n",
       "      <td>23:53</td>\n",
       "      <td>1.0</td>\n",
       "      <td>2</td>\n",
       "      <td>1</td>\n",
       "      <td>1.0</td>\n",
       "    </tr>\n",
       "    <tr>\n",
       "      <th>20210</th>\n",
       "      <td>30-11-2022</td>\n",
       "      <td>Arrival</td>\n",
       "      <td>SQ 713</td>\n",
       "      <td>2330</td>\n",
       "      <td>01:05</td>\n",
       "      <td>1.0</td>\n",
       "      <td>2</td>\n",
       "      <td>1</td>\n",
       "      <td>1.0</td>\n",
       "    </tr>\n",
       "    <tr>\n",
       "      <th>20212</th>\n",
       "      <td>30-11-2022</td>\n",
       "      <td>Arrival</td>\n",
       "      <td>TR 617</td>\n",
       "      <td>2340</td>\n",
       "      <td>23:53</td>\n",
       "      <td>1.0</td>\n",
       "      <td>3</td>\n",
       "      <td>1</td>\n",
       "      <td>1.0</td>\n",
       "    </tr>\n",
       "    <tr>\n",
       "      <th>20218</th>\n",
       "      <td>30-11-2022</td>\n",
       "      <td>Arrival</td>\n",
       "      <td>SQ 897</td>\n",
       "      <td>2355</td>\n",
       "      <td>23:38</td>\n",
       "      <td>1.0</td>\n",
       "      <td>1</td>\n",
       "      <td>1</td>\n",
       "      <td>1.0</td>\n",
       "    </tr>\n",
       "  </tbody>\n",
       "</table>\n",
       "</div>"
      ],
      "text/plain": [
       "      Flight Date Orientation  Flight    ST     ET  RLO   RSM  EO   AA\n",
       "20208  30-11-2022     Arrival  SQ 193  2315  23:04   1.0    2   1  1.0\n",
       "20209  30-11-2022     Arrival  TR 653  2315  23:53   1.0    2   1  1.0\n",
       "20210  30-11-2022     Arrival  SQ 713  2330  01:05   1.0    2   1  1.0\n",
       "20212  30-11-2022     Arrival  TR 617  2340  23:53   1.0    3   1  1.0\n",
       "20218  30-11-2022     Arrival  SQ 897  2355  23:38   1.0    1   1  1.0"
      ]
     },
     "execution_count": 169,
     "metadata": {},
     "output_type": "execute_result"
    }
   ],
   "source": [
    "dataStaff.tail()"
   ]
  },
  {
   "cell_type": "code",
   "execution_count": 171,
   "metadata": {},
   "outputs": [
    {
     "ename": "ParserError",
     "evalue": "Unknown string format: 00:0n present at position 11",
     "output_type": "error",
     "traceback": [
      "\u001b[1;31m---------------------------------------------------------------------------\u001b[0m",
      "\u001b[1;31mParserError\u001b[0m                               Traceback (most recent call last)",
      "File \u001b[1;32mc:\\Users\\pc\\AppData\\Local\\Programs\\Python\\Python310\\lib\\site-packages\\pandas\\_libs\\tslib.pyx:606\u001b[0m, in \u001b[0;36mpandas._libs.tslib.array_to_datetime\u001b[1;34m()\u001b[0m\n",
      "File \u001b[1;32mc:\\Users\\pc\\AppData\\Local\\Programs\\Python\\Python310\\lib\\site-packages\\pandas\\_libs\\tslibs\\parsing.pyx:321\u001b[0m, in \u001b[0;36mpandas._libs.tslibs.parsing.parse_datetime_string\u001b[1;34m()\u001b[0m\n",
      "File \u001b[1;32mc:\\Users\\pc\\AppData\\Local\\Programs\\Python\\Python310\\lib\\site-packages\\dateutil\\parser\\_parser.py:1368\u001b[0m, in \u001b[0;36mparse\u001b[1;34m(timestr, parserinfo, **kwargs)\u001b[0m\n\u001b[0;32m   1367\u001b[0m \u001b[39melse\u001b[39;00m:\n\u001b[1;32m-> 1368\u001b[0m     \u001b[39mreturn\u001b[39;00m DEFAULTPARSER\u001b[39m.\u001b[39mparse(timestr, \u001b[39m*\u001b[39m\u001b[39m*\u001b[39mkwargs)\n",
      "File \u001b[1;32mc:\\Users\\pc\\AppData\\Local\\Programs\\Python\\Python310\\lib\\site-packages\\dateutil\\parser\\_parser.py:643\u001b[0m, in \u001b[0;36mparser.parse\u001b[1;34m(self, timestr, default, ignoretz, tzinfos, **kwargs)\u001b[0m\n\u001b[0;32m    642\u001b[0m \u001b[39mif\u001b[39;00m res \u001b[39mis\u001b[39;00m \u001b[39mNone\u001b[39;00m:\n\u001b[1;32m--> 643\u001b[0m     \u001b[39mraise\u001b[39;00m ParserError(\u001b[39m\"\u001b[39m\u001b[39mUnknown string format: \u001b[39m\u001b[39m%s\u001b[39;00m\u001b[39m\"\u001b[39m, timestr)\n\u001b[0;32m    645\u001b[0m \u001b[39mif\u001b[39;00m \u001b[39mlen\u001b[39m(res) \u001b[39m==\u001b[39m \u001b[39m0\u001b[39m:\n",
      "\u001b[1;31mParserError\u001b[0m: Unknown string format: 00:0n",
      "\nDuring handling of the above exception, another exception occurred:\n",
      "\u001b[1;31mTypeError\u001b[0m                                 Traceback (most recent call last)",
      "File \u001b[1;32mc:\\Users\\pc\\AppData\\Local\\Programs\\Python\\Python310\\lib\\site-packages\\pandas\\_libs\\tslib.pyx:617\u001b[0m, in \u001b[0;36mpandas._libs.tslib.array_to_datetime\u001b[1;34m()\u001b[0m\n",
      "\u001b[1;31mTypeError\u001b[0m: invalid string coercion to datetime for \"00:0n\" at position 11",
      "\nDuring handling of the above exception, another exception occurred:\n",
      "\u001b[1;31mParserError\u001b[0m                               Traceback (most recent call last)",
      "Cell \u001b[1;32mIn [171], line 2\u001b[0m\n\u001b[0;32m      1\u001b[0m \u001b[39m# convert ET to datetime\u001b[39;00m\n\u001b[1;32m----> 2\u001b[0m dataStaff[\u001b[39m'\u001b[39m\u001b[39mET\u001b[39m\u001b[39m'\u001b[39m] \u001b[39m=\u001b[39m pd\u001b[39m.\u001b[39mto_datetime(dataStaff[\u001b[39m'\u001b[39m\u001b[39mET\u001b[39m\u001b[39m'\u001b[39m])\n",
      "File \u001b[1;32mc:\\Users\\pc\\AppData\\Local\\Programs\\Python\\Python310\\lib\\site-packages\\pandas\\core\\tools\\datetimes.py:1069\u001b[0m, in \u001b[0;36mto_datetime\u001b[1;34m(arg, errors, dayfirst, yearfirst, utc, format, exact, unit, infer_datetime_format, origin, cache)\u001b[0m\n\u001b[0;32m   1067\u001b[0m         result \u001b[39m=\u001b[39m arg\u001b[39m.\u001b[39mmap(cache_array)\n\u001b[0;32m   1068\u001b[0m     \u001b[39melse\u001b[39;00m:\n\u001b[1;32m-> 1069\u001b[0m         values \u001b[39m=\u001b[39m convert_listlike(arg\u001b[39m.\u001b[39;49m_values, \u001b[39mformat\u001b[39;49m)\n\u001b[0;32m   1070\u001b[0m         result \u001b[39m=\u001b[39m arg\u001b[39m.\u001b[39m_constructor(values, index\u001b[39m=\u001b[39marg\u001b[39m.\u001b[39mindex, name\u001b[39m=\u001b[39marg\u001b[39m.\u001b[39mname)\n\u001b[0;32m   1071\u001b[0m \u001b[39melif\u001b[39;00m \u001b[39misinstance\u001b[39m(arg, (ABCDataFrame, abc\u001b[39m.\u001b[39mMutableMapping)):\n",
      "File \u001b[1;32mc:\\Users\\pc\\AppData\\Local\\Programs\\Python\\Python310\\lib\\site-packages\\pandas\\core\\tools\\datetimes.py:439\u001b[0m, in \u001b[0;36m_convert_listlike_datetimes\u001b[1;34m(arg, format, name, tz, unit, errors, infer_datetime_format, dayfirst, yearfirst, exact)\u001b[0m\n\u001b[0;32m    437\u001b[0m \u001b[39massert\u001b[39;00m \u001b[39mformat\u001b[39m \u001b[39mis\u001b[39;00m \u001b[39mNone\u001b[39;00m \u001b[39mor\u001b[39;00m infer_datetime_format\n\u001b[0;32m    438\u001b[0m utc \u001b[39m=\u001b[39m tz \u001b[39m==\u001b[39m \u001b[39m\"\u001b[39m\u001b[39mutc\u001b[39m\u001b[39m\"\u001b[39m\n\u001b[1;32m--> 439\u001b[0m result, tz_parsed \u001b[39m=\u001b[39m objects_to_datetime64ns(\n\u001b[0;32m    440\u001b[0m     arg,\n\u001b[0;32m    441\u001b[0m     dayfirst\u001b[39m=\u001b[39;49mdayfirst,\n\u001b[0;32m    442\u001b[0m     yearfirst\u001b[39m=\u001b[39;49myearfirst,\n\u001b[0;32m    443\u001b[0m     utc\u001b[39m=\u001b[39;49mutc,\n\u001b[0;32m    444\u001b[0m     errors\u001b[39m=\u001b[39;49merrors,\n\u001b[0;32m    445\u001b[0m     require_iso8601\u001b[39m=\u001b[39;49mrequire_iso8601,\n\u001b[0;32m    446\u001b[0m     allow_object\u001b[39m=\u001b[39;49m\u001b[39mTrue\u001b[39;49;00m,\n\u001b[0;32m    447\u001b[0m )\n\u001b[0;32m    449\u001b[0m \u001b[39mif\u001b[39;00m tz_parsed \u001b[39mis\u001b[39;00m \u001b[39mnot\u001b[39;00m \u001b[39mNone\u001b[39;00m:\n\u001b[0;32m    450\u001b[0m     \u001b[39m# We can take a shortcut since the datetime64 numpy array\u001b[39;00m\n\u001b[0;32m    451\u001b[0m     \u001b[39m# is in UTC\u001b[39;00m\n\u001b[0;32m    452\u001b[0m     dta \u001b[39m=\u001b[39m DatetimeArray(result, dtype\u001b[39m=\u001b[39mtz_to_dtype(tz_parsed))\n",
      "File \u001b[1;32mc:\\Users\\pc\\AppData\\Local\\Programs\\Python\\Python310\\lib\\site-packages\\pandas\\core\\arrays\\datetimes.py:2178\u001b[0m, in \u001b[0;36mobjects_to_datetime64ns\u001b[1;34m(data, dayfirst, yearfirst, utc, errors, require_iso8601, allow_object, allow_mixed)\u001b[0m\n\u001b[0;32m   2176\u001b[0m order: Literal[\u001b[39m\"\u001b[39m\u001b[39mF\u001b[39m\u001b[39m\"\u001b[39m, \u001b[39m\"\u001b[39m\u001b[39mC\u001b[39m\u001b[39m\"\u001b[39m] \u001b[39m=\u001b[39m \u001b[39m\"\u001b[39m\u001b[39mF\u001b[39m\u001b[39m\"\u001b[39m \u001b[39mif\u001b[39;00m flags\u001b[39m.\u001b[39mf_contiguous \u001b[39melse\u001b[39;00m \u001b[39m\"\u001b[39m\u001b[39mC\u001b[39m\u001b[39m\"\u001b[39m\n\u001b[0;32m   2177\u001b[0m \u001b[39mtry\u001b[39;00m:\n\u001b[1;32m-> 2178\u001b[0m     result, tz_parsed \u001b[39m=\u001b[39m tslib\u001b[39m.\u001b[39;49marray_to_datetime(\n\u001b[0;32m   2179\u001b[0m         data\u001b[39m.\u001b[39;49mravel(\u001b[39m\"\u001b[39;49m\u001b[39mK\u001b[39;49m\u001b[39m\"\u001b[39;49m),\n\u001b[0;32m   2180\u001b[0m         errors\u001b[39m=\u001b[39;49merrors,\n\u001b[0;32m   2181\u001b[0m         utc\u001b[39m=\u001b[39;49mutc,\n\u001b[0;32m   2182\u001b[0m         dayfirst\u001b[39m=\u001b[39;49mdayfirst,\n\u001b[0;32m   2183\u001b[0m         yearfirst\u001b[39m=\u001b[39;49myearfirst,\n\u001b[0;32m   2184\u001b[0m         require_iso8601\u001b[39m=\u001b[39;49mrequire_iso8601,\n\u001b[0;32m   2185\u001b[0m         allow_mixed\u001b[39m=\u001b[39;49mallow_mixed,\n\u001b[0;32m   2186\u001b[0m     )\n\u001b[0;32m   2187\u001b[0m     result \u001b[39m=\u001b[39m result\u001b[39m.\u001b[39mreshape(data\u001b[39m.\u001b[39mshape, order\u001b[39m=\u001b[39morder)\n\u001b[0;32m   2188\u001b[0m \u001b[39mexcept\u001b[39;00m \u001b[39mOverflowError\u001b[39;00m \u001b[39mas\u001b[39;00m err:\n\u001b[0;32m   2189\u001b[0m     \u001b[39m# Exception is raised when a part of date is greater than 32 bit signed int\u001b[39;00m\n",
      "File \u001b[1;32mc:\\Users\\pc\\AppData\\Local\\Programs\\Python\\Python310\\lib\\site-packages\\pandas\\_libs\\tslib.pyx:428\u001b[0m, in \u001b[0;36mpandas._libs.tslib.array_to_datetime\u001b[1;34m()\u001b[0m\n",
      "File \u001b[1;32mc:\\Users\\pc\\AppData\\Local\\Programs\\Python\\Python310\\lib\\site-packages\\pandas\\_libs\\tslib.pyx:684\u001b[0m, in \u001b[0;36mpandas._libs.tslib.array_to_datetime\u001b[1;34m()\u001b[0m\n",
      "File \u001b[1;32mc:\\Users\\pc\\AppData\\Local\\Programs\\Python\\Python310\\lib\\site-packages\\pandas\\_libs\\tslib.pyx:830\u001b[0m, in \u001b[0;36mpandas._libs.tslib._array_to_datetime_object\u001b[1;34m()\u001b[0m\n",
      "File \u001b[1;32mc:\\Users\\pc\\AppData\\Local\\Programs\\Python\\Python310\\lib\\site-packages\\pandas\\_libs\\tslib.pyx:820\u001b[0m, in \u001b[0;36mpandas._libs.tslib._array_to_datetime_object\u001b[1;34m()\u001b[0m\n",
      "File \u001b[1;32mc:\\Users\\pc\\AppData\\Local\\Programs\\Python\\Python310\\lib\\site-packages\\pandas\\_libs\\tslibs\\parsing.pyx:321\u001b[0m, in \u001b[0;36mpandas._libs.tslibs.parsing.parse_datetime_string\u001b[1;34m()\u001b[0m\n",
      "File \u001b[1;32mc:\\Users\\pc\\AppData\\Local\\Programs\\Python\\Python310\\lib\\site-packages\\dateutil\\parser\\_parser.py:1368\u001b[0m, in \u001b[0;36mparse\u001b[1;34m(timestr, parserinfo, **kwargs)\u001b[0m\n\u001b[0;32m   1366\u001b[0m     \u001b[39mreturn\u001b[39;00m parser(parserinfo)\u001b[39m.\u001b[39mparse(timestr, \u001b[39m*\u001b[39m\u001b[39m*\u001b[39mkwargs)\n\u001b[0;32m   1367\u001b[0m \u001b[39melse\u001b[39;00m:\n\u001b[1;32m-> 1368\u001b[0m     \u001b[39mreturn\u001b[39;00m DEFAULTPARSER\u001b[39m.\u001b[39mparse(timestr, \u001b[39m*\u001b[39m\u001b[39m*\u001b[39mkwargs)\n",
      "File \u001b[1;32mc:\\Users\\pc\\AppData\\Local\\Programs\\Python\\Python310\\lib\\site-packages\\dateutil\\parser\\_parser.py:643\u001b[0m, in \u001b[0;36mparser.parse\u001b[1;34m(self, timestr, default, ignoretz, tzinfos, **kwargs)\u001b[0m\n\u001b[0;32m    640\u001b[0m res, skipped_tokens \u001b[39m=\u001b[39m \u001b[39mself\u001b[39m\u001b[39m.\u001b[39m_parse(timestr, \u001b[39m*\u001b[39m\u001b[39m*\u001b[39mkwargs)\n\u001b[0;32m    642\u001b[0m \u001b[39mif\u001b[39;00m res \u001b[39mis\u001b[39;00m \u001b[39mNone\u001b[39;00m:\n\u001b[1;32m--> 643\u001b[0m     \u001b[39mraise\u001b[39;00m ParserError(\u001b[39m\"\u001b[39m\u001b[39mUnknown string format: \u001b[39m\u001b[39m%s\u001b[39;00m\u001b[39m\"\u001b[39m, timestr)\n\u001b[0;32m    645\u001b[0m \u001b[39mif\u001b[39;00m \u001b[39mlen\u001b[39m(res) \u001b[39m==\u001b[39m \u001b[39m0\u001b[39m:\n\u001b[0;32m    646\u001b[0m     \u001b[39mraise\u001b[39;00m ParserError(\u001b[39m\"\u001b[39m\u001b[39mString does not contain a date: \u001b[39m\u001b[39m%s\u001b[39;00m\u001b[39m\"\u001b[39m, timestr)\n",
      "\u001b[1;31mParserError\u001b[0m: Unknown string format: 00:0n present at position 11"
     ]
    }
   ],
   "source": [
    "# convert ET to datetime\n",
    "dataStaff['ET'] = pd.to_datetime(dataStaff['ET'])"
   ]
  },
  {
   "cell_type": "code",
   "execution_count": 172,
   "metadata": {},
   "outputs": [
    {
     "ename": "error",
     "evalue": "missing ), unterminated subpattern at position 1",
     "output_type": "error",
     "traceback": [
      "\u001b[1;31m---------------------------------------------------------------------------\u001b[0m",
      "\u001b[1;31merror\u001b[0m                                     Traceback (most recent call last)",
      "Cell \u001b[1;32mIn [172], line 9\u001b[0m\n\u001b[0;32m      4\u001b[0m \u001b[39mimport\u001b[39;00m \u001b[39mre\u001b[39;00m\n\u001b[0;32m      6\u001b[0m \u001b[39m# dataStaff = pd.DataFrame({'ET': ['12:30','14:00','00:0n','16:00']})\u001b[39;00m\n\u001b[0;32m      7\u001b[0m \n\u001b[0;32m      8\u001b[0m \u001b[39m# check for invalid values using regular expressions\u001b[39;00m\n\u001b[1;32m----> 9\u001b[0m invalid_mask \u001b[39m=\u001b[39m dataStaff[\u001b[39m'\u001b[39m\u001b[39mET\u001b[39m\u001b[39m'\u001b[39m]\u001b[39m.\u001b[39mapply(\u001b[39mlambda\u001b[39;00m x: \u001b[39mbool\u001b[39m(re\u001b[39m.\u001b[39msearch(\u001b[39mr\u001b[39m\u001b[39m'\u001b[39m\u001b[39m^(?:(?:([01]?\u001b[39m\u001b[39m\\\u001b[39m\u001b[39md|2[0-3]):)?([0-5]?\u001b[39m\u001b[39m\\\u001b[39m\u001b[39md):[0-5]?[0-9]n$\u001b[39m\u001b[39m'\u001b[39m, x)))\n\u001b[0;32m     11\u001b[0m \u001b[39m# check for invalid values\u001b[39;00m\n\u001b[0;32m     12\u001b[0m \u001b[39mprint\u001b[39m(dataStaff[invalid_mask])\n",
      "File \u001b[1;32mc:\\Users\\pc\\AppData\\Local\\Programs\\Python\\Python310\\lib\\site-packages\\pandas\\core\\series.py:4774\u001b[0m, in \u001b[0;36mSeries.apply\u001b[1;34m(self, func, convert_dtype, args, **kwargs)\u001b[0m\n\u001b[0;32m   4664\u001b[0m \u001b[39mdef\u001b[39;00m \u001b[39mapply\u001b[39m(\n\u001b[0;32m   4665\u001b[0m     \u001b[39mself\u001b[39m,\n\u001b[0;32m   4666\u001b[0m     func: AggFuncType,\n\u001b[1;32m   (...)\u001b[0m\n\u001b[0;32m   4669\u001b[0m     \u001b[39m*\u001b[39m\u001b[39m*\u001b[39mkwargs,\n\u001b[0;32m   4670\u001b[0m ) \u001b[39m-\u001b[39m\u001b[39m>\u001b[39m DataFrame \u001b[39m|\u001b[39m Series:\n\u001b[0;32m   4671\u001b[0m     \u001b[39m\"\"\"\u001b[39;00m\n\u001b[0;32m   4672\u001b[0m \u001b[39m    Invoke function on values of Series.\u001b[39;00m\n\u001b[0;32m   4673\u001b[0m \n\u001b[1;32m   (...)\u001b[0m\n\u001b[0;32m   4772\u001b[0m \u001b[39m    dtype: float64\u001b[39;00m\n\u001b[0;32m   4773\u001b[0m \u001b[39m    \"\"\"\u001b[39;00m\n\u001b[1;32m-> 4774\u001b[0m     \u001b[39mreturn\u001b[39;00m SeriesApply(\u001b[39mself\u001b[39;49m, func, convert_dtype, args, kwargs)\u001b[39m.\u001b[39;49mapply()\n",
      "File \u001b[1;32mc:\\Users\\pc\\AppData\\Local\\Programs\\Python\\Python310\\lib\\site-packages\\pandas\\core\\apply.py:1100\u001b[0m, in \u001b[0;36mSeriesApply.apply\u001b[1;34m(self)\u001b[0m\n\u001b[0;32m   1097\u001b[0m     \u001b[39mreturn\u001b[39;00m \u001b[39mself\u001b[39m\u001b[39m.\u001b[39mapply_str()\n\u001b[0;32m   1099\u001b[0m \u001b[39m# self.f is Callable\u001b[39;00m\n\u001b[1;32m-> 1100\u001b[0m \u001b[39mreturn\u001b[39;00m \u001b[39mself\u001b[39;49m\u001b[39m.\u001b[39;49mapply_standard()\n",
      "File \u001b[1;32mc:\\Users\\pc\\AppData\\Local\\Programs\\Python\\Python310\\lib\\site-packages\\pandas\\core\\apply.py:1151\u001b[0m, in \u001b[0;36mSeriesApply.apply_standard\u001b[1;34m(self)\u001b[0m\n\u001b[0;32m   1149\u001b[0m     \u001b[39melse\u001b[39;00m:\n\u001b[0;32m   1150\u001b[0m         values \u001b[39m=\u001b[39m obj\u001b[39m.\u001b[39mastype(\u001b[39mobject\u001b[39m)\u001b[39m.\u001b[39m_values\n\u001b[1;32m-> 1151\u001b[0m         mapped \u001b[39m=\u001b[39m lib\u001b[39m.\u001b[39;49mmap_infer(\n\u001b[0;32m   1152\u001b[0m             values,\n\u001b[0;32m   1153\u001b[0m             f,\n\u001b[0;32m   1154\u001b[0m             convert\u001b[39m=\u001b[39;49m\u001b[39mself\u001b[39;49m\u001b[39m.\u001b[39;49mconvert_dtype,\n\u001b[0;32m   1155\u001b[0m         )\n\u001b[0;32m   1157\u001b[0m \u001b[39mif\u001b[39;00m \u001b[39mlen\u001b[39m(mapped) \u001b[39mand\u001b[39;00m \u001b[39misinstance\u001b[39m(mapped[\u001b[39m0\u001b[39m], ABCSeries):\n\u001b[0;32m   1158\u001b[0m     \u001b[39m# GH#43986 Need to do list(mapped) in order to get treated as nested\u001b[39;00m\n\u001b[0;32m   1159\u001b[0m     \u001b[39m#  See also GH#25959 regarding EA support\u001b[39;00m\n\u001b[0;32m   1160\u001b[0m     \u001b[39mreturn\u001b[39;00m obj\u001b[39m.\u001b[39m_constructor_expanddim(\u001b[39mlist\u001b[39m(mapped), index\u001b[39m=\u001b[39mobj\u001b[39m.\u001b[39mindex)\n",
      "File \u001b[1;32mc:\\Users\\pc\\AppData\\Local\\Programs\\Python\\Python310\\lib\\site-packages\\pandas\\_libs\\lib.pyx:2919\u001b[0m, in \u001b[0;36mpandas._libs.lib.map_infer\u001b[1;34m()\u001b[0m\n",
      "Cell \u001b[1;32mIn [172], line 9\u001b[0m, in \u001b[0;36m<lambda>\u001b[1;34m(x)\u001b[0m\n\u001b[0;32m      4\u001b[0m \u001b[39mimport\u001b[39;00m \u001b[39mre\u001b[39;00m\n\u001b[0;32m      6\u001b[0m \u001b[39m# dataStaff = pd.DataFrame({'ET': ['12:30','14:00','00:0n','16:00']})\u001b[39;00m\n\u001b[0;32m      7\u001b[0m \n\u001b[0;32m      8\u001b[0m \u001b[39m# check for invalid values using regular expressions\u001b[39;00m\n\u001b[1;32m----> 9\u001b[0m invalid_mask \u001b[39m=\u001b[39m dataStaff[\u001b[39m'\u001b[39m\u001b[39mET\u001b[39m\u001b[39m'\u001b[39m]\u001b[39m.\u001b[39mapply(\u001b[39mlambda\u001b[39;00m x: \u001b[39mbool\u001b[39m(re\u001b[39m.\u001b[39;49msearch(\u001b[39mr\u001b[39;49m\u001b[39m'\u001b[39;49m\u001b[39m^(?:(?:([01]?\u001b[39;49m\u001b[39m\\\u001b[39;49m\u001b[39md|2[0-3]):)?([0-5]?\u001b[39;49m\u001b[39m\\\u001b[39;49m\u001b[39md):[0-5]?[0-9]n$\u001b[39;49m\u001b[39m'\u001b[39;49m, x)))\n\u001b[0;32m     11\u001b[0m \u001b[39m# check for invalid values\u001b[39;00m\n\u001b[0;32m     12\u001b[0m \u001b[39mprint\u001b[39m(dataStaff[invalid_mask])\n",
      "File \u001b[1;32mc:\\Users\\pc\\AppData\\Local\\Programs\\Python\\Python310\\lib\\re.py:200\u001b[0m, in \u001b[0;36msearch\u001b[1;34m(pattern, string, flags)\u001b[0m\n\u001b[0;32m    197\u001b[0m \u001b[39mdef\u001b[39;00m \u001b[39msearch\u001b[39m(pattern, string, flags\u001b[39m=\u001b[39m\u001b[39m0\u001b[39m):\n\u001b[0;32m    198\u001b[0m     \u001b[39m\"\"\"Scan through string looking for a match to the pattern, returning\u001b[39;00m\n\u001b[0;32m    199\u001b[0m \u001b[39m    a Match object, or None if no match was found.\"\"\"\u001b[39;00m\n\u001b[1;32m--> 200\u001b[0m     \u001b[39mreturn\u001b[39;00m _compile(pattern, flags)\u001b[39m.\u001b[39msearch(string)\n",
      "File \u001b[1;32mc:\\Users\\pc\\AppData\\Local\\Programs\\Python\\Python310\\lib\\re.py:303\u001b[0m, in \u001b[0;36m_compile\u001b[1;34m(pattern, flags)\u001b[0m\n\u001b[0;32m    301\u001b[0m \u001b[39mif\u001b[39;00m \u001b[39mnot\u001b[39;00m sre_compile\u001b[39m.\u001b[39misstring(pattern):\n\u001b[0;32m    302\u001b[0m     \u001b[39mraise\u001b[39;00m \u001b[39mTypeError\u001b[39;00m(\u001b[39m\"\u001b[39m\u001b[39mfirst argument must be string or compiled pattern\u001b[39m\u001b[39m\"\u001b[39m)\n\u001b[1;32m--> 303\u001b[0m p \u001b[39m=\u001b[39m sre_compile\u001b[39m.\u001b[39;49mcompile(pattern, flags)\n\u001b[0;32m    304\u001b[0m \u001b[39mif\u001b[39;00m \u001b[39mnot\u001b[39;00m (flags \u001b[39m&\u001b[39m DEBUG):\n\u001b[0;32m    305\u001b[0m     \u001b[39mif\u001b[39;00m \u001b[39mlen\u001b[39m(_cache) \u001b[39m>\u001b[39m\u001b[39m=\u001b[39m _MAXCACHE:\n\u001b[0;32m    306\u001b[0m         \u001b[39m# Drop the oldest item\u001b[39;00m\n",
      "File \u001b[1;32mc:\\Users\\pc\\AppData\\Local\\Programs\\Python\\Python310\\lib\\sre_compile.py:788\u001b[0m, in \u001b[0;36mcompile\u001b[1;34m(p, flags)\u001b[0m\n\u001b[0;32m    786\u001b[0m \u001b[39mif\u001b[39;00m isstring(p):\n\u001b[0;32m    787\u001b[0m     pattern \u001b[39m=\u001b[39m p\n\u001b[1;32m--> 788\u001b[0m     p \u001b[39m=\u001b[39m sre_parse\u001b[39m.\u001b[39;49mparse(p, flags)\n\u001b[0;32m    789\u001b[0m \u001b[39melse\u001b[39;00m:\n\u001b[0;32m    790\u001b[0m     pattern \u001b[39m=\u001b[39m \u001b[39mNone\u001b[39;00m\n",
      "File \u001b[1;32mc:\\Users\\pc\\AppData\\Local\\Programs\\Python\\Python310\\lib\\sre_parse.py:955\u001b[0m, in \u001b[0;36mparse\u001b[1;34m(str, flags, state)\u001b[0m\n\u001b[0;32m    952\u001b[0m state\u001b[39m.\u001b[39mstr \u001b[39m=\u001b[39m \u001b[39mstr\u001b[39m\n\u001b[0;32m    954\u001b[0m \u001b[39mtry\u001b[39;00m:\n\u001b[1;32m--> 955\u001b[0m     p \u001b[39m=\u001b[39m _parse_sub(source, state, flags \u001b[39m&\u001b[39;49m SRE_FLAG_VERBOSE, \u001b[39m0\u001b[39;49m)\n\u001b[0;32m    956\u001b[0m \u001b[39mexcept\u001b[39;00m Verbose:\n\u001b[0;32m    957\u001b[0m     \u001b[39m# the VERBOSE flag was switched on inside the pattern.  to be\u001b[39;00m\n\u001b[0;32m    958\u001b[0m     \u001b[39m# on the safe side, we'll parse the whole thing again...\u001b[39;00m\n\u001b[0;32m    959\u001b[0m     state \u001b[39m=\u001b[39m State()\n",
      "File \u001b[1;32mc:\\Users\\pc\\AppData\\Local\\Programs\\Python\\Python310\\lib\\sre_parse.py:444\u001b[0m, in \u001b[0;36m_parse_sub\u001b[1;34m(source, state, verbose, nested)\u001b[0m\n\u001b[0;32m    442\u001b[0m start \u001b[39m=\u001b[39m source\u001b[39m.\u001b[39mtell()\n\u001b[0;32m    443\u001b[0m \u001b[39mwhile\u001b[39;00m \u001b[39mTrue\u001b[39;00m:\n\u001b[1;32m--> 444\u001b[0m     itemsappend(_parse(source, state, verbose, nested \u001b[39m+\u001b[39;49m \u001b[39m1\u001b[39;49m,\n\u001b[0;32m    445\u001b[0m                        \u001b[39mnot\u001b[39;49;00m nested \u001b[39mand\u001b[39;49;00m \u001b[39mnot\u001b[39;49;00m items))\n\u001b[0;32m    446\u001b[0m     \u001b[39mif\u001b[39;00m \u001b[39mnot\u001b[39;00m sourcematch(\u001b[39m\"\u001b[39m\u001b[39m|\u001b[39m\u001b[39m\"\u001b[39m):\n\u001b[0;32m    447\u001b[0m         \u001b[39mbreak\u001b[39;00m\n",
      "File \u001b[1;32mc:\\Users\\pc\\AppData\\Local\\Programs\\Python\\Python310\\lib\\sre_parse.py:843\u001b[0m, in \u001b[0;36m_parse\u001b[1;34m(source, state, verbose, nested, first)\u001b[0m\n\u001b[0;32m    841\u001b[0m p \u001b[39m=\u001b[39m _parse_sub(source, state, sub_verbose, nested \u001b[39m+\u001b[39m \u001b[39m1\u001b[39m)\n\u001b[0;32m    842\u001b[0m \u001b[39mif\u001b[39;00m \u001b[39mnot\u001b[39;00m source\u001b[39m.\u001b[39mmatch(\u001b[39m\"\u001b[39m\u001b[39m)\u001b[39m\u001b[39m\"\u001b[39m):\n\u001b[1;32m--> 843\u001b[0m     \u001b[39mraise\u001b[39;00m source\u001b[39m.\u001b[39merror(\u001b[39m\"\u001b[39m\u001b[39mmissing ), unterminated subpattern\u001b[39m\u001b[39m\"\u001b[39m,\n\u001b[0;32m    844\u001b[0m                        source\u001b[39m.\u001b[39mtell() \u001b[39m-\u001b[39m start)\n\u001b[0;32m    845\u001b[0m \u001b[39mif\u001b[39;00m group \u001b[39mis\u001b[39;00m \u001b[39mnot\u001b[39;00m \u001b[39mNone\u001b[39;00m:\n\u001b[0;32m    846\u001b[0m     state\u001b[39m.\u001b[39mclosegroup(group, p)\n",
      "\u001b[1;31merror\u001b[0m: missing ), unterminated subpattern at position 1"
     ]
    }
   ],
   "source": []
  },
  {
   "cell_type": "code",
   "execution_count": 176,
   "metadata": {},
   "outputs": [
    {
     "name": "stdout",
     "output_type": "stream",
     "text": [
      "Empty DataFrame\n",
      "Columns: [Flight Date, Orientation, Flight, ST, ET, RLO , RSM, EO, AA]\n",
      "Index: []\n"
     ]
    }
   ],
   "source": [
    "# import pandas as pd\n",
    "# import re\n",
    "\n",
    "# # dataStaff = pd.DataFrame({'ET': ['12:30','14:00','00:0n','16:00']})\n",
    "\n",
    "# # check for invalid values using regular expressions\n",
    "# invalid_mask = dataStaff['ET'].apply(lambda x: bool(re.search(r'^(?:(?:([01]?\\d|2[0-3]):)?([0-5]?\\d):[0-5]?[0-9]n$', x)))\n",
    "\n",
    "# # check for invalid values\n",
    "# print(dataStaff[invalid_mask])\n",
    "# Convert columns to datetime data type with 'coerce' error handling\n",
    "dataStaff['ET'] = pd.to_datetime(dataStaff['ET'], format='%H:%M', errors='coerce')\n",
    "\n",
    "# check for NaT values\n",
    "print(dataStaff[pd.isna(dataStaff['ET'])])\n"
   ]
  },
  {
   "cell_type": "code",
   "execution_count": 175,
   "metadata": {},
   "outputs": [],
   "source": [
    "# delete all rows with NaT values in the 'ET' column\n",
    "dataStaff = dataStaff.dropna(subset=['ET'])\n"
   ]
  },
  {
   "cell_type": "code",
   "execution_count": 160,
   "metadata": {},
   "outputs": [],
   "source": [
    "# Convert columns to numeric data type with 'coerce' error handling\n",
    "dataStaff['ET'] = pd.to_numeric(dataStaff['ET'], errors='coerce')\n",
    "\n",
    "# check for NaN values\n",
    "# print(dataStaff[pd.isna(dataStaff['ET'])])"
   ]
  },
  {
   "cell_type": "code",
   "execution_count": 161,
   "metadata": {},
   "outputs": [
    {
     "name": "stdout",
     "output_type": "stream",
     "text": [
      "      Flight Date Orientation  Flight    ST  ET  RLO   RSM  EO   AA\n",
      "30       1/9/2022     Arrival  TR 713   520 NaN   0.0    0   0  0.0\n",
      "461      3/9/2022     Arrival  TR 509   405 NaN   0.0    0   0  0.0\n",
      "462      3/9/2022     Arrival  TR 713   410 NaN   0.0    0   0  0.0\n",
      "1428     7/9/2022     Arrival  SQ 896  1532 NaN   0.0    0   0  0.0\n",
      "1433     7/9/2022     Arrival  SQ 896  1551 NaN   0.0    0   0  0.0\n",
      "1654     8/9/2022     Arrival  TR 809  1630 NaN   0.0    0   0  0.0\n",
      "1884     9/9/2022     Arrival  SQ 333  1730 NaN   0.0    0   0  0.0\n",
      "2047    10/9/2022     Arrival  SQ 192   933 NaN   0.0    0   0  0.0\n",
      "2052    10/9/2022     Arrival  SQ 192   951 NaN   0.0    0   0  0.0\n",
      "2321    11/9/2022     Arrival  SQ 939  1550 NaN   1.0    3   1  2.0\n",
      "3136   15-09-2022     Arrival  SQ 334  1414 NaN   0.0    0   0  0.0\n",
      "3794   18-09-2022     Arrival  SQ 326  1137 NaN   0.0    0   0  0.0\n",
      "4644   22-09-2022     Arrival  SQ 912  1229 NaN   0.0    0   0  0.0\n",
      "6318   30-09-2022     Arrival  TR 848   649 NaN   0.0    0   0  0.0\n",
      "9954   17-10-2022     Arrival  SQ 423   740 NaN   0.0    0   0  0.0\n",
      "10915  21-10-2022     Arrival   SQ 36  1859 NaN   0.0    0   0  0.0\n",
      "10917  21-10-2022     Arrival   SQ 36  1901 NaN   0.0    0   0  0.0\n",
      "12666  29-10-2022     Arrival  SQ 186  1754 NaN   0.0    0   0  0.0\n",
      "12997  31-10-2022     Arrival  SQ 306   555 NaN   0.0    0   0  0.0\n",
      "13866   4/11/2022     Arrival  SQ 402   300 NaN   0.0    0   0  0.0\n",
      "14169   5/11/2022     Arrival  SQ 936   914 NaN   0.0    0   0  0.0\n",
      "14418   6/11/2022     Arrival  SQ 192   951 NaN   0.0    0   0  0.0\n",
      "14477   6/11/2022     Arrival   SQ 21  1715 NaN   NaN    0   0  NaN\n",
      "14730   7/11/2022     Arrival  SQ 186  1851 NaN   0.0    0   0  0.0\n",
      "15252  10/11/2022     Arrival   TR 25   225 NaN   0.0    0   0  0.0\n",
      "17832  20-11-2022     Arrival  SQ 528  2137 NaN   0.0    0   0  0.0\n",
      "18868  25-11-2022     Arrival  SQ 317   750 NaN   0.0    0   0  0.0\n",
      "19414  27-11-2022     Arrival  SQ 184  1424 NaN   0.0    0   0  0.0\n"
     ]
    }
   ],
   "source": [
    "print(dataStaff[pd.isna(dataStaff['ET'])])"
   ]
  },
  {
   "cell_type": "code",
   "execution_count": 143,
   "metadata": {},
   "outputs": [
    {
     "name": "stdout",
     "output_type": "stream",
     "text": [
      "      Flight Date Orientation  Flight    ST  ET  RLO   RSM  EO   AA\n",
      "30       1/9/2022     Arrival  TR 713   520 NaT   0.0    0   0  0.0\n",
      "461      3/9/2022     Arrival  TR 509   405 NaT   0.0    0   0  0.0\n",
      "462      3/9/2022     Arrival  TR 713   410 NaT   0.0    0   0  0.0\n",
      "1428     7/9/2022     Arrival  SQ 896  1532 NaT   0.0    0   0  0.0\n",
      "1433     7/9/2022     Arrival  SQ 896  1551 NaT   0.0    0   0  0.0\n",
      "1654     8/9/2022     Arrival  TR 809  1630 NaT   0.0    0   0  0.0\n",
      "1884     9/9/2022     Arrival  SQ 333  1730 NaT   0.0    0   0  0.0\n",
      "2047    10/9/2022     Arrival  SQ 192   933 NaT   0.0    0   0  0.0\n",
      "2052    10/9/2022     Arrival  SQ 192   951 NaT   0.0    0   0  0.0\n",
      "2321    11/9/2022     Arrival  SQ 939  1550 NaT   1.0    3   1  2.0\n",
      "3136   15-09-2022     Arrival  SQ 334  1414 NaT   0.0    0   0  0.0\n",
      "3794   18-09-2022     Arrival  SQ 326  1137 NaT   0.0    0   0  0.0\n",
      "4644   22-09-2022     Arrival  SQ 912  1229 NaT   0.0    0   0  0.0\n",
      "6318   30-09-2022     Arrival  TR 848   649 NaT   0.0    0   0  0.0\n",
      "9954   17-10-2022     Arrival  SQ 423   740 NaT   0.0    0   0  0.0\n",
      "10915  21-10-2022     Arrival   SQ 36  1859 NaT   0.0    0   0  0.0\n",
      "10917  21-10-2022     Arrival   SQ 36  1901 NaT   0.0    0   0  0.0\n",
      "12666  29-10-2022     Arrival  SQ 186  1754 NaT   0.0    0   0  0.0\n",
      "12997  31-10-2022     Arrival  SQ 306   555 NaT   0.0    0   0  0.0\n",
      "13866   4/11/2022     Arrival  SQ 402   300 NaT   0.0    0   0  0.0\n",
      "14169   5/11/2022     Arrival  SQ 936   914 NaT   0.0    0   0  0.0\n",
      "14418   6/11/2022     Arrival  SQ 192   951 NaT   0.0    0   0  0.0\n",
      "14477   6/11/2022     Arrival   SQ 21  1715 NaT   NaN    0   0  NaN\n",
      "14730   7/11/2022     Arrival  SQ 186  1851 NaT   0.0    0   0  0.0\n",
      "15252  10/11/2022     Arrival   TR 25   225 NaT   0.0    0   0  0.0\n",
      "17832  20-11-2022     Arrival  SQ 528  2137 NaT   0.0    0   0  0.0\n",
      "18868  25-11-2022     Arrival  SQ 317   750 NaT   0.0    0   0  0.0\n",
      "19414  27-11-2022     Arrival  SQ 184  1424 NaT   0.0    0   0  0.0\n"
     ]
    }
   ],
   "source": [
    "# convert ET to datetime by adding : in the middle\n",
    "# dataStaff['ET']=pd.to_datetime(dataStaff['ET'], format='%H%M').dt.strftime('%H:%M')\n",
    "dataStaff['ET'] = pd.to_datetime(dataStaff['ET'].astype(str), format='%H%M', errors='coerce')\n",
    "\n",
    "# check for NaT values\n",
    "print(dataStaff[pd.isna(dataStaff['ET'])])\n",
    "\n",
    "# pd.to_datetime(df['time'], format='%H%M').dt.strftime('%H:%M')\n",
    "# dataStaff['ET']=pd.to_datetime(dataStaff['ET'], format='%H:%M').dt.strftime('%H:%M')"
   ]
  },
  {
   "cell_type": "code",
   "execution_count": 177,
   "metadata": {},
   "outputs": [],
   "source": [
    "dataStaff.columns\n",
    "# fill NAN with 0\n",
    "dataStaff['AA'].fillna(0,inplace=True)\n",
    "dataStaff['RLO '].fillna(0,inplace=True)\n",
    "# data['RLO'].isnull.sum()"
   ]
  },
  {
   "cell_type": "code",
   "execution_count": null,
   "metadata": {},
   "outputs": [],
   "source": []
  },
  {
   "cell_type": "code",
   "execution_count": 178,
   "metadata": {},
   "outputs": [],
   "source": [
    "dataStaff['staff']=dataStaff['RSM']+dataStaff['EO']+dataStaff['AA']+dataStaff['RLO ']"
   ]
  },
  {
   "cell_type": "code",
   "execution_count": 108,
   "metadata": {},
   "outputs": [
    {
     "data": {
      "text/plain": [
       "0"
      ]
     },
     "execution_count": 108,
     "metadata": {},
     "output_type": "execute_result"
    }
   ],
   "source": [
    "\n",
    "dataStaff['staff'].isnull().sum()"
   ]
  },
  {
   "cell_type": "code",
   "execution_count": 109,
   "metadata": {},
   "outputs": [
    {
     "data": {
      "text/html": [
       "<div>\n",
       "<style scoped>\n",
       "    .dataframe tbody tr th:only-of-type {\n",
       "        vertical-align: middle;\n",
       "    }\n",
       "\n",
       "    .dataframe tbody tr th {\n",
       "        vertical-align: top;\n",
       "    }\n",
       "\n",
       "    .dataframe thead th {\n",
       "        text-align: right;\n",
       "    }\n",
       "</style>\n",
       "<table border=\"1\" class=\"dataframe\">\n",
       "  <thead>\n",
       "    <tr style=\"text-align: right;\">\n",
       "      <th></th>\n",
       "      <th>Flight Date</th>\n",
       "      <th>Orientation</th>\n",
       "      <th>Flight</th>\n",
       "      <th>ST</th>\n",
       "      <th>ET</th>\n",
       "      <th>RLO</th>\n",
       "      <th>RSM</th>\n",
       "      <th>EO</th>\n",
       "      <th>AA</th>\n",
       "      <th>staff</th>\n",
       "    </tr>\n",
       "  </thead>\n",
       "  <tbody>\n",
       "  </tbody>\n",
       "</table>\n",
       "</div>"
      ],
      "text/plain": [
       "Empty DataFrame\n",
       "Columns: [Flight Date, Orientation, Flight, ST, ET, RLO , RSM, EO, AA, staff]\n",
       "Index: []"
      ]
     },
     "execution_count": 109,
     "metadata": {},
     "output_type": "execute_result"
    }
   ],
   "source": [
    "# display data where staff is null\n",
    "dataStaff[dataStaff['staff'].isnull()]"
   ]
  },
  {
   "cell_type": "code",
   "execution_count": 110,
   "metadata": {},
   "outputs": [],
   "source": [
    "dataStaff['ET']=dataStaff['ET'].astype('str')"
   ]
  },
  {
   "cell_type": "code",
   "execution_count": 113,
   "metadata": {},
   "outputs": [
    {
     "name": "stderr",
     "output_type": "stream",
     "text": [
      "C:\\Users\\pc\\AppData\\Local\\Temp\\ipykernel_28092\\806292004.py:2: FutureWarning: The default value of regex will change from True to False in a future version.\n",
      "  dataStaff['ET']=dataStaff['ET'].str.replace('.0','')\n"
     ]
    }
   ],
   "source": [
    "# remove the decimal point from the ET column:\n",
    "dataStaff['ET']=dataStaff['ET'].str.replace('.0','')\n",
    "\n",
    "# dataStaff['ET']=dataStaff['ET'].str.strip('.')[0]"
   ]
  },
  {
   "cell_type": "code",
   "execution_count": 117,
   "metadata": {},
   "outputs": [],
   "source": [
    "dataStaff=dataStaff[dataStaff['Orientation']=='Arrival']"
   ]
  },
  {
   "cell_type": "code",
   "execution_count": 179,
   "metadata": {},
   "outputs": [
    {
     "data": {
      "text/html": [
       "<div>\n",
       "<style scoped>\n",
       "    .dataframe tbody tr th:only-of-type {\n",
       "        vertical-align: middle;\n",
       "    }\n",
       "\n",
       "    .dataframe tbody tr th {\n",
       "        vertical-align: top;\n",
       "    }\n",
       "\n",
       "    .dataframe thead th {\n",
       "        text-align: right;\n",
       "    }\n",
       "</style>\n",
       "<table border=\"1\" class=\"dataframe\">\n",
       "  <thead>\n",
       "    <tr style=\"text-align: right;\">\n",
       "      <th></th>\n",
       "      <th>Flight Date</th>\n",
       "      <th>Orientation</th>\n",
       "      <th>Flight</th>\n",
       "      <th>ST</th>\n",
       "      <th>ET</th>\n",
       "      <th>RLO</th>\n",
       "      <th>RSM</th>\n",
       "      <th>EO</th>\n",
       "      <th>AA</th>\n",
       "      <th>staff</th>\n",
       "    </tr>\n",
       "  </thead>\n",
       "  <tbody>\n",
       "    <tr>\n",
       "      <th>2</th>\n",
       "      <td>1/9/2022</td>\n",
       "      <td>Arrival</td>\n",
       "      <td>SQ 208</td>\n",
       "      <td>15</td>\n",
       "      <td>1900-01-01 00:21:00</td>\n",
       "      <td>1.0</td>\n",
       "      <td>4</td>\n",
       "      <td>1</td>\n",
       "      <td>2.0</td>\n",
       "      <td>8.0</td>\n",
       "    </tr>\n",
       "    <tr>\n",
       "      <th>4</th>\n",
       "      <td>1/9/2022</td>\n",
       "      <td>Arrival</td>\n",
       "      <td>SQ 242</td>\n",
       "      <td>20</td>\n",
       "      <td>1900-01-01 00:40:00</td>\n",
       "      <td>1.0</td>\n",
       "      <td>3</td>\n",
       "      <td>1</td>\n",
       "      <td>1.0</td>\n",
       "      <td>6.0</td>\n",
       "    </tr>\n",
       "    <tr>\n",
       "      <th>11</th>\n",
       "      <td>1/9/2022</td>\n",
       "      <td>Arrival</td>\n",
       "      <td>SQ 11</td>\n",
       "      <td>115</td>\n",
       "      <td>1900-01-01 00:38:00</td>\n",
       "      <td>1.0</td>\n",
       "      <td>3</td>\n",
       "      <td>1</td>\n",
       "      <td>2.0</td>\n",
       "      <td>7.0</td>\n",
       "    </tr>\n",
       "    <tr>\n",
       "      <th>22</th>\n",
       "      <td>1/9/2022</td>\n",
       "      <td>Arrival</td>\n",
       "      <td>TR 25</td>\n",
       "      <td>355</td>\n",
       "      <td>1900-01-01 03:55:00</td>\n",
       "      <td>1.0</td>\n",
       "      <td>3</td>\n",
       "      <td>1</td>\n",
       "      <td>1.0</td>\n",
       "      <td>6.0</td>\n",
       "    </tr>\n",
       "    <tr>\n",
       "      <th>23</th>\n",
       "      <td>1/9/2022</td>\n",
       "      <td>Arrival</td>\n",
       "      <td>TR 509</td>\n",
       "      <td>405</td>\n",
       "      <td>1900-01-01 05:10:00</td>\n",
       "      <td>1.0</td>\n",
       "      <td>3</td>\n",
       "      <td>1</td>\n",
       "      <td>2.0</td>\n",
       "      <td>7.0</td>\n",
       "    </tr>\n",
       "  </tbody>\n",
       "</table>\n",
       "</div>"
      ],
      "text/plain": [
       "   Flight Date Orientation  Flight   ST                  ET  RLO   RSM  EO  \\\n",
       "2     1/9/2022     Arrival  SQ 208   15 1900-01-01 00:21:00   1.0    4   1   \n",
       "4     1/9/2022     Arrival  SQ 242   20 1900-01-01 00:40:00   1.0    3   1   \n",
       "11    1/9/2022     Arrival   SQ 11  115 1900-01-01 00:38:00   1.0    3   1   \n",
       "22    1/9/2022     Arrival   TR 25  355 1900-01-01 03:55:00   1.0    3   1   \n",
       "23    1/9/2022     Arrival  TR 509  405 1900-01-01 05:10:00   1.0    3   1   \n",
       "\n",
       "     AA  staff  \n",
       "2   2.0    8.0  \n",
       "4   1.0    6.0  \n",
       "11  2.0    7.0  \n",
       "22  1.0    6.0  \n",
       "23  2.0    7.0  "
      ]
     },
     "execution_count": 179,
     "metadata": {},
     "output_type": "execute_result"
    }
   ],
   "source": [
    "dataStaff.head()"
   ]
  },
  {
   "cell_type": "code",
   "execution_count": 180,
   "metadata": {},
   "outputs": [],
   "source": [
    "# dataStaff ET to hours:minutes\n",
    "dataStaff['ET']=pd.to_datetime(dataStaff['ET'], format='%H:%M').dt.strftime('%H:%M')\n"
   ]
  },
  {
   "cell_type": "code",
   "execution_count": 182,
   "metadata": {},
   "outputs": [
    {
     "data": {
      "text/html": [
       "<div>\n",
       "<style scoped>\n",
       "    .dataframe tbody tr th:only-of-type {\n",
       "        vertical-align: middle;\n",
       "    }\n",
       "\n",
       "    .dataframe tbody tr th {\n",
       "        vertical-align: top;\n",
       "    }\n",
       "\n",
       "    .dataframe thead th {\n",
       "        text-align: right;\n",
       "    }\n",
       "</style>\n",
       "<table border=\"1\" class=\"dataframe\">\n",
       "  <thead>\n",
       "    <tr style=\"text-align: right;\">\n",
       "      <th></th>\n",
       "      <th>Flight Date</th>\n",
       "      <th>Orientation</th>\n",
       "      <th>Flight</th>\n",
       "      <th>ST</th>\n",
       "      <th>ET</th>\n",
       "      <th>RLO</th>\n",
       "      <th>RSM</th>\n",
       "      <th>EO</th>\n",
       "      <th>AA</th>\n",
       "      <th>staff</th>\n",
       "    </tr>\n",
       "  </thead>\n",
       "  <tbody>\n",
       "    <tr>\n",
       "      <th>20208</th>\n",
       "      <td>30-11-2022</td>\n",
       "      <td>Arrival</td>\n",
       "      <td>SQ 193</td>\n",
       "      <td>2315</td>\n",
       "      <td>23:04</td>\n",
       "      <td>1.0</td>\n",
       "      <td>2</td>\n",
       "      <td>1</td>\n",
       "      <td>1.0</td>\n",
       "      <td>5.0</td>\n",
       "    </tr>\n",
       "    <tr>\n",
       "      <th>20209</th>\n",
       "      <td>30-11-2022</td>\n",
       "      <td>Arrival</td>\n",
       "      <td>TR 653</td>\n",
       "      <td>2315</td>\n",
       "      <td>23:53</td>\n",
       "      <td>1.0</td>\n",
       "      <td>2</td>\n",
       "      <td>1</td>\n",
       "      <td>1.0</td>\n",
       "      <td>5.0</td>\n",
       "    </tr>\n",
       "    <tr>\n",
       "      <th>20210</th>\n",
       "      <td>30-11-2022</td>\n",
       "      <td>Arrival</td>\n",
       "      <td>SQ 713</td>\n",
       "      <td>2330</td>\n",
       "      <td>01:05</td>\n",
       "      <td>1.0</td>\n",
       "      <td>2</td>\n",
       "      <td>1</td>\n",
       "      <td>1.0</td>\n",
       "      <td>5.0</td>\n",
       "    </tr>\n",
       "    <tr>\n",
       "      <th>20212</th>\n",
       "      <td>30-11-2022</td>\n",
       "      <td>Arrival</td>\n",
       "      <td>TR 617</td>\n",
       "      <td>2340</td>\n",
       "      <td>23:53</td>\n",
       "      <td>1.0</td>\n",
       "      <td>3</td>\n",
       "      <td>1</td>\n",
       "      <td>1.0</td>\n",
       "      <td>6.0</td>\n",
       "    </tr>\n",
       "    <tr>\n",
       "      <th>20218</th>\n",
       "      <td>30-11-2022</td>\n",
       "      <td>Arrival</td>\n",
       "      <td>SQ 897</td>\n",
       "      <td>2355</td>\n",
       "      <td>23:38</td>\n",
       "      <td>1.0</td>\n",
       "      <td>1</td>\n",
       "      <td>1</td>\n",
       "      <td>1.0</td>\n",
       "      <td>4.0</td>\n",
       "    </tr>\n",
       "  </tbody>\n",
       "</table>\n",
       "</div>"
      ],
      "text/plain": [
       "      Flight Date Orientation  Flight    ST     ET  RLO   RSM  EO   AA  staff\n",
       "20208  30-11-2022     Arrival  SQ 193  2315  23:04   1.0    2   1  1.0    5.0\n",
       "20209  30-11-2022     Arrival  TR 653  2315  23:53   1.0    2   1  1.0    5.0\n",
       "20210  30-11-2022     Arrival  SQ 713  2330  01:05   1.0    2   1  1.0    5.0\n",
       "20212  30-11-2022     Arrival  TR 617  2340  23:53   1.0    3   1  1.0    6.0\n",
       "20218  30-11-2022     Arrival  SQ 897  2355  23:38   1.0    1   1  1.0    4.0"
      ]
     },
     "execution_count": 182,
     "metadata": {},
     "output_type": "execute_result"
    }
   ],
   "source": [
    "dataStaff.tail()"
   ]
  },
  {
   "cell_type": "code",
   "execution_count": 24,
   "metadata": {},
   "outputs": [],
   "source": [
    "# save the data\n",
    "data.to_excel('J:\\\\SATS\\\\CLEAN_SATS_RAM.xlsx')"
   ]
  },
  {
   "cell_type": "code",
   "execution_count": 28,
   "metadata": {},
   "outputs": [
    {
     "data": {
      "text/plain": [
       "staff\n",
       "0.0       69\n",
       "1.0        1\n",
       "2.0       12\n",
       "3.0        9\n",
       "4.0      153\n",
       "5.0     4786\n",
       "6.0     7088\n",
       "7.0     6890\n",
       "8.0     1022\n",
       "9.0      148\n",
       "10.0      28\n",
       "11.0       8\n",
       "12.0       2\n",
       "13.0       1\n",
       "14.0       1\n",
       "19.0       1\n",
       "Name: Flight, dtype: int64"
      ]
     },
     "execution_count": 28,
     "metadata": {},
     "output_type": "execute_result"
    }
   ],
   "source": [
    "#  group and count all the flights by staff\n",
    "data.groupby('staff')['Flight'].count()"
   ]
  },
  {
   "attachments": {},
   "cell_type": "markdown",
   "metadata": {},
   "source": [
    "# Read clean STAT RAM "
   ]
  },
  {
   "cell_type": "code",
   "execution_count": 329,
   "metadata": {},
   "outputs": [],
   "source": [
    "import pandas as pd\n",
    "dataStaff=pd.read_excel('J:\\\\SATS\\\\CLEAN_SATS_RAM.xlsx')"
   ]
  },
  {
   "cell_type": "code",
   "execution_count": 330,
   "metadata": {},
   "outputs": [
    {
     "data": {
      "text/html": [
       "<div>\n",
       "<style scoped>\n",
       "    .dataframe tbody tr th:only-of-type {\n",
       "        vertical-align: middle;\n",
       "    }\n",
       "\n",
       "    .dataframe tbody tr th {\n",
       "        vertical-align: top;\n",
       "    }\n",
       "\n",
       "    .dataframe thead th {\n",
       "        text-align: right;\n",
       "    }\n",
       "</style>\n",
       "<table border=\"1\" class=\"dataframe\">\n",
       "  <thead>\n",
       "    <tr style=\"text-align: right;\">\n",
       "      <th></th>\n",
       "      <th>Unnamed: 0</th>\n",
       "      <th>Flight Date</th>\n",
       "      <th>Orientation</th>\n",
       "      <th>Flight</th>\n",
       "      <th>ST</th>\n",
       "      <th>ET</th>\n",
       "      <th>RLO</th>\n",
       "      <th>RSM</th>\n",
       "      <th>EO</th>\n",
       "      <th>AA</th>\n",
       "      <th>staff</th>\n",
       "    </tr>\n",
       "  </thead>\n",
       "  <tbody>\n",
       "    <tr>\n",
       "      <th>0</th>\n",
       "      <td>0</td>\n",
       "      <td>2022-09-01</td>\n",
       "      <td>Departure</td>\n",
       "      <td>SQ 225</td>\n",
       "      <td>5</td>\n",
       "      <td>21.0</td>\n",
       "      <td>1</td>\n",
       "      <td>3</td>\n",
       "      <td>1</td>\n",
       "      <td>2</td>\n",
       "      <td>7</td>\n",
       "    </tr>\n",
       "    <tr>\n",
       "      <th>1</th>\n",
       "      <td>1</td>\n",
       "      <td>2022-09-01</td>\n",
       "      <td>Departure</td>\n",
       "      <td>SQ 608</td>\n",
       "      <td>10</td>\n",
       "      <td>11.0</td>\n",
       "      <td>1</td>\n",
       "      <td>3</td>\n",
       "      <td>0</td>\n",
       "      <td>2</td>\n",
       "      <td>6</td>\n",
       "    </tr>\n",
       "    <tr>\n",
       "      <th>2</th>\n",
       "      <td>2</td>\n",
       "      <td>2022-09-01</td>\n",
       "      <td>Arrival</td>\n",
       "      <td>SQ 208</td>\n",
       "      <td>15</td>\n",
       "      <td>21.0</td>\n",
       "      <td>1</td>\n",
       "      <td>4</td>\n",
       "      <td>1</td>\n",
       "      <td>2</td>\n",
       "      <td>8</td>\n",
       "    </tr>\n",
       "    <tr>\n",
       "      <th>3</th>\n",
       "      <td>3</td>\n",
       "      <td>2022-09-01</td>\n",
       "      <td>Departure</td>\n",
       "      <td>SQ 336</td>\n",
       "      <td>15</td>\n",
       "      <td>21.0</td>\n",
       "      <td>1</td>\n",
       "      <td>3</td>\n",
       "      <td>1</td>\n",
       "      <td>2</td>\n",
       "      <td>7</td>\n",
       "    </tr>\n",
       "    <tr>\n",
       "      <th>4</th>\n",
       "      <td>4</td>\n",
       "      <td>2022-09-01</td>\n",
       "      <td>Arrival</td>\n",
       "      <td>SQ 242</td>\n",
       "      <td>20</td>\n",
       "      <td>40.0</td>\n",
       "      <td>1</td>\n",
       "      <td>3</td>\n",
       "      <td>1</td>\n",
       "      <td>1</td>\n",
       "      <td>6</td>\n",
       "    </tr>\n",
       "  </tbody>\n",
       "</table>\n",
       "</div>"
      ],
      "text/plain": [
       "   Unnamed: 0 Flight Date Orientation  Flight  ST    ET  RLO   RSM  EO  AA  \\\n",
       "0           0  2022-09-01   Departure  SQ 225   5  21.0     1    3   1   2   \n",
       "1           1  2022-09-01   Departure  SQ 608  10  11.0     1    3   0   2   \n",
       "2           2  2022-09-01     Arrival  SQ 208  15  21.0     1    4   1   2   \n",
       "3           3  2022-09-01   Departure  SQ 336  15  21.0     1    3   1   2   \n",
       "4           4  2022-09-01     Arrival  SQ 242  20  40.0     1    3   1   1   \n",
       "\n",
       "   staff  \n",
       "0      7  \n",
       "1      6  \n",
       "2      8  \n",
       "3      7  \n",
       "4      6  "
      ]
     },
     "execution_count": 330,
     "metadata": {},
     "output_type": "execute_result"
    }
   ],
   "source": [
    "dataStaff.head()"
   ]
  },
  {
   "attachments": {},
   "cell_type": "markdown",
   "metadata": {},
   "source": [
    "dataStaff.head()"
   ]
  },
  {
   "cell_type": "code",
   "execution_count": 246,
   "metadata": {},
   "outputs": [],
   "source": [
    "dataBugagge=pd.read_excel('J:\\\\SATS\\\\Buggage.xlsx')"
   ]
  },
  {
   "cell_type": "code",
   "execution_count": 44,
   "metadata": {},
   "outputs": [],
   "source": [
    "#  remove where Flight No, Flight Date and In-bound Time all three are duplicated all together:\n",
    "# data1.drop_duplicates(subset=['Flight No','Flight Date','In-bound Time'],keep='first',inplace=True)\n"
   ]
  },
  {
   "cell_type": "code",
   "execution_count": 45,
   "metadata": {},
   "outputs": [
    {
     "data": {
      "text/plain": [
       "(8011, 3)"
      ]
     },
     "execution_count": 45,
     "metadata": {},
     "output_type": "execute_result"
    }
   ],
   "source": [
    "# data1.shape"
   ]
  },
  {
   "cell_type": "code",
   "execution_count": 331,
   "metadata": {},
   "outputs": [
    {
     "data": {
      "text/plain": [
       "0    SQ225\n",
       "1    SQ608\n",
       "2    SQ208\n",
       "3    SQ336\n",
       "4    SQ242\n",
       "Name: Flight, dtype: object"
      ]
     },
     "execution_count": 331,
     "metadata": {},
     "output_type": "execute_result"
    }
   ],
   "source": [
    "# remove the space in between the flight number\n",
    "\n",
    "dataStaff['Flight']=dataStaff['Flight'].str.strip()\n",
    "dataStaff['Flight'] = dataStaff['Flight'].str.replace(' ', '')\n",
    "dataStaff['Flight'].head()"
   ]
  },
  {
   "cell_type": "code",
   "execution_count": 332,
   "metadata": {},
   "outputs": [],
   "source": [
    "dataStaff=dataStaff[dataStaff['Orientation']=='Arrival']"
   ]
  },
  {
   "cell_type": "code",
   "execution_count": 301,
   "metadata": {},
   "outputs": [
    {
     "name": "stderr",
     "output_type": "stream",
     "text": [
      "C:\\Users\\pc\\AppData\\Local\\Temp\\ipykernel_28092\\33504595.py:2: SettingWithCopyWarning: \n",
      "A value is trying to be set on a copy of a slice from a DataFrame.\n",
      "Try using .loc[row_indexer,col_indexer] = value instead\n",
      "\n",
      "See the caveats in the documentation: https://pandas.pydata.org/pandas-docs/stable/user_guide/indexing.html#returning-a-view-versus-a-copy\n",
      "  arrivalFlights['Flight Date']=pd.to_datetime(arrivalFlights['Flight Date'])\n"
     ]
    }
   ],
   "source": [
    "# set the date column as pandas date\n",
    "# dataStaff['Flight Date']=pd.to_datetime(dataStaff['Flight Date'])\n",
    "# arrivalFlights['Flight Date']=pd.to_datetime(arrivalFlights['Flight Date'])"
   ]
  },
  {
   "cell_type": "code",
   "execution_count": 303,
   "metadata": {},
   "outputs": [
    {
     "data": {
      "text/plain": [
       "2    2022-09-01\n",
       "4    2022-09-01\n",
       "11   2022-09-01\n",
       "22   2022-09-01\n",
       "23   2022-09-01\n",
       "Name: Flight Date, dtype: datetime64[ns]"
      ]
     },
     "execution_count": 303,
     "metadata": {},
     "output_type": "execute_result"
    }
   ],
   "source": [
    "arrivalFlights['Flight Date'].head()"
   ]
  },
  {
   "attachments": {},
   "cell_type": "markdown",
   "metadata": {},
   "source": [
    "# Data Bugagge "
   ]
  },
  {
   "cell_type": "code",
   "execution_count": 247,
   "metadata": {},
   "outputs": [],
   "source": [
    "# dataBugagge['Flight Date']=pd.to_datetime(dataBugagge['Flight Date'])\n",
    "dataBugagge=pd.read_excel('J:\\\\SATS\\\\Buggage.xlsx')"
   ]
  },
  {
   "cell_type": "code",
   "execution_count": 248,
   "metadata": {},
   "outputs": [
    {
     "data": {
      "text/plain": [
       "0   2022-09-01\n",
       "1   2022-09-01\n",
       "2   2022-09-01\n",
       "3   2022-09-01\n",
       "4   2022-09-01\n",
       "Name: Flight Date, dtype: datetime64[ns]"
      ]
     },
     "execution_count": 248,
     "metadata": {},
     "output_type": "execute_result"
    }
   ],
   "source": [
    "dataBugagge['Flight Date'].head()"
   ]
  },
  {
   "cell_type": "code",
   "execution_count": 249,
   "metadata": {},
   "outputs": [
    {
     "data": {
      "text/plain": [
       "Index(['Flight No', 'Flight Date', 'In-bound Time', 'Trip Number',\n",
       "       'ULD Number', 'Pickup Time', 'Dropoff Time'],\n",
       "      dtype='object')"
      ]
     },
     "execution_count": 249,
     "metadata": {},
     "output_type": "execute_result"
    }
   ],
   "source": [
    "dataBugagge.columns"
   ]
  },
  {
   "cell_type": "code",
   "execution_count": 239,
   "metadata": {},
   "outputs": [
    {
     "data": {
      "text/plain": [
       "Flight No                object\n",
       "Flight Date      datetime64[ns]\n",
       "In-bound Time    datetime64[ns]\n",
       "Trip Number             float64\n",
       "ULD Number               object\n",
       "Pickup Time      datetime64[ns]\n",
       "Dropoff Time     datetime64[ns]\n",
       "dtype: object"
      ]
     },
     "execution_count": 239,
     "metadata": {},
     "output_type": "execute_result"
    }
   ],
   "source": [
    "dataBugagge.dtypes\n"
   ]
  },
  {
   "cell_type": "code",
   "execution_count": 250,
   "metadata": {},
   "outputs": [],
   "source": [
    "# remove empty In-bound Time rows\n",
    "dataBugagge=dataBugagge[dataBugagge['In-bound Time'].notnull()]"
   ]
  },
  {
   "cell_type": "code",
   "execution_count": 251,
   "metadata": {},
   "outputs": [
    {
     "data": {
      "text/plain": [
       "0"
      ]
     },
     "execution_count": 251,
     "metadata": {},
     "output_type": "execute_result"
    }
   ],
   "source": [
    "dataBugagge['In-bound Time'].isnull().sum()"
   ]
  },
  {
   "cell_type": "code",
   "execution_count": 240,
   "metadata": {},
   "outputs": [],
   "source": [
    "# In-bound Time to string\n",
    "dataBugagge['In-bound Time']=dataBugagge['In-bound Time'].astype(str)"
   ]
  },
  {
   "cell_type": "code",
   "execution_count": 241,
   "metadata": {},
   "outputs": [
    {
     "data": {
      "text/plain": [
       "0    2022-09-01 00:21:00\n",
       "1    2022-09-01 00:21:00\n",
       "2    2022-09-01 00:21:00\n",
       "3    2022-09-01 00:21:00\n",
       "4    2022-09-01 00:21:00\n",
       "Name: In-bound Time, dtype: object"
      ]
     },
     "execution_count": 241,
     "metadata": {},
     "output_type": "execute_result"
    }
   ],
   "source": [
    "dataBugagge['In-bound Time'].head()"
   ]
  },
  {
   "cell_type": "code",
   "execution_count": 242,
   "metadata": {},
   "outputs": [],
   "source": [
    "# remove last three characters\n",
    "dataBugagge['In-bound Time']=dataBugagge['In-bound Time'].str[:-3]"
   ]
  },
  {
   "cell_type": "code",
   "execution_count": 210,
   "metadata": {},
   "outputs": [
    {
     "data": {
      "text/html": [
       "<div>\n",
       "<style scoped>\n",
       "    .dataframe tbody tr th:only-of-type {\n",
       "        vertical-align: middle;\n",
       "    }\n",
       "\n",
       "    .dataframe tbody tr th {\n",
       "        vertical-align: top;\n",
       "    }\n",
       "\n",
       "    .dataframe thead th {\n",
       "        text-align: right;\n",
       "    }\n",
       "</style>\n",
       "<table border=\"1\" class=\"dataframe\">\n",
       "  <thead>\n",
       "    <tr style=\"text-align: right;\">\n",
       "      <th></th>\n",
       "      <th>Flight No</th>\n",
       "      <th>Flight Date</th>\n",
       "      <th>In-bound Time</th>\n",
       "      <th>Trip Number</th>\n",
       "      <th>ULD Number</th>\n",
       "      <th>Pickup Time</th>\n",
       "      <th>Dropoff Time</th>\n",
       "    </tr>\n",
       "  </thead>\n",
       "  <tbody>\n",
       "    <tr>\n",
       "      <th>0</th>\n",
       "      <td>SQ208</td>\n",
       "      <td>2022-09-01</td>\n",
       "      <td>2022-09-01 00:21</td>\n",
       "      <td>1.0</td>\n",
       "      <td>AKE89138SQ</td>\n",
       "      <td>2022-09-01 00:33:15.220</td>\n",
       "      <td>2022-09-01 00:37:16.930</td>\n",
       "    </tr>\n",
       "    <tr>\n",
       "      <th>1</th>\n",
       "      <td>SQ208</td>\n",
       "      <td>2022-09-01</td>\n",
       "      <td>2022-09-01 00:21</td>\n",
       "      <td>1.0</td>\n",
       "      <td>AKE29231SQ</td>\n",
       "      <td>2022-09-01 00:33:15.217</td>\n",
       "      <td>2022-09-01 00:37:16.930</td>\n",
       "    </tr>\n",
       "    <tr>\n",
       "      <th>2</th>\n",
       "      <td>﻿SQ208</td>\n",
       "      <td>2022-09-01</td>\n",
       "      <td>2022-09-01 00:21</td>\n",
       "      <td>2.0</td>\n",
       "      <td>AKE28054SQ</td>\n",
       "      <td>2022-09-01 00:33:15.220</td>\n",
       "      <td>2022-09-01 00:37:16.933</td>\n",
       "    </tr>\n",
       "    <tr>\n",
       "      <th>3</th>\n",
       "      <td>SQ208</td>\n",
       "      <td>2022-09-01</td>\n",
       "      <td>2022-09-01 00:21</td>\n",
       "      <td>2.0</td>\n",
       "      <td>AKE87419SQ</td>\n",
       "      <td>2022-09-01 00:33:15.220</td>\n",
       "      <td>2022-09-01 00:37:16.933</td>\n",
       "    </tr>\n",
       "    <tr>\n",
       "      <th>4</th>\n",
       "      <td>SQ208</td>\n",
       "      <td>2022-09-01</td>\n",
       "      <td>2022-09-01 00:21</td>\n",
       "      <td>2.0</td>\n",
       "      <td>AKE80186SQ</td>\n",
       "      <td>2022-09-01 00:33:15.220</td>\n",
       "      <td>2022-09-01 00:37:16.933</td>\n",
       "    </tr>\n",
       "  </tbody>\n",
       "</table>\n",
       "</div>"
      ],
      "text/plain": [
       "  Flight No Flight Date     In-bound Time  Trip Number  ULD Number  \\\n",
       "0     SQ208  2022-09-01  2022-09-01 00:21          1.0  AKE89138SQ   \n",
       "1     SQ208  2022-09-01  2022-09-01 00:21          1.0  AKE29231SQ   \n",
       "2    ﻿SQ208  2022-09-01  2022-09-01 00:21          2.0  AKE28054SQ   \n",
       "3     SQ208  2022-09-01  2022-09-01 00:21          2.0  AKE87419SQ   \n",
       "4     SQ208  2022-09-01  2022-09-01 00:21          2.0  AKE80186SQ   \n",
       "\n",
       "              Pickup Time            Dropoff Time  \n",
       "0 2022-09-01 00:33:15.220 2022-09-01 00:37:16.930  \n",
       "1 2022-09-01 00:33:15.217 2022-09-01 00:37:16.930  \n",
       "2 2022-09-01 00:33:15.220 2022-09-01 00:37:16.933  \n",
       "3 2022-09-01 00:33:15.220 2022-09-01 00:37:16.933  \n",
       "4 2022-09-01 00:33:15.220 2022-09-01 00:37:16.933  "
      ]
     },
     "execution_count": 210,
     "metadata": {},
     "output_type": "execute_result"
    }
   ],
   "source": [
    "dataBugagge.head()"
   ]
  },
  {
   "cell_type": "code",
   "execution_count": 252,
   "metadata": {},
   "outputs": [],
   "source": [
    "# convrt to HH:MM\n",
    "dataBugagge['In-bound Time']=pd.to_datetime(dataBugagge['In-bound Time'], format='%Y-%m-%d %H:%M:%S').dt.strftime('%H:%M')"
   ]
  },
  {
   "cell_type": "code",
   "execution_count": 254,
   "metadata": {},
   "outputs": [
    {
     "data": {
      "text/html": [
       "<div>\n",
       "<style scoped>\n",
       "    .dataframe tbody tr th:only-of-type {\n",
       "        vertical-align: middle;\n",
       "    }\n",
       "\n",
       "    .dataframe tbody tr th {\n",
       "        vertical-align: top;\n",
       "    }\n",
       "\n",
       "    .dataframe thead th {\n",
       "        text-align: right;\n",
       "    }\n",
       "</style>\n",
       "<table border=\"1\" class=\"dataframe\">\n",
       "  <thead>\n",
       "    <tr style=\"text-align: right;\">\n",
       "      <th></th>\n",
       "      <th>Flight No</th>\n",
       "      <th>Flight Date</th>\n",
       "      <th>In-bound Time</th>\n",
       "      <th>Trip Number</th>\n",
       "      <th>ULD Number</th>\n",
       "      <th>Pickup Time</th>\n",
       "      <th>Dropoff Time</th>\n",
       "    </tr>\n",
       "  </thead>\n",
       "  <tbody>\n",
       "    <tr>\n",
       "      <th>73740</th>\n",
       "      <td>SQ739</td>\n",
       "      <td>2022-11-30</td>\n",
       "      <td>00:11</td>\n",
       "      <td>2.0</td>\n",
       "      <td>BT006</td>\n",
       "      <td>NaT</td>\n",
       "      <td>NaT</td>\n",
       "    </tr>\n",
       "    <tr>\n",
       "      <th>73741</th>\n",
       "      <td>SQ739</td>\n",
       "      <td>2022-11-30</td>\n",
       "      <td>00:11</td>\n",
       "      <td>3.0</td>\n",
       "      <td>BT1111</td>\n",
       "      <td>NaT</td>\n",
       "      <td>NaT</td>\n",
       "    </tr>\n",
       "    <tr>\n",
       "      <th>73742</th>\n",
       "      <td>SQ739</td>\n",
       "      <td>2022-11-30</td>\n",
       "      <td>00:11</td>\n",
       "      <td>3.0</td>\n",
       "      <td>BT1422</td>\n",
       "      <td>NaT</td>\n",
       "      <td>NaT</td>\n",
       "    </tr>\n",
       "    <tr>\n",
       "      <th>73743</th>\n",
       "      <td>SQ739</td>\n",
       "      <td>2022-11-30</td>\n",
       "      <td>00:11</td>\n",
       "      <td>3.0</td>\n",
       "      <td>BT075</td>\n",
       "      <td>NaT</td>\n",
       "      <td>NaT</td>\n",
       "    </tr>\n",
       "    <tr>\n",
       "      <th>73744</th>\n",
       "      <td>SQ739</td>\n",
       "      <td>2022-11-30</td>\n",
       "      <td>00:11</td>\n",
       "      <td>3.0</td>\n",
       "      <td>BT879</td>\n",
       "      <td>NaT</td>\n",
       "      <td>NaT</td>\n",
       "    </tr>\n",
       "  </tbody>\n",
       "</table>\n",
       "</div>"
      ],
      "text/plain": [
       "      Flight No Flight Date In-bound Time  Trip Number ULD Number Pickup Time  \\\n",
       "73740     SQ739  2022-11-30         00:11          2.0      BT006         NaT   \n",
       "73741     SQ739  2022-11-30         00:11          3.0     BT1111         NaT   \n",
       "73742     SQ739  2022-11-30         00:11          3.0     BT1422         NaT   \n",
       "73743     SQ739  2022-11-30         00:11          3.0      BT075         NaT   \n",
       "73744     SQ739  2022-11-30         00:11          3.0      BT879         NaT   \n",
       "\n",
       "      Dropoff Time  \n",
       "73740          NaT  \n",
       "73741          NaT  \n",
       "73742          NaT  \n",
       "73743          NaT  \n",
       "73744          NaT  "
      ]
     },
     "execution_count": 254,
     "metadata": {},
     "output_type": "execute_result"
    }
   ],
   "source": [
    "dataBugagge.tail()"
   ]
  },
  {
   "cell_type": "code",
   "execution_count": 243,
   "metadata": {},
   "outputs": [],
   "source": [
    "# remove first two characters\n",
    "# dataBugagge['In-bound Time']=dataBugagge['In-bound Time'].str[11:]"
   ]
  },
  {
   "cell_type": "code",
   "execution_count": null,
   "metadata": {},
   "outputs": [],
   "source": []
  },
  {
   "cell_type": "code",
   "execution_count": 304,
   "metadata": {},
   "outputs": [
    {
     "data": {
      "text/plain": [
       "0     00:21\n",
       "2     00:21\n",
       "12    00:38\n",
       "25    00:40\n",
       "29    03:55\n",
       "Name: In-bound Time, dtype: object"
      ]
     },
     "execution_count": 304,
     "metadata": {},
     "output_type": "execute_result"
    }
   ],
   "source": [
    "dataBugagge['In-bound Time'].head()"
   ]
  },
  {
   "cell_type": "code",
   "execution_count": 245,
   "metadata": {},
   "outputs": [
    {
     "data": {
      "text/plain": [
       "73813    \n",
       "73814    \n",
       "73815    \n",
       "73816    \n",
       "73817    \n",
       "Name: In-bound Time, dtype: object"
      ]
     },
     "execution_count": 245,
     "metadata": {},
     "output_type": "execute_result"
    }
   ],
   "source": [
    "# dataBugagge['In-bound Time'].tail()"
   ]
  },
  {
   "cell_type": "code",
   "execution_count": 215,
   "metadata": {},
   "outputs": [],
   "source": [
    "# convert to HH:MM\n",
    "# drop all null values\n",
    "# dataBugagge.dropna(subset=['In-bound Time'],inplace=True)\n",
    "\n",
    "\n",
    "\n",
    "# dataBugagge['In-bound Time']=pd.to_datetime(dataBugagge['In-bound Time'], format='%H:%M').dt.strftime('%H:%M')"
   ]
  },
  {
   "cell_type": "code",
   "execution_count": 216,
   "metadata": {},
   "outputs": [
    {
     "ename": "ValueError",
     "evalue": "time data '' does not match format '%H:%M' (match)",
     "output_type": "error",
     "traceback": [
      "\u001b[1;31m---------------------------------------------------------------------------\u001b[0m",
      "\u001b[1;31mValueError\u001b[0m                                Traceback (most recent call last)",
      "Cell \u001b[1;32mIn [216], line 1\u001b[0m\n\u001b[1;32m----> 1\u001b[0m dataBugagge[\u001b[39m'\u001b[39m\u001b[39mIn-bound Time\u001b[39m\u001b[39m'\u001b[39m]\u001b[39m=\u001b[39mpd\u001b[39m.\u001b[39mto_datetime(dataBugagge[\u001b[39m'\u001b[39m\u001b[39mIn-bound Time\u001b[39m\u001b[39m'\u001b[39m], \u001b[39mformat\u001b[39m\u001b[39m=\u001b[39m\u001b[39m'\u001b[39m\u001b[39m%\u001b[39m\u001b[39mH:\u001b[39m\u001b[39m%\u001b[39m\u001b[39mM\u001b[39m\u001b[39m'\u001b[39m)\u001b[39m.\u001b[39mdt\u001b[39m.\u001b[39mstrftime(\u001b[39m'\u001b[39m\u001b[39m%\u001b[39m\u001b[39mH:\u001b[39m\u001b[39m%\u001b[39m\u001b[39mM\u001b[39m\u001b[39m'\u001b[39m)\n",
      "File \u001b[1;32mc:\\Users\\pc\\AppData\\Local\\Programs\\Python\\Python310\\lib\\site-packages\\pandas\\core\\tools\\datetimes.py:1065\u001b[0m, in \u001b[0;36mto_datetime\u001b[1;34m(arg, errors, dayfirst, yearfirst, utc, format, exact, unit, infer_datetime_format, origin, cache)\u001b[0m\n\u001b[0;32m   1063\u001b[0m             result \u001b[39m=\u001b[39m arg\u001b[39m.\u001b[39mtz_localize(tz)\n\u001b[0;32m   1064\u001b[0m \u001b[39melif\u001b[39;00m \u001b[39misinstance\u001b[39m(arg, ABCSeries):\n\u001b[1;32m-> 1065\u001b[0m     cache_array \u001b[39m=\u001b[39m _maybe_cache(arg, \u001b[39mformat\u001b[39;49m, cache, convert_listlike)\n\u001b[0;32m   1066\u001b[0m     \u001b[39mif\u001b[39;00m \u001b[39mnot\u001b[39;00m cache_array\u001b[39m.\u001b[39mempty:\n\u001b[0;32m   1067\u001b[0m         result \u001b[39m=\u001b[39m arg\u001b[39m.\u001b[39mmap(cache_array)\n",
      "File \u001b[1;32mc:\\Users\\pc\\AppData\\Local\\Programs\\Python\\Python310\\lib\\site-packages\\pandas\\core\\tools\\datetimes.py:230\u001b[0m, in \u001b[0;36m_maybe_cache\u001b[1;34m(arg, format, cache, convert_listlike)\u001b[0m\n\u001b[0;32m    228\u001b[0m unique_dates \u001b[39m=\u001b[39m unique(arg)\n\u001b[0;32m    229\u001b[0m \u001b[39mif\u001b[39;00m \u001b[39mlen\u001b[39m(unique_dates) \u001b[39m<\u001b[39m \u001b[39mlen\u001b[39m(arg):\n\u001b[1;32m--> 230\u001b[0m     cache_dates \u001b[39m=\u001b[39m convert_listlike(unique_dates, \u001b[39mformat\u001b[39;49m)\n\u001b[0;32m    231\u001b[0m     \u001b[39m# GH#45319\u001b[39;00m\n\u001b[0;32m    232\u001b[0m     \u001b[39mtry\u001b[39;00m:\n",
      "File \u001b[1;32mc:\\Users\\pc\\AppData\\Local\\Programs\\Python\\Python310\\lib\\site-packages\\pandas\\core\\tools\\datetimes.py:431\u001b[0m, in \u001b[0;36m_convert_listlike_datetimes\u001b[1;34m(arg, format, name, tz, unit, errors, infer_datetime_format, dayfirst, yearfirst, exact)\u001b[0m\n\u001b[0;32m    428\u001b[0m         \u001b[39mformat\u001b[39m \u001b[39m=\u001b[39m \u001b[39mNone\u001b[39;00m\n\u001b[0;32m    430\u001b[0m \u001b[39mif\u001b[39;00m \u001b[39mformat\u001b[39m \u001b[39mis\u001b[39;00m \u001b[39mnot\u001b[39;00m \u001b[39mNone\u001b[39;00m:\n\u001b[1;32m--> 431\u001b[0m     res \u001b[39m=\u001b[39m _to_datetime_with_format(\n\u001b[0;32m    432\u001b[0m         arg, orig_arg, name, tz, \u001b[39mformat\u001b[39;49m, exact, errors, infer_datetime_format\n\u001b[0;32m    433\u001b[0m     )\n\u001b[0;32m    434\u001b[0m     \u001b[39mif\u001b[39;00m res \u001b[39mis\u001b[39;00m \u001b[39mnot\u001b[39;00m \u001b[39mNone\u001b[39;00m:\n\u001b[0;32m    435\u001b[0m         \u001b[39mreturn\u001b[39;00m res\n",
      "File \u001b[1;32mc:\\Users\\pc\\AppData\\Local\\Programs\\Python\\Python310\\lib\\site-packages\\pandas\\core\\tools\\datetimes.py:539\u001b[0m, in \u001b[0;36m_to_datetime_with_format\u001b[1;34m(arg, orig_arg, name, tz, fmt, exact, errors, infer_datetime_format)\u001b[0m\n\u001b[0;32m    536\u001b[0m         \u001b[39mreturn\u001b[39;00m _box_as_indexlike(result, utc\u001b[39m=\u001b[39mutc, name\u001b[39m=\u001b[39mname)\n\u001b[0;32m    538\u001b[0m \u001b[39m# fallback\u001b[39;00m\n\u001b[1;32m--> 539\u001b[0m res \u001b[39m=\u001b[39m _array_strptime_with_fallback(\n\u001b[0;32m    540\u001b[0m     arg, name, tz, fmt, exact, errors, infer_datetime_format\n\u001b[0;32m    541\u001b[0m )\n\u001b[0;32m    542\u001b[0m \u001b[39mreturn\u001b[39;00m res\n",
      "File \u001b[1;32mc:\\Users\\pc\\AppData\\Local\\Programs\\Python\\Python310\\lib\\site-packages\\pandas\\core\\tools\\datetimes.py:474\u001b[0m, in \u001b[0;36m_array_strptime_with_fallback\u001b[1;34m(arg, name, tz, fmt, exact, errors, infer_datetime_format)\u001b[0m\n\u001b[0;32m    471\u001b[0m utc \u001b[39m=\u001b[39m tz \u001b[39m==\u001b[39m \u001b[39m\"\u001b[39m\u001b[39mutc\u001b[39m\u001b[39m\"\u001b[39m\n\u001b[0;32m    473\u001b[0m \u001b[39mtry\u001b[39;00m:\n\u001b[1;32m--> 474\u001b[0m     result, timezones \u001b[39m=\u001b[39m array_strptime(arg, fmt, exact\u001b[39m=\u001b[39;49mexact, errors\u001b[39m=\u001b[39;49merrors)\n\u001b[0;32m    475\u001b[0m \u001b[39mexcept\u001b[39;00m OutOfBoundsDatetime:\n\u001b[0;32m    476\u001b[0m     \u001b[39mif\u001b[39;00m errors \u001b[39m==\u001b[39m \u001b[39m\"\u001b[39m\u001b[39mraise\u001b[39m\u001b[39m\"\u001b[39m:\n",
      "File \u001b[1;32mc:\\Users\\pc\\AppData\\Local\\Programs\\Python\\Python310\\lib\\site-packages\\pandas\\_libs\\tslibs\\strptime.pyx:150\u001b[0m, in \u001b[0;36mpandas._libs.tslibs.strptime.array_strptime\u001b[1;34m()\u001b[0m\n",
      "\u001b[1;31mValueError\u001b[0m: time data '' does not match format '%H:%M' (match)"
     ]
    }
   ],
   "source": [
    "# dataBugagge['In-bound Time']=pd.to_datetime(dataBugagge['In-bound Time'], format='%H:%M').dt.strftime('%H:%M')"
   ]
  },
  {
   "cell_type": "code",
   "execution_count": 197,
   "metadata": {},
   "outputs": [],
   "source": [
    "# convrt to HH:MM\n",
    "# dataBugagge['In-bound Time']=pd.to_datetime(dataBugagge['In-bound Time'], format='%Y-%m-%d %H:%M:%S').dt.strftime('%H:%M')"
   ]
  },
  {
   "cell_type": "code",
   "execution_count": 194,
   "metadata": {},
   "outputs": [],
   "source": [
    "# dataBugagge['In-bound Time']=dataBugagge['In-bound Time'].astype(str)"
   ]
  },
  {
   "cell_type": "code",
   "execution_count": 198,
   "metadata": {},
   "outputs": [
    {
     "data": {
      "text/plain": [
       "0    00:21\n",
       "1    00:21\n",
       "2    00:21\n",
       "3    00:21\n",
       "4    00:21\n",
       "Name: In-bound Time, dtype: object"
      ]
     },
     "execution_count": 198,
     "metadata": {},
     "output_type": "execute_result"
    }
   ],
   "source": [
    "# dataBugagge['In-bound Time'].head()"
   ]
  },
  {
   "cell_type": "code",
   "execution_count": 76,
   "metadata": {},
   "outputs": [],
   "source": [
    "# dataBugagge['In-bound Time']=dataBugagge['In-bound Time'].str.split(' ').str[1]"
   ]
  },
  {
   "cell_type": "code",
   "execution_count": 77,
   "metadata": {},
   "outputs": [
    {
     "data": {
      "text/plain": [
       "0    00:21:00\n",
       "1    00:21:00\n",
       "2    00:21:00\n",
       "3    00:21:00\n",
       "4    00:21:00\n",
       "Name: In-bound Time, dtype: object"
      ]
     },
     "execution_count": 77,
     "metadata": {},
     "output_type": "execute_result"
    }
   ],
   "source": [
    "# dataBugagge['In-bound Time'].head()"
   ]
  },
  {
   "cell_type": "code",
   "execution_count": 78,
   "metadata": {},
   "outputs": [],
   "source": [
    "# dataBugagge['In-bound Time']=dataBugagge['In-bound Time'][3:]\n",
    "# remove first 3 characters\n",
    "# dataBugagge['In-bound Time']=dataBugagge['In-bound Time'].str[3:]"
   ]
  },
  {
   "cell_type": "code",
   "execution_count": 305,
   "metadata": {},
   "outputs": [
    {
     "data": {
      "text/html": [
       "<div>\n",
       "<style scoped>\n",
       "    .dataframe tbody tr th:only-of-type {\n",
       "        vertical-align: middle;\n",
       "    }\n",
       "\n",
       "    .dataframe tbody tr th {\n",
       "        vertical-align: top;\n",
       "    }\n",
       "\n",
       "    .dataframe thead th {\n",
       "        text-align: right;\n",
       "    }\n",
       "</style>\n",
       "<table border=\"1\" class=\"dataframe\">\n",
       "  <thead>\n",
       "    <tr style=\"text-align: right;\">\n",
       "      <th></th>\n",
       "      <th>Flight No</th>\n",
       "      <th>Flight Date</th>\n",
       "      <th>In-bound Time</th>\n",
       "      <th>Trip Number</th>\n",
       "      <th>ULD Number</th>\n",
       "      <th>Pickup Time</th>\n",
       "      <th>Dropoff Time</th>\n",
       "    </tr>\n",
       "  </thead>\n",
       "  <tbody>\n",
       "    <tr>\n",
       "      <th>0</th>\n",
       "      <td>SQ208</td>\n",
       "      <td>2022-09-01</td>\n",
       "      <td>00:21</td>\n",
       "      <td>1.0</td>\n",
       "      <td>AKE89138SQ</td>\n",
       "      <td>2022-09-01 00:33:15.220</td>\n",
       "      <td>2022-09-01 00:37:16.930</td>\n",
       "    </tr>\n",
       "    <tr>\n",
       "      <th>2</th>\n",
       "      <td>﻿SQ208</td>\n",
       "      <td>2022-09-01</td>\n",
       "      <td>00:21</td>\n",
       "      <td>2.0</td>\n",
       "      <td>AKE28054SQ</td>\n",
       "      <td>2022-09-01 00:33:15.220</td>\n",
       "      <td>2022-09-01 00:37:16.933</td>\n",
       "    </tr>\n",
       "    <tr>\n",
       "      <th>12</th>\n",
       "      <td>SQ11</td>\n",
       "      <td>2022-09-01</td>\n",
       "      <td>00:38</td>\n",
       "      <td>1.0</td>\n",
       "      <td>AKE70581SQ</td>\n",
       "      <td>NaT</td>\n",
       "      <td>NaT</td>\n",
       "    </tr>\n",
       "    <tr>\n",
       "      <th>25</th>\n",
       "      <td>SQ242</td>\n",
       "      <td>2022-09-01</td>\n",
       "      <td>00:40</td>\n",
       "      <td>1.0</td>\n",
       "      <td>AKE80436SQ</td>\n",
       "      <td>2022-09-01 00:54:23.003</td>\n",
       "      <td>2022-09-01 00:55:44.893</td>\n",
       "    </tr>\n",
       "    <tr>\n",
       "      <th>29</th>\n",
       "      <td>TR25</td>\n",
       "      <td>2022-09-01</td>\n",
       "      <td>03:55</td>\n",
       "      <td>1.0</td>\n",
       "      <td>AKE84300SQ</td>\n",
       "      <td>2022-09-01 04:17:01.517</td>\n",
       "      <td>2022-09-01 04:22:18.260</td>\n",
       "    </tr>\n",
       "  </tbody>\n",
       "</table>\n",
       "</div>"
      ],
      "text/plain": [
       "   Flight No Flight Date In-bound Time  Trip Number  ULD Number  \\\n",
       "0      SQ208  2022-09-01         00:21          1.0  AKE89138SQ   \n",
       "2     ﻿SQ208  2022-09-01         00:21          2.0  AKE28054SQ   \n",
       "12      SQ11  2022-09-01         00:38          1.0  AKE70581SQ   \n",
       "25     SQ242  2022-09-01         00:40          1.0  AKE80436SQ   \n",
       "29      TR25  2022-09-01         03:55          1.0  AKE84300SQ   \n",
       "\n",
       "               Pickup Time            Dropoff Time  \n",
       "0  2022-09-01 00:33:15.220 2022-09-01 00:37:16.930  \n",
       "2  2022-09-01 00:33:15.220 2022-09-01 00:37:16.933  \n",
       "12                     NaT                     NaT  \n",
       "25 2022-09-01 00:54:23.003 2022-09-01 00:55:44.893  \n",
       "29 2022-09-01 04:17:01.517 2022-09-01 04:22:18.260  "
      ]
     },
     "execution_count": 305,
     "metadata": {},
     "output_type": "execute_result"
    }
   ],
   "source": [
    "dataBugagge.head()"
   ]
  },
  {
   "cell_type": "code",
   "execution_count": 81,
   "metadata": {},
   "outputs": [],
   "source": [
    "# dataBugagge['In-bound Time']=dataBugagge['In-bound Time'].str.replace(',',':')\n",
    "# remove all the suplicates Flight No, Flight Date and In-bound Time\n",
    "dataBugagge.drop_duplicates(subset=['Flight No','Flight Date','In-bound Time'],keep='first',inplace=True)"
   ]
  },
  {
   "cell_type": "code",
   "execution_count": 82,
   "metadata": {},
   "outputs": [
    {
     "data": {
      "text/plain": [
       "<bound method NDFrame.head of       Flight No Flight Date In-bound Time  Trip Number  ULD Number  \\\n",
       "0         SQ208  2022-09-01         21:00          1.0  AKE89138SQ   \n",
       "2        ﻿SQ208  2022-09-01         21:00          2.0  AKE28054SQ   \n",
       "12         SQ11  2022-09-01         38:00          1.0  AKE70581SQ   \n",
       "25        SQ242  2022-09-01         40:00          1.0  AKE80436SQ   \n",
       "29         TR25  2022-09-01         55:00          1.0  AKE84300SQ   \n",
       "...         ...         ...           ...          ...         ...   \n",
       "73763     SQ105  2022-10-12           NaN          1.0  AKE84181SQ   \n",
       "73764     SQ224  2022-10-13           NaN          1.0  AKE86114SQ   \n",
       "73767     TR391  2022-10-13           NaN          1.0  AKE11841TR   \n",
       "73768     SQ157  2022-10-13           NaN          1.0      BTBULK   \n",
       "73817   _x001A_         NaT           NaN          NaN         NaN   \n",
       "\n",
       "                  Pickup Time            Dropoff Time  \n",
       "0     2022-09-01 00:33:15.220 2022-09-01 00:37:16.930  \n",
       "2     2022-09-01 00:33:15.220 2022-09-01 00:37:16.933  \n",
       "12                        NaT                     NaT  \n",
       "25    2022-09-01 00:54:23.003 2022-09-01 00:55:44.893  \n",
       "29    2022-09-01 04:17:01.517 2022-09-01 04:22:18.260  \n",
       "...                       ...                     ...  \n",
       "73763 2022-10-12 12:12:09.163 2022-10-12 12:13:25.653  \n",
       "73764 2022-10-13 11:59:19.587                     NaT  \n",
       "73767 2022-10-13 23:37:47.297 2022-10-13 23:37:58.297  \n",
       "73768                     NaT                     NaT  \n",
       "73817                     NaT                     NaT  \n",
       "\n",
       "[8011 rows x 7 columns]>"
      ]
     },
     "execution_count": 82,
     "metadata": {},
     "output_type": "execute_result"
    }
   ],
   "source": [
    "dataBugagge.head"
   ]
  },
  {
   "cell_type": "code",
   "execution_count": 89,
   "metadata": {},
   "outputs": [
    {
     "data": {
      "text/html": [
       "<div>\n",
       "<style scoped>\n",
       "    .dataframe tbody tr th:only-of-type {\n",
       "        vertical-align: middle;\n",
       "    }\n",
       "\n",
       "    .dataframe tbody tr th {\n",
       "        vertical-align: top;\n",
       "    }\n",
       "\n",
       "    .dataframe thead th {\n",
       "        text-align: right;\n",
       "    }\n",
       "</style>\n",
       "<table border=\"1\" class=\"dataframe\">\n",
       "  <thead>\n",
       "    <tr style=\"text-align: right;\">\n",
       "      <th></th>\n",
       "      <th>Unnamed: 0</th>\n",
       "      <th>Flight Date</th>\n",
       "      <th>Orientation</th>\n",
       "      <th>Flight</th>\n",
       "      <th>ST</th>\n",
       "      <th>ET</th>\n",
       "      <th>RLO</th>\n",
       "      <th>RSM</th>\n",
       "      <th>EO</th>\n",
       "      <th>AA</th>\n",
       "      <th>staff</th>\n",
       "    </tr>\n",
       "  </thead>\n",
       "  <tbody>\n",
       "    <tr>\n",
       "      <th>2</th>\n",
       "      <td>2</td>\n",
       "      <td>2022-09-01</td>\n",
       "      <td>Arrival</td>\n",
       "      <td>SQ208</td>\n",
       "      <td>15</td>\n",
       "      <td>21.0</td>\n",
       "      <td>1</td>\n",
       "      <td>4</td>\n",
       "      <td>1</td>\n",
       "      <td>2</td>\n",
       "      <td>8</td>\n",
       "    </tr>\n",
       "    <tr>\n",
       "      <th>4</th>\n",
       "      <td>4</td>\n",
       "      <td>2022-09-01</td>\n",
       "      <td>Arrival</td>\n",
       "      <td>SQ242</td>\n",
       "      <td>20</td>\n",
       "      <td>40.0</td>\n",
       "      <td>1</td>\n",
       "      <td>3</td>\n",
       "      <td>1</td>\n",
       "      <td>1</td>\n",
       "      <td>6</td>\n",
       "    </tr>\n",
       "    <tr>\n",
       "      <th>11</th>\n",
       "      <td>11</td>\n",
       "      <td>2022-09-01</td>\n",
       "      <td>Arrival</td>\n",
       "      <td>SQ11</td>\n",
       "      <td>115</td>\n",
       "      <td>38.0</td>\n",
       "      <td>1</td>\n",
       "      <td>3</td>\n",
       "      <td>1</td>\n",
       "      <td>2</td>\n",
       "      <td>7</td>\n",
       "    </tr>\n",
       "    <tr>\n",
       "      <th>22</th>\n",
       "      <td>22</td>\n",
       "      <td>2022-09-01</td>\n",
       "      <td>Arrival</td>\n",
       "      <td>TR25</td>\n",
       "      <td>355</td>\n",
       "      <td>355.0</td>\n",
       "      <td>1</td>\n",
       "      <td>3</td>\n",
       "      <td>1</td>\n",
       "      <td>1</td>\n",
       "      <td>6</td>\n",
       "    </tr>\n",
       "    <tr>\n",
       "      <th>23</th>\n",
       "      <td>23</td>\n",
       "      <td>2022-09-01</td>\n",
       "      <td>Arrival</td>\n",
       "      <td>TR509</td>\n",
       "      <td>405</td>\n",
       "      <td>510.0</td>\n",
       "      <td>1</td>\n",
       "      <td>3</td>\n",
       "      <td>1</td>\n",
       "      <td>2</td>\n",
       "      <td>7</td>\n",
       "    </tr>\n",
       "  </tbody>\n",
       "</table>\n",
       "</div>"
      ],
      "text/plain": [
       "    Unnamed: 0 Flight Date Orientation Flight   ST     ET  RLO   RSM  EO  AA  \\\n",
       "2            2  2022-09-01     Arrival  SQ208   15   21.0     1    4   1   2   \n",
       "4            4  2022-09-01     Arrival  SQ242   20   40.0     1    3   1   1   \n",
       "11          11  2022-09-01     Arrival   SQ11  115   38.0     1    3   1   2   \n",
       "22          22  2022-09-01     Arrival   TR25  355  355.0     1    3   1   1   \n",
       "23          23  2022-09-01     Arrival  TR509  405  510.0     1    3   1   2   \n",
       "\n",
       "    staff  \n",
       "2       8  \n",
       "4       6  \n",
       "11      7  \n",
       "22      6  \n",
       "23      7  "
      ]
     },
     "execution_count": 89,
     "metadata": {},
     "output_type": "execute_result"
    }
   ],
   "source": [
    "arrivalFlights.head()"
   ]
  },
  {
   "cell_type": "code",
   "execution_count": 333,
   "metadata": {},
   "outputs": [
    {
     "data": {
      "text/html": [
       "<div>\n",
       "<style scoped>\n",
       "    .dataframe tbody tr th:only-of-type {\n",
       "        vertical-align: middle;\n",
       "    }\n",
       "\n",
       "    .dataframe tbody tr th {\n",
       "        vertical-align: top;\n",
       "    }\n",
       "\n",
       "    .dataframe thead th {\n",
       "        text-align: right;\n",
       "    }\n",
       "</style>\n",
       "<table border=\"1\" class=\"dataframe\">\n",
       "  <thead>\n",
       "    <tr style=\"text-align: right;\">\n",
       "      <th></th>\n",
       "      <th>Unnamed: 0</th>\n",
       "      <th>Flight Date</th>\n",
       "      <th>Orientation</th>\n",
       "      <th>Flight</th>\n",
       "      <th>ST</th>\n",
       "      <th>ET</th>\n",
       "      <th>RLO</th>\n",
       "      <th>RSM</th>\n",
       "      <th>EO</th>\n",
       "      <th>AA</th>\n",
       "      <th>staff</th>\n",
       "    </tr>\n",
       "  </thead>\n",
       "  <tbody>\n",
       "    <tr>\n",
       "      <th>2</th>\n",
       "      <td>2</td>\n",
       "      <td>2022-09-01</td>\n",
       "      <td>Arrival</td>\n",
       "      <td>SQ208</td>\n",
       "      <td>15</td>\n",
       "      <td>21.0</td>\n",
       "      <td>1</td>\n",
       "      <td>4</td>\n",
       "      <td>1</td>\n",
       "      <td>2</td>\n",
       "      <td>8</td>\n",
       "    </tr>\n",
       "    <tr>\n",
       "      <th>4</th>\n",
       "      <td>4</td>\n",
       "      <td>2022-09-01</td>\n",
       "      <td>Arrival</td>\n",
       "      <td>SQ242</td>\n",
       "      <td>20</td>\n",
       "      <td>40.0</td>\n",
       "      <td>1</td>\n",
       "      <td>3</td>\n",
       "      <td>1</td>\n",
       "      <td>1</td>\n",
       "      <td>6</td>\n",
       "    </tr>\n",
       "    <tr>\n",
       "      <th>11</th>\n",
       "      <td>11</td>\n",
       "      <td>2022-09-01</td>\n",
       "      <td>Arrival</td>\n",
       "      <td>SQ11</td>\n",
       "      <td>115</td>\n",
       "      <td>38.0</td>\n",
       "      <td>1</td>\n",
       "      <td>3</td>\n",
       "      <td>1</td>\n",
       "      <td>2</td>\n",
       "      <td>7</td>\n",
       "    </tr>\n",
       "    <tr>\n",
       "      <th>22</th>\n",
       "      <td>22</td>\n",
       "      <td>2022-09-01</td>\n",
       "      <td>Arrival</td>\n",
       "      <td>TR25</td>\n",
       "      <td>355</td>\n",
       "      <td>355.0</td>\n",
       "      <td>1</td>\n",
       "      <td>3</td>\n",
       "      <td>1</td>\n",
       "      <td>1</td>\n",
       "      <td>6</td>\n",
       "    </tr>\n",
       "    <tr>\n",
       "      <th>23</th>\n",
       "      <td>23</td>\n",
       "      <td>2022-09-01</td>\n",
       "      <td>Arrival</td>\n",
       "      <td>TR509</td>\n",
       "      <td>405</td>\n",
       "      <td>510.0</td>\n",
       "      <td>1</td>\n",
       "      <td>3</td>\n",
       "      <td>1</td>\n",
       "      <td>2</td>\n",
       "      <td>7</td>\n",
       "    </tr>\n",
       "  </tbody>\n",
       "</table>\n",
       "</div>"
      ],
      "text/plain": [
       "    Unnamed: 0 Flight Date Orientation Flight   ST     ET  RLO   RSM  EO  AA  \\\n",
       "2            2  2022-09-01     Arrival  SQ208   15   21.0     1    4   1   2   \n",
       "4            4  2022-09-01     Arrival  SQ242   20   40.0     1    3   1   1   \n",
       "11          11  2022-09-01     Arrival   SQ11  115   38.0     1    3   1   2   \n",
       "22          22  2022-09-01     Arrival   TR25  355  355.0     1    3   1   1   \n",
       "23          23  2022-09-01     Arrival  TR509  405  510.0     1    3   1   2   \n",
       "\n",
       "    staff  \n",
       "2       8  \n",
       "4       6  \n",
       "11      7  \n",
       "22      6  \n",
       "23      7  "
      ]
     },
     "execution_count": 333,
     "metadata": {},
     "output_type": "execute_result"
    }
   ],
   "source": [
    "dataStaff.head()"
   ]
  },
  {
   "cell_type": "code",
   "execution_count": 307,
   "metadata": {},
   "outputs": [
    {
     "data": {
      "text/html": [
       "<div>\n",
       "<style scoped>\n",
       "    .dataframe tbody tr th:only-of-type {\n",
       "        vertical-align: middle;\n",
       "    }\n",
       "\n",
       "    .dataframe tbody tr th {\n",
       "        vertical-align: top;\n",
       "    }\n",
       "\n",
       "    .dataframe thead th {\n",
       "        text-align: right;\n",
       "    }\n",
       "</style>\n",
       "<table border=\"1\" class=\"dataframe\">\n",
       "  <thead>\n",
       "    <tr style=\"text-align: right;\">\n",
       "      <th></th>\n",
       "      <th>Flight No</th>\n",
       "      <th>Flight Date</th>\n",
       "      <th>In-bound Time</th>\n",
       "      <th>Trip Number</th>\n",
       "      <th>ULD Number</th>\n",
       "      <th>Pickup Time</th>\n",
       "      <th>Dropoff Time</th>\n",
       "    </tr>\n",
       "  </thead>\n",
       "  <tbody>\n",
       "    <tr>\n",
       "      <th>0</th>\n",
       "      <td>SQ208</td>\n",
       "      <td>2022-09-01</td>\n",
       "      <td>00:21</td>\n",
       "      <td>1.0</td>\n",
       "      <td>AKE89138SQ</td>\n",
       "      <td>2022-09-01 00:33:15.220</td>\n",
       "      <td>2022-09-01 00:37:16.930</td>\n",
       "    </tr>\n",
       "    <tr>\n",
       "      <th>2</th>\n",
       "      <td>﻿SQ208</td>\n",
       "      <td>2022-09-01</td>\n",
       "      <td>00:21</td>\n",
       "      <td>2.0</td>\n",
       "      <td>AKE28054SQ</td>\n",
       "      <td>2022-09-01 00:33:15.220</td>\n",
       "      <td>2022-09-01 00:37:16.933</td>\n",
       "    </tr>\n",
       "    <tr>\n",
       "      <th>12</th>\n",
       "      <td>SQ11</td>\n",
       "      <td>2022-09-01</td>\n",
       "      <td>00:38</td>\n",
       "      <td>1.0</td>\n",
       "      <td>AKE70581SQ</td>\n",
       "      <td>NaT</td>\n",
       "      <td>NaT</td>\n",
       "    </tr>\n",
       "    <tr>\n",
       "      <th>25</th>\n",
       "      <td>SQ242</td>\n",
       "      <td>2022-09-01</td>\n",
       "      <td>00:40</td>\n",
       "      <td>1.0</td>\n",
       "      <td>AKE80436SQ</td>\n",
       "      <td>2022-09-01 00:54:23.003</td>\n",
       "      <td>2022-09-01 00:55:44.893</td>\n",
       "    </tr>\n",
       "    <tr>\n",
       "      <th>29</th>\n",
       "      <td>TR25</td>\n",
       "      <td>2022-09-01</td>\n",
       "      <td>03:55</td>\n",
       "      <td>1.0</td>\n",
       "      <td>AKE84300SQ</td>\n",
       "      <td>2022-09-01 04:17:01.517</td>\n",
       "      <td>2022-09-01 04:22:18.260</td>\n",
       "    </tr>\n",
       "  </tbody>\n",
       "</table>\n",
       "</div>"
      ],
      "text/plain": [
       "   Flight No Flight Date In-bound Time  Trip Number  ULD Number  \\\n",
       "0      SQ208  2022-09-01         00:21          1.0  AKE89138SQ   \n",
       "2     ﻿SQ208  2022-09-01         00:21          2.0  AKE28054SQ   \n",
       "12      SQ11  2022-09-01         00:38          1.0  AKE70581SQ   \n",
       "25     SQ242  2022-09-01         00:40          1.0  AKE80436SQ   \n",
       "29      TR25  2022-09-01         03:55          1.0  AKE84300SQ   \n",
       "\n",
       "               Pickup Time            Dropoff Time  \n",
       "0  2022-09-01 00:33:15.220 2022-09-01 00:37:16.930  \n",
       "2  2022-09-01 00:33:15.220 2022-09-01 00:37:16.933  \n",
       "12                     NaT                     NaT  \n",
       "25 2022-09-01 00:54:23.003 2022-09-01 00:55:44.893  \n",
       "29 2022-09-01 04:17:01.517 2022-09-01 04:22:18.260  "
      ]
     },
     "execution_count": 307,
     "metadata": {},
     "output_type": "execute_result"
    }
   ],
   "source": [
    "dataBugagge.head()"
   ]
  },
  {
   "cell_type": "code",
   "execution_count": 186,
   "metadata": {},
   "outputs": [
    {
     "data": {
      "text/plain": [
       "Flight No                object\n",
       "Flight Date      datetime64[ns]\n",
       "In-bound Time            object\n",
       "Trip Number             float64\n",
       "ULD Number               object\n",
       "Pickup Time      datetime64[ns]\n",
       "Dropoff Time     datetime64[ns]\n",
       "dtype: object"
      ]
     },
     "execution_count": 186,
     "metadata": {},
     "output_type": "execute_result"
    }
   ],
   "source": [
    "dataBugagge.dtypes"
   ]
  },
  {
   "cell_type": "code",
   "execution_count": 187,
   "metadata": {},
   "outputs": [
    {
     "ename": "ValueError",
     "evalue": "time data '38:00' does not match format '%H:%M' (match)",
     "output_type": "error",
     "traceback": [
      "\u001b[1;31m---------------------------------------------------------------------------\u001b[0m",
      "\u001b[1;31mValueError\u001b[0m                                Traceback (most recent call last)",
      "Cell \u001b[1;32mIn [187], line 2\u001b[0m\n\u001b[0;32m      1\u001b[0m \u001b[39m# convert In-bound Time to :HH:MM\u001b[39;00m\n\u001b[1;32m----> 2\u001b[0m dataBugagge[\u001b[39m'\u001b[39m\u001b[39mIn-bound Time\u001b[39m\u001b[39m'\u001b[39m]\u001b[39m=\u001b[39mpd\u001b[39m.\u001b[39mto_datetime(dataBugagge[\u001b[39m'\u001b[39m\u001b[39mIn-bound Time\u001b[39m\u001b[39m'\u001b[39m], \u001b[39mformat\u001b[39m\u001b[39m=\u001b[39m\u001b[39m'\u001b[39m\u001b[39m%\u001b[39m\u001b[39mH:\u001b[39m\u001b[39m%\u001b[39m\u001b[39mM\u001b[39m\u001b[39m'\u001b[39m)\u001b[39m.\u001b[39mdt\u001b[39m.\u001b[39mstrftime(\u001b[39m'\u001b[39m\u001b[39m%\u001b[39m\u001b[39mH:\u001b[39m\u001b[39m%\u001b[39m\u001b[39mM\u001b[39m\u001b[39m'\u001b[39m)\n",
      "File \u001b[1;32mc:\\Users\\pc\\AppData\\Local\\Programs\\Python\\Python310\\lib\\site-packages\\pandas\\core\\tools\\datetimes.py:1065\u001b[0m, in \u001b[0;36mto_datetime\u001b[1;34m(arg, errors, dayfirst, yearfirst, utc, format, exact, unit, infer_datetime_format, origin, cache)\u001b[0m\n\u001b[0;32m   1063\u001b[0m             result \u001b[39m=\u001b[39m arg\u001b[39m.\u001b[39mtz_localize(tz)\n\u001b[0;32m   1064\u001b[0m \u001b[39melif\u001b[39;00m \u001b[39misinstance\u001b[39m(arg, ABCSeries):\n\u001b[1;32m-> 1065\u001b[0m     cache_array \u001b[39m=\u001b[39m _maybe_cache(arg, \u001b[39mformat\u001b[39;49m, cache, convert_listlike)\n\u001b[0;32m   1066\u001b[0m     \u001b[39mif\u001b[39;00m \u001b[39mnot\u001b[39;00m cache_array\u001b[39m.\u001b[39mempty:\n\u001b[0;32m   1067\u001b[0m         result \u001b[39m=\u001b[39m arg\u001b[39m.\u001b[39mmap(cache_array)\n",
      "File \u001b[1;32mc:\\Users\\pc\\AppData\\Local\\Programs\\Python\\Python310\\lib\\site-packages\\pandas\\core\\tools\\datetimes.py:230\u001b[0m, in \u001b[0;36m_maybe_cache\u001b[1;34m(arg, format, cache, convert_listlike)\u001b[0m\n\u001b[0;32m    228\u001b[0m unique_dates \u001b[39m=\u001b[39m unique(arg)\n\u001b[0;32m    229\u001b[0m \u001b[39mif\u001b[39;00m \u001b[39mlen\u001b[39m(unique_dates) \u001b[39m<\u001b[39m \u001b[39mlen\u001b[39m(arg):\n\u001b[1;32m--> 230\u001b[0m     cache_dates \u001b[39m=\u001b[39m convert_listlike(unique_dates, \u001b[39mformat\u001b[39;49m)\n\u001b[0;32m    231\u001b[0m     \u001b[39m# GH#45319\u001b[39;00m\n\u001b[0;32m    232\u001b[0m     \u001b[39mtry\u001b[39;00m:\n",
      "File \u001b[1;32mc:\\Users\\pc\\AppData\\Local\\Programs\\Python\\Python310\\lib\\site-packages\\pandas\\core\\tools\\datetimes.py:431\u001b[0m, in \u001b[0;36m_convert_listlike_datetimes\u001b[1;34m(arg, format, name, tz, unit, errors, infer_datetime_format, dayfirst, yearfirst, exact)\u001b[0m\n\u001b[0;32m    428\u001b[0m         \u001b[39mformat\u001b[39m \u001b[39m=\u001b[39m \u001b[39mNone\u001b[39;00m\n\u001b[0;32m    430\u001b[0m \u001b[39mif\u001b[39;00m \u001b[39mformat\u001b[39m \u001b[39mis\u001b[39;00m \u001b[39mnot\u001b[39;00m \u001b[39mNone\u001b[39;00m:\n\u001b[1;32m--> 431\u001b[0m     res \u001b[39m=\u001b[39m _to_datetime_with_format(\n\u001b[0;32m    432\u001b[0m         arg, orig_arg, name, tz, \u001b[39mformat\u001b[39;49m, exact, errors, infer_datetime_format\n\u001b[0;32m    433\u001b[0m     )\n\u001b[0;32m    434\u001b[0m     \u001b[39mif\u001b[39;00m res \u001b[39mis\u001b[39;00m \u001b[39mnot\u001b[39;00m \u001b[39mNone\u001b[39;00m:\n\u001b[0;32m    435\u001b[0m         \u001b[39mreturn\u001b[39;00m res\n",
      "File \u001b[1;32mc:\\Users\\pc\\AppData\\Local\\Programs\\Python\\Python310\\lib\\site-packages\\pandas\\core\\tools\\datetimes.py:539\u001b[0m, in \u001b[0;36m_to_datetime_with_format\u001b[1;34m(arg, orig_arg, name, tz, fmt, exact, errors, infer_datetime_format)\u001b[0m\n\u001b[0;32m    536\u001b[0m         \u001b[39mreturn\u001b[39;00m _box_as_indexlike(result, utc\u001b[39m=\u001b[39mutc, name\u001b[39m=\u001b[39mname)\n\u001b[0;32m    538\u001b[0m \u001b[39m# fallback\u001b[39;00m\n\u001b[1;32m--> 539\u001b[0m res \u001b[39m=\u001b[39m _array_strptime_with_fallback(\n\u001b[0;32m    540\u001b[0m     arg, name, tz, fmt, exact, errors, infer_datetime_format\n\u001b[0;32m    541\u001b[0m )\n\u001b[0;32m    542\u001b[0m \u001b[39mreturn\u001b[39;00m res\n",
      "File \u001b[1;32mc:\\Users\\pc\\AppData\\Local\\Programs\\Python\\Python310\\lib\\site-packages\\pandas\\core\\tools\\datetimes.py:474\u001b[0m, in \u001b[0;36m_array_strptime_with_fallback\u001b[1;34m(arg, name, tz, fmt, exact, errors, infer_datetime_format)\u001b[0m\n\u001b[0;32m    471\u001b[0m utc \u001b[39m=\u001b[39m tz \u001b[39m==\u001b[39m \u001b[39m\"\u001b[39m\u001b[39mutc\u001b[39m\u001b[39m\"\u001b[39m\n\u001b[0;32m    473\u001b[0m \u001b[39mtry\u001b[39;00m:\n\u001b[1;32m--> 474\u001b[0m     result, timezones \u001b[39m=\u001b[39m array_strptime(arg, fmt, exact\u001b[39m=\u001b[39;49mexact, errors\u001b[39m=\u001b[39;49merrors)\n\u001b[0;32m    475\u001b[0m \u001b[39mexcept\u001b[39;00m OutOfBoundsDatetime:\n\u001b[0;32m    476\u001b[0m     \u001b[39mif\u001b[39;00m errors \u001b[39m==\u001b[39m \u001b[39m\"\u001b[39m\u001b[39mraise\u001b[39m\u001b[39m\"\u001b[39m:\n",
      "File \u001b[1;32mc:\\Users\\pc\\AppData\\Local\\Programs\\Python\\Python310\\lib\\site-packages\\pandas\\_libs\\tslibs\\strptime.pyx:150\u001b[0m, in \u001b[0;36mpandas._libs.tslibs.strptime.array_strptime\u001b[1;34m()\u001b[0m\n",
      "\u001b[1;31mValueError\u001b[0m: time data '38:00' does not match format '%H:%M' (match)"
     ]
    }
   ],
   "source": [
    "# convert In-bound Time to :HH:MM\n",
    "# dataBugagge['In-bound Time']=pd.to_datetime(dataBugagge['In-bound Time'], format='%H:%M').dt.strftime('%H:%M')"
   ]
  },
  {
   "cell_type": "code",
   "execution_count": 308,
   "metadata": {},
   "outputs": [
    {
     "name": "stdout",
     "output_type": "stream",
     "text": [
      "       Unnamed: 0 Flight Date Orientation Flight    ST  ET  RLO   RSM  EO  AA  \\\n",
      "0               0  2022-09-01   Departure  SQ225     5 NaT     1    3   1   2   \n",
      "1               1  2022-09-01   Departure  SQ608    10 NaT     1    3   0   2   \n",
      "2               2  2022-09-01     Arrival  SQ208    15 NaT     1    4   1   2   \n",
      "3               3  2022-09-01   Departure  SQ336    15 NaT     1    3   1   2   \n",
      "4               4  2022-09-01     Arrival  SQ242    20 NaT     1    3   1   1   \n",
      "...           ...         ...         ...    ...   ...  ..   ...  ...  ..  ..   \n",
      "20214       20214  2022-11-30   Departure  SQ378  2345 NaT     1    3   1   2   \n",
      "20215       20215  2022-11-30   Departure   SQ26  2355 NaT     1    3   1   2   \n",
      "20216       20216  2022-11-30   Departure  SQ324  2355 NaT     1    2   1   1   \n",
      "20217       20217  2022-11-30   Departure  SQ638  2355 NaT     1    3   1   1   \n",
      "20218       20218  2022-11-30     Arrival  SQ897  2355 NaT     1    1   1   1   \n",
      "\n",
      "       staff  \n",
      "0          7  \n",
      "1          6  \n",
      "2          8  \n",
      "3          7  \n",
      "4          6  \n",
      "...      ...  \n",
      "20214      7  \n",
      "20215      7  \n",
      "20216      5  \n",
      "20217      6  \n",
      "20218      4  \n",
      "\n",
      "[20219 rows x 11 columns]\n"
     ]
    }
   ],
   "source": [
    "dataStaff['ET'] = pd.to_datetime(dataStaff['ET'], format='%H:%M', errors='coerce')\n",
    "\n",
    "# check for NaT values\n",
    "print(dataStaff[pd.isna(dataStaff['ET'])])"
   ]
  },
  {
   "cell_type": "code",
   "execution_count": 311,
   "metadata": {},
   "outputs": [],
   "source": [
    "dataStaff['ET']=pd.to_datetime(dataStaff['ET'], format='%H:%M').dt.strftime('%H:%M')"
   ]
  },
  {
   "cell_type": "code",
   "execution_count": 312,
   "metadata": {},
   "outputs": [
    {
     "data": {
      "text/plain": [
       "Unnamed: 0              int64\n",
       "Flight Date    datetime64[ns]\n",
       "Orientation            object\n",
       "Flight                 object\n",
       "ST                      int64\n",
       "ET                     object\n",
       "RLO                     int64\n",
       "RSM                     int64\n",
       "EO                      int64\n",
       "AA                      int64\n",
       "staff                   int64\n",
       "dtype: object"
      ]
     },
     "execution_count": 312,
     "metadata": {},
     "output_type": "execute_result"
    }
   ],
   "source": [
    "dataStaff.dtypes"
   ]
  },
  {
   "cell_type": "code",
   "execution_count": 313,
   "metadata": {},
   "outputs": [],
   "source": [
    "# datastagg Flight Date to pandas date YYYY-MM-DD:\n",
    "\n",
    "dataStaff['Flight Date']=pd.to_datetime(dataStaff['Flight Date'], format='%Y-%m-%d', errors='coerce')"
   ]
  },
  {
   "cell_type": "code",
   "execution_count": 314,
   "metadata": {},
   "outputs": [
    {
     "data": {
      "text/html": [
       "<div>\n",
       "<style scoped>\n",
       "    .dataframe tbody tr th:only-of-type {\n",
       "        vertical-align: middle;\n",
       "    }\n",
       "\n",
       "    .dataframe tbody tr th {\n",
       "        vertical-align: top;\n",
       "    }\n",
       "\n",
       "    .dataframe thead th {\n",
       "        text-align: right;\n",
       "    }\n",
       "</style>\n",
       "<table border=\"1\" class=\"dataframe\">\n",
       "  <thead>\n",
       "    <tr style=\"text-align: right;\">\n",
       "      <th></th>\n",
       "      <th>Unnamed: 0</th>\n",
       "      <th>Flight Date</th>\n",
       "      <th>Orientation</th>\n",
       "      <th>Flight</th>\n",
       "      <th>ST</th>\n",
       "      <th>ET</th>\n",
       "      <th>RLO</th>\n",
       "      <th>RSM</th>\n",
       "      <th>EO</th>\n",
       "      <th>AA</th>\n",
       "      <th>staff</th>\n",
       "    </tr>\n",
       "  </thead>\n",
       "  <tbody>\n",
       "    <tr>\n",
       "      <th>20214</th>\n",
       "      <td>20214</td>\n",
       "      <td>2022-11-30</td>\n",
       "      <td>Departure</td>\n",
       "      <td>SQ378</td>\n",
       "      <td>2345</td>\n",
       "      <td>NaN</td>\n",
       "      <td>1</td>\n",
       "      <td>3</td>\n",
       "      <td>1</td>\n",
       "      <td>2</td>\n",
       "      <td>7</td>\n",
       "    </tr>\n",
       "    <tr>\n",
       "      <th>20215</th>\n",
       "      <td>20215</td>\n",
       "      <td>2022-11-30</td>\n",
       "      <td>Departure</td>\n",
       "      <td>SQ26</td>\n",
       "      <td>2355</td>\n",
       "      <td>NaN</td>\n",
       "      <td>1</td>\n",
       "      <td>3</td>\n",
       "      <td>1</td>\n",
       "      <td>2</td>\n",
       "      <td>7</td>\n",
       "    </tr>\n",
       "    <tr>\n",
       "      <th>20216</th>\n",
       "      <td>20216</td>\n",
       "      <td>2022-11-30</td>\n",
       "      <td>Departure</td>\n",
       "      <td>SQ324</td>\n",
       "      <td>2355</td>\n",
       "      <td>NaN</td>\n",
       "      <td>1</td>\n",
       "      <td>2</td>\n",
       "      <td>1</td>\n",
       "      <td>1</td>\n",
       "      <td>5</td>\n",
       "    </tr>\n",
       "    <tr>\n",
       "      <th>20217</th>\n",
       "      <td>20217</td>\n",
       "      <td>2022-11-30</td>\n",
       "      <td>Departure</td>\n",
       "      <td>SQ638</td>\n",
       "      <td>2355</td>\n",
       "      <td>NaN</td>\n",
       "      <td>1</td>\n",
       "      <td>3</td>\n",
       "      <td>1</td>\n",
       "      <td>1</td>\n",
       "      <td>6</td>\n",
       "    </tr>\n",
       "    <tr>\n",
       "      <th>20218</th>\n",
       "      <td>20218</td>\n",
       "      <td>2022-11-30</td>\n",
       "      <td>Arrival</td>\n",
       "      <td>SQ897</td>\n",
       "      <td>2355</td>\n",
       "      <td>NaN</td>\n",
       "      <td>1</td>\n",
       "      <td>1</td>\n",
       "      <td>1</td>\n",
       "      <td>1</td>\n",
       "      <td>4</td>\n",
       "    </tr>\n",
       "  </tbody>\n",
       "</table>\n",
       "</div>"
      ],
      "text/plain": [
       "       Unnamed: 0 Flight Date Orientation Flight    ST   ET  RLO   RSM  EO  \\\n",
       "20214       20214  2022-11-30   Departure  SQ378  2345  NaN     1    3   1   \n",
       "20215       20215  2022-11-30   Departure   SQ26  2355  NaN     1    3   1   \n",
       "20216       20216  2022-11-30   Departure  SQ324  2355  NaN     1    2   1   \n",
       "20217       20217  2022-11-30   Departure  SQ638  2355  NaN     1    3   1   \n",
       "20218       20218  2022-11-30     Arrival  SQ897  2355  NaN     1    1   1   \n",
       "\n",
       "       AA  staff  \n",
       "20214   2      7  \n",
       "20215   2      7  \n",
       "20216   1      5  \n",
       "20217   1      6  \n",
       "20218   1      4  "
      ]
     },
     "execution_count": 314,
     "metadata": {},
     "output_type": "execute_result"
    }
   ],
   "source": [
    "dataStaff.tail()"
   ]
  },
  {
   "cell_type": "code",
   "execution_count": 226,
   "metadata": {},
   "outputs": [
    {
     "data": {
      "text/plain": [
       "Flight Date    datetime64[ns]\n",
       "Orientation            object\n",
       "Flight                 object\n",
       "ST                      int64\n",
       "ET                     object\n",
       "RLO                   float64\n",
       "RSM                     int64\n",
       "EO                      int64\n",
       "AA                    float64\n",
       "staff                 float64\n",
       "dtype: object"
      ]
     },
     "execution_count": 226,
     "metadata": {},
     "output_type": "execute_result"
    }
   ],
   "source": [
    "dataStaff.dtypes"
   ]
  },
  {
   "cell_type": "code",
   "execution_count": 315,
   "metadata": {},
   "outputs": [
    {
     "data": {
      "text/html": [
       "<div>\n",
       "<style scoped>\n",
       "    .dataframe tbody tr th:only-of-type {\n",
       "        vertical-align: middle;\n",
       "    }\n",
       "\n",
       "    .dataframe tbody tr th {\n",
       "        vertical-align: top;\n",
       "    }\n",
       "\n",
       "    .dataframe thead th {\n",
       "        text-align: right;\n",
       "    }\n",
       "</style>\n",
       "<table border=\"1\" class=\"dataframe\">\n",
       "  <thead>\n",
       "    <tr style=\"text-align: right;\">\n",
       "      <th></th>\n",
       "      <th>Flight No</th>\n",
       "      <th>Flight Date</th>\n",
       "      <th>In-bound Time</th>\n",
       "      <th>Trip Number</th>\n",
       "      <th>ULD Number</th>\n",
       "      <th>Pickup Time</th>\n",
       "      <th>Dropoff Time</th>\n",
       "    </tr>\n",
       "  </thead>\n",
       "  <tbody>\n",
       "    <tr>\n",
       "      <th>73726</th>\n",
       "      <td>TR493</td>\n",
       "      <td>2022-11-30</td>\n",
       "      <td>23:14</td>\n",
       "      <td>1.0</td>\n",
       "      <td>BT2163</td>\n",
       "      <td>NaT</td>\n",
       "      <td>NaT</td>\n",
       "    </tr>\n",
       "    <tr>\n",
       "      <th>73729</th>\n",
       "      <td>SQ185</td>\n",
       "      <td>2022-11-30</td>\n",
       "      <td>23:19</td>\n",
       "      <td>0.0</td>\n",
       "      <td>AKE28070SQ</td>\n",
       "      <td>NaT</td>\n",
       "      <td>2022-11-30 23:54:44.753</td>\n",
       "    </tr>\n",
       "    <tr>\n",
       "      <th>73734</th>\n",
       "      <td>SQ906</td>\n",
       "      <td>2022-11-30</td>\n",
       "      <td>23:27</td>\n",
       "      <td>1.0</td>\n",
       "      <td>BT1483</td>\n",
       "      <td>NaT</td>\n",
       "      <td>NaT</td>\n",
       "    </tr>\n",
       "    <tr>\n",
       "      <th>73737</th>\n",
       "      <td>TR617</td>\n",
       "      <td>2022-11-30</td>\n",
       "      <td>23:53</td>\n",
       "      <td>1.0</td>\n",
       "      <td>AKE83265SQ</td>\n",
       "      <td>2022-12-01 00:10:20.050</td>\n",
       "      <td>NaT</td>\n",
       "    </tr>\n",
       "    <tr>\n",
       "      <th>73739</th>\n",
       "      <td>SQ739</td>\n",
       "      <td>2022-11-30</td>\n",
       "      <td>00:11</td>\n",
       "      <td>1.0</td>\n",
       "      <td>BT1218</td>\n",
       "      <td>NaT</td>\n",
       "      <td>NaT</td>\n",
       "    </tr>\n",
       "  </tbody>\n",
       "</table>\n",
       "</div>"
      ],
      "text/plain": [
       "      Flight No Flight Date In-bound Time  Trip Number  ULD Number  \\\n",
       "73726     TR493  2022-11-30         23:14          1.0      BT2163   \n",
       "73729     SQ185  2022-11-30         23:19          0.0  AKE28070SQ   \n",
       "73734     SQ906  2022-11-30         23:27          1.0      BT1483   \n",
       "73737     TR617  2022-11-30         23:53          1.0  AKE83265SQ   \n",
       "73739     SQ739  2022-11-30         00:11          1.0      BT1218   \n",
       "\n",
       "                  Pickup Time            Dropoff Time  \n",
       "73726                     NaT                     NaT  \n",
       "73729                     NaT 2022-11-30 23:54:44.753  \n",
       "73734                     NaT                     NaT  \n",
       "73737 2022-12-01 00:10:20.050                     NaT  \n",
       "73739                     NaT                     NaT  "
      ]
     },
     "execution_count": 315,
     "metadata": {},
     "output_type": "execute_result"
    }
   ],
   "source": [
    "dataBugagge.tail()"
   ]
  },
  {
   "cell_type": "code",
   "execution_count": 316,
   "metadata": {},
   "outputs": [
    {
     "data": {
      "text/plain": [
       "Flight No                object\n",
       "Flight Date      datetime64[ns]\n",
       "In-bound Time            object\n",
       "Trip Number             float64\n",
       "ULD Number               object\n",
       "Pickup Time      datetime64[ns]\n",
       "Dropoff Time     datetime64[ns]\n",
       "dtype: object"
      ]
     },
     "execution_count": 316,
     "metadata": {},
     "output_type": "execute_result"
    }
   ],
   "source": [
    "dataBugagge.dtypes"
   ]
  },
  {
   "cell_type": "code",
   "execution_count": 317,
   "metadata": {},
   "outputs": [],
   "source": [
    "dataBugagge['Flight Date']=pd.to_datetime(dataBugagge['Flight Date'], format='%Y-%m-%d', errors='coerce')"
   ]
  },
  {
   "cell_type": "code",
   "execution_count": 233,
   "metadata": {},
   "outputs": [
    {
     "ename": "TypeError",
     "evalue": "'NoneType' object is not subscriptable",
     "output_type": "error",
     "traceback": [
      "\u001b[1;31m---------------------------------------------------------------------------\u001b[0m",
      "\u001b[1;31mTypeError\u001b[0m                                 Traceback (most recent call last)",
      "Cell \u001b[1;32mIn [233], line 6\u001b[0m\n\u001b[0;32m      4\u001b[0m dataBugagge\u001b[39m=\u001b[39mdataBugagge\u001b[39m.\u001b[39mdropna(subset\u001b[39m=\u001b[39m[\u001b[39m'\u001b[39m\u001b[39mIn-bound Time\u001b[39m\u001b[39m'\u001b[39m],inplace\u001b[39m=\u001b[39m\u001b[39mTrue\u001b[39;00m)\n\u001b[0;32m      5\u001b[0m \u001b[39m# dataBugagge[dataBugagge['In-bound Time']==]\u001b[39;00m\n\u001b[1;32m----> 6\u001b[0m dataBugagge[\u001b[39m'\u001b[39m\u001b[39mIn-bound Time\u001b[39m\u001b[39m'\u001b[39m]\u001b[39m=\u001b[39mpd\u001b[39m.\u001b[39mto_datetime(dataBugagge[\u001b[39m'\u001b[39m\u001b[39mIn-bound Time\u001b[39m\u001b[39m'\u001b[39m], \u001b[39mformat\u001b[39m\u001b[39m=\u001b[39m\u001b[39m'\u001b[39m\u001b[39m%\u001b[39m\u001b[39mH:\u001b[39m\u001b[39m%\u001b[39m\u001b[39mM\u001b[39m\u001b[39m'\u001b[39m)\u001b[39m.\u001b[39mdt\u001b[39m.\u001b[39mstrftime(\u001b[39m'\u001b[39m\u001b[39m%\u001b[39m\u001b[39mH:\u001b[39m\u001b[39m%\u001b[39m\u001b[39mM\u001b[39m\u001b[39m'\u001b[39m)\n",
      "\u001b[1;31mTypeError\u001b[0m: 'NoneType' object is not subscriptable"
     ]
    }
   ],
   "source": [
    "# ET datatype to HH:MM\n",
    "dataStaff['ET']=pd.to_datetime(dataStaff['ET'], format='%H:%M').dt.strftime('%H:%M')\n",
    "# dataBugagge In-bound Time is not null\n",
    "dataBugagge=dataBugagge.dropna(subset=['In-bound Time'],inplace=True)\n",
    "# dataBugagge[dataBugagge['In-bound Time']==]\n",
    "# dataBugagge['In-bound Time']=pd.to_datetime(dataBugagge['In-bound Time'], format='%H:%M').dt.strftime('%H:%M')\n"
   ]
  },
  {
   "cell_type": "code",
   "execution_count": 258,
   "metadata": {},
   "outputs": [
    {
     "data": {
      "text/plain": [
       "Flight No                object\n",
       "Flight Date      datetime64[ns]\n",
       "In-bound Time            object\n",
       "Trip Number             float64\n",
       "ULD Number               object\n",
       "Pickup Time      datetime64[ns]\n",
       "Dropoff Time     datetime64[ns]\n",
       "dtype: object"
      ]
     },
     "execution_count": 258,
     "metadata": {},
     "output_type": "execute_result"
    }
   ],
   "source": [
    "dataBugagge.dtypes"
   ]
  },
  {
   "cell_type": "code",
   "execution_count": 340,
   "metadata": {},
   "outputs": [
    {
     "data": {
      "text/plain": [
       "Unnamed: 0                int64\n",
       "Flight Date      datetime64[ns]\n",
       "Orientation              object\n",
       "Flight No                object\n",
       "ST                        int64\n",
       "In-bound Time           float64\n",
       "RLO                       int64\n",
       "RSM                       int64\n",
       "EO                        int64\n",
       "AA                        int64\n",
       "staff                     int64\n",
       "dtype: object"
      ]
     },
     "execution_count": 340,
     "metadata": {},
     "output_type": "execute_result"
    }
   ],
   "source": [
    "dataStaff.dtypes"
   ]
  },
  {
   "cell_type": "code",
   "execution_count": 341,
   "metadata": {},
   "outputs": [],
   "source": [
    "# remove all the duplicates Flight, Flight Date:\n",
    "dataStaff.drop_duplicates(subset=['Flight No','Flight Date'],keep='first',inplace=True)"
   ]
  },
  {
   "cell_type": "code",
   "execution_count": 342,
   "metadata": {},
   "outputs": [
    {
     "data": {
      "text/plain": [
       "(10108, 11)"
      ]
     },
     "execution_count": 342,
     "metadata": {},
     "output_type": "execute_result"
    }
   ],
   "source": [
    "dataStaff.shape"
   ]
  },
  {
   "cell_type": "code",
   "execution_count": 343,
   "metadata": {},
   "outputs": [],
   "source": [
    "# remove all the duplicates Flight No, Flight Date:\n",
    "dataBugagge.drop_duplicates(subset=['Flight No','Flight Date'],keep='first',inplace=True)"
   ]
  },
  {
   "cell_type": "code",
   "execution_count": 344,
   "metadata": {},
   "outputs": [
    {
     "data": {
      "text/plain": [
       "(7999, 7)"
      ]
     },
     "execution_count": 344,
     "metadata": {},
     "output_type": "execute_result"
    }
   ],
   "source": [
    "dataBugagge.shape"
   ]
  },
  {
   "cell_type": "code",
   "execution_count": 345,
   "metadata": {},
   "outputs": [
    {
     "data": {
      "text/plain": [
       "(10108, 11)"
      ]
     },
     "execution_count": 345,
     "metadata": {},
     "output_type": "execute_result"
    }
   ],
   "source": [
    "dataStaff.shape"
   ]
  },
  {
   "cell_type": "code",
   "execution_count": 338,
   "metadata": {},
   "outputs": [
    {
     "ename": "KeyError",
     "evalue": "Index(['Flight'], dtype='object')",
     "output_type": "error",
     "traceback": [
      "\u001b[1;31m---------------------------------------------------------------------------\u001b[0m",
      "\u001b[1;31mKeyError\u001b[0m                                  Traceback (most recent call last)",
      "Cell \u001b[1;32mIn [338], line 1\u001b[0m\n\u001b[1;32m----> 1\u001b[0m dataStaff\u001b[39m.\u001b[39mdrop_duplicates(subset\u001b[39m=\u001b[39m[\u001b[39m'\u001b[39m\u001b[39mFlight\u001b[39m\u001b[39m'\u001b[39m,\u001b[39m'\u001b[39m\u001b[39mFlight Date\u001b[39m\u001b[39m'\u001b[39m],keep\u001b[39m=\u001b[39m\u001b[39m'\u001b[39m\u001b[39mfirst\u001b[39m\u001b[39m'\u001b[39m,inplace\u001b[39m=\u001b[39m\u001b[39mTrue\u001b[39;00m)\n",
      "File \u001b[1;32mc:\\Users\\pc\\AppData\\Local\\Programs\\Python\\Python310\\lib\\site-packages\\pandas\\util\\_decorators.py:317\u001b[0m, in \u001b[0;36mdeprecate_nonkeyword_arguments.<locals>.decorate.<locals>.wrapper\u001b[1;34m(*args, **kwargs)\u001b[0m\n\u001b[0;32m    311\u001b[0m \u001b[39mif\u001b[39;00m \u001b[39mlen\u001b[39m(args) \u001b[39m>\u001b[39m num_allow_args:\n\u001b[0;32m    312\u001b[0m     warnings\u001b[39m.\u001b[39mwarn(\n\u001b[0;32m    313\u001b[0m         msg\u001b[39m.\u001b[39mformat(arguments\u001b[39m=\u001b[39marguments),\n\u001b[0;32m    314\u001b[0m         \u001b[39mFutureWarning\u001b[39;00m,\n\u001b[0;32m    315\u001b[0m         stacklevel\u001b[39m=\u001b[39mfind_stack_level(inspect\u001b[39m.\u001b[39mcurrentframe()),\n\u001b[0;32m    316\u001b[0m     )\n\u001b[1;32m--> 317\u001b[0m \u001b[39mreturn\u001b[39;00m func(\u001b[39m*\u001b[39margs, \u001b[39m*\u001b[39m\u001b[39m*\u001b[39mkwargs)\n",
      "File \u001b[1;32mc:\\Users\\pc\\AppData\\Local\\Programs\\Python\\Python310\\lib\\site-packages\\pandas\\core\\frame.py:6664\u001b[0m, in \u001b[0;36mDataFrame.drop_duplicates\u001b[1;34m(self, subset, keep, inplace, ignore_index)\u001b[0m\n\u001b[0;32m   6662\u001b[0m inplace \u001b[39m=\u001b[39m validate_bool_kwarg(inplace, \u001b[39m\"\u001b[39m\u001b[39minplace\u001b[39m\u001b[39m\"\u001b[39m)\n\u001b[0;32m   6663\u001b[0m ignore_index \u001b[39m=\u001b[39m validate_bool_kwarg(ignore_index, \u001b[39m\"\u001b[39m\u001b[39mignore_index\u001b[39m\u001b[39m\"\u001b[39m)\n\u001b[1;32m-> 6664\u001b[0m duplicated \u001b[39m=\u001b[39m \u001b[39mself\u001b[39;49m\u001b[39m.\u001b[39;49mduplicated(subset, keep\u001b[39m=\u001b[39;49mkeep)\n\u001b[0;32m   6666\u001b[0m result \u001b[39m=\u001b[39m \u001b[39mself\u001b[39m[\u001b[39m-\u001b[39mduplicated]\n\u001b[0;32m   6667\u001b[0m \u001b[39mif\u001b[39;00m ignore_index:\n",
      "File \u001b[1;32mc:\\Users\\pc\\AppData\\Local\\Programs\\Python\\Python310\\lib\\site-packages\\pandas\\core\\frame.py:6798\u001b[0m, in \u001b[0;36mDataFrame.duplicated\u001b[1;34m(self, subset, keep)\u001b[0m\n\u001b[0;32m   6796\u001b[0m diff \u001b[39m=\u001b[39m \u001b[39mset\u001b[39m(subset) \u001b[39m-\u001b[39m \u001b[39mset\u001b[39m(\u001b[39mself\u001b[39m\u001b[39m.\u001b[39mcolumns)\n\u001b[0;32m   6797\u001b[0m \u001b[39mif\u001b[39;00m diff:\n\u001b[1;32m-> 6798\u001b[0m     \u001b[39mraise\u001b[39;00m \u001b[39mKeyError\u001b[39;00m(Index(diff))\n\u001b[0;32m   6800\u001b[0m \u001b[39mif\u001b[39;00m \u001b[39mlen\u001b[39m(subset) \u001b[39m==\u001b[39m \u001b[39m1\u001b[39m \u001b[39mand\u001b[39;00m \u001b[39mself\u001b[39m\u001b[39m.\u001b[39mcolumns\u001b[39m.\u001b[39mis_unique:\n\u001b[0;32m   6801\u001b[0m     \u001b[39m# GH#45236 This is faster than get_group_index below\u001b[39;00m\n\u001b[0;32m   6802\u001b[0m     result \u001b[39m=\u001b[39m \u001b[39mself\u001b[39m[subset[\u001b[39m0\u001b[39m]]\u001b[39m.\u001b[39mduplicated(keep)\n",
      "\u001b[1;31mKeyError\u001b[0m: Index(['Flight'], dtype='object')"
     ]
    }
   ],
   "source": [
    "dataStaff.drop_duplicates(subset=['Flight','Flight Date'],keep='first',inplace=True)"
   ]
  },
  {
   "cell_type": "code",
   "execution_count": 346,
   "metadata": {},
   "outputs": [],
   "source": [
    "# merge dataStaff and dataBugagge on Flight, Flight Date, In-bound Time\n",
    "# rename Flight to Flight No, ET to In-bound Time\n",
    "dataStaff.rename(columns={'Flight':'Flight No','ET':'In-bound Time'},inplace=True)\n",
    "# dataStaffBugagge=pd.merge(dataStaff,dataBugagge,how='inner',on=['Flight','Flight Date','In-bound Time'])"
   ]
  },
  {
   "cell_type": "code",
   "execution_count": 348,
   "metadata": {},
   "outputs": [
    {
     "data": {
      "text/plain": [
       "0       2022-09-01\n",
       "2       2022-09-01\n",
       "12      2022-09-01\n",
       "25      2022-09-01\n",
       "29      2022-09-01\n",
       "           ...    \n",
       "73726   2022-11-30\n",
       "73729   2022-11-30\n",
       "73734   2022-11-30\n",
       "73737   2022-11-30\n",
       "73739   2022-11-30\n",
       "Name: Flight Date, Length: 7999, dtype: datetime64[ns]"
      ]
     },
     "execution_count": 348,
     "metadata": {},
     "output_type": "execute_result"
    }
   ],
   "source": [
    "dataBugagge['Flight Date']"
   ]
  },
  {
   "cell_type": "code",
   "execution_count": 347,
   "metadata": {},
   "outputs": [
    {
     "data": {
      "text/plain": [
       "2       2022-09-01\n",
       "4       2022-09-01\n",
       "11      2022-09-01\n",
       "22      2022-09-01\n",
       "23      2022-09-01\n",
       "           ...    \n",
       "20208   2022-11-30\n",
       "20209   2022-11-30\n",
       "20210   2022-11-30\n",
       "20212   2022-11-30\n",
       "20218   2022-11-30\n",
       "Name: Flight Date, Length: 10108, dtype: datetime64[ns]"
      ]
     },
     "execution_count": 347,
     "metadata": {},
     "output_type": "execute_result"
    }
   ],
   "source": [
    "dataStaff['Flight Date']"
   ]
  },
  {
   "cell_type": "code",
   "execution_count": 352,
   "metadata": {},
   "outputs": [
    {
     "data": {
      "text/plain": [
       "68"
      ]
     },
     "execution_count": 352,
     "metadata": {},
     "output_type": "execute_result"
    }
   ],
   "source": [
    "# intersect dataStaff and dataBugagge on Flight No on 2022-09-01:\n",
    "dataBugagge['Flight No'].isin(dataStaff['Flight No']).loc[dataBugagge['Flight Date']=='2022-09-01'].sum()\n"
   ]
  },
  {
   "cell_type": "code",
   "execution_count": 355,
   "metadata": {},
   "outputs": [],
   "source": [
    "dataStaffBugagge=pd.merge(dataStaff,dataBugagge,how='outer',on=['Flight No','Flight Date'])"
   ]
  },
  {
   "cell_type": "code",
   "execution_count": 356,
   "metadata": {},
   "outputs": [
    {
     "data": {
      "text/html": [
       "<div>\n",
       "<style scoped>\n",
       "    .dataframe tbody tr th:only-of-type {\n",
       "        vertical-align: middle;\n",
       "    }\n",
       "\n",
       "    .dataframe tbody tr th {\n",
       "        vertical-align: top;\n",
       "    }\n",
       "\n",
       "    .dataframe thead th {\n",
       "        text-align: right;\n",
       "    }\n",
       "</style>\n",
       "<table border=\"1\" class=\"dataframe\">\n",
       "  <thead>\n",
       "    <tr style=\"text-align: right;\">\n",
       "      <th></th>\n",
       "      <th>Unnamed: 0</th>\n",
       "      <th>Flight Date</th>\n",
       "      <th>Orientation</th>\n",
       "      <th>Flight No</th>\n",
       "      <th>ST</th>\n",
       "      <th>In-bound Time_x</th>\n",
       "      <th>RLO</th>\n",
       "      <th>RSM</th>\n",
       "      <th>EO</th>\n",
       "      <th>AA</th>\n",
       "      <th>staff</th>\n",
       "      <th>In-bound Time_y</th>\n",
       "      <th>Trip Number</th>\n",
       "      <th>ULD Number</th>\n",
       "      <th>Pickup Time</th>\n",
       "      <th>Dropoff Time</th>\n",
       "    </tr>\n",
       "  </thead>\n",
       "  <tbody>\n",
       "    <tr>\n",
       "      <th>0</th>\n",
       "      <td>2.0</td>\n",
       "      <td>2022-09-01</td>\n",
       "      <td>Arrival</td>\n",
       "      <td>SQ208</td>\n",
       "      <td>15.0</td>\n",
       "      <td>21.0</td>\n",
       "      <td>1.0</td>\n",
       "      <td>4.0</td>\n",
       "      <td>1.0</td>\n",
       "      <td>2.0</td>\n",
       "      <td>8.0</td>\n",
       "      <td>00:21</td>\n",
       "      <td>1.0</td>\n",
       "      <td>AKE89138SQ</td>\n",
       "      <td>2022-09-01 00:33:15.220</td>\n",
       "      <td>2022-09-01 00:37:16.930</td>\n",
       "    </tr>\n",
       "    <tr>\n",
       "      <th>1</th>\n",
       "      <td>4.0</td>\n",
       "      <td>2022-09-01</td>\n",
       "      <td>Arrival</td>\n",
       "      <td>SQ242</td>\n",
       "      <td>20.0</td>\n",
       "      <td>40.0</td>\n",
       "      <td>1.0</td>\n",
       "      <td>3.0</td>\n",
       "      <td>1.0</td>\n",
       "      <td>1.0</td>\n",
       "      <td>6.0</td>\n",
       "      <td>00:40</td>\n",
       "      <td>1.0</td>\n",
       "      <td>AKE80436SQ</td>\n",
       "      <td>2022-09-01 00:54:23.003</td>\n",
       "      <td>2022-09-01 00:55:44.893</td>\n",
       "    </tr>\n",
       "    <tr>\n",
       "      <th>2</th>\n",
       "      <td>11.0</td>\n",
       "      <td>2022-09-01</td>\n",
       "      <td>Arrival</td>\n",
       "      <td>SQ11</td>\n",
       "      <td>115.0</td>\n",
       "      <td>38.0</td>\n",
       "      <td>1.0</td>\n",
       "      <td>3.0</td>\n",
       "      <td>1.0</td>\n",
       "      <td>2.0</td>\n",
       "      <td>7.0</td>\n",
       "      <td>00:38</td>\n",
       "      <td>1.0</td>\n",
       "      <td>AKE70581SQ</td>\n",
       "      <td>NaT</td>\n",
       "      <td>NaT</td>\n",
       "    </tr>\n",
       "    <tr>\n",
       "      <th>3</th>\n",
       "      <td>22.0</td>\n",
       "      <td>2022-09-01</td>\n",
       "      <td>Arrival</td>\n",
       "      <td>TR25</td>\n",
       "      <td>355.0</td>\n",
       "      <td>355.0</td>\n",
       "      <td>1.0</td>\n",
       "      <td>3.0</td>\n",
       "      <td>1.0</td>\n",
       "      <td>1.0</td>\n",
       "      <td>6.0</td>\n",
       "      <td>03:55</td>\n",
       "      <td>1.0</td>\n",
       "      <td>AKE84300SQ</td>\n",
       "      <td>2022-09-01 04:17:01.517</td>\n",
       "      <td>2022-09-01 04:22:18.260</td>\n",
       "    </tr>\n",
       "    <tr>\n",
       "      <th>4</th>\n",
       "      <td>23.0</td>\n",
       "      <td>2022-09-01</td>\n",
       "      <td>Arrival</td>\n",
       "      <td>TR509</td>\n",
       "      <td>405.0</td>\n",
       "      <td>510.0</td>\n",
       "      <td>1.0</td>\n",
       "      <td>3.0</td>\n",
       "      <td>1.0</td>\n",
       "      <td>2.0</td>\n",
       "      <td>7.0</td>\n",
       "      <td>NaN</td>\n",
       "      <td>NaN</td>\n",
       "      <td>NaN</td>\n",
       "      <td>NaT</td>\n",
       "      <td>NaT</td>\n",
       "    </tr>\n",
       "  </tbody>\n",
       "</table>\n",
       "</div>"
      ],
      "text/plain": [
       "   Unnamed: 0 Flight Date Orientation Flight No     ST  In-bound Time_x  RLO   \\\n",
       "0         2.0  2022-09-01     Arrival     SQ208   15.0             21.0   1.0   \n",
       "1         4.0  2022-09-01     Arrival     SQ242   20.0             40.0   1.0   \n",
       "2        11.0  2022-09-01     Arrival      SQ11  115.0             38.0   1.0   \n",
       "3        22.0  2022-09-01     Arrival      TR25  355.0            355.0   1.0   \n",
       "4        23.0  2022-09-01     Arrival     TR509  405.0            510.0   1.0   \n",
       "\n",
       "   RSM   EO   AA  staff In-bound Time_y  Trip Number  ULD Number  \\\n",
       "0  4.0  1.0  2.0    8.0           00:21          1.0  AKE89138SQ   \n",
       "1  3.0  1.0  1.0    6.0           00:40          1.0  AKE80436SQ   \n",
       "2  3.0  1.0  2.0    7.0           00:38          1.0  AKE70581SQ   \n",
       "3  3.0  1.0  1.0    6.0           03:55          1.0  AKE84300SQ   \n",
       "4  3.0  1.0  2.0    7.0             NaN          NaN         NaN   \n",
       "\n",
       "              Pickup Time            Dropoff Time  \n",
       "0 2022-09-01 00:33:15.220 2022-09-01 00:37:16.930  \n",
       "1 2022-09-01 00:54:23.003 2022-09-01 00:55:44.893  \n",
       "2                     NaT                     NaT  \n",
       "3 2022-09-01 04:17:01.517 2022-09-01 04:22:18.260  \n",
       "4                     NaT                     NaT  "
      ]
     },
     "execution_count": 356,
     "metadata": {},
     "output_type": "execute_result"
    }
   ],
   "source": [
    "dataStaffBugagge.head()"
   ]
  },
  {
   "cell_type": "code",
   "execution_count": null,
   "metadata": {},
   "outputs": [],
   "source": [
    "# save to csv\n",
    "dataStaffBugagge.to_csv('J:\\\\SATS\\\\dataStaffBugagge2.csv',index=False)"
   ]
  },
  {
   "cell_type": "code",
   "execution_count": 357,
   "metadata": {},
   "outputs": [
    {
     "data": {
      "text/plain": [
       "(11805, 16)"
      ]
     },
     "execution_count": 357,
     "metadata": {},
     "output_type": "execute_result"
    }
   ],
   "source": [
    "dataStaffBugagge.shape"
   ]
  },
  {
   "cell_type": "code",
   "execution_count": 358,
   "metadata": {},
   "outputs": [
    {
     "data": {
      "text/plain": [
       "(10108, 11)"
      ]
     },
     "execution_count": 358,
     "metadata": {},
     "output_type": "execute_result"
    }
   ],
   "source": [
    "dataStaff.shape"
   ]
  },
  {
   "cell_type": "code",
   "execution_count": 359,
   "metadata": {},
   "outputs": [
    {
     "data": {
      "text/plain": [
       "(7999, 7)"
      ]
     },
     "execution_count": 359,
     "metadata": {},
     "output_type": "execute_result"
    }
   ],
   "source": [
    "dataBugagge.shape"
   ]
  },
  {
   "cell_type": "code",
   "execution_count": 272,
   "metadata": {},
   "outputs": [],
   "source": [
    "# save dataStaffBugagge to csv\n",
    "dataStaffBugagge.to_csv('J:\\\\SATS\\\\dataStaffBugagge.csv',index=False)"
   ]
  },
  {
   "cell_type": "code",
   "execution_count": 327,
   "metadata": {},
   "outputs": [
    {
     "data": {
      "text/html": [
       "<div>\n",
       "<style scoped>\n",
       "    .dataframe tbody tr th:only-of-type {\n",
       "        vertical-align: middle;\n",
       "    }\n",
       "\n",
       "    .dataframe tbody tr th {\n",
       "        vertical-align: top;\n",
       "    }\n",
       "\n",
       "    .dataframe thead th {\n",
       "        text-align: right;\n",
       "    }\n",
       "</style>\n",
       "<table border=\"1\" class=\"dataframe\">\n",
       "  <thead>\n",
       "    <tr style=\"text-align: right;\">\n",
       "      <th></th>\n",
       "      <th>Unnamed: 0</th>\n",
       "      <th>Flight Date</th>\n",
       "      <th>Orientation</th>\n",
       "      <th>Flight No</th>\n",
       "      <th>ST</th>\n",
       "      <th>In-bound Time_x</th>\n",
       "      <th>RLO</th>\n",
       "      <th>RSM</th>\n",
       "      <th>EO</th>\n",
       "      <th>AA</th>\n",
       "      <th>staff</th>\n",
       "      <th>In-bound Time_y</th>\n",
       "      <th>Trip Number</th>\n",
       "      <th>ULD Number</th>\n",
       "      <th>Pickup Time</th>\n",
       "      <th>Dropoff Time</th>\n",
       "    </tr>\n",
       "  </thead>\n",
       "  <tbody>\n",
       "    <tr>\n",
       "      <th>0</th>\n",
       "      <td>2</td>\n",
       "      <td>2022-09-01</td>\n",
       "      <td>Arrival</td>\n",
       "      <td>SQ208</td>\n",
       "      <td>15</td>\n",
       "      <td>NaN</td>\n",
       "      <td>1</td>\n",
       "      <td>4</td>\n",
       "      <td>1</td>\n",
       "      <td>2</td>\n",
       "      <td>8</td>\n",
       "      <td>00:21</td>\n",
       "      <td>1.0</td>\n",
       "      <td>AKE89138SQ</td>\n",
       "      <td>2022-09-01 00:33:15.220</td>\n",
       "      <td>2022-09-01 00:37:16.930</td>\n",
       "    </tr>\n",
       "    <tr>\n",
       "      <th>1</th>\n",
       "      <td>4</td>\n",
       "      <td>2022-09-01</td>\n",
       "      <td>Arrival</td>\n",
       "      <td>SQ242</td>\n",
       "      <td>20</td>\n",
       "      <td>NaN</td>\n",
       "      <td>1</td>\n",
       "      <td>3</td>\n",
       "      <td>1</td>\n",
       "      <td>1</td>\n",
       "      <td>6</td>\n",
       "      <td>00:40</td>\n",
       "      <td>1.0</td>\n",
       "      <td>AKE80436SQ</td>\n",
       "      <td>2022-09-01 00:54:23.003</td>\n",
       "      <td>2022-09-01 00:55:44.893</td>\n",
       "    </tr>\n",
       "    <tr>\n",
       "      <th>2</th>\n",
       "      <td>11</td>\n",
       "      <td>2022-09-01</td>\n",
       "      <td>Arrival</td>\n",
       "      <td>SQ11</td>\n",
       "      <td>115</td>\n",
       "      <td>NaN</td>\n",
       "      <td>1</td>\n",
       "      <td>3</td>\n",
       "      <td>1</td>\n",
       "      <td>2</td>\n",
       "      <td>7</td>\n",
       "      <td>00:38</td>\n",
       "      <td>1.0</td>\n",
       "      <td>AKE70581SQ</td>\n",
       "      <td>NaT</td>\n",
       "      <td>NaT</td>\n",
       "    </tr>\n",
       "    <tr>\n",
       "      <th>3</th>\n",
       "      <td>22</td>\n",
       "      <td>2022-09-01</td>\n",
       "      <td>Arrival</td>\n",
       "      <td>TR25</td>\n",
       "      <td>355</td>\n",
       "      <td>NaN</td>\n",
       "      <td>1</td>\n",
       "      <td>3</td>\n",
       "      <td>1</td>\n",
       "      <td>1</td>\n",
       "      <td>6</td>\n",
       "      <td>03:55</td>\n",
       "      <td>1.0</td>\n",
       "      <td>AKE84300SQ</td>\n",
       "      <td>2022-09-01 04:17:01.517</td>\n",
       "      <td>2022-09-01 04:22:18.260</td>\n",
       "    </tr>\n",
       "    <tr>\n",
       "      <th>4</th>\n",
       "      <td>24</td>\n",
       "      <td>2022-09-01</td>\n",
       "      <td>Arrival</td>\n",
       "      <td>SQ623</td>\n",
       "      <td>440</td>\n",
       "      <td>NaN</td>\n",
       "      <td>1</td>\n",
       "      <td>3</td>\n",
       "      <td>1</td>\n",
       "      <td>2</td>\n",
       "      <td>7</td>\n",
       "      <td>04:19</td>\n",
       "      <td>1.0</td>\n",
       "      <td>AKE28089SQ</td>\n",
       "      <td>2022-09-01 04:28:10.723</td>\n",
       "      <td>NaT</td>\n",
       "    </tr>\n",
       "  </tbody>\n",
       "</table>\n",
       "</div>"
      ],
      "text/plain": [
       "   Unnamed: 0 Flight Date Orientation Flight No   ST In-bound Time_x  RLO   \\\n",
       "0           2  2022-09-01     Arrival     SQ208   15             NaN     1   \n",
       "1           4  2022-09-01     Arrival     SQ242   20             NaN     1   \n",
       "2          11  2022-09-01     Arrival      SQ11  115             NaN     1   \n",
       "3          22  2022-09-01     Arrival      TR25  355             NaN     1   \n",
       "4          24  2022-09-01     Arrival     SQ623  440             NaN     1   \n",
       "\n",
       "   RSM  EO  AA  staff In-bound Time_y  Trip Number  ULD Number  \\\n",
       "0    4   1   2      8           00:21          1.0  AKE89138SQ   \n",
       "1    3   1   1      6           00:40          1.0  AKE80436SQ   \n",
       "2    3   1   2      7           00:38          1.0  AKE70581SQ   \n",
       "3    3   1   1      6           03:55          1.0  AKE84300SQ   \n",
       "4    3   1   2      7           04:19          1.0  AKE28089SQ   \n",
       "\n",
       "              Pickup Time            Dropoff Time  \n",
       "0 2022-09-01 00:33:15.220 2022-09-01 00:37:16.930  \n",
       "1 2022-09-01 00:54:23.003 2022-09-01 00:55:44.893  \n",
       "2                     NaT                     NaT  \n",
       "3 2022-09-01 04:17:01.517 2022-09-01 04:22:18.260  \n",
       "4 2022-09-01 04:28:10.723                     NaT  "
      ]
     },
     "execution_count": 327,
     "metadata": {},
     "output_type": "execute_result"
    }
   ],
   "source": [
    "dataStaffBugagge.head()"
   ]
  },
  {
   "attachments": {},
   "cell_type": "markdown",
   "metadata": {},
   "source": [
    "# Some EDA"
   ]
  },
  {
   "cell_type": "code",
   "execution_count": 275,
   "metadata": {},
   "outputs": [],
   "source": [
    "Bugagge=pd.read_excel('J:\\\\SATS\\\\Buggage.xlsx')\n",
    "# dataBugagge=pd.read_excel('J:\\\\SATS\\\\Buggage.xlsx')"
   ]
  },
  {
   "cell_type": "code",
   "execution_count": 277,
   "metadata": {},
   "outputs": [],
   "source": [
    "# total number of flights in one day\n",
    "# remove all the duplicates Flight No, Flight Date:\n",
    "Bugagge.drop_duplicates(subset=['Flight No','Flight Date'],keep='first',inplace=True)\n",
    "# dataBugagge['Flight No'].count()"
   ]
  },
  {
   "cell_type": "code",
   "execution_count": 278,
   "metadata": {},
   "outputs": [
    {
     "data": {
      "text/plain": [
       "(8010, 7)"
      ]
     },
     "execution_count": 278,
     "metadata": {},
     "output_type": "execute_result"
    }
   ],
   "source": [
    "Bugagge.shape"
   ]
  },
  {
   "cell_type": "code",
   "execution_count": 296,
   "metadata": {},
   "outputs": [
    {
     "data": {
      "text/plain": [
       "Flight No\n",
       "SQ11      1\n",
       "SQ121     1\n",
       "SQ125     1\n",
       "SQ153     1\n",
       "SQ157     1\n",
       "         ..\n",
       "TR565     1\n",
       "TR611     1\n",
       "TR625     1\n",
       "TR843     1\n",
       "﻿SQ208    1\n",
       "Name: Flight No, Length: 81, dtype: int64"
      ]
     },
     "execution_count": 296,
     "metadata": {},
     "output_type": "execute_result"
    }
   ],
   "source": [
    "# total flights every day showing the number of flights against each flight number:\n",
    "Bugagge.groupby(['Flight Date','Flight No'])['Flight No'].count()\n",
    "# show the number of flights against each flight number for 1-09-2022\n",
    "Bugagge.groupby(['Flight Date','Flight No'])['Flight No'].count().loc['2022-09-01']\n",
    "\n",
    "\n",
    "\n",
    "\n",
    "# Bugagge.groupby(['Flight Date','Flight No']).count()\n",
    "\n",
    "# Bugagge['Flight No']"
   ]
  },
  {
   "cell_type": "code",
   "execution_count": 284,
   "metadata": {},
   "outputs": [
    {
     "data": {
      "text/plain": [
       "0       SQ208\n",
       "2      ﻿SQ208\n",
       "12       SQ11\n",
       "25      SQ242\n",
       "29       TR25\n",
       "        ...  \n",
       "683     SQ185\n",
       "698     SQ906\n",
       "705     TR467\n",
       "710     SQ193\n",
       "715     TR391\n",
       "Name: Flight No, Length: 81, dtype: object"
      ]
     },
     "execution_count": 284,
     "metadata": {},
     "output_type": "execute_result"
    }
   ],
   "source": [
    "# distinct flightNumber on 2022-09-01:\n",
    "\n",
    "\n",
    "\n",
    "Bugagge[Bugagge['Flight Date']=='2022-09-01']['Flight No']"
   ]
  },
  {
   "cell_type": "code",
   "execution_count": null,
   "metadata": {},
   "outputs": [],
   "source": []
  }
 ],
 "metadata": {
  "kernelspec": {
   "display_name": "Python 3",
   "language": "python",
   "name": "python3"
  },
  "language_info": {
   "codemirror_mode": {
    "name": "ipython",
    "version": 3
   },
   "file_extension": ".py",
   "mimetype": "text/x-python",
   "name": "python",
   "nbconvert_exporter": "python",
   "pygments_lexer": "ipython3",
   "version": "3.10.7 (tags/v3.10.7:6cc6b13, Sep  5 2022, 14:08:36) [MSC v.1933 64 bit (AMD64)]"
  },
  "orig_nbformat": 4,
  "vscode": {
   "interpreter": {
    "hash": "67e0cbc25fa4f5baaacba1240f401bc655b640f8e15cfc935dfee2e63491bdf4"
   }
  }
 },
 "nbformat": 4,
 "nbformat_minor": 2
}
