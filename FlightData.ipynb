{
 "cells": [
  {
   "attachments": {},
   "cell_type": "markdown",
   "metadata": {},
   "source": [
    "# Initial staff cleaning"
   ]
  },
  {
   "cell_type": "code",
   "execution_count": 31,
   "metadata": {},
   "outputs": [],
   "source": [
    "#  access the data \n",
    "import pandas as pd\n",
    "dataStaff=pd.read_csv('J:\\\\SATS\\\\SATS_RAM.csv')\n"
   ]
  },
  {
   "cell_type": "code",
   "execution_count": 32,
   "metadata": {},
   "outputs": [],
   "source": [
    "dataStaff=dataStaff[dataStaff['Orientation']=='Arrival']"
   ]
  },
  {
   "cell_type": "code",
   "execution_count": 33,
   "metadata": {},
   "outputs": [
    {
     "data": {
      "text/plain": [
       "(10113, 9)"
      ]
     },
     "execution_count": 33,
     "metadata": {},
     "output_type": "execute_result"
    }
   ],
   "source": [
    "dataStaff.shape"
   ]
  },
  {
   "cell_type": "code",
   "execution_count": 100,
   "metadata": {},
   "outputs": [],
   "source": [
    "# remove .0 from ET column\n",
    "dataStaff['ET']=dataStaff['ET'].astype(str).str[:-2]"
   ]
  },
  {
   "cell_type": "code",
   "execution_count": 101,
   "metadata": {},
   "outputs": [
    {
     "data": {
      "text/html": [
       "<div>\n",
       "<style scoped>\n",
       "    .dataframe tbody tr th:only-of-type {\n",
       "        vertical-align: middle;\n",
       "    }\n",
       "\n",
       "    .dataframe tbody tr th {\n",
       "        vertical-align: top;\n",
       "    }\n",
       "\n",
       "    .dataframe thead th {\n",
       "        text-align: right;\n",
       "    }\n",
       "</style>\n",
       "<table border=\"1\" class=\"dataframe\">\n",
       "  <thead>\n",
       "    <tr style=\"text-align: right;\">\n",
       "      <th></th>\n",
       "      <th>Flight Date</th>\n",
       "      <th>Orientation</th>\n",
       "      <th>Flight</th>\n",
       "      <th>ST</th>\n",
       "      <th>ET</th>\n",
       "      <th>RLO</th>\n",
       "      <th>RSM</th>\n",
       "      <th>EO</th>\n",
       "      <th>AA</th>\n",
       "    </tr>\n",
       "  </thead>\n",
       "  <tbody>\n",
       "    <tr>\n",
       "      <th>20208</th>\n",
       "      <td>30-11-2022</td>\n",
       "      <td>Arrival</td>\n",
       "      <td>SQ 193</td>\n",
       "      <td>2315</td>\n",
       "      <td>2304</td>\n",
       "      <td>1.0</td>\n",
       "      <td>2</td>\n",
       "      <td>1</td>\n",
       "      <td>1.0</td>\n",
       "    </tr>\n",
       "    <tr>\n",
       "      <th>20209</th>\n",
       "      <td>30-11-2022</td>\n",
       "      <td>Arrival</td>\n",
       "      <td>TR 653</td>\n",
       "      <td>2315</td>\n",
       "      <td>2353</td>\n",
       "      <td>1.0</td>\n",
       "      <td>2</td>\n",
       "      <td>1</td>\n",
       "      <td>1.0</td>\n",
       "    </tr>\n",
       "    <tr>\n",
       "      <th>20210</th>\n",
       "      <td>30-11-2022</td>\n",
       "      <td>Arrival</td>\n",
       "      <td>SQ 713</td>\n",
       "      <td>2330</td>\n",
       "      <td>105</td>\n",
       "      <td>1.0</td>\n",
       "      <td>2</td>\n",
       "      <td>1</td>\n",
       "      <td>1.0</td>\n",
       "    </tr>\n",
       "    <tr>\n",
       "      <th>20212</th>\n",
       "      <td>30-11-2022</td>\n",
       "      <td>Arrival</td>\n",
       "      <td>TR 617</td>\n",
       "      <td>2340</td>\n",
       "      <td>2353</td>\n",
       "      <td>1.0</td>\n",
       "      <td>3</td>\n",
       "      <td>1</td>\n",
       "      <td>1.0</td>\n",
       "    </tr>\n",
       "    <tr>\n",
       "      <th>20218</th>\n",
       "      <td>30-11-2022</td>\n",
       "      <td>Arrival</td>\n",
       "      <td>SQ 897</td>\n",
       "      <td>2355</td>\n",
       "      <td>2338</td>\n",
       "      <td>1.0</td>\n",
       "      <td>1</td>\n",
       "      <td>1</td>\n",
       "      <td>1.0</td>\n",
       "    </tr>\n",
       "  </tbody>\n",
       "</table>\n",
       "</div>"
      ],
      "text/plain": [
       "      Flight Date Orientation  Flight    ST    ET  RLO   RSM  EO   AA\n",
       "20208  30-11-2022     Arrival  SQ 193  2315  2304   1.0    2   1  1.0\n",
       "20209  30-11-2022     Arrival  TR 653  2315  2353   1.0    2   1  1.0\n",
       "20210  30-11-2022     Arrival  SQ 713  2330   105   1.0    2   1  1.0\n",
       "20212  30-11-2022     Arrival  TR 617  2340  2353   1.0    3   1  1.0\n",
       "20218  30-11-2022     Arrival  SQ 897  2355  2338   1.0    1   1  1.0"
      ]
     },
     "execution_count": 101,
     "metadata": {},
     "output_type": "execute_result"
    }
   ],
   "source": [
    "dataStaff.tail()"
   ]
  },
  {
   "cell_type": "code",
   "execution_count": 102,
   "metadata": {},
   "outputs": [
    {
     "data": {
      "text/html": [
       "<div>\n",
       "<style scoped>\n",
       "    .dataframe tbody tr th:only-of-type {\n",
       "        vertical-align: middle;\n",
       "    }\n",
       "\n",
       "    .dataframe tbody tr th {\n",
       "        vertical-align: top;\n",
       "    }\n",
       "\n",
       "    .dataframe thead th {\n",
       "        text-align: right;\n",
       "    }\n",
       "</style>\n",
       "<table border=\"1\" class=\"dataframe\">\n",
       "  <thead>\n",
       "    <tr style=\"text-align: right;\">\n",
       "      <th></th>\n",
       "      <th>Flight Date</th>\n",
       "      <th>Orientation</th>\n",
       "      <th>Flight</th>\n",
       "      <th>ST</th>\n",
       "      <th>ET</th>\n",
       "      <th>RLO</th>\n",
       "      <th>RSM</th>\n",
       "      <th>EO</th>\n",
       "      <th>AA</th>\n",
       "    </tr>\n",
       "  </thead>\n",
       "  <tbody>\n",
       "    <tr>\n",
       "      <th>20208</th>\n",
       "      <td>30-11-2022</td>\n",
       "      <td>Arrival</td>\n",
       "      <td>SQ 193</td>\n",
       "      <td>2315</td>\n",
       "      <td>2304</td>\n",
       "      <td>1.0</td>\n",
       "      <td>2</td>\n",
       "      <td>1</td>\n",
       "      <td>1.0</td>\n",
       "    </tr>\n",
       "    <tr>\n",
       "      <th>20209</th>\n",
       "      <td>30-11-2022</td>\n",
       "      <td>Arrival</td>\n",
       "      <td>TR 653</td>\n",
       "      <td>2315</td>\n",
       "      <td>2353</td>\n",
       "      <td>1.0</td>\n",
       "      <td>2</td>\n",
       "      <td>1</td>\n",
       "      <td>1.0</td>\n",
       "    </tr>\n",
       "    <tr>\n",
       "      <th>20210</th>\n",
       "      <td>30-11-2022</td>\n",
       "      <td>Arrival</td>\n",
       "      <td>SQ 713</td>\n",
       "      <td>2330</td>\n",
       "      <td>0105</td>\n",
       "      <td>1.0</td>\n",
       "      <td>2</td>\n",
       "      <td>1</td>\n",
       "      <td>1.0</td>\n",
       "    </tr>\n",
       "    <tr>\n",
       "      <th>20212</th>\n",
       "      <td>30-11-2022</td>\n",
       "      <td>Arrival</td>\n",
       "      <td>TR 617</td>\n",
       "      <td>2340</td>\n",
       "      <td>2353</td>\n",
       "      <td>1.0</td>\n",
       "      <td>3</td>\n",
       "      <td>1</td>\n",
       "      <td>1.0</td>\n",
       "    </tr>\n",
       "    <tr>\n",
       "      <th>20218</th>\n",
       "      <td>30-11-2022</td>\n",
       "      <td>Arrival</td>\n",
       "      <td>SQ 897</td>\n",
       "      <td>2355</td>\n",
       "      <td>2338</td>\n",
       "      <td>1.0</td>\n",
       "      <td>1</td>\n",
       "      <td>1</td>\n",
       "      <td>1.0</td>\n",
       "    </tr>\n",
       "  </tbody>\n",
       "</table>\n",
       "</div>"
      ],
      "text/plain": [
       "      Flight Date Orientation  Flight    ST    ET  RLO   RSM  EO   AA\n",
       "20208  30-11-2022     Arrival  SQ 193  2315  2304   1.0    2   1  1.0\n",
       "20209  30-11-2022     Arrival  TR 653  2315  2353   1.0    2   1  1.0\n",
       "20210  30-11-2022     Arrival  SQ 713  2330  0105   1.0    2   1  1.0\n",
       "20212  30-11-2022     Arrival  TR 617  2340  2353   1.0    3   1  1.0\n",
       "20218  30-11-2022     Arrival  SQ 897  2355  2338   1.0    1   1  1.0"
      ]
     },
     "execution_count": 102,
     "metadata": {},
     "output_type": "execute_result"
    }
   ],
   "source": [
    "# dataStaff['ET'] = '{:0>4}'.format(dataStaff['ET'])\n",
    "# set ET to string\n",
    "dataStaff['ET']=dataStaff['ET'].astype(str)\n",
    "dataStaff['ET'] = dataStaff['ET'].apply(lambda x: '{:0>4}'.format(x))\n",
    "dataStaff.tail()"
   ]
  },
  {
   "cell_type": "code",
   "execution_count": 5,
   "metadata": {},
   "outputs": [
    {
     "data": {
      "text/html": [
       "<div>\n",
       "<style scoped>\n",
       "    .dataframe tbody tr th:only-of-type {\n",
       "        vertical-align: middle;\n",
       "    }\n",
       "\n",
       "    .dataframe tbody tr th {\n",
       "        vertical-align: top;\n",
       "    }\n",
       "\n",
       "    .dataframe thead th {\n",
       "        text-align: right;\n",
       "    }\n",
       "</style>\n",
       "<table border=\"1\" class=\"dataframe\">\n",
       "  <thead>\n",
       "    <tr style=\"text-align: right;\">\n",
       "      <th></th>\n",
       "      <th>Flight Date</th>\n",
       "      <th>Orientation</th>\n",
       "      <th>Flight</th>\n",
       "      <th>ST</th>\n",
       "      <th>ET</th>\n",
       "      <th>RLO</th>\n",
       "      <th>RSM</th>\n",
       "      <th>EO</th>\n",
       "      <th>AA</th>\n",
       "    </tr>\n",
       "  </thead>\n",
       "  <tbody>\n",
       "    <tr>\n",
       "      <th>20208</th>\n",
       "      <td>30-11-2022</td>\n",
       "      <td>Arrival</td>\n",
       "      <td>SQ 193</td>\n",
       "      <td>2315</td>\n",
       "      <td>2304.0</td>\n",
       "      <td>1.0</td>\n",
       "      <td>2</td>\n",
       "      <td>1</td>\n",
       "      <td>1.0</td>\n",
       "    </tr>\n",
       "    <tr>\n",
       "      <th>20209</th>\n",
       "      <td>30-11-2022</td>\n",
       "      <td>Arrival</td>\n",
       "      <td>TR 653</td>\n",
       "      <td>2315</td>\n",
       "      <td>2353.0</td>\n",
       "      <td>1.0</td>\n",
       "      <td>2</td>\n",
       "      <td>1</td>\n",
       "      <td>1.0</td>\n",
       "    </tr>\n",
       "    <tr>\n",
       "      <th>20210</th>\n",
       "      <td>30-11-2022</td>\n",
       "      <td>Arrival</td>\n",
       "      <td>SQ 713</td>\n",
       "      <td>2330</td>\n",
       "      <td>105.0</td>\n",
       "      <td>1.0</td>\n",
       "      <td>2</td>\n",
       "      <td>1</td>\n",
       "      <td>1.0</td>\n",
       "    </tr>\n",
       "    <tr>\n",
       "      <th>20212</th>\n",
       "      <td>30-11-2022</td>\n",
       "      <td>Arrival</td>\n",
       "      <td>TR 617</td>\n",
       "      <td>2340</td>\n",
       "      <td>2353.0</td>\n",
       "      <td>1.0</td>\n",
       "      <td>3</td>\n",
       "      <td>1</td>\n",
       "      <td>1.0</td>\n",
       "    </tr>\n",
       "    <tr>\n",
       "      <th>20218</th>\n",
       "      <td>30-11-2022</td>\n",
       "      <td>Arrival</td>\n",
       "      <td>SQ 897</td>\n",
       "      <td>2355</td>\n",
       "      <td>2338.0</td>\n",
       "      <td>1.0</td>\n",
       "      <td>1</td>\n",
       "      <td>1</td>\n",
       "      <td>1.0</td>\n",
       "    </tr>\n",
       "  </tbody>\n",
       "</table>\n",
       "</div>"
      ],
      "text/plain": [
       "      Flight Date Orientation  Flight    ST      ET  RLO   RSM  EO   AA\n",
       "20208  30-11-2022     Arrival  SQ 193  2315  2304.0   1.0    2   1  1.0\n",
       "20209  30-11-2022     Arrival  TR 653  2315  2353.0   1.0    2   1  1.0\n",
       "20210  30-11-2022     Arrival  SQ 713  2330   105.0   1.0    2   1  1.0\n",
       "20212  30-11-2022     Arrival  TR 617  2340  2353.0   1.0    3   1  1.0\n",
       "20218  30-11-2022     Arrival  SQ 897  2355  2338.0   1.0    1   1  1.0"
      ]
     },
     "execution_count": 5,
     "metadata": {},
     "output_type": "execute_result"
    }
   ],
   "source": [
    "dataStaff.tail()"
   ]
  },
  {
   "cell_type": "code",
   "execution_count": 6,
   "metadata": {},
   "outputs": [
    {
     "data": {
      "text/plain": [
       "0"
      ]
     },
     "execution_count": 6,
     "metadata": {},
     "output_type": "execute_result"
    }
   ],
   "source": [
    "# any null values?\n",
    "dataStaff['ET'].isnull().sum()"
   ]
  },
  {
   "cell_type": "code",
   "execution_count": 7,
   "metadata": {},
   "outputs": [],
   "source": [
    "# insert : into ET\n",
    "dataStaff['ET'] = dataStaff['ET'].str[:2] + ':' + dataStaff['ET'].str[2:]"
   ]
  },
  {
   "cell_type": "code",
   "execution_count": 8,
   "metadata": {},
   "outputs": [
    {
     "data": {
      "text/html": [
       "<div>\n",
       "<style scoped>\n",
       "    .dataframe tbody tr th:only-of-type {\n",
       "        vertical-align: middle;\n",
       "    }\n",
       "\n",
       "    .dataframe tbody tr th {\n",
       "        vertical-align: top;\n",
       "    }\n",
       "\n",
       "    .dataframe thead th {\n",
       "        text-align: right;\n",
       "    }\n",
       "</style>\n",
       "<table border=\"1\" class=\"dataframe\">\n",
       "  <thead>\n",
       "    <tr style=\"text-align: right;\">\n",
       "      <th></th>\n",
       "      <th>Flight Date</th>\n",
       "      <th>Orientation</th>\n",
       "      <th>Flight</th>\n",
       "      <th>ST</th>\n",
       "      <th>ET</th>\n",
       "      <th>RLO</th>\n",
       "      <th>RSM</th>\n",
       "      <th>EO</th>\n",
       "      <th>AA</th>\n",
       "    </tr>\n",
       "  </thead>\n",
       "  <tbody>\n",
       "    <tr>\n",
       "      <th>20208</th>\n",
       "      <td>30-11-2022</td>\n",
       "      <td>Arrival</td>\n",
       "      <td>SQ 193</td>\n",
       "      <td>2315</td>\n",
       "      <td>23:04.0</td>\n",
       "      <td>1.0</td>\n",
       "      <td>2</td>\n",
       "      <td>1</td>\n",
       "      <td>1.0</td>\n",
       "    </tr>\n",
       "    <tr>\n",
       "      <th>20209</th>\n",
       "      <td>30-11-2022</td>\n",
       "      <td>Arrival</td>\n",
       "      <td>TR 653</td>\n",
       "      <td>2315</td>\n",
       "      <td>23:53.0</td>\n",
       "      <td>1.0</td>\n",
       "      <td>2</td>\n",
       "      <td>1</td>\n",
       "      <td>1.0</td>\n",
       "    </tr>\n",
       "    <tr>\n",
       "      <th>20210</th>\n",
       "      <td>30-11-2022</td>\n",
       "      <td>Arrival</td>\n",
       "      <td>SQ 713</td>\n",
       "      <td>2330</td>\n",
       "      <td>10:5.0</td>\n",
       "      <td>1.0</td>\n",
       "      <td>2</td>\n",
       "      <td>1</td>\n",
       "      <td>1.0</td>\n",
       "    </tr>\n",
       "    <tr>\n",
       "      <th>20212</th>\n",
       "      <td>30-11-2022</td>\n",
       "      <td>Arrival</td>\n",
       "      <td>TR 617</td>\n",
       "      <td>2340</td>\n",
       "      <td>23:53.0</td>\n",
       "      <td>1.0</td>\n",
       "      <td>3</td>\n",
       "      <td>1</td>\n",
       "      <td>1.0</td>\n",
       "    </tr>\n",
       "    <tr>\n",
       "      <th>20218</th>\n",
       "      <td>30-11-2022</td>\n",
       "      <td>Arrival</td>\n",
       "      <td>SQ 897</td>\n",
       "      <td>2355</td>\n",
       "      <td>23:38.0</td>\n",
       "      <td>1.0</td>\n",
       "      <td>1</td>\n",
       "      <td>1</td>\n",
       "      <td>1.0</td>\n",
       "    </tr>\n",
       "  </tbody>\n",
       "</table>\n",
       "</div>"
      ],
      "text/plain": [
       "      Flight Date Orientation  Flight    ST       ET  RLO   RSM  EO   AA\n",
       "20208  30-11-2022     Arrival  SQ 193  2315  23:04.0   1.0    2   1  1.0\n",
       "20209  30-11-2022     Arrival  TR 653  2315  23:53.0   1.0    2   1  1.0\n",
       "20210  30-11-2022     Arrival  SQ 713  2330   10:5.0   1.0    2   1  1.0\n",
       "20212  30-11-2022     Arrival  TR 617  2340  23:53.0   1.0    3   1  1.0\n",
       "20218  30-11-2022     Arrival  SQ 897  2355  23:38.0   1.0    1   1  1.0"
      ]
     },
     "execution_count": 8,
     "metadata": {},
     "output_type": "execute_result"
    }
   ],
   "source": [
    "dataStaff.tail()"
   ]
  },
  {
   "cell_type": "code",
   "execution_count": 9,
   "metadata": {},
   "outputs": [
    {
     "data": {
      "text/plain": [
       "(10113,)"
      ]
     },
     "execution_count": 9,
     "metadata": {},
     "output_type": "execute_result"
    }
   ],
   "source": [
    "# convert ET to datetime\n",
    "# dataStaff['ET'] = pd.to_datetime(dataStaff['ET'])\n",
    "dataStaff['ET'].shape"
   ]
  },
  {
   "cell_type": "code",
   "execution_count": 10,
   "metadata": {},
   "outputs": [
    {
     "name": "stdout",
     "output_type": "stream",
     "text": [
      "      Flight Date Orientation  Flight    ST  ET  RLO   RSM  EO   AA\n",
      "2        1/9/2022     Arrival  SQ 208    15 NaT   1.0    4   1  2.0\n",
      "4        1/9/2022     Arrival  SQ 242    20 NaT   1.0    3   1  1.0\n",
      "11       1/9/2022     Arrival   SQ 11   115 NaT   1.0    3   1  2.0\n",
      "22       1/9/2022     Arrival   TR 25   355 NaT   1.0    3   1  1.0\n",
      "23       1/9/2022     Arrival  TR 509   405 NaT   1.0    3   1  2.0\n",
      "...           ...         ...     ...   ...  ..   ...  ...  ..  ...\n",
      "20208  30-11-2022     Arrival  SQ 193  2315 NaT   1.0    2   1  1.0\n",
      "20209  30-11-2022     Arrival  TR 653  2315 NaT   1.0    2   1  1.0\n",
      "20210  30-11-2022     Arrival  SQ 713  2330 NaT   1.0    2   1  1.0\n",
      "20212  30-11-2022     Arrival  TR 617  2340 NaT   1.0    3   1  1.0\n",
      "20218  30-11-2022     Arrival  SQ 897  2355 NaT   1.0    1   1  1.0\n",
      "\n",
      "[10113 rows x 9 columns]\n"
     ]
    }
   ],
   "source": [
    "# import pandas as pd\n",
    "# import re\n",
    "\n",
    "# # dataStaff = pd.DataFrame({'ET': ['12:30','14:00','00:0n','16:00']})\n",
    "\n",
    "# # check for invalid values using regular expressions\n",
    "# invalid_mask = dataStaff['ET'].apply(lambda x: bool(re.search(r'^(?:(?:([01]?\\d|2[0-3]):)?([0-5]?\\d):[0-5]?[0-9]n$', x)))\n",
    "\n",
    "# # check for invalid values\n",
    "# print(dataStaff[invalid_mask])\n",
    "# Convert columns to datetime data type with 'coerce' error handling\n",
    "dataStaff['ET'] = pd.to_datetime(dataStaff['ET'], format='%H:%M', errors='coerce')\n",
    "\n",
    "# check for NaT values\n",
    "print(dataStaff[pd.isna(dataStaff['ET'])])\n"
   ]
  },
  {
   "cell_type": "code",
   "execution_count": 175,
   "metadata": {},
   "outputs": [],
   "source": [
    "# delete all rows with NaT values in the 'ET' column\n",
    "dataStaff = dataStaff.dropna(subset=['ET'])\n"
   ]
  },
  {
   "cell_type": "code",
   "execution_count": 160,
   "metadata": {},
   "outputs": [],
   "source": [
    "# Convert columns to numeric data type with 'coerce' error handling\n",
    "dataStaff['ET'] = pd.to_numeric(dataStaff['ET'], errors='coerce')\n",
    "\n",
    "# check for NaN values\n",
    "# print(dataStaff[pd.isna(dataStaff['ET'])])"
   ]
  },
  {
   "cell_type": "code",
   "execution_count": 161,
   "metadata": {},
   "outputs": [
    {
     "name": "stdout",
     "output_type": "stream",
     "text": [
      "      Flight Date Orientation  Flight    ST  ET  RLO   RSM  EO   AA\n",
      "30       1/9/2022     Arrival  TR 713   520 NaN   0.0    0   0  0.0\n",
      "461      3/9/2022     Arrival  TR 509   405 NaN   0.0    0   0  0.0\n",
      "462      3/9/2022     Arrival  TR 713   410 NaN   0.0    0   0  0.0\n",
      "1428     7/9/2022     Arrival  SQ 896  1532 NaN   0.0    0   0  0.0\n",
      "1433     7/9/2022     Arrival  SQ 896  1551 NaN   0.0    0   0  0.0\n",
      "1654     8/9/2022     Arrival  TR 809  1630 NaN   0.0    0   0  0.0\n",
      "1884     9/9/2022     Arrival  SQ 333  1730 NaN   0.0    0   0  0.0\n",
      "2047    10/9/2022     Arrival  SQ 192   933 NaN   0.0    0   0  0.0\n",
      "2052    10/9/2022     Arrival  SQ 192   951 NaN   0.0    0   0  0.0\n",
      "2321    11/9/2022     Arrival  SQ 939  1550 NaN   1.0    3   1  2.0\n",
      "3136   15-09-2022     Arrival  SQ 334  1414 NaN   0.0    0   0  0.0\n",
      "3794   18-09-2022     Arrival  SQ 326  1137 NaN   0.0    0   0  0.0\n",
      "4644   22-09-2022     Arrival  SQ 912  1229 NaN   0.0    0   0  0.0\n",
      "6318   30-09-2022     Arrival  TR 848   649 NaN   0.0    0   0  0.0\n",
      "9954   17-10-2022     Arrival  SQ 423   740 NaN   0.0    0   0  0.0\n",
      "10915  21-10-2022     Arrival   SQ 36  1859 NaN   0.0    0   0  0.0\n",
      "10917  21-10-2022     Arrival   SQ 36  1901 NaN   0.0    0   0  0.0\n",
      "12666  29-10-2022     Arrival  SQ 186  1754 NaN   0.0    0   0  0.0\n",
      "12997  31-10-2022     Arrival  SQ 306   555 NaN   0.0    0   0  0.0\n",
      "13866   4/11/2022     Arrival  SQ 402   300 NaN   0.0    0   0  0.0\n",
      "14169   5/11/2022     Arrival  SQ 936   914 NaN   0.0    0   0  0.0\n",
      "14418   6/11/2022     Arrival  SQ 192   951 NaN   0.0    0   0  0.0\n",
      "14477   6/11/2022     Arrival   SQ 21  1715 NaN   NaN    0   0  NaN\n",
      "14730   7/11/2022     Arrival  SQ 186  1851 NaN   0.0    0   0  0.0\n",
      "15252  10/11/2022     Arrival   TR 25   225 NaN   0.0    0   0  0.0\n",
      "17832  20-11-2022     Arrival  SQ 528  2137 NaN   0.0    0   0  0.0\n",
      "18868  25-11-2022     Arrival  SQ 317   750 NaN   0.0    0   0  0.0\n",
      "19414  27-11-2022     Arrival  SQ 184  1424 NaN   0.0    0   0  0.0\n"
     ]
    }
   ],
   "source": [
    "print(dataStaff[pd.isna(dataStaff['ET'])])"
   ]
  },
  {
   "cell_type": "code",
   "execution_count": 143,
   "metadata": {},
   "outputs": [
    {
     "name": "stdout",
     "output_type": "stream",
     "text": [
      "      Flight Date Orientation  Flight    ST  ET  RLO   RSM  EO   AA\n",
      "30       1/9/2022     Arrival  TR 713   520 NaT   0.0    0   0  0.0\n",
      "461      3/9/2022     Arrival  TR 509   405 NaT   0.0    0   0  0.0\n",
      "462      3/9/2022     Arrival  TR 713   410 NaT   0.0    0   0  0.0\n",
      "1428     7/9/2022     Arrival  SQ 896  1532 NaT   0.0    0   0  0.0\n",
      "1433     7/9/2022     Arrival  SQ 896  1551 NaT   0.0    0   0  0.0\n",
      "1654     8/9/2022     Arrival  TR 809  1630 NaT   0.0    0   0  0.0\n",
      "1884     9/9/2022     Arrival  SQ 333  1730 NaT   0.0    0   0  0.0\n",
      "2047    10/9/2022     Arrival  SQ 192   933 NaT   0.0    0   0  0.0\n",
      "2052    10/9/2022     Arrival  SQ 192   951 NaT   0.0    0   0  0.0\n",
      "2321    11/9/2022     Arrival  SQ 939  1550 NaT   1.0    3   1  2.0\n",
      "3136   15-09-2022     Arrival  SQ 334  1414 NaT   0.0    0   0  0.0\n",
      "3794   18-09-2022     Arrival  SQ 326  1137 NaT   0.0    0   0  0.0\n",
      "4644   22-09-2022     Arrival  SQ 912  1229 NaT   0.0    0   0  0.0\n",
      "6318   30-09-2022     Arrival  TR 848   649 NaT   0.0    0   0  0.0\n",
      "9954   17-10-2022     Arrival  SQ 423   740 NaT   0.0    0   0  0.0\n",
      "10915  21-10-2022     Arrival   SQ 36  1859 NaT   0.0    0   0  0.0\n",
      "10917  21-10-2022     Arrival   SQ 36  1901 NaT   0.0    0   0  0.0\n",
      "12666  29-10-2022     Arrival  SQ 186  1754 NaT   0.0    0   0  0.0\n",
      "12997  31-10-2022     Arrival  SQ 306   555 NaT   0.0    0   0  0.0\n",
      "13866   4/11/2022     Arrival  SQ 402   300 NaT   0.0    0   0  0.0\n",
      "14169   5/11/2022     Arrival  SQ 936   914 NaT   0.0    0   0  0.0\n",
      "14418   6/11/2022     Arrival  SQ 192   951 NaT   0.0    0   0  0.0\n",
      "14477   6/11/2022     Arrival   SQ 21  1715 NaT   NaN    0   0  NaN\n",
      "14730   7/11/2022     Arrival  SQ 186  1851 NaT   0.0    0   0  0.0\n",
      "15252  10/11/2022     Arrival   TR 25   225 NaT   0.0    0   0  0.0\n",
      "17832  20-11-2022     Arrival  SQ 528  2137 NaT   0.0    0   0  0.0\n",
      "18868  25-11-2022     Arrival  SQ 317   750 NaT   0.0    0   0  0.0\n",
      "19414  27-11-2022     Arrival  SQ 184  1424 NaT   0.0    0   0  0.0\n"
     ]
    }
   ],
   "source": [
    "# convert ET to datetime by adding : in the middle\n",
    "# dataStaff['ET']=pd.to_datetime(dataStaff['ET'], format='%H%M').dt.strftime('%H:%M')\n",
    "dataStaff['ET'] = pd.to_datetime(dataStaff['ET'].astype(str), format='%H%M', errors='coerce')\n",
    "\n",
    "# check for NaT values\n",
    "print(dataStaff[pd.isna(dataStaff['ET'])])\n",
    "\n",
    "# pd.to_datetime(df['time'], format='%H%M').dt.strftime('%H:%M')\n",
    "# dataStaff['ET']=pd.to_datetime(dataStaff['ET'], format='%H:%M').dt.strftime('%H:%M')"
   ]
  },
  {
   "cell_type": "code",
   "execution_count": 34,
   "metadata": {},
   "outputs": [],
   "source": [
    "dataStaff.columns\n",
    "# fill NAN with 0\n",
    "dataStaff['AA'].fillna(0,inplace=True)\n",
    "dataStaff['RLO '].fillna(0,inplace=True)\n",
    "# data['RLO'].isnull.sum()"
   ]
  },
  {
   "cell_type": "code",
   "execution_count": null,
   "metadata": {},
   "outputs": [],
   "source": []
  },
  {
   "cell_type": "code",
   "execution_count": 35,
   "metadata": {},
   "outputs": [],
   "source": [
    "dataStaff['staff']=dataStaff['RSM']+dataStaff['EO']+dataStaff['AA']+dataStaff['RLO ']"
   ]
  },
  {
   "cell_type": "code",
   "execution_count": 36,
   "metadata": {},
   "outputs": [
    {
     "data": {
      "text/plain": [
       "0"
      ]
     },
     "execution_count": 36,
     "metadata": {},
     "output_type": "execute_result"
    }
   ],
   "source": [
    "\n",
    "dataStaff['staff'].isnull().sum()"
   ]
  },
  {
   "cell_type": "code",
   "execution_count": 37,
   "metadata": {},
   "outputs": [
    {
     "data": {
      "text/html": [
       "<div>\n",
       "<style scoped>\n",
       "    .dataframe tbody tr th:only-of-type {\n",
       "        vertical-align: middle;\n",
       "    }\n",
       "\n",
       "    .dataframe tbody tr th {\n",
       "        vertical-align: top;\n",
       "    }\n",
       "\n",
       "    .dataframe thead th {\n",
       "        text-align: right;\n",
       "    }\n",
       "</style>\n",
       "<table border=\"1\" class=\"dataframe\">\n",
       "  <thead>\n",
       "    <tr style=\"text-align: right;\">\n",
       "      <th></th>\n",
       "      <th>Flight Date</th>\n",
       "      <th>Orientation</th>\n",
       "      <th>Flight</th>\n",
       "      <th>ST</th>\n",
       "      <th>ET</th>\n",
       "      <th>RLO</th>\n",
       "      <th>RSM</th>\n",
       "      <th>EO</th>\n",
       "      <th>AA</th>\n",
       "      <th>staff</th>\n",
       "    </tr>\n",
       "  </thead>\n",
       "  <tbody>\n",
       "  </tbody>\n",
       "</table>\n",
       "</div>"
      ],
      "text/plain": [
       "Empty DataFrame\n",
       "Columns: [Flight Date, Orientation, Flight, ST, ET, RLO , RSM, EO, AA, staff]\n",
       "Index: []"
      ]
     },
     "execution_count": 37,
     "metadata": {},
     "output_type": "execute_result"
    }
   ],
   "source": [
    "# display data where staff is null\n",
    "dataStaff[dataStaff['staff'].isnull()]"
   ]
  },
  {
   "cell_type": "code",
   "execution_count": 15,
   "metadata": {},
   "outputs": [],
   "source": [
    "dataStaff['ET']=dataStaff['ET'].astype('str')"
   ]
  },
  {
   "cell_type": "code",
   "execution_count": 16,
   "metadata": {},
   "outputs": [
    {
     "name": "stderr",
     "output_type": "stream",
     "text": [
      "C:\\Users\\pc\\AppData\\Local\\Temp\\ipykernel_31376\\806292004.py:2: FutureWarning: The default value of regex will change from True to False in a future version.\n",
      "  dataStaff['ET']=dataStaff['ET'].str.replace('.0','')\n"
     ]
    }
   ],
   "source": [
    "# remove the decimal point from the ET column:\n",
    "dataStaff['ET']=dataStaff['ET'].str.replace('.0','')\n",
    "\n",
    "# dataStaff['ET']=dataStaff['ET'].str.strip('.')[0]"
   ]
  },
  {
   "cell_type": "code",
   "execution_count": 17,
   "metadata": {},
   "outputs": [],
   "source": [
    "dataStaff=dataStaff[dataStaff['Orientation']=='Arrival']"
   ]
  },
  {
   "cell_type": "code",
   "execution_count": 38,
   "metadata": {},
   "outputs": [
    {
     "data": {
      "text/plain": [
       "(10113, 10)"
      ]
     },
     "execution_count": 38,
     "metadata": {},
     "output_type": "execute_result"
    }
   ],
   "source": [
    "dataStaff.shape"
   ]
  },
  {
   "cell_type": "code",
   "execution_count": 18,
   "metadata": {},
   "outputs": [
    {
     "data": {
      "text/plain": [
       "(10113, 10)"
      ]
     },
     "execution_count": 18,
     "metadata": {},
     "output_type": "execute_result"
    }
   ],
   "source": [
    "dataStaff.shape"
   ]
  },
  {
   "cell_type": "code",
   "execution_count": 180,
   "metadata": {},
   "outputs": [],
   "source": [
    "# dataStaff ET to hours:minutes\n",
    "dataStaff['ET']=pd.to_datetime(dataStaff['ET'], format='%H:%M').dt.strftime('%H:%M')\n"
   ]
  },
  {
   "cell_type": "code",
   "execution_count": 19,
   "metadata": {},
   "outputs": [
    {
     "data": {
      "text/html": [
       "<div>\n",
       "<style scoped>\n",
       "    .dataframe tbody tr th:only-of-type {\n",
       "        vertical-align: middle;\n",
       "    }\n",
       "\n",
       "    .dataframe tbody tr th {\n",
       "        vertical-align: top;\n",
       "    }\n",
       "\n",
       "    .dataframe thead th {\n",
       "        text-align: right;\n",
       "    }\n",
       "</style>\n",
       "<table border=\"1\" class=\"dataframe\">\n",
       "  <thead>\n",
       "    <tr style=\"text-align: right;\">\n",
       "      <th></th>\n",
       "      <th>Flight Date</th>\n",
       "      <th>Orientation</th>\n",
       "      <th>Flight</th>\n",
       "      <th>ST</th>\n",
       "      <th>ET</th>\n",
       "      <th>RLO</th>\n",
       "      <th>RSM</th>\n",
       "      <th>EO</th>\n",
       "      <th>AA</th>\n",
       "      <th>staff</th>\n",
       "    </tr>\n",
       "  </thead>\n",
       "  <tbody>\n",
       "    <tr>\n",
       "      <th>20208</th>\n",
       "      <td>30-11-2022</td>\n",
       "      <td>Arrival</td>\n",
       "      <td>SQ 193</td>\n",
       "      <td>2315</td>\n",
       "      <td>NaT</td>\n",
       "      <td>1.0</td>\n",
       "      <td>2</td>\n",
       "      <td>1</td>\n",
       "      <td>1.0</td>\n",
       "      <td>5.0</td>\n",
       "    </tr>\n",
       "    <tr>\n",
       "      <th>20209</th>\n",
       "      <td>30-11-2022</td>\n",
       "      <td>Arrival</td>\n",
       "      <td>TR 653</td>\n",
       "      <td>2315</td>\n",
       "      <td>NaT</td>\n",
       "      <td>1.0</td>\n",
       "      <td>2</td>\n",
       "      <td>1</td>\n",
       "      <td>1.0</td>\n",
       "      <td>5.0</td>\n",
       "    </tr>\n",
       "    <tr>\n",
       "      <th>20210</th>\n",
       "      <td>30-11-2022</td>\n",
       "      <td>Arrival</td>\n",
       "      <td>SQ 713</td>\n",
       "      <td>2330</td>\n",
       "      <td>NaT</td>\n",
       "      <td>1.0</td>\n",
       "      <td>2</td>\n",
       "      <td>1</td>\n",
       "      <td>1.0</td>\n",
       "      <td>5.0</td>\n",
       "    </tr>\n",
       "    <tr>\n",
       "      <th>20212</th>\n",
       "      <td>30-11-2022</td>\n",
       "      <td>Arrival</td>\n",
       "      <td>TR 617</td>\n",
       "      <td>2340</td>\n",
       "      <td>NaT</td>\n",
       "      <td>1.0</td>\n",
       "      <td>3</td>\n",
       "      <td>1</td>\n",
       "      <td>1.0</td>\n",
       "      <td>6.0</td>\n",
       "    </tr>\n",
       "    <tr>\n",
       "      <th>20218</th>\n",
       "      <td>30-11-2022</td>\n",
       "      <td>Arrival</td>\n",
       "      <td>SQ 897</td>\n",
       "      <td>2355</td>\n",
       "      <td>NaT</td>\n",
       "      <td>1.0</td>\n",
       "      <td>1</td>\n",
       "      <td>1</td>\n",
       "      <td>1.0</td>\n",
       "      <td>4.0</td>\n",
       "    </tr>\n",
       "  </tbody>\n",
       "</table>\n",
       "</div>"
      ],
      "text/plain": [
       "      Flight Date Orientation  Flight    ST   ET  RLO   RSM  EO   AA  staff\n",
       "20208  30-11-2022     Arrival  SQ 193  2315  NaT   1.0    2   1  1.0    5.0\n",
       "20209  30-11-2022     Arrival  TR 653  2315  NaT   1.0    2   1  1.0    5.0\n",
       "20210  30-11-2022     Arrival  SQ 713  2330  NaT   1.0    2   1  1.0    5.0\n",
       "20212  30-11-2022     Arrival  TR 617  2340  NaT   1.0    3   1  1.0    6.0\n",
       "20218  30-11-2022     Arrival  SQ 897  2355  NaT   1.0    1   1  1.0    4.0"
      ]
     },
     "execution_count": 19,
     "metadata": {},
     "output_type": "execute_result"
    }
   ],
   "source": [
    "dataStaff.tail()"
   ]
  },
  {
   "cell_type": "code",
   "execution_count": null,
   "metadata": {},
   "outputs": [],
   "source": []
  },
  {
   "cell_type": "code",
   "execution_count": 24,
   "metadata": {},
   "outputs": [],
   "source": [
    "# save the data\n",
    "data.to_excel('J:\\\\SATS\\\\CLEAN_SATS_RAM.xlsx')"
   ]
  },
  {
   "cell_type": "code",
   "execution_count": 20,
   "metadata": {},
   "outputs": [
    {
     "ename": "NameError",
     "evalue": "name 'data' is not defined",
     "output_type": "error",
     "traceback": [
      "\u001b[1;31m---------------------------------------------------------------------------\u001b[0m",
      "\u001b[1;31mNameError\u001b[0m                                 Traceback (most recent call last)",
      "Cell \u001b[1;32mIn [20], line 2\u001b[0m\n\u001b[0;32m      1\u001b[0m \u001b[39m#  group and count all the flights by staff\u001b[39;00m\n\u001b[1;32m----> 2\u001b[0m data\u001b[39m.\u001b[39mgroupby(\u001b[39m'\u001b[39m\u001b[39mstaff\u001b[39m\u001b[39m'\u001b[39m)[\u001b[39m'\u001b[39m\u001b[39mFlight\u001b[39m\u001b[39m'\u001b[39m]\u001b[39m.\u001b[39mcount()\n",
      "\u001b[1;31mNameError\u001b[0m: name 'data' is not defined"
     ]
    }
   ],
   "source": [
    "#  group and count all the flights by staff\n",
    "data.groupby('staff')['Flight'].count()"
   ]
  },
  {
   "attachments": {},
   "cell_type": "markdown",
   "metadata": {},
   "source": [
    "# Read clean STAT RAM "
   ]
  },
  {
   "cell_type": "code",
   "execution_count": 70,
   "metadata": {},
   "outputs": [],
   "source": [
    "import pandas as pd\n",
    "dataStaff=pd.read_excel('J:\\\\SATS\\\\CLEAN_SATS_RAM.xlsx')"
   ]
  },
  {
   "cell_type": "code",
   "execution_count": 71,
   "metadata": {},
   "outputs": [
    {
     "data": {
      "text/html": [
       "<div>\n",
       "<style scoped>\n",
       "    .dataframe tbody tr th:only-of-type {\n",
       "        vertical-align: middle;\n",
       "    }\n",
       "\n",
       "    .dataframe tbody tr th {\n",
       "        vertical-align: top;\n",
       "    }\n",
       "\n",
       "    .dataframe thead th {\n",
       "        text-align: right;\n",
       "    }\n",
       "</style>\n",
       "<table border=\"1\" class=\"dataframe\">\n",
       "  <thead>\n",
       "    <tr style=\"text-align: right;\">\n",
       "      <th></th>\n",
       "      <th>Unnamed: 0</th>\n",
       "      <th>Flight Date</th>\n",
       "      <th>Orientation</th>\n",
       "      <th>Flight</th>\n",
       "      <th>ST</th>\n",
       "      <th>ET</th>\n",
       "      <th>RLO</th>\n",
       "      <th>RSM</th>\n",
       "      <th>EO</th>\n",
       "      <th>AA</th>\n",
       "      <th>staff</th>\n",
       "    </tr>\n",
       "  </thead>\n",
       "  <tbody>\n",
       "    <tr>\n",
       "      <th>0</th>\n",
       "      <td>0</td>\n",
       "      <td>2022-09-01</td>\n",
       "      <td>Departure</td>\n",
       "      <td>SQ 225</td>\n",
       "      <td>5</td>\n",
       "      <td>21.0</td>\n",
       "      <td>1</td>\n",
       "      <td>3</td>\n",
       "      <td>1</td>\n",
       "      <td>2</td>\n",
       "      <td>7</td>\n",
       "    </tr>\n",
       "    <tr>\n",
       "      <th>1</th>\n",
       "      <td>1</td>\n",
       "      <td>2022-09-01</td>\n",
       "      <td>Departure</td>\n",
       "      <td>SQ 608</td>\n",
       "      <td>10</td>\n",
       "      <td>11.0</td>\n",
       "      <td>1</td>\n",
       "      <td>3</td>\n",
       "      <td>0</td>\n",
       "      <td>2</td>\n",
       "      <td>6</td>\n",
       "    </tr>\n",
       "    <tr>\n",
       "      <th>2</th>\n",
       "      <td>2</td>\n",
       "      <td>2022-09-01</td>\n",
       "      <td>Arrival</td>\n",
       "      <td>SQ 208</td>\n",
       "      <td>15</td>\n",
       "      <td>21.0</td>\n",
       "      <td>1</td>\n",
       "      <td>4</td>\n",
       "      <td>1</td>\n",
       "      <td>2</td>\n",
       "      <td>8</td>\n",
       "    </tr>\n",
       "    <tr>\n",
       "      <th>3</th>\n",
       "      <td>3</td>\n",
       "      <td>2022-09-01</td>\n",
       "      <td>Departure</td>\n",
       "      <td>SQ 336</td>\n",
       "      <td>15</td>\n",
       "      <td>21.0</td>\n",
       "      <td>1</td>\n",
       "      <td>3</td>\n",
       "      <td>1</td>\n",
       "      <td>2</td>\n",
       "      <td>7</td>\n",
       "    </tr>\n",
       "    <tr>\n",
       "      <th>4</th>\n",
       "      <td>4</td>\n",
       "      <td>2022-09-01</td>\n",
       "      <td>Arrival</td>\n",
       "      <td>SQ 242</td>\n",
       "      <td>20</td>\n",
       "      <td>40.0</td>\n",
       "      <td>1</td>\n",
       "      <td>3</td>\n",
       "      <td>1</td>\n",
       "      <td>1</td>\n",
       "      <td>6</td>\n",
       "    </tr>\n",
       "  </tbody>\n",
       "</table>\n",
       "</div>"
      ],
      "text/plain": [
       "   Unnamed: 0 Flight Date Orientation  Flight  ST    ET  RLO   RSM  EO  AA  \\\n",
       "0           0  2022-09-01   Departure  SQ 225   5  21.0     1    3   1   2   \n",
       "1           1  2022-09-01   Departure  SQ 608  10  11.0     1    3   0   2   \n",
       "2           2  2022-09-01     Arrival  SQ 208  15  21.0     1    4   1   2   \n",
       "3           3  2022-09-01   Departure  SQ 336  15  21.0     1    3   1   2   \n",
       "4           4  2022-09-01     Arrival  SQ 242  20  40.0     1    3   1   1   \n",
       "\n",
       "   staff  \n",
       "0      7  \n",
       "1      6  \n",
       "2      8  \n",
       "3      7  \n",
       "4      6  "
      ]
     },
     "execution_count": 71,
     "metadata": {},
     "output_type": "execute_result"
    }
   ],
   "source": [
    "dataStaff.head()"
   ]
  },
  {
   "cell_type": "code",
   "execution_count": 72,
   "metadata": {},
   "outputs": [
    {
     "data": {
      "text/plain": [
       "(20219, 11)"
      ]
     },
     "execution_count": 72,
     "metadata": {},
     "output_type": "execute_result"
    }
   ],
   "source": [
    "dataStaff.shape"
   ]
  },
  {
   "cell_type": "code",
   "execution_count": 44,
   "metadata": {},
   "outputs": [],
   "source": [
    "#  remove where Flight No, Flight Date and In-bound Time all three are duplicated all together:\n",
    "# data1.drop_duplicates(subset=['Flight No','Flight Date','In-bound Time'],keep='first',inplace=True)\n"
   ]
  },
  {
   "cell_type": "code",
   "execution_count": 73,
   "metadata": {},
   "outputs": [
    {
     "data": {
      "text/html": [
       "<div>\n",
       "<style scoped>\n",
       "    .dataframe tbody tr th:only-of-type {\n",
       "        vertical-align: middle;\n",
       "    }\n",
       "\n",
       "    .dataframe tbody tr th {\n",
       "        vertical-align: top;\n",
       "    }\n",
       "\n",
       "    .dataframe thead th {\n",
       "        text-align: right;\n",
       "    }\n",
       "</style>\n",
       "<table border=\"1\" class=\"dataframe\">\n",
       "  <thead>\n",
       "    <tr style=\"text-align: right;\">\n",
       "      <th></th>\n",
       "      <th>Unnamed: 0</th>\n",
       "      <th>Flight Date</th>\n",
       "      <th>Orientation</th>\n",
       "      <th>Flight</th>\n",
       "      <th>ST</th>\n",
       "      <th>ET</th>\n",
       "      <th>RLO</th>\n",
       "      <th>RSM</th>\n",
       "      <th>EO</th>\n",
       "      <th>AA</th>\n",
       "      <th>staff</th>\n",
       "    </tr>\n",
       "  </thead>\n",
       "  <tbody>\n",
       "    <tr>\n",
       "      <th>2</th>\n",
       "      <td>2</td>\n",
       "      <td>2022-09-01</td>\n",
       "      <td>Arrival</td>\n",
       "      <td>SQ 208</td>\n",
       "      <td>15</td>\n",
       "      <td>21.0</td>\n",
       "      <td>1</td>\n",
       "      <td>4</td>\n",
       "      <td>1</td>\n",
       "      <td>2</td>\n",
       "      <td>8</td>\n",
       "    </tr>\n",
       "    <tr>\n",
       "      <th>4</th>\n",
       "      <td>4</td>\n",
       "      <td>2022-09-01</td>\n",
       "      <td>Arrival</td>\n",
       "      <td>SQ 242</td>\n",
       "      <td>20</td>\n",
       "      <td>40.0</td>\n",
       "      <td>1</td>\n",
       "      <td>3</td>\n",
       "      <td>1</td>\n",
       "      <td>1</td>\n",
       "      <td>6</td>\n",
       "    </tr>\n",
       "    <tr>\n",
       "      <th>11</th>\n",
       "      <td>11</td>\n",
       "      <td>2022-09-01</td>\n",
       "      <td>Arrival</td>\n",
       "      <td>SQ 11</td>\n",
       "      <td>115</td>\n",
       "      <td>38.0</td>\n",
       "      <td>1</td>\n",
       "      <td>3</td>\n",
       "      <td>1</td>\n",
       "      <td>2</td>\n",
       "      <td>7</td>\n",
       "    </tr>\n",
       "    <tr>\n",
       "      <th>22</th>\n",
       "      <td>22</td>\n",
       "      <td>2022-09-01</td>\n",
       "      <td>Arrival</td>\n",
       "      <td>TR 25</td>\n",
       "      <td>355</td>\n",
       "      <td>355.0</td>\n",
       "      <td>1</td>\n",
       "      <td>3</td>\n",
       "      <td>1</td>\n",
       "      <td>1</td>\n",
       "      <td>6</td>\n",
       "    </tr>\n",
       "    <tr>\n",
       "      <th>23</th>\n",
       "      <td>23</td>\n",
       "      <td>2022-09-01</td>\n",
       "      <td>Arrival</td>\n",
       "      <td>TR 509</td>\n",
       "      <td>405</td>\n",
       "      <td>510.0</td>\n",
       "      <td>1</td>\n",
       "      <td>3</td>\n",
       "      <td>1</td>\n",
       "      <td>2</td>\n",
       "      <td>7</td>\n",
       "    </tr>\n",
       "    <tr>\n",
       "      <th>...</th>\n",
       "      <td>...</td>\n",
       "      <td>...</td>\n",
       "      <td>...</td>\n",
       "      <td>...</td>\n",
       "      <td>...</td>\n",
       "      <td>...</td>\n",
       "      <td>...</td>\n",
       "      <td>...</td>\n",
       "      <td>...</td>\n",
       "      <td>...</td>\n",
       "      <td>...</td>\n",
       "    </tr>\n",
       "    <tr>\n",
       "      <th>20208</th>\n",
       "      <td>20208</td>\n",
       "      <td>2022-11-30</td>\n",
       "      <td>Arrival</td>\n",
       "      <td>SQ 193</td>\n",
       "      <td>2315</td>\n",
       "      <td>2304.0</td>\n",
       "      <td>1</td>\n",
       "      <td>2</td>\n",
       "      <td>1</td>\n",
       "      <td>1</td>\n",
       "      <td>5</td>\n",
       "    </tr>\n",
       "    <tr>\n",
       "      <th>20209</th>\n",
       "      <td>20209</td>\n",
       "      <td>2022-11-30</td>\n",
       "      <td>Arrival</td>\n",
       "      <td>TR 653</td>\n",
       "      <td>2315</td>\n",
       "      <td>2353.0</td>\n",
       "      <td>1</td>\n",
       "      <td>2</td>\n",
       "      <td>1</td>\n",
       "      <td>1</td>\n",
       "      <td>5</td>\n",
       "    </tr>\n",
       "    <tr>\n",
       "      <th>20210</th>\n",
       "      <td>20210</td>\n",
       "      <td>2022-11-30</td>\n",
       "      <td>Arrival</td>\n",
       "      <td>SQ 713</td>\n",
       "      <td>2330</td>\n",
       "      <td>105.0</td>\n",
       "      <td>1</td>\n",
       "      <td>2</td>\n",
       "      <td>1</td>\n",
       "      <td>1</td>\n",
       "      <td>5</td>\n",
       "    </tr>\n",
       "    <tr>\n",
       "      <th>20212</th>\n",
       "      <td>20212</td>\n",
       "      <td>2022-11-30</td>\n",
       "      <td>Arrival</td>\n",
       "      <td>TR 617</td>\n",
       "      <td>2340</td>\n",
       "      <td>2353.0</td>\n",
       "      <td>1</td>\n",
       "      <td>3</td>\n",
       "      <td>1</td>\n",
       "      <td>1</td>\n",
       "      <td>6</td>\n",
       "    </tr>\n",
       "    <tr>\n",
       "      <th>20218</th>\n",
       "      <td>20218</td>\n",
       "      <td>2022-11-30</td>\n",
       "      <td>Arrival</td>\n",
       "      <td>SQ 897</td>\n",
       "      <td>2355</td>\n",
       "      <td>2338.0</td>\n",
       "      <td>1</td>\n",
       "      <td>1</td>\n",
       "      <td>1</td>\n",
       "      <td>1</td>\n",
       "      <td>4</td>\n",
       "    </tr>\n",
       "  </tbody>\n",
       "</table>\n",
       "<p>10113 rows × 11 columns</p>\n",
       "</div>"
      ],
      "text/plain": [
       "       Unnamed: 0 Flight Date Orientation  Flight    ST      ET  RLO   RSM  \\\n",
       "2               2  2022-09-01     Arrival  SQ 208    15    21.0     1    4   \n",
       "4               4  2022-09-01     Arrival  SQ 242    20    40.0     1    3   \n",
       "11             11  2022-09-01     Arrival   SQ 11   115    38.0     1    3   \n",
       "22             22  2022-09-01     Arrival   TR 25   355   355.0     1    3   \n",
       "23             23  2022-09-01     Arrival  TR 509   405   510.0     1    3   \n",
       "...           ...         ...         ...     ...   ...     ...   ...  ...   \n",
       "20208       20208  2022-11-30     Arrival  SQ 193  2315  2304.0     1    2   \n",
       "20209       20209  2022-11-30     Arrival  TR 653  2315  2353.0     1    2   \n",
       "20210       20210  2022-11-30     Arrival  SQ 713  2330   105.0     1    2   \n",
       "20212       20212  2022-11-30     Arrival  TR 617  2340  2353.0     1    3   \n",
       "20218       20218  2022-11-30     Arrival  SQ 897  2355  2338.0     1    1   \n",
       "\n",
       "       EO  AA  staff  \n",
       "2       1   2      8  \n",
       "4       1   1      6  \n",
       "11      1   2      7  \n",
       "22      1   1      6  \n",
       "23      1   2      7  \n",
       "...    ..  ..    ...  \n",
       "20208   1   1      5  \n",
       "20209   1   1      5  \n",
       "20210   1   1      5  \n",
       "20212   1   1      6  \n",
       "20218   1   1      4  \n",
       "\n",
       "[10113 rows x 11 columns]"
      ]
     },
     "execution_count": 73,
     "metadata": {},
     "output_type": "execute_result"
    }
   ],
   "source": [
    "dataStaff[dataStaff['Orientation']=='Arrival']"
   ]
  },
  {
   "cell_type": "code",
   "execution_count": 74,
   "metadata": {},
   "outputs": [
    {
     "data": {
      "text/plain": [
       "0    SQ225\n",
       "1    SQ608\n",
       "2    SQ208\n",
       "3    SQ336\n",
       "4    SQ242\n",
       "Name: Flight, dtype: object"
      ]
     },
     "execution_count": 74,
     "metadata": {},
     "output_type": "execute_result"
    }
   ],
   "source": [
    "# remove the space in between the flight number\n",
    "\n",
    "dataStaff['Flight']=dataStaff['Flight'].str.strip()\n",
    "dataStaff['Flight'] = dataStaff['Flight'].str.replace(' ', '')\n",
    "dataStaff['Flight'].head()"
   ]
  },
  {
   "cell_type": "code",
   "execution_count": 75,
   "metadata": {},
   "outputs": [
    {
     "data": {
      "text/plain": [
       "(10113, 11)"
      ]
     },
     "execution_count": 75,
     "metadata": {},
     "output_type": "execute_result"
    }
   ],
   "source": [
    "dataStaff=dataStaff[dataStaff['Orientation']=='Arrival']\n",
    "dataStaff.shape"
   ]
  },
  {
   "cell_type": "code",
   "execution_count": 76,
   "metadata": {},
   "outputs": [],
   "source": [
    "# remove any rows where the Orientation is not Arrival\n",
    "dataStaff=dataStaff[dataStaff['Orientation']=='Arrival']"
   ]
  },
  {
   "cell_type": "code",
   "execution_count": 77,
   "metadata": {},
   "outputs": [
    {
     "data": {
      "text/plain": [
       "(10113, 11)"
      ]
     },
     "execution_count": 77,
     "metadata": {},
     "output_type": "execute_result"
    }
   ],
   "source": [
    "dataStaff.shape"
   ]
  },
  {
   "cell_type": "code",
   "execution_count": 301,
   "metadata": {},
   "outputs": [
    {
     "name": "stderr",
     "output_type": "stream",
     "text": [
      "C:\\Users\\pc\\AppData\\Local\\Temp\\ipykernel_28092\\33504595.py:2: SettingWithCopyWarning: \n",
      "A value is trying to be set on a copy of a slice from a DataFrame.\n",
      "Try using .loc[row_indexer,col_indexer] = value instead\n",
      "\n",
      "See the caveats in the documentation: https://pandas.pydata.org/pandas-docs/stable/user_guide/indexing.html#returning-a-view-versus-a-copy\n",
      "  arrivalFlights['Flight Date']=pd.to_datetime(arrivalFlights['Flight Date'])\n"
     ]
    }
   ],
   "source": [
    "# set the date column as pandas date\n",
    "# dataStaff['Flight Date']=pd.to_datetime(dataStaff['Flight Date'])\n",
    "# arrivalFlights['Flight Date']=pd.to_datetime(arrivalFlights['Flight Date'])"
   ]
  },
  {
   "cell_type": "code",
   "execution_count": 52,
   "metadata": {},
   "outputs": [
    {
     "ename": "NameError",
     "evalue": "name 'arrivalFlights' is not defined",
     "output_type": "error",
     "traceback": [
      "\u001b[1;31m---------------------------------------------------------------------------\u001b[0m",
      "\u001b[1;31mNameError\u001b[0m                                 Traceback (most recent call last)",
      "Cell \u001b[1;32mIn [52], line 1\u001b[0m\n\u001b[1;32m----> 1\u001b[0m arrivalFlights[\u001b[39m'\u001b[39m\u001b[39mFlight Date\u001b[39m\u001b[39m'\u001b[39m]\u001b[39m.\u001b[39mhead()\n",
      "\u001b[1;31mNameError\u001b[0m: name 'arrivalFlights' is not defined"
     ]
    }
   ],
   "source": [
    "# arrivalFlights['Flight Date'].head()"
   ]
  },
  {
   "attachments": {},
   "cell_type": "markdown",
   "metadata": {},
   "source": [
    "# Data Bugagge "
   ]
  },
  {
   "cell_type": "code",
   "execution_count": 78,
   "metadata": {},
   "outputs": [],
   "source": [
    "# dataBugagge['Flight Date']=pd.to_datetime(dataBugagge['Flight Date'])\n",
    "import pandas as pd\n",
    "dataBugagge=pd.read_excel('J:\\\\SATS\\\\Buggage.xlsx',sheet_name='in')"
   ]
  },
  {
   "cell_type": "code",
   "execution_count": 79,
   "metadata": {},
   "outputs": [
    {
     "data": {
      "text/plain": [
       "'\\ufeffSQ208'"
      ]
     },
     "execution_count": 79,
     "metadata": {},
     "output_type": "execute_result"
    }
   ],
   "source": [
    "dataBugagge['Flight No'].iloc[2]"
   ]
  },
  {
   "cell_type": "code",
   "execution_count": 80,
   "metadata": {},
   "outputs": [],
   "source": [
    "dataBugagge['Flight No'] = dataBugagge['Flight No'].str.replace('\\ufeff','')\n"
   ]
  },
  {
   "cell_type": "code",
   "execution_count": 81,
   "metadata": {},
   "outputs": [],
   "source": [
    "dataBugagge['Flight No'] = dataBugagge['Flight No'].str.lstrip()\n"
   ]
  },
  {
   "cell_type": "code",
   "execution_count": 82,
   "metadata": {},
   "outputs": [
    {
     "data": {
      "text/plain": [
       "0   2022-09-01\n",
       "1   2022-09-01\n",
       "2   2022-09-01\n",
       "3   2022-09-01\n",
       "4   2022-09-01\n",
       "Name: Flight Date, dtype: datetime64[ns]"
      ]
     },
     "execution_count": 82,
     "metadata": {},
     "output_type": "execute_result"
    }
   ],
   "source": [
    "dataBugagge['Flight Date'].head()"
   ]
  },
  {
   "cell_type": "code",
   "execution_count": 83,
   "metadata": {},
   "outputs": [
    {
     "data": {
      "text/plain": [
       "0"
      ]
     },
     "execution_count": 83,
     "metadata": {},
     "output_type": "execute_result"
    }
   ],
   "source": [
    "# any Flight No with leading \\ufeff?\n",
    "dataBugagge['Flight No'].str.contains('\\ufeff').sum()"
   ]
  },
  {
   "cell_type": "code",
   "execution_count": 84,
   "metadata": {},
   "outputs": [
    {
     "data": {
      "text/plain": [
       "Index(['Flight No', 'Flight Date', 'In-bound Time', 'Trip Number',\n",
       "       'ULD Number', 'Pickup Time', 'Dropoff Time'],\n",
       "      dtype='object')"
      ]
     },
     "execution_count": 84,
     "metadata": {},
     "output_type": "execute_result"
    }
   ],
   "source": [
    "dataBugagge.columns"
   ]
  },
  {
   "cell_type": "code",
   "execution_count": null,
   "metadata": {},
   "outputs": [],
   "source": []
  },
  {
   "cell_type": "code",
   "execution_count": 85,
   "metadata": {},
   "outputs": [],
   "source": [
    "# dataBugagge['Drop Off Time']=pd.to_datetime(dataBugagge['Drop Off Time'])\n",
    "# set the Drop Off Time for each day the last one:\n",
    "\n",
    "dataBugagge['Dropoff TimeN']=dataBugagge.groupby(['Flight Date','Flight No'])['Dropoff Time'].transform('last')\n"
   ]
  },
  {
   "cell_type": "code",
   "execution_count": 86,
   "metadata": {},
   "outputs": [
    {
     "data": {
      "text/plain": [
       "'SQ208'"
      ]
     },
     "execution_count": 86,
     "metadata": {},
     "output_type": "execute_result"
    }
   ],
   "source": [
    "dataBugagge['Flight No'].iloc[2]"
   ]
  },
  {
   "cell_type": "code",
   "execution_count": 87,
   "metadata": {},
   "outputs": [],
   "source": [
    "dataBugagge['Dropoff Time'].isnull().sum()\n",
    "# fill null values with 0 datetime\n",
    "dataBugagge['Dropoff Time'].fillna(pd.to_datetime('00:00'),inplace=True)"
   ]
  },
  {
   "cell_type": "code",
   "execution_count": 88,
   "metadata": {},
   "outputs": [
    {
     "data": {
      "text/plain": [
       "Flight No            0\n",
       "Flight Date          1\n",
       "In-bound Time       73\n",
       "Trip Number          1\n",
       "ULD Number           1\n",
       "Pickup Time      46992\n",
       "Dropoff Time         0\n",
       "Dropoff TimeN    35778\n",
       "dtype: int64"
      ]
     },
     "execution_count": 88,
     "metadata": {},
     "output_type": "execute_result"
    }
   ],
   "source": [
    "dataBugagge.isnull().sum()"
   ]
  },
  {
   "cell_type": "code",
   "execution_count": 89,
   "metadata": {},
   "outputs": [
    {
     "data": {
      "text/html": [
       "<div>\n",
       "<style scoped>\n",
       "    .dataframe tbody tr th:only-of-type {\n",
       "        vertical-align: middle;\n",
       "    }\n",
       "\n",
       "    .dataframe tbody tr th {\n",
       "        vertical-align: top;\n",
       "    }\n",
       "\n",
       "    .dataframe thead th {\n",
       "        text-align: right;\n",
       "    }\n",
       "</style>\n",
       "<table border=\"1\" class=\"dataframe\">\n",
       "  <thead>\n",
       "    <tr style=\"text-align: right;\">\n",
       "      <th></th>\n",
       "      <th>Flight No</th>\n",
       "      <th>Flight Date</th>\n",
       "      <th>In-bound Time</th>\n",
       "      <th>Trip Number</th>\n",
       "      <th>ULD Number</th>\n",
       "      <th>Pickup Time</th>\n",
       "      <th>Dropoff Time</th>\n",
       "      <th>Dropoff TimeN</th>\n",
       "    </tr>\n",
       "  </thead>\n",
       "  <tbody>\n",
       "    <tr>\n",
       "      <th>0</th>\n",
       "      <td>SQ208</td>\n",
       "      <td>2022-09-01</td>\n",
       "      <td>2022-09-01 00:21:00</td>\n",
       "      <td>1.0</td>\n",
       "      <td>AKE89138SQ</td>\n",
       "      <td>2022-09-01 00:33:15.220</td>\n",
       "      <td>2022-09-01 00:37:16.930</td>\n",
       "      <td>2022-09-01 00:48:19.473</td>\n",
       "    </tr>\n",
       "    <tr>\n",
       "      <th>1</th>\n",
       "      <td>SQ208</td>\n",
       "      <td>2022-09-01</td>\n",
       "      <td>2022-09-01 00:21:00</td>\n",
       "      <td>1.0</td>\n",
       "      <td>AKE29231SQ</td>\n",
       "      <td>2022-09-01 00:33:15.217</td>\n",
       "      <td>2022-09-01 00:37:16.930</td>\n",
       "      <td>2022-09-01 00:48:19.473</td>\n",
       "    </tr>\n",
       "    <tr>\n",
       "      <th>2</th>\n",
       "      <td>SQ208</td>\n",
       "      <td>2022-09-01</td>\n",
       "      <td>2022-09-01 00:21:00</td>\n",
       "      <td>2.0</td>\n",
       "      <td>AKE28054SQ</td>\n",
       "      <td>2022-09-01 00:33:15.220</td>\n",
       "      <td>2022-09-01 00:37:16.933</td>\n",
       "      <td>2022-09-01 00:48:19.473</td>\n",
       "    </tr>\n",
       "    <tr>\n",
       "      <th>3</th>\n",
       "      <td>SQ208</td>\n",
       "      <td>2022-09-01</td>\n",
       "      <td>2022-09-01 00:21:00</td>\n",
       "      <td>2.0</td>\n",
       "      <td>AKE87419SQ</td>\n",
       "      <td>2022-09-01 00:33:15.220</td>\n",
       "      <td>2022-09-01 00:37:16.933</td>\n",
       "      <td>2022-09-01 00:48:19.473</td>\n",
       "    </tr>\n",
       "    <tr>\n",
       "      <th>4</th>\n",
       "      <td>SQ208</td>\n",
       "      <td>2022-09-01</td>\n",
       "      <td>2022-09-01 00:21:00</td>\n",
       "      <td>2.0</td>\n",
       "      <td>AKE80186SQ</td>\n",
       "      <td>2022-09-01 00:33:15.220</td>\n",
       "      <td>2022-09-01 00:37:16.933</td>\n",
       "      <td>2022-09-01 00:48:19.473</td>\n",
       "    </tr>\n",
       "  </tbody>\n",
       "</table>\n",
       "</div>"
      ],
      "text/plain": [
       "  Flight No Flight Date       In-bound Time  Trip Number  ULD Number  \\\n",
       "0     SQ208  2022-09-01 2022-09-01 00:21:00          1.0  AKE89138SQ   \n",
       "1     SQ208  2022-09-01 2022-09-01 00:21:00          1.0  AKE29231SQ   \n",
       "2     SQ208  2022-09-01 2022-09-01 00:21:00          2.0  AKE28054SQ   \n",
       "3     SQ208  2022-09-01 2022-09-01 00:21:00          2.0  AKE87419SQ   \n",
       "4     SQ208  2022-09-01 2022-09-01 00:21:00          2.0  AKE80186SQ   \n",
       "\n",
       "              Pickup Time            Dropoff Time           Dropoff TimeN  \n",
       "0 2022-09-01 00:33:15.220 2022-09-01 00:37:16.930 2022-09-01 00:48:19.473  \n",
       "1 2022-09-01 00:33:15.217 2022-09-01 00:37:16.930 2022-09-01 00:48:19.473  \n",
       "2 2022-09-01 00:33:15.220 2022-09-01 00:37:16.933 2022-09-01 00:48:19.473  \n",
       "3 2022-09-01 00:33:15.220 2022-09-01 00:37:16.933 2022-09-01 00:48:19.473  \n",
       "4 2022-09-01 00:33:15.220 2022-09-01 00:37:16.933 2022-09-01 00:48:19.473  "
      ]
     },
     "execution_count": 89,
     "metadata": {},
     "output_type": "execute_result"
    }
   ],
   "source": [
    "dataBugagge.head()"
   ]
  },
  {
   "attachments": {},
   "cell_type": "markdown",
   "metadata": {},
   "source": [
    "## Trip number against each flight\n"
   ]
  },
  {
   "cell_type": "code",
   "execution_count": 90,
   "metadata": {},
   "outputs": [],
   "source": [
    "# count trips by flight number each day and save it to a new column:\n",
    "dataBugagge['Total ULDS']=dataBugagge.groupby(['Flight Date','Flight No'])['Trip Number'].transform('count')\n",
    "# dataBugagge.groupby(['Flight Date','Flight No'])['Trip Number'].count()"
   ]
  },
  {
   "cell_type": "code",
   "execution_count": 46,
   "metadata": {},
   "outputs": [],
   "source": [
    "dataBugagge['Total ULDS']=dataBugagge.groupby(['Flight Date','Flight No'])['Trip Number'].transform('count')"
   ]
  },
  {
   "cell_type": "code",
   "execution_count": 91,
   "metadata": {},
   "outputs": [
    {
     "data": {
      "text/html": [
       "<div>\n",
       "<style scoped>\n",
       "    .dataframe tbody tr th:only-of-type {\n",
       "        vertical-align: middle;\n",
       "    }\n",
       "\n",
       "    .dataframe tbody tr th {\n",
       "        vertical-align: top;\n",
       "    }\n",
       "\n",
       "    .dataframe thead th {\n",
       "        text-align: right;\n",
       "    }\n",
       "</style>\n",
       "<table border=\"1\" class=\"dataframe\">\n",
       "  <thead>\n",
       "    <tr style=\"text-align: right;\">\n",
       "      <th></th>\n",
       "      <th>Flight No</th>\n",
       "      <th>Flight Date</th>\n",
       "      <th>In-bound Time</th>\n",
       "      <th>Trip Number</th>\n",
       "      <th>ULD Number</th>\n",
       "      <th>Pickup Time</th>\n",
       "      <th>Dropoff Time</th>\n",
       "      <th>Dropoff TimeN</th>\n",
       "      <th>Total ULDS</th>\n",
       "    </tr>\n",
       "  </thead>\n",
       "  <tbody>\n",
       "    <tr>\n",
       "      <th>0</th>\n",
       "      <td>SQ208</td>\n",
       "      <td>2022-09-01</td>\n",
       "      <td>2022-09-01 00:21:00</td>\n",
       "      <td>1.0</td>\n",
       "      <td>AKE89138SQ</td>\n",
       "      <td>2022-09-01 00:33:15.220</td>\n",
       "      <td>2022-09-01 00:37:16.930</td>\n",
       "      <td>2022-09-01 00:48:19.473</td>\n",
       "      <td>12.0</td>\n",
       "    </tr>\n",
       "    <tr>\n",
       "      <th>1</th>\n",
       "      <td>SQ208</td>\n",
       "      <td>2022-09-01</td>\n",
       "      <td>2022-09-01 00:21:00</td>\n",
       "      <td>1.0</td>\n",
       "      <td>AKE29231SQ</td>\n",
       "      <td>2022-09-01 00:33:15.217</td>\n",
       "      <td>2022-09-01 00:37:16.930</td>\n",
       "      <td>2022-09-01 00:48:19.473</td>\n",
       "      <td>12.0</td>\n",
       "    </tr>\n",
       "    <tr>\n",
       "      <th>2</th>\n",
       "      <td>SQ208</td>\n",
       "      <td>2022-09-01</td>\n",
       "      <td>2022-09-01 00:21:00</td>\n",
       "      <td>2.0</td>\n",
       "      <td>AKE28054SQ</td>\n",
       "      <td>2022-09-01 00:33:15.220</td>\n",
       "      <td>2022-09-01 00:37:16.933</td>\n",
       "      <td>2022-09-01 00:48:19.473</td>\n",
       "      <td>12.0</td>\n",
       "    </tr>\n",
       "    <tr>\n",
       "      <th>3</th>\n",
       "      <td>SQ208</td>\n",
       "      <td>2022-09-01</td>\n",
       "      <td>2022-09-01 00:21:00</td>\n",
       "      <td>2.0</td>\n",
       "      <td>AKE87419SQ</td>\n",
       "      <td>2022-09-01 00:33:15.220</td>\n",
       "      <td>2022-09-01 00:37:16.933</td>\n",
       "      <td>2022-09-01 00:48:19.473</td>\n",
       "      <td>12.0</td>\n",
       "    </tr>\n",
       "    <tr>\n",
       "      <th>4</th>\n",
       "      <td>SQ208</td>\n",
       "      <td>2022-09-01</td>\n",
       "      <td>2022-09-01 00:21:00</td>\n",
       "      <td>2.0</td>\n",
       "      <td>AKE80186SQ</td>\n",
       "      <td>2022-09-01 00:33:15.220</td>\n",
       "      <td>2022-09-01 00:37:16.933</td>\n",
       "      <td>2022-09-01 00:48:19.473</td>\n",
       "      <td>12.0</td>\n",
       "    </tr>\n",
       "  </tbody>\n",
       "</table>\n",
       "</div>"
      ],
      "text/plain": [
       "  Flight No Flight Date       In-bound Time  Trip Number  ULD Number  \\\n",
       "0     SQ208  2022-09-01 2022-09-01 00:21:00          1.0  AKE89138SQ   \n",
       "1     SQ208  2022-09-01 2022-09-01 00:21:00          1.0  AKE29231SQ   \n",
       "2     SQ208  2022-09-01 2022-09-01 00:21:00          2.0  AKE28054SQ   \n",
       "3     SQ208  2022-09-01 2022-09-01 00:21:00          2.0  AKE87419SQ   \n",
       "4     SQ208  2022-09-01 2022-09-01 00:21:00          2.0  AKE80186SQ   \n",
       "\n",
       "              Pickup Time            Dropoff Time           Dropoff TimeN  \\\n",
       "0 2022-09-01 00:33:15.220 2022-09-01 00:37:16.930 2022-09-01 00:48:19.473   \n",
       "1 2022-09-01 00:33:15.217 2022-09-01 00:37:16.930 2022-09-01 00:48:19.473   \n",
       "2 2022-09-01 00:33:15.220 2022-09-01 00:37:16.933 2022-09-01 00:48:19.473   \n",
       "3 2022-09-01 00:33:15.220 2022-09-01 00:37:16.933 2022-09-01 00:48:19.473   \n",
       "4 2022-09-01 00:33:15.220 2022-09-01 00:37:16.933 2022-09-01 00:48:19.473   \n",
       "\n",
       "   Total ULDS  \n",
       "0        12.0  \n",
       "1        12.0  \n",
       "2        12.0  \n",
       "3        12.0  \n",
       "4        12.0  "
      ]
     },
     "execution_count": 91,
     "metadata": {},
     "output_type": "execute_result"
    }
   ],
   "source": [
    "dataBugagge.head()"
   ]
  },
  {
   "cell_type": "code",
   "execution_count": 92,
   "metadata": {},
   "outputs": [],
   "source": [
    "# dataBugagge\n",
    "# drop the duplicate rows\n",
    "dataBugagge.drop_duplicates(subset=['Flight Date','Flight No'],keep='first',inplace=True)"
   ]
  },
  {
   "cell_type": "code",
   "execution_count": 94,
   "metadata": {},
   "outputs": [
    {
     "data": {
      "text/html": [
       "<div>\n",
       "<style scoped>\n",
       "    .dataframe tbody tr th:only-of-type {\n",
       "        vertical-align: middle;\n",
       "    }\n",
       "\n",
       "    .dataframe tbody tr th {\n",
       "        vertical-align: top;\n",
       "    }\n",
       "\n",
       "    .dataframe thead th {\n",
       "        text-align: right;\n",
       "    }\n",
       "</style>\n",
       "<table border=\"1\" class=\"dataframe\">\n",
       "  <thead>\n",
       "    <tr style=\"text-align: right;\">\n",
       "      <th></th>\n",
       "      <th>Flight No</th>\n",
       "      <th>Flight Date</th>\n",
       "      <th>In-bound Time</th>\n",
       "      <th>Trip Number</th>\n",
       "      <th>ULD Number</th>\n",
       "      <th>Pickup Time</th>\n",
       "      <th>Dropoff Time</th>\n",
       "      <th>Dropoff TimeN</th>\n",
       "      <th>Total ULDS</th>\n",
       "    </tr>\n",
       "  </thead>\n",
       "  <tbody>\n",
       "    <tr>\n",
       "      <th>0</th>\n",
       "      <td>SQ208</td>\n",
       "      <td>2022-09-01</td>\n",
       "      <td>2022-09-01 00:21:00</td>\n",
       "      <td>1.0</td>\n",
       "      <td>AKE89138SQ</td>\n",
       "      <td>2022-09-01 00:33:15.220</td>\n",
       "      <td>2022-09-01 00:37:16.930</td>\n",
       "      <td>2022-09-01 00:48:19.473</td>\n",
       "      <td>12.0</td>\n",
       "    </tr>\n",
       "    <tr>\n",
       "      <th>12</th>\n",
       "      <td>SQ11</td>\n",
       "      <td>2022-09-01</td>\n",
       "      <td>2022-09-01 00:38:00</td>\n",
       "      <td>1.0</td>\n",
       "      <td>AKE70581SQ</td>\n",
       "      <td>NaT</td>\n",
       "      <td>2023-01-17 00:00:00.000</td>\n",
       "      <td>NaT</td>\n",
       "      <td>13.0</td>\n",
       "    </tr>\n",
       "    <tr>\n",
       "      <th>25</th>\n",
       "      <td>SQ242</td>\n",
       "      <td>2022-09-01</td>\n",
       "      <td>2022-09-01 00:40:00</td>\n",
       "      <td>1.0</td>\n",
       "      <td>AKE80436SQ</td>\n",
       "      <td>2022-09-01 00:54:23.003</td>\n",
       "      <td>2022-09-01 00:55:44.893</td>\n",
       "      <td>2022-09-01 00:55:44.900</td>\n",
       "      <td>4.0</td>\n",
       "    </tr>\n",
       "    <tr>\n",
       "      <th>29</th>\n",
       "      <td>TR25</td>\n",
       "      <td>2022-09-01</td>\n",
       "      <td>2022-09-01 03:55:00</td>\n",
       "      <td>1.0</td>\n",
       "      <td>AKE84300SQ</td>\n",
       "      <td>2022-09-01 04:17:01.517</td>\n",
       "      <td>2022-09-01 04:22:18.260</td>\n",
       "      <td>2022-09-01 04:38:25.783</td>\n",
       "      <td>11.0</td>\n",
       "    </tr>\n",
       "    <tr>\n",
       "      <th>40</th>\n",
       "      <td>TR541</td>\n",
       "      <td>2022-09-01</td>\n",
       "      <td>2022-09-01 04:04:00</td>\n",
       "      <td>1.0</td>\n",
       "      <td>BT804</td>\n",
       "      <td>NaT</td>\n",
       "      <td>2023-01-17 00:00:00.000</td>\n",
       "      <td>NaT</td>\n",
       "      <td>4.0</td>\n",
       "    </tr>\n",
       "  </tbody>\n",
       "</table>\n",
       "</div>"
      ],
      "text/plain": [
       "   Flight No Flight Date       In-bound Time  Trip Number  ULD Number  \\\n",
       "0      SQ208  2022-09-01 2022-09-01 00:21:00          1.0  AKE89138SQ   \n",
       "12      SQ11  2022-09-01 2022-09-01 00:38:00          1.0  AKE70581SQ   \n",
       "25     SQ242  2022-09-01 2022-09-01 00:40:00          1.0  AKE80436SQ   \n",
       "29      TR25  2022-09-01 2022-09-01 03:55:00          1.0  AKE84300SQ   \n",
       "40     TR541  2022-09-01 2022-09-01 04:04:00          1.0       BT804   \n",
       "\n",
       "               Pickup Time            Dropoff Time           Dropoff TimeN  \\\n",
       "0  2022-09-01 00:33:15.220 2022-09-01 00:37:16.930 2022-09-01 00:48:19.473   \n",
       "12                     NaT 2023-01-17 00:00:00.000                     NaT   \n",
       "25 2022-09-01 00:54:23.003 2022-09-01 00:55:44.893 2022-09-01 00:55:44.900   \n",
       "29 2022-09-01 04:17:01.517 2022-09-01 04:22:18.260 2022-09-01 04:38:25.783   \n",
       "40                     NaT 2023-01-17 00:00:00.000                     NaT   \n",
       "\n",
       "    Total ULDS  \n",
       "0         12.0  \n",
       "12        13.0  \n",
       "25         4.0  \n",
       "29        11.0  \n",
       "40         4.0  "
      ]
     },
     "execution_count": 94,
     "metadata": {},
     "output_type": "execute_result"
    }
   ],
   "source": [
    "dataBugagge.head()"
   ]
  },
  {
   "cell_type": "code",
   "execution_count": 95,
   "metadata": {},
   "outputs": [],
   "source": [
    "dataBugagge.drop_duplicates(subset=['Flight Date','Flight No'],keep='first',inplace=True)"
   ]
  },
  {
   "cell_type": "code",
   "execution_count": 96,
   "metadata": {},
   "outputs": [
    {
     "data": {
      "text/plain": [
       "'SQ242'"
      ]
     },
     "execution_count": 96,
     "metadata": {},
     "output_type": "execute_result"
    }
   ],
   "source": [
    "# get Flight No at first index\n",
    "dataBugagge['Flight No'].iloc[2]\n",
    "\n",
    "# dataBugagge['Flight No']=='SQ208'"
   ]
  },
  {
   "cell_type": "code",
   "execution_count": 33,
   "metadata": {},
   "outputs": [],
   "source": [
    "# remove empty In-bound Time rows\n",
    "dataBugagge=dataBugagge[dataBugagge['In-bound Time'].notnull()]"
   ]
  },
  {
   "cell_type": "code",
   "execution_count": 97,
   "metadata": {},
   "outputs": [
    {
     "data": {
      "text/plain": [
       "Index(['Flight No', 'Flight Date', 'In-bound Time', 'Trip Number',\n",
       "       'ULD Number', 'Pickup Time', 'Dropoff Time', 'Dropoff TimeN',\n",
       "       'Total ULDS'],\n",
       "      dtype='object')"
      ]
     },
     "execution_count": 97,
     "metadata": {},
     "output_type": "execute_result"
    }
   ],
   "source": [
    "dataBugagge.columns"
   ]
  },
  {
   "cell_type": "code",
   "execution_count": 251,
   "metadata": {},
   "outputs": [
    {
     "data": {
      "text/plain": [
       "0"
      ]
     },
     "execution_count": 251,
     "metadata": {},
     "output_type": "execute_result"
    }
   ],
   "source": [
    "dataBugagge['In-bound Time'].isnull().sum()"
   ]
  },
  {
   "cell_type": "code",
   "execution_count": 240,
   "metadata": {},
   "outputs": [],
   "source": [
    "# In-bound Time to string\n",
    "dataBugagge['In-bound Time']=dataBugagge['In-bound Time'].astype(str)"
   ]
  },
  {
   "cell_type": "code",
   "execution_count": 45,
   "metadata": {},
   "outputs": [
    {
     "data": {
      "text/plain": [
       "0    2022-09-01 00:21:00\n",
       "2    2022-09-01 00:21:00\n",
       "12   2022-09-01 00:38:00\n",
       "25   2022-09-01 00:40:00\n",
       "29   2022-09-01 03:55:00\n",
       "Name: In-bound Time, dtype: datetime64[ns]"
      ]
     },
     "execution_count": 45,
     "metadata": {},
     "output_type": "execute_result"
    }
   ],
   "source": [
    "dataBugagge['In-bound Time'].head()"
   ]
  },
  {
   "cell_type": "code",
   "execution_count": 242,
   "metadata": {},
   "outputs": [],
   "source": [
    "# remove last three characters\n",
    "dataBugagge['In-bound Time']=dataBugagge['In-bound Time'].str[:-3]"
   ]
  },
  {
   "cell_type": "code",
   "execution_count": 37,
   "metadata": {},
   "outputs": [],
   "source": [
    "# trim Flight No\n",
    "dataBugagge['Flight No']=dataBugagge['Flight No'].str.strip()"
   ]
  },
  {
   "cell_type": "code",
   "execution_count": 98,
   "metadata": {},
   "outputs": [
    {
     "data": {
      "text/html": [
       "<div>\n",
       "<style scoped>\n",
       "    .dataframe tbody tr th:only-of-type {\n",
       "        vertical-align: middle;\n",
       "    }\n",
       "\n",
       "    .dataframe tbody tr th {\n",
       "        vertical-align: top;\n",
       "    }\n",
       "\n",
       "    .dataframe thead th {\n",
       "        text-align: right;\n",
       "    }\n",
       "</style>\n",
       "<table border=\"1\" class=\"dataframe\">\n",
       "  <thead>\n",
       "    <tr style=\"text-align: right;\">\n",
       "      <th></th>\n",
       "      <th>Flight No</th>\n",
       "      <th>Flight Date</th>\n",
       "      <th>In-bound Time</th>\n",
       "      <th>Trip Number</th>\n",
       "      <th>ULD Number</th>\n",
       "      <th>Pickup Time</th>\n",
       "      <th>Dropoff Time</th>\n",
       "      <th>Dropoff TimeN</th>\n",
       "      <th>Total ULDS</th>\n",
       "    </tr>\n",
       "  </thead>\n",
       "  <tbody>\n",
       "    <tr>\n",
       "      <th>0</th>\n",
       "      <td>SQ208</td>\n",
       "      <td>2022-09-01</td>\n",
       "      <td>2022-09-01 00:21:00</td>\n",
       "      <td>1.0</td>\n",
       "      <td>AKE89138SQ</td>\n",
       "      <td>2022-09-01 00:33:15.220</td>\n",
       "      <td>2022-09-01 00:37:16.930</td>\n",
       "      <td>2022-09-01 00:48:19.473</td>\n",
       "      <td>12.0</td>\n",
       "    </tr>\n",
       "    <tr>\n",
       "      <th>12</th>\n",
       "      <td>SQ11</td>\n",
       "      <td>2022-09-01</td>\n",
       "      <td>2022-09-01 00:38:00</td>\n",
       "      <td>1.0</td>\n",
       "      <td>AKE70581SQ</td>\n",
       "      <td>NaT</td>\n",
       "      <td>2023-01-17 00:00:00.000</td>\n",
       "      <td>NaT</td>\n",
       "      <td>13.0</td>\n",
       "    </tr>\n",
       "    <tr>\n",
       "      <th>25</th>\n",
       "      <td>SQ242</td>\n",
       "      <td>2022-09-01</td>\n",
       "      <td>2022-09-01 00:40:00</td>\n",
       "      <td>1.0</td>\n",
       "      <td>AKE80436SQ</td>\n",
       "      <td>2022-09-01 00:54:23.003</td>\n",
       "      <td>2022-09-01 00:55:44.893</td>\n",
       "      <td>2022-09-01 00:55:44.900</td>\n",
       "      <td>4.0</td>\n",
       "    </tr>\n",
       "    <tr>\n",
       "      <th>29</th>\n",
       "      <td>TR25</td>\n",
       "      <td>2022-09-01</td>\n",
       "      <td>2022-09-01 03:55:00</td>\n",
       "      <td>1.0</td>\n",
       "      <td>AKE84300SQ</td>\n",
       "      <td>2022-09-01 04:17:01.517</td>\n",
       "      <td>2022-09-01 04:22:18.260</td>\n",
       "      <td>2022-09-01 04:38:25.783</td>\n",
       "      <td>11.0</td>\n",
       "    </tr>\n",
       "    <tr>\n",
       "      <th>40</th>\n",
       "      <td>TR541</td>\n",
       "      <td>2022-09-01</td>\n",
       "      <td>2022-09-01 04:04:00</td>\n",
       "      <td>1.0</td>\n",
       "      <td>BT804</td>\n",
       "      <td>NaT</td>\n",
       "      <td>2023-01-17 00:00:00.000</td>\n",
       "      <td>NaT</td>\n",
       "      <td>4.0</td>\n",
       "    </tr>\n",
       "  </tbody>\n",
       "</table>\n",
       "</div>"
      ],
      "text/plain": [
       "   Flight No Flight Date       In-bound Time  Trip Number  ULD Number  \\\n",
       "0      SQ208  2022-09-01 2022-09-01 00:21:00          1.0  AKE89138SQ   \n",
       "12      SQ11  2022-09-01 2022-09-01 00:38:00          1.0  AKE70581SQ   \n",
       "25     SQ242  2022-09-01 2022-09-01 00:40:00          1.0  AKE80436SQ   \n",
       "29      TR25  2022-09-01 2022-09-01 03:55:00          1.0  AKE84300SQ   \n",
       "40     TR541  2022-09-01 2022-09-01 04:04:00          1.0       BT804   \n",
       "\n",
       "               Pickup Time            Dropoff Time           Dropoff TimeN  \\\n",
       "0  2022-09-01 00:33:15.220 2022-09-01 00:37:16.930 2022-09-01 00:48:19.473   \n",
       "12                     NaT 2023-01-17 00:00:00.000                     NaT   \n",
       "25 2022-09-01 00:54:23.003 2022-09-01 00:55:44.893 2022-09-01 00:55:44.900   \n",
       "29 2022-09-01 04:17:01.517 2022-09-01 04:22:18.260 2022-09-01 04:38:25.783   \n",
       "40                     NaT 2023-01-17 00:00:00.000                     NaT   \n",
       "\n",
       "    Total ULDS  \n",
       "0         12.0  \n",
       "12        13.0  \n",
       "25         4.0  \n",
       "29        11.0  \n",
       "40         4.0  "
      ]
     },
     "execution_count": 98,
     "metadata": {},
     "output_type": "execute_result"
    }
   ],
   "source": [
    "dataBugagge.head()\n"
   ]
  },
  {
   "cell_type": "code",
   "execution_count": 77,
   "metadata": {},
   "outputs": [],
   "source": [
    "# save dataBugagge\n",
    "dataBugagge.to_excel('J:\\\\SATS\\\\Count_BUGAGGE.xlsx')"
   ]
  },
  {
   "cell_type": "code",
   "execution_count": 252,
   "metadata": {},
   "outputs": [],
   "source": [
    "# convrt to HH:MM\n",
    "dataBugagge['In-bound Time']=pd.to_datetime(dataBugagge['In-bound Time'], format='%Y-%m-%d %H:%M:%S').dt.strftime('%H:%M')"
   ]
  },
  {
   "cell_type": "code",
   "execution_count": 47,
   "metadata": {},
   "outputs": [
    {
     "data": {
      "text/html": [
       "<div>\n",
       "<style scoped>\n",
       "    .dataframe tbody tr th:only-of-type {\n",
       "        vertical-align: middle;\n",
       "    }\n",
       "\n",
       "    .dataframe tbody tr th {\n",
       "        vertical-align: top;\n",
       "    }\n",
       "\n",
       "    .dataframe thead th {\n",
       "        text-align: right;\n",
       "    }\n",
       "</style>\n",
       "<table border=\"1\" class=\"dataframe\">\n",
       "  <thead>\n",
       "    <tr style=\"text-align: right;\">\n",
       "      <th></th>\n",
       "      <th>Flight No</th>\n",
       "      <th>Flight Date</th>\n",
       "      <th>In-bound Time</th>\n",
       "      <th>Trip Number</th>\n",
       "      <th>ULD Number</th>\n",
       "      <th>Pickup Time</th>\n",
       "      <th>Dropoff Time</th>\n",
       "      <th>Total Trips</th>\n",
       "    </tr>\n",
       "  </thead>\n",
       "  <tbody>\n",
       "    <tr>\n",
       "      <th>73763</th>\n",
       "      <td>SQ105</td>\n",
       "      <td>2022-10-12</td>\n",
       "      <td>NaT</td>\n",
       "      <td>1.0</td>\n",
       "      <td>AKE84181SQ</td>\n",
       "      <td>2022-10-12 12:12:09.163</td>\n",
       "      <td>2022-10-12 12:13:25.653</td>\n",
       "      <td>5.0</td>\n",
       "    </tr>\n",
       "    <tr>\n",
       "      <th>73764</th>\n",
       "      <td>SQ224</td>\n",
       "      <td>2022-10-13</td>\n",
       "      <td>NaT</td>\n",
       "      <td>1.0</td>\n",
       "      <td>AKE86114SQ</td>\n",
       "      <td>2022-10-13 11:59:19.587</td>\n",
       "      <td>NaT</td>\n",
       "      <td>6.0</td>\n",
       "    </tr>\n",
       "    <tr>\n",
       "      <th>73767</th>\n",
       "      <td>TR391</td>\n",
       "      <td>2022-10-13</td>\n",
       "      <td>NaT</td>\n",
       "      <td>1.0</td>\n",
       "      <td>AKE11841TR</td>\n",
       "      <td>2022-10-13 23:37:47.297</td>\n",
       "      <td>2022-10-13 23:37:58.297</td>\n",
       "      <td>5.0</td>\n",
       "    </tr>\n",
       "    <tr>\n",
       "      <th>73768</th>\n",
       "      <td>SQ157</td>\n",
       "      <td>2022-10-13</td>\n",
       "      <td>NaT</td>\n",
       "      <td>1.0</td>\n",
       "      <td>BTBULK</td>\n",
       "      <td>NaT</td>\n",
       "      <td>NaT</td>\n",
       "      <td>5.0</td>\n",
       "    </tr>\n",
       "    <tr>\n",
       "      <th>73817</th>\n",
       "      <td>_x001A_</td>\n",
       "      <td>NaT</td>\n",
       "      <td>NaT</td>\n",
       "      <td>NaN</td>\n",
       "      <td>NaN</td>\n",
       "      <td>NaT</td>\n",
       "      <td>NaT</td>\n",
       "      <td>NaN</td>\n",
       "    </tr>\n",
       "  </tbody>\n",
       "</table>\n",
       "</div>"
      ],
      "text/plain": [
       "      Flight No Flight Date In-bound Time  Trip Number  ULD Number  \\\n",
       "73763     SQ105  2022-10-12           NaT          1.0  AKE84181SQ   \n",
       "73764     SQ224  2022-10-13           NaT          1.0  AKE86114SQ   \n",
       "73767     TR391  2022-10-13           NaT          1.0  AKE11841TR   \n",
       "73768     SQ157  2022-10-13           NaT          1.0      BTBULK   \n",
       "73817   _x001A_         NaT           NaT          NaN         NaN   \n",
       "\n",
       "                  Pickup Time            Dropoff Time  Total Trips  \n",
       "73763 2022-10-12 12:12:09.163 2022-10-12 12:13:25.653          5.0  \n",
       "73764 2022-10-13 11:59:19.587                     NaT          6.0  \n",
       "73767 2022-10-13 23:37:47.297 2022-10-13 23:37:58.297          5.0  \n",
       "73768                     NaT                     NaT          5.0  \n",
       "73817                     NaT                     NaT          NaN  "
      ]
     },
     "execution_count": 47,
     "metadata": {},
     "output_type": "execute_result"
    }
   ],
   "source": [
    "dataBugagge.tail()"
   ]
  },
  {
   "cell_type": "code",
   "execution_count": 243,
   "metadata": {},
   "outputs": [],
   "source": [
    "# remove first two characters\n",
    "# dataBugagge['In-bound Time']=dataBugagge['In-bound Time'].str[11:]"
   ]
  },
  {
   "cell_type": "code",
   "execution_count": null,
   "metadata": {},
   "outputs": [],
   "source": []
  },
  {
   "cell_type": "code",
   "execution_count": 304,
   "metadata": {},
   "outputs": [
    {
     "data": {
      "text/plain": [
       "0     00:21\n",
       "2     00:21\n",
       "12    00:38\n",
       "25    00:40\n",
       "29    03:55\n",
       "Name: In-bound Time, dtype: object"
      ]
     },
     "execution_count": 304,
     "metadata": {},
     "output_type": "execute_result"
    }
   ],
   "source": [
    "dataBugagge['In-bound Time'].head()"
   ]
  },
  {
   "cell_type": "code",
   "execution_count": 245,
   "metadata": {},
   "outputs": [
    {
     "data": {
      "text/plain": [
       "73813    \n",
       "73814    \n",
       "73815    \n",
       "73816    \n",
       "73817    \n",
       "Name: In-bound Time, dtype: object"
      ]
     },
     "execution_count": 245,
     "metadata": {},
     "output_type": "execute_result"
    }
   ],
   "source": [
    "# dataBugagge['In-bound Time'].tail()"
   ]
  },
  {
   "cell_type": "code",
   "execution_count": 215,
   "metadata": {},
   "outputs": [],
   "source": [
    "# convert to HH:MM\n",
    "# drop all null values\n",
    "# dataBugagge.dropna(subset=['In-bound Time'],inplace=True)\n",
    "\n",
    "\n",
    "\n",
    "# dataBugagge['In-bound Time']=pd.to_datetime(dataBugagge['In-bound Time'], format='%H:%M').dt.strftime('%H:%M')"
   ]
  },
  {
   "cell_type": "code",
   "execution_count": 216,
   "metadata": {},
   "outputs": [
    {
     "ename": "ValueError",
     "evalue": "time data '' does not match format '%H:%M' (match)",
     "output_type": "error",
     "traceback": [
      "\u001b[1;31m---------------------------------------------------------------------------\u001b[0m",
      "\u001b[1;31mValueError\u001b[0m                                Traceback (most recent call last)",
      "Cell \u001b[1;32mIn [216], line 1\u001b[0m\n\u001b[1;32m----> 1\u001b[0m dataBugagge[\u001b[39m'\u001b[39m\u001b[39mIn-bound Time\u001b[39m\u001b[39m'\u001b[39m]\u001b[39m=\u001b[39mpd\u001b[39m.\u001b[39mto_datetime(dataBugagge[\u001b[39m'\u001b[39m\u001b[39mIn-bound Time\u001b[39m\u001b[39m'\u001b[39m], \u001b[39mformat\u001b[39m\u001b[39m=\u001b[39m\u001b[39m'\u001b[39m\u001b[39m%\u001b[39m\u001b[39mH:\u001b[39m\u001b[39m%\u001b[39m\u001b[39mM\u001b[39m\u001b[39m'\u001b[39m)\u001b[39m.\u001b[39mdt\u001b[39m.\u001b[39mstrftime(\u001b[39m'\u001b[39m\u001b[39m%\u001b[39m\u001b[39mH:\u001b[39m\u001b[39m%\u001b[39m\u001b[39mM\u001b[39m\u001b[39m'\u001b[39m)\n",
      "File \u001b[1;32mc:\\Users\\pc\\AppData\\Local\\Programs\\Python\\Python310\\lib\\site-packages\\pandas\\core\\tools\\datetimes.py:1065\u001b[0m, in \u001b[0;36mto_datetime\u001b[1;34m(arg, errors, dayfirst, yearfirst, utc, format, exact, unit, infer_datetime_format, origin, cache)\u001b[0m\n\u001b[0;32m   1063\u001b[0m             result \u001b[39m=\u001b[39m arg\u001b[39m.\u001b[39mtz_localize(tz)\n\u001b[0;32m   1064\u001b[0m \u001b[39melif\u001b[39;00m \u001b[39misinstance\u001b[39m(arg, ABCSeries):\n\u001b[1;32m-> 1065\u001b[0m     cache_array \u001b[39m=\u001b[39m _maybe_cache(arg, \u001b[39mformat\u001b[39;49m, cache, convert_listlike)\n\u001b[0;32m   1066\u001b[0m     \u001b[39mif\u001b[39;00m \u001b[39mnot\u001b[39;00m cache_array\u001b[39m.\u001b[39mempty:\n\u001b[0;32m   1067\u001b[0m         result \u001b[39m=\u001b[39m arg\u001b[39m.\u001b[39mmap(cache_array)\n",
      "File \u001b[1;32mc:\\Users\\pc\\AppData\\Local\\Programs\\Python\\Python310\\lib\\site-packages\\pandas\\core\\tools\\datetimes.py:230\u001b[0m, in \u001b[0;36m_maybe_cache\u001b[1;34m(arg, format, cache, convert_listlike)\u001b[0m\n\u001b[0;32m    228\u001b[0m unique_dates \u001b[39m=\u001b[39m unique(arg)\n\u001b[0;32m    229\u001b[0m \u001b[39mif\u001b[39;00m \u001b[39mlen\u001b[39m(unique_dates) \u001b[39m<\u001b[39m \u001b[39mlen\u001b[39m(arg):\n\u001b[1;32m--> 230\u001b[0m     cache_dates \u001b[39m=\u001b[39m convert_listlike(unique_dates, \u001b[39mformat\u001b[39;49m)\n\u001b[0;32m    231\u001b[0m     \u001b[39m# GH#45319\u001b[39;00m\n\u001b[0;32m    232\u001b[0m     \u001b[39mtry\u001b[39;00m:\n",
      "File \u001b[1;32mc:\\Users\\pc\\AppData\\Local\\Programs\\Python\\Python310\\lib\\site-packages\\pandas\\core\\tools\\datetimes.py:431\u001b[0m, in \u001b[0;36m_convert_listlike_datetimes\u001b[1;34m(arg, format, name, tz, unit, errors, infer_datetime_format, dayfirst, yearfirst, exact)\u001b[0m\n\u001b[0;32m    428\u001b[0m         \u001b[39mformat\u001b[39m \u001b[39m=\u001b[39m \u001b[39mNone\u001b[39;00m\n\u001b[0;32m    430\u001b[0m \u001b[39mif\u001b[39;00m \u001b[39mformat\u001b[39m \u001b[39mis\u001b[39;00m \u001b[39mnot\u001b[39;00m \u001b[39mNone\u001b[39;00m:\n\u001b[1;32m--> 431\u001b[0m     res \u001b[39m=\u001b[39m _to_datetime_with_format(\n\u001b[0;32m    432\u001b[0m         arg, orig_arg, name, tz, \u001b[39mformat\u001b[39;49m, exact, errors, infer_datetime_format\n\u001b[0;32m    433\u001b[0m     )\n\u001b[0;32m    434\u001b[0m     \u001b[39mif\u001b[39;00m res \u001b[39mis\u001b[39;00m \u001b[39mnot\u001b[39;00m \u001b[39mNone\u001b[39;00m:\n\u001b[0;32m    435\u001b[0m         \u001b[39mreturn\u001b[39;00m res\n",
      "File \u001b[1;32mc:\\Users\\pc\\AppData\\Local\\Programs\\Python\\Python310\\lib\\site-packages\\pandas\\core\\tools\\datetimes.py:539\u001b[0m, in \u001b[0;36m_to_datetime_with_format\u001b[1;34m(arg, orig_arg, name, tz, fmt, exact, errors, infer_datetime_format)\u001b[0m\n\u001b[0;32m    536\u001b[0m         \u001b[39mreturn\u001b[39;00m _box_as_indexlike(result, utc\u001b[39m=\u001b[39mutc, name\u001b[39m=\u001b[39mname)\n\u001b[0;32m    538\u001b[0m \u001b[39m# fallback\u001b[39;00m\n\u001b[1;32m--> 539\u001b[0m res \u001b[39m=\u001b[39m _array_strptime_with_fallback(\n\u001b[0;32m    540\u001b[0m     arg, name, tz, fmt, exact, errors, infer_datetime_format\n\u001b[0;32m    541\u001b[0m )\n\u001b[0;32m    542\u001b[0m \u001b[39mreturn\u001b[39;00m res\n",
      "File \u001b[1;32mc:\\Users\\pc\\AppData\\Local\\Programs\\Python\\Python310\\lib\\site-packages\\pandas\\core\\tools\\datetimes.py:474\u001b[0m, in \u001b[0;36m_array_strptime_with_fallback\u001b[1;34m(arg, name, tz, fmt, exact, errors, infer_datetime_format)\u001b[0m\n\u001b[0;32m    471\u001b[0m utc \u001b[39m=\u001b[39m tz \u001b[39m==\u001b[39m \u001b[39m\"\u001b[39m\u001b[39mutc\u001b[39m\u001b[39m\"\u001b[39m\n\u001b[0;32m    473\u001b[0m \u001b[39mtry\u001b[39;00m:\n\u001b[1;32m--> 474\u001b[0m     result, timezones \u001b[39m=\u001b[39m array_strptime(arg, fmt, exact\u001b[39m=\u001b[39;49mexact, errors\u001b[39m=\u001b[39;49merrors)\n\u001b[0;32m    475\u001b[0m \u001b[39mexcept\u001b[39;00m OutOfBoundsDatetime:\n\u001b[0;32m    476\u001b[0m     \u001b[39mif\u001b[39;00m errors \u001b[39m==\u001b[39m \u001b[39m\"\u001b[39m\u001b[39mraise\u001b[39m\u001b[39m\"\u001b[39m:\n",
      "File \u001b[1;32mc:\\Users\\pc\\AppData\\Local\\Programs\\Python\\Python310\\lib\\site-packages\\pandas\\_libs\\tslibs\\strptime.pyx:150\u001b[0m, in \u001b[0;36mpandas._libs.tslibs.strptime.array_strptime\u001b[1;34m()\u001b[0m\n",
      "\u001b[1;31mValueError\u001b[0m: time data '' does not match format '%H:%M' (match)"
     ]
    }
   ],
   "source": [
    "# dataBugagge['In-bound Time']=pd.to_datetime(dataBugagge['In-bound Time'], format='%H:%M').dt.strftime('%H:%M')"
   ]
  },
  {
   "cell_type": "code",
   "execution_count": 197,
   "metadata": {},
   "outputs": [],
   "source": [
    "# convrt to HH:MM\n",
    "# dataBugagge['In-bound Time']=pd.to_datetime(dataBugagge['In-bound Time'], format='%Y-%m-%d %H:%M:%S').dt.strftime('%H:%M')"
   ]
  },
  {
   "cell_type": "code",
   "execution_count": 194,
   "metadata": {},
   "outputs": [],
   "source": [
    "# dataBugagge['In-bound Time']=dataBugagge['In-bound Time'].astype(str)"
   ]
  },
  {
   "cell_type": "code",
   "execution_count": 198,
   "metadata": {},
   "outputs": [
    {
     "data": {
      "text/plain": [
       "0    00:21\n",
       "1    00:21\n",
       "2    00:21\n",
       "3    00:21\n",
       "4    00:21\n",
       "Name: In-bound Time, dtype: object"
      ]
     },
     "execution_count": 198,
     "metadata": {},
     "output_type": "execute_result"
    }
   ],
   "source": [
    "# dataBugagge['In-bound Time'].head()"
   ]
  },
  {
   "cell_type": "code",
   "execution_count": 76,
   "metadata": {},
   "outputs": [],
   "source": [
    "# dataBugagge['In-bound Time']=dataBugagge['In-bound Time'].str.split(' ').str[1]"
   ]
  },
  {
   "cell_type": "code",
   "execution_count": 77,
   "metadata": {},
   "outputs": [
    {
     "data": {
      "text/plain": [
       "0    00:21:00\n",
       "1    00:21:00\n",
       "2    00:21:00\n",
       "3    00:21:00\n",
       "4    00:21:00\n",
       "Name: In-bound Time, dtype: object"
      ]
     },
     "execution_count": 77,
     "metadata": {},
     "output_type": "execute_result"
    }
   ],
   "source": [
    "# dataBugagge['In-bound Time'].head()"
   ]
  },
  {
   "cell_type": "code",
   "execution_count": 78,
   "metadata": {},
   "outputs": [],
   "source": [
    "# dataBugagge['In-bound Time']=dataBugagge['In-bound Time'][3:]\n",
    "# remove first 3 characters\n",
    "# dataBugagge['In-bound Time']=dataBugagge['In-bound Time'].str[3:]"
   ]
  },
  {
   "cell_type": "code",
   "execution_count": 305,
   "metadata": {},
   "outputs": [
    {
     "data": {
      "text/html": [
       "<div>\n",
       "<style scoped>\n",
       "    .dataframe tbody tr th:only-of-type {\n",
       "        vertical-align: middle;\n",
       "    }\n",
       "\n",
       "    .dataframe tbody tr th {\n",
       "        vertical-align: top;\n",
       "    }\n",
       "\n",
       "    .dataframe thead th {\n",
       "        text-align: right;\n",
       "    }\n",
       "</style>\n",
       "<table border=\"1\" class=\"dataframe\">\n",
       "  <thead>\n",
       "    <tr style=\"text-align: right;\">\n",
       "      <th></th>\n",
       "      <th>Flight No</th>\n",
       "      <th>Flight Date</th>\n",
       "      <th>In-bound Time</th>\n",
       "      <th>Trip Number</th>\n",
       "      <th>ULD Number</th>\n",
       "      <th>Pickup Time</th>\n",
       "      <th>Dropoff Time</th>\n",
       "    </tr>\n",
       "  </thead>\n",
       "  <tbody>\n",
       "    <tr>\n",
       "      <th>0</th>\n",
       "      <td>SQ208</td>\n",
       "      <td>2022-09-01</td>\n",
       "      <td>00:21</td>\n",
       "      <td>1.0</td>\n",
       "      <td>AKE89138SQ</td>\n",
       "      <td>2022-09-01 00:33:15.220</td>\n",
       "      <td>2022-09-01 00:37:16.930</td>\n",
       "    </tr>\n",
       "    <tr>\n",
       "      <th>2</th>\n",
       "      <td>﻿SQ208</td>\n",
       "      <td>2022-09-01</td>\n",
       "      <td>00:21</td>\n",
       "      <td>2.0</td>\n",
       "      <td>AKE28054SQ</td>\n",
       "      <td>2022-09-01 00:33:15.220</td>\n",
       "      <td>2022-09-01 00:37:16.933</td>\n",
       "    </tr>\n",
       "    <tr>\n",
       "      <th>12</th>\n",
       "      <td>SQ11</td>\n",
       "      <td>2022-09-01</td>\n",
       "      <td>00:38</td>\n",
       "      <td>1.0</td>\n",
       "      <td>AKE70581SQ</td>\n",
       "      <td>NaT</td>\n",
       "      <td>NaT</td>\n",
       "    </tr>\n",
       "    <tr>\n",
       "      <th>25</th>\n",
       "      <td>SQ242</td>\n",
       "      <td>2022-09-01</td>\n",
       "      <td>00:40</td>\n",
       "      <td>1.0</td>\n",
       "      <td>AKE80436SQ</td>\n",
       "      <td>2022-09-01 00:54:23.003</td>\n",
       "      <td>2022-09-01 00:55:44.893</td>\n",
       "    </tr>\n",
       "    <tr>\n",
       "      <th>29</th>\n",
       "      <td>TR25</td>\n",
       "      <td>2022-09-01</td>\n",
       "      <td>03:55</td>\n",
       "      <td>1.0</td>\n",
       "      <td>AKE84300SQ</td>\n",
       "      <td>2022-09-01 04:17:01.517</td>\n",
       "      <td>2022-09-01 04:22:18.260</td>\n",
       "    </tr>\n",
       "  </tbody>\n",
       "</table>\n",
       "</div>"
      ],
      "text/plain": [
       "   Flight No Flight Date In-bound Time  Trip Number  ULD Number  \\\n",
       "0      SQ208  2022-09-01         00:21          1.0  AKE89138SQ   \n",
       "2     ﻿SQ208  2022-09-01         00:21          2.0  AKE28054SQ   \n",
       "12      SQ11  2022-09-01         00:38          1.0  AKE70581SQ   \n",
       "25     SQ242  2022-09-01         00:40          1.0  AKE80436SQ   \n",
       "29      TR25  2022-09-01         03:55          1.0  AKE84300SQ   \n",
       "\n",
       "               Pickup Time            Dropoff Time  \n",
       "0  2022-09-01 00:33:15.220 2022-09-01 00:37:16.930  \n",
       "2  2022-09-01 00:33:15.220 2022-09-01 00:37:16.933  \n",
       "12                     NaT                     NaT  \n",
       "25 2022-09-01 00:54:23.003 2022-09-01 00:55:44.893  \n",
       "29 2022-09-01 04:17:01.517 2022-09-01 04:22:18.260  "
      ]
     },
     "execution_count": 305,
     "metadata": {},
     "output_type": "execute_result"
    }
   ],
   "source": [
    "dataBugagge.head()"
   ]
  },
  {
   "cell_type": "code",
   "execution_count": 81,
   "metadata": {},
   "outputs": [],
   "source": [
    "# dataBugagge['In-bound Time']=dataBugagge['In-bound Time'].str.replace(',',':')\n",
    "# remove all the duplicates Flight No, Flight Date and In-bound Time all togather and keep the first one but Dropp-of-Time keep the last one:\n",
    "dataBugagge.drop_duplicates(subset=['Flight No','Flight Date','In-bound Time'],keep='first',inplace=True)\n",
    "dataBugagge.drop_duplicates(subset=['Flight No','Flight Date','In-bound Time'],keep='first',inplace=True)"
   ]
  },
  {
   "attachments": {},
   "cell_type": "markdown",
   "metadata": {},
   "source": [
    "# Handing drop of column"
   ]
  },
  {
   "cell_type": "code",
   "execution_count": 3,
   "metadata": {},
   "outputs": [
    {
     "ename": "NameError",
     "evalue": "name 'dataBugagge' is not defined",
     "output_type": "error",
     "traceback": [
      "\u001b[1;31m---------------------------------------------------------------------------\u001b[0m",
      "\u001b[1;31mNameError\u001b[0m                                 Traceback (most recent call last)",
      "Cell \u001b[1;32mIn [3], line 1\u001b[0m\n\u001b[1;32m----> 1\u001b[0m dataBugagge\u001b[39m.\u001b[39mcolumns\n",
      "\u001b[1;31mNameError\u001b[0m: name 'dataBugagge' is not defined"
     ]
    }
   ],
   "source": [
    "dataBugagge.columns"
   ]
  },
  {
   "cell_type": "code",
   "execution_count": 82,
   "metadata": {},
   "outputs": [
    {
     "data": {
      "text/plain": [
       "<bound method NDFrame.head of       Flight No Flight Date In-bound Time  Trip Number  ULD Number  \\\n",
       "0         SQ208  2022-09-01         21:00          1.0  AKE89138SQ   \n",
       "2        ﻿SQ208  2022-09-01         21:00          2.0  AKE28054SQ   \n",
       "12         SQ11  2022-09-01         38:00          1.0  AKE70581SQ   \n",
       "25        SQ242  2022-09-01         40:00          1.0  AKE80436SQ   \n",
       "29         TR25  2022-09-01         55:00          1.0  AKE84300SQ   \n",
       "...         ...         ...           ...          ...         ...   \n",
       "73763     SQ105  2022-10-12           NaN          1.0  AKE84181SQ   \n",
       "73764     SQ224  2022-10-13           NaN          1.0  AKE86114SQ   \n",
       "73767     TR391  2022-10-13           NaN          1.0  AKE11841TR   \n",
       "73768     SQ157  2022-10-13           NaN          1.0      BTBULK   \n",
       "73817   _x001A_         NaT           NaN          NaN         NaN   \n",
       "\n",
       "                  Pickup Time            Dropoff Time  \n",
       "0     2022-09-01 00:33:15.220 2022-09-01 00:37:16.930  \n",
       "2     2022-09-01 00:33:15.220 2022-09-01 00:37:16.933  \n",
       "12                        NaT                     NaT  \n",
       "25    2022-09-01 00:54:23.003 2022-09-01 00:55:44.893  \n",
       "29    2022-09-01 04:17:01.517 2022-09-01 04:22:18.260  \n",
       "...                       ...                     ...  \n",
       "73763 2022-10-12 12:12:09.163 2022-10-12 12:13:25.653  \n",
       "73764 2022-10-13 11:59:19.587                     NaT  \n",
       "73767 2022-10-13 23:37:47.297 2022-10-13 23:37:58.297  \n",
       "73768                     NaT                     NaT  \n",
       "73817                     NaT                     NaT  \n",
       "\n",
       "[8011 rows x 7 columns]>"
      ]
     },
     "execution_count": 82,
     "metadata": {},
     "output_type": "execute_result"
    }
   ],
   "source": [
    "dataBugagge.head"
   ]
  },
  {
   "cell_type": "code",
   "execution_count": 99,
   "metadata": {},
   "outputs": [
    {
     "data": {
      "text/plain": [
       "(8008, 9)"
      ]
     },
     "execution_count": 99,
     "metadata": {},
     "output_type": "execute_result"
    }
   ],
   "source": [
    "dataBugagge.shape"
   ]
  },
  {
   "cell_type": "code",
   "execution_count": 100,
   "metadata": {},
   "outputs": [
    {
     "data": {
      "text/plain": [
       "(10113, 11)"
      ]
     },
     "execution_count": 100,
     "metadata": {},
     "output_type": "execute_result"
    }
   ],
   "source": [
    "dataStaff.shape"
   ]
  },
  {
   "cell_type": "code",
   "execution_count": 22,
   "metadata": {},
   "outputs": [
    {
     "data": {
      "text/html": [
       "<div>\n",
       "<style scoped>\n",
       "    .dataframe tbody tr th:only-of-type {\n",
       "        vertical-align: middle;\n",
       "    }\n",
       "\n",
       "    .dataframe tbody tr th {\n",
       "        vertical-align: top;\n",
       "    }\n",
       "\n",
       "    .dataframe thead th {\n",
       "        text-align: right;\n",
       "    }\n",
       "</style>\n",
       "<table border=\"1\" class=\"dataframe\">\n",
       "  <thead>\n",
       "    <tr style=\"text-align: right;\">\n",
       "      <th></th>\n",
       "      <th>Flight No</th>\n",
       "      <th>Flight Date</th>\n",
       "      <th>In-bound Time</th>\n",
       "      <th>Trip Number</th>\n",
       "      <th>ULD Number</th>\n",
       "      <th>Pickup Time</th>\n",
       "      <th>Dropoff Time</th>\n",
       "      <th>Dropoff TimeN</th>\n",
       "      <th>Total ULDS</th>\n",
       "    </tr>\n",
       "  </thead>\n",
       "  <tbody>\n",
       "    <tr>\n",
       "      <th>0</th>\n",
       "      <td>SQ208</td>\n",
       "      <td>2022-09-01</td>\n",
       "      <td>2022-09-01 00:21:00</td>\n",
       "      <td>1.0</td>\n",
       "      <td>AKE89138SQ</td>\n",
       "      <td>2022-09-01 00:33:15.220</td>\n",
       "      <td>2022-09-01 00:37:16.930</td>\n",
       "      <td>2022-09-01 00:48:19.473</td>\n",
       "      <td>12.0</td>\n",
       "    </tr>\n",
       "    <tr>\n",
       "      <th>12</th>\n",
       "      <td>SQ11</td>\n",
       "      <td>2022-09-01</td>\n",
       "      <td>2022-09-01 00:38:00</td>\n",
       "      <td>1.0</td>\n",
       "      <td>AKE70581SQ</td>\n",
       "      <td>NaT</td>\n",
       "      <td>NaT</td>\n",
       "      <td>NaT</td>\n",
       "      <td>13.0</td>\n",
       "    </tr>\n",
       "    <tr>\n",
       "      <th>25</th>\n",
       "      <td>SQ242</td>\n",
       "      <td>2022-09-01</td>\n",
       "      <td>2022-09-01 00:40:00</td>\n",
       "      <td>1.0</td>\n",
       "      <td>AKE80436SQ</td>\n",
       "      <td>2022-09-01 00:54:23.003</td>\n",
       "      <td>2022-09-01 00:55:44.893</td>\n",
       "      <td>2022-09-01 00:55:44.900</td>\n",
       "      <td>4.0</td>\n",
       "    </tr>\n",
       "    <tr>\n",
       "      <th>29</th>\n",
       "      <td>TR25</td>\n",
       "      <td>2022-09-01</td>\n",
       "      <td>2022-09-01 03:55:00</td>\n",
       "      <td>1.0</td>\n",
       "      <td>AKE84300SQ</td>\n",
       "      <td>2022-09-01 04:17:01.517</td>\n",
       "      <td>2022-09-01 04:22:18.260</td>\n",
       "      <td>2022-09-01 04:38:25.783</td>\n",
       "      <td>11.0</td>\n",
       "    </tr>\n",
       "    <tr>\n",
       "      <th>40</th>\n",
       "      <td>TR541</td>\n",
       "      <td>2022-09-01</td>\n",
       "      <td>2022-09-01 04:04:00</td>\n",
       "      <td>1.0</td>\n",
       "      <td>BT804</td>\n",
       "      <td>NaT</td>\n",
       "      <td>NaT</td>\n",
       "      <td>NaT</td>\n",
       "      <td>4.0</td>\n",
       "    </tr>\n",
       "  </tbody>\n",
       "</table>\n",
       "</div>"
      ],
      "text/plain": [
       "   Flight No Flight Date       In-bound Time  Trip Number  ULD Number  \\\n",
       "0      SQ208  2022-09-01 2022-09-01 00:21:00          1.0  AKE89138SQ   \n",
       "12      SQ11  2022-09-01 2022-09-01 00:38:00          1.0  AKE70581SQ   \n",
       "25     SQ242  2022-09-01 2022-09-01 00:40:00          1.0  AKE80436SQ   \n",
       "29      TR25  2022-09-01 2022-09-01 03:55:00          1.0  AKE84300SQ   \n",
       "40     TR541  2022-09-01 2022-09-01 04:04:00          1.0       BT804   \n",
       "\n",
       "               Pickup Time            Dropoff Time           Dropoff TimeN  \\\n",
       "0  2022-09-01 00:33:15.220 2022-09-01 00:37:16.930 2022-09-01 00:48:19.473   \n",
       "12                     NaT                     NaT                     NaT   \n",
       "25 2022-09-01 00:54:23.003 2022-09-01 00:55:44.893 2022-09-01 00:55:44.900   \n",
       "29 2022-09-01 04:17:01.517 2022-09-01 04:22:18.260 2022-09-01 04:38:25.783   \n",
       "40                     NaT                     NaT                     NaT   \n",
       "\n",
       "    Total ULDS  \n",
       "0         12.0  \n",
       "12        13.0  \n",
       "25         4.0  \n",
       "29        11.0  \n",
       "40         4.0  "
      ]
     },
     "execution_count": 22,
     "metadata": {},
     "output_type": "execute_result"
    }
   ],
   "source": [
    "dataBugagge.head()"
   ]
  },
  {
   "cell_type": "code",
   "execution_count": 101,
   "metadata": {},
   "outputs": [
    {
     "data": {
      "text/plain": [
       "Flight No                object\n",
       "Flight Date      datetime64[ns]\n",
       "In-bound Time    datetime64[ns]\n",
       "Trip Number             float64\n",
       "ULD Number               object\n",
       "Pickup Time      datetime64[ns]\n",
       "Dropoff Time     datetime64[ns]\n",
       "Dropoff TimeN    datetime64[ns]\n",
       "Total ULDS              float64\n",
       "dtype: object"
      ]
     },
     "execution_count": 101,
     "metadata": {},
     "output_type": "execute_result"
    }
   ],
   "source": [
    "dataBugagge.dtypes"
   ]
  },
  {
   "cell_type": "code",
   "execution_count": 308,
   "metadata": {},
   "outputs": [
    {
     "name": "stdout",
     "output_type": "stream",
     "text": [
      "       Unnamed: 0 Flight Date Orientation Flight    ST  ET  RLO   RSM  EO  AA  \\\n",
      "0               0  2022-09-01   Departure  SQ225     5 NaT     1    3   1   2   \n",
      "1               1  2022-09-01   Departure  SQ608    10 NaT     1    3   0   2   \n",
      "2               2  2022-09-01     Arrival  SQ208    15 NaT     1    4   1   2   \n",
      "3               3  2022-09-01   Departure  SQ336    15 NaT     1    3   1   2   \n",
      "4               4  2022-09-01     Arrival  SQ242    20 NaT     1    3   1   1   \n",
      "...           ...         ...         ...    ...   ...  ..   ...  ...  ..  ..   \n",
      "20214       20214  2022-11-30   Departure  SQ378  2345 NaT     1    3   1   2   \n",
      "20215       20215  2022-11-30   Departure   SQ26  2355 NaT     1    3   1   2   \n",
      "20216       20216  2022-11-30   Departure  SQ324  2355 NaT     1    2   1   1   \n",
      "20217       20217  2022-11-30   Departure  SQ638  2355 NaT     1    3   1   1   \n",
      "20218       20218  2022-11-30     Arrival  SQ897  2355 NaT     1    1   1   1   \n",
      "\n",
      "       staff  \n",
      "0          7  \n",
      "1          6  \n",
      "2          8  \n",
      "3          7  \n",
      "4          6  \n",
      "...      ...  \n",
      "20214      7  \n",
      "20215      7  \n",
      "20216      5  \n",
      "20217      6  \n",
      "20218      4  \n",
      "\n",
      "[20219 rows x 11 columns]\n"
     ]
    }
   ],
   "source": [
    "dataStaff['ET'] = pd.to_datetime(dataStaff['ET'], format='%H:%M', errors='coerce')\n",
    "\n",
    "# check for NaT values\n",
    "print(dataStaff[pd.isna(dataStaff['ET'])])"
   ]
  },
  {
   "cell_type": "code",
   "execution_count": 311,
   "metadata": {},
   "outputs": [],
   "source": [
    "dataStaff['ET']=pd.to_datetime(dataStaff['ET'], format='%H:%M').dt.strftime('%H:%M')"
   ]
  },
  {
   "cell_type": "code",
   "execution_count": 102,
   "metadata": {},
   "outputs": [
    {
     "data": {
      "text/plain": [
       "Unnamed: 0              int64\n",
       "Flight Date    datetime64[ns]\n",
       "Orientation            object\n",
       "Flight                 object\n",
       "ST                      int64\n",
       "ET                    float64\n",
       "RLO                     int64\n",
       "RSM                     int64\n",
       "EO                      int64\n",
       "AA                      int64\n",
       "staff                   int64\n",
       "dtype: object"
      ]
     },
     "execution_count": 102,
     "metadata": {},
     "output_type": "execute_result"
    }
   ],
   "source": [
    "dataStaff.dtypes"
   ]
  },
  {
   "cell_type": "code",
   "execution_count": 313,
   "metadata": {},
   "outputs": [],
   "source": [
    "# datastagg Flight Date to pandas date YYYY-MM-DD:\n",
    "\n",
    "dataStaff['Flight Date']=pd.to_datetime(dataStaff['Flight Date'], format='%Y-%m-%d', errors='coerce')"
   ]
  },
  {
   "cell_type": "code",
   "execution_count": 314,
   "metadata": {},
   "outputs": [
    {
     "data": {
      "text/html": [
       "<div>\n",
       "<style scoped>\n",
       "    .dataframe tbody tr th:only-of-type {\n",
       "        vertical-align: middle;\n",
       "    }\n",
       "\n",
       "    .dataframe tbody tr th {\n",
       "        vertical-align: top;\n",
       "    }\n",
       "\n",
       "    .dataframe thead th {\n",
       "        text-align: right;\n",
       "    }\n",
       "</style>\n",
       "<table border=\"1\" class=\"dataframe\">\n",
       "  <thead>\n",
       "    <tr style=\"text-align: right;\">\n",
       "      <th></th>\n",
       "      <th>Unnamed: 0</th>\n",
       "      <th>Flight Date</th>\n",
       "      <th>Orientation</th>\n",
       "      <th>Flight</th>\n",
       "      <th>ST</th>\n",
       "      <th>ET</th>\n",
       "      <th>RLO</th>\n",
       "      <th>RSM</th>\n",
       "      <th>EO</th>\n",
       "      <th>AA</th>\n",
       "      <th>staff</th>\n",
       "    </tr>\n",
       "  </thead>\n",
       "  <tbody>\n",
       "    <tr>\n",
       "      <th>20214</th>\n",
       "      <td>20214</td>\n",
       "      <td>2022-11-30</td>\n",
       "      <td>Departure</td>\n",
       "      <td>SQ378</td>\n",
       "      <td>2345</td>\n",
       "      <td>NaN</td>\n",
       "      <td>1</td>\n",
       "      <td>3</td>\n",
       "      <td>1</td>\n",
       "      <td>2</td>\n",
       "      <td>7</td>\n",
       "    </tr>\n",
       "    <tr>\n",
       "      <th>20215</th>\n",
       "      <td>20215</td>\n",
       "      <td>2022-11-30</td>\n",
       "      <td>Departure</td>\n",
       "      <td>SQ26</td>\n",
       "      <td>2355</td>\n",
       "      <td>NaN</td>\n",
       "      <td>1</td>\n",
       "      <td>3</td>\n",
       "      <td>1</td>\n",
       "      <td>2</td>\n",
       "      <td>7</td>\n",
       "    </tr>\n",
       "    <tr>\n",
       "      <th>20216</th>\n",
       "      <td>20216</td>\n",
       "      <td>2022-11-30</td>\n",
       "      <td>Departure</td>\n",
       "      <td>SQ324</td>\n",
       "      <td>2355</td>\n",
       "      <td>NaN</td>\n",
       "      <td>1</td>\n",
       "      <td>2</td>\n",
       "      <td>1</td>\n",
       "      <td>1</td>\n",
       "      <td>5</td>\n",
       "    </tr>\n",
       "    <tr>\n",
       "      <th>20217</th>\n",
       "      <td>20217</td>\n",
       "      <td>2022-11-30</td>\n",
       "      <td>Departure</td>\n",
       "      <td>SQ638</td>\n",
       "      <td>2355</td>\n",
       "      <td>NaN</td>\n",
       "      <td>1</td>\n",
       "      <td>3</td>\n",
       "      <td>1</td>\n",
       "      <td>1</td>\n",
       "      <td>6</td>\n",
       "    </tr>\n",
       "    <tr>\n",
       "      <th>20218</th>\n",
       "      <td>20218</td>\n",
       "      <td>2022-11-30</td>\n",
       "      <td>Arrival</td>\n",
       "      <td>SQ897</td>\n",
       "      <td>2355</td>\n",
       "      <td>NaN</td>\n",
       "      <td>1</td>\n",
       "      <td>1</td>\n",
       "      <td>1</td>\n",
       "      <td>1</td>\n",
       "      <td>4</td>\n",
       "    </tr>\n",
       "  </tbody>\n",
       "</table>\n",
       "</div>"
      ],
      "text/plain": [
       "       Unnamed: 0 Flight Date Orientation Flight    ST   ET  RLO   RSM  EO  \\\n",
       "20214       20214  2022-11-30   Departure  SQ378  2345  NaN     1    3   1   \n",
       "20215       20215  2022-11-30   Departure   SQ26  2355  NaN     1    3   1   \n",
       "20216       20216  2022-11-30   Departure  SQ324  2355  NaN     1    2   1   \n",
       "20217       20217  2022-11-30   Departure  SQ638  2355  NaN     1    3   1   \n",
       "20218       20218  2022-11-30     Arrival  SQ897  2355  NaN     1    1   1   \n",
       "\n",
       "       AA  staff  \n",
       "20214   2      7  \n",
       "20215   2      7  \n",
       "20216   1      5  \n",
       "20217   1      6  \n",
       "20218   1      4  "
      ]
     },
     "execution_count": 314,
     "metadata": {},
     "output_type": "execute_result"
    }
   ],
   "source": [
    "dataStaff.tail()"
   ]
  },
  {
   "cell_type": "code",
   "execution_count": 54,
   "metadata": {},
   "outputs": [
    {
     "data": {
      "text/plain": [
       "Unnamed: 0              int64\n",
       "Flight Date    datetime64[ns]\n",
       "Orientation            object\n",
       "Flight                 object\n",
       "ST                      int64\n",
       "ET                    float64\n",
       "RLO                     int64\n",
       "RSM                     int64\n",
       "EO                      int64\n",
       "AA                      int64\n",
       "staff                   int64\n",
       "dtype: object"
      ]
     },
     "execution_count": 54,
     "metadata": {},
     "output_type": "execute_result"
    }
   ],
   "source": [
    "dataStaff.dtypes"
   ]
  },
  {
   "cell_type": "code",
   "execution_count": 315,
   "metadata": {},
   "outputs": [
    {
     "data": {
      "text/html": [
       "<div>\n",
       "<style scoped>\n",
       "    .dataframe tbody tr th:only-of-type {\n",
       "        vertical-align: middle;\n",
       "    }\n",
       "\n",
       "    .dataframe tbody tr th {\n",
       "        vertical-align: top;\n",
       "    }\n",
       "\n",
       "    .dataframe thead th {\n",
       "        text-align: right;\n",
       "    }\n",
       "</style>\n",
       "<table border=\"1\" class=\"dataframe\">\n",
       "  <thead>\n",
       "    <tr style=\"text-align: right;\">\n",
       "      <th></th>\n",
       "      <th>Flight No</th>\n",
       "      <th>Flight Date</th>\n",
       "      <th>In-bound Time</th>\n",
       "      <th>Trip Number</th>\n",
       "      <th>ULD Number</th>\n",
       "      <th>Pickup Time</th>\n",
       "      <th>Dropoff Time</th>\n",
       "    </tr>\n",
       "  </thead>\n",
       "  <tbody>\n",
       "    <tr>\n",
       "      <th>73726</th>\n",
       "      <td>TR493</td>\n",
       "      <td>2022-11-30</td>\n",
       "      <td>23:14</td>\n",
       "      <td>1.0</td>\n",
       "      <td>BT2163</td>\n",
       "      <td>NaT</td>\n",
       "      <td>NaT</td>\n",
       "    </tr>\n",
       "    <tr>\n",
       "      <th>73729</th>\n",
       "      <td>SQ185</td>\n",
       "      <td>2022-11-30</td>\n",
       "      <td>23:19</td>\n",
       "      <td>0.0</td>\n",
       "      <td>AKE28070SQ</td>\n",
       "      <td>NaT</td>\n",
       "      <td>2022-11-30 23:54:44.753</td>\n",
       "    </tr>\n",
       "    <tr>\n",
       "      <th>73734</th>\n",
       "      <td>SQ906</td>\n",
       "      <td>2022-11-30</td>\n",
       "      <td>23:27</td>\n",
       "      <td>1.0</td>\n",
       "      <td>BT1483</td>\n",
       "      <td>NaT</td>\n",
       "      <td>NaT</td>\n",
       "    </tr>\n",
       "    <tr>\n",
       "      <th>73737</th>\n",
       "      <td>TR617</td>\n",
       "      <td>2022-11-30</td>\n",
       "      <td>23:53</td>\n",
       "      <td>1.0</td>\n",
       "      <td>AKE83265SQ</td>\n",
       "      <td>2022-12-01 00:10:20.050</td>\n",
       "      <td>NaT</td>\n",
       "    </tr>\n",
       "    <tr>\n",
       "      <th>73739</th>\n",
       "      <td>SQ739</td>\n",
       "      <td>2022-11-30</td>\n",
       "      <td>00:11</td>\n",
       "      <td>1.0</td>\n",
       "      <td>BT1218</td>\n",
       "      <td>NaT</td>\n",
       "      <td>NaT</td>\n",
       "    </tr>\n",
       "  </tbody>\n",
       "</table>\n",
       "</div>"
      ],
      "text/plain": [
       "      Flight No Flight Date In-bound Time  Trip Number  ULD Number  \\\n",
       "73726     TR493  2022-11-30         23:14          1.0      BT2163   \n",
       "73729     SQ185  2022-11-30         23:19          0.0  AKE28070SQ   \n",
       "73734     SQ906  2022-11-30         23:27          1.0      BT1483   \n",
       "73737     TR617  2022-11-30         23:53          1.0  AKE83265SQ   \n",
       "73739     SQ739  2022-11-30         00:11          1.0      BT1218   \n",
       "\n",
       "                  Pickup Time            Dropoff Time  \n",
       "73726                     NaT                     NaT  \n",
       "73729                     NaT 2022-11-30 23:54:44.753  \n",
       "73734                     NaT                     NaT  \n",
       "73737 2022-12-01 00:10:20.050                     NaT  \n",
       "73739                     NaT                     NaT  "
      ]
     },
     "execution_count": 315,
     "metadata": {},
     "output_type": "execute_result"
    }
   ],
   "source": [
    "dataBugagge.tail()"
   ]
  },
  {
   "cell_type": "code",
   "execution_count": 114,
   "metadata": {},
   "outputs": [
    {
     "data": {
      "text/plain": [
       "Flight No                object\n",
       "Flight Date      datetime64[ns]\n",
       "In-bound Time    datetime64[ns]\n",
       "Trip Number             float64\n",
       "ULD Number               object\n",
       "Pickup Time      datetime64[ns]\n",
       "Dropoff Time     datetime64[ns]\n",
       "dtype: object"
      ]
     },
     "execution_count": 114,
     "metadata": {},
     "output_type": "execute_result"
    }
   ],
   "source": [
    "dataBugagge.dtypes"
   ]
  },
  {
   "cell_type": "code",
   "execution_count": 317,
   "metadata": {},
   "outputs": [],
   "source": [
    "dataBugagge['Flight Date']=pd.to_datetime(dataBugagge['Flight Date'], format='%Y-%m-%d', errors='coerce')"
   ]
  },
  {
   "cell_type": "code",
   "execution_count": 233,
   "metadata": {},
   "outputs": [
    {
     "ename": "TypeError",
     "evalue": "'NoneType' object is not subscriptable",
     "output_type": "error",
     "traceback": [
      "\u001b[1;31m---------------------------------------------------------------------------\u001b[0m",
      "\u001b[1;31mTypeError\u001b[0m                                 Traceback (most recent call last)",
      "Cell \u001b[1;32mIn [233], line 6\u001b[0m\n\u001b[0;32m      4\u001b[0m dataBugagge\u001b[39m=\u001b[39mdataBugagge\u001b[39m.\u001b[39mdropna(subset\u001b[39m=\u001b[39m[\u001b[39m'\u001b[39m\u001b[39mIn-bound Time\u001b[39m\u001b[39m'\u001b[39m],inplace\u001b[39m=\u001b[39m\u001b[39mTrue\u001b[39;00m)\n\u001b[0;32m      5\u001b[0m \u001b[39m# dataBugagge[dataBugagge['In-bound Time']==]\u001b[39;00m\n\u001b[1;32m----> 6\u001b[0m dataBugagge[\u001b[39m'\u001b[39m\u001b[39mIn-bound Time\u001b[39m\u001b[39m'\u001b[39m]\u001b[39m=\u001b[39mpd\u001b[39m.\u001b[39mto_datetime(dataBugagge[\u001b[39m'\u001b[39m\u001b[39mIn-bound Time\u001b[39m\u001b[39m'\u001b[39m], \u001b[39mformat\u001b[39m\u001b[39m=\u001b[39m\u001b[39m'\u001b[39m\u001b[39m%\u001b[39m\u001b[39mH:\u001b[39m\u001b[39m%\u001b[39m\u001b[39mM\u001b[39m\u001b[39m'\u001b[39m)\u001b[39m.\u001b[39mdt\u001b[39m.\u001b[39mstrftime(\u001b[39m'\u001b[39m\u001b[39m%\u001b[39m\u001b[39mH:\u001b[39m\u001b[39m%\u001b[39m\u001b[39mM\u001b[39m\u001b[39m'\u001b[39m)\n",
      "\u001b[1;31mTypeError\u001b[0m: 'NoneType' object is not subscriptable"
     ]
    }
   ],
   "source": [
    "# ET datatype to HH:MM\n",
    "dataStaff['ET']=pd.to_datetime(dataStaff['ET'], format='%H:%M').dt.strftime('%H:%M')\n",
    "# dataBugagge In-bound Time is not null\n",
    "dataBugagge=dataBugagge.dropna(subset=['In-bound Time'],inplace=True)\n",
    "# dataBugagge[dataBugagge['In-bound Time']==]\n",
    "# dataBugagge['In-bound Time']=pd.to_datetime(dataBugagge['In-bound Time'], format='%H:%M').dt.strftime('%H:%M')\n"
   ]
  },
  {
   "cell_type": "code",
   "execution_count": 258,
   "metadata": {},
   "outputs": [
    {
     "data": {
      "text/plain": [
       "Flight No                object\n",
       "Flight Date      datetime64[ns]\n",
       "In-bound Time            object\n",
       "Trip Number             float64\n",
       "ULD Number               object\n",
       "Pickup Time      datetime64[ns]\n",
       "Dropoff Time     datetime64[ns]\n",
       "dtype: object"
      ]
     },
     "execution_count": 258,
     "metadata": {},
     "output_type": "execute_result"
    }
   ],
   "source": [
    "dataBugagge.dtypes"
   ]
  },
  {
   "cell_type": "code",
   "execution_count": 103,
   "metadata": {},
   "outputs": [
    {
     "data": {
      "text/plain": [
       "Unnamed: 0              int64\n",
       "Flight Date    datetime64[ns]\n",
       "Orientation            object\n",
       "Flight                 object\n",
       "ST                      int64\n",
       "ET                    float64\n",
       "RLO                     int64\n",
       "RSM                     int64\n",
       "EO                      int64\n",
       "AA                      int64\n",
       "staff                   int64\n",
       "dtype: object"
      ]
     },
     "execution_count": 103,
     "metadata": {},
     "output_type": "execute_result"
    }
   ],
   "source": [
    "dataStaff.dtypes"
   ]
  },
  {
   "cell_type": "code",
   "execution_count": 56,
   "metadata": {},
   "outputs": [
    {
     "data": {
      "text/html": [
       "<div>\n",
       "<style scoped>\n",
       "    .dataframe tbody tr th:only-of-type {\n",
       "        vertical-align: middle;\n",
       "    }\n",
       "\n",
       "    .dataframe tbody tr th {\n",
       "        vertical-align: top;\n",
       "    }\n",
       "\n",
       "    .dataframe thead th {\n",
       "        text-align: right;\n",
       "    }\n",
       "</style>\n",
       "<table border=\"1\" class=\"dataframe\">\n",
       "  <thead>\n",
       "    <tr style=\"text-align: right;\">\n",
       "      <th></th>\n",
       "      <th>Unnamed: 0</th>\n",
       "      <th>Flight Date</th>\n",
       "      <th>Orientation</th>\n",
       "      <th>Flight</th>\n",
       "      <th>ST</th>\n",
       "      <th>ET</th>\n",
       "      <th>RLO</th>\n",
       "      <th>RSM</th>\n",
       "      <th>EO</th>\n",
       "      <th>AA</th>\n",
       "      <th>staff</th>\n",
       "    </tr>\n",
       "  </thead>\n",
       "  <tbody>\n",
       "    <tr>\n",
       "      <th>2</th>\n",
       "      <td>2</td>\n",
       "      <td>2022-09-01</td>\n",
       "      <td>Arrival</td>\n",
       "      <td>SQ208</td>\n",
       "      <td>15</td>\n",
       "      <td>21.0</td>\n",
       "      <td>1</td>\n",
       "      <td>4</td>\n",
       "      <td>1</td>\n",
       "      <td>2</td>\n",
       "      <td>8</td>\n",
       "    </tr>\n",
       "    <tr>\n",
       "      <th>4</th>\n",
       "      <td>4</td>\n",
       "      <td>2022-09-01</td>\n",
       "      <td>Arrival</td>\n",
       "      <td>SQ242</td>\n",
       "      <td>20</td>\n",
       "      <td>40.0</td>\n",
       "      <td>1</td>\n",
       "      <td>3</td>\n",
       "      <td>1</td>\n",
       "      <td>1</td>\n",
       "      <td>6</td>\n",
       "    </tr>\n",
       "    <tr>\n",
       "      <th>11</th>\n",
       "      <td>11</td>\n",
       "      <td>2022-09-01</td>\n",
       "      <td>Arrival</td>\n",
       "      <td>SQ11</td>\n",
       "      <td>115</td>\n",
       "      <td>38.0</td>\n",
       "      <td>1</td>\n",
       "      <td>3</td>\n",
       "      <td>1</td>\n",
       "      <td>2</td>\n",
       "      <td>7</td>\n",
       "    </tr>\n",
       "    <tr>\n",
       "      <th>22</th>\n",
       "      <td>22</td>\n",
       "      <td>2022-09-01</td>\n",
       "      <td>Arrival</td>\n",
       "      <td>TR25</td>\n",
       "      <td>355</td>\n",
       "      <td>355.0</td>\n",
       "      <td>1</td>\n",
       "      <td>3</td>\n",
       "      <td>1</td>\n",
       "      <td>1</td>\n",
       "      <td>6</td>\n",
       "    </tr>\n",
       "    <tr>\n",
       "      <th>23</th>\n",
       "      <td>23</td>\n",
       "      <td>2022-09-01</td>\n",
       "      <td>Arrival</td>\n",
       "      <td>TR509</td>\n",
       "      <td>405</td>\n",
       "      <td>510.0</td>\n",
       "      <td>1</td>\n",
       "      <td>3</td>\n",
       "      <td>1</td>\n",
       "      <td>2</td>\n",
       "      <td>7</td>\n",
       "    </tr>\n",
       "  </tbody>\n",
       "</table>\n",
       "</div>"
      ],
      "text/plain": [
       "    Unnamed: 0 Flight Date Orientation Flight   ST     ET  RLO   RSM  EO  AA  \\\n",
       "2            2  2022-09-01     Arrival  SQ208   15   21.0     1    4   1   2   \n",
       "4            4  2022-09-01     Arrival  SQ242   20   40.0     1    3   1   1   \n",
       "11          11  2022-09-01     Arrival   SQ11  115   38.0     1    3   1   2   \n",
       "22          22  2022-09-01     Arrival   TR25  355  355.0     1    3   1   1   \n",
       "23          23  2022-09-01     Arrival  TR509  405  510.0     1    3   1   2   \n",
       "\n",
       "    staff  \n",
       "2       8  \n",
       "4       6  \n",
       "11      7  \n",
       "22      6  \n",
       "23      7  "
      ]
     },
     "execution_count": 56,
     "metadata": {},
     "output_type": "execute_result"
    }
   ],
   "source": [
    "dataStaff.head()"
   ]
  },
  {
   "cell_type": "code",
   "execution_count": 83,
   "metadata": {},
   "outputs": [],
   "source": [
    "# remove all the duplicates Flight, Flight Date:\n",
    "dataStaff.drop_duplicates(subset=['Flight','Flight Date'],keep='first',inplace=True)"
   ]
  },
  {
   "cell_type": "code",
   "execution_count": 84,
   "metadata": {},
   "outputs": [
    {
     "data": {
      "text/plain": [
       "(10108, 11)"
      ]
     },
     "execution_count": 84,
     "metadata": {},
     "output_type": "execute_result"
    }
   ],
   "source": [
    "dataStaff.shape"
   ]
  },
  {
   "cell_type": "code",
   "execution_count": 60,
   "metadata": {},
   "outputs": [],
   "source": [
    "# remove all the duplicates Flight No, Flight Date:\n",
    "dataBugagge.drop_duplicates(subset=['Flight No','Flight Date'],keep='first',inplace=True)"
   ]
  },
  {
   "cell_type": "code",
   "execution_count": 61,
   "metadata": {},
   "outputs": [
    {
     "data": {
      "text/plain": [
       "(8008, 9)"
      ]
     },
     "execution_count": 61,
     "metadata": {},
     "output_type": "execute_result"
    }
   ],
   "source": [
    "dataBugagge.shape"
   ]
  },
  {
   "cell_type": "code",
   "execution_count": 62,
   "metadata": {},
   "outputs": [
    {
     "data": {
      "text/plain": [
       "(10113, 10)"
      ]
     },
     "execution_count": 62,
     "metadata": {},
     "output_type": "execute_result"
    }
   ],
   "source": [
    "dataStaff.shape"
   ]
  },
  {
   "cell_type": "code",
   "execution_count": null,
   "metadata": {},
   "outputs": [],
   "source": [
    "# change Flight no to Flight"
   ]
  },
  {
   "cell_type": "code",
   "execution_count": 63,
   "metadata": {},
   "outputs": [],
   "source": [
    "dataStaff.drop_duplicates(subset=['Flight','Flight Date'],keep='first',inplace=True)"
   ]
  },
  {
   "cell_type": "code",
   "execution_count": 104,
   "metadata": {},
   "outputs": [],
   "source": [
    "# merge dataStaff and dataBugagge on Flight, Flight Date, In-bound Time\n",
    "# rename Flight to Flight No, ET to In-bound Time\n",
    "dataStaff.rename(columns={'Flight':'Flight No'},inplace=True)\n",
    "# dataStaffBugagge=pd.merge(dataStaff,dataBugagge,how='inner',on=['Flight','Flight Date','In-bound Time'])"
   ]
  },
  {
   "cell_type": "code",
   "execution_count": 105,
   "metadata": {},
   "outputs": [
    {
     "data": {
      "text/plain": [
       "0       2022-09-01\n",
       "12      2022-09-01\n",
       "25      2022-09-01\n",
       "29      2022-09-01\n",
       "40      2022-09-01\n",
       "           ...    \n",
       "73763   2022-10-12\n",
       "73764   2022-10-13\n",
       "73767   2022-10-13\n",
       "73768   2022-10-13\n",
       "73817          NaT\n",
       "Name: Flight Date, Length: 8008, dtype: datetime64[ns]"
      ]
     },
     "execution_count": 105,
     "metadata": {},
     "output_type": "execute_result"
    }
   ],
   "source": [
    "dataBugagge['Flight Date']"
   ]
  },
  {
   "cell_type": "code",
   "execution_count": 65,
   "metadata": {},
   "outputs": [
    {
     "data": {
      "text/plain": [
       "(10108, 10)"
      ]
     },
     "execution_count": 65,
     "metadata": {},
     "output_type": "execute_result"
    }
   ],
   "source": [
    "dataStaff.shape"
   ]
  },
  {
   "cell_type": "code",
   "execution_count": 68,
   "metadata": {},
   "outputs": [],
   "source": [
    "# convert to datetime\n",
    "dataStaff['Flight Date']=pd.to_datetime(dataStaff['Flight Date'], format='%Y-%m-%d', errors='coerce')\n",
    "# dataStaff['Flight Date']."
   ]
  },
  {
   "cell_type": "code",
   "execution_count": 69,
   "metadata": {},
   "outputs": [
    {
     "data": {
      "text/plain": [
       "2    NaT\n",
       "4    NaT\n",
       "11   NaT\n",
       "22   NaT\n",
       "23   NaT\n",
       "Name: Flight Date, dtype: datetime64[ns]"
      ]
     },
     "execution_count": 69,
     "metadata": {},
     "output_type": "execute_result"
    }
   ],
   "source": [
    "dataStaff['Flight Date'].head()"
   ]
  },
  {
   "cell_type": "code",
   "execution_count": 64,
   "metadata": {},
   "outputs": [
    {
     "data": {
      "text/plain": [
       "68"
      ]
     },
     "execution_count": 64,
     "metadata": {},
     "output_type": "execute_result"
    }
   ],
   "source": [
    "# intersect dataStaff and dataBugagge on Flight No on 2022-09-01:\n",
    "dataBugagge['Flight No'].isin(dataStaff['Flight No']).loc[dataBugagge['Flight Date']=='2022-09-01'].sum()\n"
   ]
  },
  {
   "cell_type": "code",
   "execution_count": 106,
   "metadata": {},
   "outputs": [],
   "source": [
    "dataStaffBugagge=pd.merge(dataStaff,dataBugagge,how='outer',on=['Flight No','Flight Date'])"
   ]
  },
  {
   "cell_type": "code",
   "execution_count": 107,
   "metadata": {},
   "outputs": [
    {
     "data": {
      "text/html": [
       "<div>\n",
       "<style scoped>\n",
       "    .dataframe tbody tr th:only-of-type {\n",
       "        vertical-align: middle;\n",
       "    }\n",
       "\n",
       "    .dataframe tbody tr th {\n",
       "        vertical-align: top;\n",
       "    }\n",
       "\n",
       "    .dataframe thead th {\n",
       "        text-align: right;\n",
       "    }\n",
       "</style>\n",
       "<table border=\"1\" class=\"dataframe\">\n",
       "  <thead>\n",
       "    <tr style=\"text-align: right;\">\n",
       "      <th></th>\n",
       "      <th>Unnamed: 0</th>\n",
       "      <th>Flight Date</th>\n",
       "      <th>Orientation</th>\n",
       "      <th>Flight No</th>\n",
       "      <th>ST</th>\n",
       "      <th>ET</th>\n",
       "      <th>RLO</th>\n",
       "      <th>RSM</th>\n",
       "      <th>EO</th>\n",
       "      <th>AA</th>\n",
       "      <th>staff</th>\n",
       "      <th>In-bound Time</th>\n",
       "      <th>Trip Number</th>\n",
       "      <th>ULD Number</th>\n",
       "      <th>Pickup Time</th>\n",
       "      <th>Dropoff Time</th>\n",
       "      <th>Dropoff TimeN</th>\n",
       "      <th>Total ULDS</th>\n",
       "    </tr>\n",
       "  </thead>\n",
       "  <tbody>\n",
       "    <tr>\n",
       "      <th>0</th>\n",
       "      <td>2.0</td>\n",
       "      <td>2022-09-01</td>\n",
       "      <td>Arrival</td>\n",
       "      <td>SQ208</td>\n",
       "      <td>15.0</td>\n",
       "      <td>21.0</td>\n",
       "      <td>1.0</td>\n",
       "      <td>4.0</td>\n",
       "      <td>1.0</td>\n",
       "      <td>2.0</td>\n",
       "      <td>8.0</td>\n",
       "      <td>2022-09-01 00:21:00</td>\n",
       "      <td>1.0</td>\n",
       "      <td>AKE89138SQ</td>\n",
       "      <td>2022-09-01 00:33:15.220</td>\n",
       "      <td>2022-09-01 00:37:16.930</td>\n",
       "      <td>2022-09-01 00:48:19.473</td>\n",
       "      <td>12.0</td>\n",
       "    </tr>\n",
       "    <tr>\n",
       "      <th>1</th>\n",
       "      <td>4.0</td>\n",
       "      <td>2022-09-01</td>\n",
       "      <td>Arrival</td>\n",
       "      <td>SQ242</td>\n",
       "      <td>20.0</td>\n",
       "      <td>40.0</td>\n",
       "      <td>1.0</td>\n",
       "      <td>3.0</td>\n",
       "      <td>1.0</td>\n",
       "      <td>1.0</td>\n",
       "      <td>6.0</td>\n",
       "      <td>2022-09-01 00:40:00</td>\n",
       "      <td>1.0</td>\n",
       "      <td>AKE80436SQ</td>\n",
       "      <td>2022-09-01 00:54:23.003</td>\n",
       "      <td>2022-09-01 00:55:44.893</td>\n",
       "      <td>2022-09-01 00:55:44.900</td>\n",
       "      <td>4.0</td>\n",
       "    </tr>\n",
       "    <tr>\n",
       "      <th>2</th>\n",
       "      <td>11.0</td>\n",
       "      <td>2022-09-01</td>\n",
       "      <td>Arrival</td>\n",
       "      <td>SQ11</td>\n",
       "      <td>115.0</td>\n",
       "      <td>38.0</td>\n",
       "      <td>1.0</td>\n",
       "      <td>3.0</td>\n",
       "      <td>1.0</td>\n",
       "      <td>2.0</td>\n",
       "      <td>7.0</td>\n",
       "      <td>2022-09-01 00:38:00</td>\n",
       "      <td>1.0</td>\n",
       "      <td>AKE70581SQ</td>\n",
       "      <td>NaT</td>\n",
       "      <td>2023-01-17 00:00:00.000</td>\n",
       "      <td>NaT</td>\n",
       "      <td>13.0</td>\n",
       "    </tr>\n",
       "    <tr>\n",
       "      <th>3</th>\n",
       "      <td>22.0</td>\n",
       "      <td>2022-09-01</td>\n",
       "      <td>Arrival</td>\n",
       "      <td>TR25</td>\n",
       "      <td>355.0</td>\n",
       "      <td>355.0</td>\n",
       "      <td>1.0</td>\n",
       "      <td>3.0</td>\n",
       "      <td>1.0</td>\n",
       "      <td>1.0</td>\n",
       "      <td>6.0</td>\n",
       "      <td>2022-09-01 03:55:00</td>\n",
       "      <td>1.0</td>\n",
       "      <td>AKE84300SQ</td>\n",
       "      <td>2022-09-01 04:17:01.517</td>\n",
       "      <td>2022-09-01 04:22:18.260</td>\n",
       "      <td>2022-09-01 04:38:25.783</td>\n",
       "      <td>11.0</td>\n",
       "    </tr>\n",
       "    <tr>\n",
       "      <th>4</th>\n",
       "      <td>23.0</td>\n",
       "      <td>2022-09-01</td>\n",
       "      <td>Arrival</td>\n",
       "      <td>TR509</td>\n",
       "      <td>405.0</td>\n",
       "      <td>510.0</td>\n",
       "      <td>1.0</td>\n",
       "      <td>3.0</td>\n",
       "      <td>1.0</td>\n",
       "      <td>2.0</td>\n",
       "      <td>7.0</td>\n",
       "      <td>NaT</td>\n",
       "      <td>NaN</td>\n",
       "      <td>NaN</td>\n",
       "      <td>NaT</td>\n",
       "      <td>NaT</td>\n",
       "      <td>NaT</td>\n",
       "      <td>NaN</td>\n",
       "    </tr>\n",
       "  </tbody>\n",
       "</table>\n",
       "</div>"
      ],
      "text/plain": [
       "   Unnamed: 0 Flight Date Orientation Flight No     ST     ET  RLO   RSM   EO  \\\n",
       "0         2.0  2022-09-01     Arrival     SQ208   15.0   21.0   1.0  4.0  1.0   \n",
       "1         4.0  2022-09-01     Arrival     SQ242   20.0   40.0   1.0  3.0  1.0   \n",
       "2        11.0  2022-09-01     Arrival      SQ11  115.0   38.0   1.0  3.0  1.0   \n",
       "3        22.0  2022-09-01     Arrival      TR25  355.0  355.0   1.0  3.0  1.0   \n",
       "4        23.0  2022-09-01     Arrival     TR509  405.0  510.0   1.0  3.0  1.0   \n",
       "\n",
       "    AA  staff       In-bound Time  Trip Number  ULD Number  \\\n",
       "0  2.0    8.0 2022-09-01 00:21:00          1.0  AKE89138SQ   \n",
       "1  1.0    6.0 2022-09-01 00:40:00          1.0  AKE80436SQ   \n",
       "2  2.0    7.0 2022-09-01 00:38:00          1.0  AKE70581SQ   \n",
       "3  1.0    6.0 2022-09-01 03:55:00          1.0  AKE84300SQ   \n",
       "4  2.0    7.0                 NaT          NaN         NaN   \n",
       "\n",
       "              Pickup Time            Dropoff Time           Dropoff TimeN  \\\n",
       "0 2022-09-01 00:33:15.220 2022-09-01 00:37:16.930 2022-09-01 00:48:19.473   \n",
       "1 2022-09-01 00:54:23.003 2022-09-01 00:55:44.893 2022-09-01 00:55:44.900   \n",
       "2                     NaT 2023-01-17 00:00:00.000                     NaT   \n",
       "3 2022-09-01 04:17:01.517 2022-09-01 04:22:18.260 2022-09-01 04:38:25.783   \n",
       "4                     NaT                     NaT                     NaT   \n",
       "\n",
       "   Total ULDS  \n",
       "0        12.0  \n",
       "1         4.0  \n",
       "2        13.0  \n",
       "3        11.0  \n",
       "4         NaN  "
      ]
     },
     "execution_count": 107,
     "metadata": {},
     "output_type": "execute_result"
    }
   ],
   "source": [
    "dataStaffBugagge.head()"
   ]
  },
  {
   "cell_type": "code",
   "execution_count": 26,
   "metadata": {},
   "outputs": [],
   "source": [
    "dataStaffBugagge.drop(columns=['Unnamed: 0','Trip Number','Dropoff Time'],inplace=True)"
   ]
  },
  {
   "cell_type": "code",
   "execution_count": 27,
   "metadata": {},
   "outputs": [
    {
     "data": {
      "text/html": [
       "<div>\n",
       "<style scoped>\n",
       "    .dataframe tbody tr th:only-of-type {\n",
       "        vertical-align: middle;\n",
       "    }\n",
       "\n",
       "    .dataframe tbody tr th {\n",
       "        vertical-align: top;\n",
       "    }\n",
       "\n",
       "    .dataframe thead th {\n",
       "        text-align: right;\n",
       "    }\n",
       "</style>\n",
       "<table border=\"1\" class=\"dataframe\">\n",
       "  <thead>\n",
       "    <tr style=\"text-align: right;\">\n",
       "      <th></th>\n",
       "      <th>Flight Date</th>\n",
       "      <th>Orientation</th>\n",
       "      <th>Flight No</th>\n",
       "      <th>ST</th>\n",
       "      <th>ET</th>\n",
       "      <th>RLO</th>\n",
       "      <th>RSM</th>\n",
       "      <th>EO</th>\n",
       "      <th>AA</th>\n",
       "      <th>staff</th>\n",
       "      <th>In-bound Time</th>\n",
       "      <th>ULD Number</th>\n",
       "      <th>Pickup Time</th>\n",
       "      <th>Dropoff TimeN</th>\n",
       "      <th>Total ULDS</th>\n",
       "    </tr>\n",
       "  </thead>\n",
       "  <tbody>\n",
       "    <tr>\n",
       "      <th>0</th>\n",
       "      <td>2022-09-01</td>\n",
       "      <td>Arrival</td>\n",
       "      <td>SQ208</td>\n",
       "      <td>15.0</td>\n",
       "      <td>21.0</td>\n",
       "      <td>1.0</td>\n",
       "      <td>4.0</td>\n",
       "      <td>1.0</td>\n",
       "      <td>2.0</td>\n",
       "      <td>8.0</td>\n",
       "      <td>2022-09-01 00:21:00</td>\n",
       "      <td>AKE89138SQ</td>\n",
       "      <td>2022-09-01 00:33:15.220</td>\n",
       "      <td>2022-09-01 00:48:19.473</td>\n",
       "      <td>12.0</td>\n",
       "    </tr>\n",
       "    <tr>\n",
       "      <th>1</th>\n",
       "      <td>2022-09-01</td>\n",
       "      <td>Arrival</td>\n",
       "      <td>SQ242</td>\n",
       "      <td>20.0</td>\n",
       "      <td>40.0</td>\n",
       "      <td>1.0</td>\n",
       "      <td>3.0</td>\n",
       "      <td>1.0</td>\n",
       "      <td>1.0</td>\n",
       "      <td>6.0</td>\n",
       "      <td>2022-09-01 00:40:00</td>\n",
       "      <td>AKE80436SQ</td>\n",
       "      <td>2022-09-01 00:54:23.003</td>\n",
       "      <td>2022-09-01 00:55:44.900</td>\n",
       "      <td>4.0</td>\n",
       "    </tr>\n",
       "    <tr>\n",
       "      <th>2</th>\n",
       "      <td>2022-09-01</td>\n",
       "      <td>Arrival</td>\n",
       "      <td>SQ11</td>\n",
       "      <td>115.0</td>\n",
       "      <td>38.0</td>\n",
       "      <td>1.0</td>\n",
       "      <td>3.0</td>\n",
       "      <td>1.0</td>\n",
       "      <td>2.0</td>\n",
       "      <td>7.0</td>\n",
       "      <td>2022-09-01 00:38:00</td>\n",
       "      <td>AKE70581SQ</td>\n",
       "      <td>NaT</td>\n",
       "      <td>NaT</td>\n",
       "      <td>13.0</td>\n",
       "    </tr>\n",
       "    <tr>\n",
       "      <th>3</th>\n",
       "      <td>2022-09-01</td>\n",
       "      <td>Arrival</td>\n",
       "      <td>TR25</td>\n",
       "      <td>355.0</td>\n",
       "      <td>355.0</td>\n",
       "      <td>1.0</td>\n",
       "      <td>3.0</td>\n",
       "      <td>1.0</td>\n",
       "      <td>1.0</td>\n",
       "      <td>6.0</td>\n",
       "      <td>2022-09-01 03:55:00</td>\n",
       "      <td>AKE84300SQ</td>\n",
       "      <td>2022-09-01 04:17:01.517</td>\n",
       "      <td>2022-09-01 04:38:25.783</td>\n",
       "      <td>11.0</td>\n",
       "    </tr>\n",
       "    <tr>\n",
       "      <th>4</th>\n",
       "      <td>2022-09-01</td>\n",
       "      <td>Arrival</td>\n",
       "      <td>TR509</td>\n",
       "      <td>405.0</td>\n",
       "      <td>510.0</td>\n",
       "      <td>1.0</td>\n",
       "      <td>3.0</td>\n",
       "      <td>1.0</td>\n",
       "      <td>2.0</td>\n",
       "      <td>7.0</td>\n",
       "      <td>NaT</td>\n",
       "      <td>NaN</td>\n",
       "      <td>NaT</td>\n",
       "      <td>NaT</td>\n",
       "      <td>NaN</td>\n",
       "    </tr>\n",
       "  </tbody>\n",
       "</table>\n",
       "</div>"
      ],
      "text/plain": [
       "  Flight Date Orientation Flight No     ST     ET  RLO   RSM   EO   AA  staff  \\\n",
       "0  2022-09-01     Arrival     SQ208   15.0   21.0   1.0  4.0  1.0  2.0    8.0   \n",
       "1  2022-09-01     Arrival     SQ242   20.0   40.0   1.0  3.0  1.0  1.0    6.0   \n",
       "2  2022-09-01     Arrival      SQ11  115.0   38.0   1.0  3.0  1.0  2.0    7.0   \n",
       "3  2022-09-01     Arrival      TR25  355.0  355.0   1.0  3.0  1.0  1.0    6.0   \n",
       "4  2022-09-01     Arrival     TR509  405.0  510.0   1.0  3.0  1.0  2.0    7.0   \n",
       "\n",
       "        In-bound Time  ULD Number             Pickup Time  \\\n",
       "0 2022-09-01 00:21:00  AKE89138SQ 2022-09-01 00:33:15.220   \n",
       "1 2022-09-01 00:40:00  AKE80436SQ 2022-09-01 00:54:23.003   \n",
       "2 2022-09-01 00:38:00  AKE70581SQ                     NaT   \n",
       "3 2022-09-01 03:55:00  AKE84300SQ 2022-09-01 04:17:01.517   \n",
       "4                 NaT         NaN                     NaT   \n",
       "\n",
       "            Dropoff TimeN  Total ULDS  \n",
       "0 2022-09-01 00:48:19.473        12.0  \n",
       "1 2022-09-01 00:55:44.900         4.0  \n",
       "2                     NaT        13.0  \n",
       "3 2022-09-01 04:38:25.783        11.0  \n",
       "4                     NaT         NaN  "
      ]
     },
     "execution_count": 27,
     "metadata": {},
     "output_type": "execute_result"
    }
   ],
   "source": [
    "dataStaffBugagge.head()"
   ]
  },
  {
   "cell_type": "code",
   "execution_count": 108,
   "metadata": {},
   "outputs": [
    {
     "data": {
      "text/plain": [
       "(11813, 18)"
      ]
     },
     "execution_count": 108,
     "metadata": {},
     "output_type": "execute_result"
    }
   ],
   "source": [
    "dataStaffBugagge.shape"
   ]
  },
  {
   "cell_type": "code",
   "execution_count": 78,
   "metadata": {},
   "outputs": [],
   "source": [
    "# save to csv\n",
    "dataStaffBugagge.to_csv('J:\\\\SATS\\\\dataStaffBugagge3.csv',index=False)"
   ]
  },
  {
   "cell_type": "code",
   "execution_count": 97,
   "metadata": {},
   "outputs": [
    {
     "data": {
      "text/plain": [
       "(11808, 15)"
      ]
     },
     "execution_count": 97,
     "metadata": {},
     "output_type": "execute_result"
    }
   ],
   "source": [
    "dataStaffBugagge.shape"
   ]
  },
  {
   "cell_type": "code",
   "execution_count": 98,
   "metadata": {},
   "outputs": [],
   "source": [
    "# drop all the Orientation where Flight not 'Arrival'\n",
    "dataStaffBugagge.drop(dataStaffBugagge[dataStaffBugagge['Orientation']!='Arrival'].index,inplace=True)"
   ]
  },
  {
   "cell_type": "code",
   "execution_count": 99,
   "metadata": {},
   "outputs": [
    {
     "data": {
      "text/plain": [
       "(10108, 15)"
      ]
     },
     "execution_count": 99,
     "metadata": {},
     "output_type": "execute_result"
    }
   ],
   "source": [
    "dataStaffBugagge.shape"
   ]
  },
  {
   "cell_type": "code",
   "execution_count": 109,
   "metadata": {},
   "outputs": [
    {
     "data": {
      "text/plain": [
       "(10113, 11)"
      ]
     },
     "execution_count": 109,
     "metadata": {},
     "output_type": "execute_result"
    }
   ],
   "source": [
    "dataStaff.shape"
   ]
  },
  {
   "cell_type": "code",
   "execution_count": null,
   "metadata": {},
   "outputs": [],
   "source": []
  },
  {
   "cell_type": "code",
   "execution_count": 110,
   "metadata": {},
   "outputs": [],
   "source": [
    "# drop all the Orientation where Flight not 'Arrival'\n",
    "dataStaff.drop(dataStaff[dataStaff['Orientation']!='Arrival'].index,inplace=True)"
   ]
  },
  {
   "cell_type": "code",
   "execution_count": 111,
   "metadata": {},
   "outputs": [
    {
     "data": {
      "text/plain": [
       "(10113, 11)"
      ]
     },
     "execution_count": 111,
     "metadata": {},
     "output_type": "execute_result"
    }
   ],
   "source": [
    "dataStaff.shape"
   ]
  },
  {
   "cell_type": "code",
   "execution_count": 112,
   "metadata": {},
   "outputs": [],
   "source": [
    "dataStaffBugagge.drop(dataStaffBugagge[dataStaffBugagge['Orientation']!='Arrival'].index,inplace=True)"
   ]
  },
  {
   "cell_type": "code",
   "execution_count": 116,
   "metadata": {},
   "outputs": [],
   "source": [
    "# save sataff to csv\n",
    "dataStaff.to_csv('J:\\\\SATS\\\\dataStaff.csv',index=False)"
   ]
  },
  {
   "cell_type": "code",
   "execution_count": 114,
   "metadata": {},
   "outputs": [
    {
     "data": {
      "text/plain": [
       "(10113, 18)"
      ]
     },
     "execution_count": 114,
     "metadata": {},
     "output_type": "execute_result"
    }
   ],
   "source": [
    "dataStaffBugagge.shape"
   ]
  },
  {
   "cell_type": "code",
   "execution_count": 115,
   "metadata": {},
   "outputs": [],
   "source": [
    "# save dataStaffBugagge to csv\n",
    "dataStaffBugagge.to_csv('J:\\\\SATS\\\\dataStaffBugaggeNew.csv',index=False)"
   ]
  },
  {
   "cell_type": "code",
   "execution_count": 118,
   "metadata": {},
   "outputs": [
    {
     "data": {
      "text/plain": [
       "Flight Date\n",
       "2022-09-01    106\n",
       "2022-09-02    109\n",
       "2022-09-03    115\n",
       "2022-09-04    115\n",
       "2022-09-05    103\n",
       "             ... \n",
       "2022-11-26    121\n",
       "2022-11-27    122\n",
       "2022-11-28    118\n",
       "2022-11-29    113\n",
       "2022-11-30    117\n",
       "Name: Flight, Length: 91, dtype: int64"
      ]
     },
     "execution_count": 118,
     "metadata": {},
     "output_type": "execute_result"
    }
   ],
   "source": [
    "# why shape is different for dataSaff and dataStaffBugagge\n",
    "# date wise flights in dataStaff\n",
    "dataStaff.groupby('Flight Date')['Flight'].count()\n"
   ]
  },
  {
   "cell_type": "code",
   "execution_count": null,
   "metadata": {},
   "outputs": [],
   "source": [
    "# date wise flights in dataStaffBugagge\n",
    "dataStaffBugagge.groupby('Flight Date')['Flight No'].count()\n"
   ]
  },
  {
   "cell_type": "code",
   "execution_count": 114,
   "metadata": {},
   "outputs": [
    {
     "data": {
      "text/html": [
       "<div>\n",
       "<style scoped>\n",
       "    .dataframe tbody tr th:only-of-type {\n",
       "        vertical-align: middle;\n",
       "    }\n",
       "\n",
       "    .dataframe tbody tr th {\n",
       "        vertical-align: top;\n",
       "    }\n",
       "\n",
       "    .dataframe thead th {\n",
       "        text-align: right;\n",
       "    }\n",
       "</style>\n",
       "<table border=\"1\" class=\"dataframe\">\n",
       "  <thead>\n",
       "    <tr style=\"text-align: right;\">\n",
       "      <th></th>\n",
       "      <th>Unnamed: 0</th>\n",
       "      <th>Flight Date</th>\n",
       "      <th>Orientation</th>\n",
       "      <th>Flight</th>\n",
       "      <th>ST</th>\n",
       "      <th>ET</th>\n",
       "      <th>RLO</th>\n",
       "      <th>RSM</th>\n",
       "      <th>EO</th>\n",
       "      <th>AA</th>\n",
       "      <th>staff</th>\n",
       "    </tr>\n",
       "  </thead>\n",
       "  <tbody>\n",
       "  </tbody>\n",
       "</table>\n",
       "</div>"
      ],
      "text/plain": [
       "Empty DataFrame\n",
       "Columns: [Unnamed: 0, Flight Date, Orientation, Flight, ST, ET, RLO , RSM, EO, AA, staff]\n",
       "Index: []"
      ]
     },
     "execution_count": 114,
     "metadata": {},
     "output_type": "execute_result"
    }
   ],
   "source": [
    "# find the difference between dataStaff and dataStaffBugagge on Flight No\n",
    "\n",
    "dataStaff[~dataStaff['Flight'].isin(dataStaffBugagge['Flight No'])]"
   ]
  },
  {
   "cell_type": "code",
   "execution_count": 118,
   "metadata": {},
   "outputs": [],
   "source": [
    "# save dataStaffBugagge to csv\n",
    "dataStaffBugagge.to_csv('J:\\\\SATS\\\\dataStaffBugaggeNew.csv',index=False)"
   ]
  },
  {
   "cell_type": "code",
   "execution_count": 119,
   "metadata": {},
   "outputs": [
    {
     "data": {
      "text/html": [
       "<div>\n",
       "<style scoped>\n",
       "    .dataframe tbody tr th:only-of-type {\n",
       "        vertical-align: middle;\n",
       "    }\n",
       "\n",
       "    .dataframe tbody tr th {\n",
       "        vertical-align: top;\n",
       "    }\n",
       "\n",
       "    .dataframe thead th {\n",
       "        text-align: right;\n",
       "    }\n",
       "</style>\n",
       "<table border=\"1\" class=\"dataframe\">\n",
       "  <thead>\n",
       "    <tr style=\"text-align: right;\">\n",
       "      <th></th>\n",
       "      <th>Unnamed: 0</th>\n",
       "      <th>Flight Date</th>\n",
       "      <th>Orientation</th>\n",
       "      <th>Flight No</th>\n",
       "      <th>ST</th>\n",
       "      <th>ET</th>\n",
       "      <th>RLO</th>\n",
       "      <th>RSM</th>\n",
       "      <th>EO</th>\n",
       "      <th>AA</th>\n",
       "      <th>staff</th>\n",
       "      <th>In-bound Time</th>\n",
       "      <th>Trip Number</th>\n",
       "      <th>ULD Number</th>\n",
       "      <th>Pickup Time</th>\n",
       "      <th>Dropoff Time</th>\n",
       "      <th>Dropoff TimeN</th>\n",
       "      <th>Total ULDS</th>\n",
       "    </tr>\n",
       "  </thead>\n",
       "  <tbody>\n",
       "    <tr>\n",
       "      <th>0</th>\n",
       "      <td>2.0</td>\n",
       "      <td>2022-09-01</td>\n",
       "      <td>Arrival</td>\n",
       "      <td>SQ208</td>\n",
       "      <td>15.0</td>\n",
       "      <td>21.0</td>\n",
       "      <td>1.0</td>\n",
       "      <td>4.0</td>\n",
       "      <td>1.0</td>\n",
       "      <td>2.0</td>\n",
       "      <td>8.0</td>\n",
       "      <td>2022-09-01 00:21:00</td>\n",
       "      <td>1.0</td>\n",
       "      <td>AKE89138SQ</td>\n",
       "      <td>2022-09-01 00:33:15.220</td>\n",
       "      <td>2022-09-01 00:37:16.930</td>\n",
       "      <td>2022-09-01 00:48:19.473</td>\n",
       "      <td>12.0</td>\n",
       "    </tr>\n",
       "    <tr>\n",
       "      <th>1</th>\n",
       "      <td>4.0</td>\n",
       "      <td>2022-09-01</td>\n",
       "      <td>Arrival</td>\n",
       "      <td>SQ242</td>\n",
       "      <td>20.0</td>\n",
       "      <td>40.0</td>\n",
       "      <td>1.0</td>\n",
       "      <td>3.0</td>\n",
       "      <td>1.0</td>\n",
       "      <td>1.0</td>\n",
       "      <td>6.0</td>\n",
       "      <td>2022-09-01 00:40:00</td>\n",
       "      <td>1.0</td>\n",
       "      <td>AKE80436SQ</td>\n",
       "      <td>2022-09-01 00:54:23.003</td>\n",
       "      <td>2022-09-01 00:55:44.893</td>\n",
       "      <td>2022-09-01 00:55:44.900</td>\n",
       "      <td>4.0</td>\n",
       "    </tr>\n",
       "    <tr>\n",
       "      <th>2</th>\n",
       "      <td>11.0</td>\n",
       "      <td>2022-09-01</td>\n",
       "      <td>Arrival</td>\n",
       "      <td>SQ11</td>\n",
       "      <td>115.0</td>\n",
       "      <td>38.0</td>\n",
       "      <td>1.0</td>\n",
       "      <td>3.0</td>\n",
       "      <td>1.0</td>\n",
       "      <td>2.0</td>\n",
       "      <td>7.0</td>\n",
       "      <td>2022-09-01 00:38:00</td>\n",
       "      <td>1.0</td>\n",
       "      <td>AKE70581SQ</td>\n",
       "      <td>NaT</td>\n",
       "      <td>2023-01-17 00:00:00.000</td>\n",
       "      <td>NaT</td>\n",
       "      <td>13.0</td>\n",
       "    </tr>\n",
       "    <tr>\n",
       "      <th>3</th>\n",
       "      <td>22.0</td>\n",
       "      <td>2022-09-01</td>\n",
       "      <td>Arrival</td>\n",
       "      <td>TR25</td>\n",
       "      <td>355.0</td>\n",
       "      <td>355.0</td>\n",
       "      <td>1.0</td>\n",
       "      <td>3.0</td>\n",
       "      <td>1.0</td>\n",
       "      <td>1.0</td>\n",
       "      <td>6.0</td>\n",
       "      <td>2022-09-01 03:55:00</td>\n",
       "      <td>1.0</td>\n",
       "      <td>AKE84300SQ</td>\n",
       "      <td>2022-09-01 04:17:01.517</td>\n",
       "      <td>2022-09-01 04:22:18.260</td>\n",
       "      <td>2022-09-01 04:38:25.783</td>\n",
       "      <td>11.0</td>\n",
       "    </tr>\n",
       "    <tr>\n",
       "      <th>4</th>\n",
       "      <td>23.0</td>\n",
       "      <td>2022-09-01</td>\n",
       "      <td>Arrival</td>\n",
       "      <td>TR509</td>\n",
       "      <td>405.0</td>\n",
       "      <td>510.0</td>\n",
       "      <td>1.0</td>\n",
       "      <td>3.0</td>\n",
       "      <td>1.0</td>\n",
       "      <td>2.0</td>\n",
       "      <td>7.0</td>\n",
       "      <td>NaT</td>\n",
       "      <td>NaN</td>\n",
       "      <td>NaN</td>\n",
       "      <td>NaT</td>\n",
       "      <td>NaT</td>\n",
       "      <td>NaT</td>\n",
       "      <td>NaN</td>\n",
       "    </tr>\n",
       "  </tbody>\n",
       "</table>\n",
       "</div>"
      ],
      "text/plain": [
       "   Unnamed: 0 Flight Date Orientation Flight No     ST     ET  RLO   RSM   EO  \\\n",
       "0         2.0  2022-09-01     Arrival     SQ208   15.0   21.0   1.0  4.0  1.0   \n",
       "1         4.0  2022-09-01     Arrival     SQ242   20.0   40.0   1.0  3.0  1.0   \n",
       "2        11.0  2022-09-01     Arrival      SQ11  115.0   38.0   1.0  3.0  1.0   \n",
       "3        22.0  2022-09-01     Arrival      TR25  355.0  355.0   1.0  3.0  1.0   \n",
       "4        23.0  2022-09-01     Arrival     TR509  405.0  510.0   1.0  3.0  1.0   \n",
       "\n",
       "    AA  staff       In-bound Time  Trip Number  ULD Number  \\\n",
       "0  2.0    8.0 2022-09-01 00:21:00          1.0  AKE89138SQ   \n",
       "1  1.0    6.0 2022-09-01 00:40:00          1.0  AKE80436SQ   \n",
       "2  2.0    7.0 2022-09-01 00:38:00          1.0  AKE70581SQ   \n",
       "3  1.0    6.0 2022-09-01 03:55:00          1.0  AKE84300SQ   \n",
       "4  2.0    7.0                 NaT          NaN         NaN   \n",
       "\n",
       "              Pickup Time            Dropoff Time           Dropoff TimeN  \\\n",
       "0 2022-09-01 00:33:15.220 2022-09-01 00:37:16.930 2022-09-01 00:48:19.473   \n",
       "1 2022-09-01 00:54:23.003 2022-09-01 00:55:44.893 2022-09-01 00:55:44.900   \n",
       "2                     NaT 2023-01-17 00:00:00.000                     NaT   \n",
       "3 2022-09-01 04:17:01.517 2022-09-01 04:22:18.260 2022-09-01 04:38:25.783   \n",
       "4                     NaT                     NaT                     NaT   \n",
       "\n",
       "   Total ULDS  \n",
       "0        12.0  \n",
       "1         4.0  \n",
       "2        13.0  \n",
       "3        11.0  \n",
       "4         NaN  "
      ]
     },
     "execution_count": 119,
     "metadata": {},
     "output_type": "execute_result"
    }
   ],
   "source": [
    "dataStaffBugagge.head()"
   ]
  },
  {
   "attachments": {},
   "cell_type": "markdown",
   "metadata": {},
   "source": [
    "# Some EDA"
   ]
  },
  {
   "cell_type": "code",
   "execution_count": 120,
   "metadata": {},
   "outputs": [],
   "source": [
    "Bugagge=pd.read_csv('J:\\\\SATS\\\\dataStaffBugaggeNew.csv')\n",
    "# dataStaffBugagge3\n",
    "# dataBugagge=pd.read_excel('J:\\\\SATS\\\\Buggage.xlsx')"
   ]
  },
  {
   "cell_type": "code",
   "execution_count": 121,
   "metadata": {},
   "outputs": [],
   "source": [
    "# total number of flights in one day\n",
    "# remove all the duplicates Flight No, Flight Date by keeping the DroppOffTime max\n",
    "\n",
    "Bugagge.drop_duplicates(subset=['Flight No','Flight Date'],keep='first',inplace=True)\n",
    "# dataBugagge['Flight No'].count()"
   ]
  },
  {
   "cell_type": "code",
   "execution_count": 122,
   "metadata": {},
   "outputs": [
    {
     "name": "stdout",
     "output_type": "stream",
     "text": [
      "(10108, 18)\n"
     ]
    }
   ],
   "source": [
    "print(Bugagge.shape)\n",
    "# find null values in arrival\n",
    "Bugagge.Orientation.isnull().sum()\n",
    "# delete all the rows with null values in Orientation\n",
    "Bugagge.dropna(subset=['Orientation'],inplace=True)"
   ]
  },
  {
   "cell_type": "code",
   "execution_count": 124,
   "metadata": {},
   "outputs": [
    {
     "name": "stdout",
     "output_type": "stream",
     "text": [
      "(10108, 18)\n",
      "(10113, 11)\n"
     ]
    }
   ],
   "source": [
    "print(Bugagge.shape)\n",
    "print(dataStaff.shape)"
   ]
  },
  {
   "cell_type": "code",
   "execution_count": 94,
   "metadata": {},
   "outputs": [
    {
     "data": {
      "text/plain": [
       "1702"
      ]
     },
     "execution_count": 94,
     "metadata": {},
     "output_type": "execute_result"
    }
   ],
   "source": [
    "dataStaffBugagge.columns\n",
    "# find Orientation in dataStaffBugagge\n",
    "dataStaffBugagge.Orientation.isnull().sum()"
   ]
  },
  {
   "cell_type": "code",
   "execution_count": 95,
   "metadata": {},
   "outputs": [],
   "source": [
    "# delete all the rows with null values in Orientation\n",
    "dataStaffBugagge.dropna(subset=['Orientation'],inplace=True)"
   ]
  },
  {
   "cell_type": "code",
   "execution_count": 296,
   "metadata": {},
   "outputs": [
    {
     "data": {
      "text/plain": [
       "Flight No\n",
       "SQ11      1\n",
       "SQ121     1\n",
       "SQ125     1\n",
       "SQ153     1\n",
       "SQ157     1\n",
       "         ..\n",
       "TR565     1\n",
       "TR611     1\n",
       "TR625     1\n",
       "TR843     1\n",
       "﻿SQ208    1\n",
       "Name: Flight No, Length: 81, dtype: int64"
      ]
     },
     "execution_count": 296,
     "metadata": {},
     "output_type": "execute_result"
    }
   ],
   "source": [
    "# total flights every day showing the number of flights against each flight number:\n",
    "Bugagge.groupby(['Flight Date','Flight No'])['Flight No'].count()\n",
    "# show the number of flights against each flight number for 1-09-2022\n",
    "Bugagge.groupby(['Flight Date','Flight No'])['Flight No'].count().loc['2022-09-01']\n",
    "\n",
    "\n",
    "\n",
    "\n",
    "# Bugagge.groupby(['Flight Date','Flight No']).count()\n",
    "\n",
    "# Bugagge['Flight No']"
   ]
  },
  {
   "cell_type": "code",
   "execution_count": 284,
   "metadata": {},
   "outputs": [
    {
     "data": {
      "text/plain": [
       "0       SQ208\n",
       "2      ﻿SQ208\n",
       "12       SQ11\n",
       "25      SQ242\n",
       "29       TR25\n",
       "        ...  \n",
       "683     SQ185\n",
       "698     SQ906\n",
       "705     TR467\n",
       "710     SQ193\n",
       "715     TR391\n",
       "Name: Flight No, Length: 81, dtype: object"
      ]
     },
     "execution_count": 284,
     "metadata": {},
     "output_type": "execute_result"
    }
   ],
   "source": [
    "# distinct flightNumber on 2022-09-01:\n",
    "\n",
    "\n",
    "\n",
    "Bugagge[Bugagge['Flight Date']=='2022-09-01']['Flight No']"
   ]
  },
  {
   "cell_type": "code",
   "execution_count": 131,
   "metadata": {},
   "outputs": [],
   "source": [
    "# datewise flights in dataStaff and save count in new column:\n",
    "# dataStaff['Flight Count Staff']=dataStaff.groupby('Flight Date')['Flight'].count()\n",
    "\n",
    "\n",
    "# dataNew a new dataframe with Flight Date and Flight Count Staff\n",
    "dataNew=pd.DataFrame(dataStaff.groupby('Flight Date')['Flight'].count())\n",
    "# dataStaff.groupby('Flight Date')['Flight'].count()\n",
    "# # save this as new column in dataStaff\n",
    "# dataNew['Flight Count Staff']=dataStaff.groupby('Flight Date')['Flight'].count()"
   ]
  },
  {
   "cell_type": "code",
   "execution_count": 135,
   "metadata": {},
   "outputs": [
    {
     "data": {
      "text/html": [
       "<div>\n",
       "<style scoped>\n",
       "    .dataframe tbody tr th:only-of-type {\n",
       "        vertical-align: middle;\n",
       "    }\n",
       "\n",
       "    .dataframe tbody tr th {\n",
       "        vertical-align: top;\n",
       "    }\n",
       "\n",
       "    .dataframe thead th {\n",
       "        text-align: right;\n",
       "    }\n",
       "</style>\n",
       "<table border=\"1\" class=\"dataframe\">\n",
       "  <thead>\n",
       "    <tr style=\"text-align: right;\">\n",
       "      <th></th>\n",
       "      <th>Flight</th>\n",
       "      <th>Flight Count</th>\n",
       "    </tr>\n",
       "    <tr>\n",
       "      <th>Flight Date</th>\n",
       "      <th></th>\n",
       "      <th></th>\n",
       "    </tr>\n",
       "  </thead>\n",
       "  <tbody>\n",
       "    <tr>\n",
       "      <th>2022-09-07</th>\n",
       "      <td>110</td>\n",
       "      <td>109</td>\n",
       "    </tr>\n",
       "    <tr>\n",
       "      <th>2022-09-10</th>\n",
       "      <td>114</td>\n",
       "      <td>113</td>\n",
       "    </tr>\n",
       "    <tr>\n",
       "      <th>2022-10-21</th>\n",
       "      <td>113</td>\n",
       "      <td>112</td>\n",
       "    </tr>\n",
       "    <tr>\n",
       "      <th>2022-10-26</th>\n",
       "      <td>110</td>\n",
       "      <td>109</td>\n",
       "    </tr>\n",
       "    <tr>\n",
       "      <th>2022-11-11</th>\n",
       "      <td>126</td>\n",
       "      <td>125</td>\n",
       "    </tr>\n",
       "  </tbody>\n",
       "</table>\n",
       "</div>"
      ],
      "text/plain": [
       "             Flight  Flight Count\n",
       "Flight Date                      \n",
       "2022-09-07      110           109\n",
       "2022-09-10      114           113\n",
       "2022-10-21      113           112\n",
       "2022-10-26      110           109\n",
       "2022-11-11      126           125"
      ]
     },
     "execution_count": 135,
     "metadata": {},
     "output_type": "execute_result"
    }
   ],
   "source": [
    "dataNew.head()\n",
    "# find where is the difference between Flight and Flight Cout\n",
    "dataNew[dataNew['Flight']!=dataNew['Flight Count']]"
   ]
  },
  {
   "cell_type": "code",
   "execution_count": 133,
   "metadata": {},
   "outputs": [],
   "source": [
    "dataNew['Flight Count']=dataStaffBugagge.groupby('Flight Date')['Flight No'].count()"
   ]
  },
  {
   "cell_type": "code",
   "execution_count": 129,
   "metadata": {},
   "outputs": [
    {
     "data": {
      "text/html": [
       "<div>\n",
       "<style scoped>\n",
       "    .dataframe tbody tr th:only-of-type {\n",
       "        vertical-align: middle;\n",
       "    }\n",
       "\n",
       "    .dataframe tbody tr th {\n",
       "        vertical-align: top;\n",
       "    }\n",
       "\n",
       "    .dataframe thead th {\n",
       "        text-align: right;\n",
       "    }\n",
       "</style>\n",
       "<table border=\"1\" class=\"dataframe\">\n",
       "  <thead>\n",
       "    <tr style=\"text-align: right;\">\n",
       "      <th></th>\n",
       "      <th>Unnamed: 0</th>\n",
       "      <th>Flight Date</th>\n",
       "      <th>Orientation</th>\n",
       "      <th>Flight</th>\n",
       "      <th>ST</th>\n",
       "      <th>ET</th>\n",
       "      <th>RLO</th>\n",
       "      <th>RSM</th>\n",
       "      <th>EO</th>\n",
       "      <th>AA</th>\n",
       "      <th>staff</th>\n",
       "      <th>Flight Count Staff</th>\n",
       "      <th>Flight Count BugaggeStaff</th>\n",
       "    </tr>\n",
       "  </thead>\n",
       "  <tbody>\n",
       "    <tr>\n",
       "      <th>2</th>\n",
       "      <td>2</td>\n",
       "      <td>2022-09-01</td>\n",
       "      <td>Arrival</td>\n",
       "      <td>SQ208</td>\n",
       "      <td>15</td>\n",
       "      <td>21.0</td>\n",
       "      <td>1</td>\n",
       "      <td>4</td>\n",
       "      <td>1</td>\n",
       "      <td>2</td>\n",
       "      <td>8</td>\n",
       "      <td>NaN</td>\n",
       "      <td>NaN</td>\n",
       "    </tr>\n",
       "    <tr>\n",
       "      <th>4</th>\n",
       "      <td>4</td>\n",
       "      <td>2022-09-01</td>\n",
       "      <td>Arrival</td>\n",
       "      <td>SQ242</td>\n",
       "      <td>20</td>\n",
       "      <td>40.0</td>\n",
       "      <td>1</td>\n",
       "      <td>3</td>\n",
       "      <td>1</td>\n",
       "      <td>1</td>\n",
       "      <td>6</td>\n",
       "      <td>NaN</td>\n",
       "      <td>NaN</td>\n",
       "    </tr>\n",
       "    <tr>\n",
       "      <th>11</th>\n",
       "      <td>11</td>\n",
       "      <td>2022-09-01</td>\n",
       "      <td>Arrival</td>\n",
       "      <td>SQ11</td>\n",
       "      <td>115</td>\n",
       "      <td>38.0</td>\n",
       "      <td>1</td>\n",
       "      <td>3</td>\n",
       "      <td>1</td>\n",
       "      <td>2</td>\n",
       "      <td>7</td>\n",
       "      <td>NaN</td>\n",
       "      <td>NaN</td>\n",
       "    </tr>\n",
       "    <tr>\n",
       "      <th>22</th>\n",
       "      <td>22</td>\n",
       "      <td>2022-09-01</td>\n",
       "      <td>Arrival</td>\n",
       "      <td>TR25</td>\n",
       "      <td>355</td>\n",
       "      <td>355.0</td>\n",
       "      <td>1</td>\n",
       "      <td>3</td>\n",
       "      <td>1</td>\n",
       "      <td>1</td>\n",
       "      <td>6</td>\n",
       "      <td>NaN</td>\n",
       "      <td>NaN</td>\n",
       "    </tr>\n",
       "    <tr>\n",
       "      <th>23</th>\n",
       "      <td>23</td>\n",
       "      <td>2022-09-01</td>\n",
       "      <td>Arrival</td>\n",
       "      <td>TR509</td>\n",
       "      <td>405</td>\n",
       "      <td>510.0</td>\n",
       "      <td>1</td>\n",
       "      <td>3</td>\n",
       "      <td>1</td>\n",
       "      <td>2</td>\n",
       "      <td>7</td>\n",
       "      <td>NaN</td>\n",
       "      <td>NaN</td>\n",
       "    </tr>\n",
       "  </tbody>\n",
       "</table>\n",
       "</div>"
      ],
      "text/plain": [
       "    Unnamed: 0 Flight Date Orientation Flight   ST     ET  RLO   RSM  EO  AA  \\\n",
       "2            2  2022-09-01     Arrival  SQ208   15   21.0     1    4   1   2   \n",
       "4            4  2022-09-01     Arrival  SQ242   20   40.0     1    3   1   1   \n",
       "11          11  2022-09-01     Arrival   SQ11  115   38.0     1    3   1   2   \n",
       "22          22  2022-09-01     Arrival   TR25  355  355.0     1    3   1   1   \n",
       "23          23  2022-09-01     Arrival  TR509  405  510.0     1    3   1   2   \n",
       "\n",
       "    staff  Flight Count Staff  Flight Count BugaggeStaff  \n",
       "2       8                 NaN                        NaN  \n",
       "4       6                 NaN                        NaN  \n",
       "11      7                 NaN                        NaN  \n",
       "22      6                 NaN                        NaN  \n",
       "23      7                 NaN                        NaN  "
      ]
     },
     "execution_count": 129,
     "metadata": {},
     "output_type": "execute_result"
    }
   ],
   "source": [
    "dataStaff.head()"
   ]
  },
  {
   "cell_type": "code",
   "execution_count": 124,
   "metadata": {},
   "outputs": [],
   "source": [
    "# daewise flights in  dataStaffBugagge\n",
    "dataStaff['Flight Count BugaggeStaff'] =dataStaffBugagge.groupby('Flight Date')['Flight No'].count()"
   ]
  },
  {
   "cell_type": "code",
   "execution_count": 125,
   "metadata": {},
   "outputs": [
    {
     "data": {
      "text/html": [
       "<div>\n",
       "<style scoped>\n",
       "    .dataframe tbody tr th:only-of-type {\n",
       "        vertical-align: middle;\n",
       "    }\n",
       "\n",
       "    .dataframe tbody tr th {\n",
       "        vertical-align: top;\n",
       "    }\n",
       "\n",
       "    .dataframe thead th {\n",
       "        text-align: right;\n",
       "    }\n",
       "</style>\n",
       "<table border=\"1\" class=\"dataframe\">\n",
       "  <thead>\n",
       "    <tr style=\"text-align: right;\">\n",
       "      <th></th>\n",
       "      <th>Unnamed: 0</th>\n",
       "      <th>Flight Date</th>\n",
       "      <th>Orientation</th>\n",
       "      <th>Flight</th>\n",
       "      <th>ST</th>\n",
       "      <th>ET</th>\n",
       "      <th>RLO</th>\n",
       "      <th>RSM</th>\n",
       "      <th>EO</th>\n",
       "      <th>AA</th>\n",
       "      <th>staff</th>\n",
       "      <th>Flight Count Staff</th>\n",
       "      <th>Flight Count BugaggeStaff</th>\n",
       "    </tr>\n",
       "  </thead>\n",
       "  <tbody>\n",
       "    <tr>\n",
       "      <th>2</th>\n",
       "      <td>2</td>\n",
       "      <td>2022-09-01</td>\n",
       "      <td>Arrival</td>\n",
       "      <td>SQ208</td>\n",
       "      <td>15</td>\n",
       "      <td>21.0</td>\n",
       "      <td>1</td>\n",
       "      <td>4</td>\n",
       "      <td>1</td>\n",
       "      <td>2</td>\n",
       "      <td>8</td>\n",
       "      <td>NaN</td>\n",
       "      <td>NaN</td>\n",
       "    </tr>\n",
       "    <tr>\n",
       "      <th>4</th>\n",
       "      <td>4</td>\n",
       "      <td>2022-09-01</td>\n",
       "      <td>Arrival</td>\n",
       "      <td>SQ242</td>\n",
       "      <td>20</td>\n",
       "      <td>40.0</td>\n",
       "      <td>1</td>\n",
       "      <td>3</td>\n",
       "      <td>1</td>\n",
       "      <td>1</td>\n",
       "      <td>6</td>\n",
       "      <td>NaN</td>\n",
       "      <td>NaN</td>\n",
       "    </tr>\n",
       "    <tr>\n",
       "      <th>11</th>\n",
       "      <td>11</td>\n",
       "      <td>2022-09-01</td>\n",
       "      <td>Arrival</td>\n",
       "      <td>SQ11</td>\n",
       "      <td>115</td>\n",
       "      <td>38.0</td>\n",
       "      <td>1</td>\n",
       "      <td>3</td>\n",
       "      <td>1</td>\n",
       "      <td>2</td>\n",
       "      <td>7</td>\n",
       "      <td>NaN</td>\n",
       "      <td>NaN</td>\n",
       "    </tr>\n",
       "    <tr>\n",
       "      <th>22</th>\n",
       "      <td>22</td>\n",
       "      <td>2022-09-01</td>\n",
       "      <td>Arrival</td>\n",
       "      <td>TR25</td>\n",
       "      <td>355</td>\n",
       "      <td>355.0</td>\n",
       "      <td>1</td>\n",
       "      <td>3</td>\n",
       "      <td>1</td>\n",
       "      <td>1</td>\n",
       "      <td>6</td>\n",
       "      <td>NaN</td>\n",
       "      <td>NaN</td>\n",
       "    </tr>\n",
       "    <tr>\n",
       "      <th>23</th>\n",
       "      <td>23</td>\n",
       "      <td>2022-09-01</td>\n",
       "      <td>Arrival</td>\n",
       "      <td>TR509</td>\n",
       "      <td>405</td>\n",
       "      <td>510.0</td>\n",
       "      <td>1</td>\n",
       "      <td>3</td>\n",
       "      <td>1</td>\n",
       "      <td>2</td>\n",
       "      <td>7</td>\n",
       "      <td>NaN</td>\n",
       "      <td>NaN</td>\n",
       "    </tr>\n",
       "  </tbody>\n",
       "</table>\n",
       "</div>"
      ],
      "text/plain": [
       "    Unnamed: 0 Flight Date Orientation Flight   ST     ET  RLO   RSM  EO  AA  \\\n",
       "2            2  2022-09-01     Arrival  SQ208   15   21.0     1    4   1   2   \n",
       "4            4  2022-09-01     Arrival  SQ242   20   40.0     1    3   1   1   \n",
       "11          11  2022-09-01     Arrival   SQ11  115   38.0     1    3   1   2   \n",
       "22          22  2022-09-01     Arrival   TR25  355  355.0     1    3   1   1   \n",
       "23          23  2022-09-01     Arrival  TR509  405  510.0     1    3   1   2   \n",
       "\n",
       "    staff  Flight Count Staff  Flight Count BugaggeStaff  \n",
       "2       8                 NaN                        NaN  \n",
       "4       6                 NaN                        NaN  \n",
       "11      7                 NaN                        NaN  \n",
       "22      6                 NaN                        NaN  \n",
       "23      7                 NaN                        NaN  "
      ]
     },
     "execution_count": 125,
     "metadata": {},
     "output_type": "execute_result"
    }
   ],
   "source": [
    "dataStaff.head()"
   ]
  },
  {
   "attachments": {},
   "cell_type": "markdown",
   "metadata": {},
   "source": [
    "# Flight Bay data"
   ]
  },
  {
   "cell_type": "code",
   "execution_count": 51,
   "metadata": {},
   "outputs": [],
   "source": [
    "import pandas as pd\n",
    "flightBay=pd.read_excel('J:\\\\SATS\\\\cleanBay.xlsx')"
   ]
  },
  {
   "cell_type": "code",
   "execution_count": 4,
   "metadata": {},
   "outputs": [
    {
     "data": {
      "text/plain": [
       "ArrivalFlight                      object\n",
       "StandPosition                      object\n",
       "RegistrationNumber                 object\n",
       "SIBTDateTimeOffset                 object\n",
       "EIBTDateTimeOffset                 object\n",
       "AIBTDateTimeOffset                 object\n",
       "DepartureFlight                    object\n",
       "StandPosition2                     object\n",
       "RegistrationNumber3                object\n",
       "SOBTDateTimeOffset                 object\n",
       "EOBTDateTimeOffset                 object\n",
       "AOBTDateTimeOffset                 object\n",
       "arr_FirstClassBagCount              int64\n",
       "arr_BusinessClassBagCount           int64\n",
       "arr_PremiumClassBagCount            int64\n",
       "arr_EconomyClassBagCount            int64\n",
       "arr_AdultFirstBookedCount           int64\n",
       "arr_ChildFirstBookedCount           int64\n",
       "arr_InfantFirstBookedCount          int64\n",
       "arr_AdultBusinessBookedCount        int64\n",
       "arr_ChildBusinessBookedCount        int64\n",
       "arr_InfantBusinessBookedCount       int64\n",
       "arr_AdultPremiumBookedCount         int64\n",
       "arr_ChildPremiumBookedCount         int64\n",
       "arr_InfantPremiumBookedCount        int64\n",
       "arr_AdultEconomyBookedCount         int64\n",
       "arr_ChildEconomyBookedCount         int64\n",
       "arr_InfantEconomyBookedCount        int64\n",
       "arr_AdultFirstAcceptedCount         int64\n",
       "arr_ChildFirstAcceptedCount         int64\n",
       "arr_InfantFirstAcceptedCount        int64\n",
       "arr_AdultBusinessAcceptedCount      int64\n",
       "arr_ChildBusinessAcceptedCount      int64\n",
       "arr_InfantBusinessAcceptedCount     int64\n",
       "arr_AdultPremiumAcceptedCount       int64\n",
       "arr_ChildPremiumAcceptedCount       int64\n",
       "arr_InfantPremiumAcceptedCount      int64\n",
       "arr_AdultEconomyAcceptedCount       int64\n",
       "arr_ChildEconomyAcceptedCount       int64\n",
       "arr_InfantEconomyAcceptedCount      int64\n",
       "arr_FirstClassBagsWeight            int64\n",
       "arr_BusinessClassBagsWeight         int64\n",
       "arr_PremiumClassBagsWeight          int64\n",
       "arr_EconomyClassBagsWeight          int64\n",
       "dep_FirstClassCount                 int64\n",
       "dep_BusinessClassCount              int64\n",
       "dep_PremiunClassCount               int64\n",
       "dep_EconomyClassCount               int64\n",
       "dep_InfantFirstCount                int64\n",
       "dep_InfantBusinessCount             int64\n",
       "dep_InfantPremiumCount              int64\n",
       "dep_InfantEconomyCount              int64\n",
       "dep_NumberOfBags                    int64\n",
       "dep_WeightOfBags                    int64\n",
       "dtype: object"
      ]
     },
     "execution_count": 4,
     "metadata": {},
     "output_type": "execute_result"
    }
   ],
   "source": [
    "flightBay.dtypes"
   ]
  },
  {
   "cell_type": "code",
   "execution_count": null,
   "metadata": {},
   "outputs": [],
   "source": [
    "# # compare initials of stand position1 and stand position2 if it is a and b then same bay ,if c and d then same bay, if e and f then same bay\n",
    "# if flightBay['StandPosition'].str.startswith(['A','B']) & flightBay['StandPosition2'].str.startswith(['A','B']) :\n",
    "#     flightBay['Same Bay']=True\n",
    "# elif flightBay['StandPosition'].str.startswith(['C','D']) & flightBay['StandPosition2'].str.startswith(['C','D']) :\n",
    "#     flightBay['Same Bay']=True\n",
    "# elif flightBay['StandPosition'].str.startswith(['E','F']) and flightBay['StandPosition2'].str.startswith(['E','F']) :\n",
    "#     flightBay['Same Bay']=True\n",
    "# else:\n",
    "#     flightBay['Same Bay']=False\n",
    "\n",
    "    \n"
   ]
  },
  {
   "cell_type": "code",
   "execution_count": 53,
   "metadata": {},
   "outputs": [],
   "source": [
    "flightBay['Same Bay'] = (flightBay['StandPosition'].str[0].isin(['A','B']) & flightBay['StandPosition2'].str[0].isin(['A','B'])) | (flightBay['StandPosition'].str[0].isin(['C','D']) & flightBay['StandPosition2'].str[0].isin(['C','D'])) |(flightBay['StandPosition'].str[0].isin(['E','F']) & flightBay['StandPosition2'].str[0].isin(['E','F']))"
   ]
  },
  {
   "cell_type": "code",
   "execution_count": 21,
   "metadata": {},
   "outputs": [
    {
     "name": "stdout",
     "output_type": "stream",
     "text": [
      "False\n"
     ]
    }
   ],
   "source": [
    "# str1=['A1']\n",
    "# str2=['C2']\n",
    "# if str1[0][0] in ['A','B'] and str2[0][0] in ['A','B'] :\n",
    "#     print('True')\n",
    "# elif str1[0][0] in ['C','D'] and str2[0][0] in ['C','D'] :\n",
    "#     print('True')\n",
    "# # elif flightBay['StandPosition'][0] and flightBay['StandPosition2'][0] in ['E','F'] :\n",
    "# #     # flightBay['Same Bay']=True\n",
    "# else:\n",
    "#     # flightBay['Same Bay']=False\n",
    "#     print('False')"
   ]
  },
  {
   "cell_type": "code",
   "execution_count": 12,
   "metadata": {},
   "outputs": [
    {
     "data": {
      "text/plain": [
       "0         A\n",
       "1         A\n",
       "2         A\n",
       "3         A\n",
       "4         A\n",
       "         ..\n",
       "159908    F\n",
       "159909    A\n",
       "159910    A\n",
       "159911    F\n",
       "159912    F\n",
       "Name: StandPosition, Length: 159913, dtype: object"
      ]
     },
     "execution_count": 12,
     "metadata": {},
     "output_type": "execute_result"
    }
   ],
   "source": [
    "flightBay['StandPosition'].str[0]"
   ]
  },
  {
   "cell_type": "code",
   "execution_count": 54,
   "metadata": {},
   "outputs": [
    {
     "data": {
      "text/html": [
       "<div>\n",
       "<style scoped>\n",
       "    .dataframe tbody tr th:only-of-type {\n",
       "        vertical-align: middle;\n",
       "    }\n",
       "\n",
       "    .dataframe tbody tr th {\n",
       "        vertical-align: top;\n",
       "    }\n",
       "\n",
       "    .dataframe thead th {\n",
       "        text-align: right;\n",
       "    }\n",
       "</style>\n",
       "<table border=\"1\" class=\"dataframe\">\n",
       "  <thead>\n",
       "    <tr style=\"text-align: right;\">\n",
       "      <th></th>\n",
       "      <th>ArrivalFlight</th>\n",
       "      <th>StandPosition</th>\n",
       "      <th>RegistrationNumber</th>\n",
       "      <th>SIBTDateTimeOffset</th>\n",
       "      <th>EIBTDateTimeOffset</th>\n",
       "      <th>AIBTDateTimeOffset</th>\n",
       "      <th>DepartureFlight</th>\n",
       "      <th>StandPosition2</th>\n",
       "      <th>RegistrationNumber3</th>\n",
       "      <th>SOBTDateTimeOffset</th>\n",
       "      <th>...</th>\n",
       "      <th>dep_BusinessClassCount</th>\n",
       "      <th>dep_PremiunClassCount</th>\n",
       "      <th>dep_EconomyClassCount</th>\n",
       "      <th>dep_InfantFirstCount</th>\n",
       "      <th>dep_InfantBusinessCount</th>\n",
       "      <th>dep_InfantPremiumCount</th>\n",
       "      <th>dep_InfantEconomyCount</th>\n",
       "      <th>dep_NumberOfBags</th>\n",
       "      <th>dep_WeightOfBags</th>\n",
       "      <th>Same Bay</th>\n",
       "    </tr>\n",
       "  </thead>\n",
       "  <tbody>\n",
       "    <tr>\n",
       "      <th>0</th>\n",
       "      <td>SQ208</td>\n",
       "      <td>A17</td>\n",
       "      <td>9VSHH</td>\n",
       "      <td>2022-08-31 16:15:00.0000000 +00:00</td>\n",
       "      <td>2022-08-31 16:17:00.0000000 +00:00</td>\n",
       "      <td>2022-08-31 16:21:00.0000000 +00:00</td>\n",
       "      <td>SQ882</td>\n",
       "      <td>C23</td>\n",
       "      <td>9VSME</td>\n",
       "      <td>2022-09-01 00:40:00.0000000 +00:00</td>\n",
       "      <td>...</td>\n",
       "      <td>18</td>\n",
       "      <td>10</td>\n",
       "      <td>189</td>\n",
       "      <td>0</td>\n",
       "      <td>0</td>\n",
       "      <td>0</td>\n",
       "      <td>4</td>\n",
       "      <td>259</td>\n",
       "      <td>4617</td>\n",
       "      <td>False</td>\n",
       "    </tr>\n",
       "    <tr>\n",
       "      <th>1</th>\n",
       "      <td>SQ208</td>\n",
       "      <td>A17</td>\n",
       "      <td>9VSHH</td>\n",
       "      <td>2022-08-31 16:15:00.0000000 +00:00</td>\n",
       "      <td>2022-08-31 16:17:00.0000000 +00:00</td>\n",
       "      <td>2022-08-31 16:21:00.0000000 +00:00</td>\n",
       "      <td>SQ326</td>\n",
       "      <td>A13</td>\n",
       "      <td>9VSJE</td>\n",
       "      <td>2022-09-01 02:55:00.0000000 +00:00</td>\n",
       "      <td>...</td>\n",
       "      <td>42</td>\n",
       "      <td>24</td>\n",
       "      <td>183</td>\n",
       "      <td>0</td>\n",
       "      <td>1</td>\n",
       "      <td>0</td>\n",
       "      <td>1</td>\n",
       "      <td>153</td>\n",
       "      <td>2731</td>\n",
       "      <td>True</td>\n",
       "    </tr>\n",
       "    <tr>\n",
       "      <th>2</th>\n",
       "      <td>SQ208</td>\n",
       "      <td>A17</td>\n",
       "      <td>9VSHH</td>\n",
       "      <td>2022-08-31 16:15:00.0000000 +00:00</td>\n",
       "      <td>2022-08-31 16:17:00.0000000 +00:00</td>\n",
       "      <td>2022-08-31 16:21:00.0000000 +00:00</td>\n",
       "      <td>SQ950</td>\n",
       "      <td>B9</td>\n",
       "      <td>9VSWQ</td>\n",
       "      <td>2022-08-31 22:20:00.0000000 +00:00</td>\n",
       "      <td>...</td>\n",
       "      <td>30</td>\n",
       "      <td>0</td>\n",
       "      <td>190</td>\n",
       "      <td>0</td>\n",
       "      <td>0</td>\n",
       "      <td>0</td>\n",
       "      <td>2</td>\n",
       "      <td>254</td>\n",
       "      <td>4201</td>\n",
       "      <td>True</td>\n",
       "    </tr>\n",
       "    <tr>\n",
       "      <th>3</th>\n",
       "      <td>SQ208</td>\n",
       "      <td>A17</td>\n",
       "      <td>9VSHH</td>\n",
       "      <td>2022-08-31 16:15:00.0000000 +00:00</td>\n",
       "      <td>2022-08-31 16:17:00.0000000 +00:00</td>\n",
       "      <td>2022-08-31 16:21:00.0000000 +00:00</td>\n",
       "      <td>SQ468</td>\n",
       "      <td>A15</td>\n",
       "      <td>9VSHO</td>\n",
       "      <td>2022-09-01 14:20:00.0000000 +00:00</td>\n",
       "      <td>...</td>\n",
       "      <td>19</td>\n",
       "      <td>0</td>\n",
       "      <td>215</td>\n",
       "      <td>0</td>\n",
       "      <td>0</td>\n",
       "      <td>0</td>\n",
       "      <td>5</td>\n",
       "      <td>316</td>\n",
       "      <td>5753</td>\n",
       "      <td>True</td>\n",
       "    </tr>\n",
       "    <tr>\n",
       "      <th>4</th>\n",
       "      <td>SQ208</td>\n",
       "      <td>A17</td>\n",
       "      <td>9VSHH</td>\n",
       "      <td>2022-08-31 16:15:00.0000000 +00:00</td>\n",
       "      <td>2022-08-31 16:17:00.0000000 +00:00</td>\n",
       "      <td>2022-08-31 16:21:00.0000000 +00:00</td>\n",
       "      <td>SQ306</td>\n",
       "      <td>F42</td>\n",
       "      <td>9VSNA</td>\n",
       "      <td>2022-08-31 17:10:00.0000000 +00:00</td>\n",
       "      <td>...</td>\n",
       "      <td>47</td>\n",
       "      <td>28</td>\n",
       "      <td>182</td>\n",
       "      <td>0</td>\n",
       "      <td>0</td>\n",
       "      <td>0</td>\n",
       "      <td>1</td>\n",
       "      <td>287</td>\n",
       "      <td>5265</td>\n",
       "      <td>False</td>\n",
       "    </tr>\n",
       "  </tbody>\n",
       "</table>\n",
       "<p>5 rows × 55 columns</p>\n",
       "</div>"
      ],
      "text/plain": [
       "  ArrivalFlight StandPosition RegistrationNumber  \\\n",
       "0         SQ208           A17              9VSHH   \n",
       "1         SQ208           A17              9VSHH   \n",
       "2         SQ208           A17              9VSHH   \n",
       "3         SQ208           A17              9VSHH   \n",
       "4         SQ208           A17              9VSHH   \n",
       "\n",
       "                   SIBTDateTimeOffset                  EIBTDateTimeOffset  \\\n",
       "0  2022-08-31 16:15:00.0000000 +00:00  2022-08-31 16:17:00.0000000 +00:00   \n",
       "1  2022-08-31 16:15:00.0000000 +00:00  2022-08-31 16:17:00.0000000 +00:00   \n",
       "2  2022-08-31 16:15:00.0000000 +00:00  2022-08-31 16:17:00.0000000 +00:00   \n",
       "3  2022-08-31 16:15:00.0000000 +00:00  2022-08-31 16:17:00.0000000 +00:00   \n",
       "4  2022-08-31 16:15:00.0000000 +00:00  2022-08-31 16:17:00.0000000 +00:00   \n",
       "\n",
       "                   AIBTDateTimeOffset DepartureFlight StandPosition2  \\\n",
       "0  2022-08-31 16:21:00.0000000 +00:00           SQ882            C23   \n",
       "1  2022-08-31 16:21:00.0000000 +00:00           SQ326            A13   \n",
       "2  2022-08-31 16:21:00.0000000 +00:00           SQ950             B9   \n",
       "3  2022-08-31 16:21:00.0000000 +00:00           SQ468            A15   \n",
       "4  2022-08-31 16:21:00.0000000 +00:00           SQ306            F42   \n",
       "\n",
       "  RegistrationNumber3                  SOBTDateTimeOffset  ...  \\\n",
       "0               9VSME  2022-09-01 00:40:00.0000000 +00:00  ...   \n",
       "1               9VSJE  2022-09-01 02:55:00.0000000 +00:00  ...   \n",
       "2               9VSWQ  2022-08-31 22:20:00.0000000 +00:00  ...   \n",
       "3               9VSHO  2022-09-01 14:20:00.0000000 +00:00  ...   \n",
       "4               9VSNA  2022-08-31 17:10:00.0000000 +00:00  ...   \n",
       "\n",
       "  dep_BusinessClassCount dep_PremiunClassCount  dep_EconomyClassCount  \\\n",
       "0                     18                    10                    189   \n",
       "1                     42                    24                    183   \n",
       "2                     30                     0                    190   \n",
       "3                     19                     0                    215   \n",
       "4                     47                    28                    182   \n",
       "\n",
       "   dep_InfantFirstCount  dep_InfantBusinessCount  dep_InfantPremiumCount  \\\n",
       "0                     0                        0                       0   \n",
       "1                     0                        1                       0   \n",
       "2                     0                        0                       0   \n",
       "3                     0                        0                       0   \n",
       "4                     0                        0                       0   \n",
       "\n",
       "   dep_InfantEconomyCount  dep_NumberOfBags  dep_WeightOfBags  Same Bay  \n",
       "0                       4               259              4617     False  \n",
       "1                       1               153              2731      True  \n",
       "2                       2               254              4201      True  \n",
       "3                       5               316              5753      True  \n",
       "4                       1               287              5265     False  \n",
       "\n",
       "[5 rows x 55 columns]"
      ]
     },
     "execution_count": 54,
     "metadata": {},
     "output_type": "execute_result"
    }
   ],
   "source": [
    "flightBay.head()"
   ]
  },
  {
   "cell_type": "code",
   "execution_count": 26,
   "metadata": {},
   "outputs": [],
   "source": [
    "# save flightBay to csv\n",
    "flightBay.to_csv('J:\\\\SATS\\\\flightBay.csv',index=False)"
   ]
  },
  {
   "cell_type": "code",
   "execution_count": 34,
   "metadata": {},
   "outputs": [
    {
     "data": {
      "text/html": [
       "<div>\n",
       "<style scoped>\n",
       "    .dataframe tbody tr th:only-of-type {\n",
       "        vertical-align: middle;\n",
       "    }\n",
       "\n",
       "    .dataframe tbody tr th {\n",
       "        vertical-align: top;\n",
       "    }\n",
       "\n",
       "    .dataframe thead th {\n",
       "        text-align: right;\n",
       "    }\n",
       "</style>\n",
       "<table border=\"1\" class=\"dataframe\">\n",
       "  <thead>\n",
       "    <tr style=\"text-align: right;\">\n",
       "      <th></th>\n",
       "      <th>StandPosition</th>\n",
       "      <th>StandPosition2</th>\n",
       "      <th>Same Bay</th>\n",
       "    </tr>\n",
       "  </thead>\n",
       "  <tbody>\n",
       "    <tr>\n",
       "      <th>233</th>\n",
       "      <td>F56</td>\n",
       "      <td>A10</td>\n",
       "      <td>False</td>\n",
       "    </tr>\n",
       "    <tr>\n",
       "      <th>234</th>\n",
       "      <td>F56</td>\n",
       "      <td>B4</td>\n",
       "      <td>False</td>\n",
       "    </tr>\n",
       "    <tr>\n",
       "      <th>235</th>\n",
       "      <td>F56</td>\n",
       "      <td>B5</td>\n",
       "      <td>False</td>\n",
       "    </tr>\n",
       "    <tr>\n",
       "      <th>236</th>\n",
       "      <td>F56</td>\n",
       "      <td>A3</td>\n",
       "      <td>False</td>\n",
       "    </tr>\n",
       "    <tr>\n",
       "      <th>237</th>\n",
       "      <td>F56</td>\n",
       "      <td>A10</td>\n",
       "      <td>False</td>\n",
       "    </tr>\n",
       "    <tr>\n",
       "      <th>238</th>\n",
       "      <td>F56</td>\n",
       "      <td>C17L</td>\n",
       "      <td>False</td>\n",
       "    </tr>\n",
       "    <tr>\n",
       "      <th>239</th>\n",
       "      <td>C25</td>\n",
       "      <td>A16</td>\n",
       "      <td>False</td>\n",
       "    </tr>\n",
       "    <tr>\n",
       "      <th>240</th>\n",
       "      <td>C25</td>\n",
       "      <td>F54</td>\n",
       "      <td>False</td>\n",
       "    </tr>\n",
       "    <tr>\n",
       "      <th>241</th>\n",
       "      <td>C25</td>\n",
       "      <td>C16</td>\n",
       "      <td>True</td>\n",
       "    </tr>\n",
       "    <tr>\n",
       "      <th>242</th>\n",
       "      <td>C25</td>\n",
       "      <td>A3</td>\n",
       "      <td>False</td>\n",
       "    </tr>\n",
       "    <tr>\n",
       "      <th>243</th>\n",
       "      <td>C25</td>\n",
       "      <td>B4</td>\n",
       "      <td>False</td>\n",
       "    </tr>\n",
       "    <tr>\n",
       "      <th>244</th>\n",
       "      <td>C25</td>\n",
       "      <td>B1</td>\n",
       "      <td>False</td>\n",
       "    </tr>\n",
       "    <tr>\n",
       "      <th>245</th>\n",
       "      <td>C25</td>\n",
       "      <td>A5</td>\n",
       "      <td>False</td>\n",
       "    </tr>\n",
       "  </tbody>\n",
       "</table>\n",
       "</div>"
      ],
      "text/plain": [
       "    StandPosition StandPosition2  Same Bay\n",
       "233           F56            A10     False\n",
       "234           F56             B4     False\n",
       "235           F56             B5     False\n",
       "236           F56             A3     False\n",
       "237           F56            A10     False\n",
       "238           F56           C17L     False\n",
       "239           C25            A16     False\n",
       "240           C25            F54     False\n",
       "241           C25            C16      True\n",
       "242           C25             A3     False\n",
       "243           C25             B4     False\n",
       "244           C25             B1     False\n",
       "245           C25             A5     False"
      ]
     },
     "execution_count": 34,
     "metadata": {},
     "output_type": "execute_result"
    }
   ],
   "source": [
    "flightBay.loc[233:245,['StandPosition','StandPosition2','Same Bay']]"
   ]
  },
  {
   "cell_type": "code",
   "execution_count": 36,
   "metadata": {},
   "outputs": [
    {
     "data": {
      "text/plain": [
       "0    SQ208\n",
       "1    SQ208\n",
       "2    SQ208\n",
       "3    SQ208\n",
       "4    SQ208\n",
       "Name: ArrivalFlight, dtype: object"
      ]
     },
     "execution_count": 36,
     "metadata": {},
     "output_type": "execute_result"
    }
   ],
   "source": [
    "flightBay['ArrivalFlight']."
   ]
  },
  {
   "cell_type": "code",
   "execution_count": 55,
   "metadata": {},
   "outputs": [],
   "source": [
    "flightBay.EIBTDateTimeOffset.head()\n",
    "# flightBay.EIBTDateTimeOffset=pd.to_datetime(flightBay.EIBTDateTimeOffset)\n",
    "# separate date and time from EIBTDateTimeOffset\n",
    "# take first 10 characters from EIBTDateTimeOffset\n",
    "flightBay['EIBTDate']=flightBay.EIBTDateTimeOffset.str[:10]\n",
    "# flightBay['EIBTDate']=flightBay.EIBTDateTimeOffset.dt.date\n",
    "# flightBay['EIBTTime']=flightBay.EIBTDateTimeOffset.dt.time\n"
   ]
  },
  {
   "cell_type": "code",
   "execution_count": 57,
   "metadata": {},
   "outputs": [
    {
     "data": {
      "text/html": [
       "<div>\n",
       "<style scoped>\n",
       "    .dataframe tbody tr th:only-of-type {\n",
       "        vertical-align: middle;\n",
       "    }\n",
       "\n",
       "    .dataframe tbody tr th {\n",
       "        vertical-align: top;\n",
       "    }\n",
       "\n",
       "    .dataframe thead th {\n",
       "        text-align: right;\n",
       "    }\n",
       "</style>\n",
       "<table border=\"1\" class=\"dataframe\">\n",
       "  <thead>\n",
       "    <tr style=\"text-align: right;\">\n",
       "      <th></th>\n",
       "      <th>ArrivalFlight</th>\n",
       "      <th>StandPosition</th>\n",
       "      <th>RegistrationNumber</th>\n",
       "      <th>SIBTDateTimeOffset</th>\n",
       "      <th>EIBTDateTimeOffset</th>\n",
       "      <th>AIBTDateTimeOffset</th>\n",
       "      <th>DepartureFlight</th>\n",
       "      <th>StandPosition2</th>\n",
       "      <th>RegistrationNumber3</th>\n",
       "      <th>SOBTDateTimeOffset</th>\n",
       "      <th>...</th>\n",
       "      <th>dep_PremiunClassCount</th>\n",
       "      <th>dep_EconomyClassCount</th>\n",
       "      <th>dep_InfantFirstCount</th>\n",
       "      <th>dep_InfantBusinessCount</th>\n",
       "      <th>dep_InfantPremiumCount</th>\n",
       "      <th>dep_InfantEconomyCount</th>\n",
       "      <th>dep_NumberOfBags</th>\n",
       "      <th>dep_WeightOfBags</th>\n",
       "      <th>Same Bay</th>\n",
       "      <th>EIBTDate</th>\n",
       "    </tr>\n",
       "  </thead>\n",
       "  <tbody>\n",
       "    <tr>\n",
       "      <th>159908</th>\n",
       "      <td>SQ906</td>\n",
       "      <td>F30</td>\n",
       "      <td>9VMBC</td>\n",
       "      <td>2022-11-30 15:00:00.0000000 +00:00</td>\n",
       "      <td>2022-11-30 15:34:00.0000000 +00:00</td>\n",
       "      <td>2022-11-30 15:27:00.0000000 +00:00</td>\n",
       "      <td>SQ026</td>\n",
       "      <td>B4</td>\n",
       "      <td>9VSKY</td>\n",
       "      <td>2022-11-30 15:55:00.0000000 +00:00</td>\n",
       "      <td>...</td>\n",
       "      <td>44</td>\n",
       "      <td>250</td>\n",
       "      <td>0</td>\n",
       "      <td>1</td>\n",
       "      <td>2</td>\n",
       "      <td>3</td>\n",
       "      <td>504</td>\n",
       "      <td>9358</td>\n",
       "      <td>False</td>\n",
       "      <td>2022-11-30</td>\n",
       "    </tr>\n",
       "    <tr>\n",
       "      <th>159909</th>\n",
       "      <td>SQ204</td>\n",
       "      <td>A21</td>\n",
       "      <td>9VMBK</td>\n",
       "      <td>2022-11-30 15:05:00.0000000 +00:00</td>\n",
       "      <td>2022-11-30 15:19:00.0000000 +00:00</td>\n",
       "      <td>2022-11-30 15:09:00.0000000 +00:00</td>\n",
       "      <td>SQ026</td>\n",
       "      <td>B4</td>\n",
       "      <td>9VSKY</td>\n",
       "      <td>2022-11-30 15:55:00.0000000 +00:00</td>\n",
       "      <td>...</td>\n",
       "      <td>44</td>\n",
       "      <td>250</td>\n",
       "      <td>0</td>\n",
       "      <td>1</td>\n",
       "      <td>2</td>\n",
       "      <td>3</td>\n",
       "      <td>504</td>\n",
       "      <td>9358</td>\n",
       "      <td>True</td>\n",
       "      <td>2022-11-30</td>\n",
       "    </tr>\n",
       "    <tr>\n",
       "      <th>159910</th>\n",
       "      <td>SQ204</td>\n",
       "      <td>A21</td>\n",
       "      <td>9VMBK</td>\n",
       "      <td>2022-11-30 15:05:00.0000000 +00:00</td>\n",
       "      <td>2022-11-30 15:19:00.0000000 +00:00</td>\n",
       "      <td>2022-11-30 15:09:00.0000000 +00:00</td>\n",
       "      <td>SQ324</td>\n",
       "      <td>A13</td>\n",
       "      <td>9VSMM</td>\n",
       "      <td>2022-11-30 15:55:00.0000000 +00:00</td>\n",
       "      <td>...</td>\n",
       "      <td>24</td>\n",
       "      <td>154</td>\n",
       "      <td>0</td>\n",
       "      <td>1</td>\n",
       "      <td>0</td>\n",
       "      <td>1</td>\n",
       "      <td>222</td>\n",
       "      <td>4050</td>\n",
       "      <td>True</td>\n",
       "      <td>2022-11-30</td>\n",
       "    </tr>\n",
       "    <tr>\n",
       "      <th>159911</th>\n",
       "      <td>SQ193</td>\n",
       "      <td>F42</td>\n",
       "      <td>9VSHK</td>\n",
       "      <td>2022-11-30 15:15:00.0000000 +00:00</td>\n",
       "      <td>2022-11-30 14:53:00.0000000 +00:00</td>\n",
       "      <td>2022-11-30 15:04:00.0000000 +00:00</td>\n",
       "      <td>SQ324</td>\n",
       "      <td>A13</td>\n",
       "      <td>9VSMM</td>\n",
       "      <td>2022-11-30 15:55:00.0000000 +00:00</td>\n",
       "      <td>...</td>\n",
       "      <td>24</td>\n",
       "      <td>154</td>\n",
       "      <td>0</td>\n",
       "      <td>1</td>\n",
       "      <td>0</td>\n",
       "      <td>1</td>\n",
       "      <td>222</td>\n",
       "      <td>4050</td>\n",
       "      <td>False</td>\n",
       "      <td>2022-11-30</td>\n",
       "    </tr>\n",
       "    <tr>\n",
       "      <th>159912</th>\n",
       "      <td>SQ193</td>\n",
       "      <td>F42</td>\n",
       "      <td>9VSHK</td>\n",
       "      <td>2022-11-30 15:15:00.0000000 +00:00</td>\n",
       "      <td>2022-11-30 14:53:00.0000000 +00:00</td>\n",
       "      <td>2022-11-30 15:04:00.0000000 +00:00</td>\n",
       "      <td>SQ026</td>\n",
       "      <td>B4</td>\n",
       "      <td>9VSKY</td>\n",
       "      <td>2022-11-30 15:55:00.0000000 +00:00</td>\n",
       "      <td>...</td>\n",
       "      <td>44</td>\n",
       "      <td>250</td>\n",
       "      <td>0</td>\n",
       "      <td>1</td>\n",
       "      <td>2</td>\n",
       "      <td>3</td>\n",
       "      <td>504</td>\n",
       "      <td>9358</td>\n",
       "      <td>False</td>\n",
       "      <td>2022-11-30</td>\n",
       "    </tr>\n",
       "  </tbody>\n",
       "</table>\n",
       "<p>5 rows × 56 columns</p>\n",
       "</div>"
      ],
      "text/plain": [
       "       ArrivalFlight StandPosition RegistrationNumber  \\\n",
       "159908         SQ906           F30              9VMBC   \n",
       "159909         SQ204           A21              9VMBK   \n",
       "159910         SQ204           A21              9VMBK   \n",
       "159911         SQ193           F42              9VSHK   \n",
       "159912         SQ193           F42              9VSHK   \n",
       "\n",
       "                        SIBTDateTimeOffset  \\\n",
       "159908  2022-11-30 15:00:00.0000000 +00:00   \n",
       "159909  2022-11-30 15:05:00.0000000 +00:00   \n",
       "159910  2022-11-30 15:05:00.0000000 +00:00   \n",
       "159911  2022-11-30 15:15:00.0000000 +00:00   \n",
       "159912  2022-11-30 15:15:00.0000000 +00:00   \n",
       "\n",
       "                        EIBTDateTimeOffset  \\\n",
       "159908  2022-11-30 15:34:00.0000000 +00:00   \n",
       "159909  2022-11-30 15:19:00.0000000 +00:00   \n",
       "159910  2022-11-30 15:19:00.0000000 +00:00   \n",
       "159911  2022-11-30 14:53:00.0000000 +00:00   \n",
       "159912  2022-11-30 14:53:00.0000000 +00:00   \n",
       "\n",
       "                        AIBTDateTimeOffset DepartureFlight StandPosition2  \\\n",
       "159908  2022-11-30 15:27:00.0000000 +00:00           SQ026             B4   \n",
       "159909  2022-11-30 15:09:00.0000000 +00:00           SQ026             B4   \n",
       "159910  2022-11-30 15:09:00.0000000 +00:00           SQ324            A13   \n",
       "159911  2022-11-30 15:04:00.0000000 +00:00           SQ324            A13   \n",
       "159912  2022-11-30 15:04:00.0000000 +00:00           SQ026             B4   \n",
       "\n",
       "       RegistrationNumber3                  SOBTDateTimeOffset  ...  \\\n",
       "159908               9VSKY  2022-11-30 15:55:00.0000000 +00:00  ...   \n",
       "159909               9VSKY  2022-11-30 15:55:00.0000000 +00:00  ...   \n",
       "159910               9VSMM  2022-11-30 15:55:00.0000000 +00:00  ...   \n",
       "159911               9VSMM  2022-11-30 15:55:00.0000000 +00:00  ...   \n",
       "159912               9VSKY  2022-11-30 15:55:00.0000000 +00:00  ...   \n",
       "\n",
       "       dep_PremiunClassCount dep_EconomyClassCount  dep_InfantFirstCount  \\\n",
       "159908                    44                   250                     0   \n",
       "159909                    44                   250                     0   \n",
       "159910                    24                   154                     0   \n",
       "159911                    24                   154                     0   \n",
       "159912                    44                   250                     0   \n",
       "\n",
       "        dep_InfantBusinessCount  dep_InfantPremiumCount  \\\n",
       "159908                        1                       2   \n",
       "159909                        1                       2   \n",
       "159910                        1                       0   \n",
       "159911                        1                       0   \n",
       "159912                        1                       2   \n",
       "\n",
       "        dep_InfantEconomyCount  dep_NumberOfBags  dep_WeightOfBags  Same Bay  \\\n",
       "159908                       3               504              9358     False   \n",
       "159909                       3               504              9358      True   \n",
       "159910                       1               222              4050      True   \n",
       "159911                       1               222              4050     False   \n",
       "159912                       3               504              9358     False   \n",
       "\n",
       "          EIBTDate  \n",
       "159908  2022-11-30  \n",
       "159909  2022-11-30  \n",
       "159910  2022-11-30  \n",
       "159911  2022-11-30  \n",
       "159912  2022-11-30  \n",
       "\n",
       "[5 rows x 56 columns]"
      ]
     },
     "execution_count": 57,
     "metadata": {},
     "output_type": "execute_result"
    }
   ],
   "source": [
    "flightBay.tail()"
   ]
  },
  {
   "cell_type": "code",
   "execution_count": 64,
   "metadata": {},
   "outputs": [
    {
     "name": "stderr",
     "output_type": "stream",
     "text": [
      "C:\\Users\\pc\\AppData\\Local\\Temp\\ipykernel_41888\\791776215.py:6: SettingWithCopyWarning: \n",
      "A value is trying to be set on a copy of a slice from a DataFrame.\n",
      "Try using .loc[row_indexer,col_indexer] = value instead\n",
      "\n",
      "See the caveats in the documentation: https://pandas.pydata.org/pandas-docs/stable/user_guide/indexing.html#returning-a-view-versus-a-copy\n",
      "  flightBayMini.EIBTDate=pd.to_datetime(flightBayMini.EIBTDate)\n",
      "C:\\Users\\pc\\AppData\\Local\\Temp\\ipykernel_41888\\791776215.py:8: SettingWithCopyWarning: \n",
      "A value is trying to be set on a copy of a slice from a DataFrame\n",
      "\n",
      "See the caveats in the documentation: https://pandas.pydata.org/pandas-docs/stable/user_guide/indexing.html#returning-a-view-versus-a-copy\n",
      "  flightBayMini.drop_duplicates(subset=['ArrivalFlight','EIBTDate'],keep='first',inplace=True)\n"
     ]
    }
   ],
   "source": [
    "# mini flightBay to merge with dataStaffBugaggeNew\n",
    "flightBayMini=flightBay[['ArrivalFlight','EIBTDate','StandPosition']]\n",
    "flightBayMini.head()\n",
    "flightBayMini.shape\n",
    "# convert EIBTDate to date only\n",
    "flightBayMini.EIBTDate=pd.to_datetime(flightBayMini.EIBTDate)\n",
    "flightBayMini.head()\n",
    "flightBayMini.drop_duplicates(subset=['ArrivalFlight','EIBTDate'],keep='first',inplace=True)"
   ]
  },
  {
   "cell_type": "code",
   "execution_count": 72,
   "metadata": {},
   "outputs": [
    {
     "data": {
      "text/plain": [
       "Index(['ArrivalFlight', 'EIBTDate', 'StandPosition'], dtype='object')"
      ]
     },
     "execution_count": 72,
     "metadata": {},
     "output_type": "execute_result"
    }
   ],
   "source": [
    "# check the shape of flightBayMini\n",
    "flightBayMini.shape\n",
    "flightBayMini.columns\n"
   ]
  },
  {
   "cell_type": "code",
   "execution_count": 69,
   "metadata": {},
   "outputs": [
    {
     "data": {
      "text/plain": [
       "(14205, 3)"
      ]
     },
     "execution_count": 69,
     "metadata": {},
     "output_type": "execute_result"
    }
   ],
   "source": [
    "# Take all the flights which start from 1st september 2022\n",
    "flightBayMini=flightBayMini[flightBayMini['EIBTDate']>='2022-09-01']\n",
    "# Take all the flights which are uptill end of November 22\n",
    "flightBayMini=flightBayMini[flightBayMini['EIBTDate']<='2022-11-30']\n",
    "\n",
    "# check the shape of flightBayMini\n",
    "flightBayMini.shape"
   ]
  },
  {
   "cell_type": "code",
   "execution_count": 74,
   "metadata": {},
   "outputs": [
    {
     "data": {
      "text/plain": [
       "Index(['Flight No', 'Flight Date', 'StandPosition'], dtype='object')"
      ]
     },
     "execution_count": 74,
     "metadata": {},
     "output_type": "execute_result"
    }
   ],
   "source": [
    "flightBayMini.columns"
   ]
  },
  {
   "cell_type": "code",
   "execution_count": 73,
   "metadata": {},
   "outputs": [],
   "source": [
    "# Rename ArrivalFlight to Flight No and EIBTDate to Flight Date\n",
    "flightBayMini.rename(columns={'ArrivalFlight':'Flight No','EIBTDate':'Flight Date'},inplace=True)\n",
    "# flightBayMini.rename(columns={'ArrivalFlight':'Flight No'},inplace=True)"
   ]
  },
  {
   "cell_type": "code",
   "execution_count": 81,
   "metadata": {},
   "outputs": [],
   "source": [
    "#  read data from staffBugaggeNew.csv\n",
    "dataStaffBugagge=pd.read_csv('J:\\\\SATS\\\\dataStaffBugaggeNew.csv')"
   ]
  },
  {
   "cell_type": "code",
   "execution_count": 82,
   "metadata": {},
   "outputs": [],
   "source": [
    "dataStaffBugagge.shape\n",
    "# convert Flight Date to date only\n",
    "dataStaffBugagge['Flight Date']=pd.to_datetime(dataStaffBugagge['Flight Date'])"
   ]
  },
  {
   "cell_type": "code",
   "execution_count": 83,
   "metadata": {},
   "outputs": [],
   "source": [
    "# merge dataStaffBugagge with flightBayMini on ArrivalFlight and EIBTDate and want to keep all the rows from dataStaffBugagge and only those rows from flightBayMini which are present in dataStaffBugagge with all columns in dataStaffBugagge and only StandPosition from flightBayMini\n",
    "# ADD StandPosition  in the column which is not present in dataStaffBugagge \n",
    "\n",
    "\n",
    "dataStaffBugaggeNew=pd.merge(dataStaffBugagge,flightBayMini,on=['Flight Date','Flight No'])\n"
   ]
  },
  {
   "cell_type": "code",
   "execution_count": 84,
   "metadata": {},
   "outputs": [
    {
     "data": {
      "text/plain": [
       "(6350, 19)"
      ]
     },
     "execution_count": 84,
     "metadata": {},
     "output_type": "execute_result"
    }
   ],
   "source": [
    "dataStaffBugaggeNew.shape"
   ]
  },
  {
   "cell_type": "code",
   "execution_count": 86,
   "metadata": {},
   "outputs": [
    {
     "data": {
      "text/plain": [
       "Index(['Unnamed: 0', 'Flight Date', 'Orientation', 'Flight No', 'ST', 'ET',\n",
       "       'RLO ', 'RSM', 'EO', 'AA', 'staff', 'In-bound Time', 'Trip Number',\n",
       "       'ULD Number', 'Pickup Time', 'Dropoff Time', 'Dropoff TimeN',\n",
       "       'Total ULDS', 'StandPosition'],\n",
       "      dtype='object')"
      ]
     },
     "execution_count": 86,
     "metadata": {},
     "output_type": "execute_result"
    }
   ],
   "source": [
    "dataStaffBugaggeNew.columns"
   ]
  },
  {
   "cell_type": "code",
   "execution_count": 90,
   "metadata": {},
   "outputs": [
    {
     "data": {
      "text/html": [
       "<div>\n",
       "<style scoped>\n",
       "    .dataframe tbody tr th:only-of-type {\n",
       "        vertical-align: middle;\n",
       "    }\n",
       "\n",
       "    .dataframe tbody tr th {\n",
       "        vertical-align: top;\n",
       "    }\n",
       "\n",
       "    .dataframe thead th {\n",
       "        text-align: right;\n",
       "    }\n",
       "</style>\n",
       "<table border=\"1\" class=\"dataframe\">\n",
       "  <thead>\n",
       "    <tr style=\"text-align: right;\">\n",
       "      <th></th>\n",
       "      <th>Unnamed: 0</th>\n",
       "      <th>Flight Date</th>\n",
       "      <th>Orientation</th>\n",
       "      <th>Flight No</th>\n",
       "      <th>ST</th>\n",
       "      <th>ET</th>\n",
       "      <th>RLO</th>\n",
       "      <th>RSM</th>\n",
       "      <th>EO</th>\n",
       "      <th>AA</th>\n",
       "      <th>staff</th>\n",
       "      <th>In-bound Time</th>\n",
       "      <th>Trip Number</th>\n",
       "      <th>ULD Number</th>\n",
       "      <th>Pickup Time</th>\n",
       "      <th>Dropoff Time</th>\n",
       "      <th>Dropoff TimeN</th>\n",
       "      <th>Total ULDS</th>\n",
       "      <th>StandPosition</th>\n",
       "    </tr>\n",
       "  </thead>\n",
       "  <tbody>\n",
       "  </tbody>\n",
       "</table>\n",
       "</div>"
      ],
      "text/plain": [
       "Empty DataFrame\n",
       "Columns: [Unnamed: 0, Flight Date, Orientation, Flight No, ST, ET, RLO , RSM, EO, AA, staff, In-bound Time, Trip Number, ULD Number, Pickup Time, Dropoff Time, Dropoff TimeN, Total ULDS, StandPosition]\n",
       "Index: []"
      ]
     },
     "execution_count": 90,
     "metadata": {},
     "output_type": "execute_result"
    }
   ],
   "source": [
    "# find all the flights which are present in dataStaffBugagge and not present in dataStaffBugaggeNew\n",
    "dataStaffBugagge[~dataStaffBugagge['Flight No'].isin(dataStaffBugaggeNew['Flight No'])]\n",
    "# find all the flights which are present in dataStaffBugaggeNew and not present in flightBayMini\n",
    "dataStaffBugaggeNew[~dataStaffBugaggeNew['Flight No'].isin(flightBayMini['Flight No'])]"
   ]
  },
  {
   "cell_type": "code",
   "execution_count": 92,
   "metadata": {},
   "outputs": [
    {
     "data": {
      "text/plain": [
       "(6350, 19)"
      ]
     },
     "execution_count": 92,
     "metadata": {},
     "output_type": "execute_result"
    }
   ],
   "source": [
    "dataStaffBugaggeNew.shape\n",
    "# dataStaffBugaggeNew.columns\n"
   ]
  },
  {
   "cell_type": "code",
   "execution_count": 95,
   "metadata": {},
   "outputs": [
    {
     "data": {
      "text/plain": [
       "Unnamed: 0          0\n",
       "Flight Date         0\n",
       "Orientation         0\n",
       "Flight No           0\n",
       "ST                  0\n",
       "ET                  2\n",
       "RLO                 0\n",
       "RSM                 0\n",
       "EO                  0\n",
       "AA                  0\n",
       "staff               0\n",
       "In-bound Time    1836\n",
       "Trip Number      1832\n",
       "ULD Number       1832\n",
       "Pickup Time      3990\n",
       "Dropoff Time     1832\n",
       "Dropoff TimeN    3534\n",
       "Total ULDS       1832\n",
       "StandPosition       3\n",
       "dtype: int64"
      ]
     },
     "execution_count": 95,
     "metadata": {},
     "output_type": "execute_result"
    }
   ],
   "source": [
    "dataStaffBugaggeNew.isnull().sum()"
   ]
  },
  {
   "cell_type": "code",
   "execution_count": 88,
   "metadata": {},
   "outputs": [
    {
     "data": {
      "text/plain": [
       "8764"
      ]
     },
     "execution_count": 88,
     "metadata": {},
     "output_type": "execute_result"
    }
   ],
   "source": [
    "2414+6350"
   ]
  },
  {
   "cell_type": "code",
   "execution_count": 80,
   "metadata": {},
   "outputs": [
    {
     "data": {
      "text/plain": [
       "Unnamed: 0                int64\n",
       "Flight Date      datetime64[ns]\n",
       "Orientation              object\n",
       "Flight No                object\n",
       "ST                        int64\n",
       "ET                      float64\n",
       "RLO                       int64\n",
       "RSM                       int64\n",
       "EO                        int64\n",
       "AA                        int64\n",
       "staff                     int64\n",
       "In-bound Time            object\n",
       "Trip Number             float64\n",
       "ULD Number               object\n",
       "Pickup Time              object\n",
       "Dropoff Time             object\n",
       "Dropoff TimeN            object\n",
       "Total ULDS              float64\n",
       "dtype: object"
      ]
     },
     "execution_count": 80,
     "metadata": {},
     "output_type": "execute_result"
    }
   ],
   "source": [
    "dataStaffBugagge.dtypes"
   ]
  },
  {
   "cell_type": "code",
   "execution_count": 46,
   "metadata": {},
   "outputs": [
    {
     "data": {
      "text/plain": [
       "0    9/1/2022\n",
       "1    9/1/2022\n",
       "2    9/1/2022\n",
       "3    9/1/2022\n",
       "4    9/1/2022\n",
       "Name: Flight Date, dtype: object"
      ]
     },
     "execution_count": 46,
     "metadata": {},
     "output_type": "execute_result"
    }
   ],
   "source": [
    "dataStaffBugagge['Flight Date'].head()"
   ]
  },
  {
   "cell_type": "code",
   "execution_count": 97,
   "metadata": {},
   "outputs": [],
   "source": [
    "# save dataStaffBugaggeNew to csv\n",
    "dataStaffBugaggeNew.to_csv('J:\\\\SATS\\\\dataStaffBugaggeSP.csv',index=False)"
   ]
  },
  {
   "cell_type": "code",
   "execution_count": 9,
   "metadata": {},
   "outputs": [],
   "source": [
    "import pandas as pd\n",
    "sp=pd.read_csv('J:\\\\SATS\\\\dataStaffBugaggeSP.csv')"
   ]
  },
  {
   "cell_type": "code",
   "execution_count": 10,
   "metadata": {},
   "outputs": [
    {
     "data": {
      "text/plain": [
       "(6350, 19)"
      ]
     },
     "execution_count": 10,
     "metadata": {},
     "output_type": "execute_result"
    }
   ],
   "source": [
    "sp.shape"
   ]
  },
  {
   "cell_type": "code",
   "execution_count": 11,
   "metadata": {},
   "outputs": [
    {
     "data": {
      "text/plain": [
       "Index(['Unnamed: 0', 'Flight Date', 'Orientation', 'Flight No', 'ST', 'ET',\n",
       "       'RLO ', 'RSM', 'EO', 'AA', 'staff', 'In-bound Time', 'Trip Number',\n",
       "       'ULD Number', 'Pickup Time', 'Dropoff Time', 'Dropoff TimeN',\n",
       "       'Total ULDS', 'StandPosition'],\n",
       "      dtype='object')"
      ]
     },
     "execution_count": 11,
     "metadata": {},
     "output_type": "execute_result"
    }
   ],
   "source": [
    "sp.columns"
   ]
  },
  {
   "cell_type": "code",
   "execution_count": 13,
   "metadata": {},
   "outputs": [
    {
     "data": {
      "text/html": [
       "<div>\n",
       "<style scoped>\n",
       "    .dataframe tbody tr th:only-of-type {\n",
       "        vertical-align: middle;\n",
       "    }\n",
       "\n",
       "    .dataframe tbody tr th {\n",
       "        vertical-align: top;\n",
       "    }\n",
       "\n",
       "    .dataframe thead th {\n",
       "        text-align: right;\n",
       "    }\n",
       "</style>\n",
       "<table border=\"1\" class=\"dataframe\">\n",
       "  <thead>\n",
       "    <tr style=\"text-align: right;\">\n",
       "      <th></th>\n",
       "      <th>Unnamed: 0</th>\n",
       "      <th>Flight Date</th>\n",
       "      <th>Orientation</th>\n",
       "      <th>Flight No</th>\n",
       "      <th>ST</th>\n",
       "      <th>ET</th>\n",
       "      <th>RLO</th>\n",
       "      <th>RSM</th>\n",
       "      <th>EO</th>\n",
       "      <th>AA</th>\n",
       "      <th>staff</th>\n",
       "      <th>In-bound Time</th>\n",
       "      <th>Trip Number</th>\n",
       "      <th>ULD Number</th>\n",
       "      <th>Pickup Time</th>\n",
       "      <th>Dropoff Time</th>\n",
       "      <th>Dropoff TimeN</th>\n",
       "      <th>Total ULDS</th>\n",
       "      <th>StandPosition</th>\n",
       "    </tr>\n",
       "  </thead>\n",
       "  <tbody>\n",
       "    <tr>\n",
       "      <th>0</th>\n",
       "      <td>2</td>\n",
       "      <td>2022-09-01</td>\n",
       "      <td>Arrival</td>\n",
       "      <td>SQ208</td>\n",
       "      <td>15</td>\n",
       "      <td>21.0</td>\n",
       "      <td>1</td>\n",
       "      <td>4</td>\n",
       "      <td>1</td>\n",
       "      <td>2</td>\n",
       "      <td>8</td>\n",
       "      <td>9/1/2022 0:21</td>\n",
       "      <td>1.0</td>\n",
       "      <td>AKE89138SQ</td>\n",
       "      <td>33:15.2</td>\n",
       "      <td>37:16.9</td>\n",
       "      <td>48:19.5</td>\n",
       "      <td>12.0</td>\n",
       "      <td>A11</td>\n",
       "    </tr>\n",
       "    <tr>\n",
       "      <th>1</th>\n",
       "      <td>4</td>\n",
       "      <td>2022-09-01</td>\n",
       "      <td>Arrival</td>\n",
       "      <td>SQ242</td>\n",
       "      <td>20</td>\n",
       "      <td>40.0</td>\n",
       "      <td>1</td>\n",
       "      <td>3</td>\n",
       "      <td>1</td>\n",
       "      <td>1</td>\n",
       "      <td>6</td>\n",
       "      <td>9/1/2022 0:40</td>\n",
       "      <td>1.0</td>\n",
       "      <td>AKE80436SQ</td>\n",
       "      <td>54:23.0</td>\n",
       "      <td>55:44.9</td>\n",
       "      <td>55:44.9</td>\n",
       "      <td>4.0</td>\n",
       "      <td>A13</td>\n",
       "    </tr>\n",
       "    <tr>\n",
       "      <th>2</th>\n",
       "      <td>24</td>\n",
       "      <td>2022-09-01</td>\n",
       "      <td>Arrival</td>\n",
       "      <td>SQ623</td>\n",
       "      <td>440</td>\n",
       "      <td>419.0</td>\n",
       "      <td>1</td>\n",
       "      <td>3</td>\n",
       "      <td>1</td>\n",
       "      <td>2</td>\n",
       "      <td>7</td>\n",
       "      <td>9/1/2022 4:19</td>\n",
       "      <td>1.0</td>\n",
       "      <td>AKE28089SQ</td>\n",
       "      <td>28:10.7</td>\n",
       "      <td>00:00.0</td>\n",
       "      <td>NaN</td>\n",
       "      <td>10.0</td>\n",
       "      <td>F41</td>\n",
       "    </tr>\n",
       "    <tr>\n",
       "      <th>3</th>\n",
       "      <td>26</td>\n",
       "      <td>2022-09-01</td>\n",
       "      <td>Arrival</td>\n",
       "      <td>SQ635</td>\n",
       "      <td>455</td>\n",
       "      <td>456.0</td>\n",
       "      <td>1</td>\n",
       "      <td>3</td>\n",
       "      <td>1</td>\n",
       "      <td>2</td>\n",
       "      <td>7</td>\n",
       "      <td>9/1/2022 4:56</td>\n",
       "      <td>1.0</td>\n",
       "      <td>AKE70467SQ</td>\n",
       "      <td>10:00.0</td>\n",
       "      <td>10:11.7</td>\n",
       "      <td>12:32.7</td>\n",
       "      <td>6.0</td>\n",
       "      <td>F54</td>\n",
       "    </tr>\n",
       "    <tr>\n",
       "      <th>4</th>\n",
       "      <td>31</td>\n",
       "      <td>2022-09-01</td>\n",
       "      <td>Arrival</td>\n",
       "      <td>SQ218</td>\n",
       "      <td>530</td>\n",
       "      <td>524.0</td>\n",
       "      <td>1</td>\n",
       "      <td>3</td>\n",
       "      <td>1</td>\n",
       "      <td>2</td>\n",
       "      <td>7</td>\n",
       "      <td>9/1/2022 5:24</td>\n",
       "      <td>1.0</td>\n",
       "      <td>AKE28057SQ</td>\n",
       "      <td>NaN</td>\n",
       "      <td>00:00.0</td>\n",
       "      <td>NaN</td>\n",
       "      <td>3.0</td>\n",
       "      <td>F42</td>\n",
       "    </tr>\n",
       "  </tbody>\n",
       "</table>\n",
       "</div>"
      ],
      "text/plain": [
       "   Unnamed: 0 Flight Date Orientation Flight No   ST     ET  RLO   RSM  EO  \\\n",
       "0           2  2022-09-01     Arrival     SQ208   15   21.0     1    4   1   \n",
       "1           4  2022-09-01     Arrival     SQ242   20   40.0     1    3   1   \n",
       "2          24  2022-09-01     Arrival     SQ623  440  419.0     1    3   1   \n",
       "3          26  2022-09-01     Arrival     SQ635  455  456.0     1    3   1   \n",
       "4          31  2022-09-01     Arrival     SQ218  530  524.0     1    3   1   \n",
       "\n",
       "   AA  staff  In-bound Time  Trip Number  ULD Number Pickup Time Dropoff Time  \\\n",
       "0   2      8  9/1/2022 0:21          1.0  AKE89138SQ     33:15.2      37:16.9   \n",
       "1   1      6  9/1/2022 0:40          1.0  AKE80436SQ     54:23.0      55:44.9   \n",
       "2   2      7  9/1/2022 4:19          1.0  AKE28089SQ     28:10.7      00:00.0   \n",
       "3   2      7  9/1/2022 4:56          1.0  AKE70467SQ     10:00.0      10:11.7   \n",
       "4   2      7  9/1/2022 5:24          1.0  AKE28057SQ         NaN      00:00.0   \n",
       "\n",
       "  Dropoff TimeN  Total ULDS StandPosition  \n",
       "0       48:19.5        12.0           A11  \n",
       "1       55:44.9         4.0           A13  \n",
       "2           NaN        10.0           F41  \n",
       "3       12:32.7         6.0           F54  \n",
       "4           NaN         3.0           F42  "
      ]
     },
     "execution_count": 13,
     "metadata": {},
     "output_type": "execute_result"
    }
   ],
   "source": [
    "sp.head()"
   ]
  },
  {
   "cell_type": "code",
   "execution_count": 8,
   "metadata": {},
   "outputs": [
    {
     "ename": "ParserError",
     "evalue": "hour must be in 0..23: 33:15.2 present at position 0",
     "output_type": "error",
     "traceback": [
      "\u001b[1;31m---------------------------------------------------------------------------\u001b[0m",
      "\u001b[1;31mValueError\u001b[0m                                Traceback (most recent call last)",
      "File \u001b[1;32mc:\\Users\\pc\\AppData\\Local\\Programs\\Python\\Python310\\lib\\site-packages\\dateutil\\parser\\_parser.py:649\u001b[0m, in \u001b[0;36mparser.parse\u001b[1;34m(self, timestr, default, ignoretz, tzinfos, **kwargs)\u001b[0m\n\u001b[0;32m    648\u001b[0m \u001b[39mtry\u001b[39;00m:\n\u001b[1;32m--> 649\u001b[0m     ret \u001b[39m=\u001b[39m \u001b[39mself\u001b[39;49m\u001b[39m.\u001b[39;49m_build_naive(res, default)\n\u001b[0;32m    650\u001b[0m \u001b[39mexcept\u001b[39;00m \u001b[39mValueError\u001b[39;00m \u001b[39mas\u001b[39;00m e:\n",
      "File \u001b[1;32mc:\\Users\\pc\\AppData\\Local\\Programs\\Python\\Python310\\lib\\site-packages\\dateutil\\parser\\_parser.py:1235\u001b[0m, in \u001b[0;36mparser._build_naive\u001b[1;34m(self, res, default)\u001b[0m\n\u001b[0;32m   1233\u001b[0m         repl[\u001b[39m'\u001b[39m\u001b[39mday\u001b[39m\u001b[39m'\u001b[39m] \u001b[39m=\u001b[39m monthrange(cyear, cmonth)[\u001b[39m1\u001b[39m]\n\u001b[1;32m-> 1235\u001b[0m naive \u001b[39m=\u001b[39m default\u001b[39m.\u001b[39mreplace(\u001b[39m*\u001b[39m\u001b[39m*\u001b[39mrepl)\n\u001b[0;32m   1237\u001b[0m \u001b[39mif\u001b[39;00m res\u001b[39m.\u001b[39mweekday \u001b[39mis\u001b[39;00m \u001b[39mnot\u001b[39;00m \u001b[39mNone\u001b[39;00m \u001b[39mand\u001b[39;00m \u001b[39mnot\u001b[39;00m res\u001b[39m.\u001b[39mday:\n",
      "\u001b[1;31mValueError\u001b[0m: hour must be in 0..23",
      "\nThe above exception was the direct cause of the following exception:\n",
      "\u001b[1;31mParserError\u001b[0m                               Traceback (most recent call last)",
      "File \u001b[1;32mc:\\Users\\pc\\AppData\\Local\\Programs\\Python\\Python310\\lib\\site-packages\\pandas\\_libs\\tslib.pyx:606\u001b[0m, in \u001b[0;36mpandas._libs.tslib.array_to_datetime\u001b[1;34m()\u001b[0m\n",
      "File \u001b[1;32mc:\\Users\\pc\\AppData\\Local\\Programs\\Python\\Python310\\lib\\site-packages\\pandas\\_libs\\tslibs\\parsing.pyx:321\u001b[0m, in \u001b[0;36mpandas._libs.tslibs.parsing.parse_datetime_string\u001b[1;34m()\u001b[0m\n",
      "File \u001b[1;32mc:\\Users\\pc\\AppData\\Local\\Programs\\Python\\Python310\\lib\\site-packages\\dateutil\\parser\\_parser.py:1368\u001b[0m, in \u001b[0;36mparse\u001b[1;34m(timestr, parserinfo, **kwargs)\u001b[0m\n\u001b[0;32m   1367\u001b[0m \u001b[39melse\u001b[39;00m:\n\u001b[1;32m-> 1368\u001b[0m     \u001b[39mreturn\u001b[39;00m DEFAULTPARSER\u001b[39m.\u001b[39mparse(timestr, \u001b[39m*\u001b[39m\u001b[39m*\u001b[39mkwargs)\n",
      "File \u001b[1;32mc:\\Users\\pc\\AppData\\Local\\Programs\\Python\\Python310\\lib\\site-packages\\dateutil\\parser\\_parser.py:651\u001b[0m, in \u001b[0;36mparser.parse\u001b[1;34m(self, timestr, default, ignoretz, tzinfos, **kwargs)\u001b[0m\n\u001b[0;32m    650\u001b[0m \u001b[39mexcept\u001b[39;00m \u001b[39mValueError\u001b[39;00m \u001b[39mas\u001b[39;00m e:\n\u001b[1;32m--> 651\u001b[0m     six\u001b[39m.\u001b[39;49mraise_from(ParserError(\u001b[39mstr\u001b[39;49m(e) \u001b[39m+\u001b[39;49m \u001b[39m\"\u001b[39;49m\u001b[39m: \u001b[39;49m\u001b[39m%s\u001b[39;49;00m\u001b[39m\"\u001b[39;49m, timestr), e)\n\u001b[0;32m    653\u001b[0m \u001b[39mif\u001b[39;00m \u001b[39mnot\u001b[39;00m ignoretz:\n",
      "File \u001b[1;32m<string>:3\u001b[0m, in \u001b[0;36mraise_from\u001b[1;34m(value, from_value)\u001b[0m\n",
      "\u001b[1;31mParserError\u001b[0m: hour must be in 0..23: 33:15.2",
      "\nDuring handling of the above exception, another exception occurred:\n",
      "\u001b[1;31mTypeError\u001b[0m                                 Traceback (most recent call last)",
      "File \u001b[1;32mc:\\Users\\pc\\AppData\\Local\\Programs\\Python\\Python310\\lib\\site-packages\\pandas\\_libs\\tslib.pyx:617\u001b[0m, in \u001b[0;36mpandas._libs.tslib.array_to_datetime\u001b[1;34m()\u001b[0m\n",
      "\u001b[1;31mTypeError\u001b[0m: invalid string coercion to datetime for \"33:15.2\" at position 0",
      "\nDuring handling of the above exception, another exception occurred:\n",
      "\u001b[1;31mValueError\u001b[0m                                Traceback (most recent call last)",
      "File \u001b[1;32mc:\\Users\\pc\\AppData\\Local\\Programs\\Python\\Python310\\lib\\site-packages\\dateutil\\parser\\_parser.py:649\u001b[0m, in \u001b[0;36mparser.parse\u001b[1;34m(self, timestr, default, ignoretz, tzinfos, **kwargs)\u001b[0m\n\u001b[0;32m    648\u001b[0m \u001b[39mtry\u001b[39;00m:\n\u001b[1;32m--> 649\u001b[0m     ret \u001b[39m=\u001b[39m \u001b[39mself\u001b[39;49m\u001b[39m.\u001b[39;49m_build_naive(res, default)\n\u001b[0;32m    650\u001b[0m \u001b[39mexcept\u001b[39;00m \u001b[39mValueError\u001b[39;00m \u001b[39mas\u001b[39;00m e:\n",
      "File \u001b[1;32mc:\\Users\\pc\\AppData\\Local\\Programs\\Python\\Python310\\lib\\site-packages\\dateutil\\parser\\_parser.py:1235\u001b[0m, in \u001b[0;36mparser._build_naive\u001b[1;34m(self, res, default)\u001b[0m\n\u001b[0;32m   1233\u001b[0m         repl[\u001b[39m'\u001b[39m\u001b[39mday\u001b[39m\u001b[39m'\u001b[39m] \u001b[39m=\u001b[39m monthrange(cyear, cmonth)[\u001b[39m1\u001b[39m]\n\u001b[1;32m-> 1235\u001b[0m naive \u001b[39m=\u001b[39m default\u001b[39m.\u001b[39mreplace(\u001b[39m*\u001b[39m\u001b[39m*\u001b[39mrepl)\n\u001b[0;32m   1237\u001b[0m \u001b[39mif\u001b[39;00m res\u001b[39m.\u001b[39mweekday \u001b[39mis\u001b[39;00m \u001b[39mnot\u001b[39;00m \u001b[39mNone\u001b[39;00m \u001b[39mand\u001b[39;00m \u001b[39mnot\u001b[39;00m res\u001b[39m.\u001b[39mday:\n",
      "\u001b[1;31mValueError\u001b[0m: hour must be in 0..23",
      "\nThe above exception was the direct cause of the following exception:\n",
      "\u001b[1;31mParserError\u001b[0m                               Traceback (most recent call last)",
      "Cell \u001b[1;32mIn [8], line 2\u001b[0m\n\u001b[0;32m      1\u001b[0m \u001b[39m# pickup Time and Drop Time to datetime\u001b[39;00m\n\u001b[1;32m----> 2\u001b[0m sp[\u001b[39m'\u001b[39m\u001b[39mPickup Time\u001b[39m\u001b[39m'\u001b[39m]\u001b[39m=\u001b[39mpd\u001b[39m.\u001b[39mto_datetime(sp[\u001b[39m'\u001b[39m\u001b[39mPickup Time\u001b[39m\u001b[39m'\u001b[39m])\n",
      "File \u001b[1;32mc:\\Users\\pc\\AppData\\Local\\Programs\\Python\\Python310\\lib\\site-packages\\pandas\\core\\tools\\datetimes.py:1065\u001b[0m, in \u001b[0;36mto_datetime\u001b[1;34m(arg, errors, dayfirst, yearfirst, utc, format, exact, unit, infer_datetime_format, origin, cache)\u001b[0m\n\u001b[0;32m   1063\u001b[0m             result \u001b[39m=\u001b[39m arg\u001b[39m.\u001b[39mtz_localize(tz)\n\u001b[0;32m   1064\u001b[0m \u001b[39melif\u001b[39;00m \u001b[39misinstance\u001b[39m(arg, ABCSeries):\n\u001b[1;32m-> 1065\u001b[0m     cache_array \u001b[39m=\u001b[39m _maybe_cache(arg, \u001b[39mformat\u001b[39;49m, cache, convert_listlike)\n\u001b[0;32m   1066\u001b[0m     \u001b[39mif\u001b[39;00m \u001b[39mnot\u001b[39;00m cache_array\u001b[39m.\u001b[39mempty:\n\u001b[0;32m   1067\u001b[0m         result \u001b[39m=\u001b[39m arg\u001b[39m.\u001b[39mmap(cache_array)\n",
      "File \u001b[1;32mc:\\Users\\pc\\AppData\\Local\\Programs\\Python\\Python310\\lib\\site-packages\\pandas\\core\\tools\\datetimes.py:230\u001b[0m, in \u001b[0;36m_maybe_cache\u001b[1;34m(arg, format, cache, convert_listlike)\u001b[0m\n\u001b[0;32m    228\u001b[0m unique_dates \u001b[39m=\u001b[39m unique(arg)\n\u001b[0;32m    229\u001b[0m \u001b[39mif\u001b[39;00m \u001b[39mlen\u001b[39m(unique_dates) \u001b[39m<\u001b[39m \u001b[39mlen\u001b[39m(arg):\n\u001b[1;32m--> 230\u001b[0m     cache_dates \u001b[39m=\u001b[39m convert_listlike(unique_dates, \u001b[39mformat\u001b[39;49m)\n\u001b[0;32m    231\u001b[0m     \u001b[39m# GH#45319\u001b[39;00m\n\u001b[0;32m    232\u001b[0m     \u001b[39mtry\u001b[39;00m:\n",
      "File \u001b[1;32mc:\\Users\\pc\\AppData\\Local\\Programs\\Python\\Python310\\lib\\site-packages\\pandas\\core\\tools\\datetimes.py:439\u001b[0m, in \u001b[0;36m_convert_listlike_datetimes\u001b[1;34m(arg, format, name, tz, unit, errors, infer_datetime_format, dayfirst, yearfirst, exact)\u001b[0m\n\u001b[0;32m    437\u001b[0m \u001b[39massert\u001b[39;00m \u001b[39mformat\u001b[39m \u001b[39mis\u001b[39;00m \u001b[39mNone\u001b[39;00m \u001b[39mor\u001b[39;00m infer_datetime_format\n\u001b[0;32m    438\u001b[0m utc \u001b[39m=\u001b[39m tz \u001b[39m==\u001b[39m \u001b[39m\"\u001b[39m\u001b[39mutc\u001b[39m\u001b[39m\"\u001b[39m\n\u001b[1;32m--> 439\u001b[0m result, tz_parsed \u001b[39m=\u001b[39m objects_to_datetime64ns(\n\u001b[0;32m    440\u001b[0m     arg,\n\u001b[0;32m    441\u001b[0m     dayfirst\u001b[39m=\u001b[39;49mdayfirst,\n\u001b[0;32m    442\u001b[0m     yearfirst\u001b[39m=\u001b[39;49myearfirst,\n\u001b[0;32m    443\u001b[0m     utc\u001b[39m=\u001b[39;49mutc,\n\u001b[0;32m    444\u001b[0m     errors\u001b[39m=\u001b[39;49merrors,\n\u001b[0;32m    445\u001b[0m     require_iso8601\u001b[39m=\u001b[39;49mrequire_iso8601,\n\u001b[0;32m    446\u001b[0m     allow_object\u001b[39m=\u001b[39;49m\u001b[39mTrue\u001b[39;49;00m,\n\u001b[0;32m    447\u001b[0m )\n\u001b[0;32m    449\u001b[0m \u001b[39mif\u001b[39;00m tz_parsed \u001b[39mis\u001b[39;00m \u001b[39mnot\u001b[39;00m \u001b[39mNone\u001b[39;00m:\n\u001b[0;32m    450\u001b[0m     \u001b[39m# We can take a shortcut since the datetime64 numpy array\u001b[39;00m\n\u001b[0;32m    451\u001b[0m     \u001b[39m# is in UTC\u001b[39;00m\n\u001b[0;32m    452\u001b[0m     dta \u001b[39m=\u001b[39m DatetimeArray(result, dtype\u001b[39m=\u001b[39mtz_to_dtype(tz_parsed))\n",
      "File \u001b[1;32mc:\\Users\\pc\\AppData\\Local\\Programs\\Python\\Python310\\lib\\site-packages\\pandas\\core\\arrays\\datetimes.py:2178\u001b[0m, in \u001b[0;36mobjects_to_datetime64ns\u001b[1;34m(data, dayfirst, yearfirst, utc, errors, require_iso8601, allow_object, allow_mixed)\u001b[0m\n\u001b[0;32m   2176\u001b[0m order: Literal[\u001b[39m\"\u001b[39m\u001b[39mF\u001b[39m\u001b[39m\"\u001b[39m, \u001b[39m\"\u001b[39m\u001b[39mC\u001b[39m\u001b[39m\"\u001b[39m] \u001b[39m=\u001b[39m \u001b[39m\"\u001b[39m\u001b[39mF\u001b[39m\u001b[39m\"\u001b[39m \u001b[39mif\u001b[39;00m flags\u001b[39m.\u001b[39mf_contiguous \u001b[39melse\u001b[39;00m \u001b[39m\"\u001b[39m\u001b[39mC\u001b[39m\u001b[39m\"\u001b[39m\n\u001b[0;32m   2177\u001b[0m \u001b[39mtry\u001b[39;00m:\n\u001b[1;32m-> 2178\u001b[0m     result, tz_parsed \u001b[39m=\u001b[39m tslib\u001b[39m.\u001b[39;49marray_to_datetime(\n\u001b[0;32m   2179\u001b[0m         data\u001b[39m.\u001b[39;49mravel(\u001b[39m\"\u001b[39;49m\u001b[39mK\u001b[39;49m\u001b[39m\"\u001b[39;49m),\n\u001b[0;32m   2180\u001b[0m         errors\u001b[39m=\u001b[39;49merrors,\n\u001b[0;32m   2181\u001b[0m         utc\u001b[39m=\u001b[39;49mutc,\n\u001b[0;32m   2182\u001b[0m         dayfirst\u001b[39m=\u001b[39;49mdayfirst,\n\u001b[0;32m   2183\u001b[0m         yearfirst\u001b[39m=\u001b[39;49myearfirst,\n\u001b[0;32m   2184\u001b[0m         require_iso8601\u001b[39m=\u001b[39;49mrequire_iso8601,\n\u001b[0;32m   2185\u001b[0m         allow_mixed\u001b[39m=\u001b[39;49mallow_mixed,\n\u001b[0;32m   2186\u001b[0m     )\n\u001b[0;32m   2187\u001b[0m     result \u001b[39m=\u001b[39m result\u001b[39m.\u001b[39mreshape(data\u001b[39m.\u001b[39mshape, order\u001b[39m=\u001b[39morder)\n\u001b[0;32m   2188\u001b[0m \u001b[39mexcept\u001b[39;00m \u001b[39mOverflowError\u001b[39;00m \u001b[39mas\u001b[39;00m err:\n\u001b[0;32m   2189\u001b[0m     \u001b[39m# Exception is raised when a part of date is greater than 32 bit signed int\u001b[39;00m\n",
      "File \u001b[1;32mc:\\Users\\pc\\AppData\\Local\\Programs\\Python\\Python310\\lib\\site-packages\\pandas\\_libs\\tslib.pyx:428\u001b[0m, in \u001b[0;36mpandas._libs.tslib.array_to_datetime\u001b[1;34m()\u001b[0m\n",
      "File \u001b[1;32mc:\\Users\\pc\\AppData\\Local\\Programs\\Python\\Python310\\lib\\site-packages\\pandas\\_libs\\tslib.pyx:684\u001b[0m, in \u001b[0;36mpandas._libs.tslib.array_to_datetime\u001b[1;34m()\u001b[0m\n",
      "File \u001b[1;32mc:\\Users\\pc\\AppData\\Local\\Programs\\Python\\Python310\\lib\\site-packages\\pandas\\_libs\\tslib.pyx:830\u001b[0m, in \u001b[0;36mpandas._libs.tslib._array_to_datetime_object\u001b[1;34m()\u001b[0m\n",
      "File \u001b[1;32mc:\\Users\\pc\\AppData\\Local\\Programs\\Python\\Python310\\lib\\site-packages\\pandas\\_libs\\tslib.pyx:820\u001b[0m, in \u001b[0;36mpandas._libs.tslib._array_to_datetime_object\u001b[1;34m()\u001b[0m\n",
      "File \u001b[1;32mc:\\Users\\pc\\AppData\\Local\\Programs\\Python\\Python310\\lib\\site-packages\\pandas\\_libs\\tslibs\\parsing.pyx:321\u001b[0m, in \u001b[0;36mpandas._libs.tslibs.parsing.parse_datetime_string\u001b[1;34m()\u001b[0m\n",
      "File \u001b[1;32mc:\\Users\\pc\\AppData\\Local\\Programs\\Python\\Python310\\lib\\site-packages\\dateutil\\parser\\_parser.py:1368\u001b[0m, in \u001b[0;36mparse\u001b[1;34m(timestr, parserinfo, **kwargs)\u001b[0m\n\u001b[0;32m   1366\u001b[0m     \u001b[39mreturn\u001b[39;00m parser(parserinfo)\u001b[39m.\u001b[39mparse(timestr, \u001b[39m*\u001b[39m\u001b[39m*\u001b[39mkwargs)\n\u001b[0;32m   1367\u001b[0m \u001b[39melse\u001b[39;00m:\n\u001b[1;32m-> 1368\u001b[0m     \u001b[39mreturn\u001b[39;00m DEFAULTPARSER\u001b[39m.\u001b[39mparse(timestr, \u001b[39m*\u001b[39m\u001b[39m*\u001b[39mkwargs)\n",
      "File \u001b[1;32mc:\\Users\\pc\\AppData\\Local\\Programs\\Python\\Python310\\lib\\site-packages\\dateutil\\parser\\_parser.py:651\u001b[0m, in \u001b[0;36mparser.parse\u001b[1;34m(self, timestr, default, ignoretz, tzinfos, **kwargs)\u001b[0m\n\u001b[0;32m    649\u001b[0m     ret \u001b[39m=\u001b[39m \u001b[39mself\u001b[39m\u001b[39m.\u001b[39m_build_naive(res, default)\n\u001b[0;32m    650\u001b[0m \u001b[39mexcept\u001b[39;00m \u001b[39mValueError\u001b[39;00m \u001b[39mas\u001b[39;00m e:\n\u001b[1;32m--> 651\u001b[0m     six\u001b[39m.\u001b[39;49mraise_from(ParserError(\u001b[39mstr\u001b[39;49m(e) \u001b[39m+\u001b[39;49m \u001b[39m\"\u001b[39;49m\u001b[39m: \u001b[39;49m\u001b[39m%s\u001b[39;49;00m\u001b[39m\"\u001b[39;49m, timestr), e)\n\u001b[0;32m    653\u001b[0m \u001b[39mif\u001b[39;00m \u001b[39mnot\u001b[39;00m ignoretz:\n\u001b[0;32m    654\u001b[0m     ret \u001b[39m=\u001b[39m \u001b[39mself\u001b[39m\u001b[39m.\u001b[39m_build_tzaware(ret, res, tzinfos)\n",
      "File \u001b[1;32m<string>:3\u001b[0m, in \u001b[0;36mraise_from\u001b[1;34m(value, from_value)\u001b[0m\n",
      "\u001b[1;31mParserError\u001b[0m: hour must be in 0..23: 33:15.2 present at position 0"
     ]
    }
   ],
   "source": [
    "# pickup Time and Drop Time to datetime\n",
    "\n",
    "sp['Pickup Time']=pd.to_datetime(sp['Pickup Time'])"
   ]
  },
  {
   "cell_type": "code",
   "execution_count": null,
   "metadata": {},
   "outputs": [],
   "source": []
  },
  {
   "attachments": {},
   "cell_type": "markdown",
   "metadata": {},
   "source": [
    "# 18/1"
   ]
  },
  {
   "cell_type": "code",
   "execution_count": 92,
   "metadata": {},
   "outputs": [],
   "source": [
    "import pandas as pd\n",
    "datastaff=pd.read_excel('J:\\\\SATS\\\\CLEAN_SATS_RAM.xlsx')"
   ]
  },
  {
   "cell_type": "code",
   "execution_count": 93,
   "metadata": {},
   "outputs": [
    {
     "data": {
      "text/plain": [
       "Unnamed: 0              int64\n",
       "Flight Date    datetime64[ns]\n",
       "Orientation            object\n",
       "Flight                 object\n",
       "ST                      int64\n",
       "ET                    float64\n",
       "RLO                     int64\n",
       "RSM                     int64\n",
       "EO                      int64\n",
       "AA                      int64\n",
       "staff                   int64\n",
       "dtype: object"
      ]
     },
     "execution_count": 93,
     "metadata": {},
     "output_type": "execute_result"
    }
   ],
   "source": [
    "datastaff.dtypes"
   ]
  },
  {
   "cell_type": "code",
   "execution_count": 94,
   "metadata": {},
   "outputs": [],
   "source": [
    "# all data where Orientation is Arrival:\n",
    "\n",
    "datastaff=datastaff[datastaff['Orientation']=='Arrival']"
   ]
  },
  {
   "cell_type": "code",
   "execution_count": 95,
   "metadata": {},
   "outputs": [
    {
     "data": {
      "text/plain": [
       "(10113, 11)"
      ]
     },
     "execution_count": 95,
     "metadata": {},
     "output_type": "execute_result"
    }
   ],
   "source": [
    "datastaff.shape"
   ]
  },
  {
   "cell_type": "code",
   "execution_count": 96,
   "metadata": {},
   "outputs": [
    {
     "data": {
      "text/plain": [
       "2     SQ 208\n",
       "4     SQ 242\n",
       "11     SQ 11\n",
       "22     TR 25\n",
       "23    TR 509\n",
       "Name: Flight, dtype: object"
      ]
     },
     "execution_count": 96,
     "metadata": {},
     "output_type": "execute_result"
    }
   ],
   "source": [
    "datastaff.Flight.head()"
   ]
  },
  {
   "cell_type": "code",
   "execution_count": 97,
   "metadata": {},
   "outputs": [
    {
     "data": {
      "text/plain": [
       "2     SQ208\n",
       "4     SQ242\n",
       "11     SQ11\n",
       "22     TR25\n",
       "23    TR509\n",
       "Name: Flight, dtype: object"
      ]
     },
     "execution_count": 97,
     "metadata": {},
     "output_type": "execute_result"
    }
   ],
   "source": [
    "# Trim the spaces from Flight column\n",
    "datastaff['Flight']=datastaff['Flight'].str.strip()\n",
    "# dataStaff['Flight']=dataStaff['Flight'].str.strip()\n",
    "datastaff['Flight'] = datastaff['Flight'].str.replace(' ', '')\n",
    "datastaff['Flight'].head()\n"
   ]
  },
  {
   "cell_type": "code",
   "execution_count": 98,
   "metadata": {},
   "outputs": [],
   "source": [
    "# trim the spaces from datastaff['Flight]\n",
    "datastaff['Flight']=datastaff['Flight'].str.strip()"
   ]
  },
  {
   "cell_type": "code",
   "execution_count": 99,
   "metadata": {},
   "outputs": [
    {
     "data": {
      "text/plain": [
       "'TR25'"
      ]
     },
     "execution_count": 99,
     "metadata": {},
     "output_type": "execute_result"
    }
   ],
   "source": [
    "datastaff['Flight'].iloc[3]"
   ]
  },
  {
   "cell_type": "code",
   "execution_count": 100,
   "metadata": {},
   "outputs": [
    {
     "data": {
      "text/plain": [
       "2     SQ208\n",
       "4     SQ242\n",
       "11     SQ11\n",
       "22     TR25\n",
       "23    TR509\n",
       "Name: Flight, dtype: object"
      ]
     },
     "execution_count": 100,
     "metadata": {},
     "output_type": "execute_result"
    }
   ],
   "source": [
    "datastaff['Flight'].head()"
   ]
  },
  {
   "cell_type": "code",
   "execution_count": 101,
   "metadata": {},
   "outputs": [
    {
     "data": {
      "text/html": [
       "<div>\n",
       "<style scoped>\n",
       "    .dataframe tbody tr th:only-of-type {\n",
       "        vertical-align: middle;\n",
       "    }\n",
       "\n",
       "    .dataframe tbody tr th {\n",
       "        vertical-align: top;\n",
       "    }\n",
       "\n",
       "    .dataframe thead th {\n",
       "        text-align: right;\n",
       "    }\n",
       "</style>\n",
       "<table border=\"1\" class=\"dataframe\">\n",
       "  <thead>\n",
       "    <tr style=\"text-align: right;\">\n",
       "      <th></th>\n",
       "      <th>Unnamed: 0</th>\n",
       "      <th>Flight Date</th>\n",
       "      <th>Orientation</th>\n",
       "      <th>Flight</th>\n",
       "      <th>ST</th>\n",
       "      <th>ET</th>\n",
       "      <th>RLO</th>\n",
       "      <th>RSM</th>\n",
       "      <th>EO</th>\n",
       "      <th>AA</th>\n",
       "      <th>staff</th>\n",
       "    </tr>\n",
       "  </thead>\n",
       "  <tbody>\n",
       "  </tbody>\n",
       "</table>\n",
       "</div>"
      ],
      "text/plain": [
       "Empty DataFrame\n",
       "Columns: [Unnamed: 0, Flight Date, Orientation, Flight, ST, ET, RLO , RSM, EO, AA, staff]\n",
       "Index: []"
      ]
     },
     "execution_count": 101,
     "metadata": {},
     "output_type": "execute_result"
    }
   ],
   "source": [
    "# any datastaff with sapce in Flight column\n",
    "datastaff[datastaff['Flight'].str.contains(' ')]"
   ]
  },
  {
   "cell_type": "code",
   "execution_count": 35,
   "metadata": {},
   "outputs": [],
   "source": [
    "# Now for Bugagge data\n",
    "import pandas as pd\n",
    "dataBugagge=pd.read_excel('J:\\\\SATS\\\\Buggage.xlsx',sheet_name='in')"
   ]
  },
  {
   "cell_type": "code",
   "execution_count": 36,
   "metadata": {},
   "outputs": [],
   "source": [
    "dataBugagge['Flight No'] = dataBugagge['Flight No'].str.replace('\\ufeff','')"
   ]
  },
  {
   "cell_type": "code",
   "execution_count": 39,
   "metadata": {},
   "outputs": [
    {
     "data": {
      "text/plain": [
       "73818"
      ]
     },
     "execution_count": 39,
     "metadata": {},
     "output_type": "execute_result"
    }
   ],
   "source": [
    "dataBugagge['Flight No'].str.contains(' ').count()"
   ]
  },
  {
   "cell_type": "code",
   "execution_count": 41,
   "metadata": {},
   "outputs": [
    {
     "data": {
      "text/plain": [
       "0          SQ208\n",
       "1          SQ208\n",
       "2          SQ208\n",
       "3          SQ208\n",
       "4          SQ208\n",
       "          ...   \n",
       "73813      SQ157\n",
       "73814      SQ335\n",
       "73815      SQ335\n",
       "73816      SQ525\n",
       "73817    _x001A_\n",
       "Name: Flight No, Length: 73818, dtype: object"
      ]
     },
     "execution_count": 41,
     "metadata": {},
     "output_type": "execute_result"
    }
   ],
   "source": [
    "#  dataBugagge['Flight No'].\n",
    "dataBugagge['Flight No'].str.strip()"
   ]
  },
  {
   "cell_type": "code",
   "execution_count": 44,
   "metadata": {},
   "outputs": [
    {
     "data": {
      "text/plain": [
       "0"
      ]
     },
     "execution_count": 44,
     "metadata": {},
     "output_type": "execute_result"
    }
   ],
   "source": [
    "dataBugagge['Flight No'].isnull().sum()"
   ]
  },
  {
   "cell_type": "code",
   "execution_count": 47,
   "metadata": {},
   "outputs": [
    {
     "data": {
      "text/plain": [
       "Flight No            0\n",
       "Flight Date          1\n",
       "In-bound Time       73\n",
       "Trip Number          1\n",
       "ULD Number           1\n",
       "Pickup Time      46992\n",
       "Dropoff Time     46703\n",
       "dtype: int64"
      ]
     },
     "execution_count": 47,
     "metadata": {},
     "output_type": "execute_result"
    }
   ],
   "source": [
    "# dataBugagge overview:\n",
    "dataBugagge.shape\n",
    "dataBugagge.columns\n",
    "dataBugagge.head()\n",
    "dataBugagge.tail()\n",
    "dataBugagge.isnull().sum()\n",
    "\n"
   ]
  },
  {
   "cell_type": "code",
   "execution_count": 48,
   "metadata": {},
   "outputs": [
    {
     "data": {
      "text/plain": [
       "(73818, 7)"
      ]
     },
     "execution_count": 48,
     "metadata": {},
     "output_type": "execute_result"
    }
   ],
   "source": [
    "dataBugagge.shape"
   ]
  },
  {
   "cell_type": "code",
   "execution_count": 49,
   "metadata": {},
   "outputs": [],
   "source": [
    "# dataBugagge['DroppoffTime Final']=pd.to_datetime(dataBugagge[\n",
    "dataBugagge['DroppoffTime Final']=dataBugagge.groupby(['Flight No','Flight Date'])['Dropoff Time'].transform('last')"
   ]
  },
  {
   "cell_type": "code",
   "execution_count": 50,
   "metadata": {},
   "outputs": [
    {
     "data": {
      "text/plain": [
       "(73818, 8)"
      ]
     },
     "execution_count": 50,
     "metadata": {},
     "output_type": "execute_result"
    }
   ],
   "source": [
    "dataBugagge.shape"
   ]
  },
  {
   "cell_type": "code",
   "execution_count": 51,
   "metadata": {},
   "outputs": [
    {
     "data": {
      "text/plain": [
       "Flight No                 0\n",
       "Flight Date               1\n",
       "In-bound Time            73\n",
       "Trip Number               1\n",
       "ULD Number                1\n",
       "Pickup Time           46992\n",
       "Dropoff Time          46703\n",
       "DroppoffTime Final    35778\n",
       "dtype: int64"
      ]
     },
     "execution_count": 51,
     "metadata": {},
     "output_type": "execute_result"
    }
   ],
   "source": [
    "dataBugagge.isnull().sum()"
   ]
  },
  {
   "cell_type": "code",
   "execution_count": 52,
   "metadata": {},
   "outputs": [],
   "source": [
    "dataBugagge.drop_duplicates(subset=['Flight No','Flight Date'],keep='first',inplace=True)"
   ]
  },
  {
   "cell_type": "code",
   "execution_count": 53,
   "metadata": {},
   "outputs": [
    {
     "data": {
      "text/plain": [
       "Flight No                0\n",
       "Flight Date              1\n",
       "In-bound Time           11\n",
       "Trip Number              1\n",
       "ULD Number               1\n",
       "Pickup Time           4761\n",
       "Dropoff Time          4421\n",
       "DroppoffTime Final    4068\n",
       "dtype: int64"
      ]
     },
     "execution_count": 53,
     "metadata": {},
     "output_type": "execute_result"
    }
   ],
   "source": [
    "dataBugagge.isnull().sum()"
   ]
  },
  {
   "cell_type": "code",
   "execution_count": 54,
   "metadata": {},
   "outputs": [
    {
     "data": {
      "text/plain": [
       "(8008, 8)"
      ]
     },
     "execution_count": 54,
     "metadata": {},
     "output_type": "execute_result"
    }
   ],
   "source": [
    "dataBugagge.shape"
   ]
  },
  {
   "cell_type": "code",
   "execution_count": 102,
   "metadata": {},
   "outputs": [
    {
     "data": {
      "text/plain": [
       "(10113, 11)"
      ]
     },
     "execution_count": 102,
     "metadata": {},
     "output_type": "execute_result"
    }
   ],
   "source": [
    "datastaff.shape"
   ]
  },
  {
   "attachments": {},
   "cell_type": "markdown",
   "metadata": {},
   "source": [
    "datastaff.columns"
   ]
  },
  {
   "cell_type": "code",
   "execution_count": 103,
   "metadata": {},
   "outputs": [
    {
     "data": {
      "text/plain": [
       "Index(['Unnamed: 0', 'Flight Date', 'Orientation', 'Flight', 'ST', 'ET',\n",
       "       'RLO ', 'RSM', 'EO', 'AA', 'staff'],\n",
       "      dtype='object')"
      ]
     },
     "execution_count": 103,
     "metadata": {},
     "output_type": "execute_result"
    }
   ],
   "source": [
    "datastaff.columns"
   ]
  },
  {
   "cell_type": "code",
   "execution_count": 58,
   "metadata": {},
   "outputs": [
    {
     "data": {
      "text/plain": [
       "Index(['Flight No', 'Flight Date', 'In-bound Time', 'Trip Number',\n",
       "       'ULD Number', 'Pickup Time', 'Dropoff Time', 'DroppoffTime Final'],\n",
       "      dtype='object')"
      ]
     },
     "execution_count": 58,
     "metadata": {},
     "output_type": "execute_result"
    }
   ],
   "source": [
    "dataBugagge.columns"
   ]
  },
  {
   "cell_type": "code",
   "execution_count": 59,
   "metadata": {},
   "outputs": [
    {
     "data": {
      "text/plain": [
       "0    2022-09-01 00:21:00\n",
       "12   2022-09-01 00:38:00\n",
       "25   2022-09-01 00:40:00\n",
       "29   2022-09-01 03:55:00\n",
       "40   2022-09-01 04:04:00\n",
       "Name: In-bound Time, dtype: datetime64[ns]"
      ]
     },
     "execution_count": 59,
     "metadata": {},
     "output_type": "execute_result"
    }
   ],
   "source": [
    "dataBugagge['In-bound Time'].head()"
   ]
  },
  {
   "cell_type": "code",
   "execution_count": 60,
   "metadata": {},
   "outputs": [
    {
     "data": {
      "text/plain": [
       "0    2022-09-01 00:48:19.473\n",
       "12                       NaT\n",
       "25   2022-09-01 00:55:44.900\n",
       "29   2022-09-01 04:38:25.783\n",
       "40                       NaT\n",
       "Name: DroppoffTime Final, dtype: datetime64[ns]"
      ]
     },
     "execution_count": 60,
     "metadata": {},
     "output_type": "execute_result"
    }
   ],
   "source": [
    "dataBugagge['DroppoffTime Final'].head()"
   ]
  },
  {
   "cell_type": "code",
   "execution_count": 62,
   "metadata": {},
   "outputs": [],
   "source": [
    "# convert DroppoffTime Final to Time only without having date\n",
    "dataBugagge['DroppoffTimeOnly']=dataBugagge['DroppoffTime Final'].dt.time\n"
   ]
  },
  {
   "cell_type": "code",
   "execution_count": 88,
   "metadata": {},
   "outputs": [],
   "source": [
    "dataBugagge['Total Time']=dataBugagge['DroppoffTime Final']-dataBugagge['In-bound Time']"
   ]
  },
  {
   "cell_type": "code",
   "execution_count": 89,
   "metadata": {},
   "outputs": [
    {
     "data": {
      "text/plain": [
       "0    0 days 00:27:19.473000\n",
       "12                      NaT\n",
       "25   0 days 00:15:44.900000\n",
       "29   0 days 00:43:25.783000\n",
       "40                      NaT\n",
       "Name: Total Time, dtype: timedelta64[ns]"
      ]
     },
     "execution_count": 89,
     "metadata": {},
     "output_type": "execute_result"
    }
   ],
   "source": [
    "dataBugagge['Total Time'].head()"
   ]
  },
  {
   "cell_type": "code",
   "execution_count": 66,
   "metadata": {},
   "outputs": [
    {
     "data": {
      "text/plain": [
       "Flight Date\n",
       "2022-09-01     80\n",
       "2022-09-02     84\n",
       "2022-09-03     75\n",
       "2022-09-04     85\n",
       "2022-09-05     86\n",
       "             ... \n",
       "2022-11-26    101\n",
       "2022-11-27    101\n",
       "2022-11-28    106\n",
       "2022-11-29    112\n",
       "2022-11-30    108\n",
       "Name: Flight No, Length: 91, dtype: int64"
      ]
     },
     "execution_count": 66,
     "metadata": {},
     "output_type": "execute_result"
    }
   ],
   "source": [
    "# Total number of flights each day in dataBugagge\n",
    "dataBugagge.groupby(['Flight Date'])['Flight No'].count()"
   ]
  },
  {
   "cell_type": "code",
   "execution_count": 90,
   "metadata": {},
   "outputs": [
    {
     "data": {
      "text/plain": [
       "Index(['Unnamed: 0', 'Flight Date', 'Orientation', 'Flight_x', 'ST', 'ET',\n",
       "       'RLO ', 'RSM', 'EO', 'AA', 'staff', 'diff', 'Total', 'Flight_y'],\n",
       "      dtype='object')"
      ]
     },
     "execution_count": 90,
     "metadata": {},
     "output_type": "execute_result"
    }
   ],
   "source": [
    "datastaff.columns"
   ]
  },
  {
   "cell_type": "code",
   "execution_count": 104,
   "metadata": {},
   "outputs": [
    {
     "data": {
      "text/plain": [
       "Flight Date\n",
       "2022-09-01    106\n",
       "2022-09-02    109\n",
       "2022-09-03    115\n",
       "2022-09-04    115\n",
       "2022-09-05    103\n",
       "             ... \n",
       "2022-11-26    121\n",
       "2022-11-27    122\n",
       "2022-11-28    118\n",
       "2022-11-29    113\n",
       "2022-11-30    117\n",
       "Name: Flight, Length: 91, dtype: int64"
      ]
     },
     "execution_count": 104,
     "metadata": {},
     "output_type": "execute_result"
    }
   ],
   "source": [
    "# Total number of flights each day in datastaff\n",
    "datastaff.groupby(['Flight Date'])['Flight'].count()"
   ]
  },
  {
   "cell_type": "code",
   "execution_count": 106,
   "metadata": {},
   "outputs": [],
   "source": [
    "datastaff['Total Flights']=datastaff.groupby(['Flight Date'])['Flight'].transform('count')"
   ]
  },
  {
   "cell_type": "code",
   "execution_count": 116,
   "metadata": {},
   "outputs": [
    {
     "data": {
      "text/plain": [
       "Unnamed: 0                int64\n",
       "Flight Date      datetime64[ns]\n",
       "Orientation              object\n",
       "Flight                   object\n",
       "ST                        int64\n",
       "ET                      float64\n",
       "RLO                       int64\n",
       "RSM                       int64\n",
       "EO                        int64\n",
       "AA                        int64\n",
       "staff                     int64\n",
       "Total Flights             int64\n",
       "dtype: object"
      ]
     },
     "execution_count": 116,
     "metadata": {},
     "output_type": "execute_result"
    }
   ],
   "source": [
    "datastaff.dtypes"
   ]
  },
  {
   "cell_type": "code",
   "execution_count": 111,
   "metadata": {},
   "outputs": [
    {
     "data": {
      "text/html": [
       "<div>\n",
       "<style scoped>\n",
       "    .dataframe tbody tr th:only-of-type {\n",
       "        vertical-align: middle;\n",
       "    }\n",
       "\n",
       "    .dataframe tbody tr th {\n",
       "        vertical-align: top;\n",
       "    }\n",
       "\n",
       "    .dataframe thead th {\n",
       "        text-align: right;\n",
       "    }\n",
       "</style>\n",
       "<table border=\"1\" class=\"dataframe\">\n",
       "  <thead>\n",
       "    <tr style=\"text-align: right;\">\n",
       "      <th></th>\n",
       "      <th>Unnamed: 0</th>\n",
       "      <th>Flight Date</th>\n",
       "      <th>Orientation</th>\n",
       "      <th>Flight</th>\n",
       "      <th>ST</th>\n",
       "      <th>ET</th>\n",
       "      <th>RLO</th>\n",
       "      <th>RSM</th>\n",
       "      <th>EO</th>\n",
       "      <th>AA</th>\n",
       "      <th>staff</th>\n",
       "      <th>Total Flights</th>\n",
       "    </tr>\n",
       "  </thead>\n",
       "  <tbody>\n",
       "    <tr>\n",
       "      <th>2</th>\n",
       "      <td>2</td>\n",
       "      <td>2022-09-01</td>\n",
       "      <td>Arrival</td>\n",
       "      <td>SQ208</td>\n",
       "      <td>15</td>\n",
       "      <td>21.0</td>\n",
       "      <td>1</td>\n",
       "      <td>4</td>\n",
       "      <td>1</td>\n",
       "      <td>2</td>\n",
       "      <td>8</td>\n",
       "      <td>106</td>\n",
       "    </tr>\n",
       "    <tr>\n",
       "      <th>4</th>\n",
       "      <td>4</td>\n",
       "      <td>2022-09-01</td>\n",
       "      <td>Arrival</td>\n",
       "      <td>SQ242</td>\n",
       "      <td>20</td>\n",
       "      <td>40.0</td>\n",
       "      <td>1</td>\n",
       "      <td>3</td>\n",
       "      <td>1</td>\n",
       "      <td>1</td>\n",
       "      <td>6</td>\n",
       "      <td>106</td>\n",
       "    </tr>\n",
       "    <tr>\n",
       "      <th>11</th>\n",
       "      <td>11</td>\n",
       "      <td>2022-09-01</td>\n",
       "      <td>Arrival</td>\n",
       "      <td>SQ11</td>\n",
       "      <td>115</td>\n",
       "      <td>38.0</td>\n",
       "      <td>1</td>\n",
       "      <td>3</td>\n",
       "      <td>1</td>\n",
       "      <td>2</td>\n",
       "      <td>7</td>\n",
       "      <td>106</td>\n",
       "    </tr>\n",
       "    <tr>\n",
       "      <th>22</th>\n",
       "      <td>22</td>\n",
       "      <td>2022-09-01</td>\n",
       "      <td>Arrival</td>\n",
       "      <td>TR25</td>\n",
       "      <td>355</td>\n",
       "      <td>355.0</td>\n",
       "      <td>1</td>\n",
       "      <td>3</td>\n",
       "      <td>1</td>\n",
       "      <td>1</td>\n",
       "      <td>6</td>\n",
       "      <td>106</td>\n",
       "    </tr>\n",
       "    <tr>\n",
       "      <th>23</th>\n",
       "      <td>23</td>\n",
       "      <td>2022-09-01</td>\n",
       "      <td>Arrival</td>\n",
       "      <td>TR509</td>\n",
       "      <td>405</td>\n",
       "      <td>510.0</td>\n",
       "      <td>1</td>\n",
       "      <td>3</td>\n",
       "      <td>1</td>\n",
       "      <td>2</td>\n",
       "      <td>7</td>\n",
       "      <td>106</td>\n",
       "    </tr>\n",
       "  </tbody>\n",
       "</table>\n",
       "</div>"
      ],
      "text/plain": [
       "    Unnamed: 0 Flight Date Orientation Flight   ST     ET  RLO   RSM  EO  AA  \\\n",
       "2            2  2022-09-01     Arrival  SQ208   15   21.0     1    4   1   2   \n",
       "4            4  2022-09-01     Arrival  SQ242   20   40.0     1    3   1   1   \n",
       "11          11  2022-09-01     Arrival   SQ11  115   38.0     1    3   1   2   \n",
       "22          22  2022-09-01     Arrival   TR25  355  355.0     1    3   1   1   \n",
       "23          23  2022-09-01     Arrival  TR509  405  510.0     1    3   1   2   \n",
       "\n",
       "    staff  Total Flights  \n",
       "2       8            106  \n",
       "4       6            106  \n",
       "11      7            106  \n",
       "22      6            106  \n",
       "23      7            106  "
      ]
     },
     "execution_count": 111,
     "metadata": {},
     "output_type": "execute_result"
    }
   ],
   "source": [
    "datastaff.head()"
   ]
  },
  {
   "cell_type": "code",
   "execution_count": 114,
   "metadata": {},
   "outputs": [
    {
     "data": {
      "text/html": [
       "<div>\n",
       "<style scoped>\n",
       "    .dataframe tbody tr th:only-of-type {\n",
       "        vertical-align: middle;\n",
       "    }\n",
       "\n",
       "    .dataframe tbody tr th {\n",
       "        vertical-align: top;\n",
       "    }\n",
       "\n",
       "    .dataframe thead th {\n",
       "        text-align: right;\n",
       "    }\n",
       "</style>\n",
       "<table border=\"1\" class=\"dataframe\">\n",
       "  <thead>\n",
       "    <tr style=\"text-align: right;\">\n",
       "      <th></th>\n",
       "      <th>Flight No</th>\n",
       "      <th>Flight Date</th>\n",
       "      <th>In-bound Time</th>\n",
       "      <th>Trip Number</th>\n",
       "      <th>ULD Number</th>\n",
       "      <th>Pickup Time</th>\n",
       "      <th>Dropoff Time</th>\n",
       "      <th>DroppoffTime Final</th>\n",
       "      <th>DroppoffTimeOnly</th>\n",
       "      <th>Total Time</th>\n",
       "    </tr>\n",
       "  </thead>\n",
       "  <tbody>\n",
       "    <tr>\n",
       "      <th>0</th>\n",
       "      <td>SQ208</td>\n",
       "      <td>2022-09-01</td>\n",
       "      <td>2022-09-01 00:21:00</td>\n",
       "      <td>1.0</td>\n",
       "      <td>AKE89138SQ</td>\n",
       "      <td>2022-09-01 00:33:15.220</td>\n",
       "      <td>2022-09-01 00:37:16.930</td>\n",
       "      <td>2022-09-01 00:48:19.473</td>\n",
       "      <td>00:48:19.473000</td>\n",
       "      <td>0 days 00:27:19.473000</td>\n",
       "    </tr>\n",
       "    <tr>\n",
       "      <th>12</th>\n",
       "      <td>SQ11</td>\n",
       "      <td>2022-09-01</td>\n",
       "      <td>2022-09-01 00:38:00</td>\n",
       "      <td>1.0</td>\n",
       "      <td>AKE70581SQ</td>\n",
       "      <td>NaT</td>\n",
       "      <td>NaT</td>\n",
       "      <td>NaT</td>\n",
       "      <td>NaT</td>\n",
       "      <td>NaT</td>\n",
       "    </tr>\n",
       "    <tr>\n",
       "      <th>25</th>\n",
       "      <td>SQ242</td>\n",
       "      <td>2022-09-01</td>\n",
       "      <td>2022-09-01 00:40:00</td>\n",
       "      <td>1.0</td>\n",
       "      <td>AKE80436SQ</td>\n",
       "      <td>2022-09-01 00:54:23.003</td>\n",
       "      <td>2022-09-01 00:55:44.893</td>\n",
       "      <td>2022-09-01 00:55:44.900</td>\n",
       "      <td>00:55:44.900000</td>\n",
       "      <td>0 days 00:15:44.900000</td>\n",
       "    </tr>\n",
       "    <tr>\n",
       "      <th>29</th>\n",
       "      <td>TR25</td>\n",
       "      <td>2022-09-01</td>\n",
       "      <td>2022-09-01 03:55:00</td>\n",
       "      <td>1.0</td>\n",
       "      <td>AKE84300SQ</td>\n",
       "      <td>2022-09-01 04:17:01.517</td>\n",
       "      <td>2022-09-01 04:22:18.260</td>\n",
       "      <td>2022-09-01 04:38:25.783</td>\n",
       "      <td>04:38:25.783000</td>\n",
       "      <td>0 days 00:43:25.783000</td>\n",
       "    </tr>\n",
       "    <tr>\n",
       "      <th>40</th>\n",
       "      <td>TR541</td>\n",
       "      <td>2022-09-01</td>\n",
       "      <td>2022-09-01 04:04:00</td>\n",
       "      <td>1.0</td>\n",
       "      <td>BT804</td>\n",
       "      <td>NaT</td>\n",
       "      <td>NaT</td>\n",
       "      <td>NaT</td>\n",
       "      <td>NaT</td>\n",
       "      <td>NaT</td>\n",
       "    </tr>\n",
       "  </tbody>\n",
       "</table>\n",
       "</div>"
      ],
      "text/plain": [
       "   Flight No Flight Date       In-bound Time  Trip Number  ULD Number  \\\n",
       "0      SQ208  2022-09-01 2022-09-01 00:21:00          1.0  AKE89138SQ   \n",
       "12      SQ11  2022-09-01 2022-09-01 00:38:00          1.0  AKE70581SQ   \n",
       "25     SQ242  2022-09-01 2022-09-01 00:40:00          1.0  AKE80436SQ   \n",
       "29      TR25  2022-09-01 2022-09-01 03:55:00          1.0  AKE84300SQ   \n",
       "40     TR541  2022-09-01 2022-09-01 04:04:00          1.0       BT804   \n",
       "\n",
       "               Pickup Time            Dropoff Time      DroppoffTime Final  \\\n",
       "0  2022-09-01 00:33:15.220 2022-09-01 00:37:16.930 2022-09-01 00:48:19.473   \n",
       "12                     NaT                     NaT                     NaT   \n",
       "25 2022-09-01 00:54:23.003 2022-09-01 00:55:44.893 2022-09-01 00:55:44.900   \n",
       "29 2022-09-01 04:17:01.517 2022-09-01 04:22:18.260 2022-09-01 04:38:25.783   \n",
       "40                     NaT                     NaT                     NaT   \n",
       "\n",
       "   DroppoffTimeOnly             Total Time  \n",
       "0   00:48:19.473000 0 days 00:27:19.473000  \n",
       "12              NaT                    NaT  \n",
       "25  00:55:44.900000 0 days 00:15:44.900000  \n",
       "29  04:38:25.783000 0 days 00:43:25.783000  \n",
       "40              NaT                    NaT  "
      ]
     },
     "execution_count": 114,
     "metadata": {},
     "output_type": "execute_result"
    }
   ],
   "source": [
    "datastaff.shape\n",
    "dataBugagge.head()"
   ]
  },
  {
   "cell_type": "code",
   "execution_count": 117,
   "metadata": {},
   "outputs": [],
   "source": [
    "# merge datastaff and dataBugagge on Flight Date and Flight No and Inbound-Time\n",
    "# rename Flight No to Flight and  ET to Inbound-Time\n",
    "datastaff.rename(columns={'Flight':'Flight No','ET':'Inbound-Time'},inplace=True)\n",
    "# dataBugaggewithStaff=pd.merge(datastaff,dataBugagge,on=['Flight Date','Flight No','Inbound-Time'])"
   ]
  },
  {
   "cell_type": "code",
   "execution_count": 119,
   "metadata": {},
   "outputs": [
    {
     "data": {
      "text/plain": [
       "0       2022-09-01 00:21:00\n",
       "12      2022-09-01 00:38:00\n",
       "25      2022-09-01 00:40:00\n",
       "29      2022-09-01 03:55:00\n",
       "40      2022-09-01 04:04:00\n",
       "                ...        \n",
       "73763                   NaT\n",
       "73764                   NaT\n",
       "73767                   NaT\n",
       "73768                   NaT\n",
       "73817                   NaT\n",
       "Name: In-bound Time, Length: 8008, dtype: datetime64[ns]"
      ]
     },
     "execution_count": 119,
     "metadata": {},
     "output_type": "execute_result"
    }
   ],
   "source": [
    "dataBugagge['In-bound Time']"
   ]
  },
  {
   "cell_type": "code",
   "execution_count": 122,
   "metadata": {},
   "outputs": [],
   "source": [
    "datastaffBugagge=dataBugagge.merge(datastaff,on=['Flight Date','Flight No'],how='left')"
   ]
  },
  {
   "cell_type": "code",
   "execution_count": 123,
   "metadata": {},
   "outputs": [
    {
     "data": {
      "text/html": [
       "<div>\n",
       "<style scoped>\n",
       "    .dataframe tbody tr th:only-of-type {\n",
       "        vertical-align: middle;\n",
       "    }\n",
       "\n",
       "    .dataframe tbody tr th {\n",
       "        vertical-align: top;\n",
       "    }\n",
       "\n",
       "    .dataframe thead th {\n",
       "        text-align: right;\n",
       "    }\n",
       "</style>\n",
       "<table border=\"1\" class=\"dataframe\">\n",
       "  <thead>\n",
       "    <tr style=\"text-align: right;\">\n",
       "      <th></th>\n",
       "      <th>Flight No</th>\n",
       "      <th>Flight Date</th>\n",
       "      <th>In-bound Time</th>\n",
       "      <th>Trip Number</th>\n",
       "      <th>ULD Number</th>\n",
       "      <th>Pickup Time</th>\n",
       "      <th>Dropoff Time</th>\n",
       "      <th>DroppoffTime Final</th>\n",
       "      <th>DroppoffTimeOnly</th>\n",
       "      <th>Total Time</th>\n",
       "      <th>Unnamed: 0</th>\n",
       "      <th>Orientation</th>\n",
       "      <th>ST</th>\n",
       "      <th>Inbound-Time</th>\n",
       "      <th>RLO</th>\n",
       "      <th>RSM</th>\n",
       "      <th>EO</th>\n",
       "      <th>AA</th>\n",
       "      <th>staff</th>\n",
       "      <th>Total Flights</th>\n",
       "    </tr>\n",
       "  </thead>\n",
       "  <tbody>\n",
       "    <tr>\n",
       "      <th>0</th>\n",
       "      <td>SQ208</td>\n",
       "      <td>2022-09-01</td>\n",
       "      <td>2022-09-01 00:21:00</td>\n",
       "      <td>1.0</td>\n",
       "      <td>AKE89138SQ</td>\n",
       "      <td>2022-09-01 00:33:15.220</td>\n",
       "      <td>2022-09-01 00:37:16.930</td>\n",
       "      <td>2022-09-01 00:48:19.473</td>\n",
       "      <td>00:48:19.473000</td>\n",
       "      <td>0 days 00:27:19.473000</td>\n",
       "      <td>2.0</td>\n",
       "      <td>Arrival</td>\n",
       "      <td>15.0</td>\n",
       "      <td>21.0</td>\n",
       "      <td>1.0</td>\n",
       "      <td>4.0</td>\n",
       "      <td>1.0</td>\n",
       "      <td>2.0</td>\n",
       "      <td>8.0</td>\n",
       "      <td>106.0</td>\n",
       "    </tr>\n",
       "    <tr>\n",
       "      <th>1</th>\n",
       "      <td>SQ11</td>\n",
       "      <td>2022-09-01</td>\n",
       "      <td>2022-09-01 00:38:00</td>\n",
       "      <td>1.0</td>\n",
       "      <td>AKE70581SQ</td>\n",
       "      <td>NaT</td>\n",
       "      <td>NaT</td>\n",
       "      <td>NaT</td>\n",
       "      <td>NaT</td>\n",
       "      <td>NaT</td>\n",
       "      <td>11.0</td>\n",
       "      <td>Arrival</td>\n",
       "      <td>115.0</td>\n",
       "      <td>38.0</td>\n",
       "      <td>1.0</td>\n",
       "      <td>3.0</td>\n",
       "      <td>1.0</td>\n",
       "      <td>2.0</td>\n",
       "      <td>7.0</td>\n",
       "      <td>106.0</td>\n",
       "    </tr>\n",
       "    <tr>\n",
       "      <th>2</th>\n",
       "      <td>SQ242</td>\n",
       "      <td>2022-09-01</td>\n",
       "      <td>2022-09-01 00:40:00</td>\n",
       "      <td>1.0</td>\n",
       "      <td>AKE80436SQ</td>\n",
       "      <td>2022-09-01 00:54:23.003</td>\n",
       "      <td>2022-09-01 00:55:44.893</td>\n",
       "      <td>2022-09-01 00:55:44.900</td>\n",
       "      <td>00:55:44.900000</td>\n",
       "      <td>0 days 00:15:44.900000</td>\n",
       "      <td>4.0</td>\n",
       "      <td>Arrival</td>\n",
       "      <td>20.0</td>\n",
       "      <td>40.0</td>\n",
       "      <td>1.0</td>\n",
       "      <td>3.0</td>\n",
       "      <td>1.0</td>\n",
       "      <td>1.0</td>\n",
       "      <td>6.0</td>\n",
       "      <td>106.0</td>\n",
       "    </tr>\n",
       "    <tr>\n",
       "      <th>3</th>\n",
       "      <td>TR25</td>\n",
       "      <td>2022-09-01</td>\n",
       "      <td>2022-09-01 03:55:00</td>\n",
       "      <td>1.0</td>\n",
       "      <td>AKE84300SQ</td>\n",
       "      <td>2022-09-01 04:17:01.517</td>\n",
       "      <td>2022-09-01 04:22:18.260</td>\n",
       "      <td>2022-09-01 04:38:25.783</td>\n",
       "      <td>04:38:25.783000</td>\n",
       "      <td>0 days 00:43:25.783000</td>\n",
       "      <td>22.0</td>\n",
       "      <td>Arrival</td>\n",
       "      <td>355.0</td>\n",
       "      <td>355.0</td>\n",
       "      <td>1.0</td>\n",
       "      <td>3.0</td>\n",
       "      <td>1.0</td>\n",
       "      <td>1.0</td>\n",
       "      <td>6.0</td>\n",
       "      <td>106.0</td>\n",
       "    </tr>\n",
       "    <tr>\n",
       "      <th>4</th>\n",
       "      <td>TR541</td>\n",
       "      <td>2022-09-01</td>\n",
       "      <td>2022-09-01 04:04:00</td>\n",
       "      <td>1.0</td>\n",
       "      <td>BT804</td>\n",
       "      <td>NaT</td>\n",
       "      <td>NaT</td>\n",
       "      <td>NaT</td>\n",
       "      <td>NaT</td>\n",
       "      <td>NaT</td>\n",
       "      <td>NaN</td>\n",
       "      <td>NaN</td>\n",
       "      <td>NaN</td>\n",
       "      <td>NaN</td>\n",
       "      <td>NaN</td>\n",
       "      <td>NaN</td>\n",
       "      <td>NaN</td>\n",
       "      <td>NaN</td>\n",
       "      <td>NaN</td>\n",
       "      <td>NaN</td>\n",
       "    </tr>\n",
       "  </tbody>\n",
       "</table>\n",
       "</div>"
      ],
      "text/plain": [
       "  Flight No Flight Date       In-bound Time  Trip Number  ULD Number  \\\n",
       "0     SQ208  2022-09-01 2022-09-01 00:21:00          1.0  AKE89138SQ   \n",
       "1      SQ11  2022-09-01 2022-09-01 00:38:00          1.0  AKE70581SQ   \n",
       "2     SQ242  2022-09-01 2022-09-01 00:40:00          1.0  AKE80436SQ   \n",
       "3      TR25  2022-09-01 2022-09-01 03:55:00          1.0  AKE84300SQ   \n",
       "4     TR541  2022-09-01 2022-09-01 04:04:00          1.0       BT804   \n",
       "\n",
       "              Pickup Time            Dropoff Time      DroppoffTime Final  \\\n",
       "0 2022-09-01 00:33:15.220 2022-09-01 00:37:16.930 2022-09-01 00:48:19.473   \n",
       "1                     NaT                     NaT                     NaT   \n",
       "2 2022-09-01 00:54:23.003 2022-09-01 00:55:44.893 2022-09-01 00:55:44.900   \n",
       "3 2022-09-01 04:17:01.517 2022-09-01 04:22:18.260 2022-09-01 04:38:25.783   \n",
       "4                     NaT                     NaT                     NaT   \n",
       "\n",
       "  DroppoffTimeOnly             Total Time  Unnamed: 0 Orientation     ST  \\\n",
       "0  00:48:19.473000 0 days 00:27:19.473000         2.0     Arrival   15.0   \n",
       "1              NaT                    NaT        11.0     Arrival  115.0   \n",
       "2  00:55:44.900000 0 days 00:15:44.900000         4.0     Arrival   20.0   \n",
       "3  04:38:25.783000 0 days 00:43:25.783000        22.0     Arrival  355.0   \n",
       "4              NaT                    NaT         NaN         NaN    NaN   \n",
       "\n",
       "   Inbound-Time  RLO   RSM   EO   AA  staff  Total Flights  \n",
       "0          21.0   1.0  4.0  1.0  2.0    8.0          106.0  \n",
       "1          38.0   1.0  3.0  1.0  2.0    7.0          106.0  \n",
       "2          40.0   1.0  3.0  1.0  1.0    6.0          106.0  \n",
       "3         355.0   1.0  3.0  1.0  1.0    6.0          106.0  \n",
       "4           NaN   NaN  NaN  NaN  NaN    NaN            NaN  "
      ]
     },
     "execution_count": 123,
     "metadata": {},
     "output_type": "execute_result"
    }
   ],
   "source": [
    "datastaffBugagge.head()"
   ]
  },
  {
   "cell_type": "code",
   "execution_count": 82,
   "metadata": {},
   "outputs": [
    {
     "ename": "KeyError",
     "evalue": "'Flight'",
     "output_type": "error",
     "traceback": [
      "\u001b[1;31m---------------------------------------------------------------------------\u001b[0m",
      "\u001b[1;31mKeyError\u001b[0m                                  Traceback (most recent call last)",
      "File \u001b[1;32mc:\\Users\\pc\\AppData\\Local\\Programs\\Python\\Python310\\lib\\site-packages\\pandas\\core\\indexes\\base.py:3800\u001b[0m, in \u001b[0;36mIndex.get_loc\u001b[1;34m(self, key, method, tolerance)\u001b[0m\n\u001b[0;32m   3799\u001b[0m \u001b[39mtry\u001b[39;00m:\n\u001b[1;32m-> 3800\u001b[0m     \u001b[39mreturn\u001b[39;00m \u001b[39mself\u001b[39;49m\u001b[39m.\u001b[39;49m_engine\u001b[39m.\u001b[39;49mget_loc(casted_key)\n\u001b[0;32m   3801\u001b[0m \u001b[39mexcept\u001b[39;00m \u001b[39mKeyError\u001b[39;00m \u001b[39mas\u001b[39;00m err:\n",
      "File \u001b[1;32mc:\\Users\\pc\\AppData\\Local\\Programs\\Python\\Python310\\lib\\site-packages\\pandas\\_libs\\index.pyx:138\u001b[0m, in \u001b[0;36mpandas._libs.index.IndexEngine.get_loc\u001b[1;34m()\u001b[0m\n",
      "File \u001b[1;32mc:\\Users\\pc\\AppData\\Local\\Programs\\Python\\Python310\\lib\\site-packages\\pandas\\_libs\\index.pyx:165\u001b[0m, in \u001b[0;36mpandas._libs.index.IndexEngine.get_loc\u001b[1;34m()\u001b[0m\n",
      "File \u001b[1;32mpandas\\_libs\\hashtable_class_helper.pxi:5745\u001b[0m, in \u001b[0;36mpandas._libs.hashtable.PyObjectHashTable.get_item\u001b[1;34m()\u001b[0m\n",
      "File \u001b[1;32mpandas\\_libs\\hashtable_class_helper.pxi:5753\u001b[0m, in \u001b[0;36mpandas._libs.hashtable.PyObjectHashTable.get_item\u001b[1;34m()\u001b[0m\n",
      "\u001b[1;31mKeyError\u001b[0m: 'Flight'",
      "\nThe above exception was the direct cause of the following exception:\n",
      "\u001b[1;31mKeyError\u001b[0m                                  Traceback (most recent call last)",
      "Cell \u001b[1;32mIn [82], line 5\u001b[0m\n\u001b[0;32m      1\u001b[0m \u001b[39m# find all the flights which are present in datastaff and not present in dataBugagge for each day and save in a data column\u001b[39;00m\n\u001b[0;32m      2\u001b[0m \u001b[39m# datastaff = datastaff.assign(Total = datastaff[~datastaff['Flight'].isin(dataBugagge['Flight No'])].groupby(['Flight Date'])['Flight'].count())\u001b[39;00m\n\u001b[1;32m----> 5\u001b[0m result\u001b[39m=\u001b[39mdatastaff[\u001b[39m~\u001b[39mdatastaff[\u001b[39m'\u001b[39m\u001b[39mFlight\u001b[39m\u001b[39m'\u001b[39m]\u001b[39m.\u001b[39misin(dataBugagge[\u001b[39m'\u001b[39m\u001b[39mFlight No\u001b[39m\u001b[39m'\u001b[39m])]\u001b[39m.\u001b[39mgroupby([\u001b[39m'\u001b[39m\u001b[39mFlight Date\u001b[39m\u001b[39m'\u001b[39m])[\u001b[39m'\u001b[39m\u001b[39mFlight\u001b[39m\u001b[39m'\u001b[39m]\u001b[39m.\u001b[39mtransform\u001b[39m.\u001b[39mcount()\n",
      "File \u001b[1;32mc:\\Users\\pc\\AppData\\Local\\Programs\\Python\\Python310\\lib\\site-packages\\pandas\\core\\frame.py:3805\u001b[0m, in \u001b[0;36mDataFrame.__getitem__\u001b[1;34m(self, key)\u001b[0m\n\u001b[0;32m   3803\u001b[0m \u001b[39mif\u001b[39;00m \u001b[39mself\u001b[39m\u001b[39m.\u001b[39mcolumns\u001b[39m.\u001b[39mnlevels \u001b[39m>\u001b[39m \u001b[39m1\u001b[39m:\n\u001b[0;32m   3804\u001b[0m     \u001b[39mreturn\u001b[39;00m \u001b[39mself\u001b[39m\u001b[39m.\u001b[39m_getitem_multilevel(key)\n\u001b[1;32m-> 3805\u001b[0m indexer \u001b[39m=\u001b[39m \u001b[39mself\u001b[39;49m\u001b[39m.\u001b[39;49mcolumns\u001b[39m.\u001b[39;49mget_loc(key)\n\u001b[0;32m   3806\u001b[0m \u001b[39mif\u001b[39;00m is_integer(indexer):\n\u001b[0;32m   3807\u001b[0m     indexer \u001b[39m=\u001b[39m [indexer]\n",
      "File \u001b[1;32mc:\\Users\\pc\\AppData\\Local\\Programs\\Python\\Python310\\lib\\site-packages\\pandas\\core\\indexes\\base.py:3802\u001b[0m, in \u001b[0;36mIndex.get_loc\u001b[1;34m(self, key, method, tolerance)\u001b[0m\n\u001b[0;32m   3800\u001b[0m     \u001b[39mreturn\u001b[39;00m \u001b[39mself\u001b[39m\u001b[39m.\u001b[39m_engine\u001b[39m.\u001b[39mget_loc(casted_key)\n\u001b[0;32m   3801\u001b[0m \u001b[39mexcept\u001b[39;00m \u001b[39mKeyError\u001b[39;00m \u001b[39mas\u001b[39;00m err:\n\u001b[1;32m-> 3802\u001b[0m     \u001b[39mraise\u001b[39;00m \u001b[39mKeyError\u001b[39;00m(key) \u001b[39mfrom\u001b[39;00m \u001b[39merr\u001b[39;00m\n\u001b[0;32m   3803\u001b[0m \u001b[39mexcept\u001b[39;00m \u001b[39mTypeError\u001b[39;00m:\n\u001b[0;32m   3804\u001b[0m     \u001b[39m# If we have a listlike key, _check_indexing_error will raise\u001b[39;00m\n\u001b[0;32m   3805\u001b[0m     \u001b[39m#  InvalidIndexError. Otherwise we fall through and re-raise\u001b[39;00m\n\u001b[0;32m   3806\u001b[0m     \u001b[39m#  the TypeError.\u001b[39;00m\n\u001b[0;32m   3807\u001b[0m     \u001b[39mself\u001b[39m\u001b[39m.\u001b[39m_check_indexing_error(key)\n",
      "\u001b[1;31mKeyError\u001b[0m: 'Flight'"
     ]
    }
   ],
   "source": [
    "# find all the flights which are present in datastaff and not present in dataBugagge for each day and save in a data column\n",
    "# datastaff = datastaff.assign(Total = datastaff[~datastaff['Flight'].isin(dataBugagge['Flight No'])].groupby(['Flight Date'])['Flight'].count())\n",
    "\n",
    "\n",
    "result=datastaff[~datastaff['Flight'].isin(dataBugagge['Flight No'])].groupby(['Flight Date'])['Flight'].transform.count()\n",
    "# datastaff.assign(Total = lambda x: datastaff[~datastaff['Flight'].isin(dataBugagge['Flight No'])].groupby(['Flight Date'])['Flight'].count())\n"
   ]
  },
  {
   "cell_type": "code",
   "execution_count": null,
   "metadata": {},
   "outputs": [],
   "source": []
  },
  {
   "cell_type": "code",
   "execution_count": 75,
   "metadata": {},
   "outputs": [
    {
     "data": {
      "text/html": [
       "<div>\n",
       "<style scoped>\n",
       "    .dataframe tbody tr th:only-of-type {\n",
       "        vertical-align: middle;\n",
       "    }\n",
       "\n",
       "    .dataframe tbody tr th {\n",
       "        vertical-align: top;\n",
       "    }\n",
       "\n",
       "    .dataframe thead th {\n",
       "        text-align: right;\n",
       "    }\n",
       "</style>\n",
       "<table border=\"1\" class=\"dataframe\">\n",
       "  <thead>\n",
       "    <tr style=\"text-align: right;\">\n",
       "      <th></th>\n",
       "      <th>Unnamed: 0</th>\n",
       "      <th>Flight Date</th>\n",
       "      <th>Orientation</th>\n",
       "      <th>Flight</th>\n",
       "      <th>ST</th>\n",
       "      <th>ET</th>\n",
       "      <th>RLO</th>\n",
       "      <th>RSM</th>\n",
       "      <th>EO</th>\n",
       "      <th>AA</th>\n",
       "      <th>staff</th>\n",
       "      <th>diff</th>\n",
       "      <th>Total</th>\n",
       "    </tr>\n",
       "  </thead>\n",
       "  <tbody>\n",
       "    <tr>\n",
       "      <th>2</th>\n",
       "      <td>2</td>\n",
       "      <td>2022-09-01</td>\n",
       "      <td>Arrival</td>\n",
       "      <td>SQ208</td>\n",
       "      <td>15</td>\n",
       "      <td>21.0</td>\n",
       "      <td>1</td>\n",
       "      <td>4</td>\n",
       "      <td>1</td>\n",
       "      <td>2</td>\n",
       "      <td>8</td>\n",
       "      <td>NaN</td>\n",
       "      <td>NaN</td>\n",
       "    </tr>\n",
       "    <tr>\n",
       "      <th>4</th>\n",
       "      <td>4</td>\n",
       "      <td>2022-09-01</td>\n",
       "      <td>Arrival</td>\n",
       "      <td>SQ242</td>\n",
       "      <td>20</td>\n",
       "      <td>40.0</td>\n",
       "      <td>1</td>\n",
       "      <td>3</td>\n",
       "      <td>1</td>\n",
       "      <td>1</td>\n",
       "      <td>6</td>\n",
       "      <td>NaN</td>\n",
       "      <td>NaN</td>\n",
       "    </tr>\n",
       "    <tr>\n",
       "      <th>11</th>\n",
       "      <td>11</td>\n",
       "      <td>2022-09-01</td>\n",
       "      <td>Arrival</td>\n",
       "      <td>SQ11</td>\n",
       "      <td>115</td>\n",
       "      <td>38.0</td>\n",
       "      <td>1</td>\n",
       "      <td>3</td>\n",
       "      <td>1</td>\n",
       "      <td>2</td>\n",
       "      <td>7</td>\n",
       "      <td>NaN</td>\n",
       "      <td>NaN</td>\n",
       "    </tr>\n",
       "    <tr>\n",
       "      <th>22</th>\n",
       "      <td>22</td>\n",
       "      <td>2022-09-01</td>\n",
       "      <td>Arrival</td>\n",
       "      <td>TR25</td>\n",
       "      <td>355</td>\n",
       "      <td>355.0</td>\n",
       "      <td>1</td>\n",
       "      <td>3</td>\n",
       "      <td>1</td>\n",
       "      <td>1</td>\n",
       "      <td>6</td>\n",
       "      <td>NaN</td>\n",
       "      <td>NaN</td>\n",
       "    </tr>\n",
       "    <tr>\n",
       "      <th>23</th>\n",
       "      <td>23</td>\n",
       "      <td>2022-09-01</td>\n",
       "      <td>Arrival</td>\n",
       "      <td>TR509</td>\n",
       "      <td>405</td>\n",
       "      <td>510.0</td>\n",
       "      <td>1</td>\n",
       "      <td>3</td>\n",
       "      <td>1</td>\n",
       "      <td>2</td>\n",
       "      <td>7</td>\n",
       "      <td>NaN</td>\n",
       "      <td>NaN</td>\n",
       "    </tr>\n",
       "  </tbody>\n",
       "</table>\n",
       "</div>"
      ],
      "text/plain": [
       "    Unnamed: 0 Flight Date Orientation Flight   ST     ET  RLO   RSM  EO  AA  \\\n",
       "2            2  2022-09-01     Arrival  SQ208   15   21.0     1    4   1   2   \n",
       "4            4  2022-09-01     Arrival  SQ242   20   40.0     1    3   1   1   \n",
       "11          11  2022-09-01     Arrival   SQ11  115   38.0     1    3   1   2   \n",
       "22          22  2022-09-01     Arrival   TR25  355  355.0     1    3   1   1   \n",
       "23          23  2022-09-01     Arrival  TR509  405  510.0     1    3   1   2   \n",
       "\n",
       "    staff  diff  Total  \n",
       "2       8   NaN    NaN  \n",
       "4       6   NaN    NaN  \n",
       "11      7   NaN    NaN  \n",
       "22      6   NaN    NaN  \n",
       "23      7   NaN    NaN  "
      ]
     },
     "execution_count": 75,
     "metadata": {},
     "output_type": "execute_result"
    }
   ],
   "source": [
    "# sum of all values in diff column\n",
    "\n",
    "datastaff.head()"
   ]
  },
  {
   "cell_type": "code",
   "execution_count": 78,
   "metadata": {},
   "outputs": [],
   "source": [
    "datastaff = datastaff.assign(Total = datastaff[~datastaff['Flight'].isin(dataBugagge['Flight No'])].groupby(['Flight Date'])['Flight'].count())"
   ]
  },
  {
   "cell_type": "code",
   "execution_count": 79,
   "metadata": {},
   "outputs": [
    {
     "data": {
      "text/html": [
       "<div>\n",
       "<style scoped>\n",
       "    .dataframe tbody tr th:only-of-type {\n",
       "        vertical-align: middle;\n",
       "    }\n",
       "\n",
       "    .dataframe tbody tr th {\n",
       "        vertical-align: top;\n",
       "    }\n",
       "\n",
       "    .dataframe thead th {\n",
       "        text-align: right;\n",
       "    }\n",
       "</style>\n",
       "<table border=\"1\" class=\"dataframe\">\n",
       "  <thead>\n",
       "    <tr style=\"text-align: right;\">\n",
       "      <th></th>\n",
       "      <th>Unnamed: 0</th>\n",
       "      <th>Flight Date</th>\n",
       "      <th>Orientation</th>\n",
       "      <th>Flight</th>\n",
       "      <th>ST</th>\n",
       "      <th>ET</th>\n",
       "      <th>RLO</th>\n",
       "      <th>RSM</th>\n",
       "      <th>EO</th>\n",
       "      <th>AA</th>\n",
       "      <th>staff</th>\n",
       "      <th>diff</th>\n",
       "      <th>Total</th>\n",
       "    </tr>\n",
       "  </thead>\n",
       "  <tbody>\n",
       "    <tr>\n",
       "      <th>2</th>\n",
       "      <td>2</td>\n",
       "      <td>2022-09-01</td>\n",
       "      <td>Arrival</td>\n",
       "      <td>SQ208</td>\n",
       "      <td>15</td>\n",
       "      <td>21.0</td>\n",
       "      <td>1</td>\n",
       "      <td>4</td>\n",
       "      <td>1</td>\n",
       "      <td>2</td>\n",
       "      <td>8</td>\n",
       "      <td>NaN</td>\n",
       "      <td>NaN</td>\n",
       "    </tr>\n",
       "    <tr>\n",
       "      <th>4</th>\n",
       "      <td>4</td>\n",
       "      <td>2022-09-01</td>\n",
       "      <td>Arrival</td>\n",
       "      <td>SQ242</td>\n",
       "      <td>20</td>\n",
       "      <td>40.0</td>\n",
       "      <td>1</td>\n",
       "      <td>3</td>\n",
       "      <td>1</td>\n",
       "      <td>1</td>\n",
       "      <td>6</td>\n",
       "      <td>NaN</td>\n",
       "      <td>NaN</td>\n",
       "    </tr>\n",
       "    <tr>\n",
       "      <th>11</th>\n",
       "      <td>11</td>\n",
       "      <td>2022-09-01</td>\n",
       "      <td>Arrival</td>\n",
       "      <td>SQ11</td>\n",
       "      <td>115</td>\n",
       "      <td>38.0</td>\n",
       "      <td>1</td>\n",
       "      <td>3</td>\n",
       "      <td>1</td>\n",
       "      <td>2</td>\n",
       "      <td>7</td>\n",
       "      <td>NaN</td>\n",
       "      <td>NaN</td>\n",
       "    </tr>\n",
       "    <tr>\n",
       "      <th>22</th>\n",
       "      <td>22</td>\n",
       "      <td>2022-09-01</td>\n",
       "      <td>Arrival</td>\n",
       "      <td>TR25</td>\n",
       "      <td>355</td>\n",
       "      <td>355.0</td>\n",
       "      <td>1</td>\n",
       "      <td>3</td>\n",
       "      <td>1</td>\n",
       "      <td>1</td>\n",
       "      <td>6</td>\n",
       "      <td>NaN</td>\n",
       "      <td>NaN</td>\n",
       "    </tr>\n",
       "    <tr>\n",
       "      <th>23</th>\n",
       "      <td>23</td>\n",
       "      <td>2022-09-01</td>\n",
       "      <td>Arrival</td>\n",
       "      <td>TR509</td>\n",
       "      <td>405</td>\n",
       "      <td>510.0</td>\n",
       "      <td>1</td>\n",
       "      <td>3</td>\n",
       "      <td>1</td>\n",
       "      <td>2</td>\n",
       "      <td>7</td>\n",
       "      <td>NaN</td>\n",
       "      <td>NaN</td>\n",
       "    </tr>\n",
       "  </tbody>\n",
       "</table>\n",
       "</div>"
      ],
      "text/plain": [
       "    Unnamed: 0 Flight Date Orientation Flight   ST     ET  RLO   RSM  EO  AA  \\\n",
       "2            2  2022-09-01     Arrival  SQ208   15   21.0     1    4   1   2   \n",
       "4            4  2022-09-01     Arrival  SQ242   20   40.0     1    3   1   1   \n",
       "11          11  2022-09-01     Arrival   SQ11  115   38.0     1    3   1   2   \n",
       "22          22  2022-09-01     Arrival   TR25  355  355.0     1    3   1   1   \n",
       "23          23  2022-09-01     Arrival  TR509  405  510.0     1    3   1   2   \n",
       "\n",
       "    staff  diff  Total  \n",
       "2       8   NaN    NaN  \n",
       "4       6   NaN    NaN  \n",
       "11      7   NaN    NaN  \n",
       "22      6   NaN    NaN  \n",
       "23      7   NaN    NaN  "
      ]
     },
     "execution_count": 79,
     "metadata": {},
     "output_type": "execute_result"
    }
   ],
   "source": [
    "datastaff.head()"
   ]
  },
  {
   "cell_type": "code",
   "execution_count": 80,
   "metadata": {},
   "outputs": [],
   "source": []
  },
  {
   "cell_type": "code",
   "execution_count": 91,
   "metadata": {},
   "outputs": [
    {
     "data": {
      "text/html": [
       "<div>\n",
       "<style scoped>\n",
       "    .dataframe tbody tr th:only-of-type {\n",
       "        vertical-align: middle;\n",
       "    }\n",
       "\n",
       "    .dataframe tbody tr th {\n",
       "        vertical-align: top;\n",
       "    }\n",
       "\n",
       "    .dataframe thead th {\n",
       "        text-align: right;\n",
       "    }\n",
       "</style>\n",
       "<table border=\"1\" class=\"dataframe\">\n",
       "  <thead>\n",
       "    <tr style=\"text-align: right;\">\n",
       "      <th></th>\n",
       "      <th>Unnamed: 0</th>\n",
       "      <th>Flight Date</th>\n",
       "      <th>Orientation</th>\n",
       "      <th>Flight_x</th>\n",
       "      <th>ST</th>\n",
       "      <th>ET</th>\n",
       "      <th>RLO</th>\n",
       "      <th>RSM</th>\n",
       "      <th>EO</th>\n",
       "      <th>AA</th>\n",
       "      <th>staff</th>\n",
       "      <th>diff</th>\n",
       "      <th>Total</th>\n",
       "      <th>Flight_y</th>\n",
       "    </tr>\n",
       "  </thead>\n",
       "  <tbody>\n",
       "    <tr>\n",
       "      <th>0</th>\n",
       "      <td>2</td>\n",
       "      <td>2022-09-01</td>\n",
       "      <td>Arrival</td>\n",
       "      <td>SQ208</td>\n",
       "      <td>15</td>\n",
       "      <td>21.0</td>\n",
       "      <td>1</td>\n",
       "      <td>4</td>\n",
       "      <td>1</td>\n",
       "      <td>2</td>\n",
       "      <td>8</td>\n",
       "      <td>NaN</td>\n",
       "      <td>NaN</td>\n",
       "      <td>11</td>\n",
       "    </tr>\n",
       "    <tr>\n",
       "      <th>1</th>\n",
       "      <td>4</td>\n",
       "      <td>2022-09-01</td>\n",
       "      <td>Arrival</td>\n",
       "      <td>SQ242</td>\n",
       "      <td>20</td>\n",
       "      <td>40.0</td>\n",
       "      <td>1</td>\n",
       "      <td>3</td>\n",
       "      <td>1</td>\n",
       "      <td>1</td>\n",
       "      <td>6</td>\n",
       "      <td>NaN</td>\n",
       "      <td>NaN</td>\n",
       "      <td>11</td>\n",
       "    </tr>\n",
       "    <tr>\n",
       "      <th>2</th>\n",
       "      <td>11</td>\n",
       "      <td>2022-09-01</td>\n",
       "      <td>Arrival</td>\n",
       "      <td>SQ11</td>\n",
       "      <td>115</td>\n",
       "      <td>38.0</td>\n",
       "      <td>1</td>\n",
       "      <td>3</td>\n",
       "      <td>1</td>\n",
       "      <td>2</td>\n",
       "      <td>7</td>\n",
       "      <td>NaN</td>\n",
       "      <td>NaN</td>\n",
       "      <td>11</td>\n",
       "    </tr>\n",
       "    <tr>\n",
       "      <th>3</th>\n",
       "      <td>22</td>\n",
       "      <td>2022-09-01</td>\n",
       "      <td>Arrival</td>\n",
       "      <td>TR25</td>\n",
       "      <td>355</td>\n",
       "      <td>355.0</td>\n",
       "      <td>1</td>\n",
       "      <td>3</td>\n",
       "      <td>1</td>\n",
       "      <td>1</td>\n",
       "      <td>6</td>\n",
       "      <td>NaN</td>\n",
       "      <td>NaN</td>\n",
       "      <td>11</td>\n",
       "    </tr>\n",
       "    <tr>\n",
       "      <th>4</th>\n",
       "      <td>23</td>\n",
       "      <td>2022-09-01</td>\n",
       "      <td>Arrival</td>\n",
       "      <td>TR509</td>\n",
       "      <td>405</td>\n",
       "      <td>510.0</td>\n",
       "      <td>1</td>\n",
       "      <td>3</td>\n",
       "      <td>1</td>\n",
       "      <td>2</td>\n",
       "      <td>7</td>\n",
       "      <td>NaN</td>\n",
       "      <td>NaN</td>\n",
       "      <td>11</td>\n",
       "    </tr>\n",
       "  </tbody>\n",
       "</table>\n",
       "</div>"
      ],
      "text/plain": [
       "   Unnamed: 0 Flight Date Orientation Flight_x   ST     ET  RLO   RSM  EO  AA  \\\n",
       "0           2  2022-09-01     Arrival    SQ208   15   21.0     1    4   1   2   \n",
       "1           4  2022-09-01     Arrival    SQ242   20   40.0     1    3   1   1   \n",
       "2          11  2022-09-01     Arrival     SQ11  115   38.0     1    3   1   2   \n",
       "3          22  2022-09-01     Arrival     TR25  355  355.0     1    3   1   1   \n",
       "4          23  2022-09-01     Arrival    TR509  405  510.0     1    3   1   2   \n",
       "\n",
       "   staff  diff  Total  Flight_y  \n",
       "0      8   NaN    NaN        11  \n",
       "1      6   NaN    NaN        11  \n",
       "2      7   NaN    NaN        11  \n",
       "3      6   NaN    NaN        11  \n",
       "4      7   NaN    NaN        11  "
      ]
     },
     "execution_count": 91,
     "metadata": {},
     "output_type": "execute_result"
    }
   ],
   "source": [
    "datastaff.head()"
   ]
  },
  {
   "cell_type": "code",
   "execution_count": null,
   "metadata": {},
   "outputs": [],
   "source": []
  }
 ],
 "metadata": {
  "kernelspec": {
   "display_name": "Python 3",
   "language": "python",
   "name": "python3"
  },
  "language_info": {
   "codemirror_mode": {
    "name": "ipython",
    "version": 3
   },
   "file_extension": ".py",
   "mimetype": "text/x-python",
   "name": "python",
   "nbconvert_exporter": "python",
   "pygments_lexer": "ipython3",
   "version": "3.10.7"
  },
  "orig_nbformat": 4,
  "vscode": {
   "interpreter": {
    "hash": "67e0cbc25fa4f5baaacba1240f401bc655b640f8e15cfc935dfee2e63491bdf4"
   }
  }
 },
 "nbformat": 4,
 "nbformat_minor": 2
}
