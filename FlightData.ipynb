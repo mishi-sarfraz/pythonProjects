{
 "cells": [
  {
   "attachments": {},
   "cell_type": "markdown",
   "metadata": {},
   "source": [
    "# Initial staff cleaning"
   ]
  },
  {
   "cell_type": "code",
   "execution_count": 93,
   "metadata": {},
   "outputs": [],
   "source": [
    "#  access the data \n",
    "import pandas as pd\n",
    "dataStaff=pd.read_csv('J:\\\\SATS\\\\SATS_RAM.csv')\n"
   ]
  },
  {
   "cell_type": "code",
   "execution_count": 94,
   "metadata": {},
   "outputs": [],
   "source": [
    "dataStaff=dataStaff[dataStaff['Orientation']=='Arrival']"
   ]
  },
  {
   "cell_type": "code",
   "execution_count": 95,
   "metadata": {},
   "outputs": [
    {
     "data": {
      "text/plain": [
       "(10113, 9)"
      ]
     },
     "execution_count": 95,
     "metadata": {},
     "output_type": "execute_result"
    }
   ],
   "source": [
    "dataStaff.shape"
   ]
  },
  {
   "cell_type": "code",
   "execution_count": 100,
   "metadata": {},
   "outputs": [],
   "source": [
    "# remove .0 from ET column\n",
    "dataStaff['ET']=dataStaff['ET'].astype(str).str[:-2]"
   ]
  },
  {
   "cell_type": "code",
   "execution_count": 101,
   "metadata": {},
   "outputs": [
    {
     "data": {
      "text/html": [
       "<div>\n",
       "<style scoped>\n",
       "    .dataframe tbody tr th:only-of-type {\n",
       "        vertical-align: middle;\n",
       "    }\n",
       "\n",
       "    .dataframe tbody tr th {\n",
       "        vertical-align: top;\n",
       "    }\n",
       "\n",
       "    .dataframe thead th {\n",
       "        text-align: right;\n",
       "    }\n",
       "</style>\n",
       "<table border=\"1\" class=\"dataframe\">\n",
       "  <thead>\n",
       "    <tr style=\"text-align: right;\">\n",
       "      <th></th>\n",
       "      <th>Flight Date</th>\n",
       "      <th>Orientation</th>\n",
       "      <th>Flight</th>\n",
       "      <th>ST</th>\n",
       "      <th>ET</th>\n",
       "      <th>RLO</th>\n",
       "      <th>RSM</th>\n",
       "      <th>EO</th>\n",
       "      <th>AA</th>\n",
       "    </tr>\n",
       "  </thead>\n",
       "  <tbody>\n",
       "    <tr>\n",
       "      <th>20208</th>\n",
       "      <td>30-11-2022</td>\n",
       "      <td>Arrival</td>\n",
       "      <td>SQ 193</td>\n",
       "      <td>2315</td>\n",
       "      <td>2304</td>\n",
       "      <td>1.0</td>\n",
       "      <td>2</td>\n",
       "      <td>1</td>\n",
       "      <td>1.0</td>\n",
       "    </tr>\n",
       "    <tr>\n",
       "      <th>20209</th>\n",
       "      <td>30-11-2022</td>\n",
       "      <td>Arrival</td>\n",
       "      <td>TR 653</td>\n",
       "      <td>2315</td>\n",
       "      <td>2353</td>\n",
       "      <td>1.0</td>\n",
       "      <td>2</td>\n",
       "      <td>1</td>\n",
       "      <td>1.0</td>\n",
       "    </tr>\n",
       "    <tr>\n",
       "      <th>20210</th>\n",
       "      <td>30-11-2022</td>\n",
       "      <td>Arrival</td>\n",
       "      <td>SQ 713</td>\n",
       "      <td>2330</td>\n",
       "      <td>105</td>\n",
       "      <td>1.0</td>\n",
       "      <td>2</td>\n",
       "      <td>1</td>\n",
       "      <td>1.0</td>\n",
       "    </tr>\n",
       "    <tr>\n",
       "      <th>20212</th>\n",
       "      <td>30-11-2022</td>\n",
       "      <td>Arrival</td>\n",
       "      <td>TR 617</td>\n",
       "      <td>2340</td>\n",
       "      <td>2353</td>\n",
       "      <td>1.0</td>\n",
       "      <td>3</td>\n",
       "      <td>1</td>\n",
       "      <td>1.0</td>\n",
       "    </tr>\n",
       "    <tr>\n",
       "      <th>20218</th>\n",
       "      <td>30-11-2022</td>\n",
       "      <td>Arrival</td>\n",
       "      <td>SQ 897</td>\n",
       "      <td>2355</td>\n",
       "      <td>2338</td>\n",
       "      <td>1.0</td>\n",
       "      <td>1</td>\n",
       "      <td>1</td>\n",
       "      <td>1.0</td>\n",
       "    </tr>\n",
       "  </tbody>\n",
       "</table>\n",
       "</div>"
      ],
      "text/plain": [
       "      Flight Date Orientation  Flight    ST    ET  RLO   RSM  EO   AA\n",
       "20208  30-11-2022     Arrival  SQ 193  2315  2304   1.0    2   1  1.0\n",
       "20209  30-11-2022     Arrival  TR 653  2315  2353   1.0    2   1  1.0\n",
       "20210  30-11-2022     Arrival  SQ 713  2330   105   1.0    2   1  1.0\n",
       "20212  30-11-2022     Arrival  TR 617  2340  2353   1.0    3   1  1.0\n",
       "20218  30-11-2022     Arrival  SQ 897  2355  2338   1.0    1   1  1.0"
      ]
     },
     "execution_count": 101,
     "metadata": {},
     "output_type": "execute_result"
    }
   ],
   "source": [
    "dataStaff.tail()"
   ]
  },
  {
   "cell_type": "code",
   "execution_count": 102,
   "metadata": {},
   "outputs": [
    {
     "data": {
      "text/html": [
       "<div>\n",
       "<style scoped>\n",
       "    .dataframe tbody tr th:only-of-type {\n",
       "        vertical-align: middle;\n",
       "    }\n",
       "\n",
       "    .dataframe tbody tr th {\n",
       "        vertical-align: top;\n",
       "    }\n",
       "\n",
       "    .dataframe thead th {\n",
       "        text-align: right;\n",
       "    }\n",
       "</style>\n",
       "<table border=\"1\" class=\"dataframe\">\n",
       "  <thead>\n",
       "    <tr style=\"text-align: right;\">\n",
       "      <th></th>\n",
       "      <th>Flight Date</th>\n",
       "      <th>Orientation</th>\n",
       "      <th>Flight</th>\n",
       "      <th>ST</th>\n",
       "      <th>ET</th>\n",
       "      <th>RLO</th>\n",
       "      <th>RSM</th>\n",
       "      <th>EO</th>\n",
       "      <th>AA</th>\n",
       "    </tr>\n",
       "  </thead>\n",
       "  <tbody>\n",
       "    <tr>\n",
       "      <th>20208</th>\n",
       "      <td>30-11-2022</td>\n",
       "      <td>Arrival</td>\n",
       "      <td>SQ 193</td>\n",
       "      <td>2315</td>\n",
       "      <td>2304</td>\n",
       "      <td>1.0</td>\n",
       "      <td>2</td>\n",
       "      <td>1</td>\n",
       "      <td>1.0</td>\n",
       "    </tr>\n",
       "    <tr>\n",
       "      <th>20209</th>\n",
       "      <td>30-11-2022</td>\n",
       "      <td>Arrival</td>\n",
       "      <td>TR 653</td>\n",
       "      <td>2315</td>\n",
       "      <td>2353</td>\n",
       "      <td>1.0</td>\n",
       "      <td>2</td>\n",
       "      <td>1</td>\n",
       "      <td>1.0</td>\n",
       "    </tr>\n",
       "    <tr>\n",
       "      <th>20210</th>\n",
       "      <td>30-11-2022</td>\n",
       "      <td>Arrival</td>\n",
       "      <td>SQ 713</td>\n",
       "      <td>2330</td>\n",
       "      <td>0105</td>\n",
       "      <td>1.0</td>\n",
       "      <td>2</td>\n",
       "      <td>1</td>\n",
       "      <td>1.0</td>\n",
       "    </tr>\n",
       "    <tr>\n",
       "      <th>20212</th>\n",
       "      <td>30-11-2022</td>\n",
       "      <td>Arrival</td>\n",
       "      <td>TR 617</td>\n",
       "      <td>2340</td>\n",
       "      <td>2353</td>\n",
       "      <td>1.0</td>\n",
       "      <td>3</td>\n",
       "      <td>1</td>\n",
       "      <td>1.0</td>\n",
       "    </tr>\n",
       "    <tr>\n",
       "      <th>20218</th>\n",
       "      <td>30-11-2022</td>\n",
       "      <td>Arrival</td>\n",
       "      <td>SQ 897</td>\n",
       "      <td>2355</td>\n",
       "      <td>2338</td>\n",
       "      <td>1.0</td>\n",
       "      <td>1</td>\n",
       "      <td>1</td>\n",
       "      <td>1.0</td>\n",
       "    </tr>\n",
       "  </tbody>\n",
       "</table>\n",
       "</div>"
      ],
      "text/plain": [
       "      Flight Date Orientation  Flight    ST    ET  RLO   RSM  EO   AA\n",
       "20208  30-11-2022     Arrival  SQ 193  2315  2304   1.0    2   1  1.0\n",
       "20209  30-11-2022     Arrival  TR 653  2315  2353   1.0    2   1  1.0\n",
       "20210  30-11-2022     Arrival  SQ 713  2330  0105   1.0    2   1  1.0\n",
       "20212  30-11-2022     Arrival  TR 617  2340  2353   1.0    3   1  1.0\n",
       "20218  30-11-2022     Arrival  SQ 897  2355  2338   1.0    1   1  1.0"
      ]
     },
     "execution_count": 102,
     "metadata": {},
     "output_type": "execute_result"
    }
   ],
   "source": [
    "# dataStaff['ET'] = '{:0>4}'.format(dataStaff['ET'])\n",
    "# set ET to string\n",
    "dataStaff['ET']=dataStaff['ET'].astype(str)\n",
    "dataStaff['ET'] = dataStaff['ET'].apply(lambda x: '{:0>4}'.format(x))\n",
    "dataStaff.tail()"
   ]
  },
  {
   "cell_type": "code",
   "execution_count": 5,
   "metadata": {},
   "outputs": [
    {
     "data": {
      "text/html": [
       "<div>\n",
       "<style scoped>\n",
       "    .dataframe tbody tr th:only-of-type {\n",
       "        vertical-align: middle;\n",
       "    }\n",
       "\n",
       "    .dataframe tbody tr th {\n",
       "        vertical-align: top;\n",
       "    }\n",
       "\n",
       "    .dataframe thead th {\n",
       "        text-align: right;\n",
       "    }\n",
       "</style>\n",
       "<table border=\"1\" class=\"dataframe\">\n",
       "  <thead>\n",
       "    <tr style=\"text-align: right;\">\n",
       "      <th></th>\n",
       "      <th>Flight Date</th>\n",
       "      <th>Orientation</th>\n",
       "      <th>Flight</th>\n",
       "      <th>ST</th>\n",
       "      <th>ET</th>\n",
       "      <th>RLO</th>\n",
       "      <th>RSM</th>\n",
       "      <th>EO</th>\n",
       "      <th>AA</th>\n",
       "    </tr>\n",
       "  </thead>\n",
       "  <tbody>\n",
       "    <tr>\n",
       "      <th>20208</th>\n",
       "      <td>30-11-2022</td>\n",
       "      <td>Arrival</td>\n",
       "      <td>SQ 193</td>\n",
       "      <td>2315</td>\n",
       "      <td>2304.0</td>\n",
       "      <td>1.0</td>\n",
       "      <td>2</td>\n",
       "      <td>1</td>\n",
       "      <td>1.0</td>\n",
       "    </tr>\n",
       "    <tr>\n",
       "      <th>20209</th>\n",
       "      <td>30-11-2022</td>\n",
       "      <td>Arrival</td>\n",
       "      <td>TR 653</td>\n",
       "      <td>2315</td>\n",
       "      <td>2353.0</td>\n",
       "      <td>1.0</td>\n",
       "      <td>2</td>\n",
       "      <td>1</td>\n",
       "      <td>1.0</td>\n",
       "    </tr>\n",
       "    <tr>\n",
       "      <th>20210</th>\n",
       "      <td>30-11-2022</td>\n",
       "      <td>Arrival</td>\n",
       "      <td>SQ 713</td>\n",
       "      <td>2330</td>\n",
       "      <td>105.0</td>\n",
       "      <td>1.0</td>\n",
       "      <td>2</td>\n",
       "      <td>1</td>\n",
       "      <td>1.0</td>\n",
       "    </tr>\n",
       "    <tr>\n",
       "      <th>20212</th>\n",
       "      <td>30-11-2022</td>\n",
       "      <td>Arrival</td>\n",
       "      <td>TR 617</td>\n",
       "      <td>2340</td>\n",
       "      <td>2353.0</td>\n",
       "      <td>1.0</td>\n",
       "      <td>3</td>\n",
       "      <td>1</td>\n",
       "      <td>1.0</td>\n",
       "    </tr>\n",
       "    <tr>\n",
       "      <th>20218</th>\n",
       "      <td>30-11-2022</td>\n",
       "      <td>Arrival</td>\n",
       "      <td>SQ 897</td>\n",
       "      <td>2355</td>\n",
       "      <td>2338.0</td>\n",
       "      <td>1.0</td>\n",
       "      <td>1</td>\n",
       "      <td>1</td>\n",
       "      <td>1.0</td>\n",
       "    </tr>\n",
       "  </tbody>\n",
       "</table>\n",
       "</div>"
      ],
      "text/plain": [
       "      Flight Date Orientation  Flight    ST      ET  RLO   RSM  EO   AA\n",
       "20208  30-11-2022     Arrival  SQ 193  2315  2304.0   1.0    2   1  1.0\n",
       "20209  30-11-2022     Arrival  TR 653  2315  2353.0   1.0    2   1  1.0\n",
       "20210  30-11-2022     Arrival  SQ 713  2330   105.0   1.0    2   1  1.0\n",
       "20212  30-11-2022     Arrival  TR 617  2340  2353.0   1.0    3   1  1.0\n",
       "20218  30-11-2022     Arrival  SQ 897  2355  2338.0   1.0    1   1  1.0"
      ]
     },
     "execution_count": 5,
     "metadata": {},
     "output_type": "execute_result"
    }
   ],
   "source": [
    "dataStaff.tail()"
   ]
  },
  {
   "cell_type": "code",
   "execution_count": 6,
   "metadata": {},
   "outputs": [
    {
     "data": {
      "text/plain": [
       "0"
      ]
     },
     "execution_count": 6,
     "metadata": {},
     "output_type": "execute_result"
    }
   ],
   "source": [
    "# any null values?\n",
    "dataStaff['ET'].isnull().sum()"
   ]
  },
  {
   "cell_type": "code",
   "execution_count": 7,
   "metadata": {},
   "outputs": [],
   "source": [
    "# insert : into ET\n",
    "dataStaff['ET'] = dataStaff['ET'].str[:2] + ':' + dataStaff['ET'].str[2:]"
   ]
  },
  {
   "cell_type": "code",
   "execution_count": 8,
   "metadata": {},
   "outputs": [
    {
     "data": {
      "text/html": [
       "<div>\n",
       "<style scoped>\n",
       "    .dataframe tbody tr th:only-of-type {\n",
       "        vertical-align: middle;\n",
       "    }\n",
       "\n",
       "    .dataframe tbody tr th {\n",
       "        vertical-align: top;\n",
       "    }\n",
       "\n",
       "    .dataframe thead th {\n",
       "        text-align: right;\n",
       "    }\n",
       "</style>\n",
       "<table border=\"1\" class=\"dataframe\">\n",
       "  <thead>\n",
       "    <tr style=\"text-align: right;\">\n",
       "      <th></th>\n",
       "      <th>Flight Date</th>\n",
       "      <th>Orientation</th>\n",
       "      <th>Flight</th>\n",
       "      <th>ST</th>\n",
       "      <th>ET</th>\n",
       "      <th>RLO</th>\n",
       "      <th>RSM</th>\n",
       "      <th>EO</th>\n",
       "      <th>AA</th>\n",
       "    </tr>\n",
       "  </thead>\n",
       "  <tbody>\n",
       "    <tr>\n",
       "      <th>20208</th>\n",
       "      <td>30-11-2022</td>\n",
       "      <td>Arrival</td>\n",
       "      <td>SQ 193</td>\n",
       "      <td>2315</td>\n",
       "      <td>23:04.0</td>\n",
       "      <td>1.0</td>\n",
       "      <td>2</td>\n",
       "      <td>1</td>\n",
       "      <td>1.0</td>\n",
       "    </tr>\n",
       "    <tr>\n",
       "      <th>20209</th>\n",
       "      <td>30-11-2022</td>\n",
       "      <td>Arrival</td>\n",
       "      <td>TR 653</td>\n",
       "      <td>2315</td>\n",
       "      <td>23:53.0</td>\n",
       "      <td>1.0</td>\n",
       "      <td>2</td>\n",
       "      <td>1</td>\n",
       "      <td>1.0</td>\n",
       "    </tr>\n",
       "    <tr>\n",
       "      <th>20210</th>\n",
       "      <td>30-11-2022</td>\n",
       "      <td>Arrival</td>\n",
       "      <td>SQ 713</td>\n",
       "      <td>2330</td>\n",
       "      <td>10:5.0</td>\n",
       "      <td>1.0</td>\n",
       "      <td>2</td>\n",
       "      <td>1</td>\n",
       "      <td>1.0</td>\n",
       "    </tr>\n",
       "    <tr>\n",
       "      <th>20212</th>\n",
       "      <td>30-11-2022</td>\n",
       "      <td>Arrival</td>\n",
       "      <td>TR 617</td>\n",
       "      <td>2340</td>\n",
       "      <td>23:53.0</td>\n",
       "      <td>1.0</td>\n",
       "      <td>3</td>\n",
       "      <td>1</td>\n",
       "      <td>1.0</td>\n",
       "    </tr>\n",
       "    <tr>\n",
       "      <th>20218</th>\n",
       "      <td>30-11-2022</td>\n",
       "      <td>Arrival</td>\n",
       "      <td>SQ 897</td>\n",
       "      <td>2355</td>\n",
       "      <td>23:38.0</td>\n",
       "      <td>1.0</td>\n",
       "      <td>1</td>\n",
       "      <td>1</td>\n",
       "      <td>1.0</td>\n",
       "    </tr>\n",
       "  </tbody>\n",
       "</table>\n",
       "</div>"
      ],
      "text/plain": [
       "      Flight Date Orientation  Flight    ST       ET  RLO   RSM  EO   AA\n",
       "20208  30-11-2022     Arrival  SQ 193  2315  23:04.0   1.0    2   1  1.0\n",
       "20209  30-11-2022     Arrival  TR 653  2315  23:53.0   1.0    2   1  1.0\n",
       "20210  30-11-2022     Arrival  SQ 713  2330   10:5.0   1.0    2   1  1.0\n",
       "20212  30-11-2022     Arrival  TR 617  2340  23:53.0   1.0    3   1  1.0\n",
       "20218  30-11-2022     Arrival  SQ 897  2355  23:38.0   1.0    1   1  1.0"
      ]
     },
     "execution_count": 8,
     "metadata": {},
     "output_type": "execute_result"
    }
   ],
   "source": [
    "dataStaff.tail()"
   ]
  },
  {
   "cell_type": "code",
   "execution_count": 9,
   "metadata": {},
   "outputs": [
    {
     "data": {
      "text/plain": [
       "(10113,)"
      ]
     },
     "execution_count": 9,
     "metadata": {},
     "output_type": "execute_result"
    }
   ],
   "source": [
    "# convert ET to datetime\n",
    "# dataStaff['ET'] = pd.to_datetime(dataStaff['ET'])\n",
    "dataStaff['ET'].shape"
   ]
  },
  {
   "cell_type": "code",
   "execution_count": 10,
   "metadata": {},
   "outputs": [
    {
     "name": "stdout",
     "output_type": "stream",
     "text": [
      "      Flight Date Orientation  Flight    ST  ET  RLO   RSM  EO   AA\n",
      "2        1/9/2022     Arrival  SQ 208    15 NaT   1.0    4   1  2.0\n",
      "4        1/9/2022     Arrival  SQ 242    20 NaT   1.0    3   1  1.0\n",
      "11       1/9/2022     Arrival   SQ 11   115 NaT   1.0    3   1  2.0\n",
      "22       1/9/2022     Arrival   TR 25   355 NaT   1.0    3   1  1.0\n",
      "23       1/9/2022     Arrival  TR 509   405 NaT   1.0    3   1  2.0\n",
      "...           ...         ...     ...   ...  ..   ...  ...  ..  ...\n",
      "20208  30-11-2022     Arrival  SQ 193  2315 NaT   1.0    2   1  1.0\n",
      "20209  30-11-2022     Arrival  TR 653  2315 NaT   1.0    2   1  1.0\n",
      "20210  30-11-2022     Arrival  SQ 713  2330 NaT   1.0    2   1  1.0\n",
      "20212  30-11-2022     Arrival  TR 617  2340 NaT   1.0    3   1  1.0\n",
      "20218  30-11-2022     Arrival  SQ 897  2355 NaT   1.0    1   1  1.0\n",
      "\n",
      "[10113 rows x 9 columns]\n"
     ]
    }
   ],
   "source": [
    "# import pandas as pd\n",
    "# import re\n",
    "\n",
    "# # dataStaff = pd.DataFrame({'ET': ['12:30','14:00','00:0n','16:00']})\n",
    "\n",
    "# # check for invalid values using regular expressions\n",
    "# invalid_mask = dataStaff['ET'].apply(lambda x: bool(re.search(r'^(?:(?:([01]?\\d|2[0-3]):)?([0-5]?\\d):[0-5]?[0-9]n$', x)))\n",
    "\n",
    "# # check for invalid values\n",
    "# print(dataStaff[invalid_mask])\n",
    "# Convert columns to datetime data type with 'coerce' error handling\n",
    "dataStaff['ET'] = pd.to_datetime(dataStaff['ET'], format='%H:%M', errors='coerce')\n",
    "\n",
    "# check for NaT values\n",
    "print(dataStaff[pd.isna(dataStaff['ET'])])\n"
   ]
  },
  {
   "cell_type": "code",
   "execution_count": 175,
   "metadata": {},
   "outputs": [],
   "source": [
    "# delete all rows with NaT values in the 'ET' column\n",
    "dataStaff = dataStaff.dropna(subset=['ET'])\n"
   ]
  },
  {
   "cell_type": "code",
   "execution_count": 160,
   "metadata": {},
   "outputs": [],
   "source": [
    "# Convert columns to numeric data type with 'coerce' error handling\n",
    "dataStaff['ET'] = pd.to_numeric(dataStaff['ET'], errors='coerce')\n",
    "\n",
    "# check for NaN values\n",
    "# print(dataStaff[pd.isna(dataStaff['ET'])])"
   ]
  },
  {
   "cell_type": "code",
   "execution_count": 161,
   "metadata": {},
   "outputs": [
    {
     "name": "stdout",
     "output_type": "stream",
     "text": [
      "      Flight Date Orientation  Flight    ST  ET  RLO   RSM  EO   AA\n",
      "30       1/9/2022     Arrival  TR 713   520 NaN   0.0    0   0  0.0\n",
      "461      3/9/2022     Arrival  TR 509   405 NaN   0.0    0   0  0.0\n",
      "462      3/9/2022     Arrival  TR 713   410 NaN   0.0    0   0  0.0\n",
      "1428     7/9/2022     Arrival  SQ 896  1532 NaN   0.0    0   0  0.0\n",
      "1433     7/9/2022     Arrival  SQ 896  1551 NaN   0.0    0   0  0.0\n",
      "1654     8/9/2022     Arrival  TR 809  1630 NaN   0.0    0   0  0.0\n",
      "1884     9/9/2022     Arrival  SQ 333  1730 NaN   0.0    0   0  0.0\n",
      "2047    10/9/2022     Arrival  SQ 192   933 NaN   0.0    0   0  0.0\n",
      "2052    10/9/2022     Arrival  SQ 192   951 NaN   0.0    0   0  0.0\n",
      "2321    11/9/2022     Arrival  SQ 939  1550 NaN   1.0    3   1  2.0\n",
      "3136   15-09-2022     Arrival  SQ 334  1414 NaN   0.0    0   0  0.0\n",
      "3794   18-09-2022     Arrival  SQ 326  1137 NaN   0.0    0   0  0.0\n",
      "4644   22-09-2022     Arrival  SQ 912  1229 NaN   0.0    0   0  0.0\n",
      "6318   30-09-2022     Arrival  TR 848   649 NaN   0.0    0   0  0.0\n",
      "9954   17-10-2022     Arrival  SQ 423   740 NaN   0.0    0   0  0.0\n",
      "10915  21-10-2022     Arrival   SQ 36  1859 NaN   0.0    0   0  0.0\n",
      "10917  21-10-2022     Arrival   SQ 36  1901 NaN   0.0    0   0  0.0\n",
      "12666  29-10-2022     Arrival  SQ 186  1754 NaN   0.0    0   0  0.0\n",
      "12997  31-10-2022     Arrival  SQ 306   555 NaN   0.0    0   0  0.0\n",
      "13866   4/11/2022     Arrival  SQ 402   300 NaN   0.0    0   0  0.0\n",
      "14169   5/11/2022     Arrival  SQ 936   914 NaN   0.0    0   0  0.0\n",
      "14418   6/11/2022     Arrival  SQ 192   951 NaN   0.0    0   0  0.0\n",
      "14477   6/11/2022     Arrival   SQ 21  1715 NaN   NaN    0   0  NaN\n",
      "14730   7/11/2022     Arrival  SQ 186  1851 NaN   0.0    0   0  0.0\n",
      "15252  10/11/2022     Arrival   TR 25   225 NaN   0.0    0   0  0.0\n",
      "17832  20-11-2022     Arrival  SQ 528  2137 NaN   0.0    0   0  0.0\n",
      "18868  25-11-2022     Arrival  SQ 317   750 NaN   0.0    0   0  0.0\n",
      "19414  27-11-2022     Arrival  SQ 184  1424 NaN   0.0    0   0  0.0\n"
     ]
    }
   ],
   "source": [
    "print(dataStaff[pd.isna(dataStaff['ET'])])"
   ]
  },
  {
   "cell_type": "code",
   "execution_count": 143,
   "metadata": {},
   "outputs": [
    {
     "name": "stdout",
     "output_type": "stream",
     "text": [
      "      Flight Date Orientation  Flight    ST  ET  RLO   RSM  EO   AA\n",
      "30       1/9/2022     Arrival  TR 713   520 NaT   0.0    0   0  0.0\n",
      "461      3/9/2022     Arrival  TR 509   405 NaT   0.0    0   0  0.0\n",
      "462      3/9/2022     Arrival  TR 713   410 NaT   0.0    0   0  0.0\n",
      "1428     7/9/2022     Arrival  SQ 896  1532 NaT   0.0    0   0  0.0\n",
      "1433     7/9/2022     Arrival  SQ 896  1551 NaT   0.0    0   0  0.0\n",
      "1654     8/9/2022     Arrival  TR 809  1630 NaT   0.0    0   0  0.0\n",
      "1884     9/9/2022     Arrival  SQ 333  1730 NaT   0.0    0   0  0.0\n",
      "2047    10/9/2022     Arrival  SQ 192   933 NaT   0.0    0   0  0.0\n",
      "2052    10/9/2022     Arrival  SQ 192   951 NaT   0.0    0   0  0.0\n",
      "2321    11/9/2022     Arrival  SQ 939  1550 NaT   1.0    3   1  2.0\n",
      "3136   15-09-2022     Arrival  SQ 334  1414 NaT   0.0    0   0  0.0\n",
      "3794   18-09-2022     Arrival  SQ 326  1137 NaT   0.0    0   0  0.0\n",
      "4644   22-09-2022     Arrival  SQ 912  1229 NaT   0.0    0   0  0.0\n",
      "6318   30-09-2022     Arrival  TR 848   649 NaT   0.0    0   0  0.0\n",
      "9954   17-10-2022     Arrival  SQ 423   740 NaT   0.0    0   0  0.0\n",
      "10915  21-10-2022     Arrival   SQ 36  1859 NaT   0.0    0   0  0.0\n",
      "10917  21-10-2022     Arrival   SQ 36  1901 NaT   0.0    0   0  0.0\n",
      "12666  29-10-2022     Arrival  SQ 186  1754 NaT   0.0    0   0  0.0\n",
      "12997  31-10-2022     Arrival  SQ 306   555 NaT   0.0    0   0  0.0\n",
      "13866   4/11/2022     Arrival  SQ 402   300 NaT   0.0    0   0  0.0\n",
      "14169   5/11/2022     Arrival  SQ 936   914 NaT   0.0    0   0  0.0\n",
      "14418   6/11/2022     Arrival  SQ 192   951 NaT   0.0    0   0  0.0\n",
      "14477   6/11/2022     Arrival   SQ 21  1715 NaT   NaN    0   0  NaN\n",
      "14730   7/11/2022     Arrival  SQ 186  1851 NaT   0.0    0   0  0.0\n",
      "15252  10/11/2022     Arrival   TR 25   225 NaT   0.0    0   0  0.0\n",
      "17832  20-11-2022     Arrival  SQ 528  2137 NaT   0.0    0   0  0.0\n",
      "18868  25-11-2022     Arrival  SQ 317   750 NaT   0.0    0   0  0.0\n",
      "19414  27-11-2022     Arrival  SQ 184  1424 NaT   0.0    0   0  0.0\n"
     ]
    }
   ],
   "source": [
    "# convert ET to datetime by adding : in the middle\n",
    "# dataStaff['ET']=pd.to_datetime(dataStaff['ET'], format='%H%M').dt.strftime('%H:%M')\n",
    "dataStaff['ET'] = pd.to_datetime(dataStaff['ET'].astype(str), format='%H%M', errors='coerce')\n",
    "\n",
    "# check for NaT values\n",
    "print(dataStaff[pd.isna(dataStaff['ET'])])\n",
    "\n",
    "# pd.to_datetime(df['time'], format='%H%M').dt.strftime('%H:%M')\n",
    "# dataStaff['ET']=pd.to_datetime(dataStaff['ET'], format='%H:%M').dt.strftime('%H:%M')"
   ]
  },
  {
   "cell_type": "code",
   "execution_count": 11,
   "metadata": {},
   "outputs": [],
   "source": [
    "dataStaff.columns\n",
    "# fill NAN with 0\n",
    "dataStaff['AA'].fillna(0,inplace=True)\n",
    "dataStaff['RLO '].fillna(0,inplace=True)\n",
    "# data['RLO'].isnull.sum()"
   ]
  },
  {
   "cell_type": "code",
   "execution_count": null,
   "metadata": {},
   "outputs": [],
   "source": []
  },
  {
   "cell_type": "code",
   "execution_count": 12,
   "metadata": {},
   "outputs": [],
   "source": [
    "dataStaff['staff']=dataStaff['RSM']+dataStaff['EO']+dataStaff['AA']+dataStaff['RLO ']"
   ]
  },
  {
   "cell_type": "code",
   "execution_count": 13,
   "metadata": {},
   "outputs": [
    {
     "data": {
      "text/plain": [
       "0"
      ]
     },
     "execution_count": 13,
     "metadata": {},
     "output_type": "execute_result"
    }
   ],
   "source": [
    "\n",
    "dataStaff['staff'].isnull().sum()"
   ]
  },
  {
   "cell_type": "code",
   "execution_count": 14,
   "metadata": {},
   "outputs": [
    {
     "data": {
      "text/html": [
       "<div>\n",
       "<style scoped>\n",
       "    .dataframe tbody tr th:only-of-type {\n",
       "        vertical-align: middle;\n",
       "    }\n",
       "\n",
       "    .dataframe tbody tr th {\n",
       "        vertical-align: top;\n",
       "    }\n",
       "\n",
       "    .dataframe thead th {\n",
       "        text-align: right;\n",
       "    }\n",
       "</style>\n",
       "<table border=\"1\" class=\"dataframe\">\n",
       "  <thead>\n",
       "    <tr style=\"text-align: right;\">\n",
       "      <th></th>\n",
       "      <th>Flight Date</th>\n",
       "      <th>Orientation</th>\n",
       "      <th>Flight</th>\n",
       "      <th>ST</th>\n",
       "      <th>ET</th>\n",
       "      <th>RLO</th>\n",
       "      <th>RSM</th>\n",
       "      <th>EO</th>\n",
       "      <th>AA</th>\n",
       "      <th>staff</th>\n",
       "    </tr>\n",
       "  </thead>\n",
       "  <tbody>\n",
       "  </tbody>\n",
       "</table>\n",
       "</div>"
      ],
      "text/plain": [
       "Empty DataFrame\n",
       "Columns: [Flight Date, Orientation, Flight, ST, ET, RLO , RSM, EO, AA, staff]\n",
       "Index: []"
      ]
     },
     "execution_count": 14,
     "metadata": {},
     "output_type": "execute_result"
    }
   ],
   "source": [
    "# display data where staff is null\n",
    "dataStaff[dataStaff['staff'].isnull()]"
   ]
  },
  {
   "cell_type": "code",
   "execution_count": 15,
   "metadata": {},
   "outputs": [],
   "source": [
    "dataStaff['ET']=dataStaff['ET'].astype('str')"
   ]
  },
  {
   "cell_type": "code",
   "execution_count": 16,
   "metadata": {},
   "outputs": [
    {
     "name": "stderr",
     "output_type": "stream",
     "text": [
      "C:\\Users\\pc\\AppData\\Local\\Temp\\ipykernel_31376\\806292004.py:2: FutureWarning: The default value of regex will change from True to False in a future version.\n",
      "  dataStaff['ET']=dataStaff['ET'].str.replace('.0','')\n"
     ]
    }
   ],
   "source": [
    "# remove the decimal point from the ET column:\n",
    "dataStaff['ET']=dataStaff['ET'].str.replace('.0','')\n",
    "\n",
    "# dataStaff['ET']=dataStaff['ET'].str.strip('.')[0]"
   ]
  },
  {
   "cell_type": "code",
   "execution_count": 17,
   "metadata": {},
   "outputs": [],
   "source": [
    "dataStaff=dataStaff[dataStaff['Orientation']=='Arrival']"
   ]
  },
  {
   "cell_type": "code",
   "execution_count": 179,
   "metadata": {},
   "outputs": [
    {
     "data": {
      "text/html": [
       "<div>\n",
       "<style scoped>\n",
       "    .dataframe tbody tr th:only-of-type {\n",
       "        vertical-align: middle;\n",
       "    }\n",
       "\n",
       "    .dataframe tbody tr th {\n",
       "        vertical-align: top;\n",
       "    }\n",
       "\n",
       "    .dataframe thead th {\n",
       "        text-align: right;\n",
       "    }\n",
       "</style>\n",
       "<table border=\"1\" class=\"dataframe\">\n",
       "  <thead>\n",
       "    <tr style=\"text-align: right;\">\n",
       "      <th></th>\n",
       "      <th>Flight Date</th>\n",
       "      <th>Orientation</th>\n",
       "      <th>Flight</th>\n",
       "      <th>ST</th>\n",
       "      <th>ET</th>\n",
       "      <th>RLO</th>\n",
       "      <th>RSM</th>\n",
       "      <th>EO</th>\n",
       "      <th>AA</th>\n",
       "      <th>staff</th>\n",
       "    </tr>\n",
       "  </thead>\n",
       "  <tbody>\n",
       "    <tr>\n",
       "      <th>2</th>\n",
       "      <td>1/9/2022</td>\n",
       "      <td>Arrival</td>\n",
       "      <td>SQ 208</td>\n",
       "      <td>15</td>\n",
       "      <td>1900-01-01 00:21:00</td>\n",
       "      <td>1.0</td>\n",
       "      <td>4</td>\n",
       "      <td>1</td>\n",
       "      <td>2.0</td>\n",
       "      <td>8.0</td>\n",
       "    </tr>\n",
       "    <tr>\n",
       "      <th>4</th>\n",
       "      <td>1/9/2022</td>\n",
       "      <td>Arrival</td>\n",
       "      <td>SQ 242</td>\n",
       "      <td>20</td>\n",
       "      <td>1900-01-01 00:40:00</td>\n",
       "      <td>1.0</td>\n",
       "      <td>3</td>\n",
       "      <td>1</td>\n",
       "      <td>1.0</td>\n",
       "      <td>6.0</td>\n",
       "    </tr>\n",
       "    <tr>\n",
       "      <th>11</th>\n",
       "      <td>1/9/2022</td>\n",
       "      <td>Arrival</td>\n",
       "      <td>SQ 11</td>\n",
       "      <td>115</td>\n",
       "      <td>1900-01-01 00:38:00</td>\n",
       "      <td>1.0</td>\n",
       "      <td>3</td>\n",
       "      <td>1</td>\n",
       "      <td>2.0</td>\n",
       "      <td>7.0</td>\n",
       "    </tr>\n",
       "    <tr>\n",
       "      <th>22</th>\n",
       "      <td>1/9/2022</td>\n",
       "      <td>Arrival</td>\n",
       "      <td>TR 25</td>\n",
       "      <td>355</td>\n",
       "      <td>1900-01-01 03:55:00</td>\n",
       "      <td>1.0</td>\n",
       "      <td>3</td>\n",
       "      <td>1</td>\n",
       "      <td>1.0</td>\n",
       "      <td>6.0</td>\n",
       "    </tr>\n",
       "    <tr>\n",
       "      <th>23</th>\n",
       "      <td>1/9/2022</td>\n",
       "      <td>Arrival</td>\n",
       "      <td>TR 509</td>\n",
       "      <td>405</td>\n",
       "      <td>1900-01-01 05:10:00</td>\n",
       "      <td>1.0</td>\n",
       "      <td>3</td>\n",
       "      <td>1</td>\n",
       "      <td>2.0</td>\n",
       "      <td>7.0</td>\n",
       "    </tr>\n",
       "  </tbody>\n",
       "</table>\n",
       "</div>"
      ],
      "text/plain": [
       "   Flight Date Orientation  Flight   ST                  ET  RLO   RSM  EO  \\\n",
       "2     1/9/2022     Arrival  SQ 208   15 1900-01-01 00:21:00   1.0    4   1   \n",
       "4     1/9/2022     Arrival  SQ 242   20 1900-01-01 00:40:00   1.0    3   1   \n",
       "11    1/9/2022     Arrival   SQ 11  115 1900-01-01 00:38:00   1.0    3   1   \n",
       "22    1/9/2022     Arrival   TR 25  355 1900-01-01 03:55:00   1.0    3   1   \n",
       "23    1/9/2022     Arrival  TR 509  405 1900-01-01 05:10:00   1.0    3   1   \n",
       "\n",
       "     AA  staff  \n",
       "2   2.0    8.0  \n",
       "4   1.0    6.0  \n",
       "11  2.0    7.0  \n",
       "22  1.0    6.0  \n",
       "23  2.0    7.0  "
      ]
     },
     "execution_count": 179,
     "metadata": {},
     "output_type": "execute_result"
    }
   ],
   "source": [
    "dataStaff.head()"
   ]
  },
  {
   "cell_type": "code",
   "execution_count": 18,
   "metadata": {},
   "outputs": [
    {
     "data": {
      "text/plain": [
       "(10113, 10)"
      ]
     },
     "execution_count": 18,
     "metadata": {},
     "output_type": "execute_result"
    }
   ],
   "source": [
    "dataStaff.shape"
   ]
  },
  {
   "cell_type": "code",
   "execution_count": 180,
   "metadata": {},
   "outputs": [],
   "source": [
    "# dataStaff ET to hours:minutes\n",
    "dataStaff['ET']=pd.to_datetime(dataStaff['ET'], format='%H:%M').dt.strftime('%H:%M')\n"
   ]
  },
  {
   "cell_type": "code",
   "execution_count": 19,
   "metadata": {},
   "outputs": [
    {
     "data": {
      "text/html": [
       "<div>\n",
       "<style scoped>\n",
       "    .dataframe tbody tr th:only-of-type {\n",
       "        vertical-align: middle;\n",
       "    }\n",
       "\n",
       "    .dataframe tbody tr th {\n",
       "        vertical-align: top;\n",
       "    }\n",
       "\n",
       "    .dataframe thead th {\n",
       "        text-align: right;\n",
       "    }\n",
       "</style>\n",
       "<table border=\"1\" class=\"dataframe\">\n",
       "  <thead>\n",
       "    <tr style=\"text-align: right;\">\n",
       "      <th></th>\n",
       "      <th>Flight Date</th>\n",
       "      <th>Orientation</th>\n",
       "      <th>Flight</th>\n",
       "      <th>ST</th>\n",
       "      <th>ET</th>\n",
       "      <th>RLO</th>\n",
       "      <th>RSM</th>\n",
       "      <th>EO</th>\n",
       "      <th>AA</th>\n",
       "      <th>staff</th>\n",
       "    </tr>\n",
       "  </thead>\n",
       "  <tbody>\n",
       "    <tr>\n",
       "      <th>20208</th>\n",
       "      <td>30-11-2022</td>\n",
       "      <td>Arrival</td>\n",
       "      <td>SQ 193</td>\n",
       "      <td>2315</td>\n",
       "      <td>NaT</td>\n",
       "      <td>1.0</td>\n",
       "      <td>2</td>\n",
       "      <td>1</td>\n",
       "      <td>1.0</td>\n",
       "      <td>5.0</td>\n",
       "    </tr>\n",
       "    <tr>\n",
       "      <th>20209</th>\n",
       "      <td>30-11-2022</td>\n",
       "      <td>Arrival</td>\n",
       "      <td>TR 653</td>\n",
       "      <td>2315</td>\n",
       "      <td>NaT</td>\n",
       "      <td>1.0</td>\n",
       "      <td>2</td>\n",
       "      <td>1</td>\n",
       "      <td>1.0</td>\n",
       "      <td>5.0</td>\n",
       "    </tr>\n",
       "    <tr>\n",
       "      <th>20210</th>\n",
       "      <td>30-11-2022</td>\n",
       "      <td>Arrival</td>\n",
       "      <td>SQ 713</td>\n",
       "      <td>2330</td>\n",
       "      <td>NaT</td>\n",
       "      <td>1.0</td>\n",
       "      <td>2</td>\n",
       "      <td>1</td>\n",
       "      <td>1.0</td>\n",
       "      <td>5.0</td>\n",
       "    </tr>\n",
       "    <tr>\n",
       "      <th>20212</th>\n",
       "      <td>30-11-2022</td>\n",
       "      <td>Arrival</td>\n",
       "      <td>TR 617</td>\n",
       "      <td>2340</td>\n",
       "      <td>NaT</td>\n",
       "      <td>1.0</td>\n",
       "      <td>3</td>\n",
       "      <td>1</td>\n",
       "      <td>1.0</td>\n",
       "      <td>6.0</td>\n",
       "    </tr>\n",
       "    <tr>\n",
       "      <th>20218</th>\n",
       "      <td>30-11-2022</td>\n",
       "      <td>Arrival</td>\n",
       "      <td>SQ 897</td>\n",
       "      <td>2355</td>\n",
       "      <td>NaT</td>\n",
       "      <td>1.0</td>\n",
       "      <td>1</td>\n",
       "      <td>1</td>\n",
       "      <td>1.0</td>\n",
       "      <td>4.0</td>\n",
       "    </tr>\n",
       "  </tbody>\n",
       "</table>\n",
       "</div>"
      ],
      "text/plain": [
       "      Flight Date Orientation  Flight    ST   ET  RLO   RSM  EO   AA  staff\n",
       "20208  30-11-2022     Arrival  SQ 193  2315  NaT   1.0    2   1  1.0    5.0\n",
       "20209  30-11-2022     Arrival  TR 653  2315  NaT   1.0    2   1  1.0    5.0\n",
       "20210  30-11-2022     Arrival  SQ 713  2330  NaT   1.0    2   1  1.0    5.0\n",
       "20212  30-11-2022     Arrival  TR 617  2340  NaT   1.0    3   1  1.0    6.0\n",
       "20218  30-11-2022     Arrival  SQ 897  2355  NaT   1.0    1   1  1.0    4.0"
      ]
     },
     "execution_count": 19,
     "metadata": {},
     "output_type": "execute_result"
    }
   ],
   "source": [
    "dataStaff.tail()"
   ]
  },
  {
   "cell_type": "code",
   "execution_count": null,
   "metadata": {},
   "outputs": [],
   "source": []
  },
  {
   "cell_type": "code",
   "execution_count": 24,
   "metadata": {},
   "outputs": [],
   "source": [
    "# save the data\n",
    "data.to_excel('J:\\\\SATS\\\\CLEAN_SATS_RAM.xlsx')"
   ]
  },
  {
   "cell_type": "code",
   "execution_count": 20,
   "metadata": {},
   "outputs": [
    {
     "ename": "NameError",
     "evalue": "name 'data' is not defined",
     "output_type": "error",
     "traceback": [
      "\u001b[1;31m---------------------------------------------------------------------------\u001b[0m",
      "\u001b[1;31mNameError\u001b[0m                                 Traceback (most recent call last)",
      "Cell \u001b[1;32mIn [20], line 2\u001b[0m\n\u001b[0;32m      1\u001b[0m \u001b[39m#  group and count all the flights by staff\u001b[39;00m\n\u001b[1;32m----> 2\u001b[0m data\u001b[39m.\u001b[39mgroupby(\u001b[39m'\u001b[39m\u001b[39mstaff\u001b[39m\u001b[39m'\u001b[39m)[\u001b[39m'\u001b[39m\u001b[39mFlight\u001b[39m\u001b[39m'\u001b[39m]\u001b[39m.\u001b[39mcount()\n",
      "\u001b[1;31mNameError\u001b[0m: name 'data' is not defined"
     ]
    }
   ],
   "source": [
    "#  group and count all the flights by staff\n",
    "data.groupby('staff')['Flight'].count()"
   ]
  },
  {
   "attachments": {},
   "cell_type": "markdown",
   "metadata": {},
   "source": [
    "# Read clean STAT RAM "
   ]
  },
  {
   "cell_type": "code",
   "execution_count": 106,
   "metadata": {},
   "outputs": [],
   "source": [
    "import pandas as pd\n",
    "dataStaff=pd.read_excel('J:\\\\SATS\\\\CLEAN_SATS_RAM.xlsx')"
   ]
  },
  {
   "cell_type": "code",
   "execution_count": 108,
   "metadata": {},
   "outputs": [
    {
     "data": {
      "text/html": [
       "<div>\n",
       "<style scoped>\n",
       "    .dataframe tbody tr th:only-of-type {\n",
       "        vertical-align: middle;\n",
       "    }\n",
       "\n",
       "    .dataframe tbody tr th {\n",
       "        vertical-align: top;\n",
       "    }\n",
       "\n",
       "    .dataframe thead th {\n",
       "        text-align: right;\n",
       "    }\n",
       "</style>\n",
       "<table border=\"1\" class=\"dataframe\">\n",
       "  <thead>\n",
       "    <tr style=\"text-align: right;\">\n",
       "      <th></th>\n",
       "      <th>Unnamed: 0</th>\n",
       "      <th>Flight Date</th>\n",
       "      <th>Orientation</th>\n",
       "      <th>Flight</th>\n",
       "      <th>ST</th>\n",
       "      <th>ET</th>\n",
       "      <th>RLO</th>\n",
       "      <th>RSM</th>\n",
       "      <th>EO</th>\n",
       "      <th>AA</th>\n",
       "      <th>staff</th>\n",
       "    </tr>\n",
       "  </thead>\n",
       "  <tbody>\n",
       "    <tr>\n",
       "      <th>0</th>\n",
       "      <td>0</td>\n",
       "      <td>2022-09-01</td>\n",
       "      <td>Departure</td>\n",
       "      <td>SQ 225</td>\n",
       "      <td>5</td>\n",
       "      <td>21.0</td>\n",
       "      <td>1</td>\n",
       "      <td>3</td>\n",
       "      <td>1</td>\n",
       "      <td>2</td>\n",
       "      <td>7</td>\n",
       "    </tr>\n",
       "    <tr>\n",
       "      <th>1</th>\n",
       "      <td>1</td>\n",
       "      <td>2022-09-01</td>\n",
       "      <td>Departure</td>\n",
       "      <td>SQ 608</td>\n",
       "      <td>10</td>\n",
       "      <td>11.0</td>\n",
       "      <td>1</td>\n",
       "      <td>3</td>\n",
       "      <td>0</td>\n",
       "      <td>2</td>\n",
       "      <td>6</td>\n",
       "    </tr>\n",
       "    <tr>\n",
       "      <th>2</th>\n",
       "      <td>2</td>\n",
       "      <td>2022-09-01</td>\n",
       "      <td>Arrival</td>\n",
       "      <td>SQ 208</td>\n",
       "      <td>15</td>\n",
       "      <td>21.0</td>\n",
       "      <td>1</td>\n",
       "      <td>4</td>\n",
       "      <td>1</td>\n",
       "      <td>2</td>\n",
       "      <td>8</td>\n",
       "    </tr>\n",
       "    <tr>\n",
       "      <th>3</th>\n",
       "      <td>3</td>\n",
       "      <td>2022-09-01</td>\n",
       "      <td>Departure</td>\n",
       "      <td>SQ 336</td>\n",
       "      <td>15</td>\n",
       "      <td>21.0</td>\n",
       "      <td>1</td>\n",
       "      <td>3</td>\n",
       "      <td>1</td>\n",
       "      <td>2</td>\n",
       "      <td>7</td>\n",
       "    </tr>\n",
       "    <tr>\n",
       "      <th>4</th>\n",
       "      <td>4</td>\n",
       "      <td>2022-09-01</td>\n",
       "      <td>Arrival</td>\n",
       "      <td>SQ 242</td>\n",
       "      <td>20</td>\n",
       "      <td>40.0</td>\n",
       "      <td>1</td>\n",
       "      <td>3</td>\n",
       "      <td>1</td>\n",
       "      <td>1</td>\n",
       "      <td>6</td>\n",
       "    </tr>\n",
       "  </tbody>\n",
       "</table>\n",
       "</div>"
      ],
      "text/plain": [
       "   Unnamed: 0 Flight Date Orientation  Flight  ST    ET  RLO   RSM  EO  AA  \\\n",
       "0           0  2022-09-01   Departure  SQ 225   5  21.0     1    3   1   2   \n",
       "1           1  2022-09-01   Departure  SQ 608  10  11.0     1    3   0   2   \n",
       "2           2  2022-09-01     Arrival  SQ 208  15  21.0     1    4   1   2   \n",
       "3           3  2022-09-01   Departure  SQ 336  15  21.0     1    3   1   2   \n",
       "4           4  2022-09-01     Arrival  SQ 242  20  40.0     1    3   1   1   \n",
       "\n",
       "   staff  \n",
       "0      7  \n",
       "1      6  \n",
       "2      8  \n",
       "3      7  \n",
       "4      6  "
      ]
     },
     "execution_count": 108,
     "metadata": {},
     "output_type": "execute_result"
    }
   ],
   "source": [
    "dataStaff.head()"
   ]
  },
  {
   "cell_type": "code",
   "execution_count": 105,
   "metadata": {},
   "outputs": [],
   "source": [
    "# dataBugagge=pd.read_excel('J:\\\\SATS\\\\Buggage.xlsx')"
   ]
  },
  {
   "cell_type": "code",
   "execution_count": 44,
   "metadata": {},
   "outputs": [],
   "source": [
    "#  remove where Flight No, Flight Date and In-bound Time all three are duplicated all together:\n",
    "# data1.drop_duplicates(subset=['Flight No','Flight Date','In-bound Time'],keep='first',inplace=True)\n"
   ]
  },
  {
   "cell_type": "code",
   "execution_count": 109,
   "metadata": {},
   "outputs": [
    {
     "data": {
      "text/plain": [
       "(20219, 11)"
      ]
     },
     "execution_count": 109,
     "metadata": {},
     "output_type": "execute_result"
    }
   ],
   "source": [
    "dataStaff.shape"
   ]
  },
  {
   "cell_type": "code",
   "execution_count": 110,
   "metadata": {},
   "outputs": [
    {
     "data": {
      "text/plain": [
       "0    SQ225\n",
       "1    SQ608\n",
       "2    SQ208\n",
       "3    SQ336\n",
       "4    SQ242\n",
       "Name: Flight, dtype: object"
      ]
     },
     "execution_count": 110,
     "metadata": {},
     "output_type": "execute_result"
    }
   ],
   "source": [
    "# remove the space in between the flight number\n",
    "\n",
    "dataStaff['Flight']=dataStaff['Flight'].str.strip()\n",
    "dataStaff['Flight'] = dataStaff['Flight'].str.replace(' ', '')\n",
    "dataStaff['Flight'].head()"
   ]
  },
  {
   "cell_type": "code",
   "execution_count": 111,
   "metadata": {},
   "outputs": [
    {
     "data": {
      "text/plain": [
       "(10113, 11)"
      ]
     },
     "execution_count": 111,
     "metadata": {},
     "output_type": "execute_result"
    }
   ],
   "source": [
    "dataStaff=dataStaff[dataStaff['Orientation']=='Arrival']\n",
    "dataStaff.shape"
   ]
  },
  {
   "cell_type": "code",
   "execution_count": 112,
   "metadata": {},
   "outputs": [],
   "source": [
    "# remove any rows where the Orientation is not Arrival\n",
    "dataStaff=dataStaff[dataStaff['Orientation']=='Arrival']"
   ]
  },
  {
   "cell_type": "code",
   "execution_count": 113,
   "metadata": {},
   "outputs": [
    {
     "data": {
      "text/plain": [
       "(10113, 11)"
      ]
     },
     "execution_count": 113,
     "metadata": {},
     "output_type": "execute_result"
    }
   ],
   "source": [
    "dataStaff.shape"
   ]
  },
  {
   "cell_type": "code",
   "execution_count": 301,
   "metadata": {},
   "outputs": [
    {
     "name": "stderr",
     "output_type": "stream",
     "text": [
      "C:\\Users\\pc\\AppData\\Local\\Temp\\ipykernel_28092\\33504595.py:2: SettingWithCopyWarning: \n",
      "A value is trying to be set on a copy of a slice from a DataFrame.\n",
      "Try using .loc[row_indexer,col_indexer] = value instead\n",
      "\n",
      "See the caveats in the documentation: https://pandas.pydata.org/pandas-docs/stable/user_guide/indexing.html#returning-a-view-versus-a-copy\n",
      "  arrivalFlights['Flight Date']=pd.to_datetime(arrivalFlights['Flight Date'])\n"
     ]
    }
   ],
   "source": [
    "# set the date column as pandas date\n",
    "# dataStaff['Flight Date']=pd.to_datetime(dataStaff['Flight Date'])\n",
    "# arrivalFlights['Flight Date']=pd.to_datetime(arrivalFlights['Flight Date'])"
   ]
  },
  {
   "cell_type": "code",
   "execution_count": 52,
   "metadata": {},
   "outputs": [
    {
     "ename": "NameError",
     "evalue": "name 'arrivalFlights' is not defined",
     "output_type": "error",
     "traceback": [
      "\u001b[1;31m---------------------------------------------------------------------------\u001b[0m",
      "\u001b[1;31mNameError\u001b[0m                                 Traceback (most recent call last)",
      "Cell \u001b[1;32mIn [52], line 1\u001b[0m\n\u001b[1;32m----> 1\u001b[0m arrivalFlights[\u001b[39m'\u001b[39m\u001b[39mFlight Date\u001b[39m\u001b[39m'\u001b[39m]\u001b[39m.\u001b[39mhead()\n",
      "\u001b[1;31mNameError\u001b[0m: name 'arrivalFlights' is not defined"
     ]
    }
   ],
   "source": [
    "# arrivalFlights['Flight Date'].head()"
   ]
  },
  {
   "attachments": {},
   "cell_type": "markdown",
   "metadata": {},
   "source": [
    "# Data Bugagge "
   ]
  },
  {
   "cell_type": "code",
   "execution_count": 66,
   "metadata": {},
   "outputs": [
    {
     "ename": "TypeError",
     "evalue": "read_excel() got an unexpected keyword argument 'encoding'",
     "output_type": "error",
     "traceback": [
      "\u001b[1;31m---------------------------------------------------------------------------\u001b[0m",
      "\u001b[1;31mTypeError\u001b[0m                                 Traceback (most recent call last)",
      "Cell \u001b[1;32mIn [66], line 3\u001b[0m\n\u001b[0;32m      1\u001b[0m \u001b[39m# dataBugagge['Flight Date']=pd.to_datetime(dataBugagge['Flight Date'])\u001b[39;00m\n\u001b[0;32m      2\u001b[0m \u001b[39mimport\u001b[39;00m \u001b[39mpandas\u001b[39;00m \u001b[39mas\u001b[39;00m \u001b[39mpd\u001b[39;00m\n\u001b[1;32m----> 3\u001b[0m dataBugagge\u001b[39m=\u001b[39mpd\u001b[39m.\u001b[39mread_excel(\u001b[39m'\u001b[39m\u001b[39mJ:\u001b[39m\u001b[39m\\\\\u001b[39;00m\u001b[39mSATS\u001b[39m\u001b[39m\\\\\u001b[39;00m\u001b[39mBuggage.xlsx\u001b[39m\u001b[39m'\u001b[39m,sheet_name\u001b[39m=\u001b[39m\u001b[39m'\u001b[39m\u001b[39min\u001b[39m\u001b[39m'\u001b[39m,encoding\u001b[39m=\u001b[39m\u001b[39m'\u001b[39m\u001b[39mutf-8-sig\u001b[39m\u001b[39m'\u001b[39m)\n",
      "File \u001b[1;32mc:\\Users\\pc\\AppData\\Local\\Programs\\Python\\Python310\\lib\\site-packages\\pandas\\util\\_decorators.py:211\u001b[0m, in \u001b[0;36mdeprecate_kwarg.<locals>._deprecate_kwarg.<locals>.wrapper\u001b[1;34m(*args, **kwargs)\u001b[0m\n\u001b[0;32m    209\u001b[0m     \u001b[39melse\u001b[39;00m:\n\u001b[0;32m    210\u001b[0m         kwargs[new_arg_name] \u001b[39m=\u001b[39m new_arg_value\n\u001b[1;32m--> 211\u001b[0m \u001b[39mreturn\u001b[39;00m func(\u001b[39m*\u001b[39margs, \u001b[39m*\u001b[39m\u001b[39m*\u001b[39mkwargs)\n",
      "File \u001b[1;32mc:\\Users\\pc\\AppData\\Local\\Programs\\Python\\Python310\\lib\\site-packages\\pandas\\util\\_decorators.py:317\u001b[0m, in \u001b[0;36mdeprecate_nonkeyword_arguments.<locals>.decorate.<locals>.wrapper\u001b[1;34m(*args, **kwargs)\u001b[0m\n\u001b[0;32m    311\u001b[0m \u001b[39mif\u001b[39;00m \u001b[39mlen\u001b[39m(args) \u001b[39m>\u001b[39m num_allow_args:\n\u001b[0;32m    312\u001b[0m     warnings\u001b[39m.\u001b[39mwarn(\n\u001b[0;32m    313\u001b[0m         msg\u001b[39m.\u001b[39mformat(arguments\u001b[39m=\u001b[39marguments),\n\u001b[0;32m    314\u001b[0m         \u001b[39mFutureWarning\u001b[39;00m,\n\u001b[0;32m    315\u001b[0m         stacklevel\u001b[39m=\u001b[39mfind_stack_level(inspect\u001b[39m.\u001b[39mcurrentframe()),\n\u001b[0;32m    316\u001b[0m     )\n\u001b[1;32m--> 317\u001b[0m \u001b[39mreturn\u001b[39;00m func(\u001b[39m*\u001b[39margs, \u001b[39m*\u001b[39m\u001b[39m*\u001b[39mkwargs)\n",
      "\u001b[1;31mTypeError\u001b[0m: read_excel() got an unexpected keyword argument 'encoding'"
     ]
    }
   ],
   "source": [
    "# dataBugagge['Flight Date']=pd.to_datetime(dataBugagge['Flight Date'])\n",
    "import pandas as pd\n",
    "dataBugagge=pd.read_excel('J:\\\\SATS\\\\Buggage.xlsx',sheet_name='in',encoding='utf-8-sig')"
   ]
  },
  {
   "cell_type": "code",
   "execution_count": 69,
   "metadata": {},
   "outputs": [
    {
     "data": {
      "text/plain": [
       "'SQ208'"
      ]
     },
     "execution_count": 69,
     "metadata": {},
     "output_type": "execute_result"
    }
   ],
   "source": [
    "dataBugagge['Flight No'].iloc[2]"
   ]
  },
  {
   "cell_type": "code",
   "execution_count": 67,
   "metadata": {},
   "outputs": [],
   "source": [
    "dataBugagge['Flight No'] = dataBugagge['Flight No'].str.replace('\\ufeff','')\n"
   ]
  },
  {
   "cell_type": "code",
   "execution_count": 68,
   "metadata": {},
   "outputs": [],
   "source": [
    "dataBugagge['Flight No'] = dataBugagge['Flight No'].str.lstrip()\n"
   ]
  },
  {
   "cell_type": "code",
   "execution_count": 57,
   "metadata": {},
   "outputs": [
    {
     "data": {
      "text/plain": [
       "0   2022-09-01\n",
       "1   2022-09-01\n",
       "2   2022-09-01\n",
       "3   2022-09-01\n",
       "4   2022-09-01\n",
       "Name: Flight Date, dtype: datetime64[ns]"
      ]
     },
     "execution_count": 57,
     "metadata": {},
     "output_type": "execute_result"
    }
   ],
   "source": [
    "dataBugagge['Flight Date'].head()"
   ]
  },
  {
   "cell_type": "code",
   "execution_count": 70,
   "metadata": {},
   "outputs": [
    {
     "data": {
      "text/plain": [
       "0"
      ]
     },
     "execution_count": 70,
     "metadata": {},
     "output_type": "execute_result"
    }
   ],
   "source": [
    "# any Flight No with leading \\ufeff?\n",
    "dataBugagge['Flight No'].str.contains('\\ufeff').sum()"
   ]
  },
  {
   "cell_type": "code",
   "execution_count": 58,
   "metadata": {},
   "outputs": [
    {
     "data": {
      "text/plain": [
       "Index(['Flight No', 'Flight Date', 'In-bound Time', 'Trip Number',\n",
       "       'ULD Number', 'Pickup Time', 'Dropoff Time'],\n",
       "      dtype='object')"
      ]
     },
     "execution_count": 58,
     "metadata": {},
     "output_type": "execute_result"
    }
   ],
   "source": [
    "dataBugagge.columns"
   ]
  },
  {
   "cell_type": "code",
   "execution_count": null,
   "metadata": {},
   "outputs": [],
   "source": []
  },
  {
   "cell_type": "code",
   "execution_count": 73,
   "metadata": {},
   "outputs": [],
   "source": [
    "# dataBugagge['Drop Off Time']=pd.to_datetime(dataBugagge['Drop Off Time'])\n",
    "# set the Drop Off Time for each day the maximum one:\n",
    "dataBugagge['Dropoff TimeN']=dataBugagge.groupby(['Flight Date','Flight No'])['Dropoff Time'].transform('max')\n"
   ]
  },
  {
   "cell_type": "code",
   "execution_count": 74,
   "metadata": {},
   "outputs": [
    {
     "data": {
      "text/plain": [
       "'SQ208'"
      ]
     },
     "execution_count": 74,
     "metadata": {},
     "output_type": "execute_result"
    }
   ],
   "source": [
    "dataBugagge['Flight No'].iloc[2]"
   ]
  },
  {
   "cell_type": "code",
   "execution_count": 12,
   "metadata": {},
   "outputs": [],
   "source": [
    "dataBugagge['Dropoff Time'].isnull().sum()\n",
    "# fill null values with 0 datetime\n",
    "dataBugagge['Dropoff Time'].fillna(pd.to_datetime('00:00'),inplace=True)"
   ]
  },
  {
   "cell_type": "code",
   "execution_count": 14,
   "metadata": {},
   "outputs": [
    {
     "data": {
      "text/plain": [
       "Flight No            0\n",
       "Flight Date          1\n",
       "In-bound Time       73\n",
       "Trip Number          1\n",
       "ULD Number           1\n",
       "Pickup Time      46992\n",
       "Dropoff Time         0\n",
       "dtype: int64"
      ]
     },
     "execution_count": 14,
     "metadata": {},
     "output_type": "execute_result"
    }
   ],
   "source": [
    "dataBugagge.isnull().sum()"
   ]
  },
  {
   "attachments": {},
   "cell_type": "markdown",
   "metadata": {},
   "source": [
    "## Trip number against each flight\n"
   ]
  },
  {
   "cell_type": "code",
   "execution_count": 71,
   "metadata": {},
   "outputs": [],
   "source": [
    "# count trips by flight number each day and save it to a new column:\n",
    "dataBugagge['Total ULDS']=dataBugagge.groupby(['Flight Date','Flight No'])['Trip Number'].transform('count')\n",
    "# dataBugagge.groupby(['Flight Date','Flight No'])['Trip Number'].count()"
   ]
  },
  {
   "cell_type": "code",
   "execution_count": 46,
   "metadata": {},
   "outputs": [],
   "source": [
    "dataBugagge['Total ULDS']=dataBugagge.groupby(['Flight Date','Flight No'])['Trip Number'].transform('count')"
   ]
  },
  {
   "cell_type": "code",
   "execution_count": 47,
   "metadata": {},
   "outputs": [],
   "source": [
    "# dataBugagge\n",
    "# drop the duplicate rows\n",
    "dataBugagge.drop_duplicates(subset=['Flight Date','Flight No'],keep='first',inplace=True)"
   ]
  },
  {
   "cell_type": "code",
   "execution_count": 72,
   "metadata": {},
   "outputs": [
    {
     "data": {
      "text/html": [
       "<div>\n",
       "<style scoped>\n",
       "    .dataframe tbody tr th:only-of-type {\n",
       "        vertical-align: middle;\n",
       "    }\n",
       "\n",
       "    .dataframe tbody tr th {\n",
       "        vertical-align: top;\n",
       "    }\n",
       "\n",
       "    .dataframe thead th {\n",
       "        text-align: right;\n",
       "    }\n",
       "</style>\n",
       "<table border=\"1\" class=\"dataframe\">\n",
       "  <thead>\n",
       "    <tr style=\"text-align: right;\">\n",
       "      <th></th>\n",
       "      <th>Flight No</th>\n",
       "      <th>Flight Date</th>\n",
       "      <th>In-bound Time</th>\n",
       "      <th>Trip Number</th>\n",
       "      <th>ULD Number</th>\n",
       "      <th>Pickup Time</th>\n",
       "      <th>Dropoff Time</th>\n",
       "      <th>Total ULDS</th>\n",
       "    </tr>\n",
       "  </thead>\n",
       "  <tbody>\n",
       "    <tr>\n",
       "      <th>0</th>\n",
       "      <td>SQ208</td>\n",
       "      <td>2022-09-01</td>\n",
       "      <td>2022-09-01 00:21:00</td>\n",
       "      <td>1.0</td>\n",
       "      <td>AKE89138SQ</td>\n",
       "      <td>2022-09-01 00:33:15.220</td>\n",
       "      <td>2022-09-01 00:37:16.930</td>\n",
       "      <td>12.0</td>\n",
       "    </tr>\n",
       "    <tr>\n",
       "      <th>1</th>\n",
       "      <td>SQ208</td>\n",
       "      <td>2022-09-01</td>\n",
       "      <td>2022-09-01 00:21:00</td>\n",
       "      <td>1.0</td>\n",
       "      <td>AKE29231SQ</td>\n",
       "      <td>2022-09-01 00:33:15.217</td>\n",
       "      <td>2022-09-01 00:37:16.930</td>\n",
       "      <td>12.0</td>\n",
       "    </tr>\n",
       "    <tr>\n",
       "      <th>2</th>\n",
       "      <td>SQ208</td>\n",
       "      <td>2022-09-01</td>\n",
       "      <td>2022-09-01 00:21:00</td>\n",
       "      <td>2.0</td>\n",
       "      <td>AKE28054SQ</td>\n",
       "      <td>2022-09-01 00:33:15.220</td>\n",
       "      <td>2022-09-01 00:37:16.933</td>\n",
       "      <td>12.0</td>\n",
       "    </tr>\n",
       "    <tr>\n",
       "      <th>3</th>\n",
       "      <td>SQ208</td>\n",
       "      <td>2022-09-01</td>\n",
       "      <td>2022-09-01 00:21:00</td>\n",
       "      <td>2.0</td>\n",
       "      <td>AKE87419SQ</td>\n",
       "      <td>2022-09-01 00:33:15.220</td>\n",
       "      <td>2022-09-01 00:37:16.933</td>\n",
       "      <td>12.0</td>\n",
       "    </tr>\n",
       "    <tr>\n",
       "      <th>4</th>\n",
       "      <td>SQ208</td>\n",
       "      <td>2022-09-01</td>\n",
       "      <td>2022-09-01 00:21:00</td>\n",
       "      <td>2.0</td>\n",
       "      <td>AKE80186SQ</td>\n",
       "      <td>2022-09-01 00:33:15.220</td>\n",
       "      <td>2022-09-01 00:37:16.933</td>\n",
       "      <td>12.0</td>\n",
       "    </tr>\n",
       "  </tbody>\n",
       "</table>\n",
       "</div>"
      ],
      "text/plain": [
       "  Flight No Flight Date       In-bound Time  Trip Number  ULD Number  \\\n",
       "0     SQ208  2022-09-01 2022-09-01 00:21:00          1.0  AKE89138SQ   \n",
       "1     SQ208  2022-09-01 2022-09-01 00:21:00          1.0  AKE29231SQ   \n",
       "2     SQ208  2022-09-01 2022-09-01 00:21:00          2.0  AKE28054SQ   \n",
       "3     SQ208  2022-09-01 2022-09-01 00:21:00          2.0  AKE87419SQ   \n",
       "4     SQ208  2022-09-01 2022-09-01 00:21:00          2.0  AKE80186SQ   \n",
       "\n",
       "              Pickup Time            Dropoff Time  Total ULDS  \n",
       "0 2022-09-01 00:33:15.220 2022-09-01 00:37:16.930        12.0  \n",
       "1 2022-09-01 00:33:15.217 2022-09-01 00:37:16.930        12.0  \n",
       "2 2022-09-01 00:33:15.220 2022-09-01 00:37:16.933        12.0  \n",
       "3 2022-09-01 00:33:15.220 2022-09-01 00:37:16.933        12.0  \n",
       "4 2022-09-01 00:33:15.220 2022-09-01 00:37:16.933        12.0  "
      ]
     },
     "execution_count": 72,
     "metadata": {},
     "output_type": "execute_result"
    }
   ],
   "source": [
    "dataBugagge.head()"
   ]
  },
  {
   "cell_type": "code",
   "execution_count": 75,
   "metadata": {},
   "outputs": [],
   "source": [
    "dataBugagge.drop_duplicates(subset=['Flight Date','Flight No'],keep='first',inplace=True)"
   ]
  },
  {
   "cell_type": "code",
   "execution_count": 63,
   "metadata": {},
   "outputs": [
    {
     "data": {
      "text/plain": [
       "'\\ufeffSQ208'"
      ]
     },
     "execution_count": 63,
     "metadata": {},
     "output_type": "execute_result"
    }
   ],
   "source": [
    "# get Flight No at first index\n",
    "dataBugagge['Flight No'].iloc[2]\n",
    "\n",
    "# dataBugagge['Flight No']=='SQ208'"
   ]
  },
  {
   "cell_type": "code",
   "execution_count": 33,
   "metadata": {},
   "outputs": [],
   "source": [
    "# remove empty In-bound Time rows\n",
    "dataBugagge=dataBugagge[dataBugagge['In-bound Time'].notnull()]"
   ]
  },
  {
   "cell_type": "code",
   "execution_count": 73,
   "metadata": {},
   "outputs": [
    {
     "data": {
      "text/plain": [
       "Index(['Flight No', 'Flight Date', 'In-bound Time', 'Trip Number',\n",
       "       'ULD Number', 'Pickup Time', 'Dropoff Time', 'Total Trips'],\n",
       "      dtype='object')"
      ]
     },
     "execution_count": 73,
     "metadata": {},
     "output_type": "execute_result"
    }
   ],
   "source": [
    "dataBugagge.columns"
   ]
  },
  {
   "cell_type": "code",
   "execution_count": 251,
   "metadata": {},
   "outputs": [
    {
     "data": {
      "text/plain": [
       "0"
      ]
     },
     "execution_count": 251,
     "metadata": {},
     "output_type": "execute_result"
    }
   ],
   "source": [
    "dataBugagge['In-bound Time'].isnull().sum()"
   ]
  },
  {
   "cell_type": "code",
   "execution_count": 240,
   "metadata": {},
   "outputs": [],
   "source": [
    "# In-bound Time to string\n",
    "dataBugagge['In-bound Time']=dataBugagge['In-bound Time'].astype(str)"
   ]
  },
  {
   "cell_type": "code",
   "execution_count": 45,
   "metadata": {},
   "outputs": [
    {
     "data": {
      "text/plain": [
       "0    2022-09-01 00:21:00\n",
       "2    2022-09-01 00:21:00\n",
       "12   2022-09-01 00:38:00\n",
       "25   2022-09-01 00:40:00\n",
       "29   2022-09-01 03:55:00\n",
       "Name: In-bound Time, dtype: datetime64[ns]"
      ]
     },
     "execution_count": 45,
     "metadata": {},
     "output_type": "execute_result"
    }
   ],
   "source": [
    "dataBugagge['In-bound Time'].head()"
   ]
  },
  {
   "cell_type": "code",
   "execution_count": 242,
   "metadata": {},
   "outputs": [],
   "source": [
    "# remove last three characters\n",
    "dataBugagge['In-bound Time']=dataBugagge['In-bound Time'].str[:-3]"
   ]
  },
  {
   "cell_type": "code",
   "execution_count": 37,
   "metadata": {},
   "outputs": [],
   "source": [
    "# trim Flight No\n",
    "dataBugagge['Flight No']=dataBugagge['Flight No'].str.strip()"
   ]
  },
  {
   "cell_type": "code",
   "execution_count": 76,
   "metadata": {},
   "outputs": [
    {
     "data": {
      "text/html": [
       "<div>\n",
       "<style scoped>\n",
       "    .dataframe tbody tr th:only-of-type {\n",
       "        vertical-align: middle;\n",
       "    }\n",
       "\n",
       "    .dataframe tbody tr th {\n",
       "        vertical-align: top;\n",
       "    }\n",
       "\n",
       "    .dataframe thead th {\n",
       "        text-align: right;\n",
       "    }\n",
       "</style>\n",
       "<table border=\"1\" class=\"dataframe\">\n",
       "  <thead>\n",
       "    <tr style=\"text-align: right;\">\n",
       "      <th></th>\n",
       "      <th>Flight No</th>\n",
       "      <th>Flight Date</th>\n",
       "      <th>In-bound Time</th>\n",
       "      <th>Trip Number</th>\n",
       "      <th>ULD Number</th>\n",
       "      <th>Pickup Time</th>\n",
       "      <th>Dropoff Time</th>\n",
       "      <th>Total ULDS</th>\n",
       "      <th>Dropoff TimeN</th>\n",
       "    </tr>\n",
       "  </thead>\n",
       "  <tbody>\n",
       "    <tr>\n",
       "      <th>0</th>\n",
       "      <td>SQ208</td>\n",
       "      <td>2022-09-01</td>\n",
       "      <td>2022-09-01 00:21:00</td>\n",
       "      <td>1.0</td>\n",
       "      <td>AKE89138SQ</td>\n",
       "      <td>2022-09-01 00:33:15.220</td>\n",
       "      <td>2022-09-01 00:37:16.930</td>\n",
       "      <td>12.0</td>\n",
       "      <td>2022-09-01 00:48:19.477</td>\n",
       "    </tr>\n",
       "    <tr>\n",
       "      <th>12</th>\n",
       "      <td>SQ11</td>\n",
       "      <td>2022-09-01</td>\n",
       "      <td>2022-09-01 00:38:00</td>\n",
       "      <td>1.0</td>\n",
       "      <td>AKE70581SQ</td>\n",
       "      <td>NaT</td>\n",
       "      <td>NaT</td>\n",
       "      <td>13.0</td>\n",
       "      <td>NaT</td>\n",
       "    </tr>\n",
       "    <tr>\n",
       "      <th>25</th>\n",
       "      <td>SQ242</td>\n",
       "      <td>2022-09-01</td>\n",
       "      <td>2022-09-01 00:40:00</td>\n",
       "      <td>1.0</td>\n",
       "      <td>AKE80436SQ</td>\n",
       "      <td>2022-09-01 00:54:23.003</td>\n",
       "      <td>2022-09-01 00:55:44.893</td>\n",
       "      <td>4.0</td>\n",
       "      <td>2022-09-01 00:55:44.900</td>\n",
       "    </tr>\n",
       "    <tr>\n",
       "      <th>29</th>\n",
       "      <td>TR25</td>\n",
       "      <td>2022-09-01</td>\n",
       "      <td>2022-09-01 03:55:00</td>\n",
       "      <td>1.0</td>\n",
       "      <td>AKE84300SQ</td>\n",
       "      <td>2022-09-01 04:17:01.517</td>\n",
       "      <td>2022-09-01 04:22:18.260</td>\n",
       "      <td>11.0</td>\n",
       "      <td>2022-09-01 04:38:25.783</td>\n",
       "    </tr>\n",
       "    <tr>\n",
       "      <th>40</th>\n",
       "      <td>TR541</td>\n",
       "      <td>2022-09-01</td>\n",
       "      <td>2022-09-01 04:04:00</td>\n",
       "      <td>1.0</td>\n",
       "      <td>BT804</td>\n",
       "      <td>NaT</td>\n",
       "      <td>NaT</td>\n",
       "      <td>4.0</td>\n",
       "      <td>NaT</td>\n",
       "    </tr>\n",
       "  </tbody>\n",
       "</table>\n",
       "</div>"
      ],
      "text/plain": [
       "   Flight No Flight Date       In-bound Time  Trip Number  ULD Number  \\\n",
       "0      SQ208  2022-09-01 2022-09-01 00:21:00          1.0  AKE89138SQ   \n",
       "12      SQ11  2022-09-01 2022-09-01 00:38:00          1.0  AKE70581SQ   \n",
       "25     SQ242  2022-09-01 2022-09-01 00:40:00          1.0  AKE80436SQ   \n",
       "29      TR25  2022-09-01 2022-09-01 03:55:00          1.0  AKE84300SQ   \n",
       "40     TR541  2022-09-01 2022-09-01 04:04:00          1.0       BT804   \n",
       "\n",
       "               Pickup Time            Dropoff Time  Total ULDS  \\\n",
       "0  2022-09-01 00:33:15.220 2022-09-01 00:37:16.930        12.0   \n",
       "12                     NaT                     NaT        13.0   \n",
       "25 2022-09-01 00:54:23.003 2022-09-01 00:55:44.893         4.0   \n",
       "29 2022-09-01 04:17:01.517 2022-09-01 04:22:18.260        11.0   \n",
       "40                     NaT                     NaT         4.0   \n",
       "\n",
       "             Dropoff TimeN  \n",
       "0  2022-09-01 00:48:19.477  \n",
       "12                     NaT  \n",
       "25 2022-09-01 00:55:44.900  \n",
       "29 2022-09-01 04:38:25.783  \n",
       "40                     NaT  "
      ]
     },
     "execution_count": 76,
     "metadata": {},
     "output_type": "execute_result"
    }
   ],
   "source": [
    "dataBugagge.head()\n"
   ]
  },
  {
   "cell_type": "code",
   "execution_count": 77,
   "metadata": {},
   "outputs": [],
   "source": [
    "# save dataBugagge\n",
    "dataBugagge.to_excel('J:\\\\SATS\\\\Count_BUGAGGE.xlsx')"
   ]
  },
  {
   "cell_type": "code",
   "execution_count": 252,
   "metadata": {},
   "outputs": [],
   "source": [
    "# convrt to HH:MM\n",
    "dataBugagge['In-bound Time']=pd.to_datetime(dataBugagge['In-bound Time'], format='%Y-%m-%d %H:%M:%S').dt.strftime('%H:%M')"
   ]
  },
  {
   "cell_type": "code",
   "execution_count": 47,
   "metadata": {},
   "outputs": [
    {
     "data": {
      "text/html": [
       "<div>\n",
       "<style scoped>\n",
       "    .dataframe tbody tr th:only-of-type {\n",
       "        vertical-align: middle;\n",
       "    }\n",
       "\n",
       "    .dataframe tbody tr th {\n",
       "        vertical-align: top;\n",
       "    }\n",
       "\n",
       "    .dataframe thead th {\n",
       "        text-align: right;\n",
       "    }\n",
       "</style>\n",
       "<table border=\"1\" class=\"dataframe\">\n",
       "  <thead>\n",
       "    <tr style=\"text-align: right;\">\n",
       "      <th></th>\n",
       "      <th>Flight No</th>\n",
       "      <th>Flight Date</th>\n",
       "      <th>In-bound Time</th>\n",
       "      <th>Trip Number</th>\n",
       "      <th>ULD Number</th>\n",
       "      <th>Pickup Time</th>\n",
       "      <th>Dropoff Time</th>\n",
       "      <th>Total Trips</th>\n",
       "    </tr>\n",
       "  </thead>\n",
       "  <tbody>\n",
       "    <tr>\n",
       "      <th>73763</th>\n",
       "      <td>SQ105</td>\n",
       "      <td>2022-10-12</td>\n",
       "      <td>NaT</td>\n",
       "      <td>1.0</td>\n",
       "      <td>AKE84181SQ</td>\n",
       "      <td>2022-10-12 12:12:09.163</td>\n",
       "      <td>2022-10-12 12:13:25.653</td>\n",
       "      <td>5.0</td>\n",
       "    </tr>\n",
       "    <tr>\n",
       "      <th>73764</th>\n",
       "      <td>SQ224</td>\n",
       "      <td>2022-10-13</td>\n",
       "      <td>NaT</td>\n",
       "      <td>1.0</td>\n",
       "      <td>AKE86114SQ</td>\n",
       "      <td>2022-10-13 11:59:19.587</td>\n",
       "      <td>NaT</td>\n",
       "      <td>6.0</td>\n",
       "    </tr>\n",
       "    <tr>\n",
       "      <th>73767</th>\n",
       "      <td>TR391</td>\n",
       "      <td>2022-10-13</td>\n",
       "      <td>NaT</td>\n",
       "      <td>1.0</td>\n",
       "      <td>AKE11841TR</td>\n",
       "      <td>2022-10-13 23:37:47.297</td>\n",
       "      <td>2022-10-13 23:37:58.297</td>\n",
       "      <td>5.0</td>\n",
       "    </tr>\n",
       "    <tr>\n",
       "      <th>73768</th>\n",
       "      <td>SQ157</td>\n",
       "      <td>2022-10-13</td>\n",
       "      <td>NaT</td>\n",
       "      <td>1.0</td>\n",
       "      <td>BTBULK</td>\n",
       "      <td>NaT</td>\n",
       "      <td>NaT</td>\n",
       "      <td>5.0</td>\n",
       "    </tr>\n",
       "    <tr>\n",
       "      <th>73817</th>\n",
       "      <td>_x001A_</td>\n",
       "      <td>NaT</td>\n",
       "      <td>NaT</td>\n",
       "      <td>NaN</td>\n",
       "      <td>NaN</td>\n",
       "      <td>NaT</td>\n",
       "      <td>NaT</td>\n",
       "      <td>NaN</td>\n",
       "    </tr>\n",
       "  </tbody>\n",
       "</table>\n",
       "</div>"
      ],
      "text/plain": [
       "      Flight No Flight Date In-bound Time  Trip Number  ULD Number  \\\n",
       "73763     SQ105  2022-10-12           NaT          1.0  AKE84181SQ   \n",
       "73764     SQ224  2022-10-13           NaT          1.0  AKE86114SQ   \n",
       "73767     TR391  2022-10-13           NaT          1.0  AKE11841TR   \n",
       "73768     SQ157  2022-10-13           NaT          1.0      BTBULK   \n",
       "73817   _x001A_         NaT           NaT          NaN         NaN   \n",
       "\n",
       "                  Pickup Time            Dropoff Time  Total Trips  \n",
       "73763 2022-10-12 12:12:09.163 2022-10-12 12:13:25.653          5.0  \n",
       "73764 2022-10-13 11:59:19.587                     NaT          6.0  \n",
       "73767 2022-10-13 23:37:47.297 2022-10-13 23:37:58.297          5.0  \n",
       "73768                     NaT                     NaT          5.0  \n",
       "73817                     NaT                     NaT          NaN  "
      ]
     },
     "execution_count": 47,
     "metadata": {},
     "output_type": "execute_result"
    }
   ],
   "source": [
    "dataBugagge.tail()"
   ]
  },
  {
   "cell_type": "code",
   "execution_count": 243,
   "metadata": {},
   "outputs": [],
   "source": [
    "# remove first two characters\n",
    "# dataBugagge['In-bound Time']=dataBugagge['In-bound Time'].str[11:]"
   ]
  },
  {
   "cell_type": "code",
   "execution_count": null,
   "metadata": {},
   "outputs": [],
   "source": []
  },
  {
   "cell_type": "code",
   "execution_count": 304,
   "metadata": {},
   "outputs": [
    {
     "data": {
      "text/plain": [
       "0     00:21\n",
       "2     00:21\n",
       "12    00:38\n",
       "25    00:40\n",
       "29    03:55\n",
       "Name: In-bound Time, dtype: object"
      ]
     },
     "execution_count": 304,
     "metadata": {},
     "output_type": "execute_result"
    }
   ],
   "source": [
    "dataBugagge['In-bound Time'].head()"
   ]
  },
  {
   "cell_type": "code",
   "execution_count": 245,
   "metadata": {},
   "outputs": [
    {
     "data": {
      "text/plain": [
       "73813    \n",
       "73814    \n",
       "73815    \n",
       "73816    \n",
       "73817    \n",
       "Name: In-bound Time, dtype: object"
      ]
     },
     "execution_count": 245,
     "metadata": {},
     "output_type": "execute_result"
    }
   ],
   "source": [
    "# dataBugagge['In-bound Time'].tail()"
   ]
  },
  {
   "cell_type": "code",
   "execution_count": 215,
   "metadata": {},
   "outputs": [],
   "source": [
    "# convert to HH:MM\n",
    "# drop all null values\n",
    "# dataBugagge.dropna(subset=['In-bound Time'],inplace=True)\n",
    "\n",
    "\n",
    "\n",
    "# dataBugagge['In-bound Time']=pd.to_datetime(dataBugagge['In-bound Time'], format='%H:%M').dt.strftime('%H:%M')"
   ]
  },
  {
   "cell_type": "code",
   "execution_count": 216,
   "metadata": {},
   "outputs": [
    {
     "ename": "ValueError",
     "evalue": "time data '' does not match format '%H:%M' (match)",
     "output_type": "error",
     "traceback": [
      "\u001b[1;31m---------------------------------------------------------------------------\u001b[0m",
      "\u001b[1;31mValueError\u001b[0m                                Traceback (most recent call last)",
      "Cell \u001b[1;32mIn [216], line 1\u001b[0m\n\u001b[1;32m----> 1\u001b[0m dataBugagge[\u001b[39m'\u001b[39m\u001b[39mIn-bound Time\u001b[39m\u001b[39m'\u001b[39m]\u001b[39m=\u001b[39mpd\u001b[39m.\u001b[39mto_datetime(dataBugagge[\u001b[39m'\u001b[39m\u001b[39mIn-bound Time\u001b[39m\u001b[39m'\u001b[39m], \u001b[39mformat\u001b[39m\u001b[39m=\u001b[39m\u001b[39m'\u001b[39m\u001b[39m%\u001b[39m\u001b[39mH:\u001b[39m\u001b[39m%\u001b[39m\u001b[39mM\u001b[39m\u001b[39m'\u001b[39m)\u001b[39m.\u001b[39mdt\u001b[39m.\u001b[39mstrftime(\u001b[39m'\u001b[39m\u001b[39m%\u001b[39m\u001b[39mH:\u001b[39m\u001b[39m%\u001b[39m\u001b[39mM\u001b[39m\u001b[39m'\u001b[39m)\n",
      "File \u001b[1;32mc:\\Users\\pc\\AppData\\Local\\Programs\\Python\\Python310\\lib\\site-packages\\pandas\\core\\tools\\datetimes.py:1065\u001b[0m, in \u001b[0;36mto_datetime\u001b[1;34m(arg, errors, dayfirst, yearfirst, utc, format, exact, unit, infer_datetime_format, origin, cache)\u001b[0m\n\u001b[0;32m   1063\u001b[0m             result \u001b[39m=\u001b[39m arg\u001b[39m.\u001b[39mtz_localize(tz)\n\u001b[0;32m   1064\u001b[0m \u001b[39melif\u001b[39;00m \u001b[39misinstance\u001b[39m(arg, ABCSeries):\n\u001b[1;32m-> 1065\u001b[0m     cache_array \u001b[39m=\u001b[39m _maybe_cache(arg, \u001b[39mformat\u001b[39;49m, cache, convert_listlike)\n\u001b[0;32m   1066\u001b[0m     \u001b[39mif\u001b[39;00m \u001b[39mnot\u001b[39;00m cache_array\u001b[39m.\u001b[39mempty:\n\u001b[0;32m   1067\u001b[0m         result \u001b[39m=\u001b[39m arg\u001b[39m.\u001b[39mmap(cache_array)\n",
      "File \u001b[1;32mc:\\Users\\pc\\AppData\\Local\\Programs\\Python\\Python310\\lib\\site-packages\\pandas\\core\\tools\\datetimes.py:230\u001b[0m, in \u001b[0;36m_maybe_cache\u001b[1;34m(arg, format, cache, convert_listlike)\u001b[0m\n\u001b[0;32m    228\u001b[0m unique_dates \u001b[39m=\u001b[39m unique(arg)\n\u001b[0;32m    229\u001b[0m \u001b[39mif\u001b[39;00m \u001b[39mlen\u001b[39m(unique_dates) \u001b[39m<\u001b[39m \u001b[39mlen\u001b[39m(arg):\n\u001b[1;32m--> 230\u001b[0m     cache_dates \u001b[39m=\u001b[39m convert_listlike(unique_dates, \u001b[39mformat\u001b[39;49m)\n\u001b[0;32m    231\u001b[0m     \u001b[39m# GH#45319\u001b[39;00m\n\u001b[0;32m    232\u001b[0m     \u001b[39mtry\u001b[39;00m:\n",
      "File \u001b[1;32mc:\\Users\\pc\\AppData\\Local\\Programs\\Python\\Python310\\lib\\site-packages\\pandas\\core\\tools\\datetimes.py:431\u001b[0m, in \u001b[0;36m_convert_listlike_datetimes\u001b[1;34m(arg, format, name, tz, unit, errors, infer_datetime_format, dayfirst, yearfirst, exact)\u001b[0m\n\u001b[0;32m    428\u001b[0m         \u001b[39mformat\u001b[39m \u001b[39m=\u001b[39m \u001b[39mNone\u001b[39;00m\n\u001b[0;32m    430\u001b[0m \u001b[39mif\u001b[39;00m \u001b[39mformat\u001b[39m \u001b[39mis\u001b[39;00m \u001b[39mnot\u001b[39;00m \u001b[39mNone\u001b[39;00m:\n\u001b[1;32m--> 431\u001b[0m     res \u001b[39m=\u001b[39m _to_datetime_with_format(\n\u001b[0;32m    432\u001b[0m         arg, orig_arg, name, tz, \u001b[39mformat\u001b[39;49m, exact, errors, infer_datetime_format\n\u001b[0;32m    433\u001b[0m     )\n\u001b[0;32m    434\u001b[0m     \u001b[39mif\u001b[39;00m res \u001b[39mis\u001b[39;00m \u001b[39mnot\u001b[39;00m \u001b[39mNone\u001b[39;00m:\n\u001b[0;32m    435\u001b[0m         \u001b[39mreturn\u001b[39;00m res\n",
      "File \u001b[1;32mc:\\Users\\pc\\AppData\\Local\\Programs\\Python\\Python310\\lib\\site-packages\\pandas\\core\\tools\\datetimes.py:539\u001b[0m, in \u001b[0;36m_to_datetime_with_format\u001b[1;34m(arg, orig_arg, name, tz, fmt, exact, errors, infer_datetime_format)\u001b[0m\n\u001b[0;32m    536\u001b[0m         \u001b[39mreturn\u001b[39;00m _box_as_indexlike(result, utc\u001b[39m=\u001b[39mutc, name\u001b[39m=\u001b[39mname)\n\u001b[0;32m    538\u001b[0m \u001b[39m# fallback\u001b[39;00m\n\u001b[1;32m--> 539\u001b[0m res \u001b[39m=\u001b[39m _array_strptime_with_fallback(\n\u001b[0;32m    540\u001b[0m     arg, name, tz, fmt, exact, errors, infer_datetime_format\n\u001b[0;32m    541\u001b[0m )\n\u001b[0;32m    542\u001b[0m \u001b[39mreturn\u001b[39;00m res\n",
      "File \u001b[1;32mc:\\Users\\pc\\AppData\\Local\\Programs\\Python\\Python310\\lib\\site-packages\\pandas\\core\\tools\\datetimes.py:474\u001b[0m, in \u001b[0;36m_array_strptime_with_fallback\u001b[1;34m(arg, name, tz, fmt, exact, errors, infer_datetime_format)\u001b[0m\n\u001b[0;32m    471\u001b[0m utc \u001b[39m=\u001b[39m tz \u001b[39m==\u001b[39m \u001b[39m\"\u001b[39m\u001b[39mutc\u001b[39m\u001b[39m\"\u001b[39m\n\u001b[0;32m    473\u001b[0m \u001b[39mtry\u001b[39;00m:\n\u001b[1;32m--> 474\u001b[0m     result, timezones \u001b[39m=\u001b[39m array_strptime(arg, fmt, exact\u001b[39m=\u001b[39;49mexact, errors\u001b[39m=\u001b[39;49merrors)\n\u001b[0;32m    475\u001b[0m \u001b[39mexcept\u001b[39;00m OutOfBoundsDatetime:\n\u001b[0;32m    476\u001b[0m     \u001b[39mif\u001b[39;00m errors \u001b[39m==\u001b[39m \u001b[39m\"\u001b[39m\u001b[39mraise\u001b[39m\u001b[39m\"\u001b[39m:\n",
      "File \u001b[1;32mc:\\Users\\pc\\AppData\\Local\\Programs\\Python\\Python310\\lib\\site-packages\\pandas\\_libs\\tslibs\\strptime.pyx:150\u001b[0m, in \u001b[0;36mpandas._libs.tslibs.strptime.array_strptime\u001b[1;34m()\u001b[0m\n",
      "\u001b[1;31mValueError\u001b[0m: time data '' does not match format '%H:%M' (match)"
     ]
    }
   ],
   "source": [
    "# dataBugagge['In-bound Time']=pd.to_datetime(dataBugagge['In-bound Time'], format='%H:%M').dt.strftime('%H:%M')"
   ]
  },
  {
   "cell_type": "code",
   "execution_count": 197,
   "metadata": {},
   "outputs": [],
   "source": [
    "# convrt to HH:MM\n",
    "# dataBugagge['In-bound Time']=pd.to_datetime(dataBugagge['In-bound Time'], format='%Y-%m-%d %H:%M:%S').dt.strftime('%H:%M')"
   ]
  },
  {
   "cell_type": "code",
   "execution_count": 194,
   "metadata": {},
   "outputs": [],
   "source": [
    "# dataBugagge['In-bound Time']=dataBugagge['In-bound Time'].astype(str)"
   ]
  },
  {
   "cell_type": "code",
   "execution_count": 198,
   "metadata": {},
   "outputs": [
    {
     "data": {
      "text/plain": [
       "0    00:21\n",
       "1    00:21\n",
       "2    00:21\n",
       "3    00:21\n",
       "4    00:21\n",
       "Name: In-bound Time, dtype: object"
      ]
     },
     "execution_count": 198,
     "metadata": {},
     "output_type": "execute_result"
    }
   ],
   "source": [
    "# dataBugagge['In-bound Time'].head()"
   ]
  },
  {
   "cell_type": "code",
   "execution_count": 76,
   "metadata": {},
   "outputs": [],
   "source": [
    "# dataBugagge['In-bound Time']=dataBugagge['In-bound Time'].str.split(' ').str[1]"
   ]
  },
  {
   "cell_type": "code",
   "execution_count": 77,
   "metadata": {},
   "outputs": [
    {
     "data": {
      "text/plain": [
       "0    00:21:00\n",
       "1    00:21:00\n",
       "2    00:21:00\n",
       "3    00:21:00\n",
       "4    00:21:00\n",
       "Name: In-bound Time, dtype: object"
      ]
     },
     "execution_count": 77,
     "metadata": {},
     "output_type": "execute_result"
    }
   ],
   "source": [
    "# dataBugagge['In-bound Time'].head()"
   ]
  },
  {
   "cell_type": "code",
   "execution_count": 78,
   "metadata": {},
   "outputs": [],
   "source": [
    "# dataBugagge['In-bound Time']=dataBugagge['In-bound Time'][3:]\n",
    "# remove first 3 characters\n",
    "# dataBugagge['In-bound Time']=dataBugagge['In-bound Time'].str[3:]"
   ]
  },
  {
   "cell_type": "code",
   "execution_count": 305,
   "metadata": {},
   "outputs": [
    {
     "data": {
      "text/html": [
       "<div>\n",
       "<style scoped>\n",
       "    .dataframe tbody tr th:only-of-type {\n",
       "        vertical-align: middle;\n",
       "    }\n",
       "\n",
       "    .dataframe tbody tr th {\n",
       "        vertical-align: top;\n",
       "    }\n",
       "\n",
       "    .dataframe thead th {\n",
       "        text-align: right;\n",
       "    }\n",
       "</style>\n",
       "<table border=\"1\" class=\"dataframe\">\n",
       "  <thead>\n",
       "    <tr style=\"text-align: right;\">\n",
       "      <th></th>\n",
       "      <th>Flight No</th>\n",
       "      <th>Flight Date</th>\n",
       "      <th>In-bound Time</th>\n",
       "      <th>Trip Number</th>\n",
       "      <th>ULD Number</th>\n",
       "      <th>Pickup Time</th>\n",
       "      <th>Dropoff Time</th>\n",
       "    </tr>\n",
       "  </thead>\n",
       "  <tbody>\n",
       "    <tr>\n",
       "      <th>0</th>\n",
       "      <td>SQ208</td>\n",
       "      <td>2022-09-01</td>\n",
       "      <td>00:21</td>\n",
       "      <td>1.0</td>\n",
       "      <td>AKE89138SQ</td>\n",
       "      <td>2022-09-01 00:33:15.220</td>\n",
       "      <td>2022-09-01 00:37:16.930</td>\n",
       "    </tr>\n",
       "    <tr>\n",
       "      <th>2</th>\n",
       "      <td>﻿SQ208</td>\n",
       "      <td>2022-09-01</td>\n",
       "      <td>00:21</td>\n",
       "      <td>2.0</td>\n",
       "      <td>AKE28054SQ</td>\n",
       "      <td>2022-09-01 00:33:15.220</td>\n",
       "      <td>2022-09-01 00:37:16.933</td>\n",
       "    </tr>\n",
       "    <tr>\n",
       "      <th>12</th>\n",
       "      <td>SQ11</td>\n",
       "      <td>2022-09-01</td>\n",
       "      <td>00:38</td>\n",
       "      <td>1.0</td>\n",
       "      <td>AKE70581SQ</td>\n",
       "      <td>NaT</td>\n",
       "      <td>NaT</td>\n",
       "    </tr>\n",
       "    <tr>\n",
       "      <th>25</th>\n",
       "      <td>SQ242</td>\n",
       "      <td>2022-09-01</td>\n",
       "      <td>00:40</td>\n",
       "      <td>1.0</td>\n",
       "      <td>AKE80436SQ</td>\n",
       "      <td>2022-09-01 00:54:23.003</td>\n",
       "      <td>2022-09-01 00:55:44.893</td>\n",
       "    </tr>\n",
       "    <tr>\n",
       "      <th>29</th>\n",
       "      <td>TR25</td>\n",
       "      <td>2022-09-01</td>\n",
       "      <td>03:55</td>\n",
       "      <td>1.0</td>\n",
       "      <td>AKE84300SQ</td>\n",
       "      <td>2022-09-01 04:17:01.517</td>\n",
       "      <td>2022-09-01 04:22:18.260</td>\n",
       "    </tr>\n",
       "  </tbody>\n",
       "</table>\n",
       "</div>"
      ],
      "text/plain": [
       "   Flight No Flight Date In-bound Time  Trip Number  ULD Number  \\\n",
       "0      SQ208  2022-09-01         00:21          1.0  AKE89138SQ   \n",
       "2     ﻿SQ208  2022-09-01         00:21          2.0  AKE28054SQ   \n",
       "12      SQ11  2022-09-01         00:38          1.0  AKE70581SQ   \n",
       "25     SQ242  2022-09-01         00:40          1.0  AKE80436SQ   \n",
       "29      TR25  2022-09-01         03:55          1.0  AKE84300SQ   \n",
       "\n",
       "               Pickup Time            Dropoff Time  \n",
       "0  2022-09-01 00:33:15.220 2022-09-01 00:37:16.930  \n",
       "2  2022-09-01 00:33:15.220 2022-09-01 00:37:16.933  \n",
       "12                     NaT                     NaT  \n",
       "25 2022-09-01 00:54:23.003 2022-09-01 00:55:44.893  \n",
       "29 2022-09-01 04:17:01.517 2022-09-01 04:22:18.260  "
      ]
     },
     "execution_count": 305,
     "metadata": {},
     "output_type": "execute_result"
    }
   ],
   "source": [
    "dataBugagge.head()"
   ]
  },
  {
   "cell_type": "code",
   "execution_count": 81,
   "metadata": {},
   "outputs": [],
   "source": [
    "# dataBugagge['In-bound Time']=dataBugagge['In-bound Time'].str.replace(',',':')\n",
    "# remove all the duplicates Flight No, Flight Date and In-bound Time all togather and keep the first one but Dropp-of-Time keep the last one:\n",
    "dataBugagge.drop_duplicates(subset=['Flight No','Flight Date','In-bound Time'],keep='first',inplace=True)\n",
    "dataBugagge.drop_duplicates(subset=['Flight No','Flight Date','In-bound Time'],keep='first',inplace=True)"
   ]
  },
  {
   "attachments": {},
   "cell_type": "markdown",
   "metadata": {},
   "source": [
    "# Handing drop of column"
   ]
  },
  {
   "cell_type": "code",
   "execution_count": 3,
   "metadata": {},
   "outputs": [
    {
     "ename": "NameError",
     "evalue": "name 'dataBugagge' is not defined",
     "output_type": "error",
     "traceback": [
      "\u001b[1;31m---------------------------------------------------------------------------\u001b[0m",
      "\u001b[1;31mNameError\u001b[0m                                 Traceback (most recent call last)",
      "Cell \u001b[1;32mIn [3], line 1\u001b[0m\n\u001b[1;32m----> 1\u001b[0m dataBugagge\u001b[39m.\u001b[39mcolumns\n",
      "\u001b[1;31mNameError\u001b[0m: name 'dataBugagge' is not defined"
     ]
    }
   ],
   "source": [
    "dataBugagge.columns"
   ]
  },
  {
   "cell_type": "code",
   "execution_count": 82,
   "metadata": {},
   "outputs": [
    {
     "data": {
      "text/plain": [
       "<bound method NDFrame.head of       Flight No Flight Date In-bound Time  Trip Number  ULD Number  \\\n",
       "0         SQ208  2022-09-01         21:00          1.0  AKE89138SQ   \n",
       "2        ﻿SQ208  2022-09-01         21:00          2.0  AKE28054SQ   \n",
       "12         SQ11  2022-09-01         38:00          1.0  AKE70581SQ   \n",
       "25        SQ242  2022-09-01         40:00          1.0  AKE80436SQ   \n",
       "29         TR25  2022-09-01         55:00          1.0  AKE84300SQ   \n",
       "...         ...         ...           ...          ...         ...   \n",
       "73763     SQ105  2022-10-12           NaN          1.0  AKE84181SQ   \n",
       "73764     SQ224  2022-10-13           NaN          1.0  AKE86114SQ   \n",
       "73767     TR391  2022-10-13           NaN          1.0  AKE11841TR   \n",
       "73768     SQ157  2022-10-13           NaN          1.0      BTBULK   \n",
       "73817   _x001A_         NaT           NaN          NaN         NaN   \n",
       "\n",
       "                  Pickup Time            Dropoff Time  \n",
       "0     2022-09-01 00:33:15.220 2022-09-01 00:37:16.930  \n",
       "2     2022-09-01 00:33:15.220 2022-09-01 00:37:16.933  \n",
       "12                        NaT                     NaT  \n",
       "25    2022-09-01 00:54:23.003 2022-09-01 00:55:44.893  \n",
       "29    2022-09-01 04:17:01.517 2022-09-01 04:22:18.260  \n",
       "...                       ...                     ...  \n",
       "73763 2022-10-12 12:12:09.163 2022-10-12 12:13:25.653  \n",
       "73764 2022-10-13 11:59:19.587                     NaT  \n",
       "73767 2022-10-13 23:37:47.297 2022-10-13 23:37:58.297  \n",
       "73768                     NaT                     NaT  \n",
       "73817                     NaT                     NaT  \n",
       "\n",
       "[8011 rows x 7 columns]>"
      ]
     },
     "execution_count": 82,
     "metadata": {},
     "output_type": "execute_result"
    }
   ],
   "source": [
    "dataBugagge.head"
   ]
  },
  {
   "cell_type": "code",
   "execution_count": 109,
   "metadata": {},
   "outputs": [
    {
     "data": {
      "text/html": [
       "<div>\n",
       "<style scoped>\n",
       "    .dataframe tbody tr th:only-of-type {\n",
       "        vertical-align: middle;\n",
       "    }\n",
       "\n",
       "    .dataframe tbody tr th {\n",
       "        vertical-align: top;\n",
       "    }\n",
       "\n",
       "    .dataframe thead th {\n",
       "        text-align: right;\n",
       "    }\n",
       "</style>\n",
       "<table border=\"1\" class=\"dataframe\">\n",
       "  <thead>\n",
       "    <tr style=\"text-align: right;\">\n",
       "      <th></th>\n",
       "      <th>Flight No</th>\n",
       "      <th>Flight Date</th>\n",
       "      <th>In-bound Time</th>\n",
       "      <th>Trip Number</th>\n",
       "      <th>ULD Number</th>\n",
       "      <th>Pickup Time</th>\n",
       "      <th>Dropoff Time</th>\n",
       "    </tr>\n",
       "  </thead>\n",
       "  <tbody>\n",
       "    <tr>\n",
       "      <th>0</th>\n",
       "      <td>SQ208</td>\n",
       "      <td>2022-09-01</td>\n",
       "      <td>2022-09-01 00:21:00</td>\n",
       "      <td>1.0</td>\n",
       "      <td>AKE89138SQ</td>\n",
       "      <td>2022-09-01 00:33:15.220</td>\n",
       "      <td>2022-09-01 00:37:16.930</td>\n",
       "    </tr>\n",
       "    <tr>\n",
       "      <th>1</th>\n",
       "      <td>SQ208</td>\n",
       "      <td>2022-09-01</td>\n",
       "      <td>2022-09-01 00:21:00</td>\n",
       "      <td>1.0</td>\n",
       "      <td>AKE29231SQ</td>\n",
       "      <td>2022-09-01 00:33:15.217</td>\n",
       "      <td>2022-09-01 00:37:16.930</td>\n",
       "    </tr>\n",
       "    <tr>\n",
       "      <th>2</th>\n",
       "      <td>﻿SQ208</td>\n",
       "      <td>2022-09-01</td>\n",
       "      <td>2022-09-01 00:21:00</td>\n",
       "      <td>2.0</td>\n",
       "      <td>AKE28054SQ</td>\n",
       "      <td>2022-09-01 00:33:15.220</td>\n",
       "      <td>2022-09-01 00:37:16.933</td>\n",
       "    </tr>\n",
       "    <tr>\n",
       "      <th>3</th>\n",
       "      <td>SQ208</td>\n",
       "      <td>2022-09-01</td>\n",
       "      <td>2022-09-01 00:21:00</td>\n",
       "      <td>2.0</td>\n",
       "      <td>AKE87419SQ</td>\n",
       "      <td>2022-09-01 00:33:15.220</td>\n",
       "      <td>2022-09-01 00:37:16.933</td>\n",
       "    </tr>\n",
       "    <tr>\n",
       "      <th>4</th>\n",
       "      <td>SQ208</td>\n",
       "      <td>2022-09-01</td>\n",
       "      <td>2022-09-01 00:21:00</td>\n",
       "      <td>2.0</td>\n",
       "      <td>AKE80186SQ</td>\n",
       "      <td>2022-09-01 00:33:15.220</td>\n",
       "      <td>2022-09-01 00:37:16.933</td>\n",
       "    </tr>\n",
       "  </tbody>\n",
       "</table>\n",
       "</div>"
      ],
      "text/plain": [
       "  Flight No Flight Date       In-bound Time  Trip Number  ULD Number  \\\n",
       "0     SQ208  2022-09-01 2022-09-01 00:21:00          1.0  AKE89138SQ   \n",
       "1     SQ208  2022-09-01 2022-09-01 00:21:00          1.0  AKE29231SQ   \n",
       "2    ﻿SQ208  2022-09-01 2022-09-01 00:21:00          2.0  AKE28054SQ   \n",
       "3     SQ208  2022-09-01 2022-09-01 00:21:00          2.0  AKE87419SQ   \n",
       "4     SQ208  2022-09-01 2022-09-01 00:21:00          2.0  AKE80186SQ   \n",
       "\n",
       "              Pickup Time            Dropoff Time  \n",
       "0 2022-09-01 00:33:15.220 2022-09-01 00:37:16.930  \n",
       "1 2022-09-01 00:33:15.217 2022-09-01 00:37:16.930  \n",
       "2 2022-09-01 00:33:15.220 2022-09-01 00:37:16.933  \n",
       "3 2022-09-01 00:33:15.220 2022-09-01 00:37:16.933  \n",
       "4 2022-09-01 00:33:15.220 2022-09-01 00:37:16.933  "
      ]
     },
     "execution_count": 109,
     "metadata": {},
     "output_type": "execute_result"
    }
   ],
   "source": [
    "dataBugagge.head()"
   ]
  },
  {
   "cell_type": "code",
   "execution_count": 110,
   "metadata": {},
   "outputs": [
    {
     "data": {
      "text/html": [
       "<div>\n",
       "<style scoped>\n",
       "    .dataframe tbody tr th:only-of-type {\n",
       "        vertical-align: middle;\n",
       "    }\n",
       "\n",
       "    .dataframe tbody tr th {\n",
       "        vertical-align: top;\n",
       "    }\n",
       "\n",
       "    .dataframe thead th {\n",
       "        text-align: right;\n",
       "    }\n",
       "</style>\n",
       "<table border=\"1\" class=\"dataframe\">\n",
       "  <thead>\n",
       "    <tr style=\"text-align: right;\">\n",
       "      <th></th>\n",
       "      <th>Unnamed: 0</th>\n",
       "      <th>Flight Date</th>\n",
       "      <th>Orientation</th>\n",
       "      <th>Flight</th>\n",
       "      <th>ST</th>\n",
       "      <th>ET</th>\n",
       "      <th>RLO</th>\n",
       "      <th>RSM</th>\n",
       "      <th>EO</th>\n",
       "      <th>AA</th>\n",
       "      <th>staff</th>\n",
       "    </tr>\n",
       "  </thead>\n",
       "  <tbody>\n",
       "    <tr>\n",
       "      <th>2</th>\n",
       "      <td>2</td>\n",
       "      <td>2022-09-01</td>\n",
       "      <td>Arrival</td>\n",
       "      <td>SQ 208</td>\n",
       "      <td>15</td>\n",
       "      <td>21.0</td>\n",
       "      <td>1</td>\n",
       "      <td>4</td>\n",
       "      <td>1</td>\n",
       "      <td>2</td>\n",
       "      <td>8</td>\n",
       "    </tr>\n",
       "    <tr>\n",
       "      <th>4</th>\n",
       "      <td>4</td>\n",
       "      <td>2022-09-01</td>\n",
       "      <td>Arrival</td>\n",
       "      <td>SQ 242</td>\n",
       "      <td>20</td>\n",
       "      <td>40.0</td>\n",
       "      <td>1</td>\n",
       "      <td>3</td>\n",
       "      <td>1</td>\n",
       "      <td>1</td>\n",
       "      <td>6</td>\n",
       "    </tr>\n",
       "    <tr>\n",
       "      <th>11</th>\n",
       "      <td>11</td>\n",
       "      <td>2022-09-01</td>\n",
       "      <td>Arrival</td>\n",
       "      <td>SQ 11</td>\n",
       "      <td>115</td>\n",
       "      <td>38.0</td>\n",
       "      <td>1</td>\n",
       "      <td>3</td>\n",
       "      <td>1</td>\n",
       "      <td>2</td>\n",
       "      <td>7</td>\n",
       "    </tr>\n",
       "    <tr>\n",
       "      <th>22</th>\n",
       "      <td>22</td>\n",
       "      <td>2022-09-01</td>\n",
       "      <td>Arrival</td>\n",
       "      <td>TR 25</td>\n",
       "      <td>355</td>\n",
       "      <td>355.0</td>\n",
       "      <td>1</td>\n",
       "      <td>3</td>\n",
       "      <td>1</td>\n",
       "      <td>1</td>\n",
       "      <td>6</td>\n",
       "    </tr>\n",
       "    <tr>\n",
       "      <th>23</th>\n",
       "      <td>23</td>\n",
       "      <td>2022-09-01</td>\n",
       "      <td>Arrival</td>\n",
       "      <td>TR 509</td>\n",
       "      <td>405</td>\n",
       "      <td>510.0</td>\n",
       "      <td>1</td>\n",
       "      <td>3</td>\n",
       "      <td>1</td>\n",
       "      <td>2</td>\n",
       "      <td>7</td>\n",
       "    </tr>\n",
       "  </tbody>\n",
       "</table>\n",
       "</div>"
      ],
      "text/plain": [
       "    Unnamed: 0 Flight Date Orientation  Flight   ST     ET  RLO   RSM  EO  AA  \\\n",
       "2            2  2022-09-01     Arrival  SQ 208   15   21.0     1    4   1   2   \n",
       "4            4  2022-09-01     Arrival  SQ 242   20   40.0     1    3   1   1   \n",
       "11          11  2022-09-01     Arrival   SQ 11  115   38.0     1    3   1   2   \n",
       "22          22  2022-09-01     Arrival   TR 25  355  355.0     1    3   1   1   \n",
       "23          23  2022-09-01     Arrival  TR 509  405  510.0     1    3   1   2   \n",
       "\n",
       "    staff  \n",
       "2       8  \n",
       "4       6  \n",
       "11      7  \n",
       "22      6  \n",
       "23      7  "
      ]
     },
     "execution_count": 110,
     "metadata": {},
     "output_type": "execute_result"
    }
   ],
   "source": [
    "dataStaff.head()"
   ]
  },
  {
   "cell_type": "code",
   "execution_count": 111,
   "metadata": {},
   "outputs": [
    {
     "data": {
      "text/html": [
       "<div>\n",
       "<style scoped>\n",
       "    .dataframe tbody tr th:only-of-type {\n",
       "        vertical-align: middle;\n",
       "    }\n",
       "\n",
       "    .dataframe tbody tr th {\n",
       "        vertical-align: top;\n",
       "    }\n",
       "\n",
       "    .dataframe thead th {\n",
       "        text-align: right;\n",
       "    }\n",
       "</style>\n",
       "<table border=\"1\" class=\"dataframe\">\n",
       "  <thead>\n",
       "    <tr style=\"text-align: right;\">\n",
       "      <th></th>\n",
       "      <th>Flight No</th>\n",
       "      <th>Flight Date</th>\n",
       "      <th>In-bound Time</th>\n",
       "      <th>Trip Number</th>\n",
       "      <th>ULD Number</th>\n",
       "      <th>Pickup Time</th>\n",
       "      <th>Dropoff Time</th>\n",
       "    </tr>\n",
       "  </thead>\n",
       "  <tbody>\n",
       "    <tr>\n",
       "      <th>0</th>\n",
       "      <td>SQ208</td>\n",
       "      <td>2022-09-01</td>\n",
       "      <td>2022-09-01 00:21:00</td>\n",
       "      <td>1.0</td>\n",
       "      <td>AKE89138SQ</td>\n",
       "      <td>2022-09-01 00:33:15.220</td>\n",
       "      <td>2022-09-01 00:37:16.930</td>\n",
       "    </tr>\n",
       "    <tr>\n",
       "      <th>1</th>\n",
       "      <td>SQ208</td>\n",
       "      <td>2022-09-01</td>\n",
       "      <td>2022-09-01 00:21:00</td>\n",
       "      <td>1.0</td>\n",
       "      <td>AKE29231SQ</td>\n",
       "      <td>2022-09-01 00:33:15.217</td>\n",
       "      <td>2022-09-01 00:37:16.930</td>\n",
       "    </tr>\n",
       "    <tr>\n",
       "      <th>2</th>\n",
       "      <td>﻿SQ208</td>\n",
       "      <td>2022-09-01</td>\n",
       "      <td>2022-09-01 00:21:00</td>\n",
       "      <td>2.0</td>\n",
       "      <td>AKE28054SQ</td>\n",
       "      <td>2022-09-01 00:33:15.220</td>\n",
       "      <td>2022-09-01 00:37:16.933</td>\n",
       "    </tr>\n",
       "    <tr>\n",
       "      <th>3</th>\n",
       "      <td>SQ208</td>\n",
       "      <td>2022-09-01</td>\n",
       "      <td>2022-09-01 00:21:00</td>\n",
       "      <td>2.0</td>\n",
       "      <td>AKE87419SQ</td>\n",
       "      <td>2022-09-01 00:33:15.220</td>\n",
       "      <td>2022-09-01 00:37:16.933</td>\n",
       "    </tr>\n",
       "    <tr>\n",
       "      <th>4</th>\n",
       "      <td>SQ208</td>\n",
       "      <td>2022-09-01</td>\n",
       "      <td>2022-09-01 00:21:00</td>\n",
       "      <td>2.0</td>\n",
       "      <td>AKE80186SQ</td>\n",
       "      <td>2022-09-01 00:33:15.220</td>\n",
       "      <td>2022-09-01 00:37:16.933</td>\n",
       "    </tr>\n",
       "  </tbody>\n",
       "</table>\n",
       "</div>"
      ],
      "text/plain": [
       "  Flight No Flight Date       In-bound Time  Trip Number  ULD Number  \\\n",
       "0     SQ208  2022-09-01 2022-09-01 00:21:00          1.0  AKE89138SQ   \n",
       "1     SQ208  2022-09-01 2022-09-01 00:21:00          1.0  AKE29231SQ   \n",
       "2    ﻿SQ208  2022-09-01 2022-09-01 00:21:00          2.0  AKE28054SQ   \n",
       "3     SQ208  2022-09-01 2022-09-01 00:21:00          2.0  AKE87419SQ   \n",
       "4     SQ208  2022-09-01 2022-09-01 00:21:00          2.0  AKE80186SQ   \n",
       "\n",
       "              Pickup Time            Dropoff Time  \n",
       "0 2022-09-01 00:33:15.220 2022-09-01 00:37:16.930  \n",
       "1 2022-09-01 00:33:15.217 2022-09-01 00:37:16.930  \n",
       "2 2022-09-01 00:33:15.220 2022-09-01 00:37:16.933  \n",
       "3 2022-09-01 00:33:15.220 2022-09-01 00:37:16.933  \n",
       "4 2022-09-01 00:33:15.220 2022-09-01 00:37:16.933  "
      ]
     },
     "execution_count": 111,
     "metadata": {},
     "output_type": "execute_result"
    }
   ],
   "source": [
    "dataBugagge.head()"
   ]
  },
  {
   "cell_type": "code",
   "execution_count": 112,
   "metadata": {},
   "outputs": [
    {
     "data": {
      "text/plain": [
       "Flight No                object\n",
       "Flight Date      datetime64[ns]\n",
       "In-bound Time    datetime64[ns]\n",
       "Trip Number             float64\n",
       "ULD Number               object\n",
       "Pickup Time      datetime64[ns]\n",
       "Dropoff Time     datetime64[ns]\n",
       "dtype: object"
      ]
     },
     "execution_count": 112,
     "metadata": {},
     "output_type": "execute_result"
    }
   ],
   "source": [
    "dataBugagge.dtypes"
   ]
  },
  {
   "cell_type": "code",
   "execution_count": 308,
   "metadata": {},
   "outputs": [
    {
     "name": "stdout",
     "output_type": "stream",
     "text": [
      "       Unnamed: 0 Flight Date Orientation Flight    ST  ET  RLO   RSM  EO  AA  \\\n",
      "0               0  2022-09-01   Departure  SQ225     5 NaT     1    3   1   2   \n",
      "1               1  2022-09-01   Departure  SQ608    10 NaT     1    3   0   2   \n",
      "2               2  2022-09-01     Arrival  SQ208    15 NaT     1    4   1   2   \n",
      "3               3  2022-09-01   Departure  SQ336    15 NaT     1    3   1   2   \n",
      "4               4  2022-09-01     Arrival  SQ242    20 NaT     1    3   1   1   \n",
      "...           ...         ...         ...    ...   ...  ..   ...  ...  ..  ..   \n",
      "20214       20214  2022-11-30   Departure  SQ378  2345 NaT     1    3   1   2   \n",
      "20215       20215  2022-11-30   Departure   SQ26  2355 NaT     1    3   1   2   \n",
      "20216       20216  2022-11-30   Departure  SQ324  2355 NaT     1    2   1   1   \n",
      "20217       20217  2022-11-30   Departure  SQ638  2355 NaT     1    3   1   1   \n",
      "20218       20218  2022-11-30     Arrival  SQ897  2355 NaT     1    1   1   1   \n",
      "\n",
      "       staff  \n",
      "0          7  \n",
      "1          6  \n",
      "2          8  \n",
      "3          7  \n",
      "4          6  \n",
      "...      ...  \n",
      "20214      7  \n",
      "20215      7  \n",
      "20216      5  \n",
      "20217      6  \n",
      "20218      4  \n",
      "\n",
      "[20219 rows x 11 columns]\n"
     ]
    }
   ],
   "source": [
    "dataStaff['ET'] = pd.to_datetime(dataStaff['ET'], format='%H:%M', errors='coerce')\n",
    "\n",
    "# check for NaT values\n",
    "print(dataStaff[pd.isna(dataStaff['ET'])])"
   ]
  },
  {
   "cell_type": "code",
   "execution_count": 311,
   "metadata": {},
   "outputs": [],
   "source": [
    "dataStaff['ET']=pd.to_datetime(dataStaff['ET'], format='%H:%M').dt.strftime('%H:%M')"
   ]
  },
  {
   "cell_type": "code",
   "execution_count": 113,
   "metadata": {},
   "outputs": [
    {
     "data": {
      "text/plain": [
       "Unnamed: 0              int64\n",
       "Flight Date    datetime64[ns]\n",
       "Orientation            object\n",
       "Flight                 object\n",
       "ST                      int64\n",
       "ET                    float64\n",
       "RLO                     int64\n",
       "RSM                     int64\n",
       "EO                      int64\n",
       "AA                      int64\n",
       "staff                   int64\n",
       "dtype: object"
      ]
     },
     "execution_count": 113,
     "metadata": {},
     "output_type": "execute_result"
    }
   ],
   "source": [
    "dataStaff.dtypes"
   ]
  },
  {
   "cell_type": "code",
   "execution_count": 313,
   "metadata": {},
   "outputs": [],
   "source": [
    "# datastagg Flight Date to pandas date YYYY-MM-DD:\n",
    "\n",
    "dataStaff['Flight Date']=pd.to_datetime(dataStaff['Flight Date'], format='%Y-%m-%d', errors='coerce')"
   ]
  },
  {
   "cell_type": "code",
   "execution_count": 314,
   "metadata": {},
   "outputs": [
    {
     "data": {
      "text/html": [
       "<div>\n",
       "<style scoped>\n",
       "    .dataframe tbody tr th:only-of-type {\n",
       "        vertical-align: middle;\n",
       "    }\n",
       "\n",
       "    .dataframe tbody tr th {\n",
       "        vertical-align: top;\n",
       "    }\n",
       "\n",
       "    .dataframe thead th {\n",
       "        text-align: right;\n",
       "    }\n",
       "</style>\n",
       "<table border=\"1\" class=\"dataframe\">\n",
       "  <thead>\n",
       "    <tr style=\"text-align: right;\">\n",
       "      <th></th>\n",
       "      <th>Unnamed: 0</th>\n",
       "      <th>Flight Date</th>\n",
       "      <th>Orientation</th>\n",
       "      <th>Flight</th>\n",
       "      <th>ST</th>\n",
       "      <th>ET</th>\n",
       "      <th>RLO</th>\n",
       "      <th>RSM</th>\n",
       "      <th>EO</th>\n",
       "      <th>AA</th>\n",
       "      <th>staff</th>\n",
       "    </tr>\n",
       "  </thead>\n",
       "  <tbody>\n",
       "    <tr>\n",
       "      <th>20214</th>\n",
       "      <td>20214</td>\n",
       "      <td>2022-11-30</td>\n",
       "      <td>Departure</td>\n",
       "      <td>SQ378</td>\n",
       "      <td>2345</td>\n",
       "      <td>NaN</td>\n",
       "      <td>1</td>\n",
       "      <td>3</td>\n",
       "      <td>1</td>\n",
       "      <td>2</td>\n",
       "      <td>7</td>\n",
       "    </tr>\n",
       "    <tr>\n",
       "      <th>20215</th>\n",
       "      <td>20215</td>\n",
       "      <td>2022-11-30</td>\n",
       "      <td>Departure</td>\n",
       "      <td>SQ26</td>\n",
       "      <td>2355</td>\n",
       "      <td>NaN</td>\n",
       "      <td>1</td>\n",
       "      <td>3</td>\n",
       "      <td>1</td>\n",
       "      <td>2</td>\n",
       "      <td>7</td>\n",
       "    </tr>\n",
       "    <tr>\n",
       "      <th>20216</th>\n",
       "      <td>20216</td>\n",
       "      <td>2022-11-30</td>\n",
       "      <td>Departure</td>\n",
       "      <td>SQ324</td>\n",
       "      <td>2355</td>\n",
       "      <td>NaN</td>\n",
       "      <td>1</td>\n",
       "      <td>2</td>\n",
       "      <td>1</td>\n",
       "      <td>1</td>\n",
       "      <td>5</td>\n",
       "    </tr>\n",
       "    <tr>\n",
       "      <th>20217</th>\n",
       "      <td>20217</td>\n",
       "      <td>2022-11-30</td>\n",
       "      <td>Departure</td>\n",
       "      <td>SQ638</td>\n",
       "      <td>2355</td>\n",
       "      <td>NaN</td>\n",
       "      <td>1</td>\n",
       "      <td>3</td>\n",
       "      <td>1</td>\n",
       "      <td>1</td>\n",
       "      <td>6</td>\n",
       "    </tr>\n",
       "    <tr>\n",
       "      <th>20218</th>\n",
       "      <td>20218</td>\n",
       "      <td>2022-11-30</td>\n",
       "      <td>Arrival</td>\n",
       "      <td>SQ897</td>\n",
       "      <td>2355</td>\n",
       "      <td>NaN</td>\n",
       "      <td>1</td>\n",
       "      <td>1</td>\n",
       "      <td>1</td>\n",
       "      <td>1</td>\n",
       "      <td>4</td>\n",
       "    </tr>\n",
       "  </tbody>\n",
       "</table>\n",
       "</div>"
      ],
      "text/plain": [
       "       Unnamed: 0 Flight Date Orientation Flight    ST   ET  RLO   RSM  EO  \\\n",
       "20214       20214  2022-11-30   Departure  SQ378  2345  NaN     1    3   1   \n",
       "20215       20215  2022-11-30   Departure   SQ26  2355  NaN     1    3   1   \n",
       "20216       20216  2022-11-30   Departure  SQ324  2355  NaN     1    2   1   \n",
       "20217       20217  2022-11-30   Departure  SQ638  2355  NaN     1    3   1   \n",
       "20218       20218  2022-11-30     Arrival  SQ897  2355  NaN     1    1   1   \n",
       "\n",
       "       AA  staff  \n",
       "20214   2      7  \n",
       "20215   2      7  \n",
       "20216   1      5  \n",
       "20217   1      6  \n",
       "20218   1      4  "
      ]
     },
     "execution_count": 314,
     "metadata": {},
     "output_type": "execute_result"
    }
   ],
   "source": [
    "dataStaff.tail()"
   ]
  },
  {
   "cell_type": "code",
   "execution_count": 54,
   "metadata": {},
   "outputs": [
    {
     "data": {
      "text/plain": [
       "Unnamed: 0              int64\n",
       "Flight Date    datetime64[ns]\n",
       "Orientation            object\n",
       "Flight                 object\n",
       "ST                      int64\n",
       "ET                    float64\n",
       "RLO                     int64\n",
       "RSM                     int64\n",
       "EO                      int64\n",
       "AA                      int64\n",
       "staff                   int64\n",
       "dtype: object"
      ]
     },
     "execution_count": 54,
     "metadata": {},
     "output_type": "execute_result"
    }
   ],
   "source": [
    "dataStaff.dtypes"
   ]
  },
  {
   "cell_type": "code",
   "execution_count": 315,
   "metadata": {},
   "outputs": [
    {
     "data": {
      "text/html": [
       "<div>\n",
       "<style scoped>\n",
       "    .dataframe tbody tr th:only-of-type {\n",
       "        vertical-align: middle;\n",
       "    }\n",
       "\n",
       "    .dataframe tbody tr th {\n",
       "        vertical-align: top;\n",
       "    }\n",
       "\n",
       "    .dataframe thead th {\n",
       "        text-align: right;\n",
       "    }\n",
       "</style>\n",
       "<table border=\"1\" class=\"dataframe\">\n",
       "  <thead>\n",
       "    <tr style=\"text-align: right;\">\n",
       "      <th></th>\n",
       "      <th>Flight No</th>\n",
       "      <th>Flight Date</th>\n",
       "      <th>In-bound Time</th>\n",
       "      <th>Trip Number</th>\n",
       "      <th>ULD Number</th>\n",
       "      <th>Pickup Time</th>\n",
       "      <th>Dropoff Time</th>\n",
       "    </tr>\n",
       "  </thead>\n",
       "  <tbody>\n",
       "    <tr>\n",
       "      <th>73726</th>\n",
       "      <td>TR493</td>\n",
       "      <td>2022-11-30</td>\n",
       "      <td>23:14</td>\n",
       "      <td>1.0</td>\n",
       "      <td>BT2163</td>\n",
       "      <td>NaT</td>\n",
       "      <td>NaT</td>\n",
       "    </tr>\n",
       "    <tr>\n",
       "      <th>73729</th>\n",
       "      <td>SQ185</td>\n",
       "      <td>2022-11-30</td>\n",
       "      <td>23:19</td>\n",
       "      <td>0.0</td>\n",
       "      <td>AKE28070SQ</td>\n",
       "      <td>NaT</td>\n",
       "      <td>2022-11-30 23:54:44.753</td>\n",
       "    </tr>\n",
       "    <tr>\n",
       "      <th>73734</th>\n",
       "      <td>SQ906</td>\n",
       "      <td>2022-11-30</td>\n",
       "      <td>23:27</td>\n",
       "      <td>1.0</td>\n",
       "      <td>BT1483</td>\n",
       "      <td>NaT</td>\n",
       "      <td>NaT</td>\n",
       "    </tr>\n",
       "    <tr>\n",
       "      <th>73737</th>\n",
       "      <td>TR617</td>\n",
       "      <td>2022-11-30</td>\n",
       "      <td>23:53</td>\n",
       "      <td>1.0</td>\n",
       "      <td>AKE83265SQ</td>\n",
       "      <td>2022-12-01 00:10:20.050</td>\n",
       "      <td>NaT</td>\n",
       "    </tr>\n",
       "    <tr>\n",
       "      <th>73739</th>\n",
       "      <td>SQ739</td>\n",
       "      <td>2022-11-30</td>\n",
       "      <td>00:11</td>\n",
       "      <td>1.0</td>\n",
       "      <td>BT1218</td>\n",
       "      <td>NaT</td>\n",
       "      <td>NaT</td>\n",
       "    </tr>\n",
       "  </tbody>\n",
       "</table>\n",
       "</div>"
      ],
      "text/plain": [
       "      Flight No Flight Date In-bound Time  Trip Number  ULD Number  \\\n",
       "73726     TR493  2022-11-30         23:14          1.0      BT2163   \n",
       "73729     SQ185  2022-11-30         23:19          0.0  AKE28070SQ   \n",
       "73734     SQ906  2022-11-30         23:27          1.0      BT1483   \n",
       "73737     TR617  2022-11-30         23:53          1.0  AKE83265SQ   \n",
       "73739     SQ739  2022-11-30         00:11          1.0      BT1218   \n",
       "\n",
       "                  Pickup Time            Dropoff Time  \n",
       "73726                     NaT                     NaT  \n",
       "73729                     NaT 2022-11-30 23:54:44.753  \n",
       "73734                     NaT                     NaT  \n",
       "73737 2022-12-01 00:10:20.050                     NaT  \n",
       "73739                     NaT                     NaT  "
      ]
     },
     "execution_count": 315,
     "metadata": {},
     "output_type": "execute_result"
    }
   ],
   "source": [
    "dataBugagge.tail()"
   ]
  },
  {
   "cell_type": "code",
   "execution_count": 114,
   "metadata": {},
   "outputs": [
    {
     "data": {
      "text/plain": [
       "Flight No                object\n",
       "Flight Date      datetime64[ns]\n",
       "In-bound Time    datetime64[ns]\n",
       "Trip Number             float64\n",
       "ULD Number               object\n",
       "Pickup Time      datetime64[ns]\n",
       "Dropoff Time     datetime64[ns]\n",
       "dtype: object"
      ]
     },
     "execution_count": 114,
     "metadata": {},
     "output_type": "execute_result"
    }
   ],
   "source": [
    "dataBugagge.dtypes"
   ]
  },
  {
   "cell_type": "code",
   "execution_count": 317,
   "metadata": {},
   "outputs": [],
   "source": [
    "dataBugagge['Flight Date']=pd.to_datetime(dataBugagge['Flight Date'], format='%Y-%m-%d', errors='coerce')"
   ]
  },
  {
   "cell_type": "code",
   "execution_count": 233,
   "metadata": {},
   "outputs": [
    {
     "ename": "TypeError",
     "evalue": "'NoneType' object is not subscriptable",
     "output_type": "error",
     "traceback": [
      "\u001b[1;31m---------------------------------------------------------------------------\u001b[0m",
      "\u001b[1;31mTypeError\u001b[0m                                 Traceback (most recent call last)",
      "Cell \u001b[1;32mIn [233], line 6\u001b[0m\n\u001b[0;32m      4\u001b[0m dataBugagge\u001b[39m=\u001b[39mdataBugagge\u001b[39m.\u001b[39mdropna(subset\u001b[39m=\u001b[39m[\u001b[39m'\u001b[39m\u001b[39mIn-bound Time\u001b[39m\u001b[39m'\u001b[39m],inplace\u001b[39m=\u001b[39m\u001b[39mTrue\u001b[39;00m)\n\u001b[0;32m      5\u001b[0m \u001b[39m# dataBugagge[dataBugagge['In-bound Time']==]\u001b[39;00m\n\u001b[1;32m----> 6\u001b[0m dataBugagge[\u001b[39m'\u001b[39m\u001b[39mIn-bound Time\u001b[39m\u001b[39m'\u001b[39m]\u001b[39m=\u001b[39mpd\u001b[39m.\u001b[39mto_datetime(dataBugagge[\u001b[39m'\u001b[39m\u001b[39mIn-bound Time\u001b[39m\u001b[39m'\u001b[39m], \u001b[39mformat\u001b[39m\u001b[39m=\u001b[39m\u001b[39m'\u001b[39m\u001b[39m%\u001b[39m\u001b[39mH:\u001b[39m\u001b[39m%\u001b[39m\u001b[39mM\u001b[39m\u001b[39m'\u001b[39m)\u001b[39m.\u001b[39mdt\u001b[39m.\u001b[39mstrftime(\u001b[39m'\u001b[39m\u001b[39m%\u001b[39m\u001b[39mH:\u001b[39m\u001b[39m%\u001b[39m\u001b[39mM\u001b[39m\u001b[39m'\u001b[39m)\n",
      "\u001b[1;31mTypeError\u001b[0m: 'NoneType' object is not subscriptable"
     ]
    }
   ],
   "source": [
    "# ET datatype to HH:MM\n",
    "dataStaff['ET']=pd.to_datetime(dataStaff['ET'], format='%H:%M').dt.strftime('%H:%M')\n",
    "# dataBugagge In-bound Time is not null\n",
    "dataBugagge=dataBugagge.dropna(subset=['In-bound Time'],inplace=True)\n",
    "# dataBugagge[dataBugagge['In-bound Time']==]\n",
    "# dataBugagge['In-bound Time']=pd.to_datetime(dataBugagge['In-bound Time'], format='%H:%M').dt.strftime('%H:%M')\n"
   ]
  },
  {
   "cell_type": "code",
   "execution_count": 258,
   "metadata": {},
   "outputs": [
    {
     "data": {
      "text/plain": [
       "Flight No                object\n",
       "Flight Date      datetime64[ns]\n",
       "In-bound Time            object\n",
       "Trip Number             float64\n",
       "ULD Number               object\n",
       "Pickup Time      datetime64[ns]\n",
       "Dropoff Time     datetime64[ns]\n",
       "dtype: object"
      ]
     },
     "execution_count": 258,
     "metadata": {},
     "output_type": "execute_result"
    }
   ],
   "source": [
    "dataBugagge.dtypes"
   ]
  },
  {
   "cell_type": "code",
   "execution_count": 78,
   "metadata": {},
   "outputs": [
    {
     "ename": "NameError",
     "evalue": "name 'dataStaff' is not defined",
     "output_type": "error",
     "traceback": [
      "\u001b[1;31m---------------------------------------------------------------------------\u001b[0m",
      "\u001b[1;31mNameError\u001b[0m                                 Traceback (most recent call last)",
      "Cell \u001b[1;32mIn [78], line 1\u001b[0m\n\u001b[1;32m----> 1\u001b[0m dataStaff\u001b[39m.\u001b[39mdtypes\n",
      "\u001b[1;31mNameError\u001b[0m: name 'dataStaff' is not defined"
     ]
    }
   ],
   "source": [
    "dataStaff.dtypes"
   ]
  },
  {
   "cell_type": "code",
   "execution_count": 56,
   "metadata": {},
   "outputs": [
    {
     "data": {
      "text/html": [
       "<div>\n",
       "<style scoped>\n",
       "    .dataframe tbody tr th:only-of-type {\n",
       "        vertical-align: middle;\n",
       "    }\n",
       "\n",
       "    .dataframe tbody tr th {\n",
       "        vertical-align: top;\n",
       "    }\n",
       "\n",
       "    .dataframe thead th {\n",
       "        text-align: right;\n",
       "    }\n",
       "</style>\n",
       "<table border=\"1\" class=\"dataframe\">\n",
       "  <thead>\n",
       "    <tr style=\"text-align: right;\">\n",
       "      <th></th>\n",
       "      <th>Unnamed: 0</th>\n",
       "      <th>Flight Date</th>\n",
       "      <th>Orientation</th>\n",
       "      <th>Flight</th>\n",
       "      <th>ST</th>\n",
       "      <th>ET</th>\n",
       "      <th>RLO</th>\n",
       "      <th>RSM</th>\n",
       "      <th>EO</th>\n",
       "      <th>AA</th>\n",
       "      <th>staff</th>\n",
       "    </tr>\n",
       "  </thead>\n",
       "  <tbody>\n",
       "    <tr>\n",
       "      <th>2</th>\n",
       "      <td>2</td>\n",
       "      <td>2022-09-01</td>\n",
       "      <td>Arrival</td>\n",
       "      <td>SQ208</td>\n",
       "      <td>15</td>\n",
       "      <td>21.0</td>\n",
       "      <td>1</td>\n",
       "      <td>4</td>\n",
       "      <td>1</td>\n",
       "      <td>2</td>\n",
       "      <td>8</td>\n",
       "    </tr>\n",
       "    <tr>\n",
       "      <th>4</th>\n",
       "      <td>4</td>\n",
       "      <td>2022-09-01</td>\n",
       "      <td>Arrival</td>\n",
       "      <td>SQ242</td>\n",
       "      <td>20</td>\n",
       "      <td>40.0</td>\n",
       "      <td>1</td>\n",
       "      <td>3</td>\n",
       "      <td>1</td>\n",
       "      <td>1</td>\n",
       "      <td>6</td>\n",
       "    </tr>\n",
       "    <tr>\n",
       "      <th>11</th>\n",
       "      <td>11</td>\n",
       "      <td>2022-09-01</td>\n",
       "      <td>Arrival</td>\n",
       "      <td>SQ11</td>\n",
       "      <td>115</td>\n",
       "      <td>38.0</td>\n",
       "      <td>1</td>\n",
       "      <td>3</td>\n",
       "      <td>1</td>\n",
       "      <td>2</td>\n",
       "      <td>7</td>\n",
       "    </tr>\n",
       "    <tr>\n",
       "      <th>22</th>\n",
       "      <td>22</td>\n",
       "      <td>2022-09-01</td>\n",
       "      <td>Arrival</td>\n",
       "      <td>TR25</td>\n",
       "      <td>355</td>\n",
       "      <td>355.0</td>\n",
       "      <td>1</td>\n",
       "      <td>3</td>\n",
       "      <td>1</td>\n",
       "      <td>1</td>\n",
       "      <td>6</td>\n",
       "    </tr>\n",
       "    <tr>\n",
       "      <th>23</th>\n",
       "      <td>23</td>\n",
       "      <td>2022-09-01</td>\n",
       "      <td>Arrival</td>\n",
       "      <td>TR509</td>\n",
       "      <td>405</td>\n",
       "      <td>510.0</td>\n",
       "      <td>1</td>\n",
       "      <td>3</td>\n",
       "      <td>1</td>\n",
       "      <td>2</td>\n",
       "      <td>7</td>\n",
       "    </tr>\n",
       "  </tbody>\n",
       "</table>\n",
       "</div>"
      ],
      "text/plain": [
       "    Unnamed: 0 Flight Date Orientation Flight   ST     ET  RLO   RSM  EO  AA  \\\n",
       "2            2  2022-09-01     Arrival  SQ208   15   21.0     1    4   1   2   \n",
       "4            4  2022-09-01     Arrival  SQ242   20   40.0     1    3   1   1   \n",
       "11          11  2022-09-01     Arrival   SQ11  115   38.0     1    3   1   2   \n",
       "22          22  2022-09-01     Arrival   TR25  355  355.0     1    3   1   1   \n",
       "23          23  2022-09-01     Arrival  TR509  405  510.0     1    3   1   2   \n",
       "\n",
       "    staff  \n",
       "2       8  \n",
       "4       6  \n",
       "11      7  \n",
       "22      6  \n",
       "23      7  "
      ]
     },
     "execution_count": 56,
     "metadata": {},
     "output_type": "execute_result"
    }
   ],
   "source": [
    "dataStaff.head()"
   ]
  },
  {
   "cell_type": "code",
   "execution_count": 83,
   "metadata": {},
   "outputs": [],
   "source": [
    "# remove all the duplicates Flight, Flight Date:\n",
    "dataStaff.drop_duplicates(subset=['Flight','Flight Date'],keep='first',inplace=True)"
   ]
  },
  {
   "cell_type": "code",
   "execution_count": 84,
   "metadata": {},
   "outputs": [
    {
     "data": {
      "text/plain": [
       "(10108, 11)"
      ]
     },
     "execution_count": 84,
     "metadata": {},
     "output_type": "execute_result"
    }
   ],
   "source": [
    "dataStaff.shape"
   ]
  },
  {
   "cell_type": "code",
   "execution_count": 59,
   "metadata": {},
   "outputs": [],
   "source": [
    "# remove all the duplicates Flight No, Flight Date:\n",
    "dataBugagge.drop_duplicates(subset=['Flight No','Flight Date'],keep='first',inplace=True)"
   ]
  },
  {
   "cell_type": "code",
   "execution_count": 85,
   "metadata": {},
   "outputs": [
    {
     "data": {
      "text/plain": [
       "(8008, 9)"
      ]
     },
     "execution_count": 85,
     "metadata": {},
     "output_type": "execute_result"
    }
   ],
   "source": [
    "dataBugagge.shape"
   ]
  },
  {
   "cell_type": "code",
   "execution_count": 61,
   "metadata": {},
   "outputs": [
    {
     "data": {
      "text/plain": [
       "(10108, 11)"
      ]
     },
     "execution_count": 61,
     "metadata": {},
     "output_type": "execute_result"
    }
   ],
   "source": [
    "dataStaff.shape"
   ]
  },
  {
   "cell_type": "code",
   "execution_count": 62,
   "metadata": {},
   "outputs": [],
   "source": [
    "dataStaff.drop_duplicates(subset=['Flight','Flight Date'],keep='first',inplace=True)"
   ]
  },
  {
   "cell_type": "code",
   "execution_count": 87,
   "metadata": {},
   "outputs": [],
   "source": [
    "# merge dataStaff and dataBugagge on Flight, Flight Date, In-bound Time\n",
    "# rename Flight to Flight No, ET to In-bound Time\n",
    "dataStaff.rename(columns={'Flight':'Flight No'},inplace=True)\n",
    "# dataStaffBugagge=pd.merge(dataStaff,dataBugagge,how='inner',on=['Flight','Flight Date','In-bound Time'])"
   ]
  },
  {
   "cell_type": "code",
   "execution_count": 348,
   "metadata": {},
   "outputs": [
    {
     "data": {
      "text/plain": [
       "0       2022-09-01\n",
       "2       2022-09-01\n",
       "12      2022-09-01\n",
       "25      2022-09-01\n",
       "29      2022-09-01\n",
       "           ...    \n",
       "73726   2022-11-30\n",
       "73729   2022-11-30\n",
       "73734   2022-11-30\n",
       "73737   2022-11-30\n",
       "73739   2022-11-30\n",
       "Name: Flight Date, Length: 7999, dtype: datetime64[ns]"
      ]
     },
     "execution_count": 348,
     "metadata": {},
     "output_type": "execute_result"
    }
   ],
   "source": [
    "dataBugagge['Flight Date']"
   ]
  },
  {
   "cell_type": "code",
   "execution_count": 347,
   "metadata": {},
   "outputs": [
    {
     "data": {
      "text/plain": [
       "2       2022-09-01\n",
       "4       2022-09-01\n",
       "11      2022-09-01\n",
       "22      2022-09-01\n",
       "23      2022-09-01\n",
       "           ...    \n",
       "20208   2022-11-30\n",
       "20209   2022-11-30\n",
       "20210   2022-11-30\n",
       "20212   2022-11-30\n",
       "20218   2022-11-30\n",
       "Name: Flight Date, Length: 10108, dtype: datetime64[ns]"
      ]
     },
     "execution_count": 347,
     "metadata": {},
     "output_type": "execute_result"
    }
   ],
   "source": [
    "dataStaff['Flight Date']"
   ]
  },
  {
   "cell_type": "code",
   "execution_count": 64,
   "metadata": {},
   "outputs": [
    {
     "data": {
      "text/plain": [
       "68"
      ]
     },
     "execution_count": 64,
     "metadata": {},
     "output_type": "execute_result"
    }
   ],
   "source": [
    "# intersect dataStaff and dataBugagge on Flight No on 2022-09-01:\n",
    "dataBugagge['Flight No'].isin(dataStaff['Flight No']).loc[dataBugagge['Flight Date']=='2022-09-01'].sum()\n"
   ]
  },
  {
   "cell_type": "code",
   "execution_count": 88,
   "metadata": {},
   "outputs": [],
   "source": [
    "dataStaffBugagge=pd.merge(dataStaff,dataBugagge,how='outer',on=['Flight No','Flight Date'])"
   ]
  },
  {
   "cell_type": "code",
   "execution_count": 89,
   "metadata": {},
   "outputs": [
    {
     "data": {
      "text/html": [
       "<div>\n",
       "<style scoped>\n",
       "    .dataframe tbody tr th:only-of-type {\n",
       "        vertical-align: middle;\n",
       "    }\n",
       "\n",
       "    .dataframe tbody tr th {\n",
       "        vertical-align: top;\n",
       "    }\n",
       "\n",
       "    .dataframe thead th {\n",
       "        text-align: right;\n",
       "    }\n",
       "</style>\n",
       "<table border=\"1\" class=\"dataframe\">\n",
       "  <thead>\n",
       "    <tr style=\"text-align: right;\">\n",
       "      <th></th>\n",
       "      <th>Unnamed: 0</th>\n",
       "      <th>Flight Date</th>\n",
       "      <th>Orientation</th>\n",
       "      <th>Flight No</th>\n",
       "      <th>ST</th>\n",
       "      <th>ET</th>\n",
       "      <th>RLO</th>\n",
       "      <th>RSM</th>\n",
       "      <th>EO</th>\n",
       "      <th>AA</th>\n",
       "      <th>staff</th>\n",
       "      <th>In-bound Time</th>\n",
       "      <th>Trip Number</th>\n",
       "      <th>ULD Number</th>\n",
       "      <th>Pickup Time</th>\n",
       "      <th>Dropoff Time</th>\n",
       "      <th>Total ULDS</th>\n",
       "      <th>Dropoff TimeN</th>\n",
       "    </tr>\n",
       "  </thead>\n",
       "  <tbody>\n",
       "    <tr>\n",
       "      <th>0</th>\n",
       "      <td>2.0</td>\n",
       "      <td>2022-09-01</td>\n",
       "      <td>Arrival</td>\n",
       "      <td>SQ208</td>\n",
       "      <td>15.0</td>\n",
       "      <td>21.0</td>\n",
       "      <td>1.0</td>\n",
       "      <td>4.0</td>\n",
       "      <td>1.0</td>\n",
       "      <td>2.0</td>\n",
       "      <td>8.0</td>\n",
       "      <td>2022-09-01 00:21:00</td>\n",
       "      <td>1.0</td>\n",
       "      <td>AKE89138SQ</td>\n",
       "      <td>2022-09-01 00:33:15.220</td>\n",
       "      <td>2022-09-01 00:37:16.930</td>\n",
       "      <td>12.0</td>\n",
       "      <td>2022-09-01 00:48:19.477</td>\n",
       "    </tr>\n",
       "    <tr>\n",
       "      <th>1</th>\n",
       "      <td>4.0</td>\n",
       "      <td>2022-09-01</td>\n",
       "      <td>Arrival</td>\n",
       "      <td>SQ242</td>\n",
       "      <td>20.0</td>\n",
       "      <td>40.0</td>\n",
       "      <td>1.0</td>\n",
       "      <td>3.0</td>\n",
       "      <td>1.0</td>\n",
       "      <td>1.0</td>\n",
       "      <td>6.0</td>\n",
       "      <td>2022-09-01 00:40:00</td>\n",
       "      <td>1.0</td>\n",
       "      <td>AKE80436SQ</td>\n",
       "      <td>2022-09-01 00:54:23.003</td>\n",
       "      <td>2022-09-01 00:55:44.893</td>\n",
       "      <td>4.0</td>\n",
       "      <td>2022-09-01 00:55:44.900</td>\n",
       "    </tr>\n",
       "    <tr>\n",
       "      <th>2</th>\n",
       "      <td>11.0</td>\n",
       "      <td>2022-09-01</td>\n",
       "      <td>Arrival</td>\n",
       "      <td>SQ11</td>\n",
       "      <td>115.0</td>\n",
       "      <td>38.0</td>\n",
       "      <td>1.0</td>\n",
       "      <td>3.0</td>\n",
       "      <td>1.0</td>\n",
       "      <td>2.0</td>\n",
       "      <td>7.0</td>\n",
       "      <td>2022-09-01 00:38:00</td>\n",
       "      <td>1.0</td>\n",
       "      <td>AKE70581SQ</td>\n",
       "      <td>NaT</td>\n",
       "      <td>NaT</td>\n",
       "      <td>13.0</td>\n",
       "      <td>NaT</td>\n",
       "    </tr>\n",
       "    <tr>\n",
       "      <th>3</th>\n",
       "      <td>22.0</td>\n",
       "      <td>2022-09-01</td>\n",
       "      <td>Arrival</td>\n",
       "      <td>TR25</td>\n",
       "      <td>355.0</td>\n",
       "      <td>355.0</td>\n",
       "      <td>1.0</td>\n",
       "      <td>3.0</td>\n",
       "      <td>1.0</td>\n",
       "      <td>1.0</td>\n",
       "      <td>6.0</td>\n",
       "      <td>2022-09-01 03:55:00</td>\n",
       "      <td>1.0</td>\n",
       "      <td>AKE84300SQ</td>\n",
       "      <td>2022-09-01 04:17:01.517</td>\n",
       "      <td>2022-09-01 04:22:18.260</td>\n",
       "      <td>11.0</td>\n",
       "      <td>2022-09-01 04:38:25.783</td>\n",
       "    </tr>\n",
       "    <tr>\n",
       "      <th>4</th>\n",
       "      <td>23.0</td>\n",
       "      <td>2022-09-01</td>\n",
       "      <td>Arrival</td>\n",
       "      <td>TR509</td>\n",
       "      <td>405.0</td>\n",
       "      <td>510.0</td>\n",
       "      <td>1.0</td>\n",
       "      <td>3.0</td>\n",
       "      <td>1.0</td>\n",
       "      <td>2.0</td>\n",
       "      <td>7.0</td>\n",
       "      <td>NaT</td>\n",
       "      <td>NaN</td>\n",
       "      <td>NaN</td>\n",
       "      <td>NaT</td>\n",
       "      <td>NaT</td>\n",
       "      <td>NaN</td>\n",
       "      <td>NaT</td>\n",
       "    </tr>\n",
       "  </tbody>\n",
       "</table>\n",
       "</div>"
      ],
      "text/plain": [
       "   Unnamed: 0 Flight Date Orientation Flight No     ST     ET  RLO   RSM   EO  \\\n",
       "0         2.0  2022-09-01     Arrival     SQ208   15.0   21.0   1.0  4.0  1.0   \n",
       "1         4.0  2022-09-01     Arrival     SQ242   20.0   40.0   1.0  3.0  1.0   \n",
       "2        11.0  2022-09-01     Arrival      SQ11  115.0   38.0   1.0  3.0  1.0   \n",
       "3        22.0  2022-09-01     Arrival      TR25  355.0  355.0   1.0  3.0  1.0   \n",
       "4        23.0  2022-09-01     Arrival     TR509  405.0  510.0   1.0  3.0  1.0   \n",
       "\n",
       "    AA  staff       In-bound Time  Trip Number  ULD Number  \\\n",
       "0  2.0    8.0 2022-09-01 00:21:00          1.0  AKE89138SQ   \n",
       "1  1.0    6.0 2022-09-01 00:40:00          1.0  AKE80436SQ   \n",
       "2  2.0    7.0 2022-09-01 00:38:00          1.0  AKE70581SQ   \n",
       "3  1.0    6.0 2022-09-01 03:55:00          1.0  AKE84300SQ   \n",
       "4  2.0    7.0                 NaT          NaN         NaN   \n",
       "\n",
       "              Pickup Time            Dropoff Time  Total ULDS  \\\n",
       "0 2022-09-01 00:33:15.220 2022-09-01 00:37:16.930        12.0   \n",
       "1 2022-09-01 00:54:23.003 2022-09-01 00:55:44.893         4.0   \n",
       "2                     NaT                     NaT        13.0   \n",
       "3 2022-09-01 04:17:01.517 2022-09-01 04:22:18.260        11.0   \n",
       "4                     NaT                     NaT         NaN   \n",
       "\n",
       "            Dropoff TimeN  \n",
       "0 2022-09-01 00:48:19.477  \n",
       "1 2022-09-01 00:55:44.900  \n",
       "2                     NaT  \n",
       "3 2022-09-01 04:38:25.783  \n",
       "4                     NaT  "
      ]
     },
     "execution_count": 89,
     "metadata": {},
     "output_type": "execute_result"
    }
   ],
   "source": [
    "dataStaffBugagge.head()"
   ]
  },
  {
   "cell_type": "code",
   "execution_count": 90,
   "metadata": {},
   "outputs": [],
   "source": [
    "dataStaffBugagge.drop(columns=['Unnamed: 0','Trip Number','Dropoff Time'],inplace=True)"
   ]
  },
  {
   "cell_type": "code",
   "execution_count": 91,
   "metadata": {},
   "outputs": [
    {
     "data": {
      "text/html": [
       "<div>\n",
       "<style scoped>\n",
       "    .dataframe tbody tr th:only-of-type {\n",
       "        vertical-align: middle;\n",
       "    }\n",
       "\n",
       "    .dataframe tbody tr th {\n",
       "        vertical-align: top;\n",
       "    }\n",
       "\n",
       "    .dataframe thead th {\n",
       "        text-align: right;\n",
       "    }\n",
       "</style>\n",
       "<table border=\"1\" class=\"dataframe\">\n",
       "  <thead>\n",
       "    <tr style=\"text-align: right;\">\n",
       "      <th></th>\n",
       "      <th>Flight Date</th>\n",
       "      <th>Orientation</th>\n",
       "      <th>Flight No</th>\n",
       "      <th>ST</th>\n",
       "      <th>ET</th>\n",
       "      <th>RLO</th>\n",
       "      <th>RSM</th>\n",
       "      <th>EO</th>\n",
       "      <th>AA</th>\n",
       "      <th>staff</th>\n",
       "      <th>In-bound Time</th>\n",
       "      <th>ULD Number</th>\n",
       "      <th>Pickup Time</th>\n",
       "      <th>Total ULDS</th>\n",
       "      <th>Dropoff TimeN</th>\n",
       "    </tr>\n",
       "  </thead>\n",
       "  <tbody>\n",
       "    <tr>\n",
       "      <th>0</th>\n",
       "      <td>2022-09-01</td>\n",
       "      <td>Arrival</td>\n",
       "      <td>SQ208</td>\n",
       "      <td>15.0</td>\n",
       "      <td>21.0</td>\n",
       "      <td>1.0</td>\n",
       "      <td>4.0</td>\n",
       "      <td>1.0</td>\n",
       "      <td>2.0</td>\n",
       "      <td>8.0</td>\n",
       "      <td>2022-09-01 00:21:00</td>\n",
       "      <td>AKE89138SQ</td>\n",
       "      <td>2022-09-01 00:33:15.220</td>\n",
       "      <td>12.0</td>\n",
       "      <td>2022-09-01 00:48:19.477</td>\n",
       "    </tr>\n",
       "    <tr>\n",
       "      <th>1</th>\n",
       "      <td>2022-09-01</td>\n",
       "      <td>Arrival</td>\n",
       "      <td>SQ242</td>\n",
       "      <td>20.0</td>\n",
       "      <td>40.0</td>\n",
       "      <td>1.0</td>\n",
       "      <td>3.0</td>\n",
       "      <td>1.0</td>\n",
       "      <td>1.0</td>\n",
       "      <td>6.0</td>\n",
       "      <td>2022-09-01 00:40:00</td>\n",
       "      <td>AKE80436SQ</td>\n",
       "      <td>2022-09-01 00:54:23.003</td>\n",
       "      <td>4.0</td>\n",
       "      <td>2022-09-01 00:55:44.900</td>\n",
       "    </tr>\n",
       "    <tr>\n",
       "      <th>2</th>\n",
       "      <td>2022-09-01</td>\n",
       "      <td>Arrival</td>\n",
       "      <td>SQ11</td>\n",
       "      <td>115.0</td>\n",
       "      <td>38.0</td>\n",
       "      <td>1.0</td>\n",
       "      <td>3.0</td>\n",
       "      <td>1.0</td>\n",
       "      <td>2.0</td>\n",
       "      <td>7.0</td>\n",
       "      <td>2022-09-01 00:38:00</td>\n",
       "      <td>AKE70581SQ</td>\n",
       "      <td>NaT</td>\n",
       "      <td>13.0</td>\n",
       "      <td>NaT</td>\n",
       "    </tr>\n",
       "    <tr>\n",
       "      <th>3</th>\n",
       "      <td>2022-09-01</td>\n",
       "      <td>Arrival</td>\n",
       "      <td>TR25</td>\n",
       "      <td>355.0</td>\n",
       "      <td>355.0</td>\n",
       "      <td>1.0</td>\n",
       "      <td>3.0</td>\n",
       "      <td>1.0</td>\n",
       "      <td>1.0</td>\n",
       "      <td>6.0</td>\n",
       "      <td>2022-09-01 03:55:00</td>\n",
       "      <td>AKE84300SQ</td>\n",
       "      <td>2022-09-01 04:17:01.517</td>\n",
       "      <td>11.0</td>\n",
       "      <td>2022-09-01 04:38:25.783</td>\n",
       "    </tr>\n",
       "    <tr>\n",
       "      <th>4</th>\n",
       "      <td>2022-09-01</td>\n",
       "      <td>Arrival</td>\n",
       "      <td>TR509</td>\n",
       "      <td>405.0</td>\n",
       "      <td>510.0</td>\n",
       "      <td>1.0</td>\n",
       "      <td>3.0</td>\n",
       "      <td>1.0</td>\n",
       "      <td>2.0</td>\n",
       "      <td>7.0</td>\n",
       "      <td>NaT</td>\n",
       "      <td>NaN</td>\n",
       "      <td>NaT</td>\n",
       "      <td>NaN</td>\n",
       "      <td>NaT</td>\n",
       "    </tr>\n",
       "  </tbody>\n",
       "</table>\n",
       "</div>"
      ],
      "text/plain": [
       "  Flight Date Orientation Flight No     ST     ET  RLO   RSM   EO   AA  staff  \\\n",
       "0  2022-09-01     Arrival     SQ208   15.0   21.0   1.0  4.0  1.0  2.0    8.0   \n",
       "1  2022-09-01     Arrival     SQ242   20.0   40.0   1.0  3.0  1.0  1.0    6.0   \n",
       "2  2022-09-01     Arrival      SQ11  115.0   38.0   1.0  3.0  1.0  2.0    7.0   \n",
       "3  2022-09-01     Arrival      TR25  355.0  355.0   1.0  3.0  1.0  1.0    6.0   \n",
       "4  2022-09-01     Arrival     TR509  405.0  510.0   1.0  3.0  1.0  2.0    7.0   \n",
       "\n",
       "        In-bound Time  ULD Number             Pickup Time  Total ULDS  \\\n",
       "0 2022-09-01 00:21:00  AKE89138SQ 2022-09-01 00:33:15.220        12.0   \n",
       "1 2022-09-01 00:40:00  AKE80436SQ 2022-09-01 00:54:23.003         4.0   \n",
       "2 2022-09-01 00:38:00  AKE70581SQ                     NaT        13.0   \n",
       "3 2022-09-01 03:55:00  AKE84300SQ 2022-09-01 04:17:01.517        11.0   \n",
       "4                 NaT         NaN                     NaT         NaN   \n",
       "\n",
       "            Dropoff TimeN  \n",
       "0 2022-09-01 00:48:19.477  \n",
       "1 2022-09-01 00:55:44.900  \n",
       "2                     NaT  \n",
       "3 2022-09-01 04:38:25.783  \n",
       "4                     NaT  "
      ]
     },
     "execution_count": 91,
     "metadata": {},
     "output_type": "execute_result"
    }
   ],
   "source": [
    "dataStaffBugagge.head()"
   ]
  },
  {
   "cell_type": "code",
   "execution_count": 92,
   "metadata": {},
   "outputs": [
    {
     "data": {
      "text/plain": [
       "(11808, 15)"
      ]
     },
     "execution_count": 92,
     "metadata": {},
     "output_type": "execute_result"
    }
   ],
   "source": [
    "dataStaffBugagge.shape"
   ]
  },
  {
   "cell_type": "code",
   "execution_count": 78,
   "metadata": {},
   "outputs": [],
   "source": [
    "# save to csv\n",
    "dataStaffBugagge.to_csv('J:\\\\SATS\\\\dataStaffBugagge3.csv',index=False)"
   ]
  },
  {
   "cell_type": "code",
   "execution_count": 97,
   "metadata": {},
   "outputs": [
    {
     "data": {
      "text/plain": [
       "(11808, 15)"
      ]
     },
     "execution_count": 97,
     "metadata": {},
     "output_type": "execute_result"
    }
   ],
   "source": [
    "dataStaffBugagge.shape"
   ]
  },
  {
   "cell_type": "code",
   "execution_count": 98,
   "metadata": {},
   "outputs": [],
   "source": [
    "# drop all the Orientation where Flight not 'Arrival'\n",
    "dataStaffBugagge.drop(dataStaffBugagge[dataStaffBugagge['Orientation']!='Arrival'].index,inplace=True)"
   ]
  },
  {
   "cell_type": "code",
   "execution_count": 99,
   "metadata": {},
   "outputs": [
    {
     "data": {
      "text/plain": [
       "(10108, 15)"
      ]
     },
     "execution_count": 99,
     "metadata": {},
     "output_type": "execute_result"
    }
   ],
   "source": [
    "dataStaffBugagge.shape"
   ]
  },
  {
   "cell_type": "code",
   "execution_count": 100,
   "metadata": {},
   "outputs": [
    {
     "data": {
      "text/plain": [
       "(10113, 9)"
      ]
     },
     "execution_count": 100,
     "metadata": {},
     "output_type": "execute_result"
    }
   ],
   "source": [
    "dataStaff.shape"
   ]
  },
  {
   "cell_type": "code",
   "execution_count": 101,
   "metadata": {},
   "outputs": [],
   "source": [
    "# drop all the Orientation where Flight not 'Arrival'\n",
    "dataStaff.drop(dataStaff[dataStaff['Orientation']!='Arrival'].index,inplace=True)"
   ]
  },
  {
   "cell_type": "code",
   "execution_count": 102,
   "metadata": {},
   "outputs": [
    {
     "data": {
      "text/plain": [
       "(10113, 9)"
      ]
     },
     "execution_count": 102,
     "metadata": {},
     "output_type": "execute_result"
    }
   ],
   "source": [
    "dataStaff.shape"
   ]
  },
  {
   "cell_type": "code",
   "execution_count": 116,
   "metadata": {},
   "outputs": [],
   "source": [
    "# save sataff to csv\n",
    "dataStaff.to_csv('J:\\\\SATS\\\\dataStaff.csv',index=False)"
   ]
  },
  {
   "cell_type": "code",
   "execution_count": 115,
   "metadata": {},
   "outputs": [
    {
     "data": {
      "text/plain": [
       "(10108, 15)"
      ]
     },
     "execution_count": 115,
     "metadata": {},
     "output_type": "execute_result"
    }
   ],
   "source": [
    "dataStaffBugagge.shape"
   ]
  },
  {
   "cell_type": "code",
   "execution_count": 117,
   "metadata": {},
   "outputs": [],
   "source": [
    "# save dataStaffBugagge to csv\n",
    "dataStaffBugagge.to_csv('J:\\\\SATS\\\\dataStaffBugagge.csv',index=False)"
   ]
  },
  {
   "cell_type": "code",
   "execution_count": 118,
   "metadata": {},
   "outputs": [
    {
     "data": {
      "text/plain": [
       "Flight Date\n",
       "2022-09-01    106\n",
       "2022-09-02    109\n",
       "2022-09-03    115\n",
       "2022-09-04    115\n",
       "2022-09-05    103\n",
       "             ... \n",
       "2022-11-26    121\n",
       "2022-11-27    122\n",
       "2022-11-28    118\n",
       "2022-11-29    113\n",
       "2022-11-30    117\n",
       "Name: Flight, Length: 91, dtype: int64"
      ]
     },
     "execution_count": 118,
     "metadata": {},
     "output_type": "execute_result"
    }
   ],
   "source": [
    "# why shape is different for dataSaff and dataStaffBugagge\n",
    "# date wise flights in dataStaff\n",
    "dataStaff.groupby('Flight Date')['Flight'].count()\n"
   ]
  },
  {
   "cell_type": "code",
   "execution_count": null,
   "metadata": {},
   "outputs": [],
   "source": [
    "# date wise flights in dataStaffBugagge\n",
    "dataStaffBugagge.groupby('Flight Date')['Flight No'].count()\n"
   ]
  },
  {
   "cell_type": "code",
   "execution_count": 114,
   "metadata": {},
   "outputs": [
    {
     "data": {
      "text/html": [
       "<div>\n",
       "<style scoped>\n",
       "    .dataframe tbody tr th:only-of-type {\n",
       "        vertical-align: middle;\n",
       "    }\n",
       "\n",
       "    .dataframe tbody tr th {\n",
       "        vertical-align: top;\n",
       "    }\n",
       "\n",
       "    .dataframe thead th {\n",
       "        text-align: right;\n",
       "    }\n",
       "</style>\n",
       "<table border=\"1\" class=\"dataframe\">\n",
       "  <thead>\n",
       "    <tr style=\"text-align: right;\">\n",
       "      <th></th>\n",
       "      <th>Unnamed: 0</th>\n",
       "      <th>Flight Date</th>\n",
       "      <th>Orientation</th>\n",
       "      <th>Flight</th>\n",
       "      <th>ST</th>\n",
       "      <th>ET</th>\n",
       "      <th>RLO</th>\n",
       "      <th>RSM</th>\n",
       "      <th>EO</th>\n",
       "      <th>AA</th>\n",
       "      <th>staff</th>\n",
       "    </tr>\n",
       "  </thead>\n",
       "  <tbody>\n",
       "  </tbody>\n",
       "</table>\n",
       "</div>"
      ],
      "text/plain": [
       "Empty DataFrame\n",
       "Columns: [Unnamed: 0, Flight Date, Orientation, Flight, ST, ET, RLO , RSM, EO, AA, staff]\n",
       "Index: []"
      ]
     },
     "execution_count": 114,
     "metadata": {},
     "output_type": "execute_result"
    }
   ],
   "source": [
    "# find the difference between dataStaff and dataStaffBugagge on Flight No\n",
    "\n",
    "dataStaff[~dataStaff['Flight'].isin(dataStaffBugagge['Flight No'])]"
   ]
  },
  {
   "cell_type": "code",
   "execution_count": 272,
   "metadata": {},
   "outputs": [],
   "source": [
    "# save dataStaffBugagge to csv\n",
    "dataStaffBugagge.to_csv('J:\\\\SATS\\\\dataStaffBugagge.csv',index=False)"
   ]
  },
  {
   "cell_type": "code",
   "execution_count": 327,
   "metadata": {},
   "outputs": [
    {
     "data": {
      "text/html": [
       "<div>\n",
       "<style scoped>\n",
       "    .dataframe tbody tr th:only-of-type {\n",
       "        vertical-align: middle;\n",
       "    }\n",
       "\n",
       "    .dataframe tbody tr th {\n",
       "        vertical-align: top;\n",
       "    }\n",
       "\n",
       "    .dataframe thead th {\n",
       "        text-align: right;\n",
       "    }\n",
       "</style>\n",
       "<table border=\"1\" class=\"dataframe\">\n",
       "  <thead>\n",
       "    <tr style=\"text-align: right;\">\n",
       "      <th></th>\n",
       "      <th>Unnamed: 0</th>\n",
       "      <th>Flight Date</th>\n",
       "      <th>Orientation</th>\n",
       "      <th>Flight No</th>\n",
       "      <th>ST</th>\n",
       "      <th>In-bound Time_x</th>\n",
       "      <th>RLO</th>\n",
       "      <th>RSM</th>\n",
       "      <th>EO</th>\n",
       "      <th>AA</th>\n",
       "      <th>staff</th>\n",
       "      <th>In-bound Time_y</th>\n",
       "      <th>Trip Number</th>\n",
       "      <th>ULD Number</th>\n",
       "      <th>Pickup Time</th>\n",
       "      <th>Dropoff Time</th>\n",
       "    </tr>\n",
       "  </thead>\n",
       "  <tbody>\n",
       "    <tr>\n",
       "      <th>0</th>\n",
       "      <td>2</td>\n",
       "      <td>2022-09-01</td>\n",
       "      <td>Arrival</td>\n",
       "      <td>SQ208</td>\n",
       "      <td>15</td>\n",
       "      <td>NaN</td>\n",
       "      <td>1</td>\n",
       "      <td>4</td>\n",
       "      <td>1</td>\n",
       "      <td>2</td>\n",
       "      <td>8</td>\n",
       "      <td>00:21</td>\n",
       "      <td>1.0</td>\n",
       "      <td>AKE89138SQ</td>\n",
       "      <td>2022-09-01 00:33:15.220</td>\n",
       "      <td>2022-09-01 00:37:16.930</td>\n",
       "    </tr>\n",
       "    <tr>\n",
       "      <th>1</th>\n",
       "      <td>4</td>\n",
       "      <td>2022-09-01</td>\n",
       "      <td>Arrival</td>\n",
       "      <td>SQ242</td>\n",
       "      <td>20</td>\n",
       "      <td>NaN</td>\n",
       "      <td>1</td>\n",
       "      <td>3</td>\n",
       "      <td>1</td>\n",
       "      <td>1</td>\n",
       "      <td>6</td>\n",
       "      <td>00:40</td>\n",
       "      <td>1.0</td>\n",
       "      <td>AKE80436SQ</td>\n",
       "      <td>2022-09-01 00:54:23.003</td>\n",
       "      <td>2022-09-01 00:55:44.893</td>\n",
       "    </tr>\n",
       "    <tr>\n",
       "      <th>2</th>\n",
       "      <td>11</td>\n",
       "      <td>2022-09-01</td>\n",
       "      <td>Arrival</td>\n",
       "      <td>SQ11</td>\n",
       "      <td>115</td>\n",
       "      <td>NaN</td>\n",
       "      <td>1</td>\n",
       "      <td>3</td>\n",
       "      <td>1</td>\n",
       "      <td>2</td>\n",
       "      <td>7</td>\n",
       "      <td>00:38</td>\n",
       "      <td>1.0</td>\n",
       "      <td>AKE70581SQ</td>\n",
       "      <td>NaT</td>\n",
       "      <td>NaT</td>\n",
       "    </tr>\n",
       "    <tr>\n",
       "      <th>3</th>\n",
       "      <td>22</td>\n",
       "      <td>2022-09-01</td>\n",
       "      <td>Arrival</td>\n",
       "      <td>TR25</td>\n",
       "      <td>355</td>\n",
       "      <td>NaN</td>\n",
       "      <td>1</td>\n",
       "      <td>3</td>\n",
       "      <td>1</td>\n",
       "      <td>1</td>\n",
       "      <td>6</td>\n",
       "      <td>03:55</td>\n",
       "      <td>1.0</td>\n",
       "      <td>AKE84300SQ</td>\n",
       "      <td>2022-09-01 04:17:01.517</td>\n",
       "      <td>2022-09-01 04:22:18.260</td>\n",
       "    </tr>\n",
       "    <tr>\n",
       "      <th>4</th>\n",
       "      <td>24</td>\n",
       "      <td>2022-09-01</td>\n",
       "      <td>Arrival</td>\n",
       "      <td>SQ623</td>\n",
       "      <td>440</td>\n",
       "      <td>NaN</td>\n",
       "      <td>1</td>\n",
       "      <td>3</td>\n",
       "      <td>1</td>\n",
       "      <td>2</td>\n",
       "      <td>7</td>\n",
       "      <td>04:19</td>\n",
       "      <td>1.0</td>\n",
       "      <td>AKE28089SQ</td>\n",
       "      <td>2022-09-01 04:28:10.723</td>\n",
       "      <td>NaT</td>\n",
       "    </tr>\n",
       "  </tbody>\n",
       "</table>\n",
       "</div>"
      ],
      "text/plain": [
       "   Unnamed: 0 Flight Date Orientation Flight No   ST In-bound Time_x  RLO   \\\n",
       "0           2  2022-09-01     Arrival     SQ208   15             NaN     1   \n",
       "1           4  2022-09-01     Arrival     SQ242   20             NaN     1   \n",
       "2          11  2022-09-01     Arrival      SQ11  115             NaN     1   \n",
       "3          22  2022-09-01     Arrival      TR25  355             NaN     1   \n",
       "4          24  2022-09-01     Arrival     SQ623  440             NaN     1   \n",
       "\n",
       "   RSM  EO  AA  staff In-bound Time_y  Trip Number  ULD Number  \\\n",
       "0    4   1   2      8           00:21          1.0  AKE89138SQ   \n",
       "1    3   1   1      6           00:40          1.0  AKE80436SQ   \n",
       "2    3   1   2      7           00:38          1.0  AKE70581SQ   \n",
       "3    3   1   1      6           03:55          1.0  AKE84300SQ   \n",
       "4    3   1   2      7           04:19          1.0  AKE28089SQ   \n",
       "\n",
       "              Pickup Time            Dropoff Time  \n",
       "0 2022-09-01 00:33:15.220 2022-09-01 00:37:16.930  \n",
       "1 2022-09-01 00:54:23.003 2022-09-01 00:55:44.893  \n",
       "2                     NaT                     NaT  \n",
       "3 2022-09-01 04:17:01.517 2022-09-01 04:22:18.260  \n",
       "4 2022-09-01 04:28:10.723                     NaT  "
      ]
     },
     "execution_count": 327,
     "metadata": {},
     "output_type": "execute_result"
    }
   ],
   "source": [
    "dataStaffBugagge.head()"
   ]
  },
  {
   "attachments": {},
   "cell_type": "markdown",
   "metadata": {},
   "source": [
    "# Some EDA"
   ]
  },
  {
   "cell_type": "code",
   "execution_count": 120,
   "metadata": {},
   "outputs": [],
   "source": [
    "Bugagge=pd.read_csv('J:\\\\SATS\\\\dataStaffBugagge3.csv')\n",
    "# dataStaffBugagge3\n",
    "# dataBugagge=pd.read_excel('J:\\\\SATS\\\\Buggage.xlsx')"
   ]
  },
  {
   "cell_type": "code",
   "execution_count": 121,
   "metadata": {},
   "outputs": [],
   "source": [
    "# total number of flights in one day\n",
    "# remove all the duplicates Flight No, Flight Date by keeping the DroppOffTime max\n",
    "\n",
    "Bugagge.drop_duplicates(subset=['Flight No','Flight Date'],keep='first',inplace=True)\n",
    "# dataBugagge['Flight No'].count()"
   ]
  },
  {
   "cell_type": "code",
   "execution_count": 122,
   "metadata": {},
   "outputs": [
    {
     "name": "stdout",
     "output_type": "stream",
     "text": [
      "(11810, 17)\n"
     ]
    }
   ],
   "source": [
    "print(Bugagge.shape)\n",
    "# find null values in arrival\n",
    "Bugagge.Orientation.isnull().sum()\n",
    "# delete all the rows with null values in Orientation\n",
    "Bugagge.dropna(subset=['Orientation'],inplace=True)"
   ]
  },
  {
   "cell_type": "code",
   "execution_count": 124,
   "metadata": {},
   "outputs": [
    {
     "name": "stdout",
     "output_type": "stream",
     "text": [
      "(10108, 17)\n",
      "(10108, 11)\n"
     ]
    }
   ],
   "source": [
    "print(Bugagge.shape)\n",
    "print(dataStaff.shape)"
   ]
  },
  {
   "cell_type": "code",
   "execution_count": 94,
   "metadata": {},
   "outputs": [
    {
     "data": {
      "text/plain": [
       "1702"
      ]
     },
     "execution_count": 94,
     "metadata": {},
     "output_type": "execute_result"
    }
   ],
   "source": [
    "dataStaffBugagge.columns\n",
    "# find Orientation in dataStaffBugagge\n",
    "dataStaffBugagge.Orientation.isnull().sum()"
   ]
  },
  {
   "cell_type": "code",
   "execution_count": 95,
   "metadata": {},
   "outputs": [],
   "source": [
    "# delete all the rows with null values in Orientation\n",
    "dataStaffBugagge.dropna(subset=['Orientation'],inplace=True)"
   ]
  },
  {
   "cell_type": "code",
   "execution_count": 296,
   "metadata": {},
   "outputs": [
    {
     "data": {
      "text/plain": [
       "Flight No\n",
       "SQ11      1\n",
       "SQ121     1\n",
       "SQ125     1\n",
       "SQ153     1\n",
       "SQ157     1\n",
       "         ..\n",
       "TR565     1\n",
       "TR611     1\n",
       "TR625     1\n",
       "TR843     1\n",
       "﻿SQ208    1\n",
       "Name: Flight No, Length: 81, dtype: int64"
      ]
     },
     "execution_count": 296,
     "metadata": {},
     "output_type": "execute_result"
    }
   ],
   "source": [
    "# total flights every day showing the number of flights against each flight number:\n",
    "Bugagge.groupby(['Flight Date','Flight No'])['Flight No'].count()\n",
    "# show the number of flights against each flight number for 1-09-2022\n",
    "Bugagge.groupby(['Flight Date','Flight No'])['Flight No'].count().loc['2022-09-01']\n",
    "\n",
    "\n",
    "\n",
    "\n",
    "# Bugagge.groupby(['Flight Date','Flight No']).count()\n",
    "\n",
    "# Bugagge['Flight No']"
   ]
  },
  {
   "cell_type": "code",
   "execution_count": 284,
   "metadata": {},
   "outputs": [
    {
     "data": {
      "text/plain": [
       "0       SQ208\n",
       "2      ﻿SQ208\n",
       "12       SQ11\n",
       "25      SQ242\n",
       "29       TR25\n",
       "        ...  \n",
       "683     SQ185\n",
       "698     SQ906\n",
       "705     TR467\n",
       "710     SQ193\n",
       "715     TR391\n",
       "Name: Flight No, Length: 81, dtype: object"
      ]
     },
     "execution_count": 284,
     "metadata": {},
     "output_type": "execute_result"
    }
   ],
   "source": [
    "# distinct flightNumber on 2022-09-01:\n",
    "\n",
    "\n",
    "\n",
    "Bugagge[Bugagge['Flight Date']=='2022-09-01']['Flight No']"
   ]
  },
  {
   "cell_type": "code",
   "execution_count": 131,
   "metadata": {},
   "outputs": [],
   "source": [
    "# datewise flights in dataStaff and save count in new column:\n",
    "# dataStaff['Flight Count Staff']=dataStaff.groupby('Flight Date')['Flight'].count()\n",
    "\n",
    "\n",
    "# dataNew a new dataframe with Flight Date and Flight Count Staff\n",
    "dataNew=pd.DataFrame(dataStaff.groupby('Flight Date')['Flight'].count())\n",
    "# dataStaff.groupby('Flight Date')['Flight'].count()\n",
    "# # save this as new column in dataStaff\n",
    "# dataNew['Flight Count Staff']=dataStaff.groupby('Flight Date')['Flight'].count()"
   ]
  },
  {
   "cell_type": "code",
   "execution_count": 135,
   "metadata": {},
   "outputs": [
    {
     "data": {
      "text/html": [
       "<div>\n",
       "<style scoped>\n",
       "    .dataframe tbody tr th:only-of-type {\n",
       "        vertical-align: middle;\n",
       "    }\n",
       "\n",
       "    .dataframe tbody tr th {\n",
       "        vertical-align: top;\n",
       "    }\n",
       "\n",
       "    .dataframe thead th {\n",
       "        text-align: right;\n",
       "    }\n",
       "</style>\n",
       "<table border=\"1\" class=\"dataframe\">\n",
       "  <thead>\n",
       "    <tr style=\"text-align: right;\">\n",
       "      <th></th>\n",
       "      <th>Flight</th>\n",
       "      <th>Flight Count</th>\n",
       "    </tr>\n",
       "    <tr>\n",
       "      <th>Flight Date</th>\n",
       "      <th></th>\n",
       "      <th></th>\n",
       "    </tr>\n",
       "  </thead>\n",
       "  <tbody>\n",
       "    <tr>\n",
       "      <th>2022-09-07</th>\n",
       "      <td>110</td>\n",
       "      <td>109</td>\n",
       "    </tr>\n",
       "    <tr>\n",
       "      <th>2022-09-10</th>\n",
       "      <td>114</td>\n",
       "      <td>113</td>\n",
       "    </tr>\n",
       "    <tr>\n",
       "      <th>2022-10-21</th>\n",
       "      <td>113</td>\n",
       "      <td>112</td>\n",
       "    </tr>\n",
       "    <tr>\n",
       "      <th>2022-10-26</th>\n",
       "      <td>110</td>\n",
       "      <td>109</td>\n",
       "    </tr>\n",
       "    <tr>\n",
       "      <th>2022-11-11</th>\n",
       "      <td>126</td>\n",
       "      <td>125</td>\n",
       "    </tr>\n",
       "  </tbody>\n",
       "</table>\n",
       "</div>"
      ],
      "text/plain": [
       "             Flight  Flight Count\n",
       "Flight Date                      \n",
       "2022-09-07      110           109\n",
       "2022-09-10      114           113\n",
       "2022-10-21      113           112\n",
       "2022-10-26      110           109\n",
       "2022-11-11      126           125"
      ]
     },
     "execution_count": 135,
     "metadata": {},
     "output_type": "execute_result"
    }
   ],
   "source": [
    "dataNew.head()\n",
    "# find where is the difference between Flight and Flight Cout\n",
    "dataNew[dataNew['Flight']!=dataNew['Flight Count']]"
   ]
  },
  {
   "cell_type": "code",
   "execution_count": 133,
   "metadata": {},
   "outputs": [],
   "source": [
    "dataNew['Flight Count']=dataStaffBugagge.groupby('Flight Date')['Flight No'].count()"
   ]
  },
  {
   "cell_type": "code",
   "execution_count": 129,
   "metadata": {},
   "outputs": [
    {
     "data": {
      "text/html": [
       "<div>\n",
       "<style scoped>\n",
       "    .dataframe tbody tr th:only-of-type {\n",
       "        vertical-align: middle;\n",
       "    }\n",
       "\n",
       "    .dataframe tbody tr th {\n",
       "        vertical-align: top;\n",
       "    }\n",
       "\n",
       "    .dataframe thead th {\n",
       "        text-align: right;\n",
       "    }\n",
       "</style>\n",
       "<table border=\"1\" class=\"dataframe\">\n",
       "  <thead>\n",
       "    <tr style=\"text-align: right;\">\n",
       "      <th></th>\n",
       "      <th>Unnamed: 0</th>\n",
       "      <th>Flight Date</th>\n",
       "      <th>Orientation</th>\n",
       "      <th>Flight</th>\n",
       "      <th>ST</th>\n",
       "      <th>ET</th>\n",
       "      <th>RLO</th>\n",
       "      <th>RSM</th>\n",
       "      <th>EO</th>\n",
       "      <th>AA</th>\n",
       "      <th>staff</th>\n",
       "      <th>Flight Count Staff</th>\n",
       "      <th>Flight Count BugaggeStaff</th>\n",
       "    </tr>\n",
       "  </thead>\n",
       "  <tbody>\n",
       "    <tr>\n",
       "      <th>2</th>\n",
       "      <td>2</td>\n",
       "      <td>2022-09-01</td>\n",
       "      <td>Arrival</td>\n",
       "      <td>SQ208</td>\n",
       "      <td>15</td>\n",
       "      <td>21.0</td>\n",
       "      <td>1</td>\n",
       "      <td>4</td>\n",
       "      <td>1</td>\n",
       "      <td>2</td>\n",
       "      <td>8</td>\n",
       "      <td>NaN</td>\n",
       "      <td>NaN</td>\n",
       "    </tr>\n",
       "    <tr>\n",
       "      <th>4</th>\n",
       "      <td>4</td>\n",
       "      <td>2022-09-01</td>\n",
       "      <td>Arrival</td>\n",
       "      <td>SQ242</td>\n",
       "      <td>20</td>\n",
       "      <td>40.0</td>\n",
       "      <td>1</td>\n",
       "      <td>3</td>\n",
       "      <td>1</td>\n",
       "      <td>1</td>\n",
       "      <td>6</td>\n",
       "      <td>NaN</td>\n",
       "      <td>NaN</td>\n",
       "    </tr>\n",
       "    <tr>\n",
       "      <th>11</th>\n",
       "      <td>11</td>\n",
       "      <td>2022-09-01</td>\n",
       "      <td>Arrival</td>\n",
       "      <td>SQ11</td>\n",
       "      <td>115</td>\n",
       "      <td>38.0</td>\n",
       "      <td>1</td>\n",
       "      <td>3</td>\n",
       "      <td>1</td>\n",
       "      <td>2</td>\n",
       "      <td>7</td>\n",
       "      <td>NaN</td>\n",
       "      <td>NaN</td>\n",
       "    </tr>\n",
       "    <tr>\n",
       "      <th>22</th>\n",
       "      <td>22</td>\n",
       "      <td>2022-09-01</td>\n",
       "      <td>Arrival</td>\n",
       "      <td>TR25</td>\n",
       "      <td>355</td>\n",
       "      <td>355.0</td>\n",
       "      <td>1</td>\n",
       "      <td>3</td>\n",
       "      <td>1</td>\n",
       "      <td>1</td>\n",
       "      <td>6</td>\n",
       "      <td>NaN</td>\n",
       "      <td>NaN</td>\n",
       "    </tr>\n",
       "    <tr>\n",
       "      <th>23</th>\n",
       "      <td>23</td>\n",
       "      <td>2022-09-01</td>\n",
       "      <td>Arrival</td>\n",
       "      <td>TR509</td>\n",
       "      <td>405</td>\n",
       "      <td>510.0</td>\n",
       "      <td>1</td>\n",
       "      <td>3</td>\n",
       "      <td>1</td>\n",
       "      <td>2</td>\n",
       "      <td>7</td>\n",
       "      <td>NaN</td>\n",
       "      <td>NaN</td>\n",
       "    </tr>\n",
       "  </tbody>\n",
       "</table>\n",
       "</div>"
      ],
      "text/plain": [
       "    Unnamed: 0 Flight Date Orientation Flight   ST     ET  RLO   RSM  EO  AA  \\\n",
       "2            2  2022-09-01     Arrival  SQ208   15   21.0     1    4   1   2   \n",
       "4            4  2022-09-01     Arrival  SQ242   20   40.0     1    3   1   1   \n",
       "11          11  2022-09-01     Arrival   SQ11  115   38.0     1    3   1   2   \n",
       "22          22  2022-09-01     Arrival   TR25  355  355.0     1    3   1   1   \n",
       "23          23  2022-09-01     Arrival  TR509  405  510.0     1    3   1   2   \n",
       "\n",
       "    staff  Flight Count Staff  Flight Count BugaggeStaff  \n",
       "2       8                 NaN                        NaN  \n",
       "4       6                 NaN                        NaN  \n",
       "11      7                 NaN                        NaN  \n",
       "22      6                 NaN                        NaN  \n",
       "23      7                 NaN                        NaN  "
      ]
     },
     "execution_count": 129,
     "metadata": {},
     "output_type": "execute_result"
    }
   ],
   "source": [
    "dataStaff.head()"
   ]
  },
  {
   "cell_type": "code",
   "execution_count": 124,
   "metadata": {},
   "outputs": [],
   "source": [
    "# daewise flights in  dataStaffBugagge\n",
    "dataStaff['Flight Count BugaggeStaff'] =dataStaffBugagge.groupby('Flight Date')['Flight No'].count()"
   ]
  },
  {
   "cell_type": "code",
   "execution_count": 125,
   "metadata": {},
   "outputs": [
    {
     "data": {
      "text/html": [
       "<div>\n",
       "<style scoped>\n",
       "    .dataframe tbody tr th:only-of-type {\n",
       "        vertical-align: middle;\n",
       "    }\n",
       "\n",
       "    .dataframe tbody tr th {\n",
       "        vertical-align: top;\n",
       "    }\n",
       "\n",
       "    .dataframe thead th {\n",
       "        text-align: right;\n",
       "    }\n",
       "</style>\n",
       "<table border=\"1\" class=\"dataframe\">\n",
       "  <thead>\n",
       "    <tr style=\"text-align: right;\">\n",
       "      <th></th>\n",
       "      <th>Unnamed: 0</th>\n",
       "      <th>Flight Date</th>\n",
       "      <th>Orientation</th>\n",
       "      <th>Flight</th>\n",
       "      <th>ST</th>\n",
       "      <th>ET</th>\n",
       "      <th>RLO</th>\n",
       "      <th>RSM</th>\n",
       "      <th>EO</th>\n",
       "      <th>AA</th>\n",
       "      <th>staff</th>\n",
       "      <th>Flight Count Staff</th>\n",
       "      <th>Flight Count BugaggeStaff</th>\n",
       "    </tr>\n",
       "  </thead>\n",
       "  <tbody>\n",
       "    <tr>\n",
       "      <th>2</th>\n",
       "      <td>2</td>\n",
       "      <td>2022-09-01</td>\n",
       "      <td>Arrival</td>\n",
       "      <td>SQ208</td>\n",
       "      <td>15</td>\n",
       "      <td>21.0</td>\n",
       "      <td>1</td>\n",
       "      <td>4</td>\n",
       "      <td>1</td>\n",
       "      <td>2</td>\n",
       "      <td>8</td>\n",
       "      <td>NaN</td>\n",
       "      <td>NaN</td>\n",
       "    </tr>\n",
       "    <tr>\n",
       "      <th>4</th>\n",
       "      <td>4</td>\n",
       "      <td>2022-09-01</td>\n",
       "      <td>Arrival</td>\n",
       "      <td>SQ242</td>\n",
       "      <td>20</td>\n",
       "      <td>40.0</td>\n",
       "      <td>1</td>\n",
       "      <td>3</td>\n",
       "      <td>1</td>\n",
       "      <td>1</td>\n",
       "      <td>6</td>\n",
       "      <td>NaN</td>\n",
       "      <td>NaN</td>\n",
       "    </tr>\n",
       "    <tr>\n",
       "      <th>11</th>\n",
       "      <td>11</td>\n",
       "      <td>2022-09-01</td>\n",
       "      <td>Arrival</td>\n",
       "      <td>SQ11</td>\n",
       "      <td>115</td>\n",
       "      <td>38.0</td>\n",
       "      <td>1</td>\n",
       "      <td>3</td>\n",
       "      <td>1</td>\n",
       "      <td>2</td>\n",
       "      <td>7</td>\n",
       "      <td>NaN</td>\n",
       "      <td>NaN</td>\n",
       "    </tr>\n",
       "    <tr>\n",
       "      <th>22</th>\n",
       "      <td>22</td>\n",
       "      <td>2022-09-01</td>\n",
       "      <td>Arrival</td>\n",
       "      <td>TR25</td>\n",
       "      <td>355</td>\n",
       "      <td>355.0</td>\n",
       "      <td>1</td>\n",
       "      <td>3</td>\n",
       "      <td>1</td>\n",
       "      <td>1</td>\n",
       "      <td>6</td>\n",
       "      <td>NaN</td>\n",
       "      <td>NaN</td>\n",
       "    </tr>\n",
       "    <tr>\n",
       "      <th>23</th>\n",
       "      <td>23</td>\n",
       "      <td>2022-09-01</td>\n",
       "      <td>Arrival</td>\n",
       "      <td>TR509</td>\n",
       "      <td>405</td>\n",
       "      <td>510.0</td>\n",
       "      <td>1</td>\n",
       "      <td>3</td>\n",
       "      <td>1</td>\n",
       "      <td>2</td>\n",
       "      <td>7</td>\n",
       "      <td>NaN</td>\n",
       "      <td>NaN</td>\n",
       "    </tr>\n",
       "  </tbody>\n",
       "</table>\n",
       "</div>"
      ],
      "text/plain": [
       "    Unnamed: 0 Flight Date Orientation Flight   ST     ET  RLO   RSM  EO  AA  \\\n",
       "2            2  2022-09-01     Arrival  SQ208   15   21.0     1    4   1   2   \n",
       "4            4  2022-09-01     Arrival  SQ242   20   40.0     1    3   1   1   \n",
       "11          11  2022-09-01     Arrival   SQ11  115   38.0     1    3   1   2   \n",
       "22          22  2022-09-01     Arrival   TR25  355  355.0     1    3   1   1   \n",
       "23          23  2022-09-01     Arrival  TR509  405  510.0     1    3   1   2   \n",
       "\n",
       "    staff  Flight Count Staff  Flight Count BugaggeStaff  \n",
       "2       8                 NaN                        NaN  \n",
       "4       6                 NaN                        NaN  \n",
       "11      7                 NaN                        NaN  \n",
       "22      6                 NaN                        NaN  \n",
       "23      7                 NaN                        NaN  "
      ]
     },
     "execution_count": 125,
     "metadata": {},
     "output_type": "execute_result"
    }
   ],
   "source": [
    "dataStaff.head()"
   ]
  },
  {
   "cell_type": "code",
   "execution_count": null,
   "metadata": {},
   "outputs": [],
   "source": []
  }
 ],
 "metadata": {
  "kernelspec": {
   "display_name": "Python 3",
   "language": "python",
   "name": "python3"
  },
  "language_info": {
   "codemirror_mode": {
    "name": "ipython",
    "version": 3
   },
   "file_extension": ".py",
   "mimetype": "text/x-python",
   "name": "python",
   "nbconvert_exporter": "python",
   "pygments_lexer": "ipython3",
   "version": "3.10.7"
  },
  "orig_nbformat": 4,
  "vscode": {
   "interpreter": {
    "hash": "67e0cbc25fa4f5baaacba1240f401bc655b640f8e15cfc935dfee2e63491bdf4"
   }
  }
 },
 "nbformat": 4,
 "nbformat_minor": 2
}
