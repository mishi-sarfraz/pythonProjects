{
 "cells": [
  {
   "cell_type": "code",
   "execution_count": 11,
   "metadata": {},
   "outputs": [
    {
     "ename": "TypeError",
     "evalue": "'dict' object cannot be interpreted as an integer",
     "output_type": "error",
     "traceback": [
      "\u001b[1;31m---------------------------------------------------------------------------\u001b[0m",
      "\u001b[1;31mTypeError\u001b[0m                                 Traceback (most recent call last)",
      "Cell \u001b[1;32mIn [11], line 9\u001b[0m\n\u001b[0;32m      5\u001b[0m allNames \u001b[39m=\u001b[39m \u001b[39msorted\u001b[39m(my_dict)\n\u001b[0;32m      6\u001b[0m \u001b[39m# combinations = it.product(*(my_dict[Name] for Name in allNames))\u001b[39;00m\n\u001b[0;32m      7\u001b[0m \u001b[39m#  convert to dictionary\u001b[39;00m\n\u001b[1;32m----> 9\u001b[0m combinations\u001b[39m=\u001b[39m\u001b[39mlist\u001b[39m(combinations(my_dict,my_dic2))\n",
      "\u001b[1;31mTypeError\u001b[0m: 'dict' object cannot be interpreted as an integer"
     ]
    }
   ],
   "source": [
    "from itertools import combinations\n",
    "\n",
    "my_dict={'A':1,'B':2,'C':3}\n",
    "my_dic2={'X':1,'Y':2,'Z':3}\n",
    "allNames = sorted(my_dict)\n",
    "# combinations = it.product(*(my_dict[Name] for Name in allNames))\n",
    "#  convert to dictionary\n",
    "\n",
    "combinations=list(combinations(my_dict,my_dic2))\n",
    "# combinations = [dict(zip(allNames, prod)) for prod in combinations]\n"
   ]
  },
  {
   "cell_type": "code",
   "execution_count": 12,
   "metadata": {},
   "outputs": [
    {
     "name": "stdout",
     "output_type": "stream",
     "text": [
      "D\n",
      "F\n",
      "I\n",
      "D\n",
      "F\n",
      "J\n",
      "D\n",
      "G\n",
      "I\n",
      "D\n",
      "G\n",
      "J\n",
      "D\n",
      "H\n",
      "I\n",
      "D\n",
      "H\n",
      "J\n",
      "E\n",
      "F\n",
      "I\n",
      "E\n",
      "F\n",
      "J\n",
      "E\n",
      "G\n",
      "I\n",
      "E\n",
      "G\n",
      "J\n",
      "E\n",
      "H\n",
      "I\n",
      "E\n",
      "H\n",
      "J\n"
     ]
    }
   ],
   "source": [
    "from sklearn.model_selection import ParameterGrid\n",
    "\n",
    "params = {'A':['D','E'],'B':['F','G','H'],'C':['I','J']}\n",
    "param_grid = ParameterGrid(params)\n",
    "for dict_ in param_grid:\n",
    "    # Do something with the current parameter combination in ``dict_``\n",
    "    print(dict_[\"A\"])\n",
    "    print(dict_[\"B\"])\n",
    "    print(dict_[\"C\"])\n"
   ]
  },
  {
   "cell_type": "code",
   "execution_count": null,
   "metadata": {},
   "outputs": [],
   "source": []
  }
 ],
 "metadata": {
  "kernelspec": {
   "display_name": "Python 3.10.7 64-bit",
   "language": "python",
   "name": "python3"
  },
  "language_info": {
   "codemirror_mode": {
    "name": "ipython",
    "version": 3
   },
   "file_extension": ".py",
   "mimetype": "text/x-python",
   "name": "python",
   "nbconvert_exporter": "python",
   "pygments_lexer": "ipython3",
   "version": "3.10.7"
  },
  "orig_nbformat": 4,
  "vscode": {
   "interpreter": {
    "hash": "67e0cbc25fa4f5baaacba1240f401bc655b640f8e15cfc935dfee2e63491bdf4"
   }
  }
 },
 "nbformat": 4,
 "nbformat_minor": 2
}
