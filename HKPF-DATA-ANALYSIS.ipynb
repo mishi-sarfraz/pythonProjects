{
 "cells": [
  {
   "cell_type": "code",
   "execution_count": 104,
   "metadata": {},
   "outputs": [],
   "source": [
    "import pandas as pd\n",
    "#  read file from the harddisk\n",
    "#  omitting first row\n",
    "\n",
    "df=pd.read_excel('E:\\HKPF\\deception_output_121_141.xlsx',header=None)"
   ]
  },
  {
   "cell_type": "code",
   "execution_count": 105,
   "metadata": {},
   "outputs": [],
   "source": [
    "df.head()\n",
    "# insert column with index\n",
    "df.insert(0,'index',range(0,0+len(df)))"
   ]
  },
  {
   "cell_type": "code",
   "execution_count": 106,
   "metadata": {},
   "outputs": [],
   "source": [
    "#  rename the index column\n",
    "df.rename(columns={'index':'Newindex'},inplace=True)"
   ]
  },
  {
   "cell_type": "code",
   "execution_count": 107,
   "metadata": {},
   "outputs": [],
   "source": [
    "df.rename(columns={0:'col0'},inplace=True)"
   ]
  },
  {
   "cell_type": "code",
   "execution_count": 108,
   "metadata": {},
   "outputs": [],
   "source": [
    "df.rename(columns={1:'col1'},inplace=True)"
   ]
  },
  {
   "cell_type": "code",
   "execution_count": 109,
   "metadata": {},
   "outputs": [
    {
     "data": {
      "text/html": [
       "<div>\n",
       "<style scoped>\n",
       "    .dataframe tbody tr th:only-of-type {\n",
       "        vertical-align: middle;\n",
       "    }\n",
       "\n",
       "    .dataframe tbody tr th {\n",
       "        vertical-align: top;\n",
       "    }\n",
       "\n",
       "    .dataframe thead th {\n",
       "        text-align: right;\n",
       "    }\n",
       "</style>\n",
       "<table border=\"1\" class=\"dataframe\">\n",
       "  <thead>\n",
       "    <tr style=\"text-align: right;\">\n",
       "      <th></th>\n",
       "      <th>Newindex</th>\n",
       "      <th>col0</th>\n",
       "      <th>col1</th>\n",
       "    </tr>\n",
       "  </thead>\n",
       "  <tbody>\n",
       "    <tr>\n",
       "      <th>0</th>\n",
       "      <td>0</td>\n",
       "      <td>-DOCSTART- -X- O O</td>\n",
       "      <td>NaN</td>\n",
       "    </tr>\n",
       "    <tr>\n",
       "      <th>1</th>\n",
       "      <td>1</td>\n",
       "      <td>At</td>\n",
       "      <td>O</td>\n",
       "    </tr>\n",
       "    <tr>\n",
       "      <th>2</th>\n",
       "      <td>2</td>\n",
       "      <td>A/D/T/L,</td>\n",
       "      <td>O</td>\n",
       "    </tr>\n",
       "    <tr>\n",
       "      <th>3</th>\n",
       "      <td>3</td>\n",
       "      <td>VTM</td>\n",
       "      <td>O</td>\n",
       "    </tr>\n",
       "    <tr>\n",
       "      <th>4</th>\n",
       "      <td>4</td>\n",
       "      <td>saw</td>\n",
       "      <td>O</td>\n",
       "    </tr>\n",
       "  </tbody>\n",
       "</table>\n",
       "</div>"
      ],
      "text/plain": [
       "   Newindex                col0 col1\n",
       "0         0  -DOCSTART- -X- O O  NaN\n",
       "1         1                  At    O\n",
       "2         2            A/D/T/L,    O\n",
       "3         3                 VTM    O\n",
       "4         4                 saw    O"
      ]
     },
     "execution_count": 109,
     "metadata": {},
     "output_type": "execute_result"
    }
   ],
   "source": [
    "df.head()"
   ]
  },
  {
   "cell_type": "code",
   "execution_count": 110,
   "metadata": {},
   "outputs": [
    {
     "ename": "ValueError",
     "evalue": "Cannot mask with non-boolean array containing NA / NaN values",
     "output_type": "error",
     "traceback": [
      "\u001b[1;31m---------------------------------------------------------------------------\u001b[0m",
      "\u001b[1;31mValueError\u001b[0m                                Traceback (most recent call last)",
      "Cell \u001b[1;32mIn [110], line 7\u001b[0m\n\u001b[0;32m      1\u001b[0m \u001b[39m# find in column 0 BEA,BOC,Citibank ,Mainland ICBC,BOC,HSB,Citibank,ICBC,HK bank, ICBC,HSB, HSBC,SCB,ZA bank,Bank\u001b[39;00m\n\u001b[0;32m      2\u001b[0m \u001b[39m# if df[0].str.contains('BEA' or 'BOC' or'Citibank'|'Mainland ICBC'|'BOC'|'HSB'|'Citibank'|'ICBC'|'HK bank'|'ICBC'|'HSB'|'HSBC'or'SCB'|'ZA bank'|'Bank').any():\u001b[39;00m\n\u001b[0;32m      3\u001b[0m     \u001b[39m# print current index of the row\u001b[39;00m\n\u001b[0;32m      4\u001b[0m \u001b[39m#  return the corresponding Newindex if 0 column contains SCB\u001b[39;00m\n\u001b[0;32m      5\u001b[0m \u001b[39m# index_numbers = df.index[df['col0'].str.contains('SCB')].tolist()\u001b[39;00m\n\u001b[1;32m----> 7\u001b[0m \u001b[39mprint\u001b[39m(df[df[\u001b[39m'\u001b[39m\u001b[39mcol0\u001b[39m\u001b[39m'\u001b[39m]\u001b[39m.\u001b[39mstr\u001b[39m.\u001b[39mcontains(\u001b[39m'\u001b[39m\u001b[39mSCB\u001b[39m\u001b[39m'\u001b[39m)]\u001b[39m.\u001b[39mindex\u001b[39m.\u001b[39mtolist())\n\u001b[0;32m      8\u001b[0m \u001b[39mimport\u001b[39;00m \u001b[39mpandas\u001b[39;00m \u001b[39mas\u001b[39;00m \u001b[39mpd\u001b[39;00m\n\u001b[0;32m      9\u001b[0m \u001b[39m# import numpy as np\u001b[39;00m\n\u001b[0;32m     10\u001b[0m \n\u001b[0;32m     11\u001b[0m \u001b[39m# Create a sample DataFrame with NaN values\u001b[39;00m\n\u001b[1;32m   (...)\u001b[0m\n\u001b[0;32m     17\u001b[0m \n\u001b[0;32m     18\u001b[0m \u001b[39m# Get the index number of rows where col1 contains 'SCB' and is not NaN\u001b[39;00m\n",
      "File \u001b[1;32mc:\\Users\\pc\\AppData\\Local\\Programs\\Python\\Python310\\lib\\site-packages\\pandas\\core\\frame.py:3795\u001b[0m, in \u001b[0;36mDataFrame.__getitem__\u001b[1;34m(self, key)\u001b[0m\n\u001b[0;32m   3792\u001b[0m     \u001b[39mreturn\u001b[39;00m \u001b[39mself\u001b[39m\u001b[39m.\u001b[39mwhere(key)\n\u001b[0;32m   3794\u001b[0m \u001b[39m# Do we have a (boolean) 1d indexer?\u001b[39;00m\n\u001b[1;32m-> 3795\u001b[0m \u001b[39mif\u001b[39;00m com\u001b[39m.\u001b[39;49mis_bool_indexer(key):\n\u001b[0;32m   3796\u001b[0m     \u001b[39mreturn\u001b[39;00m \u001b[39mself\u001b[39m\u001b[39m.\u001b[39m_getitem_bool_array(key)\n\u001b[0;32m   3798\u001b[0m \u001b[39m# We are left with two options: a single key, and a collection of keys,\u001b[39;00m\n\u001b[0;32m   3799\u001b[0m \u001b[39m# We interpret tuples as collections only for non-MultiIndex\u001b[39;00m\n",
      "File \u001b[1;32mc:\\Users\\pc\\AppData\\Local\\Programs\\Python\\Python310\\lib\\site-packages\\pandas\\core\\common.py:135\u001b[0m, in \u001b[0;36mis_bool_indexer\u001b[1;34m(key)\u001b[0m\n\u001b[0;32m    131\u001b[0m     na_msg \u001b[39m=\u001b[39m \u001b[39m\"\u001b[39m\u001b[39mCannot mask with non-boolean array containing NA / NaN values\u001b[39m\u001b[39m\"\u001b[39m\n\u001b[0;32m    132\u001b[0m     \u001b[39mif\u001b[39;00m lib\u001b[39m.\u001b[39minfer_dtype(key_array) \u001b[39m==\u001b[39m \u001b[39m\"\u001b[39m\u001b[39mboolean\u001b[39m\u001b[39m\"\u001b[39m \u001b[39mand\u001b[39;00m isna(key_array)\u001b[39m.\u001b[39many():\n\u001b[0;32m    133\u001b[0m         \u001b[39m# Don't raise on e.g. [\"A\", \"B\", np.nan], see\u001b[39;00m\n\u001b[0;32m    134\u001b[0m         \u001b[39m#  test_loc_getitem_list_of_labels_categoricalindex_with_na\u001b[39;00m\n\u001b[1;32m--> 135\u001b[0m         \u001b[39mraise\u001b[39;00m \u001b[39mValueError\u001b[39;00m(na_msg)\n\u001b[0;32m    136\u001b[0m     \u001b[39mreturn\u001b[39;00m \u001b[39mFalse\u001b[39;00m\n\u001b[0;32m    137\u001b[0m \u001b[39mreturn\u001b[39;00m \u001b[39mTrue\u001b[39;00m\n",
      "\u001b[1;31mValueError\u001b[0m: Cannot mask with non-boolean array containing NA / NaN values"
     ]
    }
   ],
   "source": [
    "# find in column 0 BEA,BOC,Citibank ,Mainland ICBC,BOC,HSB,Citibank,ICBC,HK bank, ICBC,HSB, HSBC,SCB,ZA bank,Bank\n",
    "# if df[0].str.contains('BEA' or 'BOC' or'Citibank'|'Mainland ICBC'|'BOC'|'HSB'|'Citibank'|'ICBC'|'HK bank'|'ICBC'|'HSB'|'HSBC'or'SCB'|'ZA bank'|'Bank').any():\n",
    "    # print current index of the row\n",
    "#  return the corresponding Newindex if 0 column contains SCB\n",
    "# index_numbers = df.index[df['col0'].str.contains('SCB')].tolist()\n",
    "\n",
    "print(df[df['col0'].str.contains('SCB')].index.tolist())\n",
    "import pandas as pd\n",
    "# import numpy as np\n",
    "\n",
    "# Create a sample DataFrame with NaN values\n",
    "# df = pd.DataFrame({\n",
    "#     'col1': ['SCB-123', 'ABC-456', np.nan, 'SCB-789'],\n",
    "#     'col2': [10, 20, 30, 40],\n",
    "#     'col3': ['A', 'B', 'C', 'D']\n",
    "# })\n",
    "\n",
    "# Get the index number of rows where col1 contains 'SCB' and is not NaN\n",
    "index_numbers = df.index[(df['col0'].str.contains('SCB')) & (~df['col1'].isna())].tolist()\n",
    "\n",
    "print(index_numbers)  # Output: [0, 3]\n",
    "\n",
    "\n",
    "# if df[0].str.contains('SCB'):\n",
    "#     print(df.Newindex)"
   ]
  },
  {
   "cell_type": "code",
   "execution_count": 111,
   "metadata": {},
   "outputs": [
    {
     "name": "stdout",
     "output_type": "stream",
     "text": [
      "[0, 56, 154, 216, 282, 372, 445, 446]\n"
     ]
    }
   ],
   "source": [
    "# Create a boolean mask indicating the locations of NaN values in col1\n",
    "nan_mask = df['col1'].isna()\n",
    "\n",
    "# Select only the non-NaN values in col1 and check if they contain 'SCB'\n",
    "scb_mask = df.loc[~nan_mask, 'col0'].str.contains('SCB')\n",
    "\n",
    "# Get the index number of rows where col1 contains 'SCB' and is not NaN\n",
    "index_numbers = df.index[nan_mask | scb_mask].tolist()\n",
    "\n",
    "print(index_numbers)"
   ]
  },
  {
   "cell_type": "code",
   "execution_count": 112,
   "metadata": {},
   "outputs": [],
   "source": [
    "nan_mask = df['col0'].isna()\n",
    "\n",
    "# Select only the non-NaN values in col0 and check if they contain 'SCB'\n",
    "scb_mask = df.loc[~nan_mask, 'col0'].str.contains('SCB')\n",
    "\n",
    "# scb_mask = df['col0'].str.contains('SCB')\n",
    "\n",
    "# # Get the index number of rows where col0 contains 'SCB'\n",
    "# index_numbers = df.index[scb_mask].tolist()\n",
    "\n",
    "# print(index_numbers)  # Output: [0, 2]"
   ]
  },
  {
   "cell_type": "code",
   "execution_count": 113,
   "metadata": {},
   "outputs": [
    {
     "name": "stdout",
     "output_type": "stream",
     "text": [
      "0      False\n",
      "1      False\n",
      "2      False\n",
      "3      False\n",
      "4      False\n",
      "       ...  \n",
      "442    False\n",
      "443    False\n",
      "444    False\n",
      "445    False\n",
      "446    False\n",
      "Name: col0, Length: 447, dtype: object\n"
     ]
    }
   ],
   "source": [
    "print(scb_mask)"
   ]
  },
  {
   "cell_type": "code",
   "execution_count": 114,
   "metadata": {},
   "outputs": [
    {
     "name": "stdout",
     "output_type": "stream",
     "text": [
      "[]\n"
     ]
    }
   ],
   "source": [
    "nan_mask = df['col0'].isna()\n",
    "\n",
    "# Select only the non-NaN values in col0 and check if they contain 'SCB'\n",
    "scb_mask = df.loc[~nan_mask, 'col0'].str.contains('SCB')\n",
    "\n",
    "# Get the index number of rows where col0 contains 'SCB' and is not NaN\n",
    "index_numbers = df.index[nan_mask | scb_mask].tolist()\n",
    "\n",
    "print(index_numbers)  # Output: [0, 3]"
   ]
  },
  {
   "cell_type": "code",
   "execution_count": 115,
   "metadata": {},
   "outputs": [
    {
     "data": {
      "text/plain": [
       "8"
      ]
     },
     "execution_count": 115,
     "metadata": {},
     "output_type": "execute_result"
    }
   ],
   "source": [
    "#  find summary of the column 0\n",
    "#  find NAN IN  col0\n",
    "#  find NAN IN  col1\n",
    "#  find NAN IN  Newindex\n",
    "df['col1'].isnull().sum()\n",
    "# df['col0'].value_counts()"
   ]
  },
  {
   "cell_type": "code",
   "execution_count": 116,
   "metadata": {},
   "outputs": [
    {
     "data": {
      "text/plain": [
       "[0, 56, 154, 216, 282, 372, 445, 446]"
      ]
     },
     "execution_count": 116,
     "metadata": {},
     "output_type": "execute_result"
    }
   ],
   "source": [
    "# find index of the row with NAN in col1\n",
    "df[df['col1'].isnull()].index.tolist()"
   ]
  },
  {
   "cell_type": "code",
   "execution_count": 117,
   "metadata": {},
   "outputs": [
    {
     "data": {
      "text/plain": [
       "Newindex          81\n",
       "col0          gaming\n",
       "col1        I-METHOD\n",
       "Name: 81, dtype: object"
      ]
     },
     "execution_count": 117,
     "metadata": {},
     "output_type": "execute_result"
    }
   ],
   "source": [
    "#  print 81 row\n",
    "df.iloc[81]"
   ]
  },
  {
   "attachments": {},
   "cell_type": "markdown",
   "metadata": {},
   "source": [
    "# Bank Related"
   ]
  },
  {
   "cell_type": "code",
   "execution_count": 118,
   "metadata": {},
   "outputs": [
    {
     "name": "stdout",
     "output_type": "stream",
     "text": [
      "[220, 242, 373, 404]\n"
     ]
    }
   ],
   "source": [
    "# Create a regular expression that matches any of the desired substrings\n",
    "regex = r'SCB|BEA|BOC|Citibank|Mainland ICBC|HSB|ICBC|HK bank|ZA bank|Bank'\n",
    "\n",
    "# Create a boolean mask indicating the locations of matching values in col0\n",
    "match_mask = df['col0'].str.contains(regex, na=False)\n",
    "\n",
    "# Get the index number of rows where col0 contains any of the desired substrings\n",
    "index_numbers = df.index[match_mask].tolist()\n",
    "\n",
    "print(index_numbers) "
   ]
  },
  {
   "cell_type": "code",
   "execution_count": 119,
   "metadata": {},
   "outputs": [
    {
     "name": "stdout",
     "output_type": "stream",
     "text": [
      "220                                                  HSB\n",
      "242                                                  HSB\n",
      "373    4.\\tO\\nTelephone\\tO\\nDeception\\tO\\n(Guess\\tO\\n...\n",
      "404                                                  HSB\n",
      "Name: col0, dtype: object\n"
     ]
    }
   ],
   "source": [
    "# print values in col1 for the rows with index numbers in index_numbers\n",
    "print(df.loc[index_numbers, 'col0'])"
   ]
  },
  {
   "attachments": {},
   "cell_type": "markdown",
   "metadata": {},
   "source": [
    "<!-- read data for bulgary cases and extract the"
   ]
  },
  {
   "cell_type": "code",
   "execution_count": 7,
   "metadata": {},
   "outputs": [],
   "source": [
    "import pandas as pd\n",
    "#  read file from the harddisk\n",
    "#  omitting first row\n",
    "\n",
    "df=pd.read_excel(r'E:\\Neural LAB\\HKPF\\burglary_output_41_60.xlsx')\n"
   ]
  },
  {
   "cell_type": "code",
   "execution_count": 8,
   "metadata": {},
   "outputs": [
    {
     "data": {
      "text/html": [
       "<div>\n",
       "<style scoped>\n",
       "    .dataframe tbody tr th:only-of-type {\n",
       "        vertical-align: middle;\n",
       "    }\n",
       "\n",
       "    .dataframe tbody tr th {\n",
       "        vertical-align: top;\n",
       "    }\n",
       "\n",
       "    .dataframe thead th {\n",
       "        text-align: right;\n",
       "    }\n",
       "</style>\n",
       "<table border=\"1\" class=\"dataframe\">\n",
       "  <thead>\n",
       "    <tr style=\"text-align: right;\">\n",
       "      <th></th>\n",
       "      <th>-DOCSTART- -X- O O</th>\n",
       "      <th>Unnamed: 1</th>\n",
       "    </tr>\n",
       "  </thead>\n",
       "  <tbody>\n",
       "    <tr>\n",
       "      <th>0</th>\n",
       "      <td>Involved</td>\n",
       "      <td>O</td>\n",
       "    </tr>\n",
       "    <tr>\n",
       "      <th>1</th>\n",
       "      <td>locations</td>\n",
       "      <td>O</td>\n",
       "    </tr>\n",
       "    <tr>\n",
       "      <th>2</th>\n",
       "      <td>are</td>\n",
       "      <td>O</td>\n",
       "    </tr>\n",
       "    <tr>\n",
       "      <th>3</th>\n",
       "      <td>situated</td>\n",
       "      <td>O</td>\n",
       "    </tr>\n",
       "    <tr>\n",
       "      <th>4</th>\n",
       "      <td>in</td>\n",
       "      <td>O</td>\n",
       "    </tr>\n",
       "  </tbody>\n",
       "</table>\n",
       "</div>"
      ],
      "text/plain": [
       "  -DOCSTART- -X- O O Unnamed: 1\n",
       "0           Involved          O\n",
       "1          locations          O\n",
       "2                are          O\n",
       "3           situated          O\n",
       "4                 in          O"
      ]
     },
     "execution_count": 8,
     "metadata": {},
     "output_type": "execute_result"
    }
   ],
   "source": [
    "df.head()"
   ]
  },
  {
   "cell_type": "code",
   "execution_count": 9,
   "metadata": {},
   "outputs": [],
   "source": [
    "# rename the column\n",
    "df.rename(columns={'Unnamed: 1':'col1'},inplace=True)\n",
    "df.rename(columns ={'-DOCSTART- -X- O O':'col0'},inplace=True)"
   ]
  },
  {
   "cell_type": "code",
   "execution_count": 10,
   "metadata": {},
   "outputs": [
    {
     "name": "stdout",
     "output_type": "stream",
     "text": [
      "[36, 78, 109, 110, 146, 177, 223, 224, 242, 249, 262, 292, 304, 305, 315, 344, 427, 435, 445, 472, 474, 477, 479, 480, 544, 579, 647, 650, 694, 724, 764, 785, 788, 799, 801, 897, 900, 903, 965, 968, 971, 995, 998, 999, 1011, 1013, 1097, 1101, 1104, 1179, 1193, 1194, 1268, 1271, 1272, 1281, 1290, 1320, 1377, 1482, 1526, 1541, 1546, 1563, 1566, 1568, 1574, 1578, 1597, 1666, 1730, 1743, 1747, 1749, 1755, 1784, 1839, 1866, 1896, 1922, 1927, 1940, 1941, 1942, 1988, 2029, 2245, 2249, 2250, 2321, 2341, 2468, 2647, 2788, 2838, 2868, 2871, 2876, 2917, 2983, 3015, 3043, 3154, 3165, 3168, 3298, 3300, 3320, 3327, 3356, 3373, 3374, 3511, 3522, 3527, 3594, 3674, 3675, 3700, 3744, 3750, 3751, 3753, 3755, 3875, 3910, 3946, 3984, 3985, 4060, 4068, 4086, 4088, 4223, 4228, 4241, 4290, 4304, 4307, 4347, 4358, 4433, 4493, 4570, 4571]\n"
     ]
    }
   ],
   "source": [
    "regex = r'Prize|prized|Prized|open|Open|force|Scaffolding|scaffolding|enter|entered|gate|unchallanged|door|via|through|by'\n",
    "\n",
    "# Create a boolean mask indicating the locations of matching values in col0\n",
    "match_mask = df['col0'].str.contains(regex, na=False)\n",
    "\n",
    "# Get the index number of rows where col0 contains any of the desired substrings\n",
    "index_numbers = df.index[match_mask].tolist()\n",
    "\n",
    "print(index_numbers) "
   ]
  },
  {
   "cell_type": "code",
   "execution_count": 11,
   "metadata": {},
   "outputs": [],
   "source": [
    "#  add 2 to the index number\n",
    "index_numbers = [x + 2 for x in index_numbers]"
   ]
  },
  {
   "cell_type": "code",
   "execution_count": 12,
   "metadata": {},
   "outputs": [
    {
     "data": {
      "text/plain": [
       "[38,\n",
       " 80,\n",
       " 111,\n",
       " 112,\n",
       " 148,\n",
       " 179,\n",
       " 225,\n",
       " 226,\n",
       " 244,\n",
       " 251,\n",
       " 264,\n",
       " 294,\n",
       " 306,\n",
       " 307,\n",
       " 317,\n",
       " 346,\n",
       " 429,\n",
       " 437,\n",
       " 447,\n",
       " 474,\n",
       " 476,\n",
       " 479,\n",
       " 481,\n",
       " 482,\n",
       " 546,\n",
       " 581,\n",
       " 649,\n",
       " 652,\n",
       " 696,\n",
       " 726,\n",
       " 766,\n",
       " 787,\n",
       " 790,\n",
       " 801,\n",
       " 803,\n",
       " 899,\n",
       " 902,\n",
       " 905,\n",
       " 967,\n",
       " 970,\n",
       " 973,\n",
       " 997,\n",
       " 1000,\n",
       " 1001,\n",
       " 1013,\n",
       " 1015,\n",
       " 1099,\n",
       " 1103,\n",
       " 1106,\n",
       " 1181,\n",
       " 1195,\n",
       " 1196,\n",
       " 1270,\n",
       " 1273,\n",
       " 1274,\n",
       " 1283,\n",
       " 1292,\n",
       " 1322,\n",
       " 1379,\n",
       " 1484,\n",
       " 1528,\n",
       " 1543,\n",
       " 1548,\n",
       " 1565,\n",
       " 1568,\n",
       " 1570,\n",
       " 1576,\n",
       " 1580,\n",
       " 1599,\n",
       " 1668,\n",
       " 1732,\n",
       " 1745,\n",
       " 1749,\n",
       " 1751,\n",
       " 1757,\n",
       " 1786,\n",
       " 1841,\n",
       " 1868,\n",
       " 1898,\n",
       " 1924,\n",
       " 1929,\n",
       " 1942,\n",
       " 1943,\n",
       " 1944,\n",
       " 1990,\n",
       " 2031,\n",
       " 2247,\n",
       " 2251,\n",
       " 2252,\n",
       " 2323,\n",
       " 2343,\n",
       " 2470,\n",
       " 2649,\n",
       " 2790,\n",
       " 2840,\n",
       " 2870,\n",
       " 2873,\n",
       " 2878,\n",
       " 2919,\n",
       " 2985,\n",
       " 3017,\n",
       " 3045,\n",
       " 3156,\n",
       " 3167,\n",
       " 3170,\n",
       " 3300,\n",
       " 3302,\n",
       " 3322,\n",
       " 3329,\n",
       " 3358,\n",
       " 3375,\n",
       " 3376,\n",
       " 3513,\n",
       " 3524,\n",
       " 3529,\n",
       " 3596,\n",
       " 3676,\n",
       " 3677,\n",
       " 3702,\n",
       " 3746,\n",
       " 3752,\n",
       " 3753,\n",
       " 3755,\n",
       " 3757,\n",
       " 3877,\n",
       " 3912,\n",
       " 3948,\n",
       " 3986,\n",
       " 3987,\n",
       " 4062,\n",
       " 4070,\n",
       " 4088,\n",
       " 4090,\n",
       " 4225,\n",
       " 4230,\n",
       " 4243,\n",
       " 4292,\n",
       " 4306,\n",
       " 4309,\n",
       " 4349,\n",
       " 4360,\n",
       " 4435,\n",
       " 4495,\n",
       " 4572,\n",
       " 4573]"
      ]
     },
     "execution_count": 12,
     "metadata": {},
     "output_type": "execute_result"
    }
   ],
   "source": [
    "index_numbers"
   ]
  },
  {
   "cell_type": "code",
   "execution_count": 120,
   "metadata": {},
   "outputs": [
    {
     "name": "stdout",
     "output_type": "stream",
     "text": [
      "[158, 159, 373, 446]\n"
     ]
    }
   ],
   "source": [
    "#  check all the rows with Romance,  Dating, Naked Chat, Telephone \n",
    "# Create a regular expression that matches any of the desired substrings\n",
    "regex2 = r'Romance|Dating|Naked|Telephone|Compensated'\n",
    "\n",
    "# Create a boolean mask indicating the locations of matching values in col0\n",
    "match_mask = df['col0'].str.contains(regex2, na=False)\n",
    "\n",
    "# Get the index number of rows where col0 contains any of the desired substrings\n",
    "index_numbers = df.index[match_mask].tolist()\n",
    "\n",
    "print(index_numbers) "
   ]
  },
  {
   "attachments": {},
   "cell_type": "markdown",
   "metadata": {},
   "source": [
    "# B-BEHAVIOUR"
   ]
  },
  {
   "cell_type": "code",
   "execution_count": 121,
   "metadata": {},
   "outputs": [
    {
     "name": "stdout",
     "output_type": "stream",
     "text": [
      "[86, 109, 155, 373, 446]\n"
     ]
    }
   ],
   "source": [
    "#  check all the rows with Romance,  Dating, Naked Chat, Telephone \n",
    "# Create a regular expression that matches any of the desired substrings\n",
    "regex3 = r'Purported|purported|Claim|claim|Claimed|claimed|Claiming|claiming|Purporting|purporting|impersonated|Impersonated|Impersonating|impersonating|Impersonation|impersonation|Impersonator|impersonator|Impersonators|impersonators|Impersonate|impersonate|Impersonates|impersonates|Impersonating|impersonating|Impersonation|impersonation|Impersonator|impersonator|Impersonators|impersonators|Impersonate|impersonate|Impersonates|impersonates|Impersonating|impersonating|Impersonation|impersonation|Impersonator|impersonator|Impersonators|impersonators|Impersonate|impersonate|Impersonates|impersonates|Impersonating|impersonating|Impersonation|impersonation|Impersonator|impersonator|Impersonators|impersonators|Impersonate|impersonate|Impersonates|impersonates|Impersonating|impersonating|Impersonation|impersonation|Impersonator|impersonator|Impersonators|impersonators|Impersonate|impersonate|Impersonates|impersonates|Impersonating|impersonating|Impersonation|impersonation|Impersonator|impersonator|Impersonators|impersonators|Impersonate|impersonate|Impersonates|impersonates|Impersonating|impersonating|Impersonation|impersonation|Impersonator|impersonator|Impersonators|impersonators|Impersonate|impersonate|Impersonates|impersonates|Impersonating|impersonating|Impersonation|impersonation|Impersonator|impersonator|Impersonators|impersonators|Impersonate|impersonate|Impersonates|impersonates|Impersonating|impersonating|Impersonation|impersonation|Impersonator|impersonator|Impersonators|impersonators|Impersonate|impersonate|Impersonates|impersonates|Impersonating|impersonating|Impersonation|impersonation|Impersonator|impersonator|Impersonators|impersonators|Impersonate|impersonate|Impersonates|impersonates|Impersonating|impersonating|Impersonation|imperson'\n",
    "\n",
    "# Create a boolean mask indicating the locations of matching values in col0\n",
    "match_mask = df['col0'].str.contains(regex3, na=False)\n",
    "\n",
    "# Get the index number of rows where col0 contains any of the desired substrings\n",
    "index_numbers = df.index[match_mask].tolist()\n",
    "\n",
    "print(index_numbers) "
   ]
  },
  {
   "cell_type": "code",
   "execution_count": null,
   "metadata": {},
   "outputs": [],
   "source": []
  }
 ],
 "metadata": {
  "kernelspec": {
   "display_name": "Python 3",
   "language": "python",
   "name": "python3"
  },
  "language_info": {
   "codemirror_mode": {
    "name": "ipython",
    "version": 3
   },
   "file_extension": ".py",
   "mimetype": "text/x-python",
   "name": "python",
   "nbconvert_exporter": "python",
   "pygments_lexer": "ipython3",
   "version": "3.10.6"
  },
  "orig_nbformat": 4,
  "vscode": {
   "interpreter": {
    "hash": "67e0cbc25fa4f5baaacba1240f401bc655b640f8e15cfc935dfee2e63491bdf4"
   }
  }
 },
 "nbformat": 4,
 "nbformat_minor": 2
}
